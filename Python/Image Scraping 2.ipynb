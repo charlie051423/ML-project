{
 "cells": [
  {
   "cell_type": "code",
   "execution_count": 0,
   "metadata": {
    "application/vnd.databricks.v1+cell": {
     "cellMetadata": {
      "byteLimit": 2048000,
      "rowLimit": 10000
     },
     "inputWidgets": {},
     "nuid": "5a3efd89-8776-4c7b-8101-a21ffc6f0cb2",
     "showTitle": false,
     "title": ""
    }
   },
   "outputs": [
    {
     "output_type": "display_data",
     "data": {
      "text/html": [
       "<style scoped>\n",
       "  .ansiout {\n",
       "    display: block;\n",
       "    unicode-bidi: embed;\n",
       "    white-space: pre-wrap;\n",
       "    word-wrap: break-word;\n",
       "    word-break: break-all;\n",
       "    font-family: \"Source Code Pro\", \"Menlo\", monospace;;\n",
       "    font-size: 13px;\n",
       "    color: #555;\n",
       "    margin-left: 4px;\n",
       "    line-height: 19px;\n",
       "  }\n",
       "</style>\n",
       "<div class=\"ansiout\"></div>"
      ]
     },
     "metadata": {
      "application/vnd.databricks.v1+output": {
       "addedWidgets": {},
       "arguments": {},
       "data": "<div class=\"ansiout\"></div>",
       "datasetInfos": [],
       "metadata": {},
       "removedWidgets": [],
       "type": "html"
      }
     },
     "output_type": "display_data"
    }
   ],
   "source": [
    "import os\n",
    "import pandas as pd\n",
    "import requests\n",
    "import json\n",
    "from PIL import Image\n",
    "import requests\n",
    "from io import BytesIO\n",
    "import time\n",
    "import urllib.request"
   ]
  },
  {
   "cell_type": "code",
   "execution_count": 0,
   "metadata": {
    "application/vnd.databricks.v1+cell": {
     "cellMetadata": {
      "byteLimit": 2048000,
      "rowLimit": 10000
     },
     "inputWidgets": {},
     "nuid": "55a47a83-a26b-4c02-a513-460fda9c4885",
     "showTitle": false,
     "title": ""
    }
   },
   "outputs": [
    {
     "output_type": "display_data",
     "data": {
      "text/html": [
       "<style scoped>\n",
       "  .ansiout {\n",
       "    display: block;\n",
       "    unicode-bidi: embed;\n",
       "    white-space: pre-wrap;\n",
       "    word-wrap: break-word;\n",
       "    word-break: break-all;\n",
       "    font-family: \"Source Code Pro\", \"Menlo\", monospace;;\n",
       "    font-size: 13px;\n",
       "    color: #555;\n",
       "    margin-left: 4px;\n",
       "    line-height: 19px;\n",
       "  }\n",
       "</style>\n",
       "<div class=\"ansiout\"></div>"
      ]
     },
     "metadata": {
      "application/vnd.databricks.v1+output": {
       "addedWidgets": {},
       "arguments": {},
       "data": "<div class=\"ansiout\"></div>",
       "datasetInfos": [],
       "metadata": {},
       "removedWidgets": [],
       "type": "html"
      }
     },
     "output_type": "display_data"
    }
   ],
   "source": [
    "container =\"data1\"\n",
    "data_path = f\"abfss://{container}@capstone2023cuhk.dfs.core.windows.net/\"\n",
    "df = spark.read.csv(os.path.join(data_path, \"AML-data\", \"Actual_Data_2021-2022\", \"ITEM_MATCHING_2021_BOOKS.csv\"), header=True)\n",
    "df2 = spark.read.csv(os.path.join(data_path, \"AML-data\", \"Actual_Data_2021-2022\", \"ITEM_MATCHING_2022_BOOKS.csv\"), header=True)\n",
    "df = df.toPandas()\n",
    "df2 = df2.toPandas()"
   ]
  },
  {
   "cell_type": "code",
   "execution_count": 0,
   "metadata": {
    "application/vnd.databricks.v1+cell": {
     "cellMetadata": {
      "byteLimit": 2048000,
      "rowLimit": 10000
     },
     "inputWidgets": {},
     "nuid": "9649eca2-14a5-4bd3-af32-9bc1dbcf087b",
     "showTitle": false,
     "title": ""
    }
   },
   "outputs": [
    {
     "output_type": "display_data",
     "data": {
      "text/html": [
       "<style scoped>\n",
       "  .ansiout {\n",
       "    display: block;\n",
       "    unicode-bidi: embed;\n",
       "    white-space: pre-wrap;\n",
       "    word-wrap: break-word;\n",
       "    word-break: break-all;\n",
       "    font-family: \"Source Code Pro\", \"Menlo\", monospace;;\n",
       "    font-size: 13px;\n",
       "    color: #555;\n",
       "    margin-left: 4px;\n",
       "    line-height: 19px;\n",
       "  }\n",
       "</style>\n",
       "<div class=\"ansiout\">Out[6]: </div>"
      ]
     },
     "metadata": {
      "application/vnd.databricks.v1+output": {
       "addedWidgets": {},
       "arguments": {},
       "data": "<div class=\"ansiout\">Out[6]: </div>",
       "datasetInfos": [],
       "metadata": {},
       "removedWidgets": [],
       "type": "html"
      }
     },
     "output_type": "display_data"
    },
    {
     "output_type": "display_data",
     "data": {
      "text/html": [
       "<div>\n",
       "<style scoped>\n",
       "    .dataframe tbody tr th:only-of-type {\n",
       "        vertical-align: middle;\n",
       "    }\n",
       "\n",
       "    .dataframe tbody tr th {\n",
       "        vertical-align: top;\n",
       "    }\n",
       "\n",
       "    .dataframe thead th {\n",
       "        text-align: right;\n",
       "    }\n",
       "</style>\n",
       "<table border=\"1\" class=\"dataframe\">\n",
       "  <thead>\n",
       "    <tr style=\"text-align: right;\">\n",
       "      <th></th>\n",
       "      <th>PRODUCT_ID</th>\n",
       "      <th>CREATE_DATE</th>\n",
       "      <th>TITLE</th>\n",
       "      <th>COST</th>\n",
       "      <th>PRICE</th>\n",
       "      <th>QTY_PURCHASE</th>\n",
       "      <th>QTY_SALES</th>\n",
       "      <th>QTY_STOCK</th>\n",
       "      <th>VENDOR</th>\n",
       "      <th>BRAND</th>\n",
       "      <th>PRD_CATEGORY</th>\n",
       "      <th>PRD_ORIGIN</th>\n",
       "      <th>ISBN13</th>\n",
       "      <th>PUBLISHER</th>\n",
       "      <th>AUTHOR</th>\n",
       "      <th>TRANSLATOR</th>\n",
       "      <th>BOOK_ORGPR</th>\n",
       "      <th>BOOK_DATE</th>\n",
       "      <th>BOOK_PAGES</th>\n",
       "      <th>BOOK_COVER</th>\n",
       "    </tr>\n",
       "  </thead>\n",
       "  <tbody>\n",
       "    <tr>\n",
       "      <th>0</th>\n",
       "      <td>9781783931835</td>\n",
       "      <td>2022-01-02 00:00:00.000</td>\n",
       "      <td>First 100: Pretty Pink Words</td>\n",
       "      <td>18.17</td>\n",
       "      <td>69.00</td>\n",
       "      <td>50</td>\n",
       "      <td>48</td>\n",
       "      <td>4</td>\n",
       "      <td>LBS</td>\n",
       "      <td>MBI</td>\n",
       "      <td>B.BK</td>\n",
       "      <td>UK</td>\n",
       "      <td>9781783931835</td>\n",
       "      <td>MBI</td>\n",
       "      <td></td>\n",
       "      <td></td>\n",
       "      <td>69.00</td>\n",
       "      <td>NULL</td>\n",
       "      <td>0</td>\n",
       "      <td>H</td>\n",
       "    </tr>\n",
       "    <tr>\n",
       "      <th>1</th>\n",
       "      <td>9781743638446</td>\n",
       "      <td>2022-01-03 00:00:00.000</td>\n",
       "      <td>1001 Cool Riddles and Tongue Twisters</td>\n",
       "      <td>13.74</td>\n",
       "      <td>59.00</td>\n",
       "      <td>142</td>\n",
       "      <td>137</td>\n",
       "      <td>0</td>\n",
       "      <td>HINKLER</td>\n",
       "      <td>HINKLER</td>\n",
       "      <td>J&amp;C</td>\n",
       "      <td>USA</td>\n",
       "      <td>9781743638446</td>\n",
       "      <td>HINKLER</td>\n",
       "      <td></td>\n",
       "      <td></td>\n",
       "      <td>59.00</td>\n",
       "      <td>NULL</td>\n",
       "      <td>208</td>\n",
       "      <td></td>\n",
       "    </tr>\n",
       "    <tr>\n",
       "      <th>2</th>\n",
       "      <td>9781743632918</td>\n",
       "      <td>2022-01-03 00:00:00.000</td>\n",
       "      <td>1001 Cool Gross Jokes</td>\n",
       "      <td>13.35</td>\n",
       "      <td>59.00</td>\n",
       "      <td>210</td>\n",
       "      <td>206</td>\n",
       "      <td>4</td>\n",
       "      <td>HINKLER</td>\n",
       "      <td>HINKLER</td>\n",
       "      <td>J&amp;C</td>\n",
       "      <td>USA</td>\n",
       "      <td>9781743632918</td>\n",
       "      <td>HINKLER</td>\n",
       "      <td></td>\n",
       "      <td></td>\n",
       "      <td>59.00</td>\n",
       "      <td>NULL</td>\n",
       "      <td>208</td>\n",
       "      <td></td>\n",
       "    </tr>\n",
       "    <tr>\n",
       "      <th>3</th>\n",
       "      <td>9781488902840</td>\n",
       "      <td>2022-01-03 00:00:00.000</td>\n",
       "      <td>Cool Kit!: Cool Gross Jokes</td>\n",
       "      <td>29.44</td>\n",
       "      <td>119.00</td>\n",
       "      <td>60</td>\n",
       "      <td>50</td>\n",
       "      <td>8</td>\n",
       "      <td>HINKLER</td>\n",
       "      <td>HINKLER</td>\n",
       "      <td>G/S</td>\n",
       "      <td>USA</td>\n",
       "      <td>9781488902840</td>\n",
       "      <td>HINKLER</td>\n",
       "      <td></td>\n",
       "      <td></td>\n",
       "      <td>119.00</td>\n",
       "      <td>NULL</td>\n",
       "      <td>0</td>\n",
       "      <td></td>\n",
       "    </tr>\n",
       "    <tr>\n",
       "      <th>4</th>\n",
       "      <td>9781742819860</td>\n",
       "      <td>2022-01-03 00:00:00.000</td>\n",
       "      <td>110% Fun Zap! Extra: Pom-Pom Pets</td>\n",
       "      <td>29.44</td>\n",
       "      <td>129.00</td>\n",
       "      <td>204</td>\n",
       "      <td>204</td>\n",
       "      <td>2</td>\n",
       "      <td>HINKLER</td>\n",
       "      <td>HINKLER</td>\n",
       "      <td>G/S</td>\n",
       "      <td>AUS</td>\n",
       "      <td>9781742819860</td>\n",
       "      <td>HINKLER</td>\n",
       "      <td></td>\n",
       "      <td></td>\n",
       "      <td>115.00</td>\n",
       "      <td>NULL</td>\n",
       "      <td>0</td>\n",
       "      <td></td>\n",
       "    </tr>\n",
       "    <tr>\n",
       "      <th>...</th>\n",
       "      <td>...</td>\n",
       "      <td>...</td>\n",
       "      <td>...</td>\n",
       "      <td>...</td>\n",
       "      <td>...</td>\n",
       "      <td>...</td>\n",
       "      <td>...</td>\n",
       "      <td>...</td>\n",
       "      <td>...</td>\n",
       "      <td>...</td>\n",
       "      <td>...</td>\n",
       "      <td>...</td>\n",
       "      <td>...</td>\n",
       "      <td>...</td>\n",
       "      <td>...</td>\n",
       "      <td>...</td>\n",
       "      <td>...</td>\n",
       "      <td>...</td>\n",
       "      <td>...</td>\n",
       "      <td>...</td>\n",
       "    </tr>\n",
       "    <tr>\n",
       "      <th>1834</th>\n",
       "      <td>9789865528638</td>\n",
       "      <td>2022-12-30 00:00:00.000</td>\n",
       "      <td>團圓禮物</td>\n",
       "      <td>72.80</td>\n",
       "      <td>208.00</td>\n",
       "      <td>160</td>\n",
       "      <td>48</td>\n",
       "      <td>112</td>\n",
       "      <td>HUNGHING</td>\n",
       "      <td>HOLIU</td>\n",
       "      <td>POPUP</td>\n",
       "      <td>TW</td>\n",
       "      <td>9789865528638</td>\n",
       "      <td>HOLIU</td>\n",
       "      <td></td>\n",
       "      <td></td>\n",
       "      <td>165.00</td>\n",
       "      <td>2022-12-30 00:00:00.000</td>\n",
       "      <td>0</td>\n",
       "      <td>H</td>\n",
       "    </tr>\n",
       "    <tr>\n",
       "      <th>1835</th>\n",
       "      <td>9789865528683</td>\n",
       "      <td>2022-12-30 00:00:00.000</td>\n",
       "      <td>新傳說十二生肖</td>\n",
       "      <td>166.60</td>\n",
       "      <td>399.00</td>\n",
       "      <td>50</td>\n",
       "      <td>50</td>\n",
       "      <td>0</td>\n",
       "      <td></td>\n",
       "      <td>HOLIU</td>\n",
       "      <td>POPUP</td>\n",
       "      <td>TW</td>\n",
       "      <td>9789865528683</td>\n",
       "      <td>HOLIU</td>\n",
       "      <td></td>\n",
       "      <td></td>\n",
       "      <td>298.00</td>\n",
       "      <td>2022-12-30 00:00:00.000</td>\n",
       "      <td>0</td>\n",
       "      <td>H</td>\n",
       "    </tr>\n",
       "    <tr>\n",
       "      <th>1836</th>\n",
       "      <td>9789578930889</td>\n",
       "      <td>2022-12-30 00:00:00.000</td>\n",
       "      <td>歡樂過新年</td>\n",
       "      <td>67.20</td>\n",
       "      <td>188.00</td>\n",
       "      <td>100</td>\n",
       "      <td>80</td>\n",
       "      <td>20</td>\n",
       "      <td>HUNGHING</td>\n",
       "      <td>HOLIU</td>\n",
       "      <td>POPUP</td>\n",
       "      <td>TW</td>\n",
       "      <td>9789578930889</td>\n",
       "      <td>HOLIU</td>\n",
       "      <td></td>\n",
       "      <td></td>\n",
       "      <td>150.00</td>\n",
       "      <td>2022-12-30 00:00:00.000</td>\n",
       "      <td>0</td>\n",
       "      <td>H</td>\n",
       "    </tr>\n",
       "    <tr>\n",
       "      <th>1837</th>\n",
       "      <td>9786267013823</td>\n",
       "      <td>2022-12-30 00:00:00.000</td>\n",
       "      <td>文字好好玩 (上冊)</td>\n",
       "      <td>87.36</td>\n",
       "      <td>195.00</td>\n",
       "      <td>36</td>\n",
       "      <td>67</td>\n",
       "      <td>-31</td>\n",
       "      <td>HUNGHING</td>\n",
       "      <td>HOLIU</td>\n",
       "      <td>POPUP</td>\n",
       "      <td>TW</td>\n",
       "      <td>9786267013823</td>\n",
       "      <td>HOLIU</td>\n",
       "      <td></td>\n",
       "      <td></td>\n",
       "      <td>195.00</td>\n",
       "      <td>2022-12-30 00:00:00.000</td>\n",
       "      <td>0</td>\n",
       "      <td></td>\n",
       "    </tr>\n",
       "    <tr>\n",
       "      <th>1838</th>\n",
       "      <td>9786267013830</td>\n",
       "      <td>2022-12-30 00:00:00.000</td>\n",
       "      <td>文字好好玩(下冊)</td>\n",
       "      <td>87.36</td>\n",
       "      <td>195.00</td>\n",
       "      <td>36</td>\n",
       "      <td>52</td>\n",
       "      <td>-16</td>\n",
       "      <td>HUNGHING</td>\n",
       "      <td>HOLIU</td>\n",
       "      <td>POPUP</td>\n",
       "      <td>TW</td>\n",
       "      <td>9786267013830</td>\n",
       "      <td>HOLIU</td>\n",
       "      <td></td>\n",
       "      <td></td>\n",
       "      <td>195.00</td>\n",
       "      <td>2022-12-30 00:00:00.000</td>\n",
       "      <td>0</td>\n",
       "      <td></td>\n",
       "    </tr>\n",
       "  </tbody>\n",
       "</table>\n",
       "<p>1839 rows × 20 columns</p>\n",
       "</div>"
      ]
     },
     "metadata": {
      "application/vnd.databricks.v1+output": {
       "addedWidgets": {},
       "arguments": {},
       "data": "<div>\n<style scoped>\n    .dataframe tbody tr th:only-of-type {\n        vertical-align: middle;\n    }\n\n    .dataframe tbody tr th {\n        vertical-align: top;\n    }\n\n    .dataframe thead th {\n        text-align: right;\n    }\n</style>\n<table border=\"1\" class=\"dataframe\">\n  <thead>\n    <tr style=\"text-align: right;\">\n      <th></th>\n      <th>PRODUCT_ID</th>\n      <th>CREATE_DATE</th>\n      <th>TITLE</th>\n      <th>COST</th>\n      <th>PRICE</th>\n      <th>QTY_PURCHASE</th>\n      <th>QTY_SALES</th>\n      <th>QTY_STOCK</th>\n      <th>VENDOR</th>\n      <th>BRAND</th>\n      <th>PRD_CATEGORY</th>\n      <th>PRD_ORIGIN</th>\n      <th>ISBN13</th>\n      <th>PUBLISHER</th>\n      <th>AUTHOR</th>\n      <th>TRANSLATOR</th>\n      <th>BOOK_ORGPR</th>\n      <th>BOOK_DATE</th>\n      <th>BOOK_PAGES</th>\n      <th>BOOK_COVER</th>\n    </tr>\n  </thead>\n  <tbody>\n    <tr>\n      <th>0</th>\n      <td>9781783931835</td>\n      <td>2022-01-02 00:00:00.000</td>\n      <td>First 100: Pretty Pink Words</td>\n      <td>18.17</td>\n      <td>69.00</td>\n      <td>50</td>\n      <td>48</td>\n      <td>4</td>\n      <td>LBS</td>\n      <td>MBI</td>\n      <td>B.BK</td>\n      <td>UK</td>\n      <td>9781783931835</td>\n      <td>MBI</td>\n      <td></td>\n      <td></td>\n      <td>69.00</td>\n      <td>NULL</td>\n      <td>0</td>\n      <td>H</td>\n    </tr>\n    <tr>\n      <th>1</th>\n      <td>9781743638446</td>\n      <td>2022-01-03 00:00:00.000</td>\n      <td>1001 Cool Riddles and Tongue Twisters</td>\n      <td>13.74</td>\n      <td>59.00</td>\n      <td>142</td>\n      <td>137</td>\n      <td>0</td>\n      <td>HINKLER</td>\n      <td>HINKLER</td>\n      <td>J&amp;C</td>\n      <td>USA</td>\n      <td>9781743638446</td>\n      <td>HINKLER</td>\n      <td></td>\n      <td></td>\n      <td>59.00</td>\n      <td>NULL</td>\n      <td>208</td>\n      <td></td>\n    </tr>\n    <tr>\n      <th>2</th>\n      <td>9781743632918</td>\n      <td>2022-01-03 00:00:00.000</td>\n      <td>1001 Cool Gross Jokes</td>\n      <td>13.35</td>\n      <td>59.00</td>\n      <td>210</td>\n      <td>206</td>\n      <td>4</td>\n      <td>HINKLER</td>\n      <td>HINKLER</td>\n      <td>J&amp;C</td>\n      <td>USA</td>\n      <td>9781743632918</td>\n      <td>HINKLER</td>\n      <td></td>\n      <td></td>\n      <td>59.00</td>\n      <td>NULL</td>\n      <td>208</td>\n      <td></td>\n    </tr>\n    <tr>\n      <th>3</th>\n      <td>9781488902840</td>\n      <td>2022-01-03 00:00:00.000</td>\n      <td>Cool Kit!: Cool Gross Jokes</td>\n      <td>29.44</td>\n      <td>119.00</td>\n      <td>60</td>\n      <td>50</td>\n      <td>8</td>\n      <td>HINKLER</td>\n      <td>HINKLER</td>\n      <td>G/S</td>\n      <td>USA</td>\n      <td>9781488902840</td>\n      <td>HINKLER</td>\n      <td></td>\n      <td></td>\n      <td>119.00</td>\n      <td>NULL</td>\n      <td>0</td>\n      <td></td>\n    </tr>\n    <tr>\n      <th>4</th>\n      <td>9781742819860</td>\n      <td>2022-01-03 00:00:00.000</td>\n      <td>110% Fun Zap! Extra: Pom-Pom Pets</td>\n      <td>29.44</td>\n      <td>129.00</td>\n      <td>204</td>\n      <td>204</td>\n      <td>2</td>\n      <td>HINKLER</td>\n      <td>HINKLER</td>\n      <td>G/S</td>\n      <td>AUS</td>\n      <td>9781742819860</td>\n      <td>HINKLER</td>\n      <td></td>\n      <td></td>\n      <td>115.00</td>\n      <td>NULL</td>\n      <td>0</td>\n      <td></td>\n    </tr>\n    <tr>\n      <th>...</th>\n      <td>...</td>\n      <td>...</td>\n      <td>...</td>\n      <td>...</td>\n      <td>...</td>\n      <td>...</td>\n      <td>...</td>\n      <td>...</td>\n      <td>...</td>\n      <td>...</td>\n      <td>...</td>\n      <td>...</td>\n      <td>...</td>\n      <td>...</td>\n      <td>...</td>\n      <td>...</td>\n      <td>...</td>\n      <td>...</td>\n      <td>...</td>\n      <td>...</td>\n    </tr>\n    <tr>\n      <th>1834</th>\n      <td>9789865528638</td>\n      <td>2022-12-30 00:00:00.000</td>\n      <td>團圓禮物</td>\n      <td>72.80</td>\n      <td>208.00</td>\n      <td>160</td>\n      <td>48</td>\n      <td>112</td>\n      <td>HUNGHING</td>\n      <td>HOLIU</td>\n      <td>POPUP</td>\n      <td>TW</td>\n      <td>9789865528638</td>\n      <td>HOLIU</td>\n      <td></td>\n      <td></td>\n      <td>165.00</td>\n      <td>2022-12-30 00:00:00.000</td>\n      <td>0</td>\n      <td>H</td>\n    </tr>\n    <tr>\n      <th>1835</th>\n      <td>9789865528683</td>\n      <td>2022-12-30 00:00:00.000</td>\n      <td>新傳說十二生肖</td>\n      <td>166.60</td>\n      <td>399.00</td>\n      <td>50</td>\n      <td>50</td>\n      <td>0</td>\n      <td></td>\n      <td>HOLIU</td>\n      <td>POPUP</td>\n      <td>TW</td>\n      <td>9789865528683</td>\n      <td>HOLIU</td>\n      <td></td>\n      <td></td>\n      <td>298.00</td>\n      <td>2022-12-30 00:00:00.000</td>\n      <td>0</td>\n      <td>H</td>\n    </tr>\n    <tr>\n      <th>1836</th>\n      <td>9789578930889</td>\n      <td>2022-12-30 00:00:00.000</td>\n      <td>歡樂過新年</td>\n      <td>67.20</td>\n      <td>188.00</td>\n      <td>100</td>\n      <td>80</td>\n      <td>20</td>\n      <td>HUNGHING</td>\n      <td>HOLIU</td>\n      <td>POPUP</td>\n      <td>TW</td>\n      <td>9789578930889</td>\n      <td>HOLIU</td>\n      <td></td>\n      <td></td>\n      <td>150.00</td>\n      <td>2022-12-30 00:00:00.000</td>\n      <td>0</td>\n      <td>H</td>\n    </tr>\n    <tr>\n      <th>1837</th>\n      <td>9786267013823</td>\n      <td>2022-12-30 00:00:00.000</td>\n      <td>文字好好玩 (上冊)</td>\n      <td>87.36</td>\n      <td>195.00</td>\n      <td>36</td>\n      <td>67</td>\n      <td>-31</td>\n      <td>HUNGHING</td>\n      <td>HOLIU</td>\n      <td>POPUP</td>\n      <td>TW</td>\n      <td>9786267013823</td>\n      <td>HOLIU</td>\n      <td></td>\n      <td></td>\n      <td>195.00</td>\n      <td>2022-12-30 00:00:00.000</td>\n      <td>0</td>\n      <td></td>\n    </tr>\n    <tr>\n      <th>1838</th>\n      <td>9786267013830</td>\n      <td>2022-12-30 00:00:00.000</td>\n      <td>文字好好玩(下冊)</td>\n      <td>87.36</td>\n      <td>195.00</td>\n      <td>36</td>\n      <td>52</td>\n      <td>-16</td>\n      <td>HUNGHING</td>\n      <td>HOLIU</td>\n      <td>POPUP</td>\n      <td>TW</td>\n      <td>9786267013830</td>\n      <td>HOLIU</td>\n      <td></td>\n      <td></td>\n      <td>195.00</td>\n      <td>2022-12-30 00:00:00.000</td>\n      <td>0</td>\n      <td></td>\n    </tr>\n  </tbody>\n</table>\n<p>1839 rows × 20 columns</p>\n</div>",
       "datasetInfos": [],
       "metadata": {},
       "removedWidgets": [],
       "textData": null,
       "type": "htmlSandbox"
      }
     },
     "output_type": "display_data"
    }
   ],
   "source": [
    "df"
   ]
  },
  {
   "cell_type": "code",
   "execution_count": 0,
   "metadata": {
    "application/vnd.databricks.v1+cell": {
     "cellMetadata": {
      "byteLimit": 2048000,
      "rowLimit": 10000
     },
     "inputWidgets": {},
     "nuid": "0a99209d-bb43-4820-80f5-8898df7a4e00",
     "showTitle": false,
     "title": ""
    }
   },
   "outputs": [
    {
     "output_type": "display_data",
     "data": {
      "text/html": [
       "<style scoped>\n",
       "  .ansiout {\n",
       "    display: block;\n",
       "    unicode-bidi: embed;\n",
       "    white-space: pre-wrap;\n",
       "    word-wrap: break-word;\n",
       "    word-break: break-all;\n",
       "    font-family: \"Source Code Pro\", \"Menlo\", monospace;;\n",
       "    font-size: 13px;\n",
       "    color: #555;\n",
       "    margin-left: 4px;\n",
       "    line-height: 19px;\n",
       "  }\n",
       "</style>\n",
       "<div class=\"ansiout\"></div>"
      ]
     },
     "metadata": {
      "application/vnd.databricks.v1+output": {
       "addedWidgets": {},
       "arguments": {},
       "data": "<div class=\"ansiout\"></div>",
       "datasetInfos": [],
       "metadata": {},
       "removedWidgets": [],
       "type": "html"
      }
     },
     "output_type": "display_data"
    }
   ],
   "source": [
    "HEADERS = ({'User-Agent':\n",
    "            'Mozilla/5.0 (X11; Linux x86_64) AppleWebKit/537.36 (KHTML, like Gecko) Chrome/44.0.2403.157 Safari/537.36',\n",
    "            'Accept-Language': 'en-US, en;q=0.5'})"
   ]
  },
  {
   "cell_type": "code",
   "execution_count": 0,
   "metadata": {
    "application/vnd.databricks.v1+cell": {
     "cellMetadata": {
      "byteLimit": 2048000,
      "rowLimit": 10000
     },
     "inputWidgets": {},
     "nuid": "9204911e-fb42-4199-ae23-3c994e1951c3",
     "showTitle": false,
     "title": ""
    }
   },
   "outputs": [
    {
     "output_type": "display_data",
     "data": {
      "text/html": [
       "<style scoped>\n",
       "  .ansiout {\n",
       "    display: block;\n",
       "    unicode-bidi: embed;\n",
       "    white-space: pre-wrap;\n",
       "    word-wrap: break-word;\n",
       "    word-break: break-all;\n",
       "    font-family: \"Source Code Pro\", \"Menlo\", monospace;;\n",
       "    font-size: 13px;\n",
       "    color: #555;\n",
       "    margin-left: 4px;\n",
       "    line-height: 19px;\n",
       "  }\n",
       "</style>\n",
       "<div class=\"ansiout\"></div>"
      ]
     },
     "metadata": {
      "application/vnd.databricks.v1+output": {
       "addedWidgets": {},
       "arguments": {},
       "data": "<div class=\"ansiout\"></div>",
       "datasetInfos": [],
       "metadata": {},
       "removedWidgets": [],
       "type": "html"
      }
     },
     "output_type": "display_data"
    }
   ],
   "source": [
    "headers = {'User-Agent': 'Mozilla/5.0 (Macintosh; Intel Mac OS X 10_10_1) AppleWebKit/537.36 (KHTML, like Gecko) Chrome/39.0.2171.95 Safari/537.36'}\n",
    "ua=UserAgent()\n",
    "hdr = {'User-Agent': ua.random,\n",
    "      'Accept': 'text/html,application/xhtml+xml,application/xml;q=0.9,*/*;q=0.8',\n",
    "      'Accept-Charset': 'ISO-8859-1,utf-8;q=0.7,*;q=0.3',\n",
    "      'Accept-Encoding': 'none',\n",
    "      'Accept-Language': 'en-US,en;q=0.8',\n",
    "      'Connection': 'keep-alive'}"
   ]
  },
  {
   "cell_type": "code",
   "execution_count": 0,
   "metadata": {
    "application/vnd.databricks.v1+cell": {
     "cellMetadata": {
      "byteLimit": 2048000,
      "rowLimit": 10000
     },
     "inputWidgets": {},
     "nuid": "9c421a2d-bf7c-4549-b210-cb798290c847",
     "showTitle": false,
     "title": ""
    }
   },
   "outputs": [
    {
     "output_type": "display_data",
     "data": {
      "text/html": [
       "<style scoped>\n",
       "  .ansiout {\n",
       "    display: block;\n",
       "    unicode-bidi: embed;\n",
       "    white-space: pre-wrap;\n",
       "    word-wrap: break-word;\n",
       "    word-break: break-all;\n",
       "    font-family: \"Source Code Pro\", \"Menlo\", monospace;;\n",
       "    font-size: 13px;\n",
       "    color: #555;\n",
       "    margin-left: 4px;\n",
       "    line-height: 19px;\n",
       "  }\n",
       "</style>\n",
       "<div class=\"ansiout\">Out[9]: 1525</div>"
      ]
     },
     "metadata": {
      "application/vnd.databricks.v1+output": {
       "addedWidgets": {},
       "arguments": {},
       "data": "<div class=\"ansiout\">Out[9]: 1525</div>",
       "datasetInfos": [],
       "metadata": {},
       "removedWidgets": [],
       "type": "html"
      }
     },
     "output_type": "display_data"
    }
   ],
   "source": [
    "ISBN13 = df['ISBN13']\n",
    "len(ISBN13)"
   ]
  },
  {
   "cell_type": "code",
   "execution_count": 0,
   "metadata": {
    "application/vnd.databricks.v1+cell": {
     "cellMetadata": {
      "byteLimit": 2048000,
      "rowLimit": 10000
     },
     "inputWidgets": {},
     "nuid": "c571c685-3838-4192-ba93-901d23f0109b",
     "showTitle": false,
     "title": ""
    }
   },
   "outputs": [
    {
     "output_type": "display_data",
     "data": {
      "text/html": [
       "<style scoped>\n",
       "  .ansiout {\n",
       "    display: block;\n",
       "    unicode-bidi: embed;\n",
       "    white-space: pre-wrap;\n",
       "    word-wrap: break-word;\n",
       "    word-break: break-all;\n",
       "    font-family: \"Source Code Pro\", \"Menlo\", monospace;;\n",
       "    font-size: 13px;\n",
       "    color: #555;\n",
       "    margin-left: 4px;\n",
       "    line-height: 19px;\n",
       "  }\n",
       "</style>\n",
       "<div class=\"ansiout\">Out[7]: 0     9781623708504 \n",
       "1     9781788241243 \n",
       "2     9781788241632 \n",
       "3     9781788241915 \n",
       "4     9781788242295 \n",
       "5     9781788242172 \n",
       "6     9781788241151 \n",
       "7     9781788241939 \n",
       "8     9781788241854 \n",
       "9     9781788241861 \n",
       "10    9781783735235 \n",
       "11    9781786901361 \n",
       "12    9781786902375 \n",
       "13    9781786902382 \n",
       "14    9781786902399 \n",
       "15    9781786902405 \n",
       "16    9781786902979 \n",
       "17    9781786907554 \n",
       "18    9781786907578 \n",
       "19    9781786909169 \n",
       "Name: ISBN13, dtype: object</div>"
      ]
     },
     "metadata": {
      "application/vnd.databricks.v1+output": {
       "addedWidgets": {},
       "arguments": {},
       "data": "<div class=\"ansiout\">Out[7]: 0     9781623708504 \n1     9781788241243 \n2     9781788241632 \n3     9781788241915 \n4     9781788242295 \n5     9781788242172 \n6     9781788241151 \n7     9781788241939 \n8     9781788241854 \n9     9781788241861 \n10    9781783735235 \n11    9781786901361 \n12    9781786902375 \n13    9781786902382 \n14    9781786902399 \n15    9781786902405 \n16    9781786902979 \n17    9781786907554 \n18    9781786907578 \n19    9781786909169 \nName: ISBN13, dtype: object</div>",
       "datasetInfos": [],
       "metadata": {},
       "removedWidgets": [],
       "type": "html"
      }
     },
     "output_type": "display_data"
    }
   ],
   "source": [
    "ISBN13[0:20]"
   ]
  },
  {
   "cell_type": "code",
   "execution_count": 0,
   "metadata": {
    "application/vnd.databricks.v1+cell": {
     "cellMetadata": {
      "byteLimit": 2048000,
      "rowLimit": 10000
     },
     "inputWidgets": {},
     "nuid": "fb4c8352-e6d3-4d57-867e-2f989395736c",
     "showTitle": false,
     "title": ""
    }
   },
   "outputs": [
    {
     "output_type": "display_data",
     "data": {
      "text/html": [
       "<style scoped>\n",
       "  .ansiout {\n",
       "    display: block;\n",
       "    unicode-bidi: embed;\n",
       "    white-space: pre-wrap;\n",
       "    word-wrap: break-word;\n",
       "    word-break: break-all;\n",
       "    font-family: \"Source Code Pro\", \"Menlo\", monospace;;\n",
       "    font-size: 13px;\n",
       "    color: #555;\n",
       "    margin-left: 4px;\n",
       "    line-height: 19px;\n",
       "  }\n",
       "</style>\n",
       "<div class=\"ansiout\">https://covers.openlibrary.org/b/isbn/9781783931835-S.jpg\n",
       "/dbfs/FileStore/9781783931835.jpg\n",
       "</div>"
      ]
     },
     "metadata": {
      "application/vnd.databricks.v1+output": {
       "addedWidgets": {},
       "arguments": {},
       "data": "<div class=\"ansiout\">https://covers.openlibrary.org/b/isbn/9781783931835-S.jpg\n/dbfs/FileStore/9781783931835.jpg\n</div>",
       "datasetInfos": [],
       "metadata": {},
       "removedWidgets": [],
       "type": "html"
      }
     },
     "output_type": "display_data"
    }
   ],
   "source": [
    "# urllib.request.urlretrieve(\"https://covers.openlibrary.org/b/isbn/9781783931835-S.jpg\", \"/dbfs/FileStore/9781783931835.jpg\")\n",
    "url = \"https://covers.openlibrary.org/b/isbn/$ISBN-S.jpg\"\n",
    "path = \"/dbfs/FileStore/$ISBN.jpg\"\n",
    "print(url.replace(\"$ISBN\",\"9781783931835\" ))\n",
    "print(path.replace(\"$ISBN\",\"9781783931835\" ))\n"
   ]
  },
  {
   "cell_type": "code",
   "execution_count": 0,
   "metadata": {
    "application/vnd.databricks.v1+cell": {
     "cellMetadata": {
      "byteLimit": 2048000,
      "rowLimit": 10000
     },
     "inputWidgets": {},
     "nuid": "cd5f9752-a26c-4bf6-b12f-7871c8d32171",
     "showTitle": false,
     "title": ""
    }
   },
   "outputs": [
    {
     "output_type": "display_data",
     "data": {
      "text/html": [
       "<style scoped>\n",
       "  .ansiout {\n",
       "    display: block;\n",
       "    unicode-bidi: embed;\n",
       "    white-space: pre-wrap;\n",
       "    word-wrap: break-word;\n",
       "    word-break: break-all;\n",
       "    font-family: \"Source Code Pro\", \"Menlo\", monospace;;\n",
       "    font-size: 13px;\n",
       "    color: #555;\n",
       "    margin-left: 4px;\n",
       "    line-height: 19px;\n",
       "  }\n",
       "</style>\n",
       "<div class=\"ansiout\"></div>"
      ]
     },
     "metadata": {
      "application/vnd.databricks.v1+output": {
       "addedWidgets": {},
       "arguments": {},
       "data": "<div class=\"ansiout\"></div>",
       "datasetInfos": [],
       "metadata": {},
       "removedWidgets": [],
       "type": "html"
      }
     },
     "output_type": "display_data"
    }
   ],
   "source": [
    "from operator import is_not\n",
    "from functools import partial\n",
    "ISBN13 = ISBN13.dropna()\n",
    "ISBN13 = list(filter(partial(is_not, None), ISBN13))\n"
   ]
  },
  {
   "cell_type": "code",
   "execution_count": 0,
   "metadata": {
    "application/vnd.databricks.v1+cell": {
     "cellMetadata": {
      "byteLimit": 2048000,
      "rowLimit": 10000
     },
     "inputWidgets": {},
     "nuid": "58e45542-61ce-458a-a21b-2407104518e3",
     "showTitle": false,
     "title": ""
    }
   },
   "outputs": [
    {
     "output_type": "display_data",
     "data": {
      "text/html": [
       "<style scoped>\n",
       "  .ansiout {\n",
       "    display: block;\n",
       "    unicode-bidi: embed;\n",
       "    white-space: pre-wrap;\n",
       "    word-wrap: break-word;\n",
       "    word-break: break-all;\n",
       "    font-family: \"Source Code Pro\", \"Menlo\", monospace;;\n",
       "    font-size: 13px;\n",
       "    color: #555;\n",
       "    margin-left: 4px;\n",
       "    line-height: 19px;\n",
       "  }\n",
       "</style>\n",
       "<div class=\"ansiout\">Out[10]: 0     9781623708504 \n",
       "1     9781788241243 \n",
       "2     9781788241632 \n",
       "3     9781788241915 \n",
       "4     9781788242295 \n",
       "5     9781788242172 \n",
       "6     9781788241151 \n",
       "7     9781788241939 \n",
       "8     9781788241854 \n",
       "9     9781788241861 \n",
       "10    9781783735235 \n",
       "11    9781786901361 \n",
       "12    9781786902375 \n",
       "13    9781786902382 \n",
       "14    9781786902399 \n",
       "15    9781786902405 \n",
       "16    9781786902979 \n",
       "17    9781786907554 \n",
       "18    9781786907578 \n",
       "19    9781786909169 \n",
       "20    9781839230912 \n",
       "21    9781839230936 \n",
       "22    9781839232404 \n",
       "23    9781786906960 \n",
       "24    9781786909312 \n",
       "25    9781786909329 \n",
       "26    9781786909336 \n",
       "27    9781910764565 \n",
       "28    9781910764596 \n",
       "29    9781911461258 \n",
       "30    9781911461876 \n",
       "31    9781912841646 \n",
       "32    9781912841653 \n",
       "33    9781912841721 \n",
       "34    9781912841837 \n",
       "35    9781912841912 \n",
       "36    9781912841936 \n",
       "37    9781912841943 \n",
       "38    9781913072209 \n",
       "39    9781913072223 \n",
       "40    9781913110024 \n",
       "41    9781913399108 \n",
       "42    9781913399429 \n",
       "43    9781913399474 \n",
       "44    9781913399481 \n",
       "45    9781786909299 \n",
       "46    9781786909305 \n",
       "47    9781786907110 \n",
       "48    9781786907226 \n",
       "49    9781786909244 \n",
       "Name: ISBN13, dtype: object</div>"
      ]
     },
     "metadata": {
      "application/vnd.databricks.v1+output": {
       "addedWidgets": {},
       "arguments": {},
       "data": "<div class=\"ansiout\">Out[10]: 0     9781623708504 \n1     9781788241243 \n2     9781788241632 \n3     9781788241915 \n4     9781788242295 \n5     9781788242172 \n6     9781788241151 \n7     9781788241939 \n8     9781788241854 \n9     9781788241861 \n10    9781783735235 \n11    9781786901361 \n12    9781786902375 \n13    9781786902382 \n14    9781786902399 \n15    9781786902405 \n16    9781786902979 \n17    9781786907554 \n18    9781786907578 \n19    9781786909169 \n20    9781839230912 \n21    9781839230936 \n22    9781839232404 \n23    9781786906960 \n24    9781786909312 \n25    9781786909329 \n26    9781786909336 \n27    9781910764565 \n28    9781910764596 \n29    9781911461258 \n30    9781911461876 \n31    9781912841646 \n32    9781912841653 \n33    9781912841721 \n34    9781912841837 \n35    9781912841912 \n36    9781912841936 \n37    9781912841943 \n38    9781913072209 \n39    9781913072223 \n40    9781913110024 \n41    9781913399108 \n42    9781913399429 \n43    9781913399474 \n44    9781913399481 \n45    9781786909299 \n46    9781786909305 \n47    9781786907110 \n48    9781786907226 \n49    9781786909244 \nName: ISBN13, dtype: object</div>",
       "datasetInfos": [],
       "metadata": {},
       "removedWidgets": [],
       "type": "html"
      }
     },
     "output_type": "display_data"
    }
   ],
   "source": [
    "ISBN13[0:50]"
   ]
  },
  {
   "cell_type": "code",
   "execution_count": 0,
   "metadata": {
    "application/vnd.databricks.v1+cell": {
     "cellMetadata": {
      "byteLimit": 2048000,
      "rowLimit": 10000
     },
     "inputWidgets": {},
     "nuid": "029690dd-c64d-4056-b9dc-f2666ea23c50",
     "showTitle": false,
     "title": ""
    }
   },
   "outputs": [
    {
     "output_type": "display_data",
     "data": {
      "text/html": [
       "<style scoped>\n",
       "  .ansiout {\n",
       "    display: block;\n",
       "    unicode-bidi: embed;\n",
       "    white-space: pre-wrap;\n",
       "    word-wrap: break-word;\n",
       "    word-break: break-all;\n",
       "    font-family: \"Source Code Pro\", \"Menlo\", monospace;;\n",
       "    font-size: 13px;\n",
       "    color: #555;\n",
       "    margin-left: 4px;\n",
       "    line-height: 19px;\n",
       "  }\n",
       "</style>\n",
       "<div class=\"ansiout\">https://covers.openlibrary.org/b/isbn/9780593354315-M.jpg\n",
       "/dbfs/FileStore/Bookimages2022/9780593354315.jpg\n",
       "0\n",
       "https://covers.openlibrary.org/b/isbn/9780593376942-M.jpg\n",
       "/dbfs/FileStore/Bookimages2022/9780593376942.jpg\n",
       "1\n",
       "https://covers.openlibrary.org/b/isbn/9780593305478-M.jpg\n",
       "/dbfs/FileStore/Bookimages2022/9780593305478.jpg\n",
       "2\n",
       "https://covers.openlibrary.org/b/isbn/9780593093795-M.jpg\n",
       "/dbfs/FileStore/Bookimages2022/9780593093795.jpg\n",
       "3\n",
       "https://covers.openlibrary.org/b/isbn/9780593093825-M.jpg\n",
       "/dbfs/FileStore/Bookimages2022/9780593093825.jpg\n",
       "4\n",
       "https://covers.openlibrary.org/b/isbn/9780593095713-M.jpg\n",
       "/dbfs/FileStore/Bookimages2022/9780593095713.jpg\n",
       "5\n",
       "https://covers.openlibrary.org/b/isbn/9780593095744-M.jpg\n",
       "/dbfs/FileStore/Bookimages2022/9780593095744.jpg\n",
       "6\n",
       "https://covers.openlibrary.org/b/isbn/9780593095775-M.jpg\n",
       "/dbfs/FileStore/Bookimages2022/9780593095775.jpg\n",
       "7\n",
       "https://covers.openlibrary.org/b/isbn/9780593124468-M.jpg\n",
       "/dbfs/FileStore/Bookimages2022/9780593124468.jpg\n",
       "8\n",
       "https://covers.openlibrary.org/b/isbn/9780593124581-M.jpg\n",
       "/dbfs/FileStore/Bookimages2022/9780593124581.jpg\n",
       "9\n",
       "https://covers.openlibrary.org/b/isbn/9780593127261-M.jpg\n",
       "/dbfs/FileStore/Bookimages2022/9780593127261.jpg\n",
       "10\n",
       "https://covers.openlibrary.org/b/isbn/9780593173138-M.jpg\n",
       "/dbfs/FileStore/Bookimages2022/9780593173138.jpg\n",
       "11\n",
       "https://covers.openlibrary.org/b/isbn/9780593173152-M.jpg\n",
       "/dbfs/FileStore/Bookimages2022/9780593173152.jpg\n",
       "12\n",
       "https://covers.openlibrary.org/b/isbn/9780553496710-M.jpg\n",
       "/dbfs/FileStore/Bookimages2022/9780553496710.jpg\n",
       "13\n",
       "https://covers.openlibrary.org/b/isbn/9780593222737-M.jpg\n",
       "/dbfs/FileStore/Bookimages2022/9780593222737.jpg\n",
       "14\n",
       "https://covers.openlibrary.org/b/isbn/9780593222744-M.jpg\n",
       "/dbfs/FileStore/Bookimages2022/9780593222744.jpg\n",
       "15\n",
       "https://covers.openlibrary.org/b/isbn/9780593225677-M.jpg\n",
       "/dbfs/FileStore/Bookimages2022/9780593225677.jpg\n",
       "16\n",
       "https://covers.openlibrary.org/b/isbn/9780593225707-M.jpg\n",
       "/dbfs/FileStore/Bookimages2022/9780593225707.jpg\n",
       "17\n",
       "https://covers.openlibrary.org/b/isbn/9780525647676-M.jpg\n",
       "/dbfs/FileStore/Bookimages2022/9780525647676.jpg\n",
       "18\n",
       "https://covers.openlibrary.org/b/isbn/9780241377284-M.jpg\n",
       "/dbfs/FileStore/Bookimages2022/9780241377284.jpg\n",
       "19\n",
       "https://covers.openlibrary.org/b/isbn/9781984893178-M.jpg\n",
       "/dbfs/FileStore/Bookimages2022/9781984893178.jpg\n",
       "20\n",
       "https://covers.openlibrary.org/b/isbn/9781984893239-M.jpg\n",
       "/dbfs/FileStore/Bookimages2022/9781984893239.jpg\n",
       "21\n",
       "https://covers.openlibrary.org/b/isbn/9781984895639-M.jpg\n",
       "/dbfs/FileStore/Bookimages2022/9781984895639.jpg\n",
       "22\n",
       "https://covers.openlibrary.org/b/isbn/9781984893918-M.jpg\n",
       "/dbfs/FileStore/Bookimages2022/9781984893918.jpg\n",
       "23\n",
       "https://covers.openlibrary.org/b/isbn/9781984895110-M.jpg\n",
       "/dbfs/FileStore/Bookimages2022/9781984895110.jpg\n",
       "24\n",
       "https://covers.openlibrary.org/b/isbn/9781984830951-M.jpg\n",
       "/dbfs/FileStore/Bookimages2022/9781984830951.jpg\n",
       "25\n",
       "https://covers.openlibrary.org/b/isbn/9789814906555-M.jpg\n",
       "/dbfs/FileStore/Bookimages2022/9789814906555.jpg\n",
       "26\n",
       "https://covers.openlibrary.org/b/isbn/9789814918039-M.jpg\n",
       "/dbfs/FileStore/Bookimages2022/9789814918039.jpg\n",
       "27\n",
       "https://covers.openlibrary.org/b/isbn/9789814947640-M.jpg\n",
       "/dbfs/FileStore/Bookimages2022/9789814947640.jpg\n",
       "28\n",
       "https://covers.openlibrary.org/b/isbn/9780525648703-M.jpg\n",
       "/dbfs/FileStore/Bookimages2022/9780525648703.jpg\n",
       "29\n",
       "https://covers.openlibrary.org/b/isbn/9780593301371-M.jpg\n",
       "/dbfs/FileStore/Bookimages2022/9780593301371.jpg\n",
       "30\n",
       "https://covers.openlibrary.org/b/isbn/9780593303351-M.jpg\n",
       "/dbfs/FileStore/Bookimages2022/9780593303351.jpg\n",
       "31\n",
       "https://covers.openlibrary.org/b/isbn/9780593178065-M.jpg\n",
       "/dbfs/FileStore/Bookimages2022/9780593178065.jpg\n",
       "32\n",
       "https://covers.openlibrary.org/b/isbn/9780593180297-M.jpg\n",
       "/dbfs/FileStore/Bookimages2022/9780593180297.jpg\n",
       "33\n",
       "https://covers.openlibrary.org/b/isbn/9780593120842-M.jpg\n",
       "/dbfs/FileStore/Bookimages2022/9780593120842.jpg\n",
       "34\n",
       "https://covers.openlibrary.org/b/isbn/9780593122129-M.jpg\n",
       "/dbfs/FileStore/Bookimages2022/9780593122129.jpg\n",
       "35\n",
       "https://covers.openlibrary.org/b/isbn/9780593306161-M.jpg\n",
       "/dbfs/FileStore/Bookimages2022/9780593306161.jpg\n",
       "36\n",
       "https://covers.openlibrary.org/b/isbn/9780593306185-M.jpg\n",
       "/dbfs/FileStore/Bookimages2022/9780593306185.jpg\n",
       "37\n",
       "https://covers.openlibrary.org/b/isbn/9780593304365-M.jpg\n",
       "/dbfs/FileStore/Bookimages2022/9780593304365.jpg\n",
       "38\n",
       "https://covers.openlibrary.org/b/isbn/9780593305089-M.jpg\n",
       "/dbfs/FileStore/Bookimages2022/9780593305089.jpg\n",
       "39\n",
       "https://covers.openlibrary.org/b/isbn/9780593305171-M.jpg\n",
       "/dbfs/FileStore/Bookimages2022/9780593305171.jpg\n",
       "40\n",
       "https://covers.openlibrary.org/b/isbn/9780593425480-M.jpg\n",
       "/dbfs/FileStore/Bookimages2022/9780593425480.jpg\n",
       "41\n",
       "https://covers.openlibrary.org/b/isbn/9780593425497-M.jpg\n",
       "/dbfs/FileStore/Bookimages2022/9780593425497.jpg\n",
       "42\n",
       "https://covers.openlibrary.org/b/isbn/9780593425503-M.jpg\n",
       "/dbfs/FileStore/Bookimages2022/9780593425503.jpg\n",
       "43\n",
       "https://covers.openlibrary.org/b/isbn/9780736438704-M.jpg\n",
       "/dbfs/FileStore/Bookimages2022/9780736438704.jpg\n",
       "44\n",
       "https://covers.openlibrary.org/b/isbn/9780736439206-M.jpg\n",
       "/dbfs/FileStore/Bookimages2022/9780736439206.jpg\n",
       "45\n",
       "https://covers.openlibrary.org/b/isbn/9781338702446-M.jpg\n",
       "/dbfs/FileStore/Bookimages2022/9781338702446.jpg\n",
       "46\n",
       "https://covers.openlibrary.org/b/isbn/9781338347463-M.jpg\n",
       "/dbfs/FileStore/Bookimages2022/9781338347463.jpg\n",
       "47\n",
       "https://covers.openlibrary.org/b/isbn/9781338347487-M.jpg\n",
       "/dbfs/FileStore/Bookimages2022/9781338347487.jpg\n",
       "48\n",
       "https://covers.openlibrary.org/b/isbn/9781338347500-M.jpg\n",
       "/dbfs/FileStore/Bookimages2022/9781338347500.jpg\n",
       "49\n",
       "https://covers.openlibrary.org/b/isbn/9781338530124-M.jpg\n",
       "/dbfs/FileStore/Bookimages2022/9781338530124.jpg\n",
       "50\n",
       "https://covers.openlibrary.org/b/isbn/9781338587357-M.jpg\n",
       "/dbfs/FileStore/Bookimages2022/9781338587357.jpg\n",
       "51\n",
       "https://covers.openlibrary.org/b/isbn/9781338596649-M.jpg\n",
       "/dbfs/FileStore/Bookimages2022/9781338596649.jpg\n",
       "52\n",
       "https://covers.openlibrary.org/b/isbn/9781338625318-M.jpg\n",
       "/dbfs/FileStore/Bookimages2022/9781338625318.jpg\n",
       "53\n",
       "https://covers.openlibrary.org/b/isbn/9781338666373-M.jpg\n",
       "/dbfs/FileStore/Bookimages2022/9781338666373.jpg\n",
       "54\n",
       "https://covers.openlibrary.org/b/isbn/9780736440134-M.jpg\n",
       "/dbfs/FileStore/Bookimages2022/9780736440134.jpg\n",
       "55\n",
       "https://covers.openlibrary.org/b/isbn/9780736440288-M.jpg\n",
       "/dbfs/FileStore/Bookimages2022/9780736440288.jpg\n",
       "56\n",
       "https://covers.openlibrary.org/b/isbn/9780736440554-M.jpg\n",
       "/dbfs/FileStore/Bookimages2022/9780736440554.jpg\n",
       "57\n",
       "https://covers.openlibrary.org/b/isbn/9780736440820-M.jpg\n",
       "/dbfs/FileStore/Bookimages2022/9780736440820.jpg\n",
       "58\n",
       "https://covers.openlibrary.org/b/isbn/9780736440998-M.jpg\n",
       "/dbfs/FileStore/Bookimages2022/9780736440998.jpg\n",
       "59\n",
       "https://covers.openlibrary.org/b/isbn/9780736441131-M.jpg\n",
       "/dbfs/FileStore/Bookimages2022/9780736441131.jpg\n",
       "60\n",
       "https://covers.openlibrary.org/b/isbn/9780736441346-M.jpg\n",
       "/dbfs/FileStore/Bookimages2022/9780736441346.jpg\n",
       "61\n",
       "https://covers.openlibrary.org/b/isbn/9780736439855-M.jpg\n",
       "/dbfs/FileStore/Bookimages2022/9780736439855.jpg\n",
       "62\n",
       "https://covers.openlibrary.org/b/isbn/9781524715540-M.jpg\n",
       "/dbfs/FileStore/Bookimages2022/9781524715540.jpg\n",
       "63\n",
       "https://covers.openlibrary.org/b/isbn/9781524771911-M.jpg\n",
       "/dbfs/FileStore/Bookimages2022/9781524771911.jpg\n",
       "64\n",
       "https://covers.openlibrary.org/b/isbn/9781524772352-M.jpg\n",
       "/dbfs/FileStore/Bookimages2022/9781524772352.jpg\n",
       "65\n",
       "https://covers.openlibrary.org/b/isbn/9781338635454-M.jpg\n",
       "/dbfs/FileStore/Bookimages2022/9781338635454.jpg\n",
       "66\n",
       "https://covers.openlibrary.org/b/isbn/9781338356182-M.jpg\n",
       "/dbfs/FileStore/Bookimages2022/9781338356182.jpg\n",
       "67\n",
       "https://covers.openlibrary.org/b/isbn/9781338598896-M.jpg\n",
       "/dbfs/FileStore/Bookimages2022/9781338598896.jpg\n",
       "68\n",
       "https://covers.openlibrary.org/b/isbn/9781338320244-M.jpg\n",
       "/dbfs/FileStore/Bookimages2022/9781338320244.jpg\n",
       "69\n",
       "https://covers.openlibrary.org/b/isbn/9781338323450-M.jpg\n",
       "/dbfs/FileStore/Bookimages2022/9781338323450.jpg\n",
       "70\n",
       "https://covers.openlibrary.org/b/isbn/9781338344219-M.jpg\n",
       "/dbfs/FileStore/Bookimages2022/9781338344219.jpg\n",
       "71\n",
       "https://covers.openlibrary.org/b/isbn/9781338053623-M.jpg\n",
       "/dbfs/FileStore/Bookimages2022/9781338053623.jpg\n",
       "72\n",
       "https://covers.openlibrary.org/b/isbn/9781338214604-M.jpg\n",
       "/dbfs/FileStore/Bookimages2022/9781338214604.jpg\n",
       "73\n",
       "https://covers.openlibrary.org/b/isbn/9781338236132-M.jpg\n",
       "/dbfs/FileStore/Bookimages2022/9781338236132.jpg\n",
       "74\n",
       "https://covers.openlibrary.org/b/isbn/9781338298758-M.jpg\n",
       "/dbfs/FileStore/Bookimages2022/9781338298758.jpg\n",
       "75\n",
       "https://covers.openlibrary.org/b/isbn/9781338298796-M.jpg\n",
       "/dbfs/FileStore/Bookimages2022/9781338298796.jpg\n",
       "76\n",
       "https://covers.openlibrary.org/b/isbn/9781338304572-M.jpg\n",
       "/dbfs/FileStore/Bookimages2022/9781338304572.jpg\n",
       "77\n",
       "https://covers.openlibrary.org/b/isbn/9781338725124-M.jpg\n",
       "/dbfs/FileStore/Bookimages2022/9781338725124.jpg\n",
       "78\n",
       "https://covers.openlibrary.org/b/isbn/9780545946100-M.jpg\n",
       "/dbfs/FileStore/Bookimages2022/9780545946100.jpg\n",
       "79\n",
       "https://covers.openlibrary.org/b/isbn/9789814919982-M.jpg\n",
       "/dbfs/FileStore/Bookimages2022/9789814919982.jpg\n",
       "80\n",
       "https://covers.openlibrary.org/b/isbn/9781984830975-M.jpg\n",
       "/dbfs/FileStore/Bookimages2022/9781984830975.jpg\n",
       "81\n",
       "https://covers.openlibrary.org/b/isbn/9781984895219-M.jpg\n",
       "/dbfs/FileStore/Bookimages2022/9781984895219.jpg\n",
       "82\n",
       "https://covers.openlibrary.org/b/isbn/9781984849823-M.jpg\n",
       "/dbfs/FileStore/Bookimages2022/9781984849823.jpg\n",
       "83\n",
       "https://covers.openlibrary.org/b/isbn/9781984850270-M.jpg\n",
       "/dbfs/FileStore/Bookimages2022/9781984850270.jpg\n",
       "84\n",
       "https://covers.openlibrary.org/b/isbn/9780525648512-M.jpg\n",
       "/dbfs/FileStore/Bookimages2022/9780525648512.jpg\n",
       "85\n",
       "https://covers.openlibrary.org/b/isbn/9780553510928-M.jpg\n",
       "/dbfs/FileStore/Bookimages2022/9780553510928.jpg\n",
       "86\n",
       "https://covers.openlibrary.org/b/isbn/9780593304334-M.jpg\n",
       "/dbfs/FileStore/Bookimages2022/9780593304334.jpg\n",
       "87\n",
       "https://covers.openlibrary.org/b/isbn/9780525580782-M.jpg\n",
       "/dbfs/FileStore/Bookimages2022/9780525580782.jpg\n",
       "88\n",
       "https://covers.openlibrary.org/b/isbn/9781338715996-M.jpg\n",
       "/dbfs/FileStore/Bookimages2022/9781338715996.jpg\n",
       "89\n",
       "https://covers.openlibrary.org/b/isbn/9781338214543-M.jpg\n",
       "/dbfs/FileStore/Bookimages2022/9781338214543.jpg\n",
       "90\n",
       "https://covers.openlibrary.org/b/isbn/9781338684971-M.jpg\n",
       "/dbfs/FileStore/Bookimages2022/9781338684971.jpg\n",
       "91\n",
       "https://covers.openlibrary.org/b/isbn/9781338685015-M.jpg\n",
       "/dbfs/FileStore/Bookimages2022/9781338685015.jpg\n",
       "92\n",
       "https://covers.openlibrary.org/b/isbn/9781338672114-M.jpg\n",
       "/dbfs/FileStore/Bookimages2022/9781338672114.jpg\n",
       "93\n",
       "https://covers.openlibrary.org/b/isbn/9780736439879-M.jpg\n",
       "/dbfs/FileStore/Bookimages2022/9780736439879.jpg\n",
       "94\n",
       "https://covers.openlibrary.org/b/isbn/9789814864084-M.jpg\n",
       "/dbfs/FileStore/Bookimages2022/9789814864084.jpg\n",
       "95\n",
       "https://covers.openlibrary.org/b/isbn/9789814864091-M.jpg\n",
       "/dbfs/FileStore/Bookimages2022/9789814864091.jpg\n",
       "96\n",
       "https://covers.openlibrary.org/b/isbn/9789814906517-M.jpg\n",
       "/dbfs/FileStore/Bookimages2022/9789814906517.jpg\n",
       "97\n",
       "https://covers.openlibrary.org/b/isbn/9781338320268-M.jpg\n",
       "/dbfs/FileStore/Bookimages2022/9781338320268.jpg\n",
       "98\n",
       "https://covers.openlibrary.org/b/isbn/9780241430217-M.jpg\n",
       "/dbfs/FileStore/Bookimages2022/9780241430217.jpg\n",
       "99\n",
       "https://covers.openlibrary.org/b/isbn/9780241448267-M.jpg\n",
       "/dbfs/FileStore/Bookimages2022/9780241448267.jpg\n",
       "100\n",
       "https://covers.openlibrary.org/b/isbn/9780241426692-M.jpg\n",
       "/dbfs/FileStore/Bookimages2022/9780241426692.jpg\n",
       "101\n",
       "https://covers.openlibrary.org/b/isbn/9780241416723-M.jpg\n",
       "/dbfs/FileStore/Bookimages2022/9780241416723.jpg\n",
       "102\n",
       "https://covers.openlibrary.org/b/isbn/9780241416747-M.jpg\n",
       "/dbfs/FileStore/Bookimages2022/9780241416747.jpg\n",
       "103\n",
       "https://covers.openlibrary.org/b/isbn/9780241476260-M.jpg\n",
       "/dbfs/FileStore/Bookimages2022/9780241476260.jpg\n",
       "104\n",
       "https://covers.openlibrary.org/b/isbn/9780241476345-M.jpg\n",
       "/dbfs/FileStore/Bookimages2022/9780241476345.jpg\n",
       "105\n",
       "https://covers.openlibrary.org/b/isbn/9780241420218-M.jpg\n",
       "/dbfs/FileStore/Bookimages2022/9780241420218.jpg\n",
       "106\n",
       "https://covers.openlibrary.org/b/isbn/9780241365991-M.jpg\n",
       "/dbfs/FileStore/Bookimages2022/9780241365991.jpg\n",
       "107\n",
       "https://covers.openlibrary.org/b/isbn/9780241373354-M.jpg\n",
       "/dbfs/FileStore/Bookimages2022/9780241373354.jpg\n",
       "108\n",
       "https://covers.openlibrary.org/b/isbn/9780241412084-M.jpg\n",
       "/dbfs/FileStore/Bookimages2022/9780241412084.jpg\n",
       "109\n",
       "https://covers.openlibrary.org/b/isbn/9780241412251-M.jpg\n",
       "/dbfs/FileStore/Bookimages2022/9780241412251.jpg\n",
       "110\n",
       "https://covers.openlibrary.org/b/isbn/9780241380260-M.jpg\n",
       "/dbfs/FileStore/Bookimages2022/9780241380260.jpg\n",
       "111\n",
       "https://covers.openlibrary.org/b/isbn/9780241380314-M.jpg\n",
       "/dbfs/FileStore/Bookimages2022/9780241380314.jpg\n",
       "112\n",
       "https://covers.openlibrary.org/b/isbn/9780241382554-M.jpg\n",
       "/dbfs/FileStore/Bookimages2022/9780241382554.jpg\n",
       "113\n",
       "https://covers.openlibrary.org/b/isbn/9780241382578-M.jpg\n",
       "/dbfs/FileStore/Bookimages2022/9780241382578.jpg\n",
       "114\n",
       "https://covers.openlibrary.org/b/isbn/9780141377896-M.jpg\n",
       "/dbfs/FileStore/Bookimages2022/9780141377896.jpg\n",
       "115\n",
       "https://covers.openlibrary.org/b/isbn/9781800589278-M.jpg\n",
       "/dbfs/FileStore/Bookimages2022/9781800589278.jpg\n",
       "116\n",
       "https://covers.openlibrary.org/b/isbn/9781800589292-M.jpg\n",
       "/dbfs/FileStore/Bookimages2022/9781800589292.jpg\n",
       "117\n",
       "https://covers.openlibrary.org/b/isbn/9781800589308-M.jpg\n",
       "/dbfs/FileStore/Bookimages2022/9781800589308.jpg\n",
       "118\n",
       "https://covers.openlibrary.org/b/isbn/9781800589315-M.jpg\n",
       "/dbfs/FileStore/Bookimages2022/9781800589315.jpg\n",
       "119\n",
       "https://covers.openlibrary.org/b/isbn/9781800589339-M.jpg\n",
       "/dbfs/FileStore/Bookimages2022/9781800589339.jpg\n",
       "120\n",
       "https://covers.openlibrary.org/b/isbn/9781800589346-M.jpg\n",
       "/dbfs/FileStore/Bookimages2022/9781800589346.jpg\n",
       "121\n",
       "https://covers.openlibrary.org/b/isbn/9781800589353-M.jpg\n",
       "/dbfs/FileStore/Bookimages2022/9781800589353.jpg\n",
       "122\n",
       "https://covers.openlibrary.org/b/isbn/9781800589360-M.jpg\n",
       "/dbfs/FileStore/Bookimages2022/9781800589360.jpg\n",
       "123\n",
       "https://covers.openlibrary.org/b/isbn/9781800589377-M.jpg\n",
       "/dbfs/FileStore/Bookimages2022/9781800589377.jpg\n",
       "124\n",
       "https://covers.openlibrary.org/b/isbn/9781800589384-M.jpg\n",
       "/dbfs/FileStore/Bookimages2022/9781800589384.jpg\n",
       "125\n",
       "https://covers.openlibrary.org/b/isbn/9781800589391-M.jpg\n",
       "/dbfs/FileStore/Bookimages2022/9781800589391.jpg\n",
       "126\n",
       "https://covers.openlibrary.org/b/isbn/9781800589407-M.jpg\n",
       "/dbfs/FileStore/Bookimages2022/9781800589407.jpg\n",
       "127\n",
       "https://covers.openlibrary.org/b/isbn/9781800589414-M.jpg\n",
       "/dbfs/FileStore/Bookimages2022/9781800589414.jpg\n",
       "128\n",
       "https://covers.openlibrary.org/b/isbn/9781800589421-M.jpg\n",
       "/dbfs/FileStore/Bookimages2022/9781800589421.jpg\n",
       "129\n",
       "https://covers.openlibrary.org/b/isbn/9781800589438-M.jpg\n",
       "/dbfs/FileStore/Bookimages2022/9781800589438.jpg\n",
       "130\n",
       "https://covers.openlibrary.org/b/isbn/9781800589445-M.jpg\n",
       "/dbfs/FileStore/Bookimages2022/9781800589445.jpg\n",
       "131\n",
       "https://covers.openlibrary.org/b/isbn/9781800589643-M.jpg\n",
       "/dbfs/FileStore/Bookimages2022/9781800589643.jpg\n",
       "132\n",
       "https://covers.openlibrary.org/b/isbn/9781800589650-M.jpg\n",
       "/dbfs/FileStore/Bookimages2022/9781800589650.jpg\n",
       "133\n",
       "https://covers.openlibrary.org/b/isbn/9781800589667-M.jpg\n",
       "/dbfs/FileStore/Bookimages2022/9781800589667.jpg\n",
       "134\n",
       "https://covers.openlibrary.org/b/isbn/9781800589674-M.jpg\n",
       "/dbfs/FileStore/Bookimages2022/9781800589674.jpg\n",
       "135\n",
       "https://covers.openlibrary.org/b/isbn/9781800589681-M.jpg\n",
       "/dbfs/FileStore/Bookimages2022/9781800589681.jpg\n",
       "136\n",
       "https://covers.openlibrary.org/b/isbn/9781800589698-M.jpg\n",
       "/dbfs/FileStore/Bookimages2022/9781800589698.jpg\n",
       "137\n",
       "https://covers.openlibrary.org/b/isbn/9781800589704-M.jpg\n",
       "/dbfs/FileStore/Bookimages2022/9781800589704.jpg\n",
       "138\n",
       "https://covers.openlibrary.org/b/isbn/9781800589711-M.jpg\n",
       "/dbfs/FileStore/Bookimages2022/9781800589711.jpg\n",
       "139\n",
       "https://covers.openlibrary.org/b/isbn/9781800589735-M.jpg\n",
       "/dbfs/FileStore/Bookimages2022/9781800589735.jpg\n",
       "140\n",
       "https://covers.openlibrary.org/b/isbn/9781800589742-M.jpg\n",
       "/dbfs/FileStore/Bookimages2022/9781800589742.jpg\n",
       "141\n",
       "https://covers.openlibrary.org/b/isbn/9781800589759-M.jpg\n",
       "/dbfs/FileStore/Bookimages2022/9781800589759.jpg\n",
       "142\n",
       "https://covers.openlibrary.org/b/isbn/9781800589766-M.jpg\n",
       "/dbfs/FileStore/Bookimages2022/9781800589766.jpg\n",
       "143\n",
       "https://covers.openlibrary.org/b/isbn/9781800589773-M.jpg\n",
       "/dbfs/FileStore/Bookimages2022/9781800589773.jpg\n",
       "144\n",
       "https://covers.openlibrary.org/b/isbn/9781800589780-M.jpg\n",
       "/dbfs/FileStore/Bookimages2022/9781800589780.jpg\n",
       "145\n",
       "https://covers.openlibrary.org/b/isbn/9781800589797-M.jpg\n",
       "/dbfs/FileStore/Bookimages2022/9781800589797.jpg\n",
       "146\n",
       "https://covers.openlibrary.org/b/isbn/9781800589803-M.jpg\n",
       "/dbfs/FileStore/Bookimages2022/9781800589803.jpg\n",
       "147\n",
       "https://covers.openlibrary.org/b/isbn/9781407198552-M.jpg\n",
       "/dbfs/FileStore/Bookimages2022/9781407198552.jpg\n",
       "148\n",
       "https://covers.openlibrary.org/b/isbn/9781407198569-M.jpg\n",
       "/dbfs/FileStore/Bookimages2022/9781407198569.jpg\n",
       "149\n",
       "https://covers.openlibrary.org/b/isbn/9780702305849-M.jpg\n",
       "/dbfs/FileStore/Bookimages2022/9780702305849.jpg\n",
       "150\n",
       "https://covers.openlibrary.org/b/isbn/9780702305948-M.jpg\n",
       "/dbfs/FileStore/Bookimages2022/9780702305948.jpg\n",
       "151\n",
       "https://covers.openlibrary.org/b/isbn/9780702300028-M.jpg\n",
       "/dbfs/FileStore/Bookimages2022/9780702300028.jpg\n",
       "152\n",
       "https://covers.openlibrary.org/b/isbn/9780702301582-M.jpg\n",
       "/dbfs/FileStore/Bookimages2022/9780702301582.jpg\n",
       "153\n",
       "https://covers.openlibrary.org/b/isbn/9780702302527-M.jpg\n",
       "/dbfs/FileStore/Bookimages2022/9780702302527.jpg\n",
       "154\n",
       "https://covers.openlibrary.org/b/isbn/9780702304255-M.jpg\n",
       "/dbfs/FileStore/Bookimages2022/9780702304255.jpg\n",
       "155\n",
       "https://covers.openlibrary.org/b/isbn/9780702305757-M.jpg\n",
       "/dbfs/FileStore/Bookimages2022/9780702305757.jpg\n",
       "156\n",
       "https://covers.openlibrary.org/b/isbn/9781407177663-M.jpg\n",
       "/dbfs/FileStore/Bookimages2022/9781407177663.jpg\n",
       "157\n",
       "https://covers.openlibrary.org/b/isbn/9781407186733-M.jpg\n",
       "/dbfs/FileStore/Bookimages2022/9781407186733.jpg\n",
       "158\n",
       "https://covers.openlibrary.org/b/isbn/9781407196657-M.jpg\n",
       "/dbfs/FileStore/Bookimages2022/9781407196657.jpg\n",
       "159\n",
       "https://covers.openlibrary.org/b/isbn/9781407198422-M.jpg\n",
       "/dbfs/FileStore/Bookimages2022/9781407198422.jpg\n",
       "160\n",
       "https://covers.openlibrary.org/b/isbn/9781407198439-M.jpg\n",
       "/dbfs/FileStore/Bookimages2022/9781407198439.jpg\n",
       "161\n",
       "https://covers.openlibrary.org/b/isbn/9781407198491-M.jpg\n",
       "/dbfs/FileStore/Bookimages2022/9781407198491.jpg\n",
       "162\n",
       "https://covers.openlibrary.org/b/isbn/9781407197111-M.jpg\n",
       "/dbfs/FileStore/Bookimages2022/9781407197111.jpg\n",
       "163\n",
       "https://covers.openlibrary.org/b/isbn/9781407197135-M.jpg\n",
       "/dbfs/FileStore/Bookimages2022/9781407197135.jpg\n",
       "164\n",
       "https://covers.openlibrary.org/b/isbn/9781407197142-M.jpg\n",
       "/dbfs/FileStore/Bookimages2022/9781407197142.jpg\n",
       "165\n",
       "https://covers.openlibrary.org/b/isbn/9781407193335-M.jpg\n",
       "/dbfs/FileStore/Bookimages2022/9781407193335.jpg\n",
       "166\n",
       "https://covers.openlibrary.org/b/isbn/9781407195650-M.jpg\n",
       "/dbfs/FileStore/Bookimages2022/9781407195650.jpg\n",
       "167\n",
       "https://covers.openlibrary.org/b/isbn/9781407179872-M.jpg\n",
       "/dbfs/FileStore/Bookimages2022/9781407179872.jpg\n",
       "168\n",
       "https://covers.openlibrary.org/b/isbn/9780702305832-M.jpg\n",
       "/dbfs/FileStore/Bookimages2022/9780702305832.jpg\n",
       "169\n",
       "https://covers.openlibrary.org/b/isbn/9780702306945-M.jpg\n",
       "/dbfs/FileStore/Bookimages2022/9780702306945.jpg\n",
       "170\n",
       "https://covers.openlibrary.org/b/isbn/9780702307348-M.jpg\n",
       "/dbfs/FileStore/Bookimages2022/9780702307348.jpg\n",
       "171\n",
       "https://covers.openlibrary.org/b/isbn/9780241411797-M.jpg\n",
       "/dbfs/FileStore/Bookimages2022/9780241411797.jpg\n",
       "172\n",
       "https://covers.openlibrary.org/b/isbn/9780241411957-M.jpg\n",
       "/dbfs/FileStore/Bookimages2022/9780241411957.jpg\n",
       "173\n",
       "https://covers.openlibrary.org/b/isbn/9780241425060-M.jpg\n",
       "/dbfs/FileStore/Bookimages2022/9780241425060.jpg\n",
       "174\n",
       "https://covers.openlibrary.org/b/isbn/9780241365854-M.jpg\n",
       "/dbfs/FileStore/Bookimages2022/9780241365854.jpg\n",
       "175\n",
       "https://covers.openlibrary.org/b/isbn/9780241533963-M.jpg\n",
       "/dbfs/FileStore/Bookimages2022/9780241533963.jpg\n",
       "176\n",
       "https://covers.openlibrary.org/b/isbn/9781406392357-M.jpg\n",
       "/dbfs/FileStore/Bookimages2022/9781406392357.jpg\n",
       "177\n",
       "https://covers.openlibrary.org/b/isbn/9781406396775-M.jpg\n",
       "/dbfs/FileStore/Bookimages2022/9781406396775.jpg\n",
       "178\n",
       "https://covers.openlibrary.org/b/isbn/9781913484118-M.jpg\n",
       "/dbfs/FileStore/Bookimages2022/9781913484118.jpg\n",
       "179\n",
       "https://covers.openlibrary.org/b/isbn/9781741850536-M.jpg\n",
       "/dbfs/FileStore/Bookimages2022/9781741850536.jpg\n",
       "180\n",
       "https://covers.openlibrary.org/b/isbn/9781743085158-M.jpg\n",
       "/dbfs/FileStore/Bookimages2022/9781743085158.jpg\n",
       "181\n",
       "https://covers.openlibrary.org/b/isbn/9781488900808-M.jpg\n",
       "/dbfs/FileStore/Bookimages2022/9781488900808.jpg\n",
       "182\n",
       "https://covers.openlibrary.org/b/isbn/9781488938054-M.jpg\n",
       "/dbfs/FileStore/Bookimages2022/9781488938054.jpg\n",
       "183\n",
       "https://covers.openlibrary.org/b/isbn/9781488944413-M.jpg\n",
       "/dbfs/FileStore/Bookimages2022/9781488944413.jpg\n",
       "184\n",
       "https://covers.openlibrary.org/b/isbn/9781488968488-M.jpg\n",
       "/dbfs/FileStore/Bookimages2022/9781488968488.jpg\n",
       "185\n",
       "https://covers.openlibrary.org/b/isbn/9781488968525-M.jpg\n",
       "/dbfs/FileStore/Bookimages2022/9781488968525.jpg\n",
       "186\n",
       "https://covers.openlibrary.org/b/isbn/9781488968549-M.jpg\n",
       "/dbfs/FileStore/Bookimages2022/9781488968549.jpg\n",
       "187\n",
       "https://covers.openlibrary.org/b/isbn/9781488935398-M.jpg\n",
       "/dbfs/FileStore/Bookimages2022/9781488935398.jpg\n",
       "188\n",
       "https://covers.openlibrary.org/b/isbn/9781488935510-M.jpg\n",
       "/dbfs/FileStore/Bookimages2022/9781488935510.jpg\n",
       "189\n",
       "https://covers.openlibrary.org/b/isbn/9781488936951-M.jpg\n",
       "/dbfs/FileStore/Bookimages2022/9781488936951.jpg\n",
       "190\n",
       "https://covers.openlibrary.org/b/isbn/9781488937019-M.jpg\n",
       "/dbfs/FileStore/Bookimages2022/9781488937019.jpg\n",
       "191\n",
       "https://covers.openlibrary.org/b/isbn/9781488939358-M.jpg\n",
       "/dbfs/FileStore/Bookimages2022/9781488939358.jpg\n",
       "192\n",
       "https://covers.openlibrary.org/b/isbn/9781488939402-M.jpg\n",
       "/dbfs/FileStore/Bookimages2022/9781488939402.jpg\n",
       "193\n",
       "https://covers.openlibrary.org/b/isbn/9781488910968-M.jpg\n",
       "/dbfs/FileStore/Bookimages2022/9781488910968.jpg\n",
       "194\n",
       "https://covers.openlibrary.org/b/isbn/9781488911026-M.jpg\n",
       "/dbfs/FileStore/Bookimages2022/9781488911026.jpg\n",
       "195\n",
       "https://covers.openlibrary.org/b/isbn/9781488910418-M.jpg\n",
       "/dbfs/FileStore/Bookimages2022/9781488910418.jpg\n",
       "196\n",
       "https://covers.openlibrary.org/b/isbn/9781488914201-M.jpg\n",
       "/dbfs/FileStore/Bookimages2022/9781488914201.jpg\n",
       "197\n",
       "https://covers.openlibrary.org/b/isbn/9781488918285-M.jpg\n",
       "/dbfs/FileStore/Bookimages2022/9781488918285.jpg\n",
       "198\n",
       "https://covers.openlibrary.org/b/isbn/9781488925733-M.jpg\n",
       "/dbfs/FileStore/Bookimages2022/9781488925733.jpg\n",
       "199\n",
       "https://covers.openlibrary.org/b/isbn/9781488927362-M.jpg\n",
       "/dbfs/FileStore/Bookimages2022/9781488927362.jpg\n",
       "200\n",
       "https://covers.openlibrary.org/b/isbn/9781488927409-M.jpg\n",
       "/dbfs/FileStore/Bookimages2022/9781488927409.jpg\n",
       "201\n",
       "https://covers.openlibrary.org/b/isbn/9781488933196-M.jpg\n",
       "/dbfs/FileStore/Bookimages2022/9781488933196.jpg\n",
       "202\n",
       "https://covers.openlibrary.org/b/isbn/9781488922343-M.jpg\n",
       "/dbfs/FileStore/Bookimages2022/9781488922343.jpg\n",
       "203\n",
       "https://covers.openlibrary.org/b/isbn/9781488922381-M.jpg\n",
       "/dbfs/FileStore/Bookimages2022/9781488922381.jpg\n",
       "204\n",
       "https://covers.openlibrary.org/b/isbn/9781488923814-M.jpg\n",
       "/dbfs/FileStore/Bookimages2022/9781488923814.jpg\n",
       "205\n",
       "https://covers.openlibrary.org/b/isbn/9781488918384-M.jpg\n",
       "/dbfs/FileStore/Bookimages2022/9781488918384.jpg\n",
       "206\n",
       "https://covers.openlibrary.org/b/isbn/9781488918391-M.jpg\n",
       "/dbfs/FileStore/Bookimages2022/9781488918391.jpg\n",
       "207\n",
       "https://covers.openlibrary.org/b/isbn/9781488919039-M.jpg\n",
       "/dbfs/FileStore/Bookimages2022/9781488919039.jpg\n",
       "208\n",
       "https://covers.openlibrary.org/b/isbn/9781488919183-M.jpg\n",
       "/dbfs/FileStore/Bookimages2022/9781488919183.jpg\n",
       "209\n",
       "https://covers.openlibrary.org/b/isbn/9781488919367-M.jpg\n",
       "/dbfs/FileStore/Bookimages2022/9781488919367.jpg\n",
       "210\n",
       "https://covers.openlibrary.org/b/isbn/9781488920066-M.jpg\n",
       "/dbfs/FileStore/Bookimages2022/9781488920066.jpg\n",
       "211\n",
       "https://covers.openlibrary.org/b/isbn/9781488920158-M.jpg\n",
       "/dbfs/FileStore/Bookimages2022/9781488920158.jpg\n",
       "212\n",
       "https://covers.openlibrary.org/b/isbn/9781488921858-M.jpg\n",
       "/dbfs/FileStore/Bookimages2022/9781488921858.jpg\n",
       "213\n",
       "https://covers.openlibrary.org/b/isbn/9781488921896-M.jpg\n",
       "/dbfs/FileStore/Bookimages2022/9781488921896.jpg\n",
       "214\n",
       "https://covers.openlibrary.org/b/isbn/9781488910869-M.jpg\n",
       "/dbfs/FileStore/Bookimages2022/9781488910869.jpg\n",
       "215\n",
       "https://covers.openlibrary.org/b/isbn/9781488915710-M.jpg\n",
       "/dbfs/FileStore/Bookimages2022/9781488915710.jpg\n",
       "216\n",
       "https://covers.openlibrary.org/b/isbn/9781488915727-M.jpg\n",
       "/dbfs/FileStore/Bookimages2022/9781488915727.jpg\n",
       "217\n",
       "https://covers.openlibrary.org/b/isbn/9781488913440-M.jpg\n",
       "/dbfs/FileStore/Bookimages2022/9781488913440.jpg\n",
       "218\n",
       "https://covers.openlibrary.org/b/isbn/9781488913563-M.jpg\n",
       "/dbfs/FileStore/Bookimages2022/9781488913563.jpg\n",
       "219\n",
       "https://covers.openlibrary.org/b/isbn/9781488913655-M.jpg\n",
       "/dbfs/FileStore/Bookimages2022/9781488913655.jpg\n",
       "220\n",
       "https://covers.openlibrary.org/b/isbn/9781488913679-M.jpg\n",
       "/dbfs/FileStore/Bookimages2022/9781488913679.jpg\n",
       "221\n",
       "https://covers.openlibrary.org/b/isbn/9781488907333-M.jpg\n",
       "/dbfs/FileStore/Bookimages2022/9781488907333.jpg\n",
       "222\n",
       "https://covers.openlibrary.org/b/isbn/9781488908705-M.jpg\n",
       "/dbfs/FileStore/Bookimages2022/9781488908705.jpg\n",
       "223\n",
       "https://covers.openlibrary.org/b/isbn/9781488916175-M.jpg\n",
       "/dbfs/FileStore/Bookimages2022/9781488916175.jpg\n",
       "224\n",
       "https://covers.openlibrary.org/b/isbn/9781488916298-M.jpg\n",
       "/dbfs/FileStore/Bookimages2022/9781488916298.jpg\n",
       "225\n",
       "https://covers.openlibrary.org/b/isbn/9781488916403-M.jpg\n",
       "\n",
       "*** WARNING: skipped 92571 bytes of output ***\n",
       "\n",
       "1059\n",
       "https://covers.openlibrary.org/b/isbn/9781760459574-M.jpg\n",
       "/dbfs/FileStore/Bookimages2022/9781760459574.jpg\n",
       "1060\n",
       "https://covers.openlibrary.org/b/isbn/9781760456597-M.jpg\n",
       "/dbfs/FileStore/Bookimages2022/9781760456597.jpg\n",
       "1061\n",
       "https://covers.openlibrary.org/b/isbn/9781788005418-M.jpg\n",
       "/dbfs/FileStore/Bookimages2022/9781788005418.jpg\n",
       "1062\n",
       "https://covers.openlibrary.org/b/isbn/9781783733484-M.jpg\n",
       "/dbfs/FileStore/Bookimages2022/9781783733484.jpg\n",
       "1063\n",
       "https://covers.openlibrary.org/b/isbn/9780655212454-M.jpg\n",
       "/dbfs/FileStore/Bookimages2022/9780655212454.jpg\n",
       "1064\n",
       "https://covers.openlibrary.org/b/isbn/9780655212478-M.jpg\n",
       "/dbfs/FileStore/Bookimages2022/9780655212478.jpg\n",
       "1065\n",
       "https://covers.openlibrary.org/b/isbn/9780655212485-M.jpg\n",
       "/dbfs/FileStore/Bookimages2022/9780655212485.jpg\n",
       "1066\n",
       "https://covers.openlibrary.org/b/isbn/9780655212218-M.jpg\n",
       "/dbfs/FileStore/Bookimages2022/9780655212218.jpg\n",
       "1067\n",
       "https://covers.openlibrary.org/b/isbn/9780655215165-M.jpg\n",
       "/dbfs/FileStore/Bookimages2022/9780655215165.jpg\n",
       "1068\n",
       "https://covers.openlibrary.org/b/isbn/9780655213888-M.jpg\n",
       "/dbfs/FileStore/Bookimages2022/9780655213888.jpg\n",
       "1069\n",
       "https://covers.openlibrary.org/b/isbn/9780655219040-M.jpg\n",
       "/dbfs/FileStore/Bookimages2022/9780655219040.jpg\n",
       "1070\n",
       "https://covers.openlibrary.org/b/isbn/9780655219057-M.jpg\n",
       "/dbfs/FileStore/Bookimages2022/9780655219057.jpg\n",
       "1071\n",
       "https://covers.openlibrary.org/b/isbn/9780655216087-M.jpg\n",
       "/dbfs/FileStore/Bookimages2022/9780655216087.jpg\n",
       "1072\n",
       "https://covers.openlibrary.org/b/isbn/9780655216612-M.jpg\n",
       "/dbfs/FileStore/Bookimages2022/9780655216612.jpg\n",
       "1073\n",
       "https://covers.openlibrary.org/b/isbn/9780655216629-M.jpg\n",
       "/dbfs/FileStore/Bookimages2022/9780655216629.jpg\n",
       "1074\n",
       "https://covers.openlibrary.org/b/isbn/9780655217367-M.jpg\n",
       "/dbfs/FileStore/Bookimages2022/9780655217367.jpg\n",
       "1075\n",
       "https://covers.openlibrary.org/b/isbn/9780655217374-M.jpg\n",
       "/dbfs/FileStore/Bookimages2022/9780655217374.jpg\n",
       "1076\n",
       "https://covers.openlibrary.org/b/isbn/9780655217398-M.jpg\n",
       "/dbfs/FileStore/Bookimages2022/9780655217398.jpg\n",
       "1077\n",
       "https://covers.openlibrary.org/b/isbn/9780655217473-M.jpg\n",
       "/dbfs/FileStore/Bookimages2022/9780655217473.jpg\n",
       "1078\n",
       "https://covers.openlibrary.org/b/isbn/9780655217428-M.jpg\n",
       "/dbfs/FileStore/Bookimages2022/9780655217428.jpg\n",
       "1079\n",
       "https://covers.openlibrary.org/b/isbn/9780655217442-M.jpg\n",
       "/dbfs/FileStore/Bookimages2022/9780655217442.jpg\n",
       "1080\n",
       "https://covers.openlibrary.org/b/isbn/9780525554233-M.jpg\n",
       "/dbfs/FileStore/Bookimages2022/9780525554233.jpg\n",
       "1081\n",
       "https://covers.openlibrary.org/b/isbn/9780525423720-M.jpg\n",
       "/dbfs/FileStore/Bookimages2022/9780525423720.jpg\n",
       "1082\n",
       "https://covers.openlibrary.org/b/isbn/9781406365542-M.jpg\n",
       "/dbfs/FileStore/Bookimages2022/9781406365542.jpg\n",
       "1083\n",
       "https://covers.openlibrary.org/b/isbn/9780590443500-M.jpg\n",
       "/dbfs/FileStore/Bookimages2022/9780590443500.jpg\n",
       "1084\n",
       "https://covers.openlibrary.org/b/isbn/9781839033537-M.jpg\n",
       "/dbfs/FileStore/Bookimages2022/9781839033537.jpg\n",
       "1085\n",
       "https://covers.openlibrary.org/b/isbn/9781839033544-M.jpg\n",
       "/dbfs/FileStore/Bookimages2022/9781839033544.jpg\n",
       "1086\n",
       "https://covers.openlibrary.org/b/isbn/9781839038624-M.jpg\n",
       "/dbfs/FileStore/Bookimages2022/9781839038624.jpg\n",
       "1087\n",
       "https://covers.openlibrary.org/b/isbn/9781839038631-M.jpg\n",
       "/dbfs/FileStore/Bookimages2022/9781839038631.jpg\n",
       "1088\n",
       "https://covers.openlibrary.org/b/isbn/9781789054712-M.jpg\n",
       "/dbfs/FileStore/Bookimages2022/9781789054712.jpg\n",
       "1089\n",
       "https://covers.openlibrary.org/b/isbn/9781789058116-M.jpg\n",
       "/dbfs/FileStore/Bookimages2022/9781789058116.jpg\n",
       "1090\n",
       "https://covers.openlibrary.org/b/isbn/9781781978375-M.jpg\n",
       "/dbfs/FileStore/Bookimages2022/9781781978375.jpg\n",
       "1091\n",
       "https://covers.openlibrary.org/b/isbn/9781783433773-M.jpg\n",
       "/dbfs/FileStore/Bookimages2022/9781783433773.jpg\n",
       "1092\n",
       "https://covers.openlibrary.org/b/isbn/9781529062601-M.jpg\n",
       "/dbfs/FileStore/Bookimages2022/9781529062601.jpg\n",
       "1093\n",
       "https://covers.openlibrary.org/b/isbn/9781529062618-M.jpg\n",
       "/dbfs/FileStore/Bookimages2022/9781529062618.jpg\n",
       "1094\n",
       "https://covers.openlibrary.org/b/isbn/9781529071269-M.jpg\n",
       "/dbfs/FileStore/Bookimages2022/9781529071269.jpg\n",
       "1095\n",
       "https://covers.openlibrary.org/b/isbn/9781509843596-M.jpg\n",
       "/dbfs/FileStore/Bookimages2022/9781509843596.jpg\n",
       "1096\n",
       "https://covers.openlibrary.org/b/isbn/9781526626585-M.jpg\n",
       "/dbfs/FileStore/Bookimages2022/9781526626585.jpg\n",
       "1097\n",
       "https://covers.openlibrary.org/b/isbn/9781526637888-M.jpg\n",
       "/dbfs/FileStore/Bookimages2022/9781526637888.jpg\n",
       "1098\n",
       "https://covers.openlibrary.org/b/isbn/9781526640871-M.jpg\n",
       "/dbfs/FileStore/Bookimages2022/9781526640871.jpg\n",
       "1099\n",
       "https://covers.openlibrary.org/b/isbn/9781526614711-M.jpg\n",
       "/dbfs/FileStore/Bookimages2022/9781526614711.jpg\n",
       "1100\n",
       "https://covers.openlibrary.org/b/isbn/9780755500390-M.jpg\n",
       "/dbfs/FileStore/Bookimages2022/9780755500390.jpg\n",
       "1101\n",
       "https://covers.openlibrary.org/b/isbn/9780755500413-M.jpg\n",
       "/dbfs/FileStore/Bookimages2022/9780755500413.jpg\n",
       "1102\n",
       "https://covers.openlibrary.org/b/isbn/9780755500420-M.jpg\n",
       "/dbfs/FileStore/Bookimages2022/9780755500420.jpg\n",
       "1103\n",
       "https://covers.openlibrary.org/b/isbn/9780755500444-M.jpg\n",
       "/dbfs/FileStore/Bookimages2022/9780755500444.jpg\n",
       "1104\n",
       "https://covers.openlibrary.org/b/isbn/9780755500451-M.jpg\n",
       "/dbfs/FileStore/Bookimages2022/9780755500451.jpg\n",
       "1105\n",
       "https://covers.openlibrary.org/b/isbn/9780755501823-M.jpg\n",
       "/dbfs/FileStore/Bookimages2022/9780755501823.jpg\n",
       "1106\n",
       "https://covers.openlibrary.org/b/isbn/9780755503216-M.jpg\n",
       "/dbfs/FileStore/Bookimages2022/9780755503216.jpg\n",
       "1107\n",
       "https://covers.openlibrary.org/b/isbn/9780008491277-M.jpg\n",
       "/dbfs/FileStore/Bookimages2022/9780008491277.jpg\n",
       "1108\n",
       "https://covers.openlibrary.org/b/isbn/9781338716931-M.jpg\n",
       "/dbfs/FileStore/Bookimages2022/9781338716931.jpg\n",
       "1109\n",
       "https://covers.openlibrary.org/b/isbn/9781338745290-M.jpg\n",
       "/dbfs/FileStore/Bookimages2022/9781338745290.jpg\n",
       "1110\n",
       "https://covers.openlibrary.org/b/isbn/9781338790924-M.jpg\n",
       "/dbfs/FileStore/Bookimages2022/9781338790924.jpg\n",
       "1111\n",
       "https://covers.openlibrary.org/b/isbn/9781338635515-M.jpg\n",
       "/dbfs/FileStore/Bookimages2022/9781338635515.jpg\n",
       "1112\n",
       "https://covers.openlibrary.org/b/isbn/9780603579288-M.jpg\n",
       "/dbfs/FileStore/Bookimages2022/9780603579288.jpg\n",
       "1113\n",
       "https://covers.openlibrary.org/b/isbn/9780008164850-M.jpg\n",
       "/dbfs/FileStore/Bookimages2022/9780008164850.jpg\n",
       "1114\n",
       "https://covers.openlibrary.org/b/isbn/9780008164898-M.jpg\n",
       "/dbfs/FileStore/Bookimages2022/9780008164898.jpg\n",
       "1115\n",
       "https://covers.openlibrary.org/b/isbn/9780008530259-M.jpg\n",
       "/dbfs/FileStore/Bookimages2022/9780008530259.jpg\n",
       "1116\n",
       "https://covers.openlibrary.org/b/isbn/9781338801941-M.jpg\n",
       "/dbfs/FileStore/Bookimages2022/9781338801941.jpg\n",
       "1117\n",
       "https://covers.openlibrary.org/b/isbn/9780007527557-M.jpg\n",
       "/dbfs/FileStore/Bookimages2022/9780007527557.jpg\n",
       "1118\n",
       "https://covers.openlibrary.org/b/isbn/9781529083590-M.jpg\n",
       "/dbfs/FileStore/Bookimages2022/9781529083590.jpg\n",
       "1119\n",
       "https://covers.openlibrary.org/b/isbn/9781529052411-M.jpg\n",
       "/dbfs/FileStore/Bookimages2022/9781529052411.jpg\n",
       "1120\n",
       "https://covers.openlibrary.org/b/isbn/9781529052428-M.jpg\n",
       "/dbfs/FileStore/Bookimages2022/9781529052428.jpg\n",
       "1121\n",
       "https://covers.openlibrary.org/b/isbn/9781529052435-M.jpg\n",
       "/dbfs/FileStore/Bookimages2022/9781529052435.jpg\n",
       "1122\n",
       "https://covers.openlibrary.org/b/isbn/9781529052442-M.jpg\n",
       "/dbfs/FileStore/Bookimages2022/9781529052442.jpg\n",
       "1123\n",
       "https://covers.openlibrary.org/b/isbn/9782764335314-M.jpg\n",
       "/dbfs/FileStore/Bookimages2022/9782764335314.jpg\n",
       "1124\n",
       "https://covers.openlibrary.org/b/isbn/9782764353011-M.jpg\n",
       "/dbfs/FileStore/Bookimages2022/9782764353011.jpg\n",
       "1125\n",
       "https://covers.openlibrary.org/b/isbn/9782764353561-M.jpg\n",
       "/dbfs/FileStore/Bookimages2022/9782764353561.jpg\n",
       "1126\n",
       "https://covers.openlibrary.org/b/isbn/9782764353578-M.jpg\n",
       "/dbfs/FileStore/Bookimages2022/9782764353578.jpg\n",
       "1127\n",
       "https://covers.openlibrary.org/b/isbn/9782764353592-M.jpg\n",
       "/dbfs/FileStore/Bookimages2022/9782764353592.jpg\n",
       "1128\n",
       "https://covers.openlibrary.org/b/isbn/9782764353608-M.jpg\n",
       "/dbfs/FileStore/Bookimages2022/9782764353608.jpg\n",
       "1129\n",
       "https://covers.openlibrary.org/b/isbn/9782764353615-M.jpg\n",
       "/dbfs/FileStore/Bookimages2022/9782764353615.jpg\n",
       "1130\n",
       "https://covers.openlibrary.org/b/isbn/9782764352465-M.jpg\n",
       "/dbfs/FileStore/Bookimages2022/9782764352465.jpg\n",
       "1131\n",
       "https://covers.openlibrary.org/b/isbn/9782764351697-M.jpg\n",
       "/dbfs/FileStore/Bookimages2022/9782764351697.jpg\n",
       "1132\n",
       "https://covers.openlibrary.org/b/isbn/9782764354063-M.jpg\n",
       "/dbfs/FileStore/Bookimages2022/9782764354063.jpg\n",
       "1133\n",
       "https://covers.openlibrary.org/b/isbn/9782764354254-M.jpg\n",
       "/dbfs/FileStore/Bookimages2022/9782764354254.jpg\n",
       "1134\n",
       "https://covers.openlibrary.org/b/isbn/9782764354261-M.jpg\n",
       "/dbfs/FileStore/Bookimages2022/9782764354261.jpg\n",
       "1135\n",
       "https://covers.openlibrary.org/b/isbn/9782764353622-M.jpg\n",
       "/dbfs/FileStore/Bookimages2022/9782764353622.jpg\n",
       "1136\n",
       "https://covers.openlibrary.org/b/isbn/9780062675187-M.jpg\n",
       "/dbfs/FileStore/Bookimages2022/9780062675187.jpg\n",
       "1137\n",
       "https://covers.openlibrary.org/b/isbn/9780241297544-M.jpg\n",
       "/dbfs/FileStore/Bookimages2022/9780241297544.jpg\n",
       "1138\n",
       "https://covers.openlibrary.org/b/isbn/9780062447500-M.jpg\n",
       "/dbfs/FileStore/Bookimages2022/9780062447500.jpg\n",
       "1139\n",
       "https://covers.openlibrary.org/b/isbn/9780062447517-M.jpg\n",
       "/dbfs/FileStore/Bookimages2022/9780062447517.jpg\n",
       "1140\n",
       "https://covers.openlibrary.org/b/isbn/9780062447524-M.jpg\n",
       "/dbfs/FileStore/Bookimages2022/9780062447524.jpg\n",
       "1141\n",
       "https://covers.openlibrary.org/b/isbn/9780062447531-M.jpg\n",
       "/dbfs/FileStore/Bookimages2022/9780062447531.jpg\n",
       "1142\n",
       "https://covers.openlibrary.org/b/isbn/9780062447548-M.jpg\n",
       "/dbfs/FileStore/Bookimages2022/9780062447548.jpg\n",
       "1143\n",
       "https://covers.openlibrary.org/b/isbn/9780062447555-M.jpg\n",
       "/dbfs/FileStore/Bookimages2022/9780062447555.jpg\n",
       "1144\n",
       "https://covers.openlibrary.org/b/isbn/9780062447562-M.jpg\n",
       "/dbfs/FileStore/Bookimages2022/9780062447562.jpg\n",
       "1145\n",
       "https://covers.openlibrary.org/b/isbn/9780062447579-M.jpg\n",
       "/dbfs/FileStore/Bookimages2022/9780062447579.jpg\n",
       "1146\n",
       "https://covers.openlibrary.org/b/isbn/9780008175504-M.jpg\n",
       "/dbfs/FileStore/Bookimages2022/9780008175504.jpg\n",
       "1147\n",
       "https://covers.openlibrary.org/b/isbn/9780008226770-M.jpg\n",
       "/dbfs/FileStore/Bookimages2022/9780008226770.jpg\n",
       "1148\n",
       "https://covers.openlibrary.org/b/isbn/9780008259549-M.jpg\n",
       "/dbfs/FileStore/Bookimages2022/9780008259549.jpg\n",
       "1149\n",
       "https://covers.openlibrary.org/b/isbn/9780261103832-M.jpg\n",
       "/dbfs/FileStore/Bookimages2022/9780261103832.jpg\n",
       "1150\n",
       "https://covers.openlibrary.org/b/isbn/9781803374581-M.jpg\n",
       "/dbfs/FileStore/Bookimages2022/9781803374581.jpg\n",
       "1151\n",
       "https://covers.openlibrary.org/b/isbn/9781800589926-M.jpg\n",
       "/dbfs/FileStore/Bookimages2022/9781800589926.jpg\n",
       "1152\n",
       "https://covers.openlibrary.org/b/isbn/9781800589940-M.jpg\n",
       "/dbfs/FileStore/Bookimages2022/9781800589940.jpg\n",
       "1153\n",
       "https://covers.openlibrary.org/b/isbn/9781803374604-M.jpg\n",
       "/dbfs/FileStore/Bookimages2022/9781803374604.jpg\n",
       "1154\n",
       "https://covers.openlibrary.org/b/isbn/9781803374611-M.jpg\n",
       "/dbfs/FileStore/Bookimages2022/9781803374611.jpg\n",
       "1155\n",
       "https://covers.openlibrary.org/b/isbn/9781803374628-M.jpg\n",
       "/dbfs/FileStore/Bookimages2022/9781803374628.jpg\n",
       "1156\n",
       "https://covers.openlibrary.org/b/isbn/9781803374727-M.jpg\n",
       "/dbfs/FileStore/Bookimages2022/9781803374727.jpg\n",
       "1157\n",
       "https://covers.openlibrary.org/b/isbn/9781803374772-M.jpg\n",
       "/dbfs/FileStore/Bookimages2022/9781803374772.jpg\n",
       "1158\n",
       "https://covers.openlibrary.org/b/isbn/9781803374796-M.jpg\n",
       "/dbfs/FileStore/Bookimages2022/9781803374796.jpg\n",
       "1159\n",
       "https://covers.openlibrary.org/b/isbn/9781803374819-M.jpg\n",
       "/dbfs/FileStore/Bookimages2022/9781803374819.jpg\n",
       "1160\n",
       "https://covers.openlibrary.org/b/isbn/9781803374833-M.jpg\n",
       "/dbfs/FileStore/Bookimages2022/9781803374833.jpg\n",
       "1161\n",
       "https://covers.openlibrary.org/b/isbn/9781803374840-M.jpg\n",
       "/dbfs/FileStore/Bookimages2022/9781803374840.jpg\n",
       "1162\n",
       "https://covers.openlibrary.org/b/isbn/9781803375014-M.jpg\n",
       "/dbfs/FileStore/Bookimages2022/9781803375014.jpg\n",
       "1163\n",
       "https://covers.openlibrary.org/b/isbn/9781803372334-M.jpg\n",
       "/dbfs/FileStore/Bookimages2022/9781803372334.jpg\n",
       "1164\n",
       "https://covers.openlibrary.org/b/isbn/9781803374536-M.jpg\n",
       "/dbfs/FileStore/Bookimages2022/9781803374536.jpg\n",
       "1165\n",
       "https://covers.openlibrary.org/b/isbn/9781803374550-M.jpg\n",
       "/dbfs/FileStore/Bookimages2022/9781803374550.jpg\n",
       "1166\n",
       "https://covers.openlibrary.org/b/isbn/9781800583887-M.jpg\n",
       "/dbfs/FileStore/Bookimages2022/9781800583887.jpg\n",
       "1167\n",
       "https://covers.openlibrary.org/b/isbn/9781529045932-M.jpg\n",
       "/dbfs/FileStore/Bookimages2022/9781529045932.jpg\n",
       "1168\n",
       "https://covers.openlibrary.org/b/isbn/9781788242943-M.jpg\n",
       "/dbfs/FileStore/Bookimages2022/9781788242943.jpg\n",
       "1169\n",
       "https://covers.openlibrary.org/b/isbn/9781788242950-M.jpg\n",
       "/dbfs/FileStore/Bookimages2022/9781788242950.jpg\n",
       "1170\n",
       "https://covers.openlibrary.org/b/isbn/9781788243094-M.jpg\n",
       "/dbfs/FileStore/Bookimages2022/9781788243094.jpg\n",
       "1171\n",
       "https://covers.openlibrary.org/b/isbn/9781788242325-M.jpg\n",
       "/dbfs/FileStore/Bookimages2022/9781788242325.jpg\n",
       "1172\n",
       "https://covers.openlibrary.org/b/isbn/9781788242332-M.jpg\n",
       "/dbfs/FileStore/Bookimages2022/9781788242332.jpg\n",
       "1173\n",
       "https://covers.openlibrary.org/b/isbn/9781788242110-M.jpg\n",
       "/dbfs/FileStore/Bookimages2022/9781788242110.jpg\n",
       "1174\n",
       "https://covers.openlibrary.org/b/isbn/9781788241946-M.jpg\n",
       "/dbfs/FileStore/Bookimages2022/9781788241946.jpg\n",
       "1175\n",
       "https://covers.openlibrary.org/b/isbn/9781788242004-M.jpg\n",
       "/dbfs/FileStore/Bookimages2022/9781788242004.jpg\n",
       "1176\n",
       "https://covers.openlibrary.org/b/isbn/9781788242028-M.jpg\n",
       "/dbfs/FileStore/Bookimages2022/9781788242028.jpg\n",
       "1177\n",
       "https://covers.openlibrary.org/b/isbn/9781788240024-M.jpg\n",
       "/dbfs/FileStore/Bookimages2022/9781788240024.jpg\n",
       "1178\n",
       "https://covers.openlibrary.org/b/isbn/9781788240857-M.jpg\n",
       "/dbfs/FileStore/Bookimages2022/9781788240857.jpg\n",
       "1179\n",
       "https://covers.openlibrary.org/b/isbn/9781788241410-M.jpg\n",
       "/dbfs/FileStore/Bookimages2022/9781788241410.jpg\n",
       "1180\n",
       "https://covers.openlibrary.org/b/isbn/9781788241373-M.jpg\n",
       "/dbfs/FileStore/Bookimages2022/9781788241373.jpg\n",
       "1181\n",
       "https://covers.openlibrary.org/b/isbn/9781529054378-M.jpg\n",
       "/dbfs/FileStore/Bookimages2022/9781529054378.jpg\n",
       "1182\n",
       "https://covers.openlibrary.org/b/isbn/9781529077315-M.jpg\n",
       "/dbfs/FileStore/Bookimages2022/9781529077315.jpg\n",
       "1183\n",
       "https://covers.openlibrary.org/b/isbn/9781529066081-M.jpg\n",
       "/dbfs/FileStore/Bookimages2022/9781529066081.jpg\n",
       "1184\n",
       "https://covers.openlibrary.org/b/isbn/9781529066067-M.jpg\n",
       "/dbfs/FileStore/Bookimages2022/9781529066067.jpg\n",
       "1185\n",
       "https://covers.openlibrary.org/b/isbn/9781488901027-M.jpg\n",
       "/dbfs/FileStore/Bookimages2022/9781488901027.jpg\n",
       "1186\n",
       "https://covers.openlibrary.org/b/isbn/9781488901089-M.jpg\n",
       "/dbfs/FileStore/Bookimages2022/9781488901089.jpg\n",
       "1187\n",
       "https://covers.openlibrary.org/b/isbn/9781488901140-M.jpg\n",
       "/dbfs/FileStore/Bookimages2022/9781488901140.jpg\n",
       "1188\n",
       "https://covers.openlibrary.org/b/isbn/9781488901201-M.jpg\n",
       "/dbfs/FileStore/Bookimages2022/9781488901201.jpg\n",
       "1189\n",
       "https://covers.openlibrary.org/b/isbn/9781743085189-M.jpg\n",
       "/dbfs/FileStore/Bookimages2022/9781743085189.jpg\n",
       "1190\n",
       "https://covers.openlibrary.org/b/isbn/9781743528877-M.jpg\n",
       "/dbfs/FileStore/Bookimages2022/9781743528877.jpg\n",
       "1191\n",
       "https://covers.openlibrary.org/b/isbn/9781865151847-M.jpg\n",
       "/dbfs/FileStore/Bookimages2022/9781865151847.jpg\n",
       "1192\n",
       "https://covers.openlibrary.org/b/isbn/9780241454138-M.jpg\n",
       "/dbfs/FileStore/Bookimages2022/9780241454138.jpg\n",
       "1193\n",
       "https://covers.openlibrary.org/b/isbn/9780241501405-M.jpg\n",
       "/dbfs/FileStore/Bookimages2022/9780241501405.jpg\n",
       "1194\n",
       "https://covers.openlibrary.org/b/isbn/9781250802699-M.jpg\n",
       "/dbfs/FileStore/Bookimages2022/9781250802699.jpg\n",
       "1195\n",
       "https://covers.openlibrary.org/b/isbn/9781250817617-M.jpg\n",
       "/dbfs/FileStore/Bookimages2022/9781250817617.jpg\n",
       "1196\n",
       "https://covers.openlibrary.org/b/isbn/9781488944703-M.jpg\n",
       "/dbfs/FileStore/Bookimages2022/9781488944703.jpg\n",
       "1197\n",
       "https://covers.openlibrary.org/b/isbn/9781488944796-M.jpg\n",
       "/dbfs/FileStore/Bookimages2022/9781488944796.jpg\n",
       "1198\n",
       "https://covers.openlibrary.org/b/isbn/9781488944826-M.jpg\n",
       "/dbfs/FileStore/Bookimages2022/9781488944826.jpg\n",
       "1199\n",
       "https://covers.openlibrary.org/b/isbn/9781488944895-M.jpg\n",
       "/dbfs/FileStore/Bookimages2022/9781488944895.jpg\n",
       "1200\n",
       "https://covers.openlibrary.org/b/isbn/9781488944949-M.jpg\n",
       "/dbfs/FileStore/Bookimages2022/9781488944949.jpg\n",
       "1201\n",
       "https://covers.openlibrary.org/b/isbn/9781488943355-M.jpg\n",
       "/dbfs/FileStore/Bookimages2022/9781488943355.jpg\n",
       "1202\n",
       "https://covers.openlibrary.org/b/isbn/9781488937446-M.jpg\n",
       "/dbfs/FileStore/Bookimages2022/9781488937446.jpg\n",
       "1203\n",
       "https://covers.openlibrary.org/b/isbn/9781488937507-M.jpg\n",
       "/dbfs/FileStore/Bookimages2022/9781488937507.jpg\n",
       "1204\n",
       "https://covers.openlibrary.org/b/isbn/9781488943409-M.jpg\n",
       "/dbfs/FileStore/Bookimages2022/9781488943409.jpg\n",
       "1205\n",
       "https://covers.openlibrary.org/b/isbn/9781488943461-M.jpg\n",
       "/dbfs/FileStore/Bookimages2022/9781488943461.jpg\n",
       "1206\n",
       "https://covers.openlibrary.org/b/isbn/9781488943478-M.jpg\n",
       "/dbfs/FileStore/Bookimages2022/9781488943478.jpg\n",
       "1207\n",
       "https://covers.openlibrary.org/b/isbn/9781488943522-M.jpg\n",
       "/dbfs/FileStore/Bookimages2022/9781488943522.jpg\n",
       "1208\n",
       "https://covers.openlibrary.org/b/isbn/9781488943539-M.jpg\n",
       "/dbfs/FileStore/Bookimages2022/9781488943539.jpg\n",
       "1209\n",
       "https://covers.openlibrary.org/b/isbn/9781488943584-M.jpg\n",
       "/dbfs/FileStore/Bookimages2022/9781488943584.jpg\n",
       "1210\n",
       "https://covers.openlibrary.org/b/isbn/9781488943591-M.jpg\n",
       "/dbfs/FileStore/Bookimages2022/9781488943591.jpg\n",
       "1211\n",
       "https://covers.openlibrary.org/b/isbn/9781488943645-M.jpg\n",
       "/dbfs/FileStore/Bookimages2022/9781488943645.jpg\n",
       "1212\n",
       "https://covers.openlibrary.org/b/isbn/9781488943652-M.jpg\n",
       "/dbfs/FileStore/Bookimages2022/9781488943652.jpg\n",
       "1213\n",
       "https://covers.openlibrary.org/b/isbn/9781488943706-M.jpg\n",
       "/dbfs/FileStore/Bookimages2022/9781488943706.jpg\n",
       "1214\n",
       "https://covers.openlibrary.org/b/isbn/9781488943713-M.jpg\n",
       "/dbfs/FileStore/Bookimages2022/9781488943713.jpg\n",
       "1215\n",
       "https://covers.openlibrary.org/b/isbn/9781488943768-M.jpg\n",
       "/dbfs/FileStore/Bookimages2022/9781488943768.jpg\n",
       "1216\n",
       "https://covers.openlibrary.org/b/isbn/9781488943942-M.jpg\n",
       "/dbfs/FileStore/Bookimages2022/9781488943942.jpg\n",
       "1217\n",
       "https://covers.openlibrary.org/b/isbn/9781488944000-M.jpg\n",
       "/dbfs/FileStore/Bookimages2022/9781488944000.jpg\n",
       "1218\n",
       "https://covers.openlibrary.org/b/isbn/9781488944017-M.jpg\n",
       "/dbfs/FileStore/Bookimages2022/9781488944017.jpg\n",
       "1219\n",
       "https://covers.openlibrary.org/b/isbn/9781488944062-M.jpg\n",
       "/dbfs/FileStore/Bookimages2022/9781488944062.jpg\n",
       "1220\n",
       "https://covers.openlibrary.org/b/isbn/9781488944079-M.jpg\n",
       "/dbfs/FileStore/Bookimages2022/9781488944079.jpg\n",
       "1221\n",
       "https://covers.openlibrary.org/b/isbn/9781488940743-M.jpg\n",
       "/dbfs/FileStore/Bookimages2022/9781488940743.jpg\n",
       "1222\n",
       "https://covers.openlibrary.org/b/isbn/9781488910272-M.jpg\n",
       "/dbfs/FileStore/Bookimages2022/9781488910272.jpg\n",
       "1223\n",
       "https://covers.openlibrary.org/b/isbn/9781488910296-M.jpg\n",
       "/dbfs/FileStore/Bookimages2022/9781488910296.jpg\n",
       "1224\n",
       "https://covers.openlibrary.org/b/isbn/9781488914003-M.jpg\n",
       "/dbfs/FileStore/Bookimages2022/9781488914003.jpg\n",
       "1225\n",
       "https://covers.openlibrary.org/b/isbn/9781488915796-M.jpg\n",
       "/dbfs/FileStore/Bookimages2022/9781488915796.jpg\n",
       "1226\n",
       "https://covers.openlibrary.org/b/isbn/9781488915857-M.jpg\n",
       "/dbfs/FileStore/Bookimages2022/9781488915857.jpg\n",
       "1227\n",
       "https://covers.openlibrary.org/b/isbn/9781488915604-M.jpg\n",
       "/dbfs/FileStore/Bookimages2022/9781488915604.jpg\n",
       "1228\n",
       "https://covers.openlibrary.org/b/isbn/9781488916137-M.jpg\n",
       "/dbfs/FileStore/Bookimages2022/9781488916137.jpg\n",
       "1229\n",
       "https://covers.openlibrary.org/b/isbn/9781488917783-M.jpg\n",
       "/dbfs/FileStore/Bookimages2022/9781488917783.jpg\n",
       "1230\n",
       "https://covers.openlibrary.org/b/isbn/9781488917929-M.jpg\n",
       "/dbfs/FileStore/Bookimages2022/9781488917929.jpg\n",
       "1231\n",
       "https://covers.openlibrary.org/b/isbn/9781488917943-M.jpg\n",
       "/dbfs/FileStore/Bookimages2022/9781488917943.jpg\n",
       "1232\n",
       "https://covers.openlibrary.org/b/isbn/9781488917325-M.jpg\n",
       "/dbfs/FileStore/Bookimages2022/9781488917325.jpg\n",
       "1233\n",
       "https://covers.openlibrary.org/b/isbn/9781488917035-M.jpg\n",
       "/dbfs/FileStore/Bookimages2022/9781488917035.jpg\n",
       "1234\n",
       "https://covers.openlibrary.org/b/isbn/9781488922091-M.jpg\n",
       "/dbfs/FileStore/Bookimages2022/9781488922091.jpg\n",
       "1235\n",
       "https://covers.openlibrary.org/b/isbn/9781488922138-M.jpg\n",
       "/dbfs/FileStore/Bookimages2022/9781488922138.jpg\n",
       "1236\n",
       "https://covers.openlibrary.org/b/isbn/9781488921438-M.jpg\n",
       "/dbfs/FileStore/Bookimages2022/9781488921438.jpg\n",
       "1237\n",
       "https://covers.openlibrary.org/b/isbn/9781488921728-M.jpg\n",
       "/dbfs/FileStore/Bookimages2022/9781488921728.jpg\n",
       "1238\n",
       "https://covers.openlibrary.org/b/isbn/9781488925870-M.jpg\n",
       "/dbfs/FileStore/Bookimages2022/9781488925870.jpg\n",
       "1239\n",
       "https://covers.openlibrary.org/b/isbn/9781488925948-M.jpg\n",
       "/dbfs/FileStore/Bookimages2022/9781488925948.jpg\n",
       "1240\n",
       "https://covers.openlibrary.org/b/isbn/9781488926181-M.jpg\n",
       "/dbfs/FileStore/Bookimages2022/9781488926181.jpg\n",
       "1241\n",
       "https://covers.openlibrary.org/b/isbn/9781488923838-M.jpg\n",
       "/dbfs/FileStore/Bookimages2022/9781488923838.jpg\n",
       "1242\n",
       "https://covers.openlibrary.org/b/isbn/9781488925030-M.jpg\n",
       "/dbfs/FileStore/Bookimages2022/9781488925030.jpg\n",
       "1243\n",
       "https://covers.openlibrary.org/b/isbn/9781488925177-M.jpg\n",
       "/dbfs/FileStore/Bookimages2022/9781488925177.jpg\n",
       "1244\n",
       "https://covers.openlibrary.org/b/isbn/9781488925269-M.jpg\n",
       "/dbfs/FileStore/Bookimages2022/9781488925269.jpg\n",
       "1245\n",
       "https://covers.openlibrary.org/b/isbn/9781488922527-M.jpg\n",
       "/dbfs/FileStore/Bookimages2022/9781488922527.jpg\n",
       "1246\n",
       "https://covers.openlibrary.org/b/isbn/9781488923135-M.jpg\n",
       "/dbfs/FileStore/Bookimages2022/9781488923135.jpg\n",
       "1247\n",
       "https://covers.openlibrary.org/b/isbn/9781865151960-M.jpg\n",
       "/dbfs/FileStore/Bookimages2022/9781865151960.jpg\n",
       "1248\n",
       "https://covers.openlibrary.org/b/isbn/9781865152684-M.jpg\n",
       "/dbfs/FileStore/Bookimages2022/9781865152684.jpg\n",
       "1249\n",
       "https://covers.openlibrary.org/b/isbn/9781865152707-M.jpg\n",
       "/dbfs/FileStore/Bookimages2022/9781865152707.jpg\n",
       "1250\n",
       "https://covers.openlibrary.org/b/isbn/9781865152813-M.jpg\n",
       "/dbfs/FileStore/Bookimages2022/9781865152813.jpg\n",
       "1251\n",
       "https://covers.openlibrary.org/b/isbn/9781865152820-M.jpg\n",
       "/dbfs/FileStore/Bookimages2022/9781865152820.jpg\n",
       "1252\n",
       "https://covers.openlibrary.org/b/isbn/9780141364018-M.jpg\n",
       "/dbfs/FileStore/Bookimages2022/9780141364018.jpg\n",
       "1253\n",
       "https://covers.openlibrary.org/b/isbn/9780141364056-M.jpg\n",
       "/dbfs/FileStore/Bookimages2022/9780141364056.jpg\n",
       "1254\n",
       "https://covers.openlibrary.org/b/isbn/9780141364094-M.jpg\n",
       "/dbfs/FileStore/Bookimages2022/9780141364094.jpg\n",
       "1255\n",
       "https://covers.openlibrary.org/b/isbn/9780241473665-M.jpg\n",
       "/dbfs/FileStore/Bookimages2022/9780241473665.jpg\n",
       "1256\n",
       "https://covers.openlibrary.org/b/isbn/9781250829214-M.jpg\n",
       "/dbfs/FileStore/Bookimages2022/9781250829214.jpg\n",
       "1257\n",
       "https://covers.openlibrary.org/b/isbn/9781250838773-M.jpg\n",
       "/dbfs/FileStore/Bookimages2022/9781250838773.jpg\n",
       "1258\n",
       "https://covers.openlibrary.org/b/isbn/9781250135025-M.jpg\n",
       "/dbfs/FileStore/Bookimages2022/9781250135025.jpg\n",
       "1259\n",
       "https://covers.openlibrary.org/b/isbn/9781250143686-M.jpg\n",
       "/dbfs/FileStore/Bookimages2022/9781250143686.jpg\n",
       "1260\n",
       "https://covers.openlibrary.org/b/isbn/9781250219954-M.jpg\n",
       "/dbfs/FileStore/Bookimages2022/9781250219954.jpg\n",
       "1261\n",
       "https://covers.openlibrary.org/b/isbn/9781250219985-M.jpg\n",
       "/dbfs/FileStore/Bookimages2022/9781250219985.jpg\n",
       "1262\n",
       "https://covers.openlibrary.org/b/isbn/9781250220004-M.jpg\n",
       "/dbfs/FileStore/Bookimages2022/9781250220004.jpg\n",
       "1263\n",
       "https://covers.openlibrary.org/b/isbn/9781250220059-M.jpg\n",
       "/dbfs/FileStore/Bookimages2022/9781250220059.jpg\n",
       "1264\n",
       "https://covers.openlibrary.org/b/isbn/9781250228383-M.jpg\n",
       "/dbfs/FileStore/Bookimages2022/9781250228383.jpg\n",
       "1265\n",
       "https://covers.openlibrary.org/b/isbn/9781250233677-M.jpg\n",
       "/dbfs/FileStore/Bookimages2022/9781250233677.jpg\n",
       "1266\n",
       "https://covers.openlibrary.org/b/isbn/9781250236449-M.jpg\n",
       "/dbfs/FileStore/Bookimages2022/9781250236449.jpg\n",
       "1267\n",
       "https://covers.openlibrary.org/b/isbn/9781250258021-M.jpg\n",
       "/dbfs/FileStore/Bookimages2022/9781250258021.jpg\n",
       "1268\n",
       "https://covers.openlibrary.org/b/isbn/9781250269430-M.jpg\n",
       "/dbfs/FileStore/Bookimages2022/9781250269430.jpg\n",
       "1269\n",
       "https://covers.openlibrary.org/b/isbn/9781250294159-M.jpg\n",
       "/dbfs/FileStore/Bookimages2022/9781250294159.jpg\n",
       "1270\n",
       "https://covers.openlibrary.org/b/isbn/9781250317568-M.jpg\n",
       "/dbfs/FileStore/Bookimages2022/9781250317568.jpg\n",
       "1271\n",
       "https://covers.openlibrary.org/b/isbn/9781250621764-M.jpg\n",
       "/dbfs/FileStore/Bookimages2022/9781250621764.jpg\n",
       "1272\n",
       "https://covers.openlibrary.org/b/isbn/9781250759641-M.jpg\n",
       "/dbfs/FileStore/Bookimages2022/9781250759641.jpg\n",
       "1273\n",
       "https://covers.openlibrary.org/b/isbn/9781250769244-M.jpg\n",
       "/dbfs/FileStore/Bookimages2022/9781250769244.jpg\n",
       "1274\n",
       "https://covers.openlibrary.org/b/isbn/9781250782557-M.jpg\n",
       "/dbfs/FileStore/Bookimages2022/9781250782557.jpg\n",
       "1275\n",
       "https://covers.openlibrary.org/b/isbn/9781250785411-M.jpg\n",
       "/dbfs/FileStore/Bookimages2022/9781250785411.jpg\n",
       "1276\n",
       "https://covers.openlibrary.org/b/isbn/9781250798954-M.jpg\n",
       "/dbfs/FileStore/Bookimages2022/9781250798954.jpg\n",
       "1277\n",
       "https://covers.openlibrary.org/b/isbn/9781406394542-M.jpg\n",
       "/dbfs/FileStore/Bookimages2022/9781406394542.jpg\n",
       "1278\n",
       "https://covers.openlibrary.org/b/isbn/9781626721418-M.jpg\n",
       "/dbfs/FileStore/Bookimages2022/9781626721418.jpg\n",
       "1279\n",
       "https://covers.openlibrary.org/b/isbn/9781626721432-M.jpg\n",
       "/dbfs/FileStore/Bookimages2022/9781626721432.jpg\n",
       "1280\n",
       "https://covers.openlibrary.org/b/isbn/9781626728011-M.jpg\n",
       "/dbfs/FileStore/Bookimages2022/9781626728011.jpg\n",
       "1281\n",
       "https://covers.openlibrary.org/b/isbn/9781529502343-M.jpg\n",
       "/dbfs/FileStore/Bookimages2022/9781529502343.jpg\n",
       "1282\n",
       "</div>"
      ]
     },
     "metadata": {
      "application/vnd.databricks.v1+output": {
       "addedWidgets": {},
       "arguments": {},
       "data": "<div class=\"ansiout\">https://covers.openlibrary.org/b/isbn/9780593354315-M.jpg\n/dbfs/FileStore/Bookimages2022/9780593354315.jpg\n0\nhttps://covers.openlibrary.org/b/isbn/9780593376942-M.jpg\n/dbfs/FileStore/Bookimages2022/9780593376942.jpg\n1\nhttps://covers.openlibrary.org/b/isbn/9780593305478-M.jpg\n/dbfs/FileStore/Bookimages2022/9780593305478.jpg\n2\nhttps://covers.openlibrary.org/b/isbn/9780593093795-M.jpg\n/dbfs/FileStore/Bookimages2022/9780593093795.jpg\n3\nhttps://covers.openlibrary.org/b/isbn/9780593093825-M.jpg\n/dbfs/FileStore/Bookimages2022/9780593093825.jpg\n4\nhttps://covers.openlibrary.org/b/isbn/9780593095713-M.jpg\n/dbfs/FileStore/Bookimages2022/9780593095713.jpg\n5\nhttps://covers.openlibrary.org/b/isbn/9780593095744-M.jpg\n/dbfs/FileStore/Bookimages2022/9780593095744.jpg\n6\nhttps://covers.openlibrary.org/b/isbn/9780593095775-M.jpg\n/dbfs/FileStore/Bookimages2022/9780593095775.jpg\n7\nhttps://covers.openlibrary.org/b/isbn/9780593124468-M.jpg\n/dbfs/FileStore/Bookimages2022/9780593124468.jpg\n8\nhttps://covers.openlibrary.org/b/isbn/9780593124581-M.jpg\n/dbfs/FileStore/Bookimages2022/9780593124581.jpg\n9\nhttps://covers.openlibrary.org/b/isbn/9780593127261-M.jpg\n/dbfs/FileStore/Bookimages2022/9780593127261.jpg\n10\nhttps://covers.openlibrary.org/b/isbn/9780593173138-M.jpg\n/dbfs/FileStore/Bookimages2022/9780593173138.jpg\n11\nhttps://covers.openlibrary.org/b/isbn/9780593173152-M.jpg\n/dbfs/FileStore/Bookimages2022/9780593173152.jpg\n12\nhttps://covers.openlibrary.org/b/isbn/9780553496710-M.jpg\n/dbfs/FileStore/Bookimages2022/9780553496710.jpg\n13\nhttps://covers.openlibrary.org/b/isbn/9780593222737-M.jpg\n/dbfs/FileStore/Bookimages2022/9780593222737.jpg\n14\nhttps://covers.openlibrary.org/b/isbn/9780593222744-M.jpg\n/dbfs/FileStore/Bookimages2022/9780593222744.jpg\n15\nhttps://covers.openlibrary.org/b/isbn/9780593225677-M.jpg\n/dbfs/FileStore/Bookimages2022/9780593225677.jpg\n16\nhttps://covers.openlibrary.org/b/isbn/9780593225707-M.jpg\n/dbfs/FileStore/Bookimages2022/9780593225707.jpg\n17\nhttps://covers.openlibrary.org/b/isbn/9780525647676-M.jpg\n/dbfs/FileStore/Bookimages2022/9780525647676.jpg\n18\nhttps://covers.openlibrary.org/b/isbn/9780241377284-M.jpg\n/dbfs/FileStore/Bookimages2022/9780241377284.jpg\n19\nhttps://covers.openlibrary.org/b/isbn/9781984893178-M.jpg\n/dbfs/FileStore/Bookimages2022/9781984893178.jpg\n20\nhttps://covers.openlibrary.org/b/isbn/9781984893239-M.jpg\n/dbfs/FileStore/Bookimages2022/9781984893239.jpg\n21\nhttps://covers.openlibrary.org/b/isbn/9781984895639-M.jpg\n/dbfs/FileStore/Bookimages2022/9781984895639.jpg\n22\nhttps://covers.openlibrary.org/b/isbn/9781984893918-M.jpg\n/dbfs/FileStore/Bookimages2022/9781984893918.jpg\n23\nhttps://covers.openlibrary.org/b/isbn/9781984895110-M.jpg\n/dbfs/FileStore/Bookimages2022/9781984895110.jpg\n24\nhttps://covers.openlibrary.org/b/isbn/9781984830951-M.jpg\n/dbfs/FileStore/Bookimages2022/9781984830951.jpg\n25\nhttps://covers.openlibrary.org/b/isbn/9789814906555-M.jpg\n/dbfs/FileStore/Bookimages2022/9789814906555.jpg\n26\nhttps://covers.openlibrary.org/b/isbn/9789814918039-M.jpg\n/dbfs/FileStore/Bookimages2022/9789814918039.jpg\n27\nhttps://covers.openlibrary.org/b/isbn/9789814947640-M.jpg\n/dbfs/FileStore/Bookimages2022/9789814947640.jpg\n28\nhttps://covers.openlibrary.org/b/isbn/9780525648703-M.jpg\n/dbfs/FileStore/Bookimages2022/9780525648703.jpg\n29\nhttps://covers.openlibrary.org/b/isbn/9780593301371-M.jpg\n/dbfs/FileStore/Bookimages2022/9780593301371.jpg\n30\nhttps://covers.openlibrary.org/b/isbn/9780593303351-M.jpg\n/dbfs/FileStore/Bookimages2022/9780593303351.jpg\n31\nhttps://covers.openlibrary.org/b/isbn/9780593178065-M.jpg\n/dbfs/FileStore/Bookimages2022/9780593178065.jpg\n32\nhttps://covers.openlibrary.org/b/isbn/9780593180297-M.jpg\n/dbfs/FileStore/Bookimages2022/9780593180297.jpg\n33\nhttps://covers.openlibrary.org/b/isbn/9780593120842-M.jpg\n/dbfs/FileStore/Bookimages2022/9780593120842.jpg\n34\nhttps://covers.openlibrary.org/b/isbn/9780593122129-M.jpg\n/dbfs/FileStore/Bookimages2022/9780593122129.jpg\n35\nhttps://covers.openlibrary.org/b/isbn/9780593306161-M.jpg\n/dbfs/FileStore/Bookimages2022/9780593306161.jpg\n36\nhttps://covers.openlibrary.org/b/isbn/9780593306185-M.jpg\n/dbfs/FileStore/Bookimages2022/9780593306185.jpg\n37\nhttps://covers.openlibrary.org/b/isbn/9780593304365-M.jpg\n/dbfs/FileStore/Bookimages2022/9780593304365.jpg\n38\nhttps://covers.openlibrary.org/b/isbn/9780593305089-M.jpg\n/dbfs/FileStore/Bookimages2022/9780593305089.jpg\n39\nhttps://covers.openlibrary.org/b/isbn/9780593305171-M.jpg\n/dbfs/FileStore/Bookimages2022/9780593305171.jpg\n40\nhttps://covers.openlibrary.org/b/isbn/9780593425480-M.jpg\n/dbfs/FileStore/Bookimages2022/9780593425480.jpg\n41\nhttps://covers.openlibrary.org/b/isbn/9780593425497-M.jpg\n/dbfs/FileStore/Bookimages2022/9780593425497.jpg\n42\nhttps://covers.openlibrary.org/b/isbn/9780593425503-M.jpg\n/dbfs/FileStore/Bookimages2022/9780593425503.jpg\n43\nhttps://covers.openlibrary.org/b/isbn/9780736438704-M.jpg\n/dbfs/FileStore/Bookimages2022/9780736438704.jpg\n44\nhttps://covers.openlibrary.org/b/isbn/9780736439206-M.jpg\n/dbfs/FileStore/Bookimages2022/9780736439206.jpg\n45\nhttps://covers.openlibrary.org/b/isbn/9781338702446-M.jpg\n/dbfs/FileStore/Bookimages2022/9781338702446.jpg\n46\nhttps://covers.openlibrary.org/b/isbn/9781338347463-M.jpg\n/dbfs/FileStore/Bookimages2022/9781338347463.jpg\n47\nhttps://covers.openlibrary.org/b/isbn/9781338347487-M.jpg\n/dbfs/FileStore/Bookimages2022/9781338347487.jpg\n48\nhttps://covers.openlibrary.org/b/isbn/9781338347500-M.jpg\n/dbfs/FileStore/Bookimages2022/9781338347500.jpg\n49\nhttps://covers.openlibrary.org/b/isbn/9781338530124-M.jpg\n/dbfs/FileStore/Bookimages2022/9781338530124.jpg\n50\nhttps://covers.openlibrary.org/b/isbn/9781338587357-M.jpg\n/dbfs/FileStore/Bookimages2022/9781338587357.jpg\n51\nhttps://covers.openlibrary.org/b/isbn/9781338596649-M.jpg\n/dbfs/FileStore/Bookimages2022/9781338596649.jpg\n52\nhttps://covers.openlibrary.org/b/isbn/9781338625318-M.jpg\n/dbfs/FileStore/Bookimages2022/9781338625318.jpg\n53\nhttps://covers.openlibrary.org/b/isbn/9781338666373-M.jpg\n/dbfs/FileStore/Bookimages2022/9781338666373.jpg\n54\nhttps://covers.openlibrary.org/b/isbn/9780736440134-M.jpg\n/dbfs/FileStore/Bookimages2022/9780736440134.jpg\n55\nhttps://covers.openlibrary.org/b/isbn/9780736440288-M.jpg\n/dbfs/FileStore/Bookimages2022/9780736440288.jpg\n56\nhttps://covers.openlibrary.org/b/isbn/9780736440554-M.jpg\n/dbfs/FileStore/Bookimages2022/9780736440554.jpg\n57\nhttps://covers.openlibrary.org/b/isbn/9780736440820-M.jpg\n/dbfs/FileStore/Bookimages2022/9780736440820.jpg\n58\nhttps://covers.openlibrary.org/b/isbn/9780736440998-M.jpg\n/dbfs/FileStore/Bookimages2022/9780736440998.jpg\n59\nhttps://covers.openlibrary.org/b/isbn/9780736441131-M.jpg\n/dbfs/FileStore/Bookimages2022/9780736441131.jpg\n60\nhttps://covers.openlibrary.org/b/isbn/9780736441346-M.jpg\n/dbfs/FileStore/Bookimages2022/9780736441346.jpg\n61\nhttps://covers.openlibrary.org/b/isbn/9780736439855-M.jpg\n/dbfs/FileStore/Bookimages2022/9780736439855.jpg\n62\nhttps://covers.openlibrary.org/b/isbn/9781524715540-M.jpg\n/dbfs/FileStore/Bookimages2022/9781524715540.jpg\n63\nhttps://covers.openlibrary.org/b/isbn/9781524771911-M.jpg\n/dbfs/FileStore/Bookimages2022/9781524771911.jpg\n64\nhttps://covers.openlibrary.org/b/isbn/9781524772352-M.jpg\n/dbfs/FileStore/Bookimages2022/9781524772352.jpg\n65\nhttps://covers.openlibrary.org/b/isbn/9781338635454-M.jpg\n/dbfs/FileStore/Bookimages2022/9781338635454.jpg\n66\nhttps://covers.openlibrary.org/b/isbn/9781338356182-M.jpg\n/dbfs/FileStore/Bookimages2022/9781338356182.jpg\n67\nhttps://covers.openlibrary.org/b/isbn/9781338598896-M.jpg\n/dbfs/FileStore/Bookimages2022/9781338598896.jpg\n68\nhttps://covers.openlibrary.org/b/isbn/9781338320244-M.jpg\n/dbfs/FileStore/Bookimages2022/9781338320244.jpg\n69\nhttps://covers.openlibrary.org/b/isbn/9781338323450-M.jpg\n/dbfs/FileStore/Bookimages2022/9781338323450.jpg\n70\nhttps://covers.openlibrary.org/b/isbn/9781338344219-M.jpg\n/dbfs/FileStore/Bookimages2022/9781338344219.jpg\n71\nhttps://covers.openlibrary.org/b/isbn/9781338053623-M.jpg\n/dbfs/FileStore/Bookimages2022/9781338053623.jpg\n72\nhttps://covers.openlibrary.org/b/isbn/9781338214604-M.jpg\n/dbfs/FileStore/Bookimages2022/9781338214604.jpg\n73\nhttps://covers.openlibrary.org/b/isbn/9781338236132-M.jpg\n/dbfs/FileStore/Bookimages2022/9781338236132.jpg\n74\nhttps://covers.openlibrary.org/b/isbn/9781338298758-M.jpg\n/dbfs/FileStore/Bookimages2022/9781338298758.jpg\n75\nhttps://covers.openlibrary.org/b/isbn/9781338298796-M.jpg\n/dbfs/FileStore/Bookimages2022/9781338298796.jpg\n76\nhttps://covers.openlibrary.org/b/isbn/9781338304572-M.jpg\n/dbfs/FileStore/Bookimages2022/9781338304572.jpg\n77\nhttps://covers.openlibrary.org/b/isbn/9781338725124-M.jpg\n/dbfs/FileStore/Bookimages2022/9781338725124.jpg\n78\nhttps://covers.openlibrary.org/b/isbn/9780545946100-M.jpg\n/dbfs/FileStore/Bookimages2022/9780545946100.jpg\n79\nhttps://covers.openlibrary.org/b/isbn/9789814919982-M.jpg\n/dbfs/FileStore/Bookimages2022/9789814919982.jpg\n80\nhttps://covers.openlibrary.org/b/isbn/9781984830975-M.jpg\n/dbfs/FileStore/Bookimages2022/9781984830975.jpg\n81\nhttps://covers.openlibrary.org/b/isbn/9781984895219-M.jpg\n/dbfs/FileStore/Bookimages2022/9781984895219.jpg\n82\nhttps://covers.openlibrary.org/b/isbn/9781984849823-M.jpg\n/dbfs/FileStore/Bookimages2022/9781984849823.jpg\n83\nhttps://covers.openlibrary.org/b/isbn/9781984850270-M.jpg\n/dbfs/FileStore/Bookimages2022/9781984850270.jpg\n84\nhttps://covers.openlibrary.org/b/isbn/9780525648512-M.jpg\n/dbfs/FileStore/Bookimages2022/9780525648512.jpg\n85\nhttps://covers.openlibrary.org/b/isbn/9780553510928-M.jpg\n/dbfs/FileStore/Bookimages2022/9780553510928.jpg\n86\nhttps://covers.openlibrary.org/b/isbn/9780593304334-M.jpg\n/dbfs/FileStore/Bookimages2022/9780593304334.jpg\n87\nhttps://covers.openlibrary.org/b/isbn/9780525580782-M.jpg\n/dbfs/FileStore/Bookimages2022/9780525580782.jpg\n88\nhttps://covers.openlibrary.org/b/isbn/9781338715996-M.jpg\n/dbfs/FileStore/Bookimages2022/9781338715996.jpg\n89\nhttps://covers.openlibrary.org/b/isbn/9781338214543-M.jpg\n/dbfs/FileStore/Bookimages2022/9781338214543.jpg\n90\nhttps://covers.openlibrary.org/b/isbn/9781338684971-M.jpg\n/dbfs/FileStore/Bookimages2022/9781338684971.jpg\n91\nhttps://covers.openlibrary.org/b/isbn/9781338685015-M.jpg\n/dbfs/FileStore/Bookimages2022/9781338685015.jpg\n92\nhttps://covers.openlibrary.org/b/isbn/9781338672114-M.jpg\n/dbfs/FileStore/Bookimages2022/9781338672114.jpg\n93\nhttps://covers.openlibrary.org/b/isbn/9780736439879-M.jpg\n/dbfs/FileStore/Bookimages2022/9780736439879.jpg\n94\nhttps://covers.openlibrary.org/b/isbn/9789814864084-M.jpg\n/dbfs/FileStore/Bookimages2022/9789814864084.jpg\n95\nhttps://covers.openlibrary.org/b/isbn/9789814864091-M.jpg\n/dbfs/FileStore/Bookimages2022/9789814864091.jpg\n96\nhttps://covers.openlibrary.org/b/isbn/9789814906517-M.jpg\n/dbfs/FileStore/Bookimages2022/9789814906517.jpg\n97\nhttps://covers.openlibrary.org/b/isbn/9781338320268-M.jpg\n/dbfs/FileStore/Bookimages2022/9781338320268.jpg\n98\nhttps://covers.openlibrary.org/b/isbn/9780241430217-M.jpg\n/dbfs/FileStore/Bookimages2022/9780241430217.jpg\n99\nhttps://covers.openlibrary.org/b/isbn/9780241448267-M.jpg\n/dbfs/FileStore/Bookimages2022/9780241448267.jpg\n100\nhttps://covers.openlibrary.org/b/isbn/9780241426692-M.jpg\n/dbfs/FileStore/Bookimages2022/9780241426692.jpg\n101\nhttps://covers.openlibrary.org/b/isbn/9780241416723-M.jpg\n/dbfs/FileStore/Bookimages2022/9780241416723.jpg\n102\nhttps://covers.openlibrary.org/b/isbn/9780241416747-M.jpg\n/dbfs/FileStore/Bookimages2022/9780241416747.jpg\n103\nhttps://covers.openlibrary.org/b/isbn/9780241476260-M.jpg\n/dbfs/FileStore/Bookimages2022/9780241476260.jpg\n104\nhttps://covers.openlibrary.org/b/isbn/9780241476345-M.jpg\n/dbfs/FileStore/Bookimages2022/9780241476345.jpg\n105\nhttps://covers.openlibrary.org/b/isbn/9780241420218-M.jpg\n/dbfs/FileStore/Bookimages2022/9780241420218.jpg\n106\nhttps://covers.openlibrary.org/b/isbn/9780241365991-M.jpg\n/dbfs/FileStore/Bookimages2022/9780241365991.jpg\n107\nhttps://covers.openlibrary.org/b/isbn/9780241373354-M.jpg\n/dbfs/FileStore/Bookimages2022/9780241373354.jpg\n108\nhttps://covers.openlibrary.org/b/isbn/9780241412084-M.jpg\n/dbfs/FileStore/Bookimages2022/9780241412084.jpg\n109\nhttps://covers.openlibrary.org/b/isbn/9780241412251-M.jpg\n/dbfs/FileStore/Bookimages2022/9780241412251.jpg\n110\nhttps://covers.openlibrary.org/b/isbn/9780241380260-M.jpg\n/dbfs/FileStore/Bookimages2022/9780241380260.jpg\n111\nhttps://covers.openlibrary.org/b/isbn/9780241380314-M.jpg\n/dbfs/FileStore/Bookimages2022/9780241380314.jpg\n112\nhttps://covers.openlibrary.org/b/isbn/9780241382554-M.jpg\n/dbfs/FileStore/Bookimages2022/9780241382554.jpg\n113\nhttps://covers.openlibrary.org/b/isbn/9780241382578-M.jpg\n/dbfs/FileStore/Bookimages2022/9780241382578.jpg\n114\nhttps://covers.openlibrary.org/b/isbn/9780141377896-M.jpg\n/dbfs/FileStore/Bookimages2022/9780141377896.jpg\n115\nhttps://covers.openlibrary.org/b/isbn/9781800589278-M.jpg\n/dbfs/FileStore/Bookimages2022/9781800589278.jpg\n116\nhttps://covers.openlibrary.org/b/isbn/9781800589292-M.jpg\n/dbfs/FileStore/Bookimages2022/9781800589292.jpg\n117\nhttps://covers.openlibrary.org/b/isbn/9781800589308-M.jpg\n/dbfs/FileStore/Bookimages2022/9781800589308.jpg\n118\nhttps://covers.openlibrary.org/b/isbn/9781800589315-M.jpg\n/dbfs/FileStore/Bookimages2022/9781800589315.jpg\n119\nhttps://covers.openlibrary.org/b/isbn/9781800589339-M.jpg\n/dbfs/FileStore/Bookimages2022/9781800589339.jpg\n120\nhttps://covers.openlibrary.org/b/isbn/9781800589346-M.jpg\n/dbfs/FileStore/Bookimages2022/9781800589346.jpg\n121\nhttps://covers.openlibrary.org/b/isbn/9781800589353-M.jpg\n/dbfs/FileStore/Bookimages2022/9781800589353.jpg\n122\nhttps://covers.openlibrary.org/b/isbn/9781800589360-M.jpg\n/dbfs/FileStore/Bookimages2022/9781800589360.jpg\n123\nhttps://covers.openlibrary.org/b/isbn/9781800589377-M.jpg\n/dbfs/FileStore/Bookimages2022/9781800589377.jpg\n124\nhttps://covers.openlibrary.org/b/isbn/9781800589384-M.jpg\n/dbfs/FileStore/Bookimages2022/9781800589384.jpg\n125\nhttps://covers.openlibrary.org/b/isbn/9781800589391-M.jpg\n/dbfs/FileStore/Bookimages2022/9781800589391.jpg\n126\nhttps://covers.openlibrary.org/b/isbn/9781800589407-M.jpg\n/dbfs/FileStore/Bookimages2022/9781800589407.jpg\n127\nhttps://covers.openlibrary.org/b/isbn/9781800589414-M.jpg\n/dbfs/FileStore/Bookimages2022/9781800589414.jpg\n128\nhttps://covers.openlibrary.org/b/isbn/9781800589421-M.jpg\n/dbfs/FileStore/Bookimages2022/9781800589421.jpg\n129\nhttps://covers.openlibrary.org/b/isbn/9781800589438-M.jpg\n/dbfs/FileStore/Bookimages2022/9781800589438.jpg\n130\nhttps://covers.openlibrary.org/b/isbn/9781800589445-M.jpg\n/dbfs/FileStore/Bookimages2022/9781800589445.jpg\n131\nhttps://covers.openlibrary.org/b/isbn/9781800589643-M.jpg\n/dbfs/FileStore/Bookimages2022/9781800589643.jpg\n132\nhttps://covers.openlibrary.org/b/isbn/9781800589650-M.jpg\n/dbfs/FileStore/Bookimages2022/9781800589650.jpg\n133\nhttps://covers.openlibrary.org/b/isbn/9781800589667-M.jpg\n/dbfs/FileStore/Bookimages2022/9781800589667.jpg\n134\nhttps://covers.openlibrary.org/b/isbn/9781800589674-M.jpg\n/dbfs/FileStore/Bookimages2022/9781800589674.jpg\n135\nhttps://covers.openlibrary.org/b/isbn/9781800589681-M.jpg\n/dbfs/FileStore/Bookimages2022/9781800589681.jpg\n136\nhttps://covers.openlibrary.org/b/isbn/9781800589698-M.jpg\n/dbfs/FileStore/Bookimages2022/9781800589698.jpg\n137\nhttps://covers.openlibrary.org/b/isbn/9781800589704-M.jpg\n/dbfs/FileStore/Bookimages2022/9781800589704.jpg\n138\nhttps://covers.openlibrary.org/b/isbn/9781800589711-M.jpg\n/dbfs/FileStore/Bookimages2022/9781800589711.jpg\n139\nhttps://covers.openlibrary.org/b/isbn/9781800589735-M.jpg\n/dbfs/FileStore/Bookimages2022/9781800589735.jpg\n140\nhttps://covers.openlibrary.org/b/isbn/9781800589742-M.jpg\n/dbfs/FileStore/Bookimages2022/9781800589742.jpg\n141\nhttps://covers.openlibrary.org/b/isbn/9781800589759-M.jpg\n/dbfs/FileStore/Bookimages2022/9781800589759.jpg\n142\nhttps://covers.openlibrary.org/b/isbn/9781800589766-M.jpg\n/dbfs/FileStore/Bookimages2022/9781800589766.jpg\n143\nhttps://covers.openlibrary.org/b/isbn/9781800589773-M.jpg\n/dbfs/FileStore/Bookimages2022/9781800589773.jpg\n144\nhttps://covers.openlibrary.org/b/isbn/9781800589780-M.jpg\n/dbfs/FileStore/Bookimages2022/9781800589780.jpg\n145\nhttps://covers.openlibrary.org/b/isbn/9781800589797-M.jpg\n/dbfs/FileStore/Bookimages2022/9781800589797.jpg\n146\nhttps://covers.openlibrary.org/b/isbn/9781800589803-M.jpg\n/dbfs/FileStore/Bookimages2022/9781800589803.jpg\n147\nhttps://covers.openlibrary.org/b/isbn/9781407198552-M.jpg\n/dbfs/FileStore/Bookimages2022/9781407198552.jpg\n148\nhttps://covers.openlibrary.org/b/isbn/9781407198569-M.jpg\n/dbfs/FileStore/Bookimages2022/9781407198569.jpg\n149\nhttps://covers.openlibrary.org/b/isbn/9780702305849-M.jpg\n/dbfs/FileStore/Bookimages2022/9780702305849.jpg\n150\nhttps://covers.openlibrary.org/b/isbn/9780702305948-M.jpg\n/dbfs/FileStore/Bookimages2022/9780702305948.jpg\n151\nhttps://covers.openlibrary.org/b/isbn/9780702300028-M.jpg\n/dbfs/FileStore/Bookimages2022/9780702300028.jpg\n152\nhttps://covers.openlibrary.org/b/isbn/9780702301582-M.jpg\n/dbfs/FileStore/Bookimages2022/9780702301582.jpg\n153\nhttps://covers.openlibrary.org/b/isbn/9780702302527-M.jpg\n/dbfs/FileStore/Bookimages2022/9780702302527.jpg\n154\nhttps://covers.openlibrary.org/b/isbn/9780702304255-M.jpg\n/dbfs/FileStore/Bookimages2022/9780702304255.jpg\n155\nhttps://covers.openlibrary.org/b/isbn/9780702305757-M.jpg\n/dbfs/FileStore/Bookimages2022/9780702305757.jpg\n156\nhttps://covers.openlibrary.org/b/isbn/9781407177663-M.jpg\n/dbfs/FileStore/Bookimages2022/9781407177663.jpg\n157\nhttps://covers.openlibrary.org/b/isbn/9781407186733-M.jpg\n/dbfs/FileStore/Bookimages2022/9781407186733.jpg\n158\nhttps://covers.openlibrary.org/b/isbn/9781407196657-M.jpg\n/dbfs/FileStore/Bookimages2022/9781407196657.jpg\n159\nhttps://covers.openlibrary.org/b/isbn/9781407198422-M.jpg\n/dbfs/FileStore/Bookimages2022/9781407198422.jpg\n160\nhttps://covers.openlibrary.org/b/isbn/9781407198439-M.jpg\n/dbfs/FileStore/Bookimages2022/9781407198439.jpg\n161\nhttps://covers.openlibrary.org/b/isbn/9781407198491-M.jpg\n/dbfs/FileStore/Bookimages2022/9781407198491.jpg\n162\nhttps://covers.openlibrary.org/b/isbn/9781407197111-M.jpg\n/dbfs/FileStore/Bookimages2022/9781407197111.jpg\n163\nhttps://covers.openlibrary.org/b/isbn/9781407197135-M.jpg\n/dbfs/FileStore/Bookimages2022/9781407197135.jpg\n164\nhttps://covers.openlibrary.org/b/isbn/9781407197142-M.jpg\n/dbfs/FileStore/Bookimages2022/9781407197142.jpg\n165\nhttps://covers.openlibrary.org/b/isbn/9781407193335-M.jpg\n/dbfs/FileStore/Bookimages2022/9781407193335.jpg\n166\nhttps://covers.openlibrary.org/b/isbn/9781407195650-M.jpg\n/dbfs/FileStore/Bookimages2022/9781407195650.jpg\n167\nhttps://covers.openlibrary.org/b/isbn/9781407179872-M.jpg\n/dbfs/FileStore/Bookimages2022/9781407179872.jpg\n168\nhttps://covers.openlibrary.org/b/isbn/9780702305832-M.jpg\n/dbfs/FileStore/Bookimages2022/9780702305832.jpg\n169\nhttps://covers.openlibrary.org/b/isbn/9780702306945-M.jpg\n/dbfs/FileStore/Bookimages2022/9780702306945.jpg\n170\nhttps://covers.openlibrary.org/b/isbn/9780702307348-M.jpg\n/dbfs/FileStore/Bookimages2022/9780702307348.jpg\n171\nhttps://covers.openlibrary.org/b/isbn/9780241411797-M.jpg\n/dbfs/FileStore/Bookimages2022/9780241411797.jpg\n172\nhttps://covers.openlibrary.org/b/isbn/9780241411957-M.jpg\n/dbfs/FileStore/Bookimages2022/9780241411957.jpg\n173\nhttps://covers.openlibrary.org/b/isbn/9780241425060-M.jpg\n/dbfs/FileStore/Bookimages2022/9780241425060.jpg\n174\nhttps://covers.openlibrary.org/b/isbn/9780241365854-M.jpg\n/dbfs/FileStore/Bookimages2022/9780241365854.jpg\n175\nhttps://covers.openlibrary.org/b/isbn/9780241533963-M.jpg\n/dbfs/FileStore/Bookimages2022/9780241533963.jpg\n176\nhttps://covers.openlibrary.org/b/isbn/9781406392357-M.jpg\n/dbfs/FileStore/Bookimages2022/9781406392357.jpg\n177\nhttps://covers.openlibrary.org/b/isbn/9781406396775-M.jpg\n/dbfs/FileStore/Bookimages2022/9781406396775.jpg\n178\nhttps://covers.openlibrary.org/b/isbn/9781913484118-M.jpg\n/dbfs/FileStore/Bookimages2022/9781913484118.jpg\n179\nhttps://covers.openlibrary.org/b/isbn/9781741850536-M.jpg\n/dbfs/FileStore/Bookimages2022/9781741850536.jpg\n180\nhttps://covers.openlibrary.org/b/isbn/9781743085158-M.jpg\n/dbfs/FileStore/Bookimages2022/9781743085158.jpg\n181\nhttps://covers.openlibrary.org/b/isbn/9781488900808-M.jpg\n/dbfs/FileStore/Bookimages2022/9781488900808.jpg\n182\nhttps://covers.openlibrary.org/b/isbn/9781488938054-M.jpg\n/dbfs/FileStore/Bookimages2022/9781488938054.jpg\n183\nhttps://covers.openlibrary.org/b/isbn/9781488944413-M.jpg\n/dbfs/FileStore/Bookimages2022/9781488944413.jpg\n184\nhttps://covers.openlibrary.org/b/isbn/9781488968488-M.jpg\n/dbfs/FileStore/Bookimages2022/9781488968488.jpg\n185\nhttps://covers.openlibrary.org/b/isbn/9781488968525-M.jpg\n/dbfs/FileStore/Bookimages2022/9781488968525.jpg\n186\nhttps://covers.openlibrary.org/b/isbn/9781488968549-M.jpg\n/dbfs/FileStore/Bookimages2022/9781488968549.jpg\n187\nhttps://covers.openlibrary.org/b/isbn/9781488935398-M.jpg\n/dbfs/FileStore/Bookimages2022/9781488935398.jpg\n188\nhttps://covers.openlibrary.org/b/isbn/9781488935510-M.jpg\n/dbfs/FileStore/Bookimages2022/9781488935510.jpg\n189\nhttps://covers.openlibrary.org/b/isbn/9781488936951-M.jpg\n/dbfs/FileStore/Bookimages2022/9781488936951.jpg\n190\nhttps://covers.openlibrary.org/b/isbn/9781488937019-M.jpg\n/dbfs/FileStore/Bookimages2022/9781488937019.jpg\n191\nhttps://covers.openlibrary.org/b/isbn/9781488939358-M.jpg\n/dbfs/FileStore/Bookimages2022/9781488939358.jpg\n192\nhttps://covers.openlibrary.org/b/isbn/9781488939402-M.jpg\n/dbfs/FileStore/Bookimages2022/9781488939402.jpg\n193\nhttps://covers.openlibrary.org/b/isbn/9781488910968-M.jpg\n/dbfs/FileStore/Bookimages2022/9781488910968.jpg\n194\nhttps://covers.openlibrary.org/b/isbn/9781488911026-M.jpg\n/dbfs/FileStore/Bookimages2022/9781488911026.jpg\n195\nhttps://covers.openlibrary.org/b/isbn/9781488910418-M.jpg\n/dbfs/FileStore/Bookimages2022/9781488910418.jpg\n196\nhttps://covers.openlibrary.org/b/isbn/9781488914201-M.jpg\n/dbfs/FileStore/Bookimages2022/9781488914201.jpg\n197\nhttps://covers.openlibrary.org/b/isbn/9781488918285-M.jpg\n/dbfs/FileStore/Bookimages2022/9781488918285.jpg\n198\nhttps://covers.openlibrary.org/b/isbn/9781488925733-M.jpg\n/dbfs/FileStore/Bookimages2022/9781488925733.jpg\n199\nhttps://covers.openlibrary.org/b/isbn/9781488927362-M.jpg\n/dbfs/FileStore/Bookimages2022/9781488927362.jpg\n200\nhttps://covers.openlibrary.org/b/isbn/9781488927409-M.jpg\n/dbfs/FileStore/Bookimages2022/9781488927409.jpg\n201\nhttps://covers.openlibrary.org/b/isbn/9781488933196-M.jpg\n/dbfs/FileStore/Bookimages2022/9781488933196.jpg\n202\nhttps://covers.openlibrary.org/b/isbn/9781488922343-M.jpg\n/dbfs/FileStore/Bookimages2022/9781488922343.jpg\n203\nhttps://covers.openlibrary.org/b/isbn/9781488922381-M.jpg\n/dbfs/FileStore/Bookimages2022/9781488922381.jpg\n204\nhttps://covers.openlibrary.org/b/isbn/9781488923814-M.jpg\n/dbfs/FileStore/Bookimages2022/9781488923814.jpg\n205\nhttps://covers.openlibrary.org/b/isbn/9781488918384-M.jpg\n/dbfs/FileStore/Bookimages2022/9781488918384.jpg\n206\nhttps://covers.openlibrary.org/b/isbn/9781488918391-M.jpg\n/dbfs/FileStore/Bookimages2022/9781488918391.jpg\n207\nhttps://covers.openlibrary.org/b/isbn/9781488919039-M.jpg\n/dbfs/FileStore/Bookimages2022/9781488919039.jpg\n208\nhttps://covers.openlibrary.org/b/isbn/9781488919183-M.jpg\n/dbfs/FileStore/Bookimages2022/9781488919183.jpg\n209\nhttps://covers.openlibrary.org/b/isbn/9781488919367-M.jpg\n/dbfs/FileStore/Bookimages2022/9781488919367.jpg\n210\nhttps://covers.openlibrary.org/b/isbn/9781488920066-M.jpg\n/dbfs/FileStore/Bookimages2022/9781488920066.jpg\n211\nhttps://covers.openlibrary.org/b/isbn/9781488920158-M.jpg\n/dbfs/FileStore/Bookimages2022/9781488920158.jpg\n212\nhttps://covers.openlibrary.org/b/isbn/9781488921858-M.jpg\n/dbfs/FileStore/Bookimages2022/9781488921858.jpg\n213\nhttps://covers.openlibrary.org/b/isbn/9781488921896-M.jpg\n/dbfs/FileStore/Bookimages2022/9781488921896.jpg\n214\nhttps://covers.openlibrary.org/b/isbn/9781488910869-M.jpg\n/dbfs/FileStore/Bookimages2022/9781488910869.jpg\n215\nhttps://covers.openlibrary.org/b/isbn/9781488915710-M.jpg\n/dbfs/FileStore/Bookimages2022/9781488915710.jpg\n216\nhttps://covers.openlibrary.org/b/isbn/9781488915727-M.jpg\n/dbfs/FileStore/Bookimages2022/9781488915727.jpg\n217\nhttps://covers.openlibrary.org/b/isbn/9781488913440-M.jpg\n/dbfs/FileStore/Bookimages2022/9781488913440.jpg\n218\nhttps://covers.openlibrary.org/b/isbn/9781488913563-M.jpg\n/dbfs/FileStore/Bookimages2022/9781488913563.jpg\n219\nhttps://covers.openlibrary.org/b/isbn/9781488913655-M.jpg\n/dbfs/FileStore/Bookimages2022/9781488913655.jpg\n220\nhttps://covers.openlibrary.org/b/isbn/9781488913679-M.jpg\n/dbfs/FileStore/Bookimages2022/9781488913679.jpg\n221\nhttps://covers.openlibrary.org/b/isbn/9781488907333-M.jpg\n/dbfs/FileStore/Bookimages2022/9781488907333.jpg\n222\nhttps://covers.openlibrary.org/b/isbn/9781488908705-M.jpg\n/dbfs/FileStore/Bookimages2022/9781488908705.jpg\n223\nhttps://covers.openlibrary.org/b/isbn/9781488916175-M.jpg\n/dbfs/FileStore/Bookimages2022/9781488916175.jpg\n224\nhttps://covers.openlibrary.org/b/isbn/9781488916298-M.jpg\n/dbfs/FileStore/Bookimages2022/9781488916298.jpg\n225\nhttps://covers.openlibrary.org/b/isbn/9781488916403-M.jpg\n\n*** WARNING: skipped 92571 bytes of output ***\n\n1059\nhttps://covers.openlibrary.org/b/isbn/9781760459574-M.jpg\n/dbfs/FileStore/Bookimages2022/9781760459574.jpg\n1060\nhttps://covers.openlibrary.org/b/isbn/9781760456597-M.jpg\n/dbfs/FileStore/Bookimages2022/9781760456597.jpg\n1061\nhttps://covers.openlibrary.org/b/isbn/9781788005418-M.jpg\n/dbfs/FileStore/Bookimages2022/9781788005418.jpg\n1062\nhttps://covers.openlibrary.org/b/isbn/9781783733484-M.jpg\n/dbfs/FileStore/Bookimages2022/9781783733484.jpg\n1063\nhttps://covers.openlibrary.org/b/isbn/9780655212454-M.jpg\n/dbfs/FileStore/Bookimages2022/9780655212454.jpg\n1064\nhttps://covers.openlibrary.org/b/isbn/9780655212478-M.jpg\n/dbfs/FileStore/Bookimages2022/9780655212478.jpg\n1065\nhttps://covers.openlibrary.org/b/isbn/9780655212485-M.jpg\n/dbfs/FileStore/Bookimages2022/9780655212485.jpg\n1066\nhttps://covers.openlibrary.org/b/isbn/9780655212218-M.jpg\n/dbfs/FileStore/Bookimages2022/9780655212218.jpg\n1067\nhttps://covers.openlibrary.org/b/isbn/9780655215165-M.jpg\n/dbfs/FileStore/Bookimages2022/9780655215165.jpg\n1068\nhttps://covers.openlibrary.org/b/isbn/9780655213888-M.jpg\n/dbfs/FileStore/Bookimages2022/9780655213888.jpg\n1069\nhttps://covers.openlibrary.org/b/isbn/9780655219040-M.jpg\n/dbfs/FileStore/Bookimages2022/9780655219040.jpg\n1070\nhttps://covers.openlibrary.org/b/isbn/9780655219057-M.jpg\n/dbfs/FileStore/Bookimages2022/9780655219057.jpg\n1071\nhttps://covers.openlibrary.org/b/isbn/9780655216087-M.jpg\n/dbfs/FileStore/Bookimages2022/9780655216087.jpg\n1072\nhttps://covers.openlibrary.org/b/isbn/9780655216612-M.jpg\n/dbfs/FileStore/Bookimages2022/9780655216612.jpg\n1073\nhttps://covers.openlibrary.org/b/isbn/9780655216629-M.jpg\n/dbfs/FileStore/Bookimages2022/9780655216629.jpg\n1074\nhttps://covers.openlibrary.org/b/isbn/9780655217367-M.jpg\n/dbfs/FileStore/Bookimages2022/9780655217367.jpg\n1075\nhttps://covers.openlibrary.org/b/isbn/9780655217374-M.jpg\n/dbfs/FileStore/Bookimages2022/9780655217374.jpg\n1076\nhttps://covers.openlibrary.org/b/isbn/9780655217398-M.jpg\n/dbfs/FileStore/Bookimages2022/9780655217398.jpg\n1077\nhttps://covers.openlibrary.org/b/isbn/9780655217473-M.jpg\n/dbfs/FileStore/Bookimages2022/9780655217473.jpg\n1078\nhttps://covers.openlibrary.org/b/isbn/9780655217428-M.jpg\n/dbfs/FileStore/Bookimages2022/9780655217428.jpg\n1079\nhttps://covers.openlibrary.org/b/isbn/9780655217442-M.jpg\n/dbfs/FileStore/Bookimages2022/9780655217442.jpg\n1080\nhttps://covers.openlibrary.org/b/isbn/9780525554233-M.jpg\n/dbfs/FileStore/Bookimages2022/9780525554233.jpg\n1081\nhttps://covers.openlibrary.org/b/isbn/9780525423720-M.jpg\n/dbfs/FileStore/Bookimages2022/9780525423720.jpg\n1082\nhttps://covers.openlibrary.org/b/isbn/9781406365542-M.jpg\n/dbfs/FileStore/Bookimages2022/9781406365542.jpg\n1083\nhttps://covers.openlibrary.org/b/isbn/9780590443500-M.jpg\n/dbfs/FileStore/Bookimages2022/9780590443500.jpg\n1084\nhttps://covers.openlibrary.org/b/isbn/9781839033537-M.jpg\n/dbfs/FileStore/Bookimages2022/9781839033537.jpg\n1085\nhttps://covers.openlibrary.org/b/isbn/9781839033544-M.jpg\n/dbfs/FileStore/Bookimages2022/9781839033544.jpg\n1086\nhttps://covers.openlibrary.org/b/isbn/9781839038624-M.jpg\n/dbfs/FileStore/Bookimages2022/9781839038624.jpg\n1087\nhttps://covers.openlibrary.org/b/isbn/9781839038631-M.jpg\n/dbfs/FileStore/Bookimages2022/9781839038631.jpg\n1088\nhttps://covers.openlibrary.org/b/isbn/9781789054712-M.jpg\n/dbfs/FileStore/Bookimages2022/9781789054712.jpg\n1089\nhttps://covers.openlibrary.org/b/isbn/9781789058116-M.jpg\n/dbfs/FileStore/Bookimages2022/9781789058116.jpg\n1090\nhttps://covers.openlibrary.org/b/isbn/9781781978375-M.jpg\n/dbfs/FileStore/Bookimages2022/9781781978375.jpg\n1091\nhttps://covers.openlibrary.org/b/isbn/9781783433773-M.jpg\n/dbfs/FileStore/Bookimages2022/9781783433773.jpg\n1092\nhttps://covers.openlibrary.org/b/isbn/9781529062601-M.jpg\n/dbfs/FileStore/Bookimages2022/9781529062601.jpg\n1093\nhttps://covers.openlibrary.org/b/isbn/9781529062618-M.jpg\n/dbfs/FileStore/Bookimages2022/9781529062618.jpg\n1094\nhttps://covers.openlibrary.org/b/isbn/9781529071269-M.jpg\n/dbfs/FileStore/Bookimages2022/9781529071269.jpg\n1095\nhttps://covers.openlibrary.org/b/isbn/9781509843596-M.jpg\n/dbfs/FileStore/Bookimages2022/9781509843596.jpg\n1096\nhttps://covers.openlibrary.org/b/isbn/9781526626585-M.jpg\n/dbfs/FileStore/Bookimages2022/9781526626585.jpg\n1097\nhttps://covers.openlibrary.org/b/isbn/9781526637888-M.jpg\n/dbfs/FileStore/Bookimages2022/9781526637888.jpg\n1098\nhttps://covers.openlibrary.org/b/isbn/9781526640871-M.jpg\n/dbfs/FileStore/Bookimages2022/9781526640871.jpg\n1099\nhttps://covers.openlibrary.org/b/isbn/9781526614711-M.jpg\n/dbfs/FileStore/Bookimages2022/9781526614711.jpg\n1100\nhttps://covers.openlibrary.org/b/isbn/9780755500390-M.jpg\n/dbfs/FileStore/Bookimages2022/9780755500390.jpg\n1101\nhttps://covers.openlibrary.org/b/isbn/9780755500413-M.jpg\n/dbfs/FileStore/Bookimages2022/9780755500413.jpg\n1102\nhttps://covers.openlibrary.org/b/isbn/9780755500420-M.jpg\n/dbfs/FileStore/Bookimages2022/9780755500420.jpg\n1103\nhttps://covers.openlibrary.org/b/isbn/9780755500444-M.jpg\n/dbfs/FileStore/Bookimages2022/9780755500444.jpg\n1104\nhttps://covers.openlibrary.org/b/isbn/9780755500451-M.jpg\n/dbfs/FileStore/Bookimages2022/9780755500451.jpg\n1105\nhttps://covers.openlibrary.org/b/isbn/9780755501823-M.jpg\n/dbfs/FileStore/Bookimages2022/9780755501823.jpg\n1106\nhttps://covers.openlibrary.org/b/isbn/9780755503216-M.jpg\n/dbfs/FileStore/Bookimages2022/9780755503216.jpg\n1107\nhttps://covers.openlibrary.org/b/isbn/9780008491277-M.jpg\n/dbfs/FileStore/Bookimages2022/9780008491277.jpg\n1108\nhttps://covers.openlibrary.org/b/isbn/9781338716931-M.jpg\n/dbfs/FileStore/Bookimages2022/9781338716931.jpg\n1109\nhttps://covers.openlibrary.org/b/isbn/9781338745290-M.jpg\n/dbfs/FileStore/Bookimages2022/9781338745290.jpg\n1110\nhttps://covers.openlibrary.org/b/isbn/9781338790924-M.jpg\n/dbfs/FileStore/Bookimages2022/9781338790924.jpg\n1111\nhttps://covers.openlibrary.org/b/isbn/9781338635515-M.jpg\n/dbfs/FileStore/Bookimages2022/9781338635515.jpg\n1112\nhttps://covers.openlibrary.org/b/isbn/9780603579288-M.jpg\n/dbfs/FileStore/Bookimages2022/9780603579288.jpg\n1113\nhttps://covers.openlibrary.org/b/isbn/9780008164850-M.jpg\n/dbfs/FileStore/Bookimages2022/9780008164850.jpg\n1114\nhttps://covers.openlibrary.org/b/isbn/9780008164898-M.jpg\n/dbfs/FileStore/Bookimages2022/9780008164898.jpg\n1115\nhttps://covers.openlibrary.org/b/isbn/9780008530259-M.jpg\n/dbfs/FileStore/Bookimages2022/9780008530259.jpg\n1116\nhttps://covers.openlibrary.org/b/isbn/9781338801941-M.jpg\n/dbfs/FileStore/Bookimages2022/9781338801941.jpg\n1117\nhttps://covers.openlibrary.org/b/isbn/9780007527557-M.jpg\n/dbfs/FileStore/Bookimages2022/9780007527557.jpg\n1118\nhttps://covers.openlibrary.org/b/isbn/9781529083590-M.jpg\n/dbfs/FileStore/Bookimages2022/9781529083590.jpg\n1119\nhttps://covers.openlibrary.org/b/isbn/9781529052411-M.jpg\n/dbfs/FileStore/Bookimages2022/9781529052411.jpg\n1120\nhttps://covers.openlibrary.org/b/isbn/9781529052428-M.jpg\n/dbfs/FileStore/Bookimages2022/9781529052428.jpg\n1121\nhttps://covers.openlibrary.org/b/isbn/9781529052435-M.jpg\n/dbfs/FileStore/Bookimages2022/9781529052435.jpg\n1122\nhttps://covers.openlibrary.org/b/isbn/9781529052442-M.jpg\n/dbfs/FileStore/Bookimages2022/9781529052442.jpg\n1123\nhttps://covers.openlibrary.org/b/isbn/9782764335314-M.jpg\n/dbfs/FileStore/Bookimages2022/9782764335314.jpg\n1124\nhttps://covers.openlibrary.org/b/isbn/9782764353011-M.jpg\n/dbfs/FileStore/Bookimages2022/9782764353011.jpg\n1125\nhttps://covers.openlibrary.org/b/isbn/9782764353561-M.jpg\n/dbfs/FileStore/Bookimages2022/9782764353561.jpg\n1126\nhttps://covers.openlibrary.org/b/isbn/9782764353578-M.jpg\n/dbfs/FileStore/Bookimages2022/9782764353578.jpg\n1127\nhttps://covers.openlibrary.org/b/isbn/9782764353592-M.jpg\n/dbfs/FileStore/Bookimages2022/9782764353592.jpg\n1128\nhttps://covers.openlibrary.org/b/isbn/9782764353608-M.jpg\n/dbfs/FileStore/Bookimages2022/9782764353608.jpg\n1129\nhttps://covers.openlibrary.org/b/isbn/9782764353615-M.jpg\n/dbfs/FileStore/Bookimages2022/9782764353615.jpg\n1130\nhttps://covers.openlibrary.org/b/isbn/9782764352465-M.jpg\n/dbfs/FileStore/Bookimages2022/9782764352465.jpg\n1131\nhttps://covers.openlibrary.org/b/isbn/9782764351697-M.jpg\n/dbfs/FileStore/Bookimages2022/9782764351697.jpg\n1132\nhttps://covers.openlibrary.org/b/isbn/9782764354063-M.jpg\n/dbfs/FileStore/Bookimages2022/9782764354063.jpg\n1133\nhttps://covers.openlibrary.org/b/isbn/9782764354254-M.jpg\n/dbfs/FileStore/Bookimages2022/9782764354254.jpg\n1134\nhttps://covers.openlibrary.org/b/isbn/9782764354261-M.jpg\n/dbfs/FileStore/Bookimages2022/9782764354261.jpg\n1135\nhttps://covers.openlibrary.org/b/isbn/9782764353622-M.jpg\n/dbfs/FileStore/Bookimages2022/9782764353622.jpg\n1136\nhttps://covers.openlibrary.org/b/isbn/9780062675187-M.jpg\n/dbfs/FileStore/Bookimages2022/9780062675187.jpg\n1137\nhttps://covers.openlibrary.org/b/isbn/9780241297544-M.jpg\n/dbfs/FileStore/Bookimages2022/9780241297544.jpg\n1138\nhttps://covers.openlibrary.org/b/isbn/9780062447500-M.jpg\n/dbfs/FileStore/Bookimages2022/9780062447500.jpg\n1139\nhttps://covers.openlibrary.org/b/isbn/9780062447517-M.jpg\n/dbfs/FileStore/Bookimages2022/9780062447517.jpg\n1140\nhttps://covers.openlibrary.org/b/isbn/9780062447524-M.jpg\n/dbfs/FileStore/Bookimages2022/9780062447524.jpg\n1141\nhttps://covers.openlibrary.org/b/isbn/9780062447531-M.jpg\n/dbfs/FileStore/Bookimages2022/9780062447531.jpg\n1142\nhttps://covers.openlibrary.org/b/isbn/9780062447548-M.jpg\n/dbfs/FileStore/Bookimages2022/9780062447548.jpg\n1143\nhttps://covers.openlibrary.org/b/isbn/9780062447555-M.jpg\n/dbfs/FileStore/Bookimages2022/9780062447555.jpg\n1144\nhttps://covers.openlibrary.org/b/isbn/9780062447562-M.jpg\n/dbfs/FileStore/Bookimages2022/9780062447562.jpg\n1145\nhttps://covers.openlibrary.org/b/isbn/9780062447579-M.jpg\n/dbfs/FileStore/Bookimages2022/9780062447579.jpg\n1146\nhttps://covers.openlibrary.org/b/isbn/9780008175504-M.jpg\n/dbfs/FileStore/Bookimages2022/9780008175504.jpg\n1147\nhttps://covers.openlibrary.org/b/isbn/9780008226770-M.jpg\n/dbfs/FileStore/Bookimages2022/9780008226770.jpg\n1148\nhttps://covers.openlibrary.org/b/isbn/9780008259549-M.jpg\n/dbfs/FileStore/Bookimages2022/9780008259549.jpg\n1149\nhttps://covers.openlibrary.org/b/isbn/9780261103832-M.jpg\n/dbfs/FileStore/Bookimages2022/9780261103832.jpg\n1150\nhttps://covers.openlibrary.org/b/isbn/9781803374581-M.jpg\n/dbfs/FileStore/Bookimages2022/9781803374581.jpg\n1151\nhttps://covers.openlibrary.org/b/isbn/9781800589926-M.jpg\n/dbfs/FileStore/Bookimages2022/9781800589926.jpg\n1152\nhttps://covers.openlibrary.org/b/isbn/9781800589940-M.jpg\n/dbfs/FileStore/Bookimages2022/9781800589940.jpg\n1153\nhttps://covers.openlibrary.org/b/isbn/9781803374604-M.jpg\n/dbfs/FileStore/Bookimages2022/9781803374604.jpg\n1154\nhttps://covers.openlibrary.org/b/isbn/9781803374611-M.jpg\n/dbfs/FileStore/Bookimages2022/9781803374611.jpg\n1155\nhttps://covers.openlibrary.org/b/isbn/9781803374628-M.jpg\n/dbfs/FileStore/Bookimages2022/9781803374628.jpg\n1156\nhttps://covers.openlibrary.org/b/isbn/9781803374727-M.jpg\n/dbfs/FileStore/Bookimages2022/9781803374727.jpg\n1157\nhttps://covers.openlibrary.org/b/isbn/9781803374772-M.jpg\n/dbfs/FileStore/Bookimages2022/9781803374772.jpg\n1158\nhttps://covers.openlibrary.org/b/isbn/9781803374796-M.jpg\n/dbfs/FileStore/Bookimages2022/9781803374796.jpg\n1159\nhttps://covers.openlibrary.org/b/isbn/9781803374819-M.jpg\n/dbfs/FileStore/Bookimages2022/9781803374819.jpg\n1160\nhttps://covers.openlibrary.org/b/isbn/9781803374833-M.jpg\n/dbfs/FileStore/Bookimages2022/9781803374833.jpg\n1161\nhttps://covers.openlibrary.org/b/isbn/9781803374840-M.jpg\n/dbfs/FileStore/Bookimages2022/9781803374840.jpg\n1162\nhttps://covers.openlibrary.org/b/isbn/9781803375014-M.jpg\n/dbfs/FileStore/Bookimages2022/9781803375014.jpg\n1163\nhttps://covers.openlibrary.org/b/isbn/9781803372334-M.jpg\n/dbfs/FileStore/Bookimages2022/9781803372334.jpg\n1164\nhttps://covers.openlibrary.org/b/isbn/9781803374536-M.jpg\n/dbfs/FileStore/Bookimages2022/9781803374536.jpg\n1165\nhttps://covers.openlibrary.org/b/isbn/9781803374550-M.jpg\n/dbfs/FileStore/Bookimages2022/9781803374550.jpg\n1166\nhttps://covers.openlibrary.org/b/isbn/9781800583887-M.jpg\n/dbfs/FileStore/Bookimages2022/9781800583887.jpg\n1167\nhttps://covers.openlibrary.org/b/isbn/9781529045932-M.jpg\n/dbfs/FileStore/Bookimages2022/9781529045932.jpg\n1168\nhttps://covers.openlibrary.org/b/isbn/9781788242943-M.jpg\n/dbfs/FileStore/Bookimages2022/9781788242943.jpg\n1169\nhttps://covers.openlibrary.org/b/isbn/9781788242950-M.jpg\n/dbfs/FileStore/Bookimages2022/9781788242950.jpg\n1170\nhttps://covers.openlibrary.org/b/isbn/9781788243094-M.jpg\n/dbfs/FileStore/Bookimages2022/9781788243094.jpg\n1171\nhttps://covers.openlibrary.org/b/isbn/9781788242325-M.jpg\n/dbfs/FileStore/Bookimages2022/9781788242325.jpg\n1172\nhttps://covers.openlibrary.org/b/isbn/9781788242332-M.jpg\n/dbfs/FileStore/Bookimages2022/9781788242332.jpg\n1173\nhttps://covers.openlibrary.org/b/isbn/9781788242110-M.jpg\n/dbfs/FileStore/Bookimages2022/9781788242110.jpg\n1174\nhttps://covers.openlibrary.org/b/isbn/9781788241946-M.jpg\n/dbfs/FileStore/Bookimages2022/9781788241946.jpg\n1175\nhttps://covers.openlibrary.org/b/isbn/9781788242004-M.jpg\n/dbfs/FileStore/Bookimages2022/9781788242004.jpg\n1176\nhttps://covers.openlibrary.org/b/isbn/9781788242028-M.jpg\n/dbfs/FileStore/Bookimages2022/9781788242028.jpg\n1177\nhttps://covers.openlibrary.org/b/isbn/9781788240024-M.jpg\n/dbfs/FileStore/Bookimages2022/9781788240024.jpg\n1178\nhttps://covers.openlibrary.org/b/isbn/9781788240857-M.jpg\n/dbfs/FileStore/Bookimages2022/9781788240857.jpg\n1179\nhttps://covers.openlibrary.org/b/isbn/9781788241410-M.jpg\n/dbfs/FileStore/Bookimages2022/9781788241410.jpg\n1180\nhttps://covers.openlibrary.org/b/isbn/9781788241373-M.jpg\n/dbfs/FileStore/Bookimages2022/9781788241373.jpg\n1181\nhttps://covers.openlibrary.org/b/isbn/9781529054378-M.jpg\n/dbfs/FileStore/Bookimages2022/9781529054378.jpg\n1182\nhttps://covers.openlibrary.org/b/isbn/9781529077315-M.jpg\n/dbfs/FileStore/Bookimages2022/9781529077315.jpg\n1183\nhttps://covers.openlibrary.org/b/isbn/9781529066081-M.jpg\n/dbfs/FileStore/Bookimages2022/9781529066081.jpg\n1184\nhttps://covers.openlibrary.org/b/isbn/9781529066067-M.jpg\n/dbfs/FileStore/Bookimages2022/9781529066067.jpg\n1185\nhttps://covers.openlibrary.org/b/isbn/9781488901027-M.jpg\n/dbfs/FileStore/Bookimages2022/9781488901027.jpg\n1186\nhttps://covers.openlibrary.org/b/isbn/9781488901089-M.jpg\n/dbfs/FileStore/Bookimages2022/9781488901089.jpg\n1187\nhttps://covers.openlibrary.org/b/isbn/9781488901140-M.jpg\n/dbfs/FileStore/Bookimages2022/9781488901140.jpg\n1188\nhttps://covers.openlibrary.org/b/isbn/9781488901201-M.jpg\n/dbfs/FileStore/Bookimages2022/9781488901201.jpg\n1189\nhttps://covers.openlibrary.org/b/isbn/9781743085189-M.jpg\n/dbfs/FileStore/Bookimages2022/9781743085189.jpg\n1190\nhttps://covers.openlibrary.org/b/isbn/9781743528877-M.jpg\n/dbfs/FileStore/Bookimages2022/9781743528877.jpg\n1191\nhttps://covers.openlibrary.org/b/isbn/9781865151847-M.jpg\n/dbfs/FileStore/Bookimages2022/9781865151847.jpg\n1192\nhttps://covers.openlibrary.org/b/isbn/9780241454138-M.jpg\n/dbfs/FileStore/Bookimages2022/9780241454138.jpg\n1193\nhttps://covers.openlibrary.org/b/isbn/9780241501405-M.jpg\n/dbfs/FileStore/Bookimages2022/9780241501405.jpg\n1194\nhttps://covers.openlibrary.org/b/isbn/9781250802699-M.jpg\n/dbfs/FileStore/Bookimages2022/9781250802699.jpg\n1195\nhttps://covers.openlibrary.org/b/isbn/9781250817617-M.jpg\n/dbfs/FileStore/Bookimages2022/9781250817617.jpg\n1196\nhttps://covers.openlibrary.org/b/isbn/9781488944703-M.jpg\n/dbfs/FileStore/Bookimages2022/9781488944703.jpg\n1197\nhttps://covers.openlibrary.org/b/isbn/9781488944796-M.jpg\n/dbfs/FileStore/Bookimages2022/9781488944796.jpg\n1198\nhttps://covers.openlibrary.org/b/isbn/9781488944826-M.jpg\n/dbfs/FileStore/Bookimages2022/9781488944826.jpg\n1199\nhttps://covers.openlibrary.org/b/isbn/9781488944895-M.jpg\n/dbfs/FileStore/Bookimages2022/9781488944895.jpg\n1200\nhttps://covers.openlibrary.org/b/isbn/9781488944949-M.jpg\n/dbfs/FileStore/Bookimages2022/9781488944949.jpg\n1201\nhttps://covers.openlibrary.org/b/isbn/9781488943355-M.jpg\n/dbfs/FileStore/Bookimages2022/9781488943355.jpg\n1202\nhttps://covers.openlibrary.org/b/isbn/9781488937446-M.jpg\n/dbfs/FileStore/Bookimages2022/9781488937446.jpg\n1203\nhttps://covers.openlibrary.org/b/isbn/9781488937507-M.jpg\n/dbfs/FileStore/Bookimages2022/9781488937507.jpg\n1204\nhttps://covers.openlibrary.org/b/isbn/9781488943409-M.jpg\n/dbfs/FileStore/Bookimages2022/9781488943409.jpg\n1205\nhttps://covers.openlibrary.org/b/isbn/9781488943461-M.jpg\n/dbfs/FileStore/Bookimages2022/9781488943461.jpg\n1206\nhttps://covers.openlibrary.org/b/isbn/9781488943478-M.jpg\n/dbfs/FileStore/Bookimages2022/9781488943478.jpg\n1207\nhttps://covers.openlibrary.org/b/isbn/9781488943522-M.jpg\n/dbfs/FileStore/Bookimages2022/9781488943522.jpg\n1208\nhttps://covers.openlibrary.org/b/isbn/9781488943539-M.jpg\n/dbfs/FileStore/Bookimages2022/9781488943539.jpg\n1209\nhttps://covers.openlibrary.org/b/isbn/9781488943584-M.jpg\n/dbfs/FileStore/Bookimages2022/9781488943584.jpg\n1210\nhttps://covers.openlibrary.org/b/isbn/9781488943591-M.jpg\n/dbfs/FileStore/Bookimages2022/9781488943591.jpg\n1211\nhttps://covers.openlibrary.org/b/isbn/9781488943645-M.jpg\n/dbfs/FileStore/Bookimages2022/9781488943645.jpg\n1212\nhttps://covers.openlibrary.org/b/isbn/9781488943652-M.jpg\n/dbfs/FileStore/Bookimages2022/9781488943652.jpg\n1213\nhttps://covers.openlibrary.org/b/isbn/9781488943706-M.jpg\n/dbfs/FileStore/Bookimages2022/9781488943706.jpg\n1214\nhttps://covers.openlibrary.org/b/isbn/9781488943713-M.jpg\n/dbfs/FileStore/Bookimages2022/9781488943713.jpg\n1215\nhttps://covers.openlibrary.org/b/isbn/9781488943768-M.jpg\n/dbfs/FileStore/Bookimages2022/9781488943768.jpg\n1216\nhttps://covers.openlibrary.org/b/isbn/9781488943942-M.jpg\n/dbfs/FileStore/Bookimages2022/9781488943942.jpg\n1217\nhttps://covers.openlibrary.org/b/isbn/9781488944000-M.jpg\n/dbfs/FileStore/Bookimages2022/9781488944000.jpg\n1218\nhttps://covers.openlibrary.org/b/isbn/9781488944017-M.jpg\n/dbfs/FileStore/Bookimages2022/9781488944017.jpg\n1219\nhttps://covers.openlibrary.org/b/isbn/9781488944062-M.jpg\n/dbfs/FileStore/Bookimages2022/9781488944062.jpg\n1220\nhttps://covers.openlibrary.org/b/isbn/9781488944079-M.jpg\n/dbfs/FileStore/Bookimages2022/9781488944079.jpg\n1221\nhttps://covers.openlibrary.org/b/isbn/9781488940743-M.jpg\n/dbfs/FileStore/Bookimages2022/9781488940743.jpg\n1222\nhttps://covers.openlibrary.org/b/isbn/9781488910272-M.jpg\n/dbfs/FileStore/Bookimages2022/9781488910272.jpg\n1223\nhttps://covers.openlibrary.org/b/isbn/9781488910296-M.jpg\n/dbfs/FileStore/Bookimages2022/9781488910296.jpg\n1224\nhttps://covers.openlibrary.org/b/isbn/9781488914003-M.jpg\n/dbfs/FileStore/Bookimages2022/9781488914003.jpg\n1225\nhttps://covers.openlibrary.org/b/isbn/9781488915796-M.jpg\n/dbfs/FileStore/Bookimages2022/9781488915796.jpg\n1226\nhttps://covers.openlibrary.org/b/isbn/9781488915857-M.jpg\n/dbfs/FileStore/Bookimages2022/9781488915857.jpg\n1227\nhttps://covers.openlibrary.org/b/isbn/9781488915604-M.jpg\n/dbfs/FileStore/Bookimages2022/9781488915604.jpg\n1228\nhttps://covers.openlibrary.org/b/isbn/9781488916137-M.jpg\n/dbfs/FileStore/Bookimages2022/9781488916137.jpg\n1229\nhttps://covers.openlibrary.org/b/isbn/9781488917783-M.jpg\n/dbfs/FileStore/Bookimages2022/9781488917783.jpg\n1230\nhttps://covers.openlibrary.org/b/isbn/9781488917929-M.jpg\n/dbfs/FileStore/Bookimages2022/9781488917929.jpg\n1231\nhttps://covers.openlibrary.org/b/isbn/9781488917943-M.jpg\n/dbfs/FileStore/Bookimages2022/9781488917943.jpg\n1232\nhttps://covers.openlibrary.org/b/isbn/9781488917325-M.jpg\n/dbfs/FileStore/Bookimages2022/9781488917325.jpg\n1233\nhttps://covers.openlibrary.org/b/isbn/9781488917035-M.jpg\n/dbfs/FileStore/Bookimages2022/9781488917035.jpg\n1234\nhttps://covers.openlibrary.org/b/isbn/9781488922091-M.jpg\n/dbfs/FileStore/Bookimages2022/9781488922091.jpg\n1235\nhttps://covers.openlibrary.org/b/isbn/9781488922138-M.jpg\n/dbfs/FileStore/Bookimages2022/9781488922138.jpg\n1236\nhttps://covers.openlibrary.org/b/isbn/9781488921438-M.jpg\n/dbfs/FileStore/Bookimages2022/9781488921438.jpg\n1237\nhttps://covers.openlibrary.org/b/isbn/9781488921728-M.jpg\n/dbfs/FileStore/Bookimages2022/9781488921728.jpg\n1238\nhttps://covers.openlibrary.org/b/isbn/9781488925870-M.jpg\n/dbfs/FileStore/Bookimages2022/9781488925870.jpg\n1239\nhttps://covers.openlibrary.org/b/isbn/9781488925948-M.jpg\n/dbfs/FileStore/Bookimages2022/9781488925948.jpg\n1240\nhttps://covers.openlibrary.org/b/isbn/9781488926181-M.jpg\n/dbfs/FileStore/Bookimages2022/9781488926181.jpg\n1241\nhttps://covers.openlibrary.org/b/isbn/9781488923838-M.jpg\n/dbfs/FileStore/Bookimages2022/9781488923838.jpg\n1242\nhttps://covers.openlibrary.org/b/isbn/9781488925030-M.jpg\n/dbfs/FileStore/Bookimages2022/9781488925030.jpg\n1243\nhttps://covers.openlibrary.org/b/isbn/9781488925177-M.jpg\n/dbfs/FileStore/Bookimages2022/9781488925177.jpg\n1244\nhttps://covers.openlibrary.org/b/isbn/9781488925269-M.jpg\n/dbfs/FileStore/Bookimages2022/9781488925269.jpg\n1245\nhttps://covers.openlibrary.org/b/isbn/9781488922527-M.jpg\n/dbfs/FileStore/Bookimages2022/9781488922527.jpg\n1246\nhttps://covers.openlibrary.org/b/isbn/9781488923135-M.jpg\n/dbfs/FileStore/Bookimages2022/9781488923135.jpg\n1247\nhttps://covers.openlibrary.org/b/isbn/9781865151960-M.jpg\n/dbfs/FileStore/Bookimages2022/9781865151960.jpg\n1248\nhttps://covers.openlibrary.org/b/isbn/9781865152684-M.jpg\n/dbfs/FileStore/Bookimages2022/9781865152684.jpg\n1249\nhttps://covers.openlibrary.org/b/isbn/9781865152707-M.jpg\n/dbfs/FileStore/Bookimages2022/9781865152707.jpg\n1250\nhttps://covers.openlibrary.org/b/isbn/9781865152813-M.jpg\n/dbfs/FileStore/Bookimages2022/9781865152813.jpg\n1251\nhttps://covers.openlibrary.org/b/isbn/9781865152820-M.jpg\n/dbfs/FileStore/Bookimages2022/9781865152820.jpg\n1252\nhttps://covers.openlibrary.org/b/isbn/9780141364018-M.jpg\n/dbfs/FileStore/Bookimages2022/9780141364018.jpg\n1253\nhttps://covers.openlibrary.org/b/isbn/9780141364056-M.jpg\n/dbfs/FileStore/Bookimages2022/9780141364056.jpg\n1254\nhttps://covers.openlibrary.org/b/isbn/9780141364094-M.jpg\n/dbfs/FileStore/Bookimages2022/9780141364094.jpg\n1255\nhttps://covers.openlibrary.org/b/isbn/9780241473665-M.jpg\n/dbfs/FileStore/Bookimages2022/9780241473665.jpg\n1256\nhttps://covers.openlibrary.org/b/isbn/9781250829214-M.jpg\n/dbfs/FileStore/Bookimages2022/9781250829214.jpg\n1257\nhttps://covers.openlibrary.org/b/isbn/9781250838773-M.jpg\n/dbfs/FileStore/Bookimages2022/9781250838773.jpg\n1258\nhttps://covers.openlibrary.org/b/isbn/9781250135025-M.jpg\n/dbfs/FileStore/Bookimages2022/9781250135025.jpg\n1259\nhttps://covers.openlibrary.org/b/isbn/9781250143686-M.jpg\n/dbfs/FileStore/Bookimages2022/9781250143686.jpg\n1260\nhttps://covers.openlibrary.org/b/isbn/9781250219954-M.jpg\n/dbfs/FileStore/Bookimages2022/9781250219954.jpg\n1261\nhttps://covers.openlibrary.org/b/isbn/9781250219985-M.jpg\n/dbfs/FileStore/Bookimages2022/9781250219985.jpg\n1262\nhttps://covers.openlibrary.org/b/isbn/9781250220004-M.jpg\n/dbfs/FileStore/Bookimages2022/9781250220004.jpg\n1263\nhttps://covers.openlibrary.org/b/isbn/9781250220059-M.jpg\n/dbfs/FileStore/Bookimages2022/9781250220059.jpg\n1264\nhttps://covers.openlibrary.org/b/isbn/9781250228383-M.jpg\n/dbfs/FileStore/Bookimages2022/9781250228383.jpg\n1265\nhttps://covers.openlibrary.org/b/isbn/9781250233677-M.jpg\n/dbfs/FileStore/Bookimages2022/9781250233677.jpg\n1266\nhttps://covers.openlibrary.org/b/isbn/9781250236449-M.jpg\n/dbfs/FileStore/Bookimages2022/9781250236449.jpg\n1267\nhttps://covers.openlibrary.org/b/isbn/9781250258021-M.jpg\n/dbfs/FileStore/Bookimages2022/9781250258021.jpg\n1268\nhttps://covers.openlibrary.org/b/isbn/9781250269430-M.jpg\n/dbfs/FileStore/Bookimages2022/9781250269430.jpg\n1269\nhttps://covers.openlibrary.org/b/isbn/9781250294159-M.jpg\n/dbfs/FileStore/Bookimages2022/9781250294159.jpg\n1270\nhttps://covers.openlibrary.org/b/isbn/9781250317568-M.jpg\n/dbfs/FileStore/Bookimages2022/9781250317568.jpg\n1271\nhttps://covers.openlibrary.org/b/isbn/9781250621764-M.jpg\n/dbfs/FileStore/Bookimages2022/9781250621764.jpg\n1272\nhttps://covers.openlibrary.org/b/isbn/9781250759641-M.jpg\n/dbfs/FileStore/Bookimages2022/9781250759641.jpg\n1273\nhttps://covers.openlibrary.org/b/isbn/9781250769244-M.jpg\n/dbfs/FileStore/Bookimages2022/9781250769244.jpg\n1274\nhttps://covers.openlibrary.org/b/isbn/9781250782557-M.jpg\n/dbfs/FileStore/Bookimages2022/9781250782557.jpg\n1275\nhttps://covers.openlibrary.org/b/isbn/9781250785411-M.jpg\n/dbfs/FileStore/Bookimages2022/9781250785411.jpg\n1276\nhttps://covers.openlibrary.org/b/isbn/9781250798954-M.jpg\n/dbfs/FileStore/Bookimages2022/9781250798954.jpg\n1277\nhttps://covers.openlibrary.org/b/isbn/9781406394542-M.jpg\n/dbfs/FileStore/Bookimages2022/9781406394542.jpg\n1278\nhttps://covers.openlibrary.org/b/isbn/9781626721418-M.jpg\n/dbfs/FileStore/Bookimages2022/9781626721418.jpg\n1279\nhttps://covers.openlibrary.org/b/isbn/9781626721432-M.jpg\n/dbfs/FileStore/Bookimages2022/9781626721432.jpg\n1280\nhttps://covers.openlibrary.org/b/isbn/9781626728011-M.jpg\n/dbfs/FileStore/Bookimages2022/9781626728011.jpg\n1281\nhttps://covers.openlibrary.org/b/isbn/9781529502343-M.jpg\n/dbfs/FileStore/Bookimages2022/9781529502343.jpg\n1282\n</div>",
       "datasetInfos": [],
       "metadata": {},
       "removedWidgets": [],
       "type": "html"
      }
     },
     "output_type": "display_data"
    }
   ],
   "source": [
    "url = \"https://covers.openlibrary.org/b/isbn/$ISBN-M.jpg\"\n",
    "path = \"/dbfs/FileStore/Bookimages2022/$ISBN.jpg\"\n",
    "i = 0\n",
    "for isbn in ISBN13[205:-1]:\n",
    "    print(url.replace(\"$ISBN\",isbn.strip()))\n",
    "    print(path.replace(\"$ISBN\",isbn.strip()))\n",
    "    urllib.request.urlretrieve(url.replace(\"$ISBN\",isbn.strip() ), path.replace(\"$ISBN\",isbn.strip() ))\n",
    "    print(i)\n",
    "    i = i+1\n",
    "    time.sleep(10)"
   ]
  },
  {
   "cell_type": "code",
   "execution_count": 0,
   "metadata": {
    "application/vnd.databricks.v1+cell": {
     "cellMetadata": {
      "byteLimit": 2048000,
      "rowLimit": 10000
     },
     "inputWidgets": {},
     "nuid": "847e5623-1223-4785-848b-9f08ed570bb1",
     "showTitle": false,
     "title": ""
    }
   },
   "outputs": [
    {
     "output_type": "display_data",
     "data": {
      "text/html": [
       "<style scoped>\n",
       "  .ansiout {\n",
       "    display: block;\n",
       "    unicode-bidi: embed;\n",
       "    white-space: pre-wrap;\n",
       "    word-wrap: break-word;\n",
       "    word-break: break-all;\n",
       "    font-family: \"Source Code Pro\", \"Menlo\", monospace;;\n",
       "    font-size: 13px;\n",
       "    color: #555;\n",
       "    margin-left: 4px;\n",
       "    line-height: 19px;\n",
       "  }\n",
       "</style>\n",
       "<div class=\"ansiout\">Out[22]: [&#39;9780593354315 &#39;,\n",
       " &#39;9780593376942 &#39;,\n",
       " &#39;9780593305478 &#39;,\n",
       " &#39;9780593093795 &#39;,\n",
       " &#39;9780593093825 &#39;,\n",
       " &#39;9780593095713 &#39;,\n",
       " &#39;9780593095744 &#39;,\n",
       " &#39;9780593095775 &#39;,\n",
       " &#39;9780593124468 &#39;,\n",
       " &#39;9780593124581 &#39;,\n",
       " &#39;9780593127261 &#39;,\n",
       " &#39;9780593173138 &#39;,\n",
       " &#39;9780593173152 &#39;,\n",
       " &#39;9780553496710 &#39;,\n",
       " &#39;9780593222737 &#39;,\n",
       " &#39;9780593222744 &#39;,\n",
       " &#39;9780593225677 &#39;,\n",
       " &#39;9780593225707 &#39;,\n",
       " &#39;9780525647676 &#39;,\n",
       " &#39;9780241377284 &#39;,\n",
       " &#39;9781984893178 &#39;,\n",
       " &#39;9781984893239 &#39;,\n",
       " &#39;9781984895639 &#39;,\n",
       " &#39;9781984893918 &#39;,\n",
       " &#39;9781984895110 &#39;,\n",
       " &#39;9781984830951 &#39;,\n",
       " &#39;9789814906555 &#39;,\n",
       " &#39;9789814918039 &#39;,\n",
       " &#39;9789814947640 &#39;,\n",
       " &#39;9780525648703 &#39;,\n",
       " &#39;9780593301371 &#39;,\n",
       " &#39;9780593303351 &#39;,\n",
       " &#39;9780593178065 &#39;,\n",
       " &#39;9780593180297 &#39;,\n",
       " &#39;9780593120842 &#39;,\n",
       " &#39;9780593122129 &#39;,\n",
       " &#39;9780593306161 &#39;,\n",
       " &#39;9780593306185 &#39;,\n",
       " &#39;9780593304365 &#39;,\n",
       " &#39;9780593305089 &#39;,\n",
       " &#39;9780593305171 &#39;,\n",
       " &#39;9780593425480 &#39;,\n",
       " &#39;9780593425497 &#39;,\n",
       " &#39;9780593425503 &#39;,\n",
       " &#39;9780736438704 &#39;,\n",
       " &#39;9780736439206 &#39;,\n",
       " &#39;9781338702446 &#39;,\n",
       " &#39;9781338347463 &#39;,\n",
       " &#39;9781338347487 &#39;,\n",
       " &#39;9781338347500 &#39;,\n",
       " &#39;9781338530124 &#39;,\n",
       " &#39;9781338587357 &#39;,\n",
       " &#39;9781338596649 &#39;,\n",
       " &#39;9781338625318 &#39;,\n",
       " &#39;9781338666373 &#39;,\n",
       " &#39;9780736440134 &#39;,\n",
       " &#39;9780736440288 &#39;,\n",
       " &#39;9780736440554 &#39;,\n",
       " &#39;9780736440820 &#39;,\n",
       " &#39;9780736440998 &#39;,\n",
       " &#39;9780736441131 &#39;,\n",
       " &#39;9780736441346 &#39;,\n",
       " &#39;9780736439855 &#39;,\n",
       " &#39;9781524715540 &#39;,\n",
       " &#39;9781524771911 &#39;,\n",
       " &#39;9781524772352 &#39;,\n",
       " &#39;9781338635454 &#39;,\n",
       " &#39;9781338356182 &#39;,\n",
       " &#39;9781338598896 &#39;,\n",
       " &#39;9781338320244 &#39;,\n",
       " &#39;9781338323450 &#39;,\n",
       " &#39;9781338344219 &#39;,\n",
       " &#39;9781338053623 &#39;,\n",
       " &#39;9781338214604 &#39;,\n",
       " &#39;9781338236132 &#39;,\n",
       " &#39;9781338298758 &#39;,\n",
       " &#39;9781338298796 &#39;,\n",
       " &#39;9781338304572 &#39;,\n",
       " &#39;9781338725124 &#39;,\n",
       " &#39;9780545946100 &#39;,\n",
       " &#39;9789814919982 &#39;,\n",
       " &#39;9781984830975 &#39;,\n",
       " &#39;9781984895219 &#39;,\n",
       " &#39;9781984849823 &#39;,\n",
       " &#39;9781984850270 &#39;,\n",
       " &#39;9780525648512 &#39;,\n",
       " &#39;9780553510928 &#39;,\n",
       " &#39;9780593304334 &#39;,\n",
       " &#39;9780525580782 &#39;,\n",
       " &#39;9781338715996 &#39;,\n",
       " &#39;9781338214543 &#39;,\n",
       " &#39;9781338684971 &#39;,\n",
       " &#39;9781338685015 &#39;,\n",
       " &#39;9781338672114 &#39;,\n",
       " &#39;9780736439879 &#39;,\n",
       " &#39;9789814864084 &#39;,\n",
       " &#39;9789814864091 &#39;,\n",
       " &#39;9789814906517 &#39;,\n",
       " &#39;9781338320268 &#39;,\n",
       " &#39;9780241430217 &#39;,\n",
       " &#39;9780241448267 &#39;,\n",
       " &#39;9780241426692 &#39;,\n",
       " &#39;9780241416723 &#39;,\n",
       " &#39;9780241416747 &#39;,\n",
       " &#39;9780241476260 &#39;,\n",
       " &#39;9780241476345 &#39;,\n",
       " &#39;9780241420218 &#39;,\n",
       " &#39;9780241365991 &#39;,\n",
       " &#39;9780241373354 &#39;,\n",
       " &#39;9780241412084 &#39;,\n",
       " &#39;9780241412251 &#39;,\n",
       " &#39;9780241380260 &#39;,\n",
       " &#39;9780241380314 &#39;,\n",
       " &#39;9780241382554 &#39;,\n",
       " &#39;9780241382578 &#39;,\n",
       " &#39;9780141377896 &#39;,\n",
       " &#39;9781800589278 &#39;,\n",
       " &#39;9781800589292 &#39;,\n",
       " &#39;9781800589308 &#39;,\n",
       " &#39;9781800589315 &#39;,\n",
       " &#39;9781800589339 &#39;,\n",
       " &#39;9781800589346 &#39;,\n",
       " &#39;9781800589353 &#39;,\n",
       " &#39;9781800589360 &#39;,\n",
       " &#39;9781800589377 &#39;,\n",
       " &#39;9781800589384 &#39;,\n",
       " &#39;9781800589391 &#39;,\n",
       " &#39;9781800589407 &#39;,\n",
       " &#39;9781800589414 &#39;,\n",
       " &#39;9781800589421 &#39;,\n",
       " &#39;9781800589438 &#39;,\n",
       " &#39;9781800589445 &#39;,\n",
       " &#39;9781800589643 &#39;,\n",
       " &#39;9781800589650 &#39;,\n",
       " &#39;9781800589667 &#39;,\n",
       " &#39;9781800589674 &#39;,\n",
       " &#39;9781800589681 &#39;,\n",
       " &#39;9781800589698 &#39;,\n",
       " &#39;9781800589704 &#39;,\n",
       " &#39;9781800589711 &#39;,\n",
       " &#39;9781800589735 &#39;,\n",
       " &#39;9781800589742 &#39;,\n",
       " &#39;9781800589759 &#39;,\n",
       " &#39;9781800589766 &#39;,\n",
       " &#39;9781800589773 &#39;,\n",
       " &#39;9781800589780 &#39;,\n",
       " &#39;9781800589797 &#39;,\n",
       " &#39;9781800589803 &#39;,\n",
       " &#39;9781407198552 &#39;,\n",
       " &#39;9781407198569 &#39;,\n",
       " &#39;9780702305849 &#39;,\n",
       " &#39;9780702305948 &#39;,\n",
       " &#39;9780702300028 &#39;,\n",
       " &#39;9780702301582 &#39;,\n",
       " &#39;9780702302527 &#39;,\n",
       " &#39;9780702304255 &#39;,\n",
       " &#39;9780702305757 &#39;,\n",
       " &#39;9781407177663 &#39;,\n",
       " &#39;9781407186733 &#39;,\n",
       " &#39;9781407196657 &#39;,\n",
       " &#39;9781407198422 &#39;,\n",
       " &#39;9781407198439 &#39;,\n",
       " &#39;9781407198491 &#39;,\n",
       " &#39;9781407197111 &#39;,\n",
       " &#39;9781407197135 &#39;,\n",
       " &#39;9781407197142 &#39;,\n",
       " &#39;9781407193335 &#39;,\n",
       " &#39;9781407195650 &#39;,\n",
       " &#39;9781407179872 &#39;,\n",
       " &#39;9780702305832 &#39;,\n",
       " &#39;9780702306945 &#39;,\n",
       " &#39;9780702307348 &#39;,\n",
       " &#39;9780241411797 &#39;,\n",
       " &#39;9780241411957 &#39;,\n",
       " &#39;9780241425060 &#39;,\n",
       " &#39;9780241365854 &#39;,\n",
       " &#39;9780241533963 &#39;,\n",
       " &#39;9781406392357 &#39;,\n",
       " &#39;9781406396775 &#39;,\n",
       " &#39;9781913484118 &#39;,\n",
       " &#39;9781741850536 &#39;,\n",
       " &#39;9781743085158 &#39;,\n",
       " &#39;9781488900808 &#39;,\n",
       " &#39;9781488938054 &#39;,\n",
       " &#39;9781488944413 &#39;,\n",
       " &#39;9781488968488 &#39;,\n",
       " &#39;9781488968525 &#39;,\n",
       " &#39;9781488968549 &#39;,\n",
       " &#39;9781488935398 &#39;,\n",
       " &#39;9781488935510 &#39;,\n",
       " &#39;9781488936951 &#39;,\n",
       " &#39;9781488937019 &#39;,\n",
       " &#39;9781488939358 &#39;,\n",
       " &#39;9781488939402 &#39;,\n",
       " &#39;9781488910968 &#39;,\n",
       " &#39;9781488911026 &#39;,\n",
       " &#39;9781488910418 &#39;,\n",
       " &#39;9781488914201 &#39;,\n",
       " &#39;9781488918285 &#39;,\n",
       " &#39;9781488925733 &#39;,\n",
       " &#39;9781488927362 &#39;,\n",
       " &#39;9781488927409 &#39;,\n",
       " &#39;9781488933196 &#39;,\n",
       " &#39;9781488922343 &#39;,\n",
       " &#39;9781488922381 &#39;,\n",
       " &#39;9781488923814 &#39;,\n",
       " &#39;9781488918384 &#39;,\n",
       " &#39;9781488918391 &#39;,\n",
       " &#39;9781488919039 &#39;,\n",
       " &#39;9781488919183 &#39;,\n",
       " &#39;9781488919367 &#39;,\n",
       " &#39;9781488920066 &#39;,\n",
       " &#39;9781488920158 &#39;,\n",
       " &#39;9781488921858 &#39;,\n",
       " &#39;9781488921896 &#39;,\n",
       " &#39;9781488910869 &#39;,\n",
       " &#39;9781488915710 &#39;,\n",
       " &#39;9781488915727 &#39;,\n",
       " &#39;9781488913440 &#39;,\n",
       " &#39;9781488913563 &#39;,\n",
       " &#39;9781488913655 &#39;,\n",
       " &#39;9781488913679 &#39;,\n",
       " &#39;9781488907333 &#39;,\n",
       " &#39;9781488908705 &#39;,\n",
       " &#39;9781488916175 &#39;,\n",
       " &#39;9781488916298 &#39;,\n",
       " &#39;9781488916403 &#39;,\n",
       " &#39;9781488916533 &#39;,\n",
       " &#39;9781488916656 &#39;,\n",
       " &#39;9781488917141 &#39;,\n",
       " &#39;9781488917189 &#39;,\n",
       " &#39;9781488917257 &#39;,\n",
       " &#39;9781488917288 &#39;,\n",
       " &#39;9781488917509 &#39;,\n",
       " &#39;9781488917554 &#39;,\n",
       " &#39;9781488917561 &#39;,\n",
       " &#39;9781488917578 &#39;,\n",
       " &#39;9781488916007 &#39;,\n",
       " &#39;9781488918155 &#39;,\n",
       " &#39;9781488918278 &#39;,\n",
       " &#39;9781488939655 &#39;,\n",
       " &#39;9781488940217 &#39;,\n",
       " &#39;9781488940682 &#39;,\n",
       " &#39;9781488943850 &#39;,\n",
       " &#39;9781488943379 &#39;,\n",
       " &#39;9781488937262 &#39;,\n",
       " &#39;9781488937354 &#39;,\n",
       " &#39;9781488936289 &#39;,\n",
       " &#39;9781488936821 &#39;,\n",
       " &#39;9781488936838 &#39;,\n",
       " &#39;9781488942600 &#39;,\n",
       " &#39;9781488942655 &#39;,\n",
       " &#39;9781488942822 &#39;,\n",
       " &#39;9781488942846 &#39;,\n",
       " &#39;9781488943027 &#39;,\n",
       " &#39;9781488943089 &#39;,\n",
       " &#39;9781488943126 &#39;,\n",
       " &#39;9781488943140 &#39;,\n",
       " &#39;9781488943157 &#39;,\n",
       " &#39;9781488943201 &#39;,\n",
       " &#39;9781488943263 &#39;,\n",
       " &#39;9781488943324 &#39;,\n",
       " &#39;9781488939020 &#39;,\n",
       " &#39;9781488933783 &#39;,\n",
       " &#39;9781488905667 &#39;,\n",
       " &#39;9781488944246 &#39;,\n",
       " &#39;9781488945120 &#39;,\n",
       " &#39;9781488900334 &#39;,\n",
       " &#39;9781787722224 &#39;,\n",
       " &#39;9781787723078 &#39;,\n",
       " &#39;9781787724235 &#39;,\n",
       " &#39;9781742819006 &#39;,\n",
       " &#39;9781742819204 &#39;,\n",
       " &#39;9781488944338 &#39;,\n",
       " &#39;9781488907180 &#39;,\n",
       " &#39;9781488907203 &#39;,\n",
       " &#39;9781488907241 &#39;,\n",
       " &#39;9781488933714 &#39;,\n",
       " &#39;9781488919947 &#39;,\n",
       " &#39;9781488920004 &#39;,\n",
       " &#39;9781488909757 &#39;,\n",
       " &#39;9780008438708 &#39;,\n",
       " &#39;9781474959964 &#39;,\n",
       " &#39;9781474943741 &#39;,\n",
       " &#39;9780399186370 &#39;,\n",
       " &#39;9781101947883 &#39;,\n",
       " &#39;9780007979196 &#39;,\n",
       " &#39;9780375705922 &#39;,\n",
       " &#39;9780385490818 &#39;,\n",
       " &#39;9780099283577 &#39;,\n",
       " &#39;9780140446364 &#39;,\n",
       " &#39;9780141190280 &#39;,\n",
       " &#39;9780141194578 &#39;,\n",
       " &#39;9780593311646 &#39;,\n",
       " &#39;9781510201941 &#39;,\n",
       " &#39;9781760277734 &#39;,\n",
       " &#39;9781474960458 &#39;,\n",
       " &#39;9781474974028 &#39;,\n",
       " &#39;9781474974370 &#39;,\n",
       " &#39;9781474974431 &#39;,\n",
       " &#39;9781400030804 &#39;,\n",
       " &#39;9781594488894 &#39;,\n",
       " &#39;9781788285964 &#39;,\n",
       " &#39;9781785987687 &#39;,\n",
       " &#39;9781408359068 &#39;,\n",
       " &#39;9780733341144 &#39;,\n",
       " &#39;9781474953160 &#39;,\n",
       " &#39;9781474979863 &#39;,\n",
       " &#39;9781474968881 &#39;,\n",
       " &#39;9781338682229 &#39;,\n",
       " &#39;9781338687170 &#39;,\n",
       " &#39;9781338702194 &#39;,\n",
       " &#39;9781338702200 &#39;,\n",
       " &#39;9781338702224 &#39;,\n",
       " &#39;9781338702262 &#39;,\n",
       " &#39;9781338347241 &#39;,\n",
       " &#39;9781338617634 &#39;,\n",
       " &#39;9781338568998 &#39;,\n",
       " &#39;9781338643701 &#39;,\n",
       " &#39;9781338643763 &#39;,\n",
       " &#39;9781338646283 &#39;,\n",
       " &#39;9781338646290 &#39;,\n",
       " &#39;9781338214529 &#39;,\n",
       " &#39;9781338047684 &#39;,\n",
       " &#39;9781338047738 &#39;,\n",
       " &#39;9781338047837 &#39;,\n",
       " &#39;9780062885500 &#39;,\n",
       " &#39;9780062980236 &#39;,\n",
       " &#39;9780063023376 &#39;,\n",
       " &#39;9780062335548 &#39;,\n",
       " &#39;9780062335579 &#39;,\n",
       " &#39;9780062335616 &#39;,\n",
       " &#39;9780385370226 &#39;,\n",
       " &#39;9780316508926 &#39;,\n",
       " &#39;9780525578864 &#39;,\n",
       " &#39;9780525578895 &#39;,\n",
       " &#39;9780063054547 &#39;,\n",
       " &#39;9780399551987 &#39;,\n",
       " &#39;9781426333088 &#39;,\n",
       " &#39;9781426334375 &#39;,\n",
       " &#39;9781426335297 &#39;,\n",
       " &#39;9781426336874 &#39;,\n",
       " &#39;9781426338861 &#39;,\n",
       " &#39;9781426339080 &#39;,\n",
       " &#39;9781426371585 &#39;,\n",
       " &#39;9781426372056 &#39;,\n",
       " &#39;9781368023573 &#39;,\n",
       " &#39;9781484780664 &#39;,\n",
       " &#39;9781647221928 &#39;,\n",
       " &#39;9781647221959 &#39;,\n",
       " &#39;9781481438292 &#39;,\n",
       " &#39;9781534424777 &#39;,\n",
       " &#39;9781534442535 &#39;,\n",
       " &#39;9781534443761 &#39;,\n",
       " &#39;9781534468788 &#39;,\n",
       " &#39;9781534481626 &#39;,\n",
       " &#39;9781534485433 &#39;,\n",
       " &#39;9781534496309 &#39;,\n",
       " &#39;9781645176831 &#39;,\n",
       " &#39;9781449493264 &#39;,\n",
       " &#39;9781524863166 &#39;,\n",
       " &#39;9781524864767 &#39;,\n",
       " &#39;9781524864774 &#39;,\n",
       " &#39;9781524860653 &#39;,\n",
       " &#39;9781524860707 &#39;,\n",
       " &#39;9781684129218 &#39;,\n",
       " &#39;9781684129225 &#39;,\n",
       " &#39;9780794448080 &#39;,\n",
       " &#39;9780794448325 &#39;,\n",
       " &#39;9781426336676 &#39;,\n",
       " &#39;9781426332739 &#39;,\n",
       " &#39;9781405295024 &#39;,\n",
       " &#39;9781405296472 &#39;,\n",
       " &#39;9781405298346 &#39;,\n",
       " &#39;9781405298742 &#39;,\n",
       " &#39;9781405299251 &#39;,\n",
       " &#39;9781405299688 &#39;,\n",
       " &#39;9780744020410 &#39;,\n",
       " &#39;9780744026528 &#39;,\n",
       " &#39;9780744026535 &#39;,\n",
       " &#39;9780744026641 &#39;,\n",
       " &#39;9780744027532 &#39;,\n",
       " &#39;9780744028362 &#39;,\n",
       " &#39;9780744028492 &#39;,\n",
       " &#39;9780744028508 &#39;,\n",
       " &#39;9780744029970 &#39;,\n",
       " &#39;9780603579684 &#39;,\n",
       " &#39;9780735231610 &#39;,\n",
       " &#39;9780062747280 &#39;,\n",
       " &#39;9780008156312 &#39;,\n",
       " &#39;9780008485870 &#39;,\n",
       " &#39;9780008487669 &#39;,\n",
       " &#39;9780008266011 &#39;,\n",
       " &#39;9780008267049 &#39;,\n",
       " &#39;9780008267087 &#39;,\n",
       " &#39;9780008324902 &#39;,\n",
       " &#39;9780008334222 &#39;,\n",
       " &#39;9780008349110 &#39;,\n",
       " &#39;9780008355180 &#39;,\n",
       " &#39;9780008365387 &#39;,\n",
       " &#39;9780755500406 &#39;,\n",
       " &#39;9781529046861 &#39;,\n",
       " &#39;9781529016598 &#39;,\n",
       " &#39;9781529016680 &#39;,\n",
       " &#39;9781529017014 &#39;,\n",
       " &#39;9781529017021 &#39;,\n",
       " &#39;9781529019247 &#39;,\n",
       " &#39;9781529022933 &#39;,\n",
       " &#39;9781529023367 &#39;,\n",
       " &#39;9781529023374 &#39;,\n",
       " &#39;9781529024401 &#39;,\n",
       " &#39;9781529029789 &#39;,\n",
       " &#39;9781529029802 &#39;,\n",
       " &#39;9781529030440 &#39;,\n",
       " &#39;9781529035391 &#39;,\n",
       " &#39;9781529035407 &#39;,\n",
       " &#39;9781529036039 &#39;,\n",
       " &#39;9781529036046 &#39;,\n",
       " &#39;9781529040715 &#39;,\n",
       " &#39;9781529059632 &#39;,\n",
       " &#39;9781529066036 &#39;,\n",
       " &#39;9781465491398 &#39;,\n",
       " &#39;9781465491411 &#39;,\n",
       " &#39;9781529047905 &#39;,\n",
       " &#39;9781529051261 &#39;,\n",
       " &#39;9781529052268 &#39;,\n",
       " &#39;9781447277989 &#39;,\n",
       " &#39;9781465491480 &#39;,\n",
       " &#39;9781465491503 &#39;,\n",
       " &#39;9781465498076 &#39;,\n",
       " &#39;9781465498090 &#39;,\n",
       " &#39;9781465499967 &#39;,\n",
       " &#39;9781526622808 &#39;,\n",
       " &#39;9781526607966 &#39;,\n",
       " &#39;9781526608123 &#39;,\n",
       " &#39;9781447280996 &#39;,\n",
       " &#39;9781447281597 &#39;,\n",
       " &#39;9781447281603 &#39;,\n",
       " &#39;9781447281610 &#39;,\n",
       " &#39;9781447281627 &#39;,\n",
       " &#39;9781447281634 &#39;,\n",
       " &#39;9781447281641 &#39;,\n",
       " &#39;9781447281832 &#39;,\n",
       " &#39;9781447235781 &#39;,\n",
       " &#39;9780330543859 &#39;,\n",
       " &#39;9788830305892 &#39;,\n",
       " &#39;9788830306349 &#39;,\n",
       " &#39;9788830305014 &#39;,\n",
       " &#39;9788830303751 &#39;,\n",
       " &#39;9788830303782 &#39;,\n",
       " &#39;9788868600471 &#39;,\n",
       " &#39;9788868608866 &#39;,\n",
       " &#39;9788830301054 &#39;,\n",
       " &#39;9781503755055 &#39;,\n",
       " &#39;9781503757202 &#39;,\n",
       " &#39;9781503757868 &#39;,\n",
       " &#39;9781503757875 &#39;,\n",
       " &#39;9781503760264 &#39;,\n",
       " &#39;9781503752887 &#39;,\n",
       " &#39;9781338784855 &#39;,\n",
       " &#39;9781503752993 &#39;,\n",
       " &#39;9781503746305 &#39;,\n",
       " &#39;9781503752382 &#39;,\n",
       " &#39;9781503752566 &#39;,\n",
       " &#39;9780593304440 &#39;,\n",
       " &#39;9780593304464 &#39;,\n",
       " &#39;9780593373644 &#39;,\n",
       " &#39;9780525581574 &#39;,\n",
       " &#39;9780525581581 &#39;,\n",
       " &#39;9780525647218 &#39;,\n",
       " &#39;9781503755925 &#39;,\n",
       " &#39;9781503755000 &#39;,\n",
       " &#39;9781524770068 &#39;,\n",
       " &#39;9781524772628 &#39;,\n",
       " &#39;9781524772642 &#39;,\n",
       " &#39;9781984849724 &#39;,\n",
       " &#39;9782764334201 &#39;,\n",
       " &#39;9782764348604 &#39;,\n",
       " &#39;9782764348628 &#39;,\n",
       " &#39;9782764350447 &#39;,\n",
       " &#39;9782764350829 &#39;,\n",
       " &#39;9782764350836 &#39;,\n",
       " &#39;9782764352168 &#39;,\n",
       " &#39;9782764352205 &#39;,\n",
       " &#39;9782764352212 &#39;,\n",
       " &#39;9782764352236 &#39;,\n",
       " &#39;9782764352274 &#39;,\n",
       " &#39;9782764352281 &#39;,\n",
       " &#39;9782764352298 &#39;,\n",
       " &#39;9782764352328 &#39;,\n",
       " &#39;9782764352335 &#39;,\n",
       " &#39;9782764352441 &#39;,\n",
       " &#39;9782764352458 &#39;,\n",
       " &#39;9782764351123 &#39;,\n",
       " &#39;9782764351420 &#39;,\n",
       " &#39;9782764351437 &#39;,\n",
       " &#39;9782764351581 &#39;,\n",
       " &#39;9782764351598 &#39;,\n",
       " &#39;9781503755031 &#39;,\n",
       " &#39;9781503755659 &#39;,\n",
       " &#39;9781503759329 &#39;,\n",
       " &#39;9781450869928 &#39;,\n",
       " &#39;9781503752689 &#39;,\n",
       " &#39;9781503753044 &#39;,\n",
       " &#39;9781503753075 &#39;,\n",
       " &#39;9781503753648 &#39;,\n",
       " &#39;9781503720336 &#39;,\n",
       " &#39;9781503733763 &#39;,\n",
       " &#39;9781445166308 &#39;,\n",
       " &#39;9781445181776 &#39;,\n",
       " &#39;9781445181783 &#39;,\n",
       " &#39;9781510201781 &#39;,\n",
       " &#39;9781510201804 &#39;,\n",
       " &#39;9781510201811 &#39;,\n",
       " &#39;9781510201828 &#39;,\n",
       " &#39;9781510201927 &#39;,\n",
       " &#39;9781510201934 &#39;,\n",
       " &#39;9781509818372 &#39;,\n",
       " &#39;9781509894741 &#39;,\n",
       " &#39;9781509898053 &#39;,\n",
       " &#39;9781509898060 &#39;,\n",
       " &#39;9781529002812 &#39;,\n",
       " &#39;9781529003727 &#39;,\n",
       " &#39;9781743607794 &#39;,\n",
       " &#39;9781743607800 &#39;,\n",
       " &#39;9781743607817 &#39;,\n",
       " &#39;9781787018099 &#39;,\n",
       " &#39;9781788682589 &#39;,\n",
       " &#39;9781788684767 &#39;,\n",
       " &#39;9781786571083 &#39;,\n",
       " &#39;9781786571977 &#39;,\n",
       " &#39;9788854044289 &#39;,\n",
       " &#39;9788854044296 &#39;,\n",
       " &#39;9788854044302 &#39;,\n",
       " &#39;9788854044319 &#39;,\n",
       " &#39;9781407135915 &#39;,\n",
       " &#39;9781408345146 &#39;,\n",
       " &#39;9781408345184 &#39;,\n",
       " &#39;9781408348598 &#39;,\n",
       " &#39;9781408348604 &#39;,\n",
       " &#39;9781408348611 &#39;,\n",
       " &#39;9781408348628 &#39;,\n",
       " &#39;9781408348635 &#39;,\n",
       " &#39;9781408348642 &#39;,\n",
       " &#39;9781408348659 &#39;,\n",
       " &#39;9781408348666 &#39;,\n",
       " &#39;9781408348673 &#39;,\n",
       " &#39;9781408348680 &#39;,\n",
       " &#39;9781408348697 &#39;,\n",
       " &#39;9781408348703 &#39;,\n",
       " &#39;9781408348710 &#39;,\n",
       " &#39;9781408348727 &#39;,\n",
       " &#39;9781408348734 &#39;,\n",
       " &#39;9781408348741 &#39;,\n",
       " &#39;9781408348758 &#39;,\n",
       " &#39;9781408348765 &#39;,\n",
       " &#39;9781408348772 &#39;,\n",
       " &#39;9781408348789 &#39;,\n",
       " &#39;9781408348833 &#39;,\n",
       " &#39;9781408348857 &#39;,\n",
       " &#39;9781408348864 &#39;,\n",
       " &#39;9781408350140 &#39;,\n",
       " &#39;9781408350157 &#39;,\n",
       " &#39;9781408350195 &#39;,\n",
       " &#39;9781408352564 &#39;,\n",
       " &#39;9781408352670 &#39;,\n",
       " &#39;9781408352700 &#39;,\n",
       " &#39;9781408352724 &#39;,\n",
       " &#39;9781408353219 &#39;,\n",
       " &#39;9781408353226 &#39;,\n",
       " &#39;9781408353233 &#39;,\n",
       " &#39;9788854044272 &#39;,\n",
       " &#39;9781856130851 &#39;,\n",
       " &#39;9781444927634 &#39;,\n",
       " &#39;9780871404565 &#39;,\n",
       " &#39;9781423140603 &#39;,\n",
       " &#39;9781423146728 &#39;,\n",
       " &#39;9781423160915 &#39;,\n",
       " &#39;9780702306167 &#39;,\n",
       " &#39;9780141335148 &#39;,\n",
       " &#39;9780141335155 &#39;,\n",
       " &#39;9780141335162 &#39;,\n",
       " &#39;9780241470770 &#39;,\n",
       " &#39;9780241426852 &#39;,\n",
       " &#39;9780241426869 &#39;,\n",
       " &#39;9780241426876 &#39;,\n",
       " &#39;9780241426883 &#39;,\n",
       " &#39;9780241314258 &#39;,\n",
       " &#39;9780192763754 &#39;,\n",
       " &#39;9780192763761 &#39;,\n",
       " &#39;9780192763778 &#39;,\n",
       " &#39;9780192763792 &#39;,\n",
       " &#39;9781912841547 &#39;,\n",
       " &#39;9781408353257 &#39;,\n",
       " &#39;9781408353264 &#39;,\n",
       " &#39;9781408353271 &#39;,\n",
       " &#39;9781408357682 &#39;,\n",
       " &#39;9781909090101 &#39;,\n",
       " &#39;9781909090118 &#39;,\n",
       " &#39;9781909090491 &#39;,\n",
       " &#39;9781909090514 &#39;,\n",
       " &#39;9781909090552 &#39;,\n",
       " &#39;9781408364710 &#39;,\n",
       " &#39;9781408364727 &#39;,\n",
       " &#39;9781408364734 &#39;,\n",
       " &#39;9781408364741 &#39;,\n",
       " &#39;9781408364758 &#39;,\n",
       " &#39;9781408364765 &#39;,\n",
       " &#39;9781408364772 &#39;,\n",
       " &#39;9781408364796 &#39;,\n",
       " &#39;9781409377504 &#39;,\n",
       " &#39;9780008499723 &#39;,\n",
       " &#39;9781846166891 &#39;,\n",
       " &#39;9781408353240 &#39;,\n",
       " &#39;9781909090569 &#39;,\n",
       " &#39;9789814961776 &#39;,\n",
       " &#39;9788830306394 &#39;,\n",
       " &#39;9788830306400 &#39;,\n",
       " &#39;9788830305038 &#39;,\n",
       " &#39;9788830305243 &#39;,\n",
       " &#39;9788830305328 &#39;,\n",
       " &#39;9788830302747 &#39;,\n",
       " &#39;9788830302808 &#39;,\n",
       " &#39;9788830302853 &#39;,\n",
       " &#39;9788830302914 &#39;,\n",
       " &#39;9788830302952 &#39;,\n",
       " &#39;9788830303010 &#39;,\n",
       " &#39;9788830304000 &#39;,\n",
       " &#39;9788830304024 &#39;,\n",
       " &#39;9788830304468 &#39;,\n",
       " &#39;9788830304529 &#39;,\n",
       " &#39;9788830304574 &#39;,\n",
       " &#39;9788830304802 &#39;,\n",
       " &#39;9788830304826 &#39;,\n",
       " &#39;9788830301979 &#39;,\n",
       " &#39;9788830302129 &#39;,\n",
       " &#39;9788830302594 &#39;,\n",
       " &#39;9788830302624 &#39;,\n",
       " &#39;9788830302655 &#39;,\n",
       " &#39;9788830301092 &#39;,\n",
       " &#39;9788830301122 &#39;,\n",
       " &#39;9788830301306 &#39;,\n",
       " &#39;9788830301337 &#39;,\n",
       " &#39;9788830301801 &#39;,\n",
       " &#39;9788830301818 &#39;,\n",
       " &#39;9788830301948 &#39;,\n",
       " &#39;9788830302686 &#39;,\n",
       " &#39;9781912746033 &#39;,\n",
       " &#39;9781912746040 &#39;,\n",
       " &#39;9781912746972 &#39;,\n",
       " &#39;9781683102090 &#39;,\n",
       " &#39;9781844835959 &#39;,\n",
       " &#39;9780241454145 &#39;,\n",
       " &#39;9781839036286 &#39;,\n",
       " &#39;9781839036293 &#39;,\n",
       " &#39;9781839036354 &#39;,\n",
       " &#39;9781839036361 &#39;,\n",
       " &#39;9781839036378 &#39;,\n",
       " &#39;9781839036385 &#39;,\n",
       " &#39;9781839031793 &#39;,\n",
       " &#39;9781839031809 &#39;,\n",
       " &#39;9781839031830 &#39;,\n",
       " &#39;9781839031861 &#39;,\n",
       " &#39;9781839031946 &#39;,\n",
       " &#39;9781838523596 &#39;,\n",
       " &#39;9781838526979 &#39;,\n",
       " &#39;9781838527266 &#39;,\n",
       " &#39;9781839030413 &#39;,\n",
       " &#39;9781839030420 &#39;,\n",
       " &#39;9781839030499 &#39;,\n",
       " &#39;9781839030604 &#39;,\n",
       " &#39;9781839030611 &#39;,\n",
       " &#39;9781839030628 &#39;,\n",
       " &#39;9781789052329 &#39;,\n",
       " &#39;9781789052336 &#39;,\n",
       " &#39;9781800220300 &#39;,\n",
       " &#39;9781800220317 &#39;,\n",
       " &#39;9781800220324 &#39;,\n",
       " &#39;9781800220348 &#39;,\n",
       " &#39;9781800221574 &#39;,\n",
       " &#39;9781800221581 &#39;,\n",
       " &#39;9782764352908 &#39;,\n",
       " &#39;9782764351048 &#39;,\n",
       " &#39;9782764350751 &#39;,\n",
       " &#39;9782764350423 &#39;,\n",
       " &#39;9782764351499 &#39;,\n",
       " &#39;9782764351529 &#39;,\n",
       " &#39;9781801080460 &#39;,\n",
       " &#39;9781801080484 &#39;,\n",
       " &#39;9781801080651 &#39;,\n",
       " &#39;9781406392098 &#39;,\n",
       " &#39;9781782959533 &#39;,\n",
       " &#39;9781782959540 &#39;,\n",
       " &#39;9781782959557 &#39;,\n",
       " &#39;9781782959564 &#39;,\n",
       " &#39;9781782959571 &#39;,\n",
       " &#39;9781782959588 &#39;,\n",
       " &#39;9781782959601 &#39;,\n",
       " &#39;9781782959618 &#39;,\n",
       " &#39;9781782959625 &#39;,\n",
       " &#39;9780241507131 &#39;,\n",
       " &#39;9780603571794 &#39;,\n",
       " &#39;9780440872337 &#39;,\n",
       " &#39;9781408364451 &#39;,\n",
       " &#39;9781407181967 &#39;,\n",
       " &#39;9781407181974 &#39;,\n",
       " &#39;9781407195759 &#39;,\n",
       " &#39;9781407195766 &#39;,\n",
       " &#39;9781406399622 &#39;,\n",
       " &#39;9781406399639 &#39;,\n",
       " &#39;9781406399646 &#39;,\n",
       " &#39;9780552578691 &#39;,\n",
       " &#39;9780241449110 &#39;,\n",
       " &#39;9780241415078 &#39;,\n",
       " &#39;9780241415085 &#39;,\n",
       " &#39;9780241415184 &#39;,\n",
       " &#39;9780241415207 &#39;,\n",
       " &#39;9780241415214 &#39;,\n",
       " &#39;9780241415221 &#39;,\n",
       " &#39;9780241415238 &#39;,\n",
       " &#39;9780241415269 &#39;,\n",
       " &#39;9780241415276 &#39;,\n",
       " &#39;9780241415283 &#39;,\n",
       " &#39;9780241204726 &#39;,\n",
       " &#39;9780241204740 &#39;,\n",
       " &#39;9780241204917 &#39;,\n",
       " &#39;9780241204962 &#39;,\n",
       " &#39;9780241205204 &#39;,\n",
       " &#39;9780241353103 &#39;,\n",
       " &#39;9780241353110 &#39;,\n",
       " &#39;9780241353127 &#39;,\n",
       " &#39;9780241353134 &#39;,\n",
       " &#39;9780241353158 &#39;,\n",
       " &#39;9780241217580 &#39;,\n",
       " &#39;9781509852581 &#39;,\n",
       " &#39;9781406344554 &#39;,\n",
       " &#39;9781407157283 &#39;,\n",
       " &#39;9781407157290 &#39;,\n",
       " &#39;9781407157313 &#39;,\n",
       " &#39;9781407157320 &#39;,\n",
       " &#39;9781407157344 &#39;,\n",
       " &#39;9781407157351 &#39;,\n",
       " &#39;9781407157368 &#39;,\n",
       " &#39;9781407157375 &#39;,\n",
       " &#39;9781407157382 &#39;,\n",
       " &#39;9781407157450 &#39;,\n",
       " &#39;9781407157467 &#39;,\n",
       " &#39;9781407157474 &#39;,\n",
       " &#39;9781407157481 &#39;,\n",
       " &#39;9781407157498 &#39;,\n",
       " &#39;9781407157504 &#39;,\n",
       " &#39;9781407157511 &#39;,\n",
       " &#39;9781407157528 &#39;,\n",
       " &#39;9781407157535 &#39;,\n",
       " &#39;9781407171029 &#39;,\n",
       " &#39;9781406382983 &#39;,\n",
       " &#39;9781406382990 &#39;,\n",
       " &#39;9781406383003 &#39;,\n",
       " &#39;9781406383010 &#39;,\n",
       " &#39;9781406389715 &#39;,\n",
       " &#39;9780241353141 &#39;,\n",
       " &#39;9781784403997 &#39;,\n",
       " &#39;9781784408299 &#39;,\n",
       " &#39;9781784408305 &#39;,\n",
       " &#39;9781974700585 &#39;,\n",
       " &#39;9781974700752 &#39;,\n",
       " &#39;9781974701308 &#39;,\n",
       " &#39;9781974702602 &#39;,\n",
       " &#39;9781974703050 &#39;,\n",
       " &#39;9781974706495 &#39;,\n",
       " &#39;9781974707942 &#39;,\n",
       " &#39;9781974711154 &#39;,\n",
       " &#39;9781974711161 &#39;,\n",
       " &#39;9781974711239 &#39;,\n",
       " &#39;9781974711260 &#39;,\n",
       " &#39;9781421530543 &#39;,\n",
       " &#39;9781421530604 &#39;,\n",
       " &#39;9781421530628 &#39;,\n",
       " &#39;9781421530635 &#39;,\n",
       " &#39;9781421535456 &#39;,\n",
       " &#39;9781421535463 &#39;,\n",
       " &#39;9781421535470 &#39;,\n",
       " &#39;9781421535487 &#39;,\n",
       " &#39;9781421535494 &#39;,\n",
       " &#39;9781421535500 &#39;,\n",
       " &#39;9781421535517 &#39;,\n",
       " &#39;9781421535524 &#39;,\n",
       " &#39;9781421535531 &#39;,\n",
       " &#39;9781421535548 &#39;,\n",
       " &#39;9781421535555 &#39;,\n",
       " &#39;9781421535562 &#39;,\n",
       " &#39;9781421535579 &#39;,\n",
       " &#39;9781421535586 &#39;,\n",
       " &#39;9781421535593 &#39;,\n",
       " &#39;9781421535609 &#39;,\n",
       " &#39;9781421535616 &#39;,\n",
       " &#39;9781421535623 &#39;,\n",
       " &#39;9781421535630 &#39;,\n",
       " &#39;9781421538167 &#39;,\n",
       " &#39;9781421538174 &#39;,\n",
       " &#39;9781421538181 &#39;,\n",
       " &#39;9781421539126 &#39;,\n",
       " &#39;9781421539133 &#39;,\n",
       " &#39;9781421539140 &#39;,\n",
       " &#39;9781421540924 &#39;,\n",
       " &#39;9781421542478 &#39;,\n",
       " &#39;9781421542805 &#39;,\n",
       " &#39;9781421542812 &#39;,\n",
       " &#39;9781421542829 &#39;,\n",
       " &#39;9781421550060 &#39;,\n",
       " &#39;9781421554044 &#39;,\n",
       " &#39;9781421554051 &#39;,\n",
       " &#39;9781421554068 &#39;,\n",
       " &#39;9781421558950 &#39;,\n",
       " &#39;9781421561790 &#39;,\n",
       " &#39;9781421567693 &#39;,\n",
       " &#39;9781421576022 &#39;,\n",
       " &#39;9781421578347 &#39;,\n",
       " &#39;9781421579801 &#39;,\n",
       " &#39;9781421582221 &#39;,\n",
       " &#39;9781421582504 &#39;,\n",
       " &#39;9781421582559 &#39;,\n",
       " &#39;9781421583358 &#39;,\n",
       " &#39;9781421587776 &#39;,\n",
       " &#39;9781421589640 &#39;,\n",
       " &#39;9781421590165 &#39;,\n",
       " &#39;9781421590660 &#39;,\n",
       " &#39;9781421590707 &#39;,\n",
       " &#39;9781421591551 &#39;,\n",
       " &#39;9781421591568 &#39;,\n",
       " &#39;9781421591643 &#39;,\n",
       " &#39;9781421592237 &#39;,\n",
       " &#39;9781421595443 &#39;,\n",
       " &#39;9781421595450 &#39;,\n",
       " &#39;9781421596259 &#39;,\n",
       " &#39;9781421596266 &#39;,\n",
       " &#39;9781800582965 &#39;,\n",
       " &#39;9781800581074 &#39;,\n",
       " &#39;9781800581357 &#39;,\n",
       " &#39;9781800581838 &#39;,\n",
       " &#39;9781789478945 &#39;,\n",
       " &#39;9781789474152 &#39;,\n",
       " &#39;9781789474176 &#39;,\n",
       " &#39;9781789474954 &#39;,\n",
       " &#39;9781789474961 &#39;,\n",
       " &#39;9781789478358 &#39;,\n",
       " &#39;9781789479997 &#39;,\n",
       " &#39;9781789478914 &#39;,\n",
       " &#39;9781789478921 &#39;,\n",
       " &#39;9781789471977 &#39;,\n",
       " &#39;9781789470017 &#39;,\n",
       " &#39;9781788435420 &#39;,\n",
       " &#39;9781788436304 &#39;,\n",
       " &#39;9781789472127 &#39;,\n",
       " &#39;9781788433433 &#39;,\n",
       " &#39;9781789478938 &#39;,\n",
       " &#39;9781789477986 &#39;,\n",
       " &#39;9781789478006 &#39;,\n",
       " &#39;9781789478013 &#39;,\n",
       " &#39;9781789478020 &#39;,\n",
       " &#39;9781789478037 &#39;,\n",
       " &#39;9781789478044 &#39;,\n",
       " &#39;9781789478051 &#39;,\n",
       " &#39;9781789478068 &#39;,\n",
       " &#39;9781789478075 &#39;,\n",
       " &#39;9781789478082 &#39;,\n",
       " &#39;9781789478099 &#39;,\n",
       " &#39;9781789474091 &#39;,\n",
       " &#39;9781789476088 &#39;,\n",
       " &#39;9781789476125 &#39;,\n",
       " &#39;9781789476132 &#39;,\n",
       " &#39;9781789476149 &#39;,\n",
       " &#39;9781789476156 &#39;,\n",
       " &#39;9781789476170 &#39;,\n",
       " &#39;9781789476187 &#39;,\n",
       " &#39;9781789476194 &#39;,\n",
       " &#39;9781789476200 &#39;,\n",
       " &#39;9781789476217 &#39;,\n",
       " &#39;9781800580558 &#39;,\n",
       " &#39;9781800581708 &#39;,\n",
       " &#39;9781800581777 &#39;,\n",
       " &#39;9781800581784 &#39;,\n",
       " &#39;9781800581791 &#39;,\n",
       " &#39;9781800581807 &#39;,\n",
       " &#39;9781800581814 &#39;,\n",
       " &#39;9781800580572 &#39;,\n",
       " &#39;9781800582699 &#39;,\n",
       " &#39;9781800581371 &#39;,\n",
       " &#39;9781789474145 &#39;,\n",
       " &#39;9781789474169 &#39;,\n",
       " &#39;9781529047882 &#39;,\n",
       " &#39;9781338745375 &#39;,\n",
       " &#39;9781338745542 &#39;,\n",
       " &#39;9781338756845 &#39;,\n",
       " &#39;9781338777260 &#39;,\n",
       " &#39;9781338777635 &#39;,\n",
       " &#39;9781338713442 &#39;,\n",
       " &#39;9781338634778 &#39;,\n",
       " &#39;9781338680638 &#39;,\n",
       " &#39;9781338635485 &#39;,\n",
       " &#39;9781338582925 &#39;,\n",
       " &#39;9781338582970 &#39;,\n",
       " &#39;9789814919999 &#39;,\n",
       " &#39;9781646380084 &#39;,\n",
       " &#39;9781646380091 &#39;,\n",
       " &#39;9781646380428 &#39;,\n",
       " &#39;9781646380473 &#39;,\n",
       " &#39;9781646380480 &#39;,\n",
       " &#39;9781646380503 &#39;,\n",
       " &#39;9781646380558 &#39;,\n",
       " &#39;9781680529425 &#39;,\n",
       " &#39;9781680521283 &#39;,\n",
       " &#39;9781680529890 &#39;,\n",
       " &#39;9781680529463 &#39;,\n",
       " &#39;9781680529548 &#39;,\n",
       " &#39;9781680529555 &#39;,\n",
       " &#39;9781680529432 &#39;,\n",
       " &#39;9781680529456 &#39;,\n",
       " &#39;9781680529845 &#39;,\n",
       " &#39;9781680529852 &#39;,\n",
       " &#39;9781680529494 &#39;,\n",
       " &#39;9781680529241 &#39;,\n",
       " &#39;9781646380848 &#39;,\n",
       " &#39;9781646380855 &#39;,\n",
       " &#39;9781646381234 &#39;,\n",
       " &#39;9781646381241 &#39;,\n",
       " &#39;9781646381258 &#39;,\n",
       " &#39;9781338355871 &#39;,\n",
       " &#39;9781338680645 &#39;,\n",
       " &#39;9781338680652 &#39;,\n",
       " &#39;9781338648034 &#39;,\n",
       " &#39;9781338305791 &#39;,\n",
       " &#39;9781338305807 &#39;,\n",
       " &#39;9781444964912 &#39;,\n",
       " &#39;9781680523447 &#39;,\n",
       " &#39;9781523504367 &#39;,\n",
       " &#39;9781523504381 &#39;,\n",
       " &#39;9789814906548 &#39;,\n",
       " &#39;9781338715972 &#39;,\n",
       " &#39;9781338687200 &#39;,\n",
       " &#39;9781338742459 &#39;,\n",
       " &#39;9781338745177 &#39;,\n",
       " &#39;9781338356212 &#39;,\n",
       " &#39;9789814947657 &#39;,\n",
       " &#39;9781984812223 &#39;,\n",
       " &#39;9781984815163 &#39;,\n",
       " &#39;9781953845030 &#39;,\n",
       " &#39;9781953845047 &#39;,\n",
       " &#39;9781953845054 &#39;,\n",
       " &#39;9781953845061 &#39;,\n",
       " &#39;9781941082898 &#39;,\n",
       " &#39;9781984896698 &#39;,\n",
       " &#39;9780553496673 &#39;,\n",
       " &#39;9780525555582 &#39;,\n",
       " &#39;9780593175446 &#39;,\n",
       " &#39;9781524768379 &#39;,\n",
       " &#39;9780593305492 &#39;,\n",
       " &#39;9781941082911 &#39;,\n",
       " &#39;9781338755466 &#39;,\n",
       " &#39;9781338755510 &#39;,\n",
       " &#39;9781338717518 &#39;,\n",
       " &#39;9781338729368 &#39;,\n",
       " &#39;9781338729375 &#39;,\n",
       " &#39;9781338740035 &#39;,\n",
       " &#39;9780655209997 &#39;,\n",
       " &#39;9780655210122 &#39;,\n",
       " &#39;9780655211006 &#39;,\n",
       " &#39;9780655201731 &#39;,\n",
       " &#39;9780655204053 &#39;,\n",
       " &#39;9780655205586 &#39;,\n",
       " &#39;9780655210290 &#39;,\n",
       " &#39;9780655207894 &#39;,\n",
       " &#39;9780655208730 &#39;,\n",
       " &#39;9780655215257 &#39;,\n",
       " &#39;9780655216308 &#39;,\n",
       " &#39;9780655216322 &#39;,\n",
       " &#39;9780655216353 &#39;,\n",
       " &#39;9780655216445 &#39;,\n",
       " &#39;9780655216605 &#39;,\n",
       " &#39;9780655216254 &#39;,\n",
       " &#39;9780655217206 &#39;,\n",
       " &#39;9780655217213 &#39;,\n",
       " &#39;9780655218890 &#39;,\n",
       " &#39;9780655217404 &#39;,\n",
       " &#39;9780655217411 &#39;,\n",
       " &#39;9780655217459 &#39;,\n",
       " &#39;9780655217466 &#39;,\n",
       " &#39;9780655219293 &#39;,\n",
       " &#39;9780655219729 &#39;,\n",
       " &#39;9780655212706 &#39;,\n",
       " &#39;9780655212720 &#39;,\n",
       " &#39;9780655213857 &#39;,\n",
       " &#39;9780655213918 &#39;,\n",
       " &#39;9780655213925 &#39;,\n",
       " &#39;9780655214038 &#39;,\n",
       " &#39;9780655214168 &#39;,\n",
       " &#39;9780655215158 &#39;,\n",
       " &#39;9781760456108 &#39;,\n",
       " &#39;9781760457228 &#39;,\n",
       " &#39;9789463337748 &#39;,\n",
       " ...]</div>"
      ]
     },
     "metadata": {
      "application/vnd.databricks.v1+output": {
       "addedWidgets": {},
       "arguments": {},
       "data": "<div class=\"ansiout\">Out[22]: [&#39;9780593354315 &#39;,\n &#39;9780593376942 &#39;,\n &#39;9780593305478 &#39;,\n &#39;9780593093795 &#39;,\n &#39;9780593093825 &#39;,\n &#39;9780593095713 &#39;,\n &#39;9780593095744 &#39;,\n &#39;9780593095775 &#39;,\n &#39;9780593124468 &#39;,\n &#39;9780593124581 &#39;,\n &#39;9780593127261 &#39;,\n &#39;9780593173138 &#39;,\n &#39;9780593173152 &#39;,\n &#39;9780553496710 &#39;,\n &#39;9780593222737 &#39;,\n &#39;9780593222744 &#39;,\n &#39;9780593225677 &#39;,\n &#39;9780593225707 &#39;,\n &#39;9780525647676 &#39;,\n &#39;9780241377284 &#39;,\n &#39;9781984893178 &#39;,\n &#39;9781984893239 &#39;,\n &#39;9781984895639 &#39;,\n &#39;9781984893918 &#39;,\n &#39;9781984895110 &#39;,\n &#39;9781984830951 &#39;,\n &#39;9789814906555 &#39;,\n &#39;9789814918039 &#39;,\n &#39;9789814947640 &#39;,\n &#39;9780525648703 &#39;,\n &#39;9780593301371 &#39;,\n &#39;9780593303351 &#39;,\n &#39;9780593178065 &#39;,\n &#39;9780593180297 &#39;,\n &#39;9780593120842 &#39;,\n &#39;9780593122129 &#39;,\n &#39;9780593306161 &#39;,\n &#39;9780593306185 &#39;,\n &#39;9780593304365 &#39;,\n &#39;9780593305089 &#39;,\n &#39;9780593305171 &#39;,\n &#39;9780593425480 &#39;,\n &#39;9780593425497 &#39;,\n &#39;9780593425503 &#39;,\n &#39;9780736438704 &#39;,\n &#39;9780736439206 &#39;,\n &#39;9781338702446 &#39;,\n &#39;9781338347463 &#39;,\n &#39;9781338347487 &#39;,\n &#39;9781338347500 &#39;,\n &#39;9781338530124 &#39;,\n &#39;9781338587357 &#39;,\n &#39;9781338596649 &#39;,\n &#39;9781338625318 &#39;,\n &#39;9781338666373 &#39;,\n &#39;9780736440134 &#39;,\n &#39;9780736440288 &#39;,\n &#39;9780736440554 &#39;,\n &#39;9780736440820 &#39;,\n &#39;9780736440998 &#39;,\n &#39;9780736441131 &#39;,\n &#39;9780736441346 &#39;,\n &#39;9780736439855 &#39;,\n &#39;9781524715540 &#39;,\n &#39;9781524771911 &#39;,\n &#39;9781524772352 &#39;,\n &#39;9781338635454 &#39;,\n &#39;9781338356182 &#39;,\n &#39;9781338598896 &#39;,\n &#39;9781338320244 &#39;,\n &#39;9781338323450 &#39;,\n &#39;9781338344219 &#39;,\n &#39;9781338053623 &#39;,\n &#39;9781338214604 &#39;,\n &#39;9781338236132 &#39;,\n &#39;9781338298758 &#39;,\n &#39;9781338298796 &#39;,\n &#39;9781338304572 &#39;,\n &#39;9781338725124 &#39;,\n &#39;9780545946100 &#39;,\n &#39;9789814919982 &#39;,\n &#39;9781984830975 &#39;,\n &#39;9781984895219 &#39;,\n &#39;9781984849823 &#39;,\n &#39;9781984850270 &#39;,\n &#39;9780525648512 &#39;,\n &#39;9780553510928 &#39;,\n &#39;9780593304334 &#39;,\n &#39;9780525580782 &#39;,\n &#39;9781338715996 &#39;,\n &#39;9781338214543 &#39;,\n &#39;9781338684971 &#39;,\n &#39;9781338685015 &#39;,\n &#39;9781338672114 &#39;,\n &#39;9780736439879 &#39;,\n &#39;9789814864084 &#39;,\n &#39;9789814864091 &#39;,\n &#39;9789814906517 &#39;,\n &#39;9781338320268 &#39;,\n &#39;9780241430217 &#39;,\n &#39;9780241448267 &#39;,\n &#39;9780241426692 &#39;,\n &#39;9780241416723 &#39;,\n &#39;9780241416747 &#39;,\n &#39;9780241476260 &#39;,\n &#39;9780241476345 &#39;,\n &#39;9780241420218 &#39;,\n &#39;9780241365991 &#39;,\n &#39;9780241373354 &#39;,\n &#39;9780241412084 &#39;,\n &#39;9780241412251 &#39;,\n &#39;9780241380260 &#39;,\n &#39;9780241380314 &#39;,\n &#39;9780241382554 &#39;,\n &#39;9780241382578 &#39;,\n &#39;9780141377896 &#39;,\n &#39;9781800589278 &#39;,\n &#39;9781800589292 &#39;,\n &#39;9781800589308 &#39;,\n &#39;9781800589315 &#39;,\n &#39;9781800589339 &#39;,\n &#39;9781800589346 &#39;,\n &#39;9781800589353 &#39;,\n &#39;9781800589360 &#39;,\n &#39;9781800589377 &#39;,\n &#39;9781800589384 &#39;,\n &#39;9781800589391 &#39;,\n &#39;9781800589407 &#39;,\n &#39;9781800589414 &#39;,\n &#39;9781800589421 &#39;,\n &#39;9781800589438 &#39;,\n &#39;9781800589445 &#39;,\n &#39;9781800589643 &#39;,\n &#39;9781800589650 &#39;,\n &#39;9781800589667 &#39;,\n &#39;9781800589674 &#39;,\n &#39;9781800589681 &#39;,\n &#39;9781800589698 &#39;,\n &#39;9781800589704 &#39;,\n &#39;9781800589711 &#39;,\n &#39;9781800589735 &#39;,\n &#39;9781800589742 &#39;,\n &#39;9781800589759 &#39;,\n &#39;9781800589766 &#39;,\n &#39;9781800589773 &#39;,\n &#39;9781800589780 &#39;,\n &#39;9781800589797 &#39;,\n &#39;9781800589803 &#39;,\n &#39;9781407198552 &#39;,\n &#39;9781407198569 &#39;,\n &#39;9780702305849 &#39;,\n &#39;9780702305948 &#39;,\n &#39;9780702300028 &#39;,\n &#39;9780702301582 &#39;,\n &#39;9780702302527 &#39;,\n &#39;9780702304255 &#39;,\n &#39;9780702305757 &#39;,\n &#39;9781407177663 &#39;,\n &#39;9781407186733 &#39;,\n &#39;9781407196657 &#39;,\n &#39;9781407198422 &#39;,\n &#39;9781407198439 &#39;,\n &#39;9781407198491 &#39;,\n &#39;9781407197111 &#39;,\n &#39;9781407197135 &#39;,\n &#39;9781407197142 &#39;,\n &#39;9781407193335 &#39;,\n &#39;9781407195650 &#39;,\n &#39;9781407179872 &#39;,\n &#39;9780702305832 &#39;,\n &#39;9780702306945 &#39;,\n &#39;9780702307348 &#39;,\n &#39;9780241411797 &#39;,\n &#39;9780241411957 &#39;,\n &#39;9780241425060 &#39;,\n &#39;9780241365854 &#39;,\n &#39;9780241533963 &#39;,\n &#39;9781406392357 &#39;,\n &#39;9781406396775 &#39;,\n &#39;9781913484118 &#39;,\n &#39;9781741850536 &#39;,\n &#39;9781743085158 &#39;,\n &#39;9781488900808 &#39;,\n &#39;9781488938054 &#39;,\n &#39;9781488944413 &#39;,\n &#39;9781488968488 &#39;,\n &#39;9781488968525 &#39;,\n &#39;9781488968549 &#39;,\n &#39;9781488935398 &#39;,\n &#39;9781488935510 &#39;,\n &#39;9781488936951 &#39;,\n &#39;9781488937019 &#39;,\n &#39;9781488939358 &#39;,\n &#39;9781488939402 &#39;,\n &#39;9781488910968 &#39;,\n &#39;9781488911026 &#39;,\n &#39;9781488910418 &#39;,\n &#39;9781488914201 &#39;,\n &#39;9781488918285 &#39;,\n &#39;9781488925733 &#39;,\n &#39;9781488927362 &#39;,\n &#39;9781488927409 &#39;,\n &#39;9781488933196 &#39;,\n &#39;9781488922343 &#39;,\n &#39;9781488922381 &#39;,\n &#39;9781488923814 &#39;,\n &#39;9781488918384 &#39;,\n &#39;9781488918391 &#39;,\n &#39;9781488919039 &#39;,\n &#39;9781488919183 &#39;,\n &#39;9781488919367 &#39;,\n &#39;9781488920066 &#39;,\n &#39;9781488920158 &#39;,\n &#39;9781488921858 &#39;,\n &#39;9781488921896 &#39;,\n &#39;9781488910869 &#39;,\n &#39;9781488915710 &#39;,\n &#39;9781488915727 &#39;,\n &#39;9781488913440 &#39;,\n &#39;9781488913563 &#39;,\n &#39;9781488913655 &#39;,\n &#39;9781488913679 &#39;,\n &#39;9781488907333 &#39;,\n &#39;9781488908705 &#39;,\n &#39;9781488916175 &#39;,\n &#39;9781488916298 &#39;,\n &#39;9781488916403 &#39;,\n &#39;9781488916533 &#39;,\n &#39;9781488916656 &#39;,\n &#39;9781488917141 &#39;,\n &#39;9781488917189 &#39;,\n &#39;9781488917257 &#39;,\n &#39;9781488917288 &#39;,\n &#39;9781488917509 &#39;,\n &#39;9781488917554 &#39;,\n &#39;9781488917561 &#39;,\n &#39;9781488917578 &#39;,\n &#39;9781488916007 &#39;,\n &#39;9781488918155 &#39;,\n &#39;9781488918278 &#39;,\n &#39;9781488939655 &#39;,\n &#39;9781488940217 &#39;,\n &#39;9781488940682 &#39;,\n &#39;9781488943850 &#39;,\n &#39;9781488943379 &#39;,\n &#39;9781488937262 &#39;,\n &#39;9781488937354 &#39;,\n &#39;9781488936289 &#39;,\n &#39;9781488936821 &#39;,\n &#39;9781488936838 &#39;,\n &#39;9781488942600 &#39;,\n &#39;9781488942655 &#39;,\n &#39;9781488942822 &#39;,\n &#39;9781488942846 &#39;,\n &#39;9781488943027 &#39;,\n &#39;9781488943089 &#39;,\n &#39;9781488943126 &#39;,\n &#39;9781488943140 &#39;,\n &#39;9781488943157 &#39;,\n &#39;9781488943201 &#39;,\n &#39;9781488943263 &#39;,\n &#39;9781488943324 &#39;,\n &#39;9781488939020 &#39;,\n &#39;9781488933783 &#39;,\n &#39;9781488905667 &#39;,\n &#39;9781488944246 &#39;,\n &#39;9781488945120 &#39;,\n &#39;9781488900334 &#39;,\n &#39;9781787722224 &#39;,\n &#39;9781787723078 &#39;,\n &#39;9781787724235 &#39;,\n &#39;9781742819006 &#39;,\n &#39;9781742819204 &#39;,\n &#39;9781488944338 &#39;,\n &#39;9781488907180 &#39;,\n &#39;9781488907203 &#39;,\n &#39;9781488907241 &#39;,\n &#39;9781488933714 &#39;,\n &#39;9781488919947 &#39;,\n &#39;9781488920004 &#39;,\n &#39;9781488909757 &#39;,\n &#39;9780008438708 &#39;,\n &#39;9781474959964 &#39;,\n &#39;9781474943741 &#39;,\n &#39;9780399186370 &#39;,\n &#39;9781101947883 &#39;,\n &#39;9780007979196 &#39;,\n &#39;9780375705922 &#39;,\n &#39;9780385490818 &#39;,\n &#39;9780099283577 &#39;,\n &#39;9780140446364 &#39;,\n &#39;9780141190280 &#39;,\n &#39;9780141194578 &#39;,\n &#39;9780593311646 &#39;,\n &#39;9781510201941 &#39;,\n &#39;9781760277734 &#39;,\n &#39;9781474960458 &#39;,\n &#39;9781474974028 &#39;,\n &#39;9781474974370 &#39;,\n &#39;9781474974431 &#39;,\n &#39;9781400030804 &#39;,\n &#39;9781594488894 &#39;,\n &#39;9781788285964 &#39;,\n &#39;9781785987687 &#39;,\n &#39;9781408359068 &#39;,\n &#39;9780733341144 &#39;,\n &#39;9781474953160 &#39;,\n &#39;9781474979863 &#39;,\n &#39;9781474968881 &#39;,\n &#39;9781338682229 &#39;,\n &#39;9781338687170 &#39;,\n &#39;9781338702194 &#39;,\n &#39;9781338702200 &#39;,\n &#39;9781338702224 &#39;,\n &#39;9781338702262 &#39;,\n &#39;9781338347241 &#39;,\n &#39;9781338617634 &#39;,\n &#39;9781338568998 &#39;,\n &#39;9781338643701 &#39;,\n &#39;9781338643763 &#39;,\n &#39;9781338646283 &#39;,\n &#39;9781338646290 &#39;,\n &#39;9781338214529 &#39;,\n &#39;9781338047684 &#39;,\n &#39;9781338047738 &#39;,\n &#39;9781338047837 &#39;,\n &#39;9780062885500 &#39;,\n &#39;9780062980236 &#39;,\n &#39;9780063023376 &#39;,\n &#39;9780062335548 &#39;,\n &#39;9780062335579 &#39;,\n &#39;9780062335616 &#39;,\n &#39;9780385370226 &#39;,\n &#39;9780316508926 &#39;,\n &#39;9780525578864 &#39;,\n &#39;9780525578895 &#39;,\n &#39;9780063054547 &#39;,\n &#39;9780399551987 &#39;,\n &#39;9781426333088 &#39;,\n &#39;9781426334375 &#39;,\n &#39;9781426335297 &#39;,\n &#39;9781426336874 &#39;,\n &#39;9781426338861 &#39;,\n &#39;9781426339080 &#39;,\n &#39;9781426371585 &#39;,\n &#39;9781426372056 &#39;,\n &#39;9781368023573 &#39;,\n &#39;9781484780664 &#39;,\n &#39;9781647221928 &#39;,\n &#39;9781647221959 &#39;,\n &#39;9781481438292 &#39;,\n &#39;9781534424777 &#39;,\n &#39;9781534442535 &#39;,\n &#39;9781534443761 &#39;,\n &#39;9781534468788 &#39;,\n &#39;9781534481626 &#39;,\n &#39;9781534485433 &#39;,\n &#39;9781534496309 &#39;,\n &#39;9781645176831 &#39;,\n &#39;9781449493264 &#39;,\n &#39;9781524863166 &#39;,\n &#39;9781524864767 &#39;,\n &#39;9781524864774 &#39;,\n &#39;9781524860653 &#39;,\n &#39;9781524860707 &#39;,\n &#39;9781684129218 &#39;,\n &#39;9781684129225 &#39;,\n &#39;9780794448080 &#39;,\n &#39;9780794448325 &#39;,\n &#39;9781426336676 &#39;,\n &#39;9781426332739 &#39;,\n &#39;9781405295024 &#39;,\n &#39;9781405296472 &#39;,\n &#39;9781405298346 &#39;,\n &#39;9781405298742 &#39;,\n &#39;9781405299251 &#39;,\n &#39;9781405299688 &#39;,\n &#39;9780744020410 &#39;,\n &#39;9780744026528 &#39;,\n &#39;9780744026535 &#39;,\n &#39;9780744026641 &#39;,\n &#39;9780744027532 &#39;,\n &#39;9780744028362 &#39;,\n &#39;9780744028492 &#39;,\n &#39;9780744028508 &#39;,\n &#39;9780744029970 &#39;,\n &#39;9780603579684 &#39;,\n &#39;9780735231610 &#39;,\n &#39;9780062747280 &#39;,\n &#39;9780008156312 &#39;,\n &#39;9780008485870 &#39;,\n &#39;9780008487669 &#39;,\n &#39;9780008266011 &#39;,\n &#39;9780008267049 &#39;,\n &#39;9780008267087 &#39;,\n &#39;9780008324902 &#39;,\n &#39;9780008334222 &#39;,\n &#39;9780008349110 &#39;,\n &#39;9780008355180 &#39;,\n &#39;9780008365387 &#39;,\n &#39;9780755500406 &#39;,\n &#39;9781529046861 &#39;,\n &#39;9781529016598 &#39;,\n &#39;9781529016680 &#39;,\n &#39;9781529017014 &#39;,\n &#39;9781529017021 &#39;,\n &#39;9781529019247 &#39;,\n &#39;9781529022933 &#39;,\n &#39;9781529023367 &#39;,\n &#39;9781529023374 &#39;,\n &#39;9781529024401 &#39;,\n &#39;9781529029789 &#39;,\n &#39;9781529029802 &#39;,\n &#39;9781529030440 &#39;,\n &#39;9781529035391 &#39;,\n &#39;9781529035407 &#39;,\n &#39;9781529036039 &#39;,\n &#39;9781529036046 &#39;,\n &#39;9781529040715 &#39;,\n &#39;9781529059632 &#39;,\n &#39;9781529066036 &#39;,\n &#39;9781465491398 &#39;,\n &#39;9781465491411 &#39;,\n &#39;9781529047905 &#39;,\n &#39;9781529051261 &#39;,\n &#39;9781529052268 &#39;,\n &#39;9781447277989 &#39;,\n &#39;9781465491480 &#39;,\n &#39;9781465491503 &#39;,\n &#39;9781465498076 &#39;,\n &#39;9781465498090 &#39;,\n &#39;9781465499967 &#39;,\n &#39;9781526622808 &#39;,\n &#39;9781526607966 &#39;,\n &#39;9781526608123 &#39;,\n &#39;9781447280996 &#39;,\n &#39;9781447281597 &#39;,\n &#39;9781447281603 &#39;,\n &#39;9781447281610 &#39;,\n &#39;9781447281627 &#39;,\n &#39;9781447281634 &#39;,\n &#39;9781447281641 &#39;,\n &#39;9781447281832 &#39;,\n &#39;9781447235781 &#39;,\n &#39;9780330543859 &#39;,\n &#39;9788830305892 &#39;,\n &#39;9788830306349 &#39;,\n &#39;9788830305014 &#39;,\n &#39;9788830303751 &#39;,\n &#39;9788830303782 &#39;,\n &#39;9788868600471 &#39;,\n &#39;9788868608866 &#39;,\n &#39;9788830301054 &#39;,\n &#39;9781503755055 &#39;,\n &#39;9781503757202 &#39;,\n &#39;9781503757868 &#39;,\n &#39;9781503757875 &#39;,\n &#39;9781503760264 &#39;,\n &#39;9781503752887 &#39;,\n &#39;9781338784855 &#39;,\n &#39;9781503752993 &#39;,\n &#39;9781503746305 &#39;,\n &#39;9781503752382 &#39;,\n &#39;9781503752566 &#39;,\n &#39;9780593304440 &#39;,\n &#39;9780593304464 &#39;,\n &#39;9780593373644 &#39;,\n &#39;9780525581574 &#39;,\n &#39;9780525581581 &#39;,\n &#39;9780525647218 &#39;,\n &#39;9781503755925 &#39;,\n &#39;9781503755000 &#39;,\n &#39;9781524770068 &#39;,\n &#39;9781524772628 &#39;,\n &#39;9781524772642 &#39;,\n &#39;9781984849724 &#39;,\n &#39;9782764334201 &#39;,\n &#39;9782764348604 &#39;,\n &#39;9782764348628 &#39;,\n &#39;9782764350447 &#39;,\n &#39;9782764350829 &#39;,\n &#39;9782764350836 &#39;,\n &#39;9782764352168 &#39;,\n &#39;9782764352205 &#39;,\n &#39;9782764352212 &#39;,\n &#39;9782764352236 &#39;,\n &#39;9782764352274 &#39;,\n &#39;9782764352281 &#39;,\n &#39;9782764352298 &#39;,\n &#39;9782764352328 &#39;,\n &#39;9782764352335 &#39;,\n &#39;9782764352441 &#39;,\n &#39;9782764352458 &#39;,\n &#39;9782764351123 &#39;,\n &#39;9782764351420 &#39;,\n &#39;9782764351437 &#39;,\n &#39;9782764351581 &#39;,\n &#39;9782764351598 &#39;,\n &#39;9781503755031 &#39;,\n &#39;9781503755659 &#39;,\n &#39;9781503759329 &#39;,\n &#39;9781450869928 &#39;,\n &#39;9781503752689 &#39;,\n &#39;9781503753044 &#39;,\n &#39;9781503753075 &#39;,\n &#39;9781503753648 &#39;,\n &#39;9781503720336 &#39;,\n &#39;9781503733763 &#39;,\n &#39;9781445166308 &#39;,\n &#39;9781445181776 &#39;,\n &#39;9781445181783 &#39;,\n &#39;9781510201781 &#39;,\n &#39;9781510201804 &#39;,\n &#39;9781510201811 &#39;,\n &#39;9781510201828 &#39;,\n &#39;9781510201927 &#39;,\n &#39;9781510201934 &#39;,\n &#39;9781509818372 &#39;,\n &#39;9781509894741 &#39;,\n &#39;9781509898053 &#39;,\n &#39;9781509898060 &#39;,\n &#39;9781529002812 &#39;,\n &#39;9781529003727 &#39;,\n &#39;9781743607794 &#39;,\n &#39;9781743607800 &#39;,\n &#39;9781743607817 &#39;,\n &#39;9781787018099 &#39;,\n &#39;9781788682589 &#39;,\n &#39;9781788684767 &#39;,\n &#39;9781786571083 &#39;,\n &#39;9781786571977 &#39;,\n &#39;9788854044289 &#39;,\n &#39;9788854044296 &#39;,\n &#39;9788854044302 &#39;,\n &#39;9788854044319 &#39;,\n &#39;9781407135915 &#39;,\n &#39;9781408345146 &#39;,\n &#39;9781408345184 &#39;,\n &#39;9781408348598 &#39;,\n &#39;9781408348604 &#39;,\n &#39;9781408348611 &#39;,\n &#39;9781408348628 &#39;,\n &#39;9781408348635 &#39;,\n &#39;9781408348642 &#39;,\n &#39;9781408348659 &#39;,\n &#39;9781408348666 &#39;,\n &#39;9781408348673 &#39;,\n &#39;9781408348680 &#39;,\n &#39;9781408348697 &#39;,\n &#39;9781408348703 &#39;,\n &#39;9781408348710 &#39;,\n &#39;9781408348727 &#39;,\n &#39;9781408348734 &#39;,\n &#39;9781408348741 &#39;,\n &#39;9781408348758 &#39;,\n &#39;9781408348765 &#39;,\n &#39;9781408348772 &#39;,\n &#39;9781408348789 &#39;,\n &#39;9781408348833 &#39;,\n &#39;9781408348857 &#39;,\n &#39;9781408348864 &#39;,\n &#39;9781408350140 &#39;,\n &#39;9781408350157 &#39;,\n &#39;9781408350195 &#39;,\n &#39;9781408352564 &#39;,\n &#39;9781408352670 &#39;,\n &#39;9781408352700 &#39;,\n &#39;9781408352724 &#39;,\n &#39;9781408353219 &#39;,\n &#39;9781408353226 &#39;,\n &#39;9781408353233 &#39;,\n &#39;9788854044272 &#39;,\n &#39;9781856130851 &#39;,\n &#39;9781444927634 &#39;,\n &#39;9780871404565 &#39;,\n &#39;9781423140603 &#39;,\n &#39;9781423146728 &#39;,\n &#39;9781423160915 &#39;,\n &#39;9780702306167 &#39;,\n &#39;9780141335148 &#39;,\n &#39;9780141335155 &#39;,\n &#39;9780141335162 &#39;,\n &#39;9780241470770 &#39;,\n &#39;9780241426852 &#39;,\n &#39;9780241426869 &#39;,\n &#39;9780241426876 &#39;,\n &#39;9780241426883 &#39;,\n &#39;9780241314258 &#39;,\n &#39;9780192763754 &#39;,\n &#39;9780192763761 &#39;,\n &#39;9780192763778 &#39;,\n &#39;9780192763792 &#39;,\n &#39;9781912841547 &#39;,\n &#39;9781408353257 &#39;,\n &#39;9781408353264 &#39;,\n &#39;9781408353271 &#39;,\n &#39;9781408357682 &#39;,\n &#39;9781909090101 &#39;,\n &#39;9781909090118 &#39;,\n &#39;9781909090491 &#39;,\n &#39;9781909090514 &#39;,\n &#39;9781909090552 &#39;,\n &#39;9781408364710 &#39;,\n &#39;9781408364727 &#39;,\n &#39;9781408364734 &#39;,\n &#39;9781408364741 &#39;,\n &#39;9781408364758 &#39;,\n &#39;9781408364765 &#39;,\n &#39;9781408364772 &#39;,\n &#39;9781408364796 &#39;,\n &#39;9781409377504 &#39;,\n &#39;9780008499723 &#39;,\n &#39;9781846166891 &#39;,\n &#39;9781408353240 &#39;,\n &#39;9781909090569 &#39;,\n &#39;9789814961776 &#39;,\n &#39;9788830306394 &#39;,\n &#39;9788830306400 &#39;,\n &#39;9788830305038 &#39;,\n &#39;9788830305243 &#39;,\n &#39;9788830305328 &#39;,\n &#39;9788830302747 &#39;,\n &#39;9788830302808 &#39;,\n &#39;9788830302853 &#39;,\n &#39;9788830302914 &#39;,\n &#39;9788830302952 &#39;,\n &#39;9788830303010 &#39;,\n &#39;9788830304000 &#39;,\n &#39;9788830304024 &#39;,\n &#39;9788830304468 &#39;,\n &#39;9788830304529 &#39;,\n &#39;9788830304574 &#39;,\n &#39;9788830304802 &#39;,\n &#39;9788830304826 &#39;,\n &#39;9788830301979 &#39;,\n &#39;9788830302129 &#39;,\n &#39;9788830302594 &#39;,\n &#39;9788830302624 &#39;,\n &#39;9788830302655 &#39;,\n &#39;9788830301092 &#39;,\n &#39;9788830301122 &#39;,\n &#39;9788830301306 &#39;,\n &#39;9788830301337 &#39;,\n &#39;9788830301801 &#39;,\n &#39;9788830301818 &#39;,\n &#39;9788830301948 &#39;,\n &#39;9788830302686 &#39;,\n &#39;9781912746033 &#39;,\n &#39;9781912746040 &#39;,\n &#39;9781912746972 &#39;,\n &#39;9781683102090 &#39;,\n &#39;9781844835959 &#39;,\n &#39;9780241454145 &#39;,\n &#39;9781839036286 &#39;,\n &#39;9781839036293 &#39;,\n &#39;9781839036354 &#39;,\n &#39;9781839036361 &#39;,\n &#39;9781839036378 &#39;,\n &#39;9781839036385 &#39;,\n &#39;9781839031793 &#39;,\n &#39;9781839031809 &#39;,\n &#39;9781839031830 &#39;,\n &#39;9781839031861 &#39;,\n &#39;9781839031946 &#39;,\n &#39;9781838523596 &#39;,\n &#39;9781838526979 &#39;,\n &#39;9781838527266 &#39;,\n &#39;9781839030413 &#39;,\n &#39;9781839030420 &#39;,\n &#39;9781839030499 &#39;,\n &#39;9781839030604 &#39;,\n &#39;9781839030611 &#39;,\n &#39;9781839030628 &#39;,\n &#39;9781789052329 &#39;,\n &#39;9781789052336 &#39;,\n &#39;9781800220300 &#39;,\n &#39;9781800220317 &#39;,\n &#39;9781800220324 &#39;,\n &#39;9781800220348 &#39;,\n &#39;9781800221574 &#39;,\n &#39;9781800221581 &#39;,\n &#39;9782764352908 &#39;,\n &#39;9782764351048 &#39;,\n &#39;9782764350751 &#39;,\n &#39;9782764350423 &#39;,\n &#39;9782764351499 &#39;,\n &#39;9782764351529 &#39;,\n &#39;9781801080460 &#39;,\n &#39;9781801080484 &#39;,\n &#39;9781801080651 &#39;,\n &#39;9781406392098 &#39;,\n &#39;9781782959533 &#39;,\n &#39;9781782959540 &#39;,\n &#39;9781782959557 &#39;,\n &#39;9781782959564 &#39;,\n &#39;9781782959571 &#39;,\n &#39;9781782959588 &#39;,\n &#39;9781782959601 &#39;,\n &#39;9781782959618 &#39;,\n &#39;9781782959625 &#39;,\n &#39;9780241507131 &#39;,\n &#39;9780603571794 &#39;,\n &#39;9780440872337 &#39;,\n &#39;9781408364451 &#39;,\n &#39;9781407181967 &#39;,\n &#39;9781407181974 &#39;,\n &#39;9781407195759 &#39;,\n &#39;9781407195766 &#39;,\n &#39;9781406399622 &#39;,\n &#39;9781406399639 &#39;,\n &#39;9781406399646 &#39;,\n &#39;9780552578691 &#39;,\n &#39;9780241449110 &#39;,\n &#39;9780241415078 &#39;,\n &#39;9780241415085 &#39;,\n &#39;9780241415184 &#39;,\n &#39;9780241415207 &#39;,\n &#39;9780241415214 &#39;,\n &#39;9780241415221 &#39;,\n &#39;9780241415238 &#39;,\n &#39;9780241415269 &#39;,\n &#39;9780241415276 &#39;,\n &#39;9780241415283 &#39;,\n &#39;9780241204726 &#39;,\n &#39;9780241204740 &#39;,\n &#39;9780241204917 &#39;,\n &#39;9780241204962 &#39;,\n &#39;9780241205204 &#39;,\n &#39;9780241353103 &#39;,\n &#39;9780241353110 &#39;,\n &#39;9780241353127 &#39;,\n &#39;9780241353134 &#39;,\n &#39;9780241353158 &#39;,\n &#39;9780241217580 &#39;,\n &#39;9781509852581 &#39;,\n &#39;9781406344554 &#39;,\n &#39;9781407157283 &#39;,\n &#39;9781407157290 &#39;,\n &#39;9781407157313 &#39;,\n &#39;9781407157320 &#39;,\n &#39;9781407157344 &#39;,\n &#39;9781407157351 &#39;,\n &#39;9781407157368 &#39;,\n &#39;9781407157375 &#39;,\n &#39;9781407157382 &#39;,\n &#39;9781407157450 &#39;,\n &#39;9781407157467 &#39;,\n &#39;9781407157474 &#39;,\n &#39;9781407157481 &#39;,\n &#39;9781407157498 &#39;,\n &#39;9781407157504 &#39;,\n &#39;9781407157511 &#39;,\n &#39;9781407157528 &#39;,\n &#39;9781407157535 &#39;,\n &#39;9781407171029 &#39;,\n &#39;9781406382983 &#39;,\n &#39;9781406382990 &#39;,\n &#39;9781406383003 &#39;,\n &#39;9781406383010 &#39;,\n &#39;9781406389715 &#39;,\n &#39;9780241353141 &#39;,\n &#39;9781784403997 &#39;,\n &#39;9781784408299 &#39;,\n &#39;9781784408305 &#39;,\n &#39;9781974700585 &#39;,\n &#39;9781974700752 &#39;,\n &#39;9781974701308 &#39;,\n &#39;9781974702602 &#39;,\n &#39;9781974703050 &#39;,\n &#39;9781974706495 &#39;,\n &#39;9781974707942 &#39;,\n &#39;9781974711154 &#39;,\n &#39;9781974711161 &#39;,\n &#39;9781974711239 &#39;,\n &#39;9781974711260 &#39;,\n &#39;9781421530543 &#39;,\n &#39;9781421530604 &#39;,\n &#39;9781421530628 &#39;,\n &#39;9781421530635 &#39;,\n &#39;9781421535456 &#39;,\n &#39;9781421535463 &#39;,\n &#39;9781421535470 &#39;,\n &#39;9781421535487 &#39;,\n &#39;9781421535494 &#39;,\n &#39;9781421535500 &#39;,\n &#39;9781421535517 &#39;,\n &#39;9781421535524 &#39;,\n &#39;9781421535531 &#39;,\n &#39;9781421535548 &#39;,\n &#39;9781421535555 &#39;,\n &#39;9781421535562 &#39;,\n &#39;9781421535579 &#39;,\n &#39;9781421535586 &#39;,\n &#39;9781421535593 &#39;,\n &#39;9781421535609 &#39;,\n &#39;9781421535616 &#39;,\n &#39;9781421535623 &#39;,\n &#39;9781421535630 &#39;,\n &#39;9781421538167 &#39;,\n &#39;9781421538174 &#39;,\n &#39;9781421538181 &#39;,\n &#39;9781421539126 &#39;,\n &#39;9781421539133 &#39;,\n &#39;9781421539140 &#39;,\n &#39;9781421540924 &#39;,\n &#39;9781421542478 &#39;,\n &#39;9781421542805 &#39;,\n &#39;9781421542812 &#39;,\n &#39;9781421542829 &#39;,\n &#39;9781421550060 &#39;,\n &#39;9781421554044 &#39;,\n &#39;9781421554051 &#39;,\n &#39;9781421554068 &#39;,\n &#39;9781421558950 &#39;,\n &#39;9781421561790 &#39;,\n &#39;9781421567693 &#39;,\n &#39;9781421576022 &#39;,\n &#39;9781421578347 &#39;,\n &#39;9781421579801 &#39;,\n &#39;9781421582221 &#39;,\n &#39;9781421582504 &#39;,\n &#39;9781421582559 &#39;,\n &#39;9781421583358 &#39;,\n &#39;9781421587776 &#39;,\n &#39;9781421589640 &#39;,\n &#39;9781421590165 &#39;,\n &#39;9781421590660 &#39;,\n &#39;9781421590707 &#39;,\n &#39;9781421591551 &#39;,\n &#39;9781421591568 &#39;,\n &#39;9781421591643 &#39;,\n &#39;9781421592237 &#39;,\n &#39;9781421595443 &#39;,\n &#39;9781421595450 &#39;,\n &#39;9781421596259 &#39;,\n &#39;9781421596266 &#39;,\n &#39;9781800582965 &#39;,\n &#39;9781800581074 &#39;,\n &#39;9781800581357 &#39;,\n &#39;9781800581838 &#39;,\n &#39;9781789478945 &#39;,\n &#39;9781789474152 &#39;,\n &#39;9781789474176 &#39;,\n &#39;9781789474954 &#39;,\n &#39;9781789474961 &#39;,\n &#39;9781789478358 &#39;,\n &#39;9781789479997 &#39;,\n &#39;9781789478914 &#39;,\n &#39;9781789478921 &#39;,\n &#39;9781789471977 &#39;,\n &#39;9781789470017 &#39;,\n &#39;9781788435420 &#39;,\n &#39;9781788436304 &#39;,\n &#39;9781789472127 &#39;,\n &#39;9781788433433 &#39;,\n &#39;9781789478938 &#39;,\n &#39;9781789477986 &#39;,\n &#39;9781789478006 &#39;,\n &#39;9781789478013 &#39;,\n &#39;9781789478020 &#39;,\n &#39;9781789478037 &#39;,\n &#39;9781789478044 &#39;,\n &#39;9781789478051 &#39;,\n &#39;9781789478068 &#39;,\n &#39;9781789478075 &#39;,\n &#39;9781789478082 &#39;,\n &#39;9781789478099 &#39;,\n &#39;9781789474091 &#39;,\n &#39;9781789476088 &#39;,\n &#39;9781789476125 &#39;,\n &#39;9781789476132 &#39;,\n &#39;9781789476149 &#39;,\n &#39;9781789476156 &#39;,\n &#39;9781789476170 &#39;,\n &#39;9781789476187 &#39;,\n &#39;9781789476194 &#39;,\n &#39;9781789476200 &#39;,\n &#39;9781789476217 &#39;,\n &#39;9781800580558 &#39;,\n &#39;9781800581708 &#39;,\n &#39;9781800581777 &#39;,\n &#39;9781800581784 &#39;,\n &#39;9781800581791 &#39;,\n &#39;9781800581807 &#39;,\n &#39;9781800581814 &#39;,\n &#39;9781800580572 &#39;,\n &#39;9781800582699 &#39;,\n &#39;9781800581371 &#39;,\n &#39;9781789474145 &#39;,\n &#39;9781789474169 &#39;,\n &#39;9781529047882 &#39;,\n &#39;9781338745375 &#39;,\n &#39;9781338745542 &#39;,\n &#39;9781338756845 &#39;,\n &#39;9781338777260 &#39;,\n &#39;9781338777635 &#39;,\n &#39;9781338713442 &#39;,\n &#39;9781338634778 &#39;,\n &#39;9781338680638 &#39;,\n &#39;9781338635485 &#39;,\n &#39;9781338582925 &#39;,\n &#39;9781338582970 &#39;,\n &#39;9789814919999 &#39;,\n &#39;9781646380084 &#39;,\n &#39;9781646380091 &#39;,\n &#39;9781646380428 &#39;,\n &#39;9781646380473 &#39;,\n &#39;9781646380480 &#39;,\n &#39;9781646380503 &#39;,\n &#39;9781646380558 &#39;,\n &#39;9781680529425 &#39;,\n &#39;9781680521283 &#39;,\n &#39;9781680529890 &#39;,\n &#39;9781680529463 &#39;,\n &#39;9781680529548 &#39;,\n &#39;9781680529555 &#39;,\n &#39;9781680529432 &#39;,\n &#39;9781680529456 &#39;,\n &#39;9781680529845 &#39;,\n &#39;9781680529852 &#39;,\n &#39;9781680529494 &#39;,\n &#39;9781680529241 &#39;,\n &#39;9781646380848 &#39;,\n &#39;9781646380855 &#39;,\n &#39;9781646381234 &#39;,\n &#39;9781646381241 &#39;,\n &#39;9781646381258 &#39;,\n &#39;9781338355871 &#39;,\n &#39;9781338680645 &#39;,\n &#39;9781338680652 &#39;,\n &#39;9781338648034 &#39;,\n &#39;9781338305791 &#39;,\n &#39;9781338305807 &#39;,\n &#39;9781444964912 &#39;,\n &#39;9781680523447 &#39;,\n &#39;9781523504367 &#39;,\n &#39;9781523504381 &#39;,\n &#39;9789814906548 &#39;,\n &#39;9781338715972 &#39;,\n &#39;9781338687200 &#39;,\n &#39;9781338742459 &#39;,\n &#39;9781338745177 &#39;,\n &#39;9781338356212 &#39;,\n &#39;9789814947657 &#39;,\n &#39;9781984812223 &#39;,\n &#39;9781984815163 &#39;,\n &#39;9781953845030 &#39;,\n &#39;9781953845047 &#39;,\n &#39;9781953845054 &#39;,\n &#39;9781953845061 &#39;,\n &#39;9781941082898 &#39;,\n &#39;9781984896698 &#39;,\n &#39;9780553496673 &#39;,\n &#39;9780525555582 &#39;,\n &#39;9780593175446 &#39;,\n &#39;9781524768379 &#39;,\n &#39;9780593305492 &#39;,\n &#39;9781941082911 &#39;,\n &#39;9781338755466 &#39;,\n &#39;9781338755510 &#39;,\n &#39;9781338717518 &#39;,\n &#39;9781338729368 &#39;,\n &#39;9781338729375 &#39;,\n &#39;9781338740035 &#39;,\n &#39;9780655209997 &#39;,\n &#39;9780655210122 &#39;,\n &#39;9780655211006 &#39;,\n &#39;9780655201731 &#39;,\n &#39;9780655204053 &#39;,\n &#39;9780655205586 &#39;,\n &#39;9780655210290 &#39;,\n &#39;9780655207894 &#39;,\n &#39;9780655208730 &#39;,\n &#39;9780655215257 &#39;,\n &#39;9780655216308 &#39;,\n &#39;9780655216322 &#39;,\n &#39;9780655216353 &#39;,\n &#39;9780655216445 &#39;,\n &#39;9780655216605 &#39;,\n &#39;9780655216254 &#39;,\n &#39;9780655217206 &#39;,\n &#39;9780655217213 &#39;,\n &#39;9780655218890 &#39;,\n &#39;9780655217404 &#39;,\n &#39;9780655217411 &#39;,\n &#39;9780655217459 &#39;,\n &#39;9780655217466 &#39;,\n &#39;9780655219293 &#39;,\n &#39;9780655219729 &#39;,\n &#39;9780655212706 &#39;,\n &#39;9780655212720 &#39;,\n &#39;9780655213857 &#39;,\n &#39;9780655213918 &#39;,\n &#39;9780655213925 &#39;,\n &#39;9780655214038 &#39;,\n &#39;9780655214168 &#39;,\n &#39;9780655215158 &#39;,\n &#39;9781760456108 &#39;,\n &#39;9781760457228 &#39;,\n &#39;9789463337748 &#39;,\n ...]</div>",
       "datasetInfos": [],
       "metadata": {},
       "removedWidgets": [],
       "type": "html"
      }
     },
     "output_type": "display_data"
    }
   ],
   "source": [
    "ISBN13[205:-1]"
   ]
  },
  {
   "cell_type": "code",
   "execution_count": 0,
   "metadata": {
    "application/vnd.databricks.v1+cell": {
     "cellMetadata": {
      "byteLimit": 2048000,
      "rowLimit": 10000
     },
     "inputWidgets": {},
     "nuid": "5e24beeb-e0d2-4e2b-baa0-b613ef4c2a69",
     "showTitle": false,
     "title": ""
    }
   },
   "outputs": [
    {
     "output_type": "display_data",
     "data": {
      "text/html": [
       "<img src=\"https://blog.finxter.com/wp-content/uploads/2022/04/greenland_02a.jpg\"/>"
      ]
     },
     "metadata": {
      "application/vnd.databricks.v1+output": {
       "addedWidgets": {},
       "arguments": {},
       "data": "<img src=\"https://blog.finxter.com/wp-content/uploads/2022/04/greenland_02a.jpg\"/>",
       "datasetInfos": [],
       "metadata": {},
       "removedWidgets": [],
       "textData": null,
       "type": "htmlSandbox"
      }
     },
     "output_type": "display_data"
    }
   ],
   "source": [
    "display(Image(url= \"https://blog.finxter.com/wp-content/uploads/2022/04/greenland_02a.jpg\"))"
   ]
  },
  {
   "cell_type": "code",
   "execution_count": 0,
   "metadata": {
    "application/vnd.databricks.v1+cell": {
     "cellMetadata": {
      "byteLimit": 2048000,
      "rowLimit": 10000
     },
     "inputWidgets": {},
     "nuid": "5d4b47fe-ba8a-471a-9b57-720144c03865",
     "showTitle": false,
     "title": ""
    }
   },
   "outputs": [
    {
     "output_type": "display_data",
     "data": {
      "text/html": [
       "<style scoped>\n",
       "  .table-result-container {\n",
       "    max-height: 300px;\n",
       "    overflow: auto;\n",
       "  }\n",
       "  table, th, td {\n",
       "    border: 1px solid black;\n",
       "    border-collapse: collapse;\n",
       "  }\n",
       "  th, td {\n",
       "    padding: 5px;\n",
       "  }\n",
       "  th {\n",
       "    text-align: left;\n",
       "  }\n",
       "</style><div class='table-result-container'><table class='table-result'><thead style='background-color: white'><tr><th>path</th><th>name</th><th>size</th><th>modificationTime</th></tr></thead><tbody><tr><td>dbfs:/FileStore/Bookimages/.jpg</td><td>.jpg</td><td>807</td><td>1680626096000</td></tr><tr><td>dbfs:/FileStore/Bookimages/9780007488308.jpg</td><td>9780007488308.jpg</td><td>17983</td><td>1680620327000</td></tr><tr><td>dbfs:/FileStore/Bookimages/9780007488322.jpg</td><td>9780007488322.jpg</td><td>17580</td><td>1680620338000</td></tr><tr><td>dbfs:/FileStore/Bookimages/9780007488346.jpg</td><td>9780007488346.jpg</td><td>17429</td><td>1680620350000</td></tr><tr><td>dbfs:/FileStore/Bookimages/9780007591862.jpg</td><td>9780007591862.jpg</td><td>23690</td><td>1680620361000</td></tr><tr><td>dbfs:/FileStore/Bookimages/9780007957798.jpg</td><td>9780007957798.jpg</td><td>807</td><td>1680627686000</td></tr><tr><td>dbfs:/FileStore/Bookimages/9780007977178.jpg</td><td>9780007977178.jpg</td><td>12838</td><td>1680630384000</td></tr><tr><td>dbfs:/FileStore/Bookimages/9780008308407.jpg</td><td>9780008308407.jpg</td><td>807</td><td>1680621959000</td></tr><tr><td>dbfs:/FileStore/Bookimages/9780008308445.jpg</td><td>9780008308445.jpg</td><td>807</td><td>1680621970000</td></tr><tr><td>dbfs:/FileStore/Bookimages/9780008308483.jpg</td><td>9780008308483.jpg</td><td>807</td><td>1680621981000</td></tr><tr><td>dbfs:/FileStore/Bookimages/9780008333843.jpg</td><td>9780008333843.jpg</td><td>11308</td><td>1680621991000</td></tr><tr><td>dbfs:/FileStore/Bookimages/9780008411312.jpg</td><td>9780008411312.jpg</td><td>807</td><td>1680622002000</td></tr><tr><td>dbfs:/FileStore/Bookimages/9780008471804.jpg</td><td>9780008471804.jpg</td><td>807</td><td>1680621469000</td></tr><tr><td>dbfs:/FileStore/Bookimages/9780008496005.jpg</td><td>9780008496005.jpg</td><td>807</td><td>1680621480000</td></tr><tr><td>dbfs:/FileStore/Bookimages/9780008499525.jpg</td><td>9780008499525.jpg</td><td>807</td><td>1680624271000</td></tr><tr><td>dbfs:/FileStore/Bookimages/9780008499778.jpg</td><td>9780008499778.jpg</td><td>24431</td><td>1680621301000</td></tr><tr><td>dbfs:/FileStore/Bookimages/9780008502928.jpg</td><td>9780008502928.jpg</td><td>807</td><td>1680621448000</td></tr><tr><td>dbfs:/FileStore/Bookimages/9780008525231.jpg</td><td>9780008525231.jpg</td><td>807</td><td>1680621459000</td></tr><tr><td>dbfs:/FileStore/Bookimages/9780008579944.jpg</td><td>9780008579944.jpg</td><td>807</td><td>1680633994000</td></tr><tr><td>dbfs:/FileStore/Bookimages/9780008616076.jpg</td><td>9780008616076.jpg</td><td>807</td><td>1680636289000</td></tr><tr><td>dbfs:/FileStore/Bookimages/9780061998683.jpg</td><td>9780061998683.jpg</td><td>807</td><td>1680623389000</td></tr><tr><td>dbfs:/FileStore/Bookimages/9780062747310.jpg</td><td>9780062747310.jpg</td><td>17748</td><td>1680622557000</td></tr><tr><td>dbfs:/FileStore/Bookimages/9780062747815.jpg</td><td>9780062747815.jpg</td><td>19997</td><td>1680622568000</td></tr><tr><td>dbfs:/FileStore/Bookimages/9780062823588.jpg</td><td>9780062823588.jpg</td><td>807</td><td>1680622514000</td></tr><tr><td>dbfs:/FileStore/Bookimages/9780062823700.jpg</td><td>9780062823700.jpg</td><td>10610</td><td>1680622525000</td></tr><tr><td>dbfs:/FileStore/Bookimages/9780062823748.jpg</td><td>9780062823748.jpg</td><td>18357</td><td>1680622536000</td></tr><tr><td>dbfs:/FileStore/Bookimages/9780062823786.jpg</td><td>9780062823786.jpg</td><td>807</td><td>1680622546000</td></tr><tr><td>dbfs:/FileStore/Bookimages/9780062894564.jpg</td><td>9780062894564.jpg</td><td>16285</td><td>1680622086000</td></tr><tr><td>dbfs:/FileStore/Bookimages/9780063139183.jpg</td><td>9780063139183.jpg</td><td>807</td><td>1680622097000</td></tr><tr><td>dbfs:/FileStore/Bookimages/9780063206748.jpg</td><td>9780063206748.jpg</td><td>24062</td><td>1680622493000</td></tr><tr><td>dbfs:/FileStore/Bookimages/9780063211490.jpg</td><td>9780063211490.jpg</td><td>14635</td><td>1680622504000</td></tr><tr><td>dbfs:/FileStore/Bookimages/9780141046303.jpg</td><td>9780141046303.jpg</td><td>19238</td><td>1680628332000</td></tr><tr><td>dbfs:/FileStore/Bookimages/9780141340135.jpg</td><td>9780141340135.jpg</td><td>14261</td><td>1680628343000</td></tr><tr><td>dbfs:/FileStore/Bookimages/9780141340234.jpg</td><td>9780141340234.jpg</td><td>11567</td><td>1680628354000</td></tr><tr><td>dbfs:/FileStore/Bookimages/9780241182987.jpg</td><td>9780241182987.jpg</td><td>14032</td><td>1680630668000</td></tr><tr><td>dbfs:/FileStore/Bookimages/9780241232545.jpg</td><td>9780241232545.jpg</td><td>26078</td><td>1680630679000</td></tr><tr><td>dbfs:/FileStore/Bookimages/9780241281079.jpg</td><td>9780241281079.jpg</td><td>807</td><td>1680630690000</td></tr><tr><td>dbfs:/FileStore/Bookimages/9780241281093.jpg</td><td>9780241281093.jpg</td><td>807</td><td>1680630700000</td></tr><tr><td>dbfs:/FileStore/Bookimages/9780241288405.jpg</td><td>9780241288405.jpg</td><td>807</td><td>1680630711000</td></tr><tr><td>dbfs:/FileStore/Bookimages/9780241297629.jpg</td><td>9780241297629.jpg</td><td>807</td><td>1680630721000</td></tr><tr><td>dbfs:/FileStore/Bookimages/9780241310120.jpg</td><td>9780241310120.jpg</td><td>807</td><td>1680630732000</td></tr><tr><td>dbfs:/FileStore/Bookimages/9780241315996.jpg</td><td>9780241315996.jpg</td><td>807</td><td>1680630742000</td></tr><tr><td>dbfs:/FileStore/Bookimages/9780241316016.jpg</td><td>9780241316016.jpg</td><td>807</td><td>1680630753000</td></tr><tr><td>dbfs:/FileStore/Bookimages/9780241353097.jpg</td><td>9780241353097.jpg</td><td>807</td><td>1680628290000</td></tr><tr><td>dbfs:/FileStore/Bookimages/9780241355435.jpg</td><td>9780241355435.jpg</td><td>807</td><td>1680630605000</td></tr><tr><td>dbfs:/FileStore/Bookimages/9780241362235.jpg</td><td>9780241362235.jpg</td><td>807</td><td>1680621501000</td></tr><tr><td>dbfs:/FileStore/Bookimages/9780241364956.jpg</td><td>9780241364956.jpg</td><td>807</td><td>1680627910000</td></tr><tr><td>dbfs:/FileStore/Bookimages/9780241366912.jpg</td><td>9780241366912.jpg</td><td>807</td><td>1680630616000</td></tr><tr><td>dbfs:/FileStore/Bookimages/9780241382202.jpg</td><td>9780241382202.jpg</td><td>807</td><td>1680630626000</td></tr><tr><td>dbfs:/FileStore/Bookimages/9780241408889.jpg</td><td>9780241408889.jpg</td><td>807</td><td>1680630637000</td></tr><tr><td>dbfs:/FileStore/Bookimages/9780241409466.jpg</td><td>9780241409466.jpg</td><td>807</td><td>1680630647000</td></tr><tr><td>dbfs:/FileStore/Bookimages/9780241411803.jpg</td><td>9780241411803.jpg</td><td>807</td><td>1680630658000</td></tr><tr><td>dbfs:/FileStore/Bookimages/9780241414378.jpg</td><td>9780241414378.jpg</td><td>807</td><td>1680628301000</td></tr><tr><td>dbfs:/FileStore/Bookimages/9780241417843.jpg</td><td>9780241417843.jpg</td><td>807</td><td>1680630584000</td></tr><tr><td>dbfs:/FileStore/Bookimages/9780241419755.jpg</td><td>9780241419755.jpg</td><td>807</td><td>1680630595000</td></tr><tr><td>dbfs:/FileStore/Bookimages/9780241426319.jpg</td><td>9780241426319.jpg</td><td>807</td><td>1680621938000</td></tr><tr><td>dbfs:/FileStore/Bookimages/9780241426913.jpg</td><td>9780241426913.jpg</td><td>807</td><td>1680630458000</td></tr><tr><td>dbfs:/FileStore/Bookimages/9780241434710.jpg</td><td>9780241434710.jpg</td><td>807</td><td>1680628322000</td></tr><tr><td>dbfs:/FileStore/Bookimages/9780241446010.jpg</td><td>9780241446010.jpg</td><td>807</td><td>1680621511000</td></tr><tr><td>dbfs:/FileStore/Bookimages/9780241446034.jpg</td><td>9780241446034.jpg</td><td>807</td><td>1680621522000</td></tr><tr><td>dbfs:/FileStore/Bookimages/9780241446072.jpg</td><td>9780241446072.jpg</td><td>807</td><td>1680621532000</td></tr><tr><td>dbfs:/FileStore/Bookimages/9780241446386.jpg</td><td>9780241446386.jpg</td><td>807</td><td>1680621949000</td></tr><tr><td>dbfs:/FileStore/Bookimages/9780241465165.jpg</td><td>9780241465165.jpg</td><td>807</td><td>1680630479000</td></tr><tr><td>dbfs:/FileStore/Bookimages/9780241465172.jpg</td><td>9780241465172.jpg</td><td>807</td><td>1680630489000</td></tr><tr><td>dbfs:/FileStore/Bookimages/9780241465189.jpg</td><td>9780241465189.jpg</td><td>807</td><td>1680630500000</td></tr><tr><td>dbfs:/FileStore/Bookimages/9780241465196.jpg</td><td>9780241465196.jpg</td><td>807</td><td>1680630510000</td></tr><tr><td>dbfs:/FileStore/Bookimages/9780241465202.jpg</td><td>9780241465202.jpg</td><td>807</td><td>1680630521000</td></tr><tr><td>dbfs:/FileStore/Bookimages/9780241465233.jpg</td><td>9780241465233.jpg</td><td>807</td><td>1680630531000</td></tr><tr><td>dbfs:/FileStore/Bookimages/9780241465240.jpg</td><td>9780241465240.jpg</td><td>807</td><td>1680630542000</td></tr><tr><td>dbfs:/FileStore/Bookimages/9780241465264.jpg</td><td>9780241465264.jpg</td><td>807</td><td>1680630552000</td></tr><tr><td>dbfs:/FileStore/Bookimages/9780241467169.jpg</td><td>9780241467169.jpg</td><td>807</td><td>1680630563000</td></tr><tr><td>dbfs:/FileStore/Bookimages/9780241472217.jpg</td><td>9780241472217.jpg</td><td>807</td><td>1680630574000</td></tr><tr><td>dbfs:/FileStore/Bookimages/9780241476215.jpg</td><td>9780241476215.jpg</td><td>807</td><td>1680621543000</td></tr><tr><td>dbfs:/FileStore/Bookimages/9780241476369.jpg</td><td>9780241476369.jpg</td><td>807</td><td>1680621553000</td></tr><tr><td>dbfs:/FileStore/Bookimages/9780241476529.jpg</td><td>9780241476529.jpg</td><td>807</td><td>1680621564000</td></tr><tr><td>dbfs:/FileStore/Bookimages/9780241476581.jpg</td><td>9780241476581.jpg</td><td>18730</td><td>1680621574000</td></tr><tr><td>dbfs:/FileStore/Bookimages/9780241481738.jpg</td><td>9780241481738.jpg</td><td>807</td><td>1680621585000</td></tr><tr><td>dbfs:/FileStore/Bookimages/9780241520192.jpg</td><td>9780241520192.jpg</td><td>807</td><td>1680628311000</td></tr><tr><td>dbfs:/FileStore/Bookimages/9780241520987.jpg</td><td>9780241520987.jpg</td><td>24867</td><td>1680621596000</td></tr><tr><td>dbfs:/FileStore/Bookimages/9780241525357.jpg</td><td>9780241525357.jpg</td><td>807</td><td>1680630468000</td></tr><tr><td>dbfs:/FileStore/Bookimages/9780241530405.jpg</td><td>9780241530405.jpg</td><td>807</td><td>1680621490000</td></tr><tr><td>dbfs:/FileStore/Bookimages/9780241532706.jpg</td><td>9780241532706.jpg</td><td>807</td><td>1680630395000</td></tr><tr><td>dbfs:/FileStore/Bookimages/9780241532713.jpg</td><td>9780241532713.jpg</td><td>807</td><td>1680630405000</td></tr><tr><td>dbfs:/FileStore/Bookimages/9780241532720.jpg</td><td>9780241532720.jpg</td><td>807</td><td>1680630416000</td></tr><tr><td>dbfs:/FileStore/Bookimages/9780241532737.jpg</td><td>9780241532737.jpg</td><td>807</td><td>1680630426000</td></tr><tr><td>dbfs:/FileStore/Bookimages/9780241532744.jpg</td><td>9780241532744.jpg</td><td>807</td><td>1680630437000</td></tr><tr><td>dbfs:/FileStore/Bookimages/9780241532768.jpg</td><td>9780241532768.jpg</td><td>807</td><td>1680630447000</td></tr><tr><td>dbfs:/FileStore/Bookimages/9780241532775.jpg</td><td>9780241532775.jpg</td><td>807</td><td>1680630785000</td></tr><tr><td>dbfs:/FileStore/Bookimages/9780241532782.jpg</td><td>9780241532782.jpg</td><td>807</td><td>1680630795000</td></tr><tr><td>dbfs:/FileStore/Bookimages/9780241534236.jpg</td><td>9780241534236.jpg</td><td>14605</td><td>1680621927000</td></tr><tr><td>dbfs:/FileStore/Bookimages/9780241544754.jpg</td><td>9780241544754.jpg</td><td>807</td><td>1680628364000</td></tr><tr><td>dbfs:/FileStore/Bookimages/9780241547700.jpg</td><td>9780241547700.jpg</td><td>807</td><td>1680621606000</td></tr><tr><td>dbfs:/FileStore/Bookimages/9780241553923.jpg</td><td>9780241553923.jpg</td><td>807</td><td>1680630774000</td></tr><tr><td>dbfs:/FileStore/Bookimages/9780241583081.jpg</td><td>9780241583081.jpg</td><td>27709</td><td>1680629559000</td></tr><tr><td>dbfs:/FileStore/Bookimages/9780241951712.jpg</td><td>9780241951712.jpg</td><td>16769</td><td>1680628376000</td></tr><tr><td>dbfs:/FileStore/Bookimages/9780241951729.jpg</td><td>9780241951729.jpg</td><td>17354</td><td>1680628386000</td></tr><tr><td>dbfs:/FileStore/Bookimages/9780241951736.jpg</td><td>9780241951736.jpg</td><td>20769</td><td>1680628397000</td></tr><tr><td>dbfs:/FileStore/Bookimages/9780261102217.jpg</td><td>9780261102217.jpg</td><td>8175</td><td>1680622075000</td></tr><tr><td>dbfs:/FileStore/Bookimages/9780312522070.jpg</td><td>9780312522070.jpg</td><td>23443</td><td>1680620787000</td></tr><tr><td>dbfs:/FileStore/Bookimages/9780312526498.jpg</td><td>9780312526498.jpg</td><td>807</td><td>1680620797000</td></tr><tr><td>dbfs:/FileStore/Bookimages/9780312526566.jpg</td><td>9780312526566.jpg</td><td>807</td><td>1680620808000</td></tr><tr><td>dbfs:/FileStore/Bookimages/9780312526573.jpg</td><td>9780312526573.jpg</td><td>15657</td><td>1680620819000</td></tr><tr><td>dbfs:/FileStore/Bookimages/9780312526580.jpg</td><td>9780312526580.jpg</td><td>14645</td><td>1680620829000</td></tr><tr><td>dbfs:/FileStore/Bookimages/9780312526931.jpg</td><td>9780312526931.jpg</td><td>13847</td><td>1680620840000</td></tr><tr><td>dbfs:/FileStore/Bookimages/9780312527228.jpg</td><td>9780312527228.jpg</td><td>807</td><td>1680620850000</td></tr><tr><td>dbfs:/FileStore/Bookimages/9780312527952.jpg</td><td>9780312527952.jpg</td><td>26376</td><td>1680620863000</td></tr><tr><td>dbfs:/FileStore/Bookimages/9780312528027.jpg</td><td>9780312528027.jpg</td><td>807</td><td>1680620873000</td></tr><tr><td>dbfs:/FileStore/Bookimages/9780312529048.jpg</td><td>9780312529048.jpg</td><td>807</td><td>1680620884000</td></tr><tr><td>dbfs:/FileStore/Bookimages/9780312529277.jpg</td><td>9780312529277.jpg</td><td>13213</td><td>1680620896000</td></tr><tr><td>dbfs:/FileStore/Bookimages/9780312529383.jpg</td><td>9780312529383.jpg</td><td>11661</td><td>1680620906000</td></tr><tr><td>dbfs:/FileStore/Bookimages/9780312529734.jpg</td><td>9780312529734.jpg</td><td>13656</td><td>1680620917000</td></tr><tr><td>dbfs:/FileStore/Bookimages/9780312529741.jpg</td><td>9780312529741.jpg</td><td>807</td><td>1680620928000</td></tr><tr><td>dbfs:/FileStore/Bookimages/9780316056083.jpg</td><td>9780316056083.jpg</td><td>807</td><td>1680629569000</td></tr><tr><td>dbfs:/FileStore/Bookimages/9780316247771.jpg</td><td>9780316247771.jpg</td><td>807</td><td>1680635675000</td></tr><tr><td>dbfs:/FileStore/Bookimages/9780316274326.jpg</td><td>9780316274326.jpg</td><td>18475</td><td>1680635686000</td></tr><tr><td>dbfs:/FileStore/Bookimages/9780316301633.jpg</td><td>9780316301633.jpg</td><td>21694</td><td>1680635698000</td></tr><tr><td>dbfs:/FileStore/Bookimages/9780316318884.jpg</td><td>9780316318884.jpg</td><td>807</td><td>1680635709000</td></tr><tr><td>dbfs:/FileStore/Bookimages/9780316356800.jpg</td><td>9780316356800.jpg</td><td>807</td><td>1680635719000</td></tr><tr><td>dbfs:/FileStore/Bookimages/9780316393911.jpg</td><td>9780316393911.jpg</td><td>807</td><td>1680620198000</td></tr><tr><td>dbfs:/FileStore/Bookimages/9780316395342.jpg</td><td>9780316395342.jpg</td><td>24204</td><td>1680635730000</td></tr><tr><td>dbfs:/FileStore/Bookimages/9780316413428.jpg</td><td>9780316413428.jpg</td><td>29617</td><td>1680635741000</td></tr><tr><td>dbfs:/FileStore/Bookimages/9780316431866.jpg</td><td>9780316431866.jpg</td><td>807</td><td>1680635751000</td></tr><tr><td>dbfs:/FileStore/Bookimages/9780316475631.jpg</td><td>9780316475631.jpg</td><td>30661</td><td>1680635762000</td></tr><tr><td>dbfs:/FileStore/Bookimages/9780316475716.jpg</td><td>9780316475716.jpg</td><td>807</td><td>1680635773000</td></tr><tr><td>dbfs:/FileStore/Bookimages/9780316501927.jpg</td><td>9780316501927.jpg</td><td>26202</td><td>1680635785000</td></tr><tr><td>dbfs:/FileStore/Bookimages/9780316525978.jpg</td><td>9780316525978.jpg</td><td>30831</td><td>1680635797000</td></tr><tr><td>dbfs:/FileStore/Bookimages/9780316557528.jpg</td><td>9780316557528.jpg</td><td>28961</td><td>1680635808000</td></tr><tr><td>dbfs:/FileStore/Bookimages/9780330513838.jpg</td><td>9780330513838.jpg</td><td>807</td><td>1680624239000</td></tr><tr><td>dbfs:/FileStore/Bookimages/9780330513845.jpg</td><td>9780330513845.jpg</td><td>15529</td><td>1680624250000</td></tr><tr><td>dbfs:/FileStore/Bookimages/9780330513852.jpg</td><td>9780330513852.jpg</td><td>807</td><td>1680624260000</td></tr><tr><td>dbfs:/FileStore/Bookimages/9780340680919.jpg</td><td>9780340680919.jpg</td><td>20042</td><td>1680630764000</td></tr><tr><td>dbfs:/FileStore/Bookimages/9780340680940.jpg</td><td>9780340680940.jpg</td><td>19798</td><td>1680629964000</td></tr><tr><td>dbfs:/FileStore/Bookimages/9780340680971.jpg</td><td>9780340680971.jpg</td><td>20271</td><td>1680629975000</td></tr><tr><td>dbfs:/FileStore/Bookimages/9780340680988.jpg</td><td>9780340680988.jpg</td><td>11684</td><td>1680629986000</td></tr><tr><td>dbfs:/FileStore/Bookimages/9780340680995.jpg</td><td>9780340680995.jpg</td><td>21485</td><td>1680629998000</td></tr><tr><td>dbfs:/FileStore/Bookimages/9780340681008.jpg</td><td>9780340681008.jpg</td><td>20518</td><td>1680630009000</td></tr><tr><td>dbfs:/FileStore/Bookimages/9780340681015.jpg</td><td>9780340681015.jpg</td><td>20885</td><td>1680630020000</td></tr><tr><td>dbfs:/FileStore/Bookimages/9780340681022.jpg</td><td>9780340681022.jpg</td><td>11147</td><td>1680630030000</td></tr><tr><td>dbfs:/FileStore/Bookimages/9780340681039.jpg</td><td>9780340681039.jpg</td><td>19336</td><td>1680630042000</td></tr><tr><td>dbfs:/FileStore/Bookimages/9780340681046.jpg</td><td>9780340681046.jpg</td><td>22549</td><td>1680630053000</td></tr><tr><td>dbfs:/FileStore/Bookimages/9780340681053.jpg</td><td>9780340681053.jpg</td><td>807</td><td>1680630064000</td></tr><tr><td>dbfs:/FileStore/Bookimages/9780340681176.jpg</td><td>9780340681176.jpg</td><td>11781</td><td>1680630074000</td></tr><tr><td>dbfs:/FileStore/Bookimages/9780340681213.jpg</td><td>9780340681213.jpg</td><td>11310</td><td>1680630085000</td></tr><tr><td>dbfs:/FileStore/Bookimages/9780340681251.jpg</td><td>9780340681251.jpg</td><td>11664</td><td>1680630095000</td></tr><tr><td>dbfs:/FileStore/Bookimages/9780340709344.jpg</td><td>9780340709344.jpg</td><td>807</td><td>1680630106000</td></tr><tr><td>dbfs:/FileStore/Bookimages/9780349013329.jpg</td><td>9780349013329.jpg</td><td>807</td><td>1680630116000</td></tr><tr><td>dbfs:/FileStore/Bookimages/9780374303952.jpg</td><td>9780374303952.jpg</td><td>807</td><td>1680635818000</td></tr><tr><td>dbfs:/FileStore/Bookimages/9780399544132.jpg</td><td>9780399544132.jpg</td><td>19609</td><td>1680622803000</td></tr><tr><td>dbfs:/FileStore/Bookimages/9780399544361.jpg</td><td>9780399544361.jpg</td><td>807</td><td>1680620219000</td></tr><tr><td>dbfs:/FileStore/Bookimages/9780448488493.jpg</td><td>9780448488493.jpg</td><td>807</td><td>1680620229000</td></tr><tr><td>dbfs:/FileStore/Bookimages/9780448488615.jpg</td><td>9780448488615.jpg</td><td>22145</td><td>1680620241000</td></tr><tr><td>dbfs:/FileStore/Bookimages/9780451532428.jpg</td><td>9780451532428.jpg</td><td>807</td><td>1680620252000</td></tr><tr><td>dbfs:/FileStore/Bookimages/9780451532541.jpg</td><td>9780451532541.jpg</td><td>24248</td><td>1680622835000</td></tr><tr><td>dbfs:/FileStore/Bookimages/9780500651285.jpg</td><td>9780500651285.jpg</td><td>807</td><td>1680629932000</td></tr><tr><td>dbfs:/FileStore/Bookimages/9780500651292.jpg</td><td>9780500651292.jpg</td><td>807</td><td>1680629943000</td></tr><tr><td>dbfs:/FileStore/Bookimages/9780500651520.jpg</td><td>9780500651520.jpg</td><td>17749</td><td>1680629954000</td></tr><tr><td>dbfs:/FileStore/Bookimages/9780515157260.jpg</td><td>9780515157260.jpg</td><td>24557</td><td>1680638730000</td></tr><tr><td>dbfs:/FileStore/Bookimages/9780525647775.jpg</td><td>9780525647775.jpg</td><td>807</td><td>1680627771000</td></tr><tr><td>dbfs:/FileStore/Bookimages/9780552171342.jpg</td><td>9780552171342.jpg</td><td>10674</td><td>1680627749000</td></tr><tr><td>dbfs:/FileStore/Bookimages/9780552171359.jpg</td><td>9780552171359.jpg</td><td>807</td><td>1680627760000</td></tr><tr><td>dbfs:/FileStore/Bookimages/9780552171366.jpg</td><td>9780552171366.jpg</td><td>807</td><td>1680627697000</td></tr><tr><td>dbfs:/FileStore/Bookimages/9780552171373.jpg</td><td>9780552171373.jpg</td><td>807</td><td>1680627707000</td></tr><tr><td>dbfs:/FileStore/Bookimages/9780552172592.jpg</td><td>9780552172592.jpg</td><td>807</td><td>1680627718000</td></tr><tr><td>dbfs:/FileStore/Bookimages/9780552174114.jpg</td><td>9780552174114.jpg</td><td>807</td><td>1680627728000</td></tr><tr><td>dbfs:/FileStore/Bookimages/9780552177177.jpg</td><td>9780552177177.jpg</td><td>807</td><td>1680627739000</td></tr><tr><td>dbfs:/FileStore/Bookimages/9780552577632.jpg</td><td>9780552577632.jpg</td><td>807</td><td>1680630352000</td></tr><tr><td>dbfs:/FileStore/Bookimages/9780552577649.jpg</td><td>9780552577649.jpg</td><td>807</td><td>1680630363000</td></tr><tr><td>dbfs:/FileStore/Bookimages/9780552577656.jpg</td><td>9780552577656.jpg</td><td>807</td><td>1680630374000</td></tr><tr><td>dbfs:/FileStore/Bookimages/9780552577854.jpg</td><td>9780552577854.jpg</td><td>807</td><td>1680628408000</td></tr><tr><td>dbfs:/FileStore/Bookimages/9780593093764.jpg</td><td>9780593093764.jpg</td><td>18603</td><td>1680638741000</td></tr><tr><td>dbfs:/FileStore/Bookimages/9780593097519.jpg</td><td>9780593097519.jpg</td><td>18449</td><td>1680620208000</td></tr><tr><td>dbfs:/FileStore/Bookimages/9780593117545.jpg</td><td>9780593117545.jpg</td><td>1770</td><td>1680622931000</td></tr><tr><td>dbfs:/FileStore/Bookimages/9780593175347.jpg</td><td>9780593175347.jpg</td><td>30623</td><td>1680622942000</td></tr><tr><td>dbfs:/FileStore/Bookimages/9780593182079.jpg</td><td>9780593182079.jpg</td><td>29285</td><td>1680622953000</td></tr><tr><td>dbfs:/FileStore/Bookimages/9780593224403.jpg</td><td>9780593224403.jpg</td><td>807</td><td>1680638784000</td></tr><tr><td>dbfs:/FileStore/Bookimages/9780593224434.jpg</td><td>9780593224434.jpg</td><td>24013</td><td>1680638794000</td></tr><tr><td>dbfs:/FileStore/Bookimages/9780593224465.jpg</td><td>9780593224465.jpg</td><td>22327</td><td>1680638805000</td></tr><tr><td>dbfs:/FileStore/Bookimages/9780593224496.jpg</td><td>9780593224496.jpg</td><td>29484</td><td>1680638816000</td></tr><tr><td>dbfs:/FileStore/Bookimages/9780593224625.jpg</td><td>9780593224625.jpg</td><td>807</td><td>1680638826000</td></tr><tr><td>dbfs:/FileStore/Bookimages/9780593225165.jpg</td><td>9780593225165.jpg</td><td>25023</td><td>1680638837000</td></tr><tr><td>dbfs:/FileStore/Bookimages/9780593225905.jpg</td><td>9780593225905.jpg</td><td>23863</td><td>1680638848000</td></tr><tr><td>dbfs:/FileStore/Bookimages/9780593226865.jpg</td><td>9780593226865.jpg</td><td>19979</td><td>1680623379000</td></tr><tr><td>dbfs:/FileStore/Bookimages/9780593227022.jpg</td><td>9780593227022.jpg</td><td>23257</td><td>1680638751000</td></tr><tr><td>dbfs:/FileStore/Bookimages/9780593302071.jpg</td><td>9780593302071.jpg</td><td>24852</td><td>1680622963000</td></tr><tr><td>dbfs:/FileStore/Bookimages/9780593349663.jpg</td><td>9780593349663.jpg</td><td>27654</td><td>1680638762000</td></tr><tr><td>dbfs:/FileStore/Bookimages/9780593383612.jpg</td><td>9780593383612.jpg</td><td>807</td><td>1680623357000</td></tr><tr><td>dbfs:/FileStore/Bookimages/9780593383650.jpg</td><td>9780593383650.jpg</td><td>21651</td><td>1680623368000</td></tr><tr><td>dbfs:/FileStore/Bookimages/9780593384695.jpg</td><td>9780593384695.jpg</td><td>25399</td><td>1680638773000</td></tr><tr><td>dbfs:/FileStore/Bookimages/9780593425596.jpg</td><td>9780593425596.jpg</td><td>807</td><td>1680623347000</td></tr><tr><td>dbfs:/FileStore/Bookimages/9780593425640.jpg</td><td>9780593425640.jpg</td><td>23736</td><td>1680622974000</td></tr><tr><td>dbfs:/FileStore/Bookimages/9780593432204.jpg</td><td>9780593432204.jpg</td><td>25230</td><td>1680622985000</td></tr><tr><td>dbfs:/FileStore/Bookimages/9780593432228.jpg</td><td>9780593432228.jpg</td><td>807</td><td>1680622995000</td></tr><tr><td>dbfs:/FileStore/Bookimages/9780593432280.jpg</td><td>9780593432280.jpg</td><td>807</td><td>1680623006000</td></tr><tr><td>dbfs:/FileStore/Bookimages/9780593432303.jpg</td><td>9780593432303.jpg</td><td>807</td><td>1680623017000</td></tr><tr><td>dbfs:/FileStore/Bookimages/9780593432327.jpg</td><td>9780593432327.jpg</td><td>807</td><td>1680623027000</td></tr><tr><td>dbfs:/FileStore/Bookimages/9780593432440.jpg</td><td>9780593432440.jpg</td><td>807</td><td>1680623038000</td></tr><tr><td>dbfs:/FileStore/Bookimages/9780593432464.jpg</td><td>9780593432464.jpg</td><td>807</td><td>1680623048000</td></tr><tr><td>dbfs:/FileStore/Bookimages/9780593432488.jpg</td><td>9780593432488.jpg</td><td>807</td><td>1680623059000</td></tr><tr><td>dbfs:/FileStore/Bookimages/9780593433751.jpg</td><td>9780593433751.jpg</td><td>807</td><td>1680623069000</td></tr><tr><td>dbfs:/FileStore/Bookimages/9780593433911.jpg</td><td>9780593433911.jpg</td><td>807</td><td>1680623080000</td></tr><tr><td>dbfs:/FileStore/Bookimages/9780593463109.jpg</td><td>9780593463109.jpg</td><td>807</td><td>1680638655000</td></tr><tr><td>dbfs:/FileStore/Bookimages/9780593487785.jpg</td><td>9780593487785.jpg</td><td>807</td><td>1680622814000</td></tr><tr><td>dbfs:/FileStore/Bookimages/9780593524145.jpg</td><td>9780593524145.jpg</td><td>807</td><td>1680622824000</td></tr><tr><td>dbfs:/FileStore/Bookimages/9780593527498.jpg</td><td>9780593527498.jpg</td><td>23924</td><td>1680638718000</td></tr><tr><td>dbfs:/FileStore/Bookimages/9780593567432.jpg</td><td>9780593567432.jpg</td><td>807</td><td>1680638707000</td></tr><tr><td>dbfs:/FileStore/Bookimages/9780593567449.jpg</td><td>9780593567449.jpg</td><td>807</td><td>1680622846000</td></tr><tr><td>dbfs:/FileStore/Bookimages/9780593567456.jpg</td><td>9780593567456.jpg</td><td>807</td><td>1680638665000</td></tr><tr><td>dbfs:/FileStore/Bookimages/9780593572573.jpg</td><td>9780593572573.jpg</td><td>807</td><td>1680638676000</td></tr><tr><td>dbfs:/FileStore/Bookimages/9780593616055.jpg</td><td>9780593616055.jpg</td><td>807</td><td>1680638686000</td></tr><tr><td>dbfs:/FileStore/Bookimages/9780593644874.jpg</td><td>9780593644874.jpg</td><td>807</td><td>1680638697000</td></tr><tr><td>dbfs:/FileStore/Bookimages/9780603566981.jpg</td><td>9780603566981.jpg</td><td>18678</td><td>1680630201000</td></tr><tr><td>dbfs:/FileStore/Bookimages/9780603566998.jpg</td><td>9780603566998.jpg</td><td>807</td><td>1680630213000</td></tr><tr><td>dbfs:/FileStore/Bookimages/9780603567018.jpg</td><td>9780603567018.jpg</td><td>26024</td><td>1680630224000</td></tr><tr><td>dbfs:/FileStore/Bookimages/9780603567025.jpg</td><td>9780603567025.jpg</td><td>807</td><td>1680630234000</td></tr><tr><td>dbfs:/FileStore/Bookimages/9780603567032.jpg</td><td>9780603567032.jpg</td><td>16281</td><td>1680630245000</td></tr><tr><td>dbfs:/FileStore/Bookimages/9780603567728.jpg</td><td>9780603567728.jpg</td><td>807</td><td>1680630255000</td></tr><tr><td>dbfs:/FileStore/Bookimages/9780603567766.jpg</td><td>9780603567766.jpg</td><td>13445</td><td>1680630267000</td></tr><tr><td>dbfs:/FileStore/Bookimages/9780603567773.jpg</td><td>9780603567773.jpg</td><td>12022</td><td>1680630279000</td></tr><tr><td>dbfs:/FileStore/Bookimages/9780603571961.jpg</td><td>9780603571961.jpg</td><td>807</td><td>1680630289000</td></tr><tr><td>dbfs:/FileStore/Bookimages/9780603572500.jpg</td><td>9780603572500.jpg</td><td>807</td><td>1680630300000</td></tr><tr><td>dbfs:/FileStore/Bookimages/9780603572548.jpg</td><td>9780603572548.jpg</td><td>807</td><td>1680630310000</td></tr><tr><td>dbfs:/FileStore/Bookimages/9780603572555.jpg</td><td>9780603572555.jpg</td><td>807</td><td>1680630321000</td></tr><tr><td>dbfs:/FileStore/Bookimages/9780603572593.jpg</td><td>9780603572593.jpg</td><td>807</td><td>1680630331000</td></tr><tr><td>dbfs:/FileStore/Bookimages/9780603574351.jpg</td><td>9780603574351.jpg</td><td>807</td><td>1680630342000</td></tr><tr><td>dbfs:/FileStore/Bookimages/9780603575112.jpg</td><td>9780603575112.jpg</td><td>807</td><td>1680628439000</td></tr><tr><td>dbfs:/FileStore/Bookimages/9780603575143.jpg</td><td>9780603575143.jpg</td><td>807</td><td>1680628450000</td></tr><tr><td>dbfs:/FileStore/Bookimages/9780603575150.jpg</td><td>9780603575150.jpg</td><td>807</td><td>1680628461000</td></tr><tr><td>dbfs:/FileStore/Bookimages/9780603575167.jpg</td><td>9780603575167.jpg</td><td>807</td><td>1680628471000</td></tr><tr><td>dbfs:/FileStore/Bookimages/9780603575174.jpg</td><td>9780603575174.jpg</td><td>807</td><td>1680628482000</td></tr><tr><td>dbfs:/FileStore/Bookimages/9780603575181.jpg</td><td>9780603575181.jpg</td><td>807</td><td>1680628492000</td></tr><tr><td>dbfs:/FileStore/Bookimages/9780603575198.jpg</td><td>9780603575198.jpg</td><td>807</td><td>1680628503000</td></tr><tr><td>dbfs:/FileStore/Bookimages/9780603575204.jpg</td><td>9780603575204.jpg</td><td>807</td><td>1680628513000</td></tr><tr><td>dbfs:/FileStore/Bookimages/9780603575211.jpg</td><td>9780603575211.jpg</td><td>807</td><td>1680628524000</td></tr><tr><td>dbfs:/FileStore/Bookimages/9780603575228.jpg</td><td>9780603575228.jpg</td><td>807</td><td>1680628534000</td></tr><tr><td>dbfs:/FileStore/Bookimages/9780603575235.jpg</td><td>9780603575235.jpg</td><td>807</td><td>1680628545000</td></tr><tr><td>dbfs:/FileStore/Bookimages/9780603576140.jpg</td><td>9780603576140.jpg</td><td>807</td><td>1680628555000</td></tr><tr><td>dbfs:/FileStore/Bookimages/9780603576157.jpg</td><td>9780603576157.jpg</td><td>807</td><td>1680628566000</td></tr><tr><td>dbfs:/FileStore/Bookimages/9780603576164.jpg</td><td>9780603576164.jpg</td><td>807</td><td>1680628576000</td></tr><tr><td>dbfs:/FileStore/Bookimages/9780603576171.jpg</td><td>9780603576171.jpg</td><td>807</td><td>1680628587000</td></tr><tr><td>dbfs:/FileStore/Bookimages/9780603576188.jpg</td><td>9780603576188.jpg</td><td>807</td><td>1680628597000</td></tr><tr><td>dbfs:/FileStore/Bookimages/9780603576751.jpg</td><td>9780603576751.jpg</td><td>807</td><td>1680630127000</td></tr><tr><td>dbfs:/FileStore/Bookimages/9780603577369.jpg</td><td>9780603577369.jpg</td><td>807</td><td>1680630138000</td></tr><tr><td>dbfs:/FileStore/Bookimages/9780603578236.jpg</td><td>9780603578236.jpg</td><td>807</td><td>1680630148000</td></tr><tr><td>dbfs:/FileStore/Bookimages/9780603578243.jpg</td><td>9780603578243.jpg</td><td>807</td><td>1680630159000</td></tr><tr><td>dbfs:/FileStore/Bookimages/9780603578250.jpg</td><td>9780603578250.jpg</td><td>807</td><td>1680630169000</td></tr><tr><td>dbfs:/FileStore/Bookimages/9780603578267.jpg</td><td>9780603578267.jpg</td><td>807</td><td>1680630180000</td></tr><tr><td>dbfs:/FileStore/Bookimages/9780603579882.jpg</td><td>9780603579882.jpg</td><td>807</td><td>1680630190000</td></tr><tr><td>dbfs:/FileStore/Bookimages/9780603580727.jpg</td><td>9780603580727.jpg</td><td>807</td><td>1680621311000</td></tr><tr><td>dbfs:/FileStore/Bookimages/9780603580734.jpg</td><td>9780603580734.jpg</td><td>807</td><td>1680621322000</td></tr><tr><td>dbfs:/FileStore/Bookimages/9780603580741.jpg</td><td>9780603580741.jpg</td><td>807</td><td>1680621332000</td></tr><tr><td>dbfs:/FileStore/Bookimages/9780603580758.jpg</td><td>9780603580758.jpg</td><td>807</td><td>1680621343000</td></tr><tr><td>dbfs:/FileStore/Bookimages/9780603580765.jpg</td><td>9780603580765.jpg</td><td>807</td><td>1680621353000</td></tr><tr><td>dbfs:/FileStore/Bookimages/9780603580772.jpg</td><td>9780603580772.jpg</td><td>807</td><td>1680621364000</td></tr><tr><td>dbfs:/FileStore/Bookimages/9780603580789.jpg</td><td>9780603580789.jpg</td><td>807</td><td>1680621374000</td></tr><tr><td>dbfs:/FileStore/Bookimages/9780603580796.jpg</td><td>9780603580796.jpg</td><td>807</td><td>1680621385000</td></tr><tr><td>dbfs:/FileStore/Bookimages/9780655203957.jpg</td><td>9780655203957.jpg</td><td>807</td><td>1680626275000</td></tr><tr><td>dbfs:/FileStore/Bookimages/9780655205272.jpg</td><td>9780655205272.jpg</td><td>807</td><td>1680626285000</td></tr><tr><td>dbfs:/FileStore/Bookimages/9780655206156.jpg</td><td>9780655206156.jpg</td><td>807</td><td>1680637524000</td></tr><tr><td>dbfs:/FileStore/Bookimages/9780655206408.jpg</td><td>9780655206408.jpg</td><td>807</td><td>1680627623000</td></tr><tr><td>dbfs:/FileStore/Bookimages/9780655206415.jpg</td><td>9780655206415.jpg</td><td>807</td><td>1680626296000</td></tr><tr><td>dbfs:/FileStore/Bookimages/9780655210511.jpg</td><td>9780655210511.jpg</td><td>28075</td><td>1680637492000</td></tr><tr><td>dbfs:/FileStore/Bookimages/9780655210535.jpg</td><td>9780655210535.jpg</td><td>807</td><td>1680637503000</td></tr><tr><td>dbfs:/FileStore/Bookimages/9780655211037.jpg</td><td>9780655211037.jpg</td><td>807</td><td>1680637514000</td></tr><tr><td>dbfs:/FileStore/Bookimages/9780655211082.jpg</td><td>9780655211082.jpg</td><td>807</td><td>1680626243000</td></tr><tr><td>dbfs:/FileStore/Bookimages/9780655211099.jpg</td><td>9780655211099.jpg</td><td>807</td><td>1680626254000</td></tr><tr><td>dbfs:/FileStore/Bookimages/9780655211105.jpg</td><td>9780655211105.jpg</td><td>807</td><td>1680626264000</td></tr><tr><td>dbfs:/FileStore/Bookimages/9780655212270.jpg</td><td>9780655212270.jpg</td><td>807</td><td>1680626306000</td></tr><tr><td>dbfs:/FileStore/Bookimages/9780655212355.jpg</td><td>9780655212355.jpg</td><td>807</td><td>1680637967000</td></tr><tr><td>dbfs:/FileStore/Bookimages/9780655212522.jpg</td><td>9780655212522.jpg</td><td>807</td><td>1680626317000</td></tr><tr><td>dbfs:/FileStore/Bookimages/9780655212539.jpg</td><td>9780655212539.jpg</td><td>807</td><td>1680626327000</td></tr><tr><td>dbfs:/FileStore/Bookimages/9780655212584.jpg</td><td>9780655212584.jpg</td><td>807</td><td>1680626338000</td></tr><tr><td>dbfs:/FileStore/Bookimages/9780655212621.jpg</td><td>9780655212621.jpg</td><td>807</td><td>1680626348000</td></tr><tr><td>dbfs:/FileStore/Bookimages/9780655212669.jpg</td><td>9780655212669.jpg</td><td>807</td><td>1680626359000</td></tr><tr><td>dbfs:/FileStore/Bookimages/9780655212676.jpg</td><td>9780655212676.jpg</td><td>807</td><td>1680626369000</td></tr><tr><td>dbfs:/FileStore/Bookimages/9780655212683.jpg</td><td>9780655212683.jpg</td><td>807</td><td>1680626380000</td></tr><tr><td>dbfs:/FileStore/Bookimages/9780655212690.jpg</td><td>9780655212690.jpg</td><td>807</td><td>1680626391000</td></tr><tr><td>dbfs:/FileStore/Bookimages/9780655212713.jpg</td><td>9780655212713.jpg</td><td>807</td><td>1680626401000</td></tr><tr><td>dbfs:/FileStore/Bookimages/9780655213376.jpg</td><td>9780655213376.jpg</td><td>807</td><td>1680626412000</td></tr><tr><td>dbfs:/FileStore/Bookimages/9780655213383.jpg</td><td>9780655213383.jpg</td><td>807</td><td>1680638019000</td></tr><tr><td>dbfs:/FileStore/Bookimages/9780655213529.jpg</td><td>9780655213529.jpg</td><td>807</td><td>1680638030000</td></tr><tr><td>dbfs:/FileStore/Bookimages/9780655213536.jpg</td><td>9780655213536.jpg</td><td>807</td><td>1680638040000</td></tr><tr><td>dbfs:/FileStore/Bookimages/9780655213826.jpg</td><td>9780655213826.jpg</td><td>807</td><td>1680626422000</td></tr><tr><td>dbfs:/FileStore/Bookimages/9780655213833.jpg</td><td>9780655213833.jpg</td><td>807</td><td>1680626433000</td></tr><tr><td>dbfs:/FileStore/Bookimages/9780655213840.jpg</td><td>9780655213840.jpg</td><td>807</td><td>1680626443000</td></tr><tr><td>dbfs:/FileStore/Bookimages/9780655214007.jpg</td><td>9780655214007.jpg</td><td>807</td><td>1680637998000</td></tr><tr><td>dbfs:/FileStore/Bookimages/9780655214250.jpg</td><td>9780655214250.jpg</td><td>807</td><td>1680638009000</td></tr><tr><td>dbfs:/FileStore/Bookimages/9780655215134.jpg</td><td>9780655215134.jpg</td><td>807</td><td>1680626454000</td></tr><tr><td>dbfs:/FileStore/Bookimages/9780655215141.jpg</td><td>9780655215141.jpg</td><td>807</td><td>1680626464000</td></tr><tr><td>dbfs:/FileStore/Bookimages/9780655215196.jpg</td><td>9780655215196.jpg</td><td>807</td><td>1680637977000</td></tr><tr><td>dbfs:/FileStore/Bookimages/9780655216094.jpg</td><td>9780655216094.jpg</td><td>807</td><td>1680637988000</td></tr><tr><td>dbfs:/FileStore/Bookimages/9780655216285.jpg</td><td>9780655216285.jpg</td><td>807</td><td>1680626475000</td></tr><tr><td>dbfs:/FileStore/Bookimages/9780655216537.jpg</td><td>9780655216537.jpg</td><td>807</td><td>1680626485000</td></tr><tr><td>dbfs:/FileStore/Bookimages/9780655216544.jpg</td><td>9780655216544.jpg</td><td>807</td><td>1680626496000</td></tr><tr><td>dbfs:/FileStore/Bookimages/9780655216551.jpg</td><td>9780655216551.jpg</td><td>807</td><td>1680626506000</td></tr><tr><td>dbfs:/FileStore/Bookimages/9780655216568.jpg</td><td>9780655216568.jpg</td><td>807</td><td>1680626517000</td></tr><tr><td>dbfs:/FileStore/Bookimages/9780655216650.jpg</td><td>9780655216650.jpg</td><td>807</td><td>1680626527000</td></tr><tr><td>dbfs:/FileStore/Bookimages/9780655216667.jpg</td><td>9780655216667.jpg</td><td>807</td><td>1680626538000</td></tr><tr><td>dbfs:/FileStore/Bookimages/9780655216674.jpg</td><td>9780655216674.jpg</td><td>807</td><td>1680626549000</td></tr><tr><td>dbfs:/FileStore/Bookimages/9780655216681.jpg</td><td>9780655216681.jpg</td><td>807</td><td>1680626559000</td></tr><tr><td>dbfs:/FileStore/Bookimages/9780655216698.jpg</td><td>9780655216698.jpg</td><td>807</td><td>1680626570000</td></tr><tr><td>dbfs:/FileStore/Bookimages/9780655216742.jpg</td><td>9780655216742.jpg</td><td>807</td><td>1680637914000</td></tr><tr><td>dbfs:/FileStore/Bookimages/9780655216766.jpg</td><td>9780655216766.jpg</td><td>807</td><td>1680637925000</td></tr><tr><td>dbfs:/FileStore/Bookimages/9780655216926.jpg</td><td>9780655216926.jpg</td><td>807</td><td>1680626591000</td></tr><tr><td>dbfs:/FileStore/Bookimages/9780655216995.jpg</td><td>9780655216995.jpg</td><td>807</td><td>1680633888000</td></tr><tr><td>dbfs:/FileStore/Bookimages/9780655217015.jpg</td><td>9780655217015.jpg</td><td>807</td><td>1680633899000</td></tr><tr><td>dbfs:/FileStore/Bookimages/9780655217022.jpg</td><td>9780655217022.jpg</td><td>807</td><td>1680626580000</td></tr><tr><td>dbfs:/FileStore/Bookimages/9780655217282.jpg</td><td>9780655217282.jpg</td><td>807</td><td>1680637883000</td></tr><tr><td>dbfs:/FileStore/Bookimages/9780655217299.jpg</td><td>9780655217299.jpg</td><td>807</td><td>1680637893000</td></tr><tr><td>dbfs:/FileStore/Bookimages/9780655217435.jpg</td><td>9780655217435.jpg</td><td>807</td><td>1680637904000</td></tr><tr><td>dbfs:/FileStore/Bookimages/9780655217497.jpg</td><td>9780655217497.jpg</td><td>807</td><td>1680633909000</td></tr><tr><td>dbfs:/FileStore/Bookimages/9780655217527.jpg</td><td>9780655217527.jpg</td><td>807</td><td>1680637862000</td></tr><tr><td>dbfs:/FileStore/Bookimages/9780655217534.jpg</td><td>9780655217534.jpg</td><td>807</td><td>1680637872000</td></tr><tr><td>dbfs:/FileStore/Bookimages/9780655217626.jpg</td><td>9780655217626.jpg</td><td>807</td><td>1680626601000</td></tr><tr><td>dbfs:/FileStore/Bookimages/9780655218425.jpg</td><td>9780655218425.jpg</td><td>807</td><td>1680637946000</td></tr><tr><td>dbfs:/FileStore/Bookimages/9780655218432.jpg</td><td>9780655218432.jpg</td><td>807</td><td>1680633878000</td></tr><tr><td>dbfs:/FileStore/Bookimages/9780655218517.jpg</td><td>9780655218517.jpg</td><td>807</td><td>1680637935000</td></tr><tr><td>dbfs:/FileStore/Bookimages/9780655218647.jpg</td><td>9780655218647.jpg</td><td>807</td><td>1680626612000</td></tr><tr><td>dbfs:/FileStore/Bookimages/9780655218777.jpg</td><td>9780655218777.jpg</td><td>807</td><td>1680637956000</td></tr><tr><td>dbfs:/FileStore/Bookimages/9780655218876.jpg</td><td>9780655218876.jpg</td><td>807</td><td>1680626622000</td></tr><tr><td>dbfs:/FileStore/Bookimages/9780655218883.jpg</td><td>9780655218883.jpg</td><td>807</td><td>1680626633000</td></tr><tr><td>dbfs:/FileStore/Bookimages/9780655219309.jpg</td><td>9780655219309.jpg</td><td>807</td><td>1680633867000</td></tr><tr><td>dbfs:/FileStore/Bookimages/9780655219477.jpg</td><td>9780655219477.jpg</td><td>807</td><td>1680627012000</td></tr><tr><td>dbfs:/FileStore/Bookimages/9780655219484.jpg</td><td>9780655219484.jpg</td><td>807</td><td>1680627022000</td></tr><tr><td>dbfs:/FileStore/Bookimages/9780655219538.jpg</td><td>9780655219538.jpg</td><td>807</td><td>1680627033000</td></tr><tr><td>dbfs:/FileStore/Bookimages/9780655219569.jpg</td><td>9780655219569.jpg</td><td>807</td><td>1680627043000</td></tr><tr><td>dbfs:/FileStore/Bookimages/9780655219576.jpg</td><td>9780655219576.jpg</td><td>807</td><td>1680627054000</td></tr><tr><td>dbfs:/FileStore/Bookimages/9780655219583.jpg</td><td>9780655219583.jpg</td><td>807</td><td>1680627064000</td></tr><tr><td>dbfs:/FileStore/Bookimages/9780655219590.jpg</td><td>9780655219590.jpg</td><td>807</td><td>1680638051000</td></tr><tr><td>dbfs:/FileStore/Bookimages/9780655219651.jpg</td><td>9780655219651.jpg</td><td>807</td><td>1680627539000</td></tr><tr><td>dbfs:/FileStore/Bookimages/9780655219668.jpg</td><td>9780655219668.jpg</td><td>807</td><td>1680638156000</td></tr><tr><td>dbfs:/FileStore/Bookimages/9780655219675.jpg</td><td>9780655219675.jpg</td><td>807</td><td>1680633814000</td></tr><tr><td>dbfs:/FileStore/Bookimages/9780655219705.jpg</td><td>9780655219705.jpg</td><td>807</td><td>1680626643000</td></tr><tr><td>dbfs:/FileStore/Bookimages/9780655219712.jpg</td><td>9780655219712.jpg</td><td>807</td><td>1680626654000</td></tr><tr><td>dbfs:/FileStore/Bookimages/9780655219743.jpg</td><td>9780655219743.jpg</td><td>807</td><td>1680626664000</td></tr><tr><td>dbfs:/FileStore/Bookimages/9780655219750.jpg</td><td>9780655219750.jpg</td><td>807</td><td>1680626675000</td></tr><tr><td>dbfs:/FileStore/Bookimages/9780655219767.jpg</td><td>9780655219767.jpg</td><td>807</td><td>1680626685000</td></tr><tr><td>dbfs:/FileStore/Bookimages/9780655219774.jpg</td><td>9780655219774.jpg</td><td>807</td><td>1680626696000</td></tr><tr><td>dbfs:/FileStore/Bookimages/9780655219781.jpg</td><td>9780655219781.jpg</td><td>807</td><td>1680626706000</td></tr><tr><td>dbfs:/FileStore/Bookimages/9780655219798.jpg</td><td>9780655219798.jpg</td><td>807</td><td>1680626717000</td></tr><tr><td>dbfs:/FileStore/Bookimages/9780655219934.jpg</td><td>9780655219934.jpg</td><td>807</td><td>1680633846000</td></tr><tr><td>dbfs:/FileStore/Bookimages/9780655219941.jpg</td><td>9780655219941.jpg</td><td>807</td><td>1680633857000</td></tr><tr><td>dbfs:/FileStore/Bookimages/9780655219996.jpg</td><td>9780655219996.jpg</td><td>807</td><td>1680627075000</td></tr><tr><td>dbfs:/FileStore/Bookimages/9780655220008.jpg</td><td>9780655220008.jpg</td><td>807</td><td>1680627085000</td></tr><tr><td>dbfs:/FileStore/Bookimages/9780655220213.jpg</td><td>9780655220213.jpg</td><td>807</td><td>1680627096000</td></tr><tr><td>dbfs:/FileStore/Bookimages/9780655220220.jpg</td><td>9780655220220.jpg</td><td>807</td><td>1680627107000</td></tr><tr><td>dbfs:/FileStore/Bookimages/9780655220237.jpg</td><td>9780655220237.jpg</td><td>807</td><td>1680633835000</td></tr><tr><td>dbfs:/FileStore/Bookimages/9780655220251.jpg</td><td>9780655220251.jpg</td><td>807</td><td>1680627212000</td></tr><tr><td>dbfs:/FileStore/Bookimages/9780655220268.jpg</td><td>9780655220268.jpg</td><td>807</td><td>1680627223000</td></tr><tr><td>dbfs:/FileStore/Bookimages/9780655220626.jpg</td><td>9780655220626.jpg</td><td>807</td><td>1680627233000</td></tr><tr><td>dbfs:/FileStore/Bookimages/9780655220633.jpg</td><td>9780655220633.jpg</td><td>807</td><td>1680627244000</td></tr><tr><td>dbfs:/FileStore/Bookimages/9780655220664.jpg</td><td>9780655220664.jpg</td><td>807</td><td>1680627254000</td></tr><tr><td>dbfs:/FileStore/Bookimages/9780655220695.jpg</td><td>9780655220695.jpg</td><td>807</td><td>1680633825000</td></tr><tr><td>dbfs:/FileStore/Bookimages/9780655220718.jpg</td><td>9780655220718.jpg</td><td>807</td><td>1680627117000</td></tr><tr><td>dbfs:/FileStore/Bookimages/9780655220732.jpg</td><td>9780655220732.jpg</td><td>807</td><td>1680627128000</td></tr><tr><td>dbfs:/FileStore/Bookimages/9780655220756.jpg</td><td>9780655220756.jpg</td><td>807</td><td>1680627138000</td></tr><tr><td>dbfs:/FileStore/Bookimages/9780655220763.jpg</td><td>9780655220763.jpg</td><td>807</td><td>1680627149000</td></tr><tr><td>dbfs:/FileStore/Bookimages/9780655220770.jpg</td><td>9780655220770.jpg</td><td>807</td><td>1680627159000</td></tr><tr><td>dbfs:/FileStore/Bookimages/9780655220794.jpg</td><td>9780655220794.jpg</td><td>807</td><td>1680627170000</td></tr><tr><td>dbfs:/FileStore/Bookimages/9780655220800.jpg</td><td>9780655220800.jpg</td><td>807</td><td>1680627180000</td></tr><tr><td>dbfs:/FileStore/Bookimages/9780655220817.jpg</td><td>9780655220817.jpg</td><td>807</td><td>1680627191000</td></tr><tr><td>dbfs:/FileStore/Bookimages/9780655220824.jpg</td><td>9780655220824.jpg</td><td>807</td><td>1680627202000</td></tr><tr><td>dbfs:/FileStore/Bookimages/9780655220831.jpg</td><td>9780655220831.jpg</td><td>807</td><td>1680638062000</td></tr><tr><td>dbfs:/FileStore/Bookimages/9780655220848.jpg</td><td>9780655220848.jpg</td><td>807</td><td>1680638072000</td></tr><tr><td>dbfs:/FileStore/Bookimages/9780655220893.jpg</td><td>9780655220893.jpg</td><td>807</td><td>1680638083000</td></tr><tr><td>dbfs:/FileStore/Bookimages/9780655221036.jpg</td><td>9780655221036.jpg</td><td>807</td><td>1680627265000</td></tr><tr><td>dbfs:/FileStore/Bookimages/9780655221074.jpg</td><td>9780655221074.jpg</td><td>807</td><td>1680638093000</td></tr><tr><td>dbfs:/FileStore/Bookimages/9780655221081.jpg</td><td>9780655221081.jpg</td><td>807</td><td>1680638104000</td></tr><tr><td>dbfs:/FileStore/Bookimages/9780655221098.jpg</td><td>9780655221098.jpg</td><td>807</td><td>1680638114000</td></tr><tr><td>dbfs:/FileStore/Bookimages/9780655221104.jpg</td><td>9780655221104.jpg</td><td>807</td><td>1680638125000</td></tr><tr><td>dbfs:/FileStore/Bookimages/9780655221128.jpg</td><td>9780655221128.jpg</td><td>807</td><td>1680638135000</td></tr><tr><td>dbfs:/FileStore/Bookimages/9780655221302.jpg</td><td>9780655221302.jpg</td><td>807</td><td>1680627507000</td></tr><tr><td>dbfs:/FileStore/Bookimages/9780655221319.jpg</td><td>9780655221319.jpg</td><td>807</td><td>1680627517000</td></tr><tr><td>dbfs:/FileStore/Bookimages/9780655221326.jpg</td><td>9780655221326.jpg</td><td>807</td><td>1680627528000</td></tr><tr><td>dbfs:/FileStore/Bookimages/9780655221333.jpg</td><td>9780655221333.jpg</td><td>807</td><td>1680638167000</td></tr><tr><td>dbfs:/FileStore/Bookimages/9780655221340.jpg</td><td>9780655221340.jpg</td><td>807</td><td>1680638177000</td></tr><tr><td>dbfs:/FileStore/Bookimages/9780655221357.jpg</td><td>9780655221357.jpg</td><td>807</td><td>1680638188000</td></tr><tr><td>dbfs:/FileStore/Bookimages/9780655221364.jpg</td><td>9780655221364.jpg</td><td>807</td><td>1680627275000</td></tr><tr><td>dbfs:/FileStore/Bookimages/9780655221647.jpg</td><td>9780655221647.jpg</td><td>807</td><td>1680627286000</td></tr><tr><td>dbfs:/FileStore/Bookimages/9780655221760.jpg</td><td>9780655221760.jpg</td><td>807</td><td>1680627296000</td></tr><tr><td>dbfs:/FileStore/Bookimages/9780655221777.jpg</td><td>9780655221777.jpg</td><td>807</td><td>1680627307000</td></tr><tr><td>dbfs:/FileStore/Bookimages/9780655221784.jpg</td><td>9780655221784.jpg</td><td>807</td><td>1680627318000</td></tr><tr><td>dbfs:/FileStore/Bookimages/9780655221791.jpg</td><td>9780655221791.jpg</td><td>807</td><td>1680627328000</td></tr><tr><td>dbfs:/FileStore/Bookimages/9780655221807.jpg</td><td>9780655221807.jpg</td><td>807</td><td>1680627339000</td></tr><tr><td>dbfs:/FileStore/Bookimages/9780655221814.jpg</td><td>9780655221814.jpg</td><td>807</td><td>1680627349000</td></tr><tr><td>dbfs:/FileStore/Bookimages/9780655221821.jpg</td><td>9780655221821.jpg</td><td>807</td><td>1680638146000</td></tr><tr><td>dbfs:/FileStore/Bookimages/9780655221838.jpg</td><td>9780655221838.jpg</td><td>807</td><td>1680627360000</td></tr><tr><td>dbfs:/FileStore/Bookimages/9780655221845.jpg</td><td>9780655221845.jpg</td><td>807</td><td>1680627370000</td></tr><tr><td>dbfs:/FileStore/Bookimages/9780655221852.jpg</td><td>9780655221852.jpg</td><td>807</td><td>1680627381000</td></tr><tr><td>dbfs:/FileStore/Bookimages/9780655221869.jpg</td><td>9780655221869.jpg</td><td>807</td><td>1680627391000</td></tr><tr><td>dbfs:/FileStore/Bookimages/9780655221876.jpg</td><td>9780655221876.jpg</td><td>807</td><td>1680627402000</td></tr><tr><td>dbfs:/FileStore/Bookimages/9780655221883.jpg</td><td>9780655221883.jpg</td><td>807</td><td>1680627412000</td></tr><tr><td>dbfs:/FileStore/Bookimages/9780655221890.jpg</td><td>9780655221890.jpg</td><td>807</td><td>1680627423000</td></tr><tr><td>dbfs:/FileStore/Bookimages/9780655221906.jpg</td><td>9780655221906.jpg</td><td>807</td><td>1680627433000</td></tr><tr><td>dbfs:/FileStore/Bookimages/9780655221913.jpg</td><td>9780655221913.jpg</td><td>807</td><td>1680627444000</td></tr><tr><td>dbfs:/FileStore/Bookimages/9780655221920.jpg</td><td>9780655221920.jpg</td><td>807</td><td>1680627454000</td></tr><tr><td>dbfs:/FileStore/Bookimages/9780655221937.jpg</td><td>9780655221937.jpg</td><td>807</td><td>1680627465000</td></tr><tr><td>dbfs:/FileStore/Bookimages/9780655221944.jpg</td><td>9780655221944.jpg</td><td>807</td><td>1680627475000</td></tr><tr><td>dbfs:/FileStore/Bookimages/9780655221951.jpg</td><td>9780655221951.jpg</td><td>807</td><td>1680627486000</td></tr><tr><td>dbfs:/FileStore/Bookimages/9780655221968.jpg</td><td>9780655221968.jpg</td><td>807</td><td>1680627496000</td></tr><tr><td>dbfs:/FileStore/Bookimages/9780655221982.jpg</td><td>9780655221982.jpg</td><td>807</td><td>1680638220000</td></tr><tr><td>dbfs:/FileStore/Bookimages/9780655222071.jpg</td><td>9780655222071.jpg</td><td>807</td><td>1680638230000</td></tr><tr><td>dbfs:/FileStore/Bookimages/9780655222118.jpg</td><td>9780655222118.jpg</td><td>807</td><td>1680638241000</td></tr><tr><td>dbfs:/FileStore/Bookimages/9780655222149.jpg</td><td>9780655222149.jpg</td><td>807</td><td>1680627612000</td></tr><tr><td>dbfs:/FileStore/Bookimages/9780655222156.jpg</td><td>9780655222156.jpg</td><td>807</td><td>1680626738000</td></tr><tr><td>dbfs:/FileStore/Bookimages/9780655222163.jpg</td><td>9780655222163.jpg</td><td>807</td><td>1680626749000</td></tr><tr><td>dbfs:/FileStore/Bookimages/9780655222170.jpg</td><td>9780655222170.jpg</td><td>807</td><td>1680626759000</td></tr><tr><td>dbfs:/FileStore/Bookimages/9780655222187.jpg</td><td>9780655222187.jpg</td><td>807</td><td>1680626770000</td></tr><tr><td>dbfs:/FileStore/Bookimages/9780655222194.jpg</td><td>9780655222194.jpg</td><td>807</td><td>1680626780000</td></tr><tr><td>dbfs:/FileStore/Bookimages/9780655222293.jpg</td><td>9780655222293.jpg</td><td>807</td><td>1680633803000</td></tr><tr><td>dbfs:/FileStore/Bookimages/9780655222309.jpg</td><td>9780655222309.jpg</td><td>807</td><td>1680627549000</td></tr><tr><td>dbfs:/FileStore/Bookimages/9780655222316.jpg</td><td>9780655222316.jpg</td><td>807</td><td>1680627560000</td></tr><tr><td>dbfs:/FileStore/Bookimages/9780655222323.jpg</td><td>9780655222323.jpg</td><td>807</td><td>1680627570000</td></tr><tr><td>dbfs:/FileStore/Bookimages/9780655222347.jpg</td><td>9780655222347.jpg</td><td>807</td><td>1680627581000</td></tr><tr><td>dbfs:/FileStore/Bookimages/9780655222378.jpg</td><td>9780655222378.jpg</td><td>807</td><td>1680627591000</td></tr><tr><td>dbfs:/FileStore/Bookimages/9780655222385.jpg</td><td>9780655222385.jpg</td><td>807</td><td>1680627602000</td></tr><tr><td>dbfs:/FileStore/Bookimages/9780655222477.jpg</td><td>9780655222477.jpg</td><td>807</td><td>1680638199000</td></tr><tr><td>dbfs:/FileStore/Bookimages/9780655222484.jpg</td><td>9780655222484.jpg</td><td>807</td><td>1680638209000</td></tr><tr><td>dbfs:/FileStore/Bookimages/9780655222491.jpg</td><td>9780655222491.jpg</td><td>807</td><td>1680626791000</td></tr><tr><td>dbfs:/FileStore/Bookimages/9780655222507.jpg</td><td>9780655222507.jpg</td><td>807</td><td>1680626801000</td></tr><tr><td>dbfs:/FileStore/Bookimages/9780655222514.jpg</td><td>9780655222514.jpg</td><td>807</td><td>1680626812000</td></tr><tr><td>dbfs:/FileStore/Bookimages/9780655222576.jpg</td><td>9780655222576.jpg</td><td>807</td><td>1680626822000</td></tr><tr><td>dbfs:/FileStore/Bookimages/9780655222590.jpg</td><td>9780655222590.jpg</td><td>807</td><td>1680638251000</td></tr><tr><td>dbfs:/FileStore/Bookimages/9780655222606.jpg</td><td>9780655222606.jpg</td><td>807</td><td>1680638262000</td></tr><tr><td>dbfs:/FileStore/Bookimages/9780655222613.jpg</td><td>9780655222613.jpg</td><td>807</td><td>1680626948000</td></tr><tr><td>dbfs:/FileStore/Bookimages/9780655222620.jpg</td><td>9780655222620.jpg</td><td>807</td><td>1680633793000</td></tr><tr><td>dbfs:/FileStore/Bookimages/9780655222637.jpg</td><td>9780655222637.jpg</td><td>807</td><td>1680626906000</td></tr><tr><td>dbfs:/FileStore/Bookimages/9780655222644.jpg</td><td>9780655222644.jpg</td><td>807</td><td>1680626917000</td></tr><tr><td>dbfs:/FileStore/Bookimages/9780655222651.jpg</td><td>9780655222651.jpg</td><td>807</td><td>1680626927000</td></tr><tr><td>dbfs:/FileStore/Bookimages/9780655222668.jpg</td><td>9780655222668.jpg</td><td>807</td><td>1680626938000</td></tr><tr><td>dbfs:/FileStore/Bookimages/9780655222699.jpg</td><td>9780655222699.jpg</td><td>807</td><td>1680638294000</td></tr><tr><td>dbfs:/FileStore/Bookimages/9780655222705.jpg</td><td>9780655222705.jpg</td><td>807</td><td>1680638304000</td></tr><tr><td>dbfs:/FileStore/Bookimages/9780655222804.jpg</td><td>9780655222804.jpg</td><td>807</td><td>1680626833000</td></tr><tr><td>dbfs:/FileStore/Bookimages/9780655222811.jpg</td><td>9780655222811.jpg</td><td>807</td><td>1680626843000</td></tr><tr><td>dbfs:/FileStore/Bookimages/9780655222835.jpg</td><td>9780655222835.jpg</td><td>807</td><td>1680626854000</td></tr><tr><td>dbfs:/FileStore/Bookimages/9780655222842.jpg</td><td>9780655222842.jpg</td><td>807</td><td>1680626864000</td></tr><tr><td>dbfs:/FileStore/Bookimages/9780655222897.jpg</td><td>9780655222897.jpg</td><td>807</td><td>1680626875000</td></tr><tr><td>dbfs:/FileStore/Bookimages/9780655222903.jpg</td><td>9780655222903.jpg</td><td>807</td><td>1680626885000</td></tr><tr><td>dbfs:/FileStore/Bookimages/9780655222958.jpg</td><td>9780655222958.jpg</td><td>807</td><td>1680626896000</td></tr><tr><td>dbfs:/FileStore/Bookimages/9780655223191.jpg</td><td>9780655223191.jpg</td><td>807</td><td>1680638273000</td></tr><tr><td>dbfs:/FileStore/Bookimages/9780655223207.jpg</td><td>9780655223207.jpg</td><td>807</td><td>1680638283000</td></tr><tr><td>dbfs:/FileStore/Bookimages/9780655223351.jpg</td><td>9780655223351.jpg</td><td>807</td><td>1680626959000</td></tr><tr><td>dbfs:/FileStore/Bookimages/9780655223368.jpg</td><td>9780655223368.jpg</td><td>807</td><td>1680626969000</td></tr><tr><td>dbfs:/FileStore/Bookimages/9780655223375.jpg</td><td>9780655223375.jpg</td><td>807</td><td>1680633782000</td></tr><tr><td>dbfs:/FileStore/Bookimages/9780655223382.jpg</td><td>9780655223382.jpg</td><td>807</td><td>1680626980000</td></tr><tr><td>dbfs:/FileStore/Bookimages/9780655223412.jpg</td><td>9780655223412.jpg</td><td>807</td><td>1680626991000</td></tr><tr><td>dbfs:/FileStore/Bookimages/9780655223429.jpg</td><td>9780655223429.jpg</td><td>807</td><td>1680627001000</td></tr><tr><td>dbfs:/FileStore/Bookimages/9780655223450.jpg</td><td>9780655223450.jpg</td><td>807</td><td>1680633719000</td></tr><tr><td>dbfs:/FileStore/Bookimages/9780655223467.jpg</td><td>9780655223467.jpg</td><td>807</td><td>1680633730000</td></tr><tr><td>dbfs:/FileStore/Bookimages/9780655223474.jpg</td><td>9780655223474.jpg</td><td>807</td><td>1680633740000</td></tr><tr><td>dbfs:/FileStore/Bookimages/9780655223498.jpg</td><td>9780655223498.jpg</td><td>807</td><td>1680633751000</td></tr><tr><td>dbfs:/FileStore/Bookimages/9780655223559.jpg</td><td>9780655223559.jpg</td><td>807</td><td>1680633761000</td></tr><tr><td>dbfs:/FileStore/Bookimages/9780655223566.jpg</td><td>9780655223566.jpg</td><td>807</td><td>1680633772000</td></tr><tr><td>dbfs:/FileStore/Bookimages/9780655223573.jpg</td><td>9780655223573.jpg</td><td>807</td><td>1680626728000</td></tr><tr><td>dbfs:/FileStore/Bookimages/9780655223580.jpg</td><td>9780655223580.jpg</td><td>807</td><td>1680633603000</td></tr><tr><td>dbfs:/FileStore/Bookimages/9780655223627.jpg</td><td>9780655223627.jpg</td><td>807</td><td>1680633614000</td></tr><tr><td>dbfs:/FileStore/Bookimages/9780655223665.jpg</td><td>9780655223665.jpg</td><td>807</td><td>1680633625000</td></tr><tr><td>dbfs:/FileStore/Bookimages/9780655223672.jpg</td><td>9780655223672.jpg</td><td>807</td><td>1680633635000</td></tr><tr><td>dbfs:/FileStore/Bookimages/9780655223689.jpg</td><td>9780655223689.jpg</td><td>807</td><td>1680633646000</td></tr><tr><td>dbfs:/FileStore/Bookimages/9780655223696.jpg</td><td>9780655223696.jpg</td><td>807</td><td>1680633656000</td></tr><tr><td>dbfs:/FileStore/Bookimages/9780655223702.jpg</td><td>9780655223702.jpg</td><td>807</td><td>1680633667000</td></tr><tr><td>dbfs:/FileStore/Bookimages/9780655223832.jpg</td><td>9780655223832.jpg</td><td>807</td><td>1680638378000</td></tr><tr><td>dbfs:/FileStore/Bookimages/9780655223887.jpg</td><td>9780655223887.jpg</td><td>807</td><td>1680636310000</td></tr><tr><td>dbfs:/FileStore/Bookimages/9780655223894.jpg</td><td>9780655223894.jpg</td><td>807</td><td>1680633677000</td></tr><tr><td>dbfs:/FileStore/Bookimages/9780655223900.jpg</td><td>9780655223900.jpg</td><td>807</td><td>1680638346000</td></tr><tr><td>dbfs:/FileStore/Bookimages/9780655223917.jpg</td><td>9780655223917.jpg</td><td>807</td><td>1680638357000</td></tr><tr><td>dbfs:/FileStore/Bookimages/9780655223924.jpg</td><td>9780655223924.jpg</td><td>807</td><td>1680638368000</td></tr><tr><td>dbfs:/FileStore/Bookimages/9780655223948.jpg</td><td>9780655223948.jpg</td><td>807</td><td>1680633688000</td></tr><tr><td>dbfs:/FileStore/Bookimages/9780655223955.jpg</td><td>9780655223955.jpg</td><td>807</td><td>1680633698000</td></tr><tr><td>dbfs:/FileStore/Bookimages/9780655224013.jpg</td><td>9780655224013.jpg</td><td>807</td><td>1680638336000</td></tr><tr><td>dbfs:/FileStore/Bookimages/9780655224044.jpg</td><td>9780655224044.jpg</td><td>807</td><td>1680633709000</td></tr><tr><td>dbfs:/FileStore/Bookimages/9780655224075.jpg</td><td>9780655224075.jpg</td><td>807</td><td>1680638315000</td></tr><tr><td>dbfs:/FileStore/Bookimages/9780655224082.jpg</td><td>9780655224082.jpg</td><td>807</td><td>1680638325000</td></tr><tr><td>dbfs:/FileStore/Bookimages/9780655224099.jpg</td><td>9780655224099.jpg</td><td>807</td><td>1680633572000</td></tr><tr><td>dbfs:/FileStore/Bookimages/9780655224174.jpg</td><td>9780655224174.jpg</td><td>807</td><td>1680638452000</td></tr><tr><td>dbfs:/FileStore/Bookimages/9780655224181.jpg</td><td>9780655224181.jpg</td><td>807</td><td>1680638462000</td></tr><tr><td>dbfs:/FileStore/Bookimages/9780655224204.jpg</td><td>9780655224204.jpg</td><td>807</td><td>1680633582000</td></tr><tr><td>dbfs:/FileStore/Bookimages/9780655224235.jpg</td><td>9780655224235.jpg</td><td>807</td><td>1680633593000</td></tr><tr><td>dbfs:/FileStore/Bookimages/9780655224242.jpg</td><td>9780655224242.jpg</td><td>807</td><td>1680638389000</td></tr><tr><td>dbfs:/FileStore/Bookimages/9780655224327.jpg</td><td>9780655224327.jpg</td><td>807</td><td>1680638399000</td></tr><tr><td>dbfs:/FileStore/Bookimages/9780655224334.jpg</td><td>9780655224334.jpg</td><td>807</td><td>1680638410000</td></tr><tr><td>dbfs:/FileStore/Bookimages/9780655224341.jpg</td><td>9780655224341.jpg</td><td>807</td><td>1680638420000</td></tr><tr><td>dbfs:/FileStore/Bookimages/9780655224518.jpg</td><td>9780655224518.jpg</td><td>807</td><td>1680638431000</td></tr><tr><td>dbfs:/FileStore/Bookimages/9780655224525.jpg</td><td>9780655224525.jpg</td><td>807</td><td>1680638441000</td></tr><tr><td>dbfs:/FileStore/Bookimages/9780655224587.jpg</td><td>9780655224587.jpg</td><td>807</td><td>1680636321000</td></tr><tr><td>dbfs:/FileStore/Bookimages/9780655224631.jpg</td><td>9780655224631.jpg</td><td>807</td><td>1680637535000</td></tr><tr><td>dbfs:/FileStore/Bookimages/9780655224655.jpg</td><td>9780655224655.jpg</td><td>807</td><td>1680637545000</td></tr><tr><td>dbfs:/FileStore/Bookimages/9780655224679.jpg</td><td>9780655224679.jpg</td><td>807</td><td>1680637556000</td></tr><tr><td>dbfs:/FileStore/Bookimages/9780655224709.jpg</td><td>9780655224709.jpg</td><td>807</td><td>1680637566000</td></tr><tr><td>dbfs:/FileStore/Bookimages/9780655224716.jpg</td><td>9780655224716.jpg</td><td>807</td><td>1680637577000</td></tr><tr><td>dbfs:/FileStore/Bookimages/9780655224723.jpg</td><td>9780655224723.jpg</td><td>807</td><td>1680637587000</td></tr><tr><td>dbfs:/FileStore/Bookimages/9780655224730.jpg</td><td>9780655224730.jpg</td><td>807</td><td>1680637598000</td></tr><tr><td>dbfs:/FileStore/Bookimages/9780655224945.jpg</td><td>9780655224945.jpg</td><td>807</td><td>1680637608000</td></tr><tr><td>dbfs:/FileStore/Bookimages/9780655224976.jpg</td><td>9780655224976.jpg</td><td>807</td><td>1680637619000</td></tr><tr><td>dbfs:/FileStore/Bookimages/9780655224990.jpg</td><td>9780655224990.jpg</td><td>807</td><td>1680637629000</td></tr><tr><td>dbfs:/FileStore/Bookimages/9780655225003.jpg</td><td>9780655225003.jpg</td><td>807</td><td>1680637640000</td></tr><tr><td>dbfs:/FileStore/Bookimages/9780655225010.jpg</td><td>9780655225010.jpg</td><td>807</td><td>1680637650000</td></tr><tr><td>dbfs:/FileStore/Bookimages/9780655225355.jpg</td><td>9780655225355.jpg</td><td>807</td><td>1680637661000</td></tr><tr><td>dbfs:/FileStore/Bookimages/9780655225362.jpg</td><td>9780655225362.jpg</td><td>807</td><td>1680637671000</td></tr><tr><td>dbfs:/FileStore/Bookimages/9780655225379.jpg</td><td>9780655225379.jpg</td><td>807</td><td>1680637682000</td></tr><tr><td>dbfs:/FileStore/Bookimages/9780655225386.jpg</td><td>9780655225386.jpg</td><td>807</td><td>1680637693000</td></tr><tr><td>dbfs:/FileStore/Bookimages/9780655225393.jpg</td><td>9780655225393.jpg</td><td>807</td><td>1680637703000</td></tr><tr><td>dbfs:/FileStore/Bookimages/9780655225409.jpg</td><td>9780655225409.jpg</td><td>807</td><td>1680637714000</td></tr><tr><td>dbfs:/FileStore/Bookimages/9780655225416.jpg</td><td>9780655225416.jpg</td><td>807</td><td>1680637724000</td></tr><tr><td>dbfs:/FileStore/Bookimages/9780655225423.jpg</td><td>9780655225423.jpg</td><td>807</td><td>1680637735000</td></tr><tr><td>dbfs:/FileStore/Bookimages/9780655225447.jpg</td><td>9780655225447.jpg</td><td>807</td><td>1680637746000</td></tr><tr><td>dbfs:/FileStore/Bookimages/9780655225454.jpg</td><td>9780655225454.jpg</td><td>807</td><td>1680637756000</td></tr><tr><td>dbfs:/FileStore/Bookimages/9780655225591.jpg</td><td>9780655225591.jpg</td><td>807</td><td>1680637767000</td></tr><tr><td>dbfs:/FileStore/Bookimages/9780655225607.jpg</td><td>9780655225607.jpg</td><td>807</td><td>1680637777000</td></tr><tr><td>dbfs:/FileStore/Bookimages/9780655225614.jpg</td><td>9780655225614.jpg</td><td>807</td><td>1680637788000</td></tr><tr><td>dbfs:/FileStore/Bookimages/9780655225621.jpg</td><td>9780655225621.jpg</td><td>807</td><td>1680637798000</td></tr><tr><td>dbfs:/FileStore/Bookimages/9780655225652.jpg</td><td>9780655225652.jpg</td><td>807</td><td>1680637809000</td></tr><tr><td>dbfs:/FileStore/Bookimages/9780655225669.jpg</td><td>9780655225669.jpg</td><td>807</td><td>1680637819000</td></tr><tr><td>dbfs:/FileStore/Bookimages/9780655226420.jpg</td><td>9780655226420.jpg</td><td>807</td><td>1680637830000</td></tr><tr><td>dbfs:/FileStore/Bookimages/9780655226475.jpg</td><td>9780655226475.jpg</td><td>807</td><td>1680637841000</td></tr><tr><td>dbfs:/FileStore/Bookimages/9780655226499.jpg</td><td>9780655226499.jpg</td><td>807</td><td>1680637851000</td></tr><tr><td>dbfs:/FileStore/Bookimages/9780702301599.jpg</td><td>9780702301599.jpg</td><td>807</td><td>1680621395000</td></tr><tr><td>dbfs:/FileStore/Bookimages/9780702301636.jpg</td><td>9780702301636.jpg</td><td>807</td><td>1680622065000</td></tr><tr><td>dbfs:/FileStore/Bookimages/9780702302534.jpg</td><td>9780702302534.jpg</td><td>807</td><td>1680621406000</td></tr><tr><td>dbfs:/FileStore/Bookimages/9780702307355.jpg</td><td>9780702307355.jpg</td><td>807</td><td>1680621416000</td></tr><tr><td>dbfs:/FileStore/Bookimages/9780718186982.jpg</td><td>9780718186982.jpg</td><td>807</td><td>1680628418000</td></tr><tr><td>dbfs:/FileStore/Bookimages/9780718193683.jpg</td><td>9780718193683.jpg</td><td>18539</td><td>1680628429000</td></tr><tr><td>dbfs:/FileStore/Bookimages/9780718193751.jpg</td><td>9780718193751.jpg</td><td>24070</td><td>1680629095000</td></tr><tr><td>dbfs:/FileStore/Bookimages/9780723266204.jpg</td><td>9780723266204.jpg</td><td>14401</td><td>1680632169000</td></tr><tr><td>dbfs:/FileStore/Bookimages/9780723266211.jpg</td><td>9780723266211.jpg</td><td>13136</td><td>1680632179000</td></tr><tr><td>dbfs:/FileStore/Bookimages/9780723266235.jpg</td><td>9780723266235.jpg</td><td>13752</td><td>1680632190000</td></tr><tr><td>dbfs:/FileStore/Bookimages/9780735229952.jpg</td><td>9780735229952.jpg</td><td>22117</td><td>1680623090000</td></tr><tr><td>dbfs:/FileStore/Bookimages/9780736441032.jpg</td><td>9780736441032.jpg</td><td>25659</td><td>1680623101000</td></tr><tr><td>dbfs:/FileStore/Bookimages/9780736441056.jpg</td><td>9780736441056.jpg</td><td>25245</td><td>1680623112000</td></tr><tr><td>dbfs:/FileStore/Bookimages/9780736441797.jpg</td><td>9780736441797.jpg</td><td>807</td><td>1680623123000</td></tr><tr><td>dbfs:/FileStore/Bookimages/9780736441957.jpg</td><td>9780736441957.jpg</td><td>25263</td><td>1680623133000</td></tr><tr><td>dbfs:/FileStore/Bookimages/9780736441971.jpg</td><td>9780736441971.jpg</td><td>23962</td><td>1680623144000</td></tr><tr><td>dbfs:/FileStore/Bookimages/9780736442541.jpg</td><td>9780736442541.jpg</td><td>23431</td><td>1680623155000</td></tr><tr><td>dbfs:/FileStore/Bookimages/9780744020540.jpg</td><td>9780744020540.jpg</td><td>18250</td><td>1680627781000</td></tr><tr><td>dbfs:/FileStore/Bookimages/9780744021059.jpg</td><td>9780744021059.jpg</td><td>807</td><td>1680635829000</td></tr><tr><td>dbfs:/FileStore/Bookimages/9780744021066.jpg</td><td>9780744021066.jpg</td><td>807</td><td>1680635840000</td></tr><tr><td>dbfs:/FileStore/Bookimages/9780744021080.jpg</td><td>9780744021080.jpg</td><td>807</td><td>1680635850000</td></tr><tr><td>dbfs:/FileStore/Bookimages/9780744021363.jpg</td><td>9780744021363.jpg</td><td>807</td><td>1680635861000</td></tr><tr><td>dbfs:/FileStore/Bookimages/9780744027266.jpg</td><td>9780744027266.jpg</td><td>807</td><td>1680623250000</td></tr><tr><td>dbfs:/FileStore/Bookimages/9780744027488.jpg</td><td>9780744027488.jpg</td><td>15461</td><td>1680622579000</td></tr><tr><td>dbfs:/FileStore/Bookimages/9780744028539.jpg</td><td>9780744028539.jpg</td><td>807</td><td>1680623261000</td></tr><tr><td>dbfs:/FileStore/Bookimages/9780744028621.jpg</td><td>9780744028621.jpg</td><td>807</td><td>1680623271000</td></tr><tr><td>dbfs:/FileStore/Bookimages/9780744028904.jpg</td><td>9780744028904.jpg</td><td>807</td><td>1680622589000</td></tr><tr><td>dbfs:/FileStore/Bookimages/9780744028928.jpg</td><td>9780744028928.jpg</td><td>22097</td><td>1680623336000</td></tr><tr><td>dbfs:/FileStore/Bookimages/9780744031133.jpg</td><td>9780744031133.jpg</td><td>807</td><td>1680635871000</td></tr><tr><td>dbfs:/FileStore/Bookimages/9780744031379.jpg</td><td>9780744031379.jpg</td><td>807</td><td>1680635882000</td></tr><tr><td>dbfs:/FileStore/Bookimages/9780744031386.jpg</td><td>9780744031386.jpg</td><td>807</td><td>1680635945000</td></tr><tr><td>dbfs:/FileStore/Bookimages/9780744031393.jpg</td><td>9780744031393.jpg</td><td>807</td><td>1680635956000</td></tr><tr><td>dbfs:/FileStore/Bookimages/9780744031409.jpg</td><td>9780744031409.jpg</td><td>807</td><td>1680635966000</td></tr><tr><td>dbfs:/FileStore/Bookimages/9780744031430.jpg</td><td>9780744031430.jpg</td><td>807</td><td>1680635977000</td></tr><tr><td>dbfs:/FileStore/Bookimages/9780744031447.jpg</td><td>9780744031447.jpg</td><td>807</td><td>1680635987000</td></tr><tr><td>dbfs:/FileStore/Bookimages/9780744031539.jpg</td><td>9780744031539.jpg</td><td>807</td><td>1680635998000</td></tr><tr><td>dbfs:/FileStore/Bookimages/9780744032956.jpg</td><td>9780744032956.jpg</td><td>807</td><td>1680636009000</td></tr><tr><td>dbfs:/FileStore/Bookimages/9780744032963.jpg</td><td>9780744032963.jpg</td><td>807</td><td>1680636019000</td></tr><tr><td>dbfs:/FileStore/Bookimages/9780744035001.jpg</td><td>9780744035001.jpg</td><td>807</td><td>1680622600000</td></tr><tr><td>dbfs:/FileStore/Bookimages/9780744035018.jpg</td><td>9780744035018.jpg</td><td>807</td><td>1680622610000</td></tr><tr><td>dbfs:/FileStore/Bookimages/9780744035476.jpg</td><td>9780744035476.jpg</td><td>16586</td><td>1680623325000</td></tr><tr><td>dbfs:/FileStore/Bookimages/9780744038057.jpg</td><td>9780744038057.jpg</td><td>807</td><td>1680635903000</td></tr><tr><td>dbfs:/FileStore/Bookimages/9780744038064.jpg</td><td>9780744038064.jpg</td><td>807</td><td>1680635914000</td></tr><tr><td>dbfs:/FileStore/Bookimages/9780744038071.jpg</td><td>9780744038071.jpg</td><td>807</td><td>1680635924000</td></tr><tr><td>dbfs:/FileStore/Bookimages/9780744038088.jpg</td><td>9780744038088.jpg</td><td>807</td><td>1680635935000</td></tr><tr><td>dbfs:/FileStore/Bookimages/9780744043242.jpg</td><td>9780744043242.jpg</td><td>27362</td><td>1680623282000</td></tr><tr><td>dbfs:/FileStore/Bookimages/9780744045611.jpg</td><td>9780744045611.jpg</td><td>807</td><td>1680623314000</td></tr><tr><td>dbfs:/FileStore/Bookimages/9780744048490.jpg</td><td>9780744048490.jpg</td><td>807</td><td>1680622621000</td></tr><tr><td>dbfs:/FileStore/Bookimages/9780750291316.jpg</td><td>9780750291316.jpg</td><td>14769</td><td>1680635892000</td></tr><tr><td>dbfs:/FileStore/Bookimages/9780755501335.jpg</td><td>9780755501335.jpg</td><td>807</td><td>1680622033000</td></tr><tr><td>dbfs:/FileStore/Bookimages/9780755501359.jpg</td><td>9780755501359.jpg</td><td>807</td><td>1680622044000</td></tr><tr><td>dbfs:/FileStore/Bookimages/9780755501373.jpg</td><td>9780755501373.jpg</td><td>807</td><td>1680622054000</td></tr><tr><td>dbfs:/FileStore/Bookimages/9780755501908.jpg</td><td>9780755501908.jpg</td><td>807</td><td>1680621427000</td></tr><tr><td>dbfs:/FileStore/Bookimages/9780755501915.jpg</td><td>9780755501915.jpg</td><td>807</td><td>1680621437000</td></tr><tr><td>dbfs:/FileStore/Bookimages/9780755503568.jpg</td><td>9780755503568.jpg</td><td>807</td><td>1680622012000</td></tr><tr><td>dbfs:/FileStore/Bookimages/9780755503575.jpg</td><td>9780755503575.jpg</td><td>807</td><td>1680622023000</td></tr><tr><td>dbfs:/FileStore/Bookimages/9780756690861.jpg</td><td>9780756690861.jpg</td><td>807</td><td>1680636030000</td></tr><tr><td>dbfs:/FileStore/Bookimages/9780756696856.jpg</td><td>9780756696856.jpg</td><td>807</td><td>1680635060000</td></tr><tr><td>dbfs:/FileStore/Bookimages/9780785164722.jpg</td><td>9780785164722.jpg</td><td>17193</td><td>1680635071000</td></tr><tr><td>dbfs:/FileStore/Bookimages/9780785165187.jpg</td><td>9780785165187.jpg</td><td>14456</td><td>1680635082000</td></tr><tr><td>dbfs:/FileStore/Bookimages/9780785167976.jpg</td><td>9780785167976.jpg</td><td>22710</td><td>1680635093000</td></tr><tr><td>dbfs:/FileStore/Bookimages/9780785184287.jpg</td><td>9780785184287.jpg</td><td>807</td><td>1680635103000</td></tr><tr><td>dbfs:/FileStore/Bookimages/9780785189428.jpg</td><td>9780785189428.jpg</td><td>27941</td><td>1680635114000</td></tr><tr><td>dbfs:/FileStore/Bookimages/9780785198857.jpg</td><td>9780785198857.jpg</td><td>807</td><td>1680635526000</td></tr><tr><td>dbfs:/FileStore/Bookimages/9780785199441.jpg</td><td>9780785199441.jpg</td><td>807</td><td>1680635537000</td></tr><tr><td>dbfs:/FileStore/Bookimages/9780857536150.jpg</td><td>9780857536150.jpg</td><td>807</td><td>1680631915000</td></tr><tr><td>dbfs:/FileStore/Bookimages/9781035003778.jpg</td><td>9781035003778.jpg</td><td>807</td><td>1680621704000</td></tr><tr><td>dbfs:/FileStore/Bookimages/9781035005215.jpg</td><td>9781035005215.jpg</td><td>807</td><td>1680623421000</td></tr><tr><td>dbfs:/FileStore/Bookimages/9781250220066.jpg</td><td>9781250220066.jpg</td><td>18505</td><td>1680622856000</td></tr><tr><td>dbfs:/FileStore/Bookimages/9781250269485.jpg</td><td>9781250269485.jpg</td><td>28506</td><td>1680623442000</td></tr><tr><td>dbfs:/FileStore/Bookimages/9781250750433.jpg</td><td>9781250750433.jpg</td><td>21637</td><td>1680622867000</td></tr><tr><td>dbfs:/FileStore/Bookimages/9781250801913.jpg</td><td>9781250801913.jpg</td><td>807</td><td>1680622878000</td></tr><tr><td>dbfs:/FileStore/Bookimages/9781250801937.jpg</td><td>9781250801937.jpg</td><td>31268</td><td>1680622889000</td></tr><tr><td>dbfs:/FileStore/Bookimages/9781250818317.jpg</td><td>9781250818317.jpg</td><td>807</td><td>1680623431000</td></tr><tr><td>dbfs:/FileStore/Bookimages/9781250825810.jpg</td><td>9781250825810.jpg</td><td>807</td><td>1680622899000</td></tr><tr><td>dbfs:/FileStore/Bookimages/9781250836724.jpg</td><td>9781250836724.jpg</td><td>807</td><td>1680622910000</td></tr><tr><td>dbfs:/FileStore/Bookimages/9781250862129.jpg</td><td>9781250862129.jpg</td><td>807</td><td>1680622920000</td></tr><tr><td>dbfs:/FileStore/Bookimages/9781302902315.jpg</td><td>9781302902315.jpg</td><td>33666</td><td>1680636041000</td></tr><tr><td>dbfs:/FileStore/Bookimages/9781302906726.jpg</td><td>9781302906726.jpg</td><td>23593</td><td>1680636279000</td></tr><tr><td>dbfs:/FileStore/Bookimages/9781302906733.jpg</td><td>9781302906733.jpg</td><td>807</td><td>1680636051000</td></tr><tr><td>dbfs:/FileStore/Bookimages/9781302907105.jpg</td><td>9781302907105.jpg</td><td>807</td><td>1680636062000</td></tr><tr><td>dbfs:/FileStore/Bookimages/9781302907594.jpg</td><td>9781302907594.jpg</td><td>807</td><td>1680636072000</td></tr><tr><td>dbfs:/FileStore/Bookimages/9781302908911.jpg</td><td>9781302908911.jpg</td><td>22614</td><td>1680636083000</td></tr><tr><td>dbfs:/FileStore/Bookimages/9781302912222.jpg</td><td>9781302912222.jpg</td><td>807</td><td>1680636093000</td></tr><tr><td>dbfs:/FileStore/Bookimages/9781302912765.jpg</td><td>9781302912765.jpg</td><td>26685</td><td>1680636104000</td></tr><tr><td>dbfs:/FileStore/Bookimages/9781302912833.jpg</td><td>9781302912833.jpg</td><td>22454</td><td>1680636115000</td></tr><tr><td>dbfs:/FileStore/Bookimages/9781302914127.jpg</td><td>9781302914127.jpg</td><td>27739</td><td>1680636126000</td></tr><tr><td>dbfs:/FileStore/Bookimages/9781302914189.jpg</td><td>9781302914189.jpg</td><td>24102</td><td>1680636138000</td></tr><tr><td>dbfs:/FileStore/Bookimages/9781302914332.jpg</td><td>9781302914332.jpg</td><td>32901</td><td>1680636150000</td></tr><tr><td>dbfs:/FileStore/Bookimages/9781302916381.jpg</td><td>9781302916381.jpg</td><td>32548</td><td>1680636162000</td></tr><tr><td>dbfs:/FileStore/Bookimages/9781302917791.jpg</td><td>9781302917791.jpg</td><td>807</td><td>1680636172000</td></tr><tr><td>dbfs:/FileStore/Bookimages/9781302917852.jpg</td><td>9781302917852.jpg</td><td>807</td><td>1680636183000</td></tr><tr><td>dbfs:/FileStore/Bookimages/9781302919849.jpg</td><td>9781302919849.jpg</td><td>807</td><td>1680636194000</td></tr><tr><td>dbfs:/FileStore/Bookimages/9781302920449.jpg</td><td>9781302920449.jpg</td><td>21066</td><td>1680636205000</td></tr><tr><td>dbfs:/FileStore/Bookimages/9781302925222.jpg</td><td>9781302925222.jpg</td><td>807</td><td>1680636215000</td></tr><tr><td>dbfs:/FileStore/Bookimages/9781338194548.jpg</td><td>9781338194548.jpg</td><td>23742</td><td>1680629728000</td></tr><tr><td>dbfs:/FileStore/Bookimages/9781338214550.jpg</td><td>9781338214550.jpg</td><td>807</td><td>1680620563000</td></tr><tr><td>dbfs:/FileStore/Bookimages/9781338214574.jpg</td><td>9781338214574.jpg</td><td>12298</td><td>1680623834000</td></tr><tr><td>dbfs:/FileStore/Bookimages/9781338214611.jpg</td><td>9781338214611.jpg</td><td>23460</td><td>1680624218000</td></tr><tr><td>dbfs:/FileStore/Bookimages/9781338304602.jpg</td><td>9781338304602.jpg</td><td>20313</td><td>1680620468000</td></tr><tr><td>dbfs:/FileStore/Bookimages/9781338347258.jpg</td><td>9781338347258.jpg</td><td>32814</td><td>1680620478000</td></tr><tr><td>dbfs:/FileStore/Bookimages/9781338538373.jpg</td><td>9781338538373.jpg</td><td>21250</td><td>1680620489000</td></tr><tr><td>dbfs:/FileStore/Bookimages/9781338569025.jpg</td><td>9781338569025.jpg</td><td>26065</td><td>1680620500000</td></tr><tr><td>dbfs:/FileStore/Bookimages/9781338616040.jpg</td><td>9781338616040.jpg</td><td>21194</td><td>1680620510000</td></tr><tr><td>dbfs:/FileStore/Bookimages/9781338643824.jpg</td><td>9781338643824.jpg</td><td>807</td><td>1680623940000</td></tr><tr><td>dbfs:/FileStore/Bookimages/9781338643930.jpg</td><td>9781338643930.jpg</td><td>807</td><td>1680623951000</td></tr><tr><td>dbfs:/FileStore/Bookimages/9781338655131.jpg</td><td>9781338655131.jpg</td><td>29532</td><td>1680623962000</td></tr><tr><td>dbfs:/FileStore/Bookimages/9781338680669.jpg</td><td>9781338680669.jpg</td><td>28792</td><td>1680620521000</td></tr><tr><td>dbfs:/FileStore/Bookimages/9781338680676.jpg</td><td>9781338680676.jpg</td><td>5773</td><td>1680620532000</td></tr><tr><td>dbfs:/FileStore/Bookimages/9781338680683.jpg</td><td>9781338680683.jpg</td><td>6019</td><td>1680620542000</td></tr><tr><td>dbfs:/FileStore/Bookimages/9781338687071.jpg</td><td>9781338687071.jpg</td><td>28133</td><td>1680623930000</td></tr><tr><td>dbfs:/FileStore/Bookimages/9781338687224.jpg</td><td>9781338687224.jpg</td><td>26340</td><td>1680620553000</td></tr><tr><td>dbfs:/FileStore/Bookimages/9781338702217.jpg</td><td>9781338702217.jpg</td><td>807</td><td>1680623898000</td></tr><tr><td>dbfs:/FileStore/Bookimages/9781338702279.jpg</td><td>9781338702279.jpg</td><td>807</td><td>1680623908000</td></tr><tr><td>dbfs:/FileStore/Bookimages/9781338713473.jpg</td><td>9781338713473.jpg</td><td>25457</td><td>1680623919000</td></tr><tr><td>dbfs:/FileStore/Bookimages/9781338726787.jpg</td><td>9781338726787.jpg</td><td>23025</td><td>1680620574000</td></tr><tr><td>dbfs:/FileStore/Bookimages/9781338729382.jpg</td><td>9781338729382.jpg</td><td>30833</td><td>1680620585000</td></tr><tr><td>dbfs:/FileStore/Bookimages/9781338729399.jpg</td><td>9781338729399.jpg</td><td>18974</td><td>1680629750000</td></tr><tr><td>dbfs:/FileStore/Bookimages/9781338745214.jpg</td><td>9781338745214.jpg</td><td>807</td><td>1680623845000</td></tr><tr><td>dbfs:/FileStore/Bookimages/9781338745245.jpg</td><td>9781338745245.jpg</td><td>807</td><td>1680623855000</td></tr><tr><td>dbfs:/FileStore/Bookimages/9781338745252.jpg</td><td>9781338745252.jpg</td><td>807</td><td>1680623866000</td></tr><tr><td>dbfs:/FileStore/Bookimages/9781338745269.jpg</td><td>9781338745269.jpg</td><td>807</td><td>1680623876000</td></tr><tr><td>dbfs:/FileStore/Bookimages/9781338745405.jpg</td><td>9781338745405.jpg</td><td>22641</td><td>1680623887000</td></tr><tr><td>dbfs:/FileStore/Bookimages/9781338745627.jpg</td><td>9781338745627.jpg</td><td>24867</td><td>1680620595000</td></tr><tr><td>dbfs:/FileStore/Bookimages/9781338745696.jpg</td><td>9781338745696.jpg</td><td>23954</td><td>1680620765000</td></tr><tr><td>dbfs:/FileStore/Bookimages/9781338745702.jpg</td><td>9781338745702.jpg</td><td>807</td><td>1680620776000</td></tr><tr><td>dbfs:/FileStore/Bookimages/9781338746754.jpg</td><td>9781338746754.jpg</td><td>807</td><td>1680623824000</td></tr><tr><td>dbfs:/FileStore/Bookimages/9781338752335.jpg</td><td>9781338752335.jpg</td><td>20094</td><td>1680620606000</td></tr><tr><td>dbfs:/FileStore/Bookimages/9781338755534.jpg</td><td>9781338755534.jpg</td><td>27554</td><td>1680624175000</td></tr><tr><td>dbfs:/FileStore/Bookimages/9781338755558.jpg</td><td>9781338755558.jpg</td><td>26430</td><td>1680624186000</td></tr><tr><td>dbfs:/FileStore/Bookimages/9781338755572.jpg</td><td>9781338755572.jpg</td><td>28579</td><td>1680624197000</td></tr><tr><td>dbfs:/FileStore/Bookimages/9781338756876.jpg</td><td>9781338756876.jpg</td><td>29276</td><td>1680620627000</td></tr><tr><td>dbfs:/FileStore/Bookimages/9781338756920.jpg</td><td>9781338756920.jpg</td><td>28592</td><td>1680620638000</td></tr><tr><td>dbfs:/FileStore/Bookimages/9781338762518.jpg</td><td>9781338762518.jpg</td><td>22596</td><td>1680620649000</td></tr><tr><td>dbfs:/FileStore/Bookimages/9781338762822.jpg</td><td>9781338762822.jpg</td><td>807</td><td>1680624132000</td></tr><tr><td>dbfs:/FileStore/Bookimages/9781338762891.jpg</td><td>9781338762891.jpg</td><td>807</td><td>1680624143000</td></tr><tr><td>dbfs:/FileStore/Bookimages/9781338762952.jpg</td><td>9781338762952.jpg</td><td>807</td><td>1680624153000</td></tr><tr><td>dbfs:/FileStore/Bookimages/9781338763034.jpg</td><td>9781338763034.jpg</td><td>807</td><td>1680624164000</td></tr><tr><td>dbfs:/FileStore/Bookimages/9781338770230.jpg</td><td>9781338770230.jpg</td><td>807</td><td>1680620617000</td></tr><tr><td>dbfs:/FileStore/Bookimages/9781338775402.jpg</td><td>9781338775402.jpg</td><td>807</td><td>1680624004000</td></tr><tr><td>dbfs:/FileStore/Bookimages/9781338775419.jpg</td><td>9781338775419.jpg</td><td>807</td><td>1680624015000</td></tr><tr><td>dbfs:/FileStore/Bookimages/9781338775426.jpg</td><td>9781338775426.jpg</td><td>807</td><td>1680624025000</td></tr><tr><td>dbfs:/FileStore/Bookimages/9781338775457.jpg</td><td>9781338775457.jpg</td><td>807</td><td>1680624036000</td></tr><tr><td>dbfs:/FileStore/Bookimages/9781338776492.jpg</td><td>9781338776492.jpg</td><td>26486</td><td>1680624090000</td></tr><tr><td>dbfs:/FileStore/Bookimages/9781338776591.jpg</td><td>9781338776591.jpg</td><td>807</td><td>1680624100000</td></tr><tr><td>dbfs:/FileStore/Bookimages/9781338776614.jpg</td><td>9781338776614.jpg</td><td>807</td><td>1680624111000</td></tr><tr><td>dbfs:/FileStore/Bookimages/9781338776638.jpg</td><td>9781338776638.jpg</td><td>28367</td><td>1680624122000</td></tr><tr><td>dbfs:/FileStore/Bookimages/9781338776874.jpg</td><td>9781338776874.jpg</td><td>31834</td><td>1680624047000</td></tr><tr><td>dbfs:/FileStore/Bookimages/9781338792164.jpg</td><td>9781338792164.jpg</td><td>807</td><td>1680624057000</td></tr><tr><td>dbfs:/FileStore/Bookimages/9781338796872.jpg</td><td>9781338796872.jpg</td><td>807</td><td>1680620659000</td></tr><tr><td>dbfs:/FileStore/Bookimages/9781338800005.jpg</td><td>9781338800005.jpg</td><td>807</td><td>1680623973000</td></tr><tr><td>dbfs:/FileStore/Bookimages/9781338801002.jpg</td><td>9781338801002.jpg</td><td>807</td><td>1680623983000</td></tr><tr><td>dbfs:/FileStore/Bookimages/9781338801880.jpg</td><td>9781338801880.jpg</td><td>807</td><td>1680623994000</td></tr><tr><td>dbfs:/FileStore/Bookimages/9781338801897.jpg</td><td>9781338801897.jpg</td><td>21316</td><td>1680620744000</td></tr><tr><td>dbfs:/FileStore/Bookimages/9781338801903.jpg</td><td>9781338801903.jpg</td><td>19497</td><td>1680620755000</td></tr><tr><td>dbfs:/FileStore/Bookimages/9781338801910.jpg</td><td>9781338801910.jpg</td><td>28840</td><td>1680636300000</td></tr><tr><td>dbfs:/FileStore/Bookimages/9781338802221.jpg</td><td>9781338802221.jpg</td><td>18330</td><td>1680629739000</td></tr><tr><td>dbfs:/FileStore/Bookimages/9781338802245.jpg</td><td>9781338802245.jpg</td><td>28057</td><td>1680620457000</td></tr><tr><td>dbfs:/FileStore/Bookimages/9781338802269.jpg</td><td>9781338802269.jpg</td><td>17824</td><td>1680629717000</td></tr><tr><td>dbfs:/FileStore/Bookimages/9781338818406.jpg</td><td>9781338818406.jpg</td><td>807</td><td>1680624068000</td></tr><tr><td>dbfs:/FileStore/Bookimages/9781338819939.jpg</td><td>9781338819939.jpg</td><td>23859</td><td>1680620446000</td></tr><tr><td>dbfs:/FileStore/Bookimages/9781338828153.jpg</td><td>9781338828153.jpg</td><td>807</td><td>1680629707000</td></tr><tr><td>dbfs:/FileStore/Bookimages/9781338846621.jpg</td><td>9781338846621.jpg</td><td>29084</td><td>1680624282000</td></tr><tr><td>dbfs:/FileStore/Bookimages/9781368011907.jpg</td><td>9781368011907.jpg</td><td>19749</td><td>1680620723000</td></tr><tr><td>dbfs:/FileStore/Bookimages/9781368023580.jpg</td><td>9781368023580.jpg</td><td>1770</td><td>1680629612000</td></tr><tr><td>dbfs:/FileStore/Bookimages/9781401241032.jpg</td><td>9781401241032.jpg</td><td>26637</td><td>1680635125000</td></tr><tr><td>dbfs:/FileStore/Bookimages/9781401243210.jpg</td><td>9781401243210.jpg</td><td>807</td><td>1680635135000</td></tr><tr><td>dbfs:/FileStore/Bookimages/9781401271121.jpg</td><td>9781401271121.jpg</td><td>807</td><td>1680635146000</td></tr><tr><td>dbfs:/FileStore/Bookimages/9781401283346.jpg</td><td>9781401283346.jpg</td><td>31474</td><td>1680635157000</td></tr><tr><td>dbfs:/FileStore/Bookimages/9781401284596.jpg</td><td>9781401284596.jpg</td><td>35513</td><td>1680635167000</td></tr><tr><td>dbfs:/FileStore/Bookimages/9781401284992.jpg</td><td>9781401284992.jpg</td><td>34039</td><td>1680635178000</td></tr><tr><td>dbfs:/FileStore/Bookimages/9781401288785.jpg</td><td>9781401288785.jpg</td><td>28952</td><td>1680635191000</td></tr><tr><td>dbfs:/FileStore/Bookimages/9781401291389.jpg</td><td>9781401291389.jpg</td><td>30512</td><td>1680635203000</td></tr><tr><td>dbfs:/FileStore/Bookimages/9781405288828.jpg</td><td>9781405288828.jpg</td><td>807</td><td>1680630923000</td></tr><tr><td>dbfs:/FileStore/Bookimages/9781405295949.jpg</td><td>9781405295949.jpg</td><td>30683</td><td>1680621651000</td></tr><tr><td>dbfs:/FileStore/Bookimages/9781405297165.jpg</td><td>9781405297165.jpg</td><td>28734</td><td>1680621662000</td></tr><tr><td>dbfs:/FileStore/Bookimages/9781405297189.jpg</td><td>9781405297189.jpg</td><td>807</td><td>1680621672000</td></tr><tr><td>dbfs:/FileStore/Bookimages/9781405297202.jpg</td><td>9781405297202.jpg</td><td>807</td><td>1680621683000</td></tr><tr><td>dbfs:/FileStore/Bookimages/9781405918848.jpg</td><td>9781405918848.jpg</td><td>18899</td><td>1680629050000</td></tr><tr><td>dbfs:/FileStore/Bookimages/9781405918862.jpg</td><td>9781405918862.jpg</td><td>19232</td><td>1680629061000</td></tr><tr><td>dbfs:/FileStore/Bookimages/9781405939737.jpg</td><td>9781405939737.jpg</td><td>807</td><td>1680629029000</td></tr><tr><td>dbfs:/FileStore/Bookimages/9781406242393.jpg</td><td>9781406242393.jpg</td><td>12045</td><td>1680623410000</td></tr><tr><td>dbfs:/FileStore/Bookimages/9781406341881.jpg</td><td>9781406341881.jpg</td><td>21847</td><td>1680631084000</td></tr><tr><td>dbfs:/FileStore/Bookimages/9781406341898.jpg</td><td>9781406341898.jpg</td><td>24718</td><td>1680631094000</td></tr><tr><td>dbfs:/FileStore/Bookimages/9781406364835.jpg</td><td>9781406364835.jpg</td><td>807</td><td>1680629760000</td></tr><tr><td>dbfs:/FileStore/Bookimages/9781406364842.jpg</td><td>9781406364842.jpg</td><td>22690</td><td>1680629771000</td></tr><tr><td>dbfs:/FileStore/Bookimages/9781406364859.jpg</td><td>9781406364859.jpg</td><td>21914</td><td>1680629782000</td></tr><tr><td>dbfs:/FileStore/Bookimages/9781406364866.jpg</td><td>9781406364866.jpg</td><td>23672</td><td>1680629792000</td></tr><tr><td>dbfs:/FileStore/Bookimages/9781406364873.jpg</td><td>9781406364873.jpg</td><td>19917</td><td>1680629803000</td></tr><tr><td>dbfs:/FileStore/Bookimages/9781406364880.jpg</td><td>9781406364880.jpg</td><td>16507</td><td>1680629814000</td></tr><tr><td>dbfs:/FileStore/Bookimages/9781406364897.jpg</td><td>9781406364897.jpg</td><td>22781</td><td>1680629826000</td></tr><tr><td>dbfs:/FileStore/Bookimages/9781406364903.jpg</td><td>9781406364903.jpg</td><td>21826</td><td>1680629837000</td></tr><tr><td>dbfs:/FileStore/Bookimages/9781406364910.jpg</td><td>9781406364910.jpg</td><td>807</td><td>1680629848000</td></tr><tr><td>dbfs:/FileStore/Bookimages/9781406364927.jpg</td><td>9781406364927.jpg</td><td>807</td><td>1680629858000</td></tr><tr><td>dbfs:/FileStore/Bookimages/9781406364934.jpg</td><td>9781406364934.jpg</td><td>19604</td><td>1680629869000</td></tr><tr><td>dbfs:/FileStore/Bookimages/9781406366327.jpg</td><td>9781406366327.jpg</td><td>807</td><td>1680629879000</td></tr><tr><td>dbfs:/FileStore/Bookimages/9781406366334.jpg</td><td>9781406366334.jpg</td><td>23586</td><td>1680629890000</td></tr><tr><td>dbfs:/FileStore/Bookimages/9781406366341.jpg</td><td>9781406366341.jpg</td><td>22666</td><td>1680629901000</td></tr><tr><td>dbfs:/FileStore/Bookimages/9781406366358.jpg</td><td>9781406366358.jpg</td><td>807</td><td>1680629911000</td></tr><tr><td>dbfs:/FileStore/Bookimages/9781406375954.jpg</td><td>9781406375954.jpg</td><td>807</td><td>1680629922000</td></tr><tr><td>dbfs:/FileStore/Bookimages/9781406376296.jpg</td><td>9781406376296.jpg</td><td>807</td><td>1680629071000</td></tr><tr><td>dbfs:/FileStore/Bookimages/9781406380750.jpg</td><td>9781406380750.jpg</td><td>807</td><td>1680634015000</td></tr><tr><td>dbfs:/FileStore/Bookimages/9781406387759.jpg</td><td>9781406387759.jpg</td><td>807</td><td>1680630806000</td></tr><tr><td>dbfs:/FileStore/Bookimages/9781406391718.jpg</td><td>9781406391718.jpg</td><td>807</td><td>1680630816000</td></tr><tr><td>dbfs:/FileStore/Bookimages/9781407144979.jpg</td><td>9781407144979.jpg</td><td>15882</td><td>1680630827000</td></tr><tr><td>dbfs:/FileStore/Bookimages/9781407144986.jpg</td><td>9781407144986.jpg</td><td>16250</td><td>1680630838000</td></tr><tr><td>dbfs:/FileStore/Bookimages/9781407144993.jpg</td><td>9781407144993.jpg</td><td>807</td><td>1680630848000</td></tr><tr><td>dbfs:/FileStore/Bookimages/9781407163086.jpg</td><td>9781407163086.jpg</td><td>807</td><td>1680630859000</td></tr><tr><td>dbfs:/FileStore/Bookimages/9781407164069.jpg</td><td>9781407164069.jpg</td><td>807</td><td>1680621916000</td></tr><tr><td>dbfs:/FileStore/Bookimages/9781407165837.jpg</td><td>9781407165837.jpg</td><td>807</td><td>1680630869000</td></tr><tr><td>dbfs:/FileStore/Bookimages/9781407165844.jpg</td><td>9781407165844.jpg</td><td>807</td><td>1680630880000</td></tr><tr><td>dbfs:/FileStore/Bookimages/9781407165851.jpg</td><td>9781407165851.jpg</td><td>807</td><td>1680630890000</td></tr><tr><td>dbfs:/FileStore/Bookimages/9781407165868.jpg</td><td>9781407165868.jpg</td><td>22650</td><td>1680630902000</td></tr><tr><td>dbfs:/FileStore/Bookimages/9781407189185.jpg</td><td>9781407189185.jpg</td><td>807</td><td>1680629039000</td></tr><tr><td>dbfs:/FileStore/Bookimages/9781407191102.jpg</td><td>9781407191102.jpg</td><td>807</td><td>1680621617000</td></tr><tr><td>dbfs:/FileStore/Bookimages/9781407191119.jpg</td><td>9781407191119.jpg</td><td>807</td><td>1680621628000</td></tr><tr><td>dbfs:/FileStore/Bookimages/9781407198507.jpg</td><td>9781407198507.jpg</td><td>27516</td><td>1680621694000</td></tr><tr><td>dbfs:/FileStore/Bookimages/9781407227870.jpg</td><td>9781407227870.jpg</td><td>22497</td><td>1680630933000</td></tr><tr><td>dbfs:/FileStore/Bookimages/9781407227894.jpg</td><td>9781407227894.jpg</td><td>27026</td><td>1680630944000</td></tr><tr><td>dbfs:/FileStore/Bookimages/9781408347317.jpg</td><td>9781408347317.jpg</td><td>20731</td><td>1680630955000</td></tr><tr><td>dbfs:/FileStore/Bookimages/9781408348840.jpg</td><td>9781408348840.jpg</td><td>807</td><td>1680630976000</td></tr><tr><td>dbfs:/FileStore/Bookimages/9781408349410.jpg</td><td>9781408349410.jpg</td><td>807</td><td>1680630986000</td></tr><tr><td>dbfs:/FileStore/Bookimages/9781408349496.jpg</td><td>9781408349496.jpg</td><td>807</td><td>1680630997000</td></tr><tr><td>dbfs:/FileStore/Bookimages/9781408349502.jpg</td><td>9781408349502.jpg</td><td>807</td><td>1680631008000</td></tr><tr><td>dbfs:/FileStore/Bookimages/9781408349861.jpg</td><td>9781408349861.jpg</td><td>807</td><td>1680631018000</td></tr><tr><td>dbfs:/FileStore/Bookimages/9781408350058.jpg</td><td>9781408350058.jpg</td><td>807</td><td>1680631029000</td></tr><tr><td>dbfs:/FileStore/Bookimages/9781408350065.jpg</td><td>9781408350065.jpg</td><td>807</td><td>1680631039000</td></tr><tr><td>dbfs:/FileStore/Bookimages/9781408355084.jpg</td><td>9781408355084.jpg</td><td>26843</td><td>1680631052000</td></tr><tr><td>dbfs:/FileStore/Bookimages/9781408356319.jpg</td><td>9781408356319.jpg</td><td>807</td><td>1680631062000</td></tr><tr><td>dbfs:/FileStore/Bookimages/9781408356647.jpg</td><td>9781408356647.jpg</td><td>21985</td><td>1680631073000</td></tr><tr><td>dbfs:/FileStore/Bookimages/9781408363966.jpg</td><td>9781408363966.jpg</td><td>807</td><td>1680627676000</td></tr><tr><td>dbfs:/FileStore/Bookimages/9781408364703.jpg</td><td>9781408364703.jpg</td><td>807</td><td>1680629654000</td></tr><tr><td>dbfs:/FileStore/Bookimages/9781408890219.jpg</td><td>9781408890219.jpg</td><td>18663</td><td>1680621640000</td></tr><tr><td>dbfs:/FileStore/Bookimages/9781409327516.jpg</td><td>9781409327516.jpg</td><td>807</td><td>1680632211000</td></tr><tr><td>dbfs:/FileStore/Bookimages/9781426317224.jpg</td><td>9781426317224.jpg</td><td>807</td><td>1680635214000</td></tr><tr><td>dbfs:/FileStore/Bookimages/9781426317774.jpg</td><td>9781426317774.jpg</td><td>807</td><td>1680635224000</td></tr><tr><td>dbfs:/FileStore/Bookimages/9781426325564.jpg</td><td>9781426325564.jpg</td><td>26076</td><td>1680635235000</td></tr><tr><td>dbfs:/FileStore/Bookimages/9781426327391.jpg</td><td>9781426327391.jpg</td><td>807</td><td>1680635246000</td></tr><tr><td>dbfs:/FileStore/Bookimages/9781426329494.jpg</td><td>9781426329494.jpg</td><td>17254</td><td>1680635256000</td></tr><tr><td>dbfs:/FileStore/Bookimages/9781426329791.jpg</td><td>9781426329791.jpg</td><td>807</td><td>1680635267000</td></tr><tr><td>dbfs:/FileStore/Bookimages/9781426330186.jpg</td><td>9781426330186.jpg</td><td>807</td><td>1680635277000</td></tr><tr><td>dbfs:/FileStore/Bookimages/9781426330216.jpg</td><td>9781426330216.jpg</td><td>807</td><td>1680635288000</td></tr><tr><td>dbfs:/FileStore/Bookimages/9781426331060.jpg</td><td>9781426331060.jpg</td><td>807</td><td>1680635299000</td></tr><tr><td>dbfs:/FileStore/Bookimages/9781426331145.jpg</td><td>9781426331145.jpg</td><td>807</td><td>1680635310000</td></tr><tr><td>dbfs:/FileStore/Bookimages/9781426332593.jpg</td><td>9781426332593.jpg</td><td>15152</td><td>1680635320000</td></tr><tr><td>dbfs:/FileStore/Bookimages/9781426332753.jpg</td><td>9781426332753.jpg</td><td>18213</td><td>1680635333000</td></tr><tr><td>dbfs:/FileStore/Bookimages/9781426332777.jpg</td><td>9781426332777.jpg</td><td>807</td><td>1680635343000</td></tr><tr><td>dbfs:/FileStore/Bookimages/9781426333101.jpg</td><td>9781426333101.jpg</td><td>17045</td><td>1680635356000</td></tr><tr><td>dbfs:/FileStore/Bookimages/9781426333224.jpg</td><td>9781426333224.jpg</td><td>807</td><td>1680635366000</td></tr><tr><td>dbfs:/FileStore/Bookimages/9781426333699.jpg</td><td>9781426333699.jpg</td><td>26446</td><td>1680635379000</td></tr><tr><td>dbfs:/FileStore/Bookimages/9781426334412.jpg</td><td>9781426334412.jpg</td><td>807</td><td>1680635389000</td></tr><tr><td>dbfs:/FileStore/Bookimages/9781426335150.jpg</td><td>9781426335150.jpg</td><td>807</td><td>1680635400000</td></tr><tr><td>dbfs:/FileStore/Bookimages/9781426335334.jpg</td><td>9781426335334.jpg</td><td>807</td><td>1680635410000</td></tr><tr><td>dbfs:/FileStore/Bookimages/9781426335358.jpg</td><td>9781426335358.jpg</td><td>15449</td><td>1680635421000</td></tr><tr><td>dbfs:/FileStore/Bookimages/9781426336850.jpg</td><td>9781426336850.jpg</td><td>19353</td><td>1680635431000</td></tr><tr><td>dbfs:/FileStore/Bookimages/9781426336911.jpg</td><td>9781426336911.jpg</td><td>807</td><td>1680635442000</td></tr><tr><td>dbfs:/FileStore/Bookimages/9781426337383.jpg</td><td>9781426337383.jpg</td><td>807</td><td>1680635452000</td></tr><tr><td>dbfs:/FileStore/Bookimages/9781426339028.jpg</td><td>9781426339028.jpg</td><td>13668</td><td>1680635463000</td></tr><tr><td>dbfs:/FileStore/Bookimages/9781426339035.jpg</td><td>9781426339035.jpg</td><td>807</td><td>1680635474000</td></tr><tr><td>dbfs:/FileStore/Bookimages/9781426339974.jpg</td><td>9781426339974.jpg</td><td>807</td><td>1680620176000</td></tr><tr><td>dbfs:/FileStore/Bookimages/9781426371813.jpg</td><td>9781426371813.jpg</td><td>807</td><td>1680634766000</td></tr><tr><td>dbfs:/FileStore/Bookimages/9781426372186.jpg</td><td>9781426372186.jpg</td><td>22065</td><td>1680620187000</td></tr><tr><td>dbfs:/FileStore/Bookimages/9781426372223.jpg</td><td>9781426372223.jpg</td><td>807</td><td>1680634755000</td></tr><tr><td>dbfs:/FileStore/Bookimages/9781426373374.jpg</td><td>9781426373374.jpg</td><td>807</td><td>1680620733000</td></tr><tr><td>dbfs:/FileStore/Bookimages/9781444932157.jpg</td><td>9781444932157.jpg</td><td>807</td><td>1680631168000</td></tr><tr><td>dbfs:/FileStore/Bookimages/9781444936322.jpg</td><td>9781444936322.jpg</td><td>21160</td><td>1680631179000</td></tr><tr><td>dbfs:/FileStore/Bookimages/9781444936339.jpg</td><td>9781444936339.jpg</td><td>20531</td><td>1680631190000</td></tr><tr><td>dbfs:/FileStore/Bookimages/9781444936346.jpg</td><td>9781444936346.jpg</td><td>807</td><td>1680631200000</td></tr><tr><td>dbfs:/FileStore/Bookimages/9781444936353.jpg</td><td>9781444936353.jpg</td><td>807</td><td>1680631211000</td></tr><tr><td>dbfs:/FileStore/Bookimages/9781444936360.jpg</td><td>9781444936360.jpg</td><td>807</td><td>1680631221000</td></tr><tr><td>dbfs:/FileStore/Bookimages/9781444936377.jpg</td><td>9781444936377.jpg</td><td>807</td><td>1680631232000</td></tr><tr><td>dbfs:/FileStore/Bookimages/9781444936384.jpg</td><td>9781444936384.jpg</td><td>807</td><td>1680631242000</td></tr><tr><td>dbfs:/FileStore/Bookimages/9781444936391.jpg</td><td>9781444936391.jpg</td><td>18832</td><td>1680631253000</td></tr><tr><td>dbfs:/FileStore/Bookimages/9781444936445.jpg</td><td>9781444936445.jpg</td><td>25120</td><td>1680631264000</td></tr><tr><td>dbfs:/FileStore/Bookimages/9781444936476.jpg</td><td>9781444936476.jpg</td><td>807</td><td>1680631274000</td></tr><tr><td>dbfs:/FileStore/Bookimages/9781444936483.jpg</td><td>9781444936483.jpg</td><td>807</td><td>1680631285000</td></tr><tr><td>dbfs:/FileStore/Bookimages/9781444936490.jpg</td><td>9781444936490.jpg</td><td>807</td><td>1680631296000</td></tr><tr><td>dbfs:/FileStore/Bookimages/9781444936513.jpg</td><td>9781444936513.jpg</td><td>21884</td><td>1680631307000</td></tr><tr><td>dbfs:/FileStore/Bookimages/9781444939453.jpg</td><td>9781444939453.jpg</td><td>25592</td><td>1680627888000</td></tr><tr><td>dbfs:/FileStore/Bookimages/9781444939477.jpg</td><td>9781444939477.jpg</td><td>27190</td><td>1680627899000</td></tr><tr><td>dbfs:/FileStore/Bookimages/9781444941531.jpg</td><td>9781444941531.jpg</td><td>807</td><td>1680631147000</td></tr><tr><td>dbfs:/FileStore/Bookimages/9781444944631.jpg</td><td>9781444944631.jpg</td><td>807</td><td>1680631158000</td></tr><tr><td>dbfs:/FileStore/Bookimages/9781444952063.jpg</td><td>9781444952063.jpg</td><td>26702</td><td>1680627867000</td></tr><tr><td>dbfs:/FileStore/Bookimages/9781444952087.jpg</td><td>9781444952087.jpg</td><td>28881</td><td>1680627877000</td></tr><tr><td>dbfs:/FileStore/Bookimages/9781444955347.jpg</td><td>9781444955347.jpg</td><td>807</td><td>1680631444000</td></tr><tr><td>dbfs:/FileStore/Bookimages/9781444955361.jpg</td><td>9781444955361.jpg</td><td>807</td><td>1680631455000</td></tr><tr><td>dbfs:/FileStore/Bookimages/9781444955378.jpg</td><td>9781444955378.jpg</td><td>807</td><td>1680631465000</td></tr><tr><td>dbfs:/FileStore/Bookimages/9781444959833.jpg</td><td>9781444959833.jpg</td><td>807</td><td>1680631477000</td></tr><tr><td>dbfs:/FileStore/Bookimages/9781444959840.jpg</td><td>9781444959840.jpg</td><td>807</td><td>1680631487000</td></tr><tr><td>dbfs:/FileStore/Bookimages/9781444959857.jpg</td><td>9781444959857.jpg</td><td>807</td><td>1680631498000</td></tr><tr><td>dbfs:/FileStore/Bookimages/9781444959864.jpg</td><td>9781444959864.jpg</td><td>807</td><td>1680631508000</td></tr><tr><td>dbfs:/FileStore/Bookimages/9781444959871.jpg</td><td>9781444959871.jpg</td><td>807</td><td>1680631519000</td></tr><tr><td>dbfs:/FileStore/Bookimages/9781444959901.jpg</td><td>9781444959901.jpg</td><td>807</td><td>1680631529000</td></tr><tr><td>dbfs:/FileStore/Bookimages/9781444959918.jpg</td><td>9781444959918.jpg</td><td>807</td><td>1680631540000</td></tr><tr><td>dbfs:/FileStore/Bookimages/9781444959925.jpg</td><td>9781444959925.jpg</td><td>807</td><td>1680631550000</td></tr><tr><td>dbfs:/FileStore/Bookimages/9781444965117.jpg</td><td>9781444965117.jpg</td><td>807</td><td>1680631561000</td></tr><tr><td>dbfs:/FileStore/Bookimages/9781445129891.jpg</td><td>9781445129891.jpg</td><td>17012</td><td>1680631572000</td></tr><tr><td>dbfs:/FileStore/Bookimages/9781445129907.jpg</td><td>9781445129907.jpg</td><td>16731</td><td>1680631582000</td></tr><tr><td>dbfs:/FileStore/Bookimages/9781445129914.jpg</td><td>9781445129914.jpg</td><td>16929</td><td>1680631593000</td></tr><tr><td>dbfs:/FileStore/Bookimages/9781445129921.jpg</td><td>9781445129921.jpg</td><td>15503</td><td>1680631604000</td></tr><tr><td>dbfs:/FileStore/Bookimages/9781445138930.jpg</td><td>9781445138930.jpg</td><td>15832</td><td>1680631615000</td></tr><tr><td>dbfs:/FileStore/Bookimages/9781445138954.jpg</td><td>9781445138954.jpg</td><td>17409</td><td>1680631625000</td></tr><tr><td>dbfs:/FileStore/Bookimages/9781445138978.jpg</td><td>9781445138978.jpg</td><td>14750</td><td>1680631636000</td></tr><tr><td>dbfs:/FileStore/Bookimages/9781445138992.jpg</td><td>9781445138992.jpg</td><td>13978</td><td>1680631647000</td></tr><tr><td>dbfs:/FileStore/Bookimages/9781445142470.jpg</td><td>9781445142470.jpg</td><td>807</td><td>1680631658000</td></tr><tr><td>dbfs:/FileStore/Bookimages/9781445142487.jpg</td><td>9781445142487.jpg</td><td>17985</td><td>1680631668000</td></tr><tr><td>dbfs:/FileStore/Bookimages/9781445147178.jpg</td><td>9781445147178.jpg</td><td>20167</td><td>1680631679000</td></tr><tr><td>dbfs:/FileStore/Bookimages/9781445147185.jpg</td><td>9781445147185.jpg</td><td>22543</td><td>1680631691000</td></tr><tr><td>dbfs:/FileStore/Bookimages/9781445147192.jpg</td><td>9781445147192.jpg</td><td>18888</td><td>1680631704000</td></tr><tr><td>dbfs:/FileStore/Bookimages/9781445147208.jpg</td><td>9781445147208.jpg</td><td>15400</td><td>1680631714000</td></tr><tr><td>dbfs:/FileStore/Bookimages/9781445151991.jpg</td><td>9781445151991.jpg</td><td>807</td><td>1680631725000</td></tr><tr><td>dbfs:/FileStore/Bookimages/9781445152011.jpg</td><td>9781445152011.jpg</td><td>16867</td><td>1680631736000</td></tr><tr><td>dbfs:/FileStore/Bookimages/9781445158549.jpg</td><td>9781445158549.jpg</td><td>807</td><td>1680631746000</td></tr><tr><td>dbfs:/FileStore/Bookimages/9781445158686.jpg</td><td>9781445158686.jpg</td><td>807</td><td>1680631757000</td></tr><tr><td>dbfs:/FileStore/Bookimages/9781445158709.jpg</td><td>9781445158709.jpg</td><td>807</td><td>1680631768000</td></tr><tr><td>dbfs:/FileStore/Bookimages/9781445158723.jpg</td><td>9781445158723.jpg</td><td>807</td><td>1680631778000</td></tr><tr><td>dbfs:/FileStore/Bookimages/9781445165530.jpg</td><td>9781445165530.jpg</td><td>807</td><td>1680631423000</td></tr><tr><td>dbfs:/FileStore/Bookimages/9781445165660.jpg</td><td>9781445165660.jpg</td><td>807</td><td>1680631433000</td></tr><tr><td>dbfs:/FileStore/Bookimages/9781445166292.jpg</td><td>9781445166292.jpg</td><td>807</td><td>1680629018000</td></tr><tr><td>dbfs:/FileStore/Bookimages/9781445168661.jpg</td><td>9781445168661.jpg</td><td>807</td><td>1680631317000</td></tr><tr><td>dbfs:/FileStore/Bookimages/9781445170862.jpg</td><td>9781445170862.jpg</td><td>807</td><td>1680631328000</td></tr><tr><td>dbfs:/FileStore/Bookimages/9781445170886.jpg</td><td>9781445170886.jpg</td><td>807</td><td>1680631338000</td></tr><tr><td>dbfs:/FileStore/Bookimages/9781445170909.jpg</td><td>9781445170909.jpg</td><td>807</td><td>1680631349000</td></tr><tr><td>dbfs:/FileStore/Bookimages/9781445173092.jpg</td><td>9781445173092.jpg</td><td>17626</td><td>1680631360000</td></tr><tr><td>dbfs:/FileStore/Bookimages/9781445173276.jpg</td><td>9781445173276.jpg</td><td>807</td><td>1680631370000</td></tr><tr><td>dbfs:/FileStore/Bookimages/9781445173290.jpg</td><td>9781445173290.jpg</td><td>807</td><td>1680631381000</td></tr><tr><td>dbfs:/FileStore/Bookimages/9781445173313.jpg</td><td>9781445173313.jpg</td><td>807</td><td>1680631391000</td></tr><tr><td>dbfs:/FileStore/Bookimages/9781445173337.jpg</td><td>9781445173337.jpg</td><td>807</td><td>1680631402000</td></tr><tr><td>dbfs:/FileStore/Bookimages/9781445173351.jpg</td><td>9781445173351.jpg</td><td>807</td><td>1680631412000</td></tr><tr><td>dbfs:/FileStore/Bookimages/9781447205265.jpg</td><td>9781447205265.jpg</td><td>16196</td><td>1680631105000</td></tr><tr><td>dbfs:/FileStore/Bookimages/9781447213130.jpg</td><td>9781447213130.jpg</td><td>11104</td><td>1680631116000</td></tr><tr><td>dbfs:/FileStore/Bookimages/9781447220640.jpg</td><td>9781447220640.jpg</td><td>15156</td><td>1680631126000</td></tr><tr><td>dbfs:/FileStore/Bookimages/9781447282358.jpg</td><td>9781447282358.jpg</td><td>807</td><td>1680627813000</td></tr><tr><td>dbfs:/FileStore/Bookimages/9781447282365.jpg</td><td>9781447282365.jpg</td><td>807</td><td>1680627824000</td></tr><tr><td>dbfs:/FileStore/Bookimages/9781447282389.jpg</td><td>9781447282389.jpg</td><td>807</td><td>1680627834000</td></tr><tr><td>dbfs:/FileStore/Bookimages/9781447282396.jpg</td><td>9781447282396.jpg</td><td>807</td><td>1680627845000</td></tr><tr><td>dbfs:/FileStore/Bookimages/9781447282426.jpg</td><td>9781447282426.jpg</td><td>807</td><td>1680627855000</td></tr><tr><td>dbfs:/FileStore/Bookimages/9781452170817.jpg</td><td>9781452170817.jpg</td><td>807</td><td>1680635484000</td></tr><tr><td>dbfs:/FileStore/Bookimages/9781452182254.jpg</td><td>9781452182254.jpg</td><td>807</td><td>1680635495000</td></tr><tr><td>dbfs:/FileStore/Bookimages/9781465409348.jpg</td><td>9781465409348.jpg</td><td>807</td><td>1680635505000</td></tr><tr><td>dbfs:/FileStore/Bookimages/9781465415851.jpg</td><td>9781465415851.jpg</td><td>14351</td><td>1680622404000</td></tr><tr><td>dbfs:/FileStore/Bookimages/9781465416544.jpg</td><td>9781465416544.jpg</td><td>21279</td><td>1680634917000</td></tr><tr><td>dbfs:/FileStore/Bookimages/9781465435026.jpg</td><td>9781465435026.jpg</td><td>20515</td><td>1680634928000</td></tr><tr><td>dbfs:/FileStore/Bookimages/9781465436238.jpg</td><td>9781465436238.jpg</td><td>23919</td><td>1680634940000</td></tr><tr><td>dbfs:/FileStore/Bookimages/9781465452115.jpg</td><td>9781465452115.jpg</td><td>807</td><td>1680634951000</td></tr><tr><td>dbfs:/FileStore/Bookimages/9781465454300.jpg</td><td>9781465454300.jpg</td><td>807</td><td>1680631789000</td></tr><tr><td>dbfs:/FileStore/Bookimages/9781465464194.jpg</td><td>9781465464194.jpg</td><td>807</td><td>1680622383000</td></tr><tr><td>dbfs:/FileStore/Bookimages/9781465468611.jpg</td><td>9781465468611.jpg</td><td>807</td><td>1680622393000</td></tr><tr><td>dbfs:/FileStore/Bookimages/9781465469311.jpg</td><td>9781465469311.jpg</td><td>27377</td><td>1680634962000</td></tr><tr><td>dbfs:/FileStore/Bookimages/9781465470096.jpg</td><td>9781465470096.jpg</td><td>807</td><td>1680634972000</td></tr><tr><td>dbfs:/FileStore/Bookimages/9781465470102.jpg</td><td>9781465470102.jpg</td><td>807</td><td>1680634983000</td></tr><tr><td>dbfs:/FileStore/Bookimages/9781465470904.jpg</td><td>9781465470904.jpg</td><td>14361</td><td>1680634995000</td></tr><tr><td>dbfs:/FileStore/Bookimages/9781465470959.jpg</td><td>9781465470959.jpg</td><td>21648</td><td>1680635005000</td></tr><tr><td>dbfs:/FileStore/Bookimages/9781465474384.jpg</td><td>9781465474384.jpg</td><td>807</td><td>1680635016000</td></tr><tr><td>dbfs:/FileStore/Bookimages/9781465474513.jpg</td><td>9781465474513.jpg</td><td>24668</td><td>1680635028000</td></tr><tr><td>dbfs:/FileStore/Bookimages/9781465478818.jpg</td><td>9781465478818.jpg</td><td>21968</td><td>1680635039000</td></tr><tr><td>dbfs:/FileStore/Bookimages/9781465479563.jpg</td><td>9781465479563.jpg</td><td>807</td><td>1680622415000</td></tr><tr><td>dbfs:/FileStore/Bookimages/9781465479587.jpg</td><td>9781465479587.jpg</td><td>20885</td><td>1680622425000</td></tr><tr><td>dbfs:/FileStore/Bookimages/9781465479648.jpg</td><td>9781465479648.jpg</td><td>19979</td><td>1680622438000</td></tr><tr><td>dbfs:/FileStore/Bookimages/9781465479761.jpg</td><td>9781465479761.jpg</td><td>807</td><td>1680634874000</td></tr><tr><td>dbfs:/FileStore/Bookimages/9781465480361.jpg</td><td>9781465480361.jpg</td><td>28529</td><td>1680634885000</td></tr><tr><td>dbfs:/FileStore/Bookimages/9781465480415.jpg</td><td>9781465480415.jpg</td><td>807</td><td>1680634896000</td></tr><tr><td>dbfs:/FileStore/Bookimages/9781465481511.jpg</td><td>9781465481511.jpg</td><td>807</td><td>1680634906000</td></tr><tr><td>dbfs:/FileStore/Bookimages/9781465482228.jpg</td><td>9781465482228.jpg</td><td>15228</td><td>1680622450000</td></tr><tr><td>dbfs:/FileStore/Bookimages/9781465482488.jpg</td><td>9781465482488.jpg</td><td>15752</td><td>1680634798000</td></tr><tr><td>dbfs:/FileStore/Bookimages/9781465482686.jpg</td><td>9781465482686.jpg</td><td>29701</td><td>1680634809000</td></tr><tr><td>dbfs:/FileStore/Bookimages/9781465484369.jpg</td><td>9781465484369.jpg</td><td>22520</td><td>1680634819000</td></tr><tr><td>dbfs:/FileStore/Bookimages/9781465484383.jpg</td><td>9781465484383.jpg</td><td>28079</td><td>1680634832000</td></tr><tr><td>dbfs:/FileStore/Bookimages/9781465489524.jpg</td><td>9781465489524.jpg</td><td>807</td><td>1680634843000</td></tr><tr><td>dbfs:/FileStore/Bookimages/9781465489555.jpg</td><td>9781465489555.jpg</td><td>807</td><td>1680623229000</td></tr><tr><td>dbfs:/FileStore/Bookimages/9781465489791.jpg</td><td>9781465489791.jpg</td><td>17239</td><td>1680622461000</td></tr><tr><td>dbfs:/FileStore/Bookimages/9781465489814.jpg</td><td>9781465489814.jpg</td><td>807</td><td>1680631799000</td></tr><tr><td>dbfs:/FileStore/Bookimages/9781465489920.jpg</td><td>9781465489920.jpg</td><td>807</td><td>1680634776000</td></tr><tr><td>dbfs:/FileStore/Bookimages/9781465491145.jpg</td><td>9781465491145.jpg</td><td>22284</td><td>1680634787000</td></tr><tr><td>dbfs:/FileStore/Bookimages/9781465491442.jpg</td><td>9781465491442.jpg</td><td>22599</td><td>1680622471000</td></tr><tr><td>dbfs:/FileStore/Bookimages/9781465492272.jpg</td><td>9781465492272.jpg</td><td>26250</td><td>1680622482000</td></tr><tr><td>dbfs:/FileStore/Bookimages/9781465492371.jpg</td><td>9781465492371.jpg</td><td>807</td><td>1680623198000</td></tr><tr><td>dbfs:/FileStore/Bookimages/9781465493279.jpg</td><td>9781465493279.jpg</td><td>807</td><td>1680623208000</td></tr><tr><td>dbfs:/FileStore/Bookimages/9781465497864.jpg</td><td>9781465497864.jpg</td><td>807</td><td>1680623219000</td></tr><tr><td>dbfs:/FileStore/Bookimages/9781465497888.jpg</td><td>9781465497888.jpg</td><td>807</td><td>1680634864000</td></tr><tr><td>dbfs:/FileStore/Bookimages/9781465497895.jpg</td><td>9781465497895.jpg</td><td>807</td><td>1680623240000</td></tr><tr><td>dbfs:/FileStore/Bookimages/9781465499851.jpg</td><td>9781465499851.jpg</td><td>807</td><td>1680634853000</td></tr><tr><td>dbfs:/FileStore/Bookimages/9781465499882.jpg</td><td>9781465499882.jpg</td><td>26659</td><td>1680635050000</td></tr><tr><td>dbfs:/FileStore/Bookimages/9781471186134.jpg</td><td>9781471186134.jpg</td><td>807</td><td>1680631137000</td></tr><tr><td>dbfs:/FileStore/Bookimages/9781471190674.jpg</td><td>9781471190674.jpg</td><td>807</td><td>1680634629000</td></tr><tr><td>dbfs:/FileStore/Bookimages/9781471198052.jpg</td><td>9781471198052.jpg</td><td>807</td><td>1680634639000</td></tr><tr><td>dbfs:/FileStore/Bookimages/9781471198069.jpg</td><td>9781471198069.jpg</td><td>807</td><td>1680634650000</td></tr><tr><td>dbfs:/FileStore/Bookimages/9781471198076.jpg</td><td>9781471198076.jpg</td><td>807</td><td>1680634660000</td></tr><tr><td>dbfs:/FileStore/Bookimages/9781471198083.jpg</td><td>9781471198083.jpg</td><td>807</td><td>1680634671000</td></tr><tr><td>dbfs:/FileStore/Bookimages/9781471198090.jpg</td><td>9781471198090.jpg</td><td>807</td><td>1680634681000</td></tr><tr><td>dbfs:/FileStore/Bookimages/9781471198106.jpg</td><td>9781471198106.jpg</td><td>807</td><td>1680634692000</td></tr><tr><td>dbfs:/FileStore/Bookimages/9781471198113.jpg</td><td>9781471198113.jpg</td><td>807</td><td>1680634703000</td></tr><tr><td>dbfs:/FileStore/Bookimages/9781471198120.jpg</td><td>9781471198120.jpg</td><td>807</td><td>1680634713000</td></tr><tr><td>dbfs:/FileStore/Bookimages/9781471198137.jpg</td><td>9781471198137.jpg</td><td>807</td><td>1680634724000</td></tr><tr><td>dbfs:/FileStore/Bookimages/9781471198144.jpg</td><td>9781471198144.jpg</td><td>807</td><td>1680634734000</td></tr><tr><td>dbfs:/FileStore/Bookimages/9781471198151.jpg</td><td>9781471198151.jpg</td><td>807</td><td>1680634745000</td></tr><tr><td>dbfs:/FileStore/Bookimages/9781471198168.jpg</td><td>9781471198168.jpg</td><td>807</td><td>1680629082000</td></tr><tr><td>dbfs:/FileStore/Bookimages/9781471198175.jpg</td><td>9781471198175.jpg</td><td>807</td><td>1680632201000</td></tr><tr><td>dbfs:/FileStore/Bookimages/9781474829823.jpg</td><td>9781474829823.jpg</td><td>807</td><td>1680620262000</td></tr><tr><td>dbfs:/FileStore/Bookimages/9781474829830.jpg</td><td>9781474829830.jpg</td><td>807</td><td>1680626233000</td></tr><tr><td>dbfs:/FileStore/Bookimages/9781474831994.jpg</td><td>9781474831994.jpg</td><td>807</td><td>1680630912000</td></tr><tr><td>dbfs:/FileStore/Bookimages/9781474939584.jpg</td><td>9781474939584.jpg</td><td>16662</td><td>1680622245000</td></tr><tr><td>dbfs:/FileStore/Bookimages/9781474948043.jpg</td><td>9781474948043.jpg</td><td>807</td><td>1680622256000</td></tr><tr><td>dbfs:/FileStore/Bookimages/9781474952798.jpg</td><td>9781474952798.jpg</td><td>807</td><td>1680621789000</td></tr><tr><td>dbfs:/FileStore/Bookimages/9781474953597.jpg</td><td>9781474953597.jpg</td><td>16720</td><td>1680622234000</td></tr><tr><td>dbfs:/FileStore/Bookimages/9781474960298.jpg</td><td>9781474960298.jpg</td><td>807</td><td>1680623400000</td></tr><tr><td>dbfs:/FileStore/Bookimages/9781474967921.jpg</td><td>9781474967921.jpg</td><td>16321</td><td>1680622267000</td></tr><tr><td>dbfs:/FileStore/Bookimages/9781474968027.jpg</td><td>9781474968027.jpg</td><td>807</td><td>1680622277000</td></tr><tr><td>dbfs:/FileStore/Bookimages/9781474968317.jpg</td><td>9781474968317.jpg</td><td>16439</td><td>1680622288000</td></tr><tr><td>dbfs:/FileStore/Bookimages/9781474968386.jpg</td><td>9781474968386.jpg</td><td>17308</td><td>1680622299000</td></tr><tr><td>dbfs:/FileStore/Bookimages/9781474972093.jpg</td><td>9781474972093.jpg</td><td>807</td><td>1680622309000</td></tr><tr><td>dbfs:/FileStore/Bookimages/9781474979900.jpg</td><td>9781474979900.jpg</td><td>807</td><td>1680622320000</td></tr><tr><td>dbfs:/FileStore/Bookimages/9781474981347.jpg</td><td>9781474981347.jpg</td><td>807</td><td>1680622330000</td></tr><tr><td>dbfs:/FileStore/Bookimages/9781474983204.jpg</td><td>9781474983204.jpg</td><td>807</td><td>1680621799000</td></tr><tr><td>dbfs:/FileStore/Bookimages/9781474986137.jpg</td><td>9781474986137.jpg</td><td>807</td><td>1680622224000</td></tr><tr><td>dbfs:/FileStore/Bookimages/9781474986168.jpg</td><td>9781474986168.jpg</td><td>807</td><td>1680621820000</td></tr><tr><td>dbfs:/FileStore/Bookimages/9781474986397.jpg</td><td>9781474986397.jpg</td><td>24513</td><td>1680622171000</td></tr><tr><td>dbfs:/FileStore/Bookimages/9781474986458.jpg</td><td>9781474986458.jpg</td><td>20099</td><td>1680622182000</td></tr><tr><td>dbfs:/FileStore/Bookimages/9781474986472.jpg</td><td>9781474986472.jpg</td><td>807</td><td>1680621810000</td></tr><tr><td>dbfs:/FileStore/Bookimages/9781474986625.jpg</td><td>9781474986625.jpg</td><td>807</td><td>1680622192000</td></tr><tr><td>dbfs:/FileStore/Bookimages/9781474986632.jpg</td><td>9781474986632.jpg</td><td>807</td><td>1680622203000</td></tr><tr><td>dbfs:/FileStore/Bookimages/9781474986649.jpg</td><td>9781474986649.jpg</td><td>807</td><td>1680622213000</td></tr><tr><td>dbfs:/FileStore/Bookimages/9781474986908.jpg</td><td>9781474986908.jpg</td><td>807</td><td>1680621831000</td></tr><tr><td>dbfs:/FileStore/Bookimages/9781474989619.jpg</td><td>9781474989619.jpg</td><td>807</td><td>1680622160000</td></tr><tr><td>dbfs:/FileStore/Bookimages/9781474989855.jpg</td><td>9781474989855.jpg</td><td>18927</td><td>1680621874000</td></tr><tr><td>dbfs:/FileStore/Bookimages/9781474989886.jpg</td><td>9781474989886.jpg</td><td>22461</td><td>1680621884000</td></tr><tr><td>dbfs:/FileStore/Bookimages/9781474992329.jpg</td><td>9781474992329.jpg</td><td>807</td><td>1680622118000</td></tr><tr><td>dbfs:/FileStore/Bookimages/9781474995795.jpg</td><td>9781474995795.jpg</td><td>18986</td><td>1680621842000</td></tr><tr><td>dbfs:/FileStore/Bookimages/9781474995825.jpg</td><td>9781474995825.jpg</td><td>807</td><td>1680621852000</td></tr><tr><td>dbfs:/FileStore/Bookimages/9781474996082.jpg</td><td>9781474996082.jpg</td><td>18394</td><td>1680621863000</td></tr><tr><td>dbfs:/FileStore/Bookimages/9781474996099.jpg</td><td>9781474996099.jpg</td><td>19443</td><td>1680622129000</td></tr><tr><td>dbfs:/FileStore/Bookimages/9781474996730.jpg</td><td>9781474996730.jpg</td><td>807</td><td>1680622139000</td></tr><tr><td>dbfs:/FileStore/Bookimages/9781474997874.jpg</td><td>9781474997874.jpg</td><td>807</td><td>1680622150000</td></tr><tr><td>dbfs:/FileStore/Bookimages/9781474998062.jpg</td><td>9781474998062.jpg</td><td>807</td><td>1680621895000</td></tr><tr><td>dbfs:/FileStore/Bookimages/9781474999045.jpg</td><td>9781474999045.jpg</td><td>807</td><td>1680622107000</td></tr><tr><td>dbfs:/FileStore/Bookimages/9781474999182.jpg</td><td>9781474999182.jpg</td><td>807</td><td>1680622341000</td></tr><tr><td>dbfs:/FileStore/Bookimages/9781481470230.jpg</td><td>9781481470230.jpg</td><td>17888</td><td>1680623187000</td></tr><tr><td>dbfs:/FileStore/Bookimages/9781488902840.jpg</td><td>9781488902840.jpg</td><td>807</td><td>1680620103000</td></tr><tr><td>dbfs:/FileStore/Bookimages/9781488908224.jpg</td><td>9781488908224.jpg</td><td>807</td><td>1680628608000</td></tr><tr><td>dbfs:/FileStore/Bookimages/9781488908545.jpg</td><td>9781488908545.jpg</td><td>807</td><td>1680628618000</td></tr><tr><td>dbfs:/FileStore/Bookimages/9781488914171.jpg</td><td>9781488914171.jpg</td><td>807</td><td>1680628629000</td></tr><tr><td>dbfs:/FileStore/Bookimages/9781488914232.jpg</td><td>9781488914232.jpg</td><td>807</td><td>1680628639000</td></tr><tr><td>dbfs:/FileStore/Bookimages/9781488915994.jpg</td><td>9781488915994.jpg</td><td>807</td><td>1680628650000</td></tr><tr><td>dbfs:/FileStore/Bookimages/9781488918322.jpg</td><td>9781488918322.jpg</td><td>807</td><td>1680628660000</td></tr><tr><td>dbfs:/FileStore/Bookimages/9781488919893.jpg</td><td>9781488919893.jpg</td><td>807</td><td>1680628671000</td></tr><tr><td>dbfs:/FileStore/Bookimages/9781488920851.jpg</td><td>9781488920851.jpg</td><td>807</td><td>1680628681000</td></tr><tr><td>dbfs:/FileStore/Bookimages/9781488920905.jpg</td><td>9781488920905.jpg</td><td>807</td><td>1680628692000</td></tr><tr><td>dbfs:/FileStore/Bookimages/9781488920967.jpg</td><td>9781488920967.jpg</td><td>807</td><td>1680628702000</td></tr><tr><td>dbfs:/FileStore/Bookimages/9781488922305.jpg</td><td>9781488922305.jpg</td><td>807</td><td>1680628713000</td></tr><tr><td>dbfs:/FileStore/Bookimages/9781488922480.jpg</td><td>9781488922480.jpg</td><td>807</td><td>1680629622000</td></tr><tr><td>dbfs:/FileStore/Bookimages/9781488922572.jpg</td><td>9781488922572.jpg</td><td>807</td><td>1680628913000</td></tr><tr><td>dbfs:/FileStore/Bookimages/9781488924132.jpg</td><td>9781488924132.jpg</td><td>807</td><td>1680628924000</td></tr><tr><td>dbfs:/FileStore/Bookimages/9781488924156.jpg</td><td>9781488924156.jpg</td><td>807</td><td>1680628934000</td></tr><tr><td>dbfs:/FileStore/Bookimages/9781488924293.jpg</td><td>9781488924293.jpg</td><td>807</td><td>1680628945000</td></tr><tr><td>dbfs:/FileStore/Bookimages/9781488924316.jpg</td><td>9781488924316.jpg</td><td>807</td><td>1680628955000</td></tr><tr><td>dbfs:/FileStore/Bookimages/9781488925108.jpg</td><td>9781488925108.jpg</td><td>807</td><td>1680628966000</td></tr><tr><td>dbfs:/FileStore/Bookimages/9781488925184.jpg</td><td>9781488925184.jpg</td><td>807</td><td>1680628976000</td></tr><tr><td>dbfs:/FileStore/Bookimages/9781488925351.jpg</td><td>9781488925351.jpg</td><td>807</td><td>1680628987000</td></tr><tr><td>dbfs:/FileStore/Bookimages/9781488925696.jpg</td><td>9781488925696.jpg</td><td>807</td><td>1680628997000</td></tr><tr><td>dbfs:/FileStore/Bookimages/9781488925931.jpg</td><td>9781488925931.jpg</td><td>807</td><td>1680629008000</td></tr><tr><td>dbfs:/FileStore/Bookimages/9781488928208.jpg</td><td>9781488928208.jpg</td><td>807</td><td>1680634226000</td></tr><tr><td>dbfs:/FileStore/Bookimages/9781488941573.jpg</td><td>9781488941573.jpg</td><td>807</td><td>1680628723000</td></tr><tr><td>dbfs:/FileStore/Bookimages/9781488943416.jpg</td><td>9781488943416.jpg</td><td>807</td><td>1680628734000</td></tr><tr><td>dbfs:/FileStore/Bookimages/9781488943775.jpg</td><td>9781488943775.jpg</td><td>807</td><td>1680628744000</td></tr><tr><td>dbfs:/FileStore/Bookimages/9781488943959.jpg</td><td>9781488943959.jpg</td><td>807</td><td>1680628755000</td></tr><tr><td>dbfs:/FileStore/Bookimages/9781488945045.jpg</td><td>9781488945045.jpg</td><td>807</td><td>1680628766000</td></tr><tr><td>dbfs:/FileStore/Bookimages/9781488945199.jpg</td><td>9781488945199.jpg</td><td>807</td><td>1680628776000</td></tr><tr><td>dbfs:/FileStore/Bookimages/9781488945205.jpg</td><td>9781488945205.jpg</td><td>807</td><td>1680628787000</td></tr><tr><td>dbfs:/FileStore/Bookimages/9781488945229.jpg</td><td>9781488945229.jpg</td><td>807</td><td>1680628797000</td></tr><tr><td>dbfs:/FileStore/Bookimages/9781488945458.jpg</td><td>9781488945458.jpg</td><td>807</td><td>1680628808000</td></tr><tr><td>dbfs:/FileStore/Bookimages/9781488946226.jpg</td><td>9781488946226.jpg</td><td>807</td><td>1680628818000</td></tr><tr><td>dbfs:/FileStore/Bookimages/9781488946233.jpg</td><td>9781488946233.jpg</td><td>807</td><td>1680628829000</td></tr><tr><td>dbfs:/FileStore/Bookimages/9781488946240.jpg</td><td>9781488946240.jpg</td><td>807</td><td>1680628839000</td></tr><tr><td>dbfs:/FileStore/Bookimages/9781488946257.jpg</td><td>9781488946257.jpg</td><td>807</td><td>1680628850000</td></tr><tr><td>dbfs:/FileStore/Bookimages/9781488946264.jpg</td><td>9781488946264.jpg</td><td>807</td><td>1680628860000</td></tr><tr><td>dbfs:/FileStore/Bookimages/9781488946271.jpg</td><td>9781488946271.jpg</td><td>807</td><td>1680628871000</td></tr><tr><td>dbfs:/FileStore/Bookimages/9781488946288.jpg</td><td>9781488946288.jpg</td><td>807</td><td>1680628881000</td></tr><tr><td>dbfs:/FileStore/Bookimages/9781488946295.jpg</td><td>9781488946295.jpg</td><td>807</td><td>1680628892000</td></tr><tr><td>dbfs:/FileStore/Bookimages/9781488946325.jpg</td><td>9781488946325.jpg</td><td>807</td><td>1680628902000</td></tr><tr><td>dbfs:/FileStore/Bookimages/9781488946479.jpg</td><td>9781488946479.jpg</td><td>807</td><td>1680629105000</td></tr><tr><td>dbfs:/FileStore/Bookimages/9781488946486.jpg</td><td>9781488946486.jpg</td><td>807</td><td>1680629116000</td></tr><tr><td>dbfs:/FileStore/Bookimages/9781488946493.jpg</td><td>9781488946493.jpg</td><td>807</td><td>1680629126000</td></tr><tr><td>dbfs:/FileStore/Bookimages/9781488946509.jpg</td><td>9781488946509.jpg</td><td>807</td><td>1680629137000</td></tr><tr><td>dbfs:/FileStore/Bookimages/9781488947858.jpg</td><td>9781488947858.jpg</td><td>807</td><td>1680633530000</td></tr><tr><td>dbfs:/FileStore/Bookimages/9781488947865.jpg</td><td>9781488947865.jpg</td><td>807</td><td>1680633540000</td></tr><tr><td>dbfs:/FileStore/Bookimages/9781488950605.jpg</td><td>9781488950605.jpg</td><td>807</td><td>1680633551000</td></tr><tr><td>dbfs:/FileStore/Bookimages/9781488950629.jpg</td><td>9781488950629.jpg</td><td>807</td><td>1680633561000</td></tr><tr><td>dbfs:/FileStore/Bookimages/9781503735705.jpg</td><td>9781503735705.jpg</td><td>807</td><td>1680629389000</td></tr><tr><td>dbfs:/FileStore/Bookimages/9781503743540.jpg</td><td>9781503743540.jpg</td><td>807</td><td>1680629548000</td></tr><tr><td>dbfs:/FileStore/Bookimages/9781503745766.jpg</td><td>9781503745766.jpg</td><td>807</td><td>1680629295000</td></tr><tr><td>dbfs:/FileStore/Bookimages/9781503750753.jpg</td><td>9781503750753.jpg</td><td>807</td><td>1680629305000</td></tr><tr><td>dbfs:/FileStore/Bookimages/9781503753082.jpg</td><td>9781503753082.jpg</td><td>807</td><td>1680629316000</td></tr><tr><td>dbfs:/FileStore/Bookimages/9781503754553.jpg</td><td>9781503754553.jpg</td><td>807</td><td>1680629326000</td></tr><tr><td>dbfs:/FileStore/Bookimages/9781503754577.jpg</td><td>9781503754577.jpg</td><td>807</td><td>1680629337000</td></tr><tr><td>dbfs:/FileStore/Bookimages/9781503754584.jpg</td><td>9781503754584.jpg</td><td>807</td><td>1680629347000</td></tr><tr><td>dbfs:/FileStore/Bookimages/9781503754591.jpg</td><td>9781503754591.jpg</td><td>807</td><td>1680629358000</td></tr><tr><td>dbfs:/FileStore/Bookimages/9781503754898.jpg</td><td>9781503754898.jpg</td><td>807</td><td>1680629368000</td></tr><tr><td>dbfs:/FileStore/Bookimages/9781503754904.jpg</td><td>9781503754904.jpg</td><td>807</td><td>1680629379000</td></tr><tr><td>dbfs:/FileStore/Bookimages/9781503755642.jpg</td><td>9781503755642.jpg</td><td>807</td><td>1680629400000</td></tr><tr><td>dbfs:/FileStore/Bookimages/9781503757851.jpg</td><td>9781503757851.jpg</td><td>807</td><td>1680629410000</td></tr><tr><td>dbfs:/FileStore/Bookimages/9781503757950.jpg</td><td>9781503757950.jpg</td><td>807</td><td>1680629421000</td></tr><tr><td>dbfs:/FileStore/Bookimages/9781503758162.jpg</td><td>9781503758162.jpg</td><td>807</td><td>1680629432000</td></tr><tr><td>dbfs:/FileStore/Bookimages/9781503758681.jpg</td><td>9781503758681.jpg</td><td>807</td><td>1680629442000</td></tr><tr><td>dbfs:/FileStore/Bookimages/9781503759381.jpg</td><td>9781503759381.jpg</td><td>807</td><td>1680629453000</td></tr><tr><td>dbfs:/FileStore/Bookimages/9781503759961.jpg</td><td>9781503759961.jpg</td><td>807</td><td>1680629463000</td></tr><tr><td>dbfs:/FileStore/Bookimages/9781503760400.jpg</td><td>9781503760400.jpg</td><td>807</td><td>1680629474000</td></tr><tr><td>dbfs:/FileStore/Bookimages/9781503761650.jpg</td><td>9781503761650.jpg</td><td>25394</td><td>1680629485000</td></tr><tr><td>dbfs:/FileStore/Bookimages/9781503761674.jpg</td><td>9781503761674.jpg</td><td>807</td><td>1680629495000</td></tr><tr><td>dbfs:/FileStore/Bookimages/9781503761797.jpg</td><td>9781503761797.jpg</td><td>807</td><td>1680629506000</td></tr><tr><td>dbfs:/FileStore/Bookimages/9781503761995.jpg</td><td>9781503761995.jpg</td><td>807</td><td>1680629516000</td></tr><tr><td>dbfs:/FileStore/Bookimages/9781503762527.jpg</td><td>9781503762527.jpg</td><td>807</td><td>1680629527000</td></tr><tr><td>dbfs:/FileStore/Bookimages/9781503762534.jpg</td><td>9781503762534.jpg</td><td>807</td><td>1680629537000</td></tr><tr><td>dbfs:/FileStore/Bookimages/9781510103603.jpg</td><td>9781510103603.jpg</td><td>807</td><td>1680631841000</td></tr><tr><td>dbfs:/FileStore/Bookimages/9781510108042.jpg</td><td>9781510108042.jpg</td><td>807</td><td>1680631852000</td></tr><tr><td>dbfs:/FileStore/Bookimages/9781510108141.jpg</td><td>9781510108141.jpg</td><td>807</td><td>1680631862000</td></tr><tr><td>dbfs:/FileStore/Bookimages/9781523513581.jpg</td><td>9781523513581.jpg</td><td>807</td><td>1680622351000</td></tr><tr><td>dbfs:/FileStore/Bookimages/9781524717674.jpg</td><td>9781524717674.jpg</td><td>807</td><td>1680627792000</td></tr><tr><td>dbfs:/FileStore/Bookimages/9781524789671.jpg</td><td>9781524789671.jpg</td><td>27670</td><td>1680638858000</td></tr><tr><td>dbfs:/FileStore/Bookimages/9781524868567.jpg</td><td>9781524868567.jpg</td><td>807</td><td>1680622631000</td></tr><tr><td>dbfs:/FileStore/Bookimages/9781524868574.jpg</td><td>9781524868574.jpg</td><td>20507</td><td>1680622642000</td></tr><tr><td>dbfs:/FileStore/Bookimages/9781524871574.jpg</td><td>9781524871574.jpg</td><td>27151</td><td>1680622653000</td></tr><tr><td>dbfs:/FileStore/Bookimages/9781524875572.jpg</td><td>9781524875572.jpg</td><td>22481</td><td>1680638483000</td></tr><tr><td>dbfs:/FileStore/Bookimages/9781524875602.jpg</td><td>9781524875602.jpg</td><td>1770</td><td>1680638494000</td></tr><tr><td>dbfs:/FileStore/Bookimages/9781524878733.jpg</td><td>9781524878733.jpg</td><td>23952</td><td>1680638505000</td></tr><tr><td>dbfs:/FileStore/Bookimages/9781526380463.jpg</td><td>9781526380463.jpg</td><td>807</td><td>1680632285000</td></tr><tr><td>dbfs:/FileStore/Bookimages/9781526380470.jpg</td><td>9781526380470.jpg</td><td>807</td><td>1680632296000</td></tr><tr><td>dbfs:/FileStore/Bookimages/9781526382269.jpg</td><td>9781526382269.jpg</td><td>807</td><td>1680629147000</td></tr><tr><td>dbfs:/FileStore/Bookimages/9781526382672.jpg</td><td>9781526382672.jpg</td><td>807</td><td>1680632275000</td></tr><tr><td>dbfs:/FileStore/Bookimages/9781526382689.jpg</td><td>9781526382689.jpg</td><td>807</td><td>1680633445000</td></tr><tr><td>dbfs:/FileStore/Bookimages/9781526382702.jpg</td><td>9781526382702.jpg</td><td>807</td><td>1680633456000</td></tr><tr><td>dbfs:/FileStore/Bookimages/9781526382726.jpg</td><td>9781526382726.jpg</td><td>807</td><td>1680633466000</td></tr><tr><td>dbfs:/FileStore/Bookimages/9781526382733.jpg</td><td>9781526382733.jpg</td><td>807</td><td>1680633477000</td></tr><tr><td>dbfs:/FileStore/Bookimages/9781526382740.jpg</td><td>9781526382740.jpg</td><td>807</td><td>1680633488000</td></tr><tr><td>dbfs:/FileStore/Bookimages/9781526382757.jpg</td><td>9781526382757.jpg</td><td>807</td><td>1680633498000</td></tr><tr><td>dbfs:/FileStore/Bookimages/9781526382764.jpg</td><td>9781526382764.jpg</td><td>807</td><td>1680633509000</td></tr><tr><td>dbfs:/FileStore/Bookimages/9781526383044.jpg</td><td>9781526383044.jpg</td><td>807</td><td>1680633519000</td></tr><tr><td>dbfs:/FileStore/Bookimages/9781526629395.jpg</td><td>9781526629395.jpg</td><td>807</td><td>1680627973000</td></tr><tr><td>dbfs:/FileStore/Bookimages/9781526632852.jpg</td><td>9781526632852.jpg</td><td>807</td><td>1680621725000</td></tr><tr><td>dbfs:/FileStore/Bookimages/9781526637895.jpg</td><td>9781526637895.jpg</td><td>23628</td><td>1680623644000</td></tr><tr><td>dbfs:/FileStore/Bookimages/9781526652041.jpg</td><td>9781526652041.jpg</td><td>807</td><td>1680621736000</td></tr><tr><td>dbfs:/FileStore/Bookimages/9781529001730.jpg</td><td>9781529001730.jpg</td><td>807</td><td>1680633319000</td></tr><tr><td>dbfs:/FileStore/Bookimages/9781529001761.jpg</td><td>9781529001761.jpg</td><td>807</td><td>1680633329000</td></tr><tr><td>dbfs:/FileStore/Bookimages/9781529013061.jpg</td><td>9781529013061.jpg</td><td>807</td><td>1680623654000</td></tr><tr><td>dbfs:/FileStore/Bookimages/9781529013085.jpg</td><td>9781529013085.jpg</td><td>807</td><td>1680623665000</td></tr><tr><td>dbfs:/FileStore/Bookimages/9781529013108.jpg</td><td>9781529013108.jpg</td><td>31247</td><td>1680623676000</td></tr><tr><td>dbfs:/FileStore/Bookimages/9781529013122.jpg</td><td>9781529013122.jpg</td><td>807</td><td>1680623686000</td></tr><tr><td>dbfs:/FileStore/Bookimages/9781529033342.jpg</td><td>9781529033342.jpg</td><td>807</td><td>1680623697000</td></tr><tr><td>dbfs:/FileStore/Bookimages/9781529034523.jpg</td><td>9781529034523.jpg</td><td>19988</td><td>1680627920000</td></tr><tr><td>dbfs:/FileStore/Bookimages/9781529034530.jpg</td><td>9781529034530.jpg</td><td>20808</td><td>1680627931000</td></tr><tr><td>dbfs:/FileStore/Bookimages/9781529048360.jpg</td><td>9781529048360.jpg</td><td>17912</td><td>1680623453000</td></tr><tr><td>dbfs:/FileStore/Bookimages/9781529048384.jpg</td><td>9781529048384.jpg</td><td>18520</td><td>1680623464000</td></tr><tr><td>dbfs:/FileStore/Bookimages/9781529052299.jpg</td><td>9781529052299.jpg</td><td>17654</td><td>1680623475000</td></tr><tr><td>dbfs:/FileStore/Bookimages/9781529063851.jpg</td><td>9781529063851.jpg</td><td>807</td><td>1680623485000</td></tr><tr><td>dbfs:/FileStore/Bookimages/9781529063950.jpg</td><td>9781529063950.jpg</td><td>807</td><td>1680623496000</td></tr><tr><td>dbfs:/FileStore/Bookimages/9781529063974.jpg</td><td>9781529063974.jpg</td><td>807</td><td>1680623506000</td></tr><tr><td>dbfs:/FileStore/Bookimages/9781529069327.jpg</td><td>9781529069327.jpg</td><td>807</td><td>1680623517000</td></tr><tr><td>dbfs:/FileStore/Bookimages/9781529072655.jpg</td><td>9781529072655.jpg</td><td>28029</td><td>1680623528000</td></tr><tr><td>dbfs:/FileStore/Bookimages/9781529081541.jpg</td><td>9781529081541.jpg</td><td>807</td><td>1680623538000</td></tr><tr><td>dbfs:/FileStore/Bookimages/9781529084603.jpg</td><td>9781529084603.jpg</td><td>807</td><td>1680623549000</td></tr><tr><td>dbfs:/FileStore/Bookimages/9781529084610.jpg</td><td>9781529084610.jpg</td><td>807</td><td>1680623559000</td></tr><tr><td>dbfs:/FileStore/Bookimages/9781529084627.jpg</td><td>9781529084627.jpg</td><td>807</td><td>1680623570000</td></tr><tr><td>dbfs:/FileStore/Bookimages/9781529084634.jpg</td><td>9781529084634.jpg</td><td>807</td><td>1680623580000</td></tr><tr><td>dbfs:/FileStore/Bookimages/9781529084641.jpg</td><td>9781529084641.jpg</td><td>807</td><td>1680623591000</td></tr><tr><td>dbfs:/FileStore/Bookimages/9781529084658.jpg</td><td>9781529084658.jpg</td><td>807</td><td>1680623601000</td></tr><tr><td>dbfs:/FileStore/Bookimages/9781529084665.jpg</td><td>9781529084665.jpg</td><td>807</td><td>1680623612000</td></tr><tr><td>dbfs:/FileStore/Bookimages/9781529084672.jpg</td><td>9781529084672.jpg</td><td>807</td><td>1680623623000</td></tr><tr><td>dbfs:/FileStore/Bookimages/9781529084689.jpg</td><td>9781529084689.jpg</td><td>807</td><td>1680623633000</td></tr><tr><td>dbfs:/FileStore/Bookimages/9781529088601.jpg</td><td>9781529088601.jpg</td><td>807</td><td>1680629633000</td></tr><tr><td>dbfs:/FileStore/Bookimages/9781529088663.jpg</td><td>9781529088663.jpg</td><td>807</td><td>1680627633000</td></tr><tr><td>dbfs:/FileStore/Bookimages/9781529099157.jpg</td><td>9781529099157.jpg</td><td>807</td><td>1680627644000</td></tr><tr><td>dbfs:/FileStore/Bookimages/9781529119664.jpg</td><td>9781529119664.jpg</td><td>807</td><td>1680621747000</td></tr><tr><td>dbfs:/FileStore/Bookimages/9781529120066.jpg</td><td>9781529120066.jpg</td><td>807</td><td>1680621757000</td></tr><tr><td>dbfs:/FileStore/Bookimages/9781529120202.jpg</td><td>9781529120202.jpg</td><td>807</td><td>1680627942000</td></tr><tr><td>dbfs:/FileStore/Bookimages/9781529120219.jpg</td><td>9781529120219.jpg</td><td>807</td><td>1680627952000</td></tr><tr><td>dbfs:/FileStore/Bookimages/9781529120226.jpg</td><td>9781529120226.jpg</td><td>807</td><td>1680627963000</td></tr><tr><td>dbfs:/FileStore/Bookimages/9781529129984.jpg</td><td>9781529129984.jpg</td><td>25102</td><td>1680621715000</td></tr><tr><td>dbfs:/FileStore/Bookimages/9781529500561.jpg</td><td>9781529500561.jpg</td><td>807</td><td>1680629284000</td></tr><tr><td>dbfs:/FileStore/Bookimages/9781529502657.jpg</td><td>9781529502657.jpg</td><td>807</td><td>1680629675000</td></tr><tr><td>dbfs:/FileStore/Bookimages/9781529502886.jpg</td><td>9781529502886.jpg</td><td>807</td><td>1680629686000</td></tr><tr><td>dbfs:/FileStore/Bookimages/9781534443792.jpg</td><td>9781534443792.jpg</td><td>21049</td><td>1680622664000</td></tr><tr><td>dbfs:/FileStore/Bookimages/9781534455429.jpg</td><td>9781534455429.jpg</td><td>19491</td><td>1680622674000</td></tr><tr><td>dbfs:/FileStore/Bookimages/9781534457393.jpg</td><td>9781534457393.jpg</td><td>807</td><td>1680623293000</td></tr><tr><td>dbfs:/FileStore/Bookimages/9781534457423.jpg</td><td>9781534457423.jpg</td><td>28105</td><td>1680623304000</td></tr><tr><td>dbfs:/FileStore/Bookimages/9781534460256.jpg</td><td>9781534460256.jpg</td><td>807</td><td>1680638558000</td></tr><tr><td>dbfs:/FileStore/Bookimages/9781534460287.jpg</td><td>9781534460287.jpg</td><td>19457</td><td>1680638569000</td></tr><tr><td>dbfs:/FileStore/Bookimages/9781534465428.jpg</td><td>9781534465428.jpg</td><td>21480</td><td>1680638580000</td></tr><tr><td>dbfs:/FileStore/Bookimages/9781534466210.jpg</td><td>9781534466210.jpg</td><td>807</td><td>1680624229000</td></tr><tr><td>dbfs:/FileStore/Bookimages/9781534473720.jpg</td><td>9781534473720.jpg</td><td>21556</td><td>1680638548000</td></tr><tr><td>dbfs:/FileStore/Bookimages/9781534474154.jpg</td><td>9781534474154.jpg</td><td>807</td><td>1680622717000</td></tr><tr><td>dbfs:/FileStore/Bookimages/9781534477889.jpg</td><td>9781534477889.jpg</td><td>11213</td><td>1680638634000</td></tr><tr><td>dbfs:/FileStore/Bookimages/9781534478350.jpg</td><td>9781534478350.jpg</td><td>19955</td><td>1680622727000</td></tr><tr><td>dbfs:/FileStore/Bookimages/9781534479449.jpg</td><td>9781534479449.jpg</td><td>16666</td><td>1680638612000</td></tr><tr><td>dbfs:/FileStore/Bookimages/9781534480377.jpg</td><td>9781534480377.jpg</td><td>23347</td><td>1680638623000</td></tr><tr><td>dbfs:/FileStore/Bookimages/9781534480643.jpg</td><td>9781534480643.jpg</td><td>807</td><td>1680622685000</td></tr><tr><td>dbfs:/FileStore/Bookimages/9781534485464.jpg</td><td>9781534485464.jpg</td><td>21268</td><td>1680638591000</td></tr><tr><td>dbfs:/FileStore/Bookimages/9781534485778.jpg</td><td>9781534485778.jpg</td><td>28153</td><td>1680622739000</td></tr><tr><td>dbfs:/FileStore/Bookimages/9781534485808.jpg</td><td>9781534485808.jpg</td><td>24907</td><td>1680622750000</td></tr><tr><td>dbfs:/FileStore/Bookimages/9781534485839.jpg</td><td>9781534485839.jpg</td><td>807</td><td>1680622760000</td></tr><tr><td>dbfs:/FileStore/Bookimages/9781534487116.jpg</td><td>9781534487116.jpg</td><td>807</td><td>1680622771000</td></tr><tr><td>dbfs:/FileStore/Bookimages/9781534494688.jpg</td><td>9781534494688.jpg</td><td>807</td><td>1680622781000</td></tr><tr><td>dbfs:/FileStore/Bookimages/9781534495975.jpg</td><td>9781534495975.jpg</td><td>807</td><td>1680638602000</td></tr><tr><td>dbfs:/FileStore/Bookimages/9781534496668.jpg</td><td>9781534496668.jpg</td><td>11388</td><td>1680622695000</td></tr><tr><td>dbfs:/FileStore/Bookimages/9781534499256.jpg</td><td>9781534499256.jpg</td><td>16356</td><td>1680622706000</td></tr><tr><td>dbfs:/FileStore/Bookimages/9781545800058.jpg</td><td>9781545800058.jpg</td><td>807</td><td>1680621226000</td></tr><tr><td>dbfs:/FileStore/Bookimages/9781545801291.jpg</td><td>9781545801291.jpg</td><td>807</td><td>1680621237000</td></tr><tr><td>dbfs:/FileStore/Bookimages/9781545801369.jpg</td><td>9781545801369.jpg</td><td>807</td><td>1680621247000</td></tr><tr><td>dbfs:/FileStore/Bookimages/9781545801406.jpg</td><td>9781545801406.jpg</td><td>807</td><td>1680621258000</td></tr><tr><td>dbfs:/FileStore/Bookimages/9781545801543.jpg</td><td>9781545801543.jpg</td><td>807</td><td>1680621269000</td></tr><tr><td>dbfs:/FileStore/Bookimages/9781545801642.jpg</td><td>9781545801642.jpg</td><td>20844</td><td>1680621279000</td></tr><tr><td>dbfs:/FileStore/Bookimages/9781545801659.jpg</td><td>9781545801659.jpg</td><td>32068</td><td>1680621090000</td></tr><tr><td>dbfs:/FileStore/Bookimages/9781545802045.jpg</td><td>9781545802045.jpg</td><td>26406</td><td>1680621102000</td></tr><tr><td>dbfs:/FileStore/Bookimages/9781545802106.jpg</td><td>9781545802106.jpg</td><td>32209</td><td>1680621114000</td></tr><tr><td>dbfs:/FileStore/Bookimages/9781545802168.jpg</td><td>9781545802168.jpg</td><td>19193</td><td>1680621126000</td></tr><tr><td>dbfs:/FileStore/Bookimages/9781545802175.jpg</td><td>9781545802175.jpg</td><td>19193</td><td>1680621138000</td></tr><tr><td>dbfs:/FileStore/Bookimages/9781545802182.jpg</td><td>9781545802182.jpg</td><td>23802</td><td>1680621151000</td></tr><tr><td>dbfs:/FileStore/Bookimages/9781545802199.jpg</td><td>9781545802199.jpg</td><td>23802</td><td>1680621163000</td></tr><tr><td>dbfs:/FileStore/Bookimages/9781545803240.jpg</td><td>9781545803240.jpg</td><td>807</td><td>1680621173000</td></tr><tr><td>dbfs:/FileStore/Bookimages/9781545803257.jpg</td><td>9781545803257.jpg</td><td>807</td><td>1680621184000</td></tr><tr><td>dbfs:/FileStore/Bookimages/9781545803394.jpg</td><td>9781545803394.jpg</td><td>25920</td><td>1680621194000</td></tr><tr><td>dbfs:/FileStore/Bookimages/9781545803431.jpg</td><td>9781545803431.jpg</td><td>30019</td><td>1680621205000</td></tr><tr><td>dbfs:/FileStore/Bookimages/9781545803578.jpg</td><td>9781545803578.jpg</td><td>17544</td><td>1680621216000</td></tr><tr><td>dbfs:/FileStore/Bookimages/9781596433793.jpg</td><td>9781596433793.jpg</td><td>12415</td><td>1680636226000</td></tr><tr><td>dbfs:/FileStore/Bookimages/9781596730618.jpg</td><td>9781596730618.jpg</td><td>4404</td><td>1680629158000</td></tr><tr><td>dbfs:/FileStore/Bookimages/9781596730625.jpg</td><td>9781596730625.jpg</td><td>4740</td><td>1680629168000</td></tr><tr><td>dbfs:/FileStore/Bookimages/9781629370422.jpg</td><td>9781629370422.jpg</td><td>25699</td><td>1680635516000</td></tr><tr><td>dbfs:/FileStore/Bookimages/9781629912882.jpg</td><td>9781629912882.jpg</td><td>23836</td><td>1680620939000</td></tr><tr><td>dbfs:/FileStore/Bookimages/9781629914343.jpg</td><td>9781629914343.jpg</td><td>23059</td><td>1680620952000</td></tr><tr><td>dbfs:/FileStore/Bookimages/9781629914787.jpg</td><td>9781629914787.jpg</td><td>26818</td><td>1680620963000</td></tr><tr><td>dbfs:/FileStore/Bookimages/9781629916095.jpg</td><td>9781629916095.jpg</td><td>29559</td><td>1680620974000</td></tr><tr><td>dbfs:/FileStore/Bookimages/9781629916118.jpg</td><td>9781629916118.jpg</td><td>21310</td><td>1680620984000</td></tr><tr><td>dbfs:/FileStore/Bookimages/9781629916170.jpg</td><td>9781629916170.jpg</td><td>807</td><td>1680620995000</td></tr><tr><td>dbfs:/FileStore/Bookimages/9781629916248.jpg</td><td>9781629916248.jpg</td><td>807</td><td>1680621005000</td></tr><tr><td>dbfs:/FileStore/Bookimages/9781629917375.jpg</td><td>9781629917375.jpg</td><td>807</td><td>1680621016000</td></tr><tr><td>dbfs:/FileStore/Bookimages/9781629917405.jpg</td><td>9781629917405.jpg</td><td>807</td><td>1680621026000</td></tr><tr><td>dbfs:/FileStore/Bookimages/9781629917450.jpg</td><td>9781629917450.jpg</td><td>807</td><td>1680621037000</td></tr><tr><td>dbfs:/FileStore/Bookimages/9781629917979.jpg</td><td>9781629917979.jpg</td><td>807</td><td>1680621047000</td></tr><tr><td>dbfs:/FileStore/Bookimages/9781629918242.jpg</td><td>9781629918242.jpg</td><td>26264</td><td>1680621058000</td></tr><tr><td>dbfs:/FileStore/Bookimages/9781629918501.jpg</td><td>9781629918501.jpg</td><td>24357</td><td>1680621069000</td></tr><tr><td>dbfs:/FileStore/Bookimages/9781629918631.jpg</td><td>9781629918631.jpg</td><td>807</td><td>1680621079000</td></tr><tr><td>dbfs:/FileStore/Bookimages/9781645141501.jpg</td><td>9781645141501.jpg</td><td>807</td><td>1680620372000</td></tr><tr><td>dbfs:/FileStore/Bookimages/9781645141518.jpg</td><td>9781645141518.jpg</td><td>807</td><td>1680620382000</td></tr><tr><td>dbfs:/FileStore/Bookimages/9781645141525.jpg</td><td>9781645141525.jpg</td><td>807</td><td>1680620393000</td></tr><tr><td>dbfs:/FileStore/Bookimages/9781645141532.jpg</td><td>9781645141532.jpg</td><td>807</td><td>1680620403000</td></tr><tr><td>dbfs:/FileStore/Bookimages/9781645141549.jpg</td><td>9781645141549.jpg</td><td>807</td><td>1680620414000</td></tr><tr><td>dbfs:/FileStore/Bookimages/9781645141556.jpg</td><td>9781645141556.jpg</td><td>807</td><td>1680620424000</td></tr><tr><td>dbfs:/FileStore/Bookimages/9781646380695.jpg</td><td>9781646380695.jpg</td><td>807</td><td>1680634036000</td></tr><tr><td>dbfs:/FileStore/Bookimages/9781646381760.jpg</td><td>9781646381760.jpg</td><td>807</td><td>1680634047000</td></tr><tr><td>dbfs:/FileStore/Bookimages/9781646381845.jpg</td><td>9781646381845.jpg</td><td>20859</td><td>1680634057000</td></tr><tr><td>dbfs:/FileStore/Bookimages/9781646381869.jpg</td><td>9781646381869.jpg</td><td>807</td><td>1680634068000</td></tr><tr><td>dbfs:/FileStore/Bookimages/9781646381876.jpg</td><td>9781646381876.jpg</td><td>19643</td><td>1680634079000</td></tr><tr><td>dbfs:/FileStore/Bookimages/9781646381906.jpg</td><td>9781646381906.jpg</td><td>807</td><td>1680634089000</td></tr><tr><td>dbfs:/FileStore/Bookimages/9781646381968.jpg</td><td>9781646381968.jpg</td><td>807</td><td>1680634100000</td></tr><tr><td>dbfs:/FileStore/Bookimages/9781646382958.jpg</td><td>9781646382958.jpg</td><td>807</td><td>1680634110000</td></tr><tr><td>dbfs:/FileStore/Bookimages/9781646383320.jpg</td><td>9781646383320.jpg</td><td>807</td><td>1680634121000</td></tr><tr><td>dbfs:/FileStore/Bookimages/9781646384587.jpg</td><td>9781646384587.jpg</td><td>807</td><td>1680634131000</td></tr><tr><td>dbfs:/FileStore/Bookimages/9781665900423.jpg</td><td>9781665900423.jpg</td><td>807</td><td>1680622362000</td></tr><tr><td>dbfs:/FileStore/Bookimages/9781665900485.jpg</td><td>9781665900485.jpg</td><td>807</td><td>1680622372000</td></tr><tr><td>dbfs:/FileStore/Bookimages/9781665900782.jpg</td><td>9781665900782.jpg</td><td>807</td><td>1680638473000</td></tr><tr><td>dbfs:/FileStore/Bookimages/9781665900812.jpg</td><td>9781665900812.jpg</td><td>807</td><td>1680638537000</td></tr><tr><td>dbfs:/FileStore/Bookimages/9781665911283.jpg</td><td>9781665911283.jpg</td><td>28341</td><td>1680622792000</td></tr><tr><td>dbfs:/FileStore/Bookimages/9781665922074.jpg</td><td>9781665922074.jpg</td><td>807</td><td>1680638516000</td></tr><tr><td>dbfs:/FileStore/Bookimages/9781665931243.jpg</td><td>9781665931243.jpg</td><td>807</td><td>1680638526000</td></tr><tr><td>dbfs:/FileStore/Bookimages/9781680528121.jpg</td><td>9781680528121.jpg</td><td>18306</td><td>1680634142000</td></tr><tr><td>dbfs:/FileStore/Bookimages/9781680529333.jpg</td><td>9781680529333.jpg</td><td>807</td><td>1680634153000</td></tr><tr><td>dbfs:/FileStore/Bookimages/9781680529388.jpg</td><td>9781680529388.jpg</td><td>807</td><td>1680634163000</td></tr><tr><td>dbfs:/FileStore/Bookimages/9781680529487.jpg</td><td>9781680529487.jpg</td><td>807</td><td>1680634174000</td></tr><tr><td>dbfs:/FileStore/Bookimages/9781680529791.jpg</td><td>9781680529791.jpg</td><td>807</td><td>1680634184000</td></tr><tr><td>dbfs:/FileStore/Bookimages/9781684490981.jpg</td><td>9781684490981.jpg</td><td>15173</td><td>1680621290000</td></tr><tr><td>dbfs:/FileStore/Bookimages/9781742819860.jpg</td><td>9781742819860.jpg</td><td>807</td><td>1680620113000</td></tr><tr><td>dbfs:/FileStore/Bookimages/9781742819907.jpg</td><td>9781742819907.jpg</td><td>807</td><td>1680620124000</td></tr><tr><td>dbfs:/FileStore/Bookimages/9781743520680.jpg</td><td>9781743520680.jpg</td><td>807</td><td>1680620134000</td></tr><tr><td>dbfs:/FileStore/Bookimages/9781743520703.jpg</td><td>9781743520703.jpg</td><td>807</td><td>1680620145000</td></tr><tr><td>dbfs:/FileStore/Bookimages/9781743520710.jpg</td><td>9781743520710.jpg</td><td>34994</td><td>1680620155000</td></tr><tr><td>dbfs:/FileStore/Bookimages/9781743527764.jpg</td><td>9781743527764.jpg</td><td>807</td><td>1680634237000</td></tr><tr><td>dbfs:/FileStore/Bookimages/9781743528051.jpg</td><td>9781743528051.jpg</td><td>807</td><td>1680620166000</td></tr><tr><td>dbfs:/FileStore/Bookimages/9781743630969.jpg</td><td>9781743630969.jpg</td><td>807</td><td>1680634216000</td></tr><tr><td>dbfs:/FileStore/Bookimages/9781743632918.jpg</td><td>9781743632918.jpg</td><td>30130</td><td>1680620092000</td></tr><tr><td>dbfs:/FileStore/Bookimages/9781743638330.jpg</td><td>9781743638330.jpg</td><td>807</td><td>1680634195000</td></tr><tr><td>dbfs:/FileStore/Bookimages/9781743638354.jpg</td><td>9781743638354.jpg</td><td>807</td><td>1680634205000</td></tr><tr><td>dbfs:/FileStore/Bookimages/9781743638446.jpg</td><td>9781743638446.jpg</td><td>29844</td><td>1680620081000</td></tr><tr><td>dbfs:/FileStore/Bookimages/9781760456085.jpg</td><td>9781760456085.jpg</td><td>807</td><td>1680626170000</td></tr><tr><td>dbfs:/FileStore/Bookimages/9781760456092.jpg</td><td>9781760456092.jpg</td><td>807</td><td>1680626180000</td></tr><tr><td>dbfs:/FileStore/Bookimages/9781760456115.jpg</td><td>9781760456115.jpg</td><td>807</td><td>1680626191000</td></tr><tr><td>dbfs:/FileStore/Bookimages/9781760459468.jpg</td><td>9781760459468.jpg</td><td>807</td><td>1680626201000</td></tr><tr><td>dbfs:/FileStore/Bookimages/9781760459475.jpg</td><td>9781760459475.jpg</td><td>807</td><td>1680626212000</td></tr><tr><td>dbfs:/FileStore/Bookimages/9781772753325.jpg</td><td>9781772753325.jpg</td><td>807</td><td>1680635547000</td></tr><tr><td>dbfs:/FileStore/Bookimages/9781772754476.jpg</td><td>9781772754476.jpg</td><td>807</td><td>1680635558000</td></tr><tr><td>dbfs:/FileStore/Bookimages/9781772754872.jpg</td><td>9781772754872.jpg</td><td>807</td><td>1680635569000</td></tr><tr><td>dbfs:/FileStore/Bookimages/9781772754902.jpg</td><td>9781772754902.jpg</td><td>807</td><td>1680635579000</td></tr><tr><td>dbfs:/FileStore/Bookimages/9781772754971.jpg</td><td>9781772754971.jpg</td><td>807</td><td>1680635590000</td></tr><tr><td>dbfs:/FileStore/Bookimages/9781772755350.jpg</td><td>9781772755350.jpg</td><td>807</td><td>1680635600000</td></tr><tr><td>dbfs:/FileStore/Bookimages/9781772757507.jpg</td><td>9781772757507.jpg</td><td>807</td><td>1680635611000</td></tr><tr><td>dbfs:/FileStore/Bookimages/9781772759082.jpg</td><td>9781772759082.jpg</td><td>807</td><td>1680635622000</td></tr><tr><td>dbfs:/FileStore/Bookimages/9781772759099.jpg</td><td>9781772759099.jpg</td><td>807</td><td>1680635632000</td></tr><tr><td>dbfs:/FileStore/Bookimages/9781772759105.jpg</td><td>9781772759105.jpg</td><td>807</td><td>1680635643000</td></tr><tr><td>dbfs:/FileStore/Bookimages/9781772759129.jpg</td><td>9781772759129.jpg</td><td>807</td><td>1680635653000</td></tr><tr><td>dbfs:/FileStore/Bookimages/9781779505897.jpg</td><td>9781779505897.jpg</td><td>31915</td><td>1680635664000</td></tr><tr><td>dbfs:/FileStore/Bookimages/9781780558592.jpg</td><td>9781780558592.jpg</td><td>807</td><td>1680632243000</td></tr><tr><td>dbfs:/FileStore/Bookimages/9781780558608.jpg</td><td>9781780558608.jpg</td><td>807</td><td>1680632254000</td></tr><tr><td>dbfs:/FileStore/Bookimages/9781780558615.jpg</td><td>9781780558615.jpg</td><td>807</td><td>1680632264000</td></tr><tr><td>dbfs:/FileStore/Bookimages/9781780558622.jpg</td><td>9781780558622.jpg</td><td>807</td><td>1680631946000</td></tr><tr><td>dbfs:/FileStore/Bookimages/9781780558646.jpg</td><td>9781780558646.jpg</td><td>807</td><td>1680631957000</td></tr><tr><td>dbfs:/FileStore/Bookimages/9781780558653.jpg</td><td>9781780558653.jpg</td><td>807</td><td>1680631967000</td></tr><tr><td>dbfs:/FileStore/Bookimages/9781780558660.jpg</td><td>9781780558660.jpg</td><td>807</td><td>1680631978000</td></tr><tr><td>dbfs:/FileStore/Bookimages/9781780558677.jpg</td><td>9781780558677.jpg</td><td>807</td><td>1680631989000</td></tr><tr><td>dbfs:/FileStore/Bookimages/9781780558684.jpg</td><td>9781780558684.jpg</td><td>807</td><td>1680631999000</td></tr><tr><td>dbfs:/FileStore/Bookimages/9781781576342.jpg</td><td>9781781576342.jpg</td><td>807</td><td>1680632010000</td></tr><tr><td>dbfs:/FileStore/Bookimages/9781782099765.jpg</td><td>9781782099765.jpg</td><td>21022</td><td>1680632021000</td></tr><tr><td>dbfs:/FileStore/Bookimages/9781782356158.jpg</td><td>9781782356158.jpg</td><td>23803</td><td>1680625852000</td></tr><tr><td>dbfs:/FileStore/Bookimages/9781782356165.jpg</td><td>9781782356165.jpg</td><td>21680</td><td>1680625863000</td></tr><tr><td>dbfs:/FileStore/Bookimages/9781782356172.jpg</td><td>9781782356172.jpg</td><td>24048</td><td>1680625874000</td></tr><tr><td>dbfs:/FileStore/Bookimages/9781782356189.jpg</td><td>9781782356189.jpg</td><td>807</td><td>1680625884000</td></tr><tr><td>dbfs:/FileStore/Bookimages/9781782356196.jpg</td><td>9781782356196.jpg</td><td>23241</td><td>1680625895000</td></tr><tr><td>dbfs:/FileStore/Bookimages/9781782356219.jpg</td><td>9781782356219.jpg</td><td>21460</td><td>1680625906000</td></tr><tr><td>dbfs:/FileStore/Bookimages/9781782356226.jpg</td><td>9781782356226.jpg</td><td>807</td><td>1680625916000</td></tr><tr><td>dbfs:/FileStore/Bookimages/9781782356233.jpg</td><td>9781782356233.jpg</td><td>22646</td><td>1680625927000</td></tr><tr><td>dbfs:/FileStore/Bookimages/9781782356240.jpg</td><td>9781782356240.jpg</td><td>22558</td><td>1680625938000</td></tr><tr><td>dbfs:/FileStore/Bookimages/9781782745839.jpg</td><td>9781782745839.jpg</td><td>807</td><td>1680631925000</td></tr><tr><td>dbfs:/FileStore/Bookimages/9781782761556.jpg</td><td>9781782761556.jpg</td><td>18560</td><td>1680631936000</td></tr><tr><td>dbfs:/FileStore/Bookimages/9781782959717.jpg</td><td>9781782959717.jpg</td><td>807</td><td>1680621768000</td></tr><tr><td>dbfs:/FileStore/Bookimages/9781782959991.jpg</td><td>9781782959991.jpg</td><td>807</td><td>1680621778000</td></tr><tr><td>dbfs:/FileStore/Bookimages/9781783445936.jpg</td><td>9781783445936.jpg</td><td>807</td><td>1680636257000</td></tr><tr><td>dbfs:/FileStore/Bookimages/9781783448906.jpg</td><td>9781783448906.jpg</td><td>807</td><td>1680636268000</td></tr><tr><td>dbfs:/FileStore/Bookimages/9781783931835.jpg</td><td>9781783931835.jpg</td><td>18946</td><td>1680620071000</td></tr><tr><td>dbfs:/FileStore/Bookimages/9781783932245.jpg</td><td>9781783932245.jpg</td><td>807</td><td>1680634449000</td></tr><tr><td>dbfs:/FileStore/Bookimages/9781784402464.jpg</td><td>9781784402464.jpg</td><td>807</td><td>1680625103000</td></tr><tr><td>dbfs:/FileStore/Bookimages/9781784681470.jpg</td><td>9781784681470.jpg</td><td>807</td><td>1680633361000</td></tr><tr><td>dbfs:/FileStore/Bookimages/9781784755539.jpg</td><td>9781784755539.jpg</td><td>24920</td><td>1680633371000</td></tr><tr><td>dbfs:/FileStore/Bookimages/9781784755553.jpg</td><td>9781784755553.jpg</td><td>25463</td><td>1680633382000</td></tr><tr><td>dbfs:/FileStore/Bookimages/9781784759919.jpg</td><td>9781784759919.jpg</td><td>807</td><td>1680633393000</td></tr><tr><td>dbfs:/FileStore/Bookimages/9781784759926.jpg</td><td>9781784759926.jpg</td><td>807</td><td>1680633403000</td></tr><tr><td>dbfs:/FileStore/Bookimages/9781784759933.jpg</td><td>9781784759933.jpg</td><td>807</td><td>1680633414000</td></tr><tr><td>dbfs:/FileStore/Bookimages/9781784759957.jpg</td><td>9781784759957.jpg</td><td>807</td><td>1680633424000</td></tr><tr><td>dbfs:/FileStore/Bookimages/9781784936082.jpg</td><td>9781784936082.jpg</td><td>807</td><td>1680633435000</td></tr><tr><td>dbfs:/FileStore/Bookimages/9781785984280.jpg</td><td>9781785984280.jpg</td><td>807</td><td>1680626117000</td></tr><tr><td>dbfs:/FileStore/Bookimages/9781785989087.jpg</td><td>9781785989087.jpg</td><td>807</td><td>1680626128000</td></tr><tr><td>dbfs:/FileStore/Bookimages/9781786064059.jpg</td><td>9781786064059.jpg</td><td>807</td><td>1680633340000</td></tr><tr><td>dbfs:/FileStore/Bookimages/9781786064622.jpg</td><td>9781786064622.jpg</td><td>807</td><td>1680633350000</td></tr><tr><td>dbfs:/FileStore/Bookimages/9781786177445.jpg</td><td>9781786177445.jpg</td><td>807</td><td>1680632591000</td></tr><tr><td>dbfs:/FileStore/Bookimages/9781786177452.jpg</td><td>9781786177452.jpg</td><td>807</td><td>1680632601000</td></tr><tr><td>dbfs:/FileStore/Bookimages/9781786179241.jpg</td><td>9781786179241.jpg</td><td>807</td><td>1680632612000</td></tr><tr><td>dbfs:/FileStore/Bookimages/9781786270382.jpg</td><td>9781786270382.jpg</td><td>807</td><td>1680632622000</td></tr><tr><td>dbfs:/FileStore/Bookimages/9781786271914.jpg</td><td>9781786271914.jpg</td><td>807</td><td>1680632633000</td></tr><tr><td>dbfs:/FileStore/Bookimages/9781786707024.jpg</td><td>9781786707024.jpg</td><td>807</td><td>1680632643000</td></tr><tr><td>dbfs:/FileStore/Bookimages/9781786909350.jpg</td><td>9781786909350.jpg</td><td>807</td><td>1680624303000</td></tr><tr><td>dbfs:/FileStore/Bookimages/9781786909367.jpg</td><td>9781786909367.jpg</td><td>807</td><td>1680624314000</td></tr><tr><td>dbfs:/FileStore/Bookimages/9781786909374.jpg</td><td>9781786909374.jpg</td><td>807</td><td>1680624324000</td></tr><tr><td>dbfs:/FileStore/Bookimages/9781786909381.jpg</td><td>9781786909381.jpg</td><td>807</td><td>1680624335000</td></tr><tr><td>dbfs:/FileStore/Bookimages/9781786909404.jpg</td><td>9781786909404.jpg</td><td>807</td><td>1680624345000</td></tr><tr><td>dbfs:/FileStore/Bookimages/9781786922670.jpg</td><td>9781786922670.jpg</td><td>807</td><td>1680626149000</td></tr><tr><td>dbfs:/FileStore/Bookimages/9781786922779.jpg</td><td>9781786922779.jpg</td><td>807</td><td>1680626159000</td></tr><tr><td>dbfs:/FileStore/Bookimages/9781786924575.jpg</td><td>9781786924575.jpg</td><td>807</td><td>1680637303000</td></tr><tr><td>dbfs:/FileStore/Bookimages/9781787412781.jpg</td><td>9781787412781.jpg</td><td>27434</td><td>1680632222000</td></tr><tr><td>dbfs:/FileStore/Bookimages/9781787412798.jpg</td><td>9781787412798.jpg</td><td>807</td><td>1680632233000</td></tr><tr><td>dbfs:/FileStore/Bookimages/9781787415669.jpg</td><td>9781787415669.jpg</td><td>807</td><td>1680632031000</td></tr><tr><td>dbfs:/FileStore/Bookimages/9781788101417.jpg</td><td>9781788101417.jpg</td><td>807</td><td>1680636331000</td></tr><tr><td>dbfs:/FileStore/Bookimages/9781788101424.jpg</td><td>9781788101424.jpg</td><td>807</td><td>1680636342000</td></tr><tr><td>dbfs:/FileStore/Bookimages/9781788101455.jpg</td><td>9781788101455.jpg</td><td>29554</td><td>1680636353000</td></tr><tr><td>dbfs:/FileStore/Bookimages/9781788101479.jpg</td><td>9781788101479.jpg</td><td>807</td><td>1680636363000</td></tr><tr><td>dbfs:/FileStore/Bookimages/9781788101547.jpg</td><td>9781788101547.jpg</td><td>807</td><td>1680636374000</td></tr><tr><td>dbfs:/FileStore/Bookimages/9781788101639.jpg</td><td>9781788101639.jpg</td><td>807</td><td>1680636385000</td></tr><tr><td>dbfs:/FileStore/Bookimages/9781788104111.jpg</td><td>9781788104111.jpg</td><td>30467</td><td>1680636396000</td></tr><tr><td>dbfs:/FileStore/Bookimages/9781788104128.jpg</td><td>9781788104128.jpg</td><td>807</td><td>1680636406000</td></tr><tr><td>dbfs:/FileStore/Bookimages/9781788104708.jpg</td><td>9781788104708.jpg</td><td>807</td><td>1680636417000</td></tr><tr><td>dbfs:/FileStore/Bookimages/9781788104715.jpg</td><td>9781788104715.jpg</td><td>807</td><td>1680636427000</td></tr><tr><td>dbfs:/FileStore/Bookimages/9781788104722.jpg</td><td>9781788104722.jpg</td><td>807</td><td>1680636438000</td></tr><tr><td>dbfs:/FileStore/Bookimages/9781788108645.jpg</td><td>9781788108645.jpg</td><td>18925</td><td>1680624640000</td></tr><tr><td>dbfs:/FileStore/Bookimages/9781788241182.jpg</td><td>9781788241182.jpg</td><td>807</td><td>1680632042000</td></tr><tr><td>dbfs:/FileStore/Bookimages/9781788242301.jpg</td><td>9781788242301.jpg</td><td>807</td><td>1680632052000</td></tr><tr><td>dbfs:/FileStore/Bookimages/9781788242363.jpg</td><td>9781788242363.jpg</td><td>807</td><td>1680632063000</td></tr><tr><td>dbfs:/FileStore/Bookimages/9781788242967.jpg</td><td>9781788242967.jpg</td><td>807</td><td>1680632074000</td></tr><tr><td>dbfs:/FileStore/Bookimages/9781788242974.jpg</td><td>9781788242974.jpg</td><td>807</td><td>1680632084000</td></tr><tr><td>dbfs:/FileStore/Bookimages/9781788242981.jpg</td><td>9781788242981.jpg</td><td>807</td><td>1680632095000</td></tr><tr><td>dbfs:/FileStore/Bookimages/9781788243247.jpg</td><td>9781788243247.jpg</td><td>807</td><td>1680632106000</td></tr><tr><td>dbfs:/FileStore/Bookimages/9781788243599.jpg</td><td>9781788243599.jpg</td><td>807</td><td>1680632116000</td></tr><tr><td>dbfs:/FileStore/Bookimages/9781788244282.jpg</td><td>9781788244282.jpg</td><td>807</td><td>1680632127000</td></tr><tr><td>dbfs:/FileStore/Bookimages/9781788244299.jpg</td><td>9781788244299.jpg</td><td>807</td><td>1680632137000</td></tr><tr><td>dbfs:/FileStore/Bookimages/9781788244305.jpg</td><td>9781788244305.jpg</td><td>807</td><td>1680632148000</td></tr><tr><td>dbfs:/FileStore/Bookimages/9781788244343.jpg</td><td>9781788244343.jpg</td><td>807</td><td>1680632158000</td></tr><tr><td>dbfs:/FileStore/Bookimages/9781788432719.jpg</td><td>9781788432719.jpg</td><td>807</td><td>1680625948000</td></tr><tr><td>dbfs:/FileStore/Bookimages/9781788432849.jpg</td><td>9781788432849.jpg</td><td>807</td><td>1680625959000</td></tr><tr><td>dbfs:/FileStore/Bookimages/9781788436816.jpg</td><td>9781788436816.jpg</td><td>807</td><td>1680625969000</td></tr><tr><td>dbfs:/FileStore/Bookimages/9781788436830.jpg</td><td>9781788436830.jpg</td><td>807</td><td>1680625980000</td></tr><tr><td>dbfs:/FileStore/Bookimages/9781788436847.jpg</td><td>9781788436847.jpg</td><td>807</td><td>1680625990000</td></tr><tr><td>dbfs:/FileStore/Bookimages/9781788436854.jpg</td><td>9781788436854.jpg</td><td>807</td><td>1680626001000</td></tr><tr><td>dbfs:/FileStore/Bookimages/9781788436861.jpg</td><td>9781788436861.jpg</td><td>807</td><td>1680626012000</td></tr><tr><td>dbfs:/FileStore/Bookimages/9781788436892.jpg</td><td>9781788436892.jpg</td><td>807</td><td>1680626022000</td></tr><tr><td>dbfs:/FileStore/Bookimages/9781788436908.jpg</td><td>9781788436908.jpg</td><td>807</td><td>1680626033000</td></tr><tr><td>dbfs:/FileStore/Bookimages/9781788436915.jpg</td><td>9781788436915.jpg</td><td>807</td><td>1680626043000</td></tr><tr><td>dbfs:/FileStore/Bookimages/9781788436939.jpg</td><td>9781788436939.jpg</td><td>807</td><td>1680626054000</td></tr><tr><td>dbfs:/FileStore/Bookimages/9781788437011.jpg</td><td>9781788437011.jpg</td><td>807</td><td>1680626064000</td></tr><tr><td>dbfs:/FileStore/Bookimages/9781788437028.jpg</td><td>9781788437028.jpg</td><td>807</td><td>1680626075000</td></tr><tr><td>dbfs:/FileStore/Bookimages/9781788437042.jpg</td><td>9781788437042.jpg</td><td>807</td><td>1680625831000</td></tr><tr><td>dbfs:/FileStore/Bookimages/9781788437097.jpg</td><td>9781788437097.jpg</td><td>807</td><td>1680625841000</td></tr><tr><td>dbfs:/FileStore/Bookimages/9781788439572.jpg</td><td>9781788439572.jpg</td><td>807</td><td>1680634247000</td></tr><tr><td>dbfs:/FileStore/Bookimages/9781788439848.jpg</td><td>9781788439848.jpg</td><td>807</td><td>1680625167000</td></tr><tr><td>dbfs:/FileStore/Bookimages/9781788439886.jpg</td><td>9781788439886.jpg</td><td>807</td><td>1680625177000</td></tr><tr><td>dbfs:/FileStore/Bookimages/9781788439909.jpg</td><td>9781788439909.jpg</td><td>807</td><td>1680625188000</td></tr><tr><td>dbfs:/FileStore/Bookimages/9781788439992.jpg</td><td>9781788439992.jpg</td><td>807</td><td>1680625198000</td></tr><tr><td>dbfs:/FileStore/Bookimages/9781789051070.jpg</td><td>9781789051070.jpg</td><td>807</td><td>1680631831000</td></tr><tr><td>dbfs:/FileStore/Bookimages/9781789051209.jpg</td><td>9781789051209.jpg</td><td>807</td><td>1680636575000</td></tr><tr><td>dbfs:/FileStore/Bookimages/9781789055153.jpg</td><td>9781789055153.jpg</td><td>807</td><td>1680624682000</td></tr><tr><td>dbfs:/FileStore/Bookimages/9781789055160.jpg</td><td>9781789055160.jpg</td><td>807</td><td>1680624693000</td></tr><tr><td>dbfs:/FileStore/Bookimages/9781789056211.jpg</td><td>9781789056211.jpg</td><td>807</td><td>1680636585000</td></tr><tr><td>dbfs:/FileStore/Bookimages/9781789056280.jpg</td><td>9781789056280.jpg</td><td>807</td><td>1680624704000</td></tr><tr><td>dbfs:/FileStore/Bookimages/9781789056419.jpg</td><td>9781789056419.jpg</td><td>807</td><td>1680626222000</td></tr><tr><td>dbfs:/FileStore/Bookimages/9781789058376.jpg</td><td>9781789058376.jpg</td><td>807</td><td>1680631820000</td></tr><tr><td>dbfs:/FileStore/Bookimages/9781789059533.jpg</td><td>9781789059533.jpg</td><td>807</td><td>1680624714000</td></tr><tr><td>dbfs:/FileStore/Bookimages/9781789059632.jpg</td><td>9781789059632.jpg</td><td>807</td><td>1680631810000</td></tr><tr><td>dbfs:/FileStore/Bookimages/9781789470956.jpg</td><td>9781789470956.jpg</td><td>807</td><td>1680636448000</td></tr><tr><td>dbfs:/FileStore/Bookimages/9781789470963.jpg</td><td>9781789470963.jpg</td><td>807</td><td>1680625209000</td></tr><tr><td>dbfs:/FileStore/Bookimages/9781789471915.jpg</td><td>9781789471915.jpg</td><td>807</td><td>1680625219000</td></tr><tr><td>dbfs:/FileStore/Bookimages/9781789471922.jpg</td><td>9781789471922.jpg</td><td>807</td><td>1680625230000</td></tr><tr><td>dbfs:/FileStore/Bookimages/9781789471953.jpg</td><td>9781789471953.jpg</td><td>807</td><td>1680625240000</td></tr><tr><td>dbfs:/FileStore/Bookimages/9781789471984.jpg</td><td>9781789471984.jpg</td><td>807</td><td>1680625251000</td></tr><tr><td>dbfs:/FileStore/Bookimages/9781789471991.jpg</td><td>9781789471991.jpg</td><td>807</td><td>1680625261000</td></tr><tr><td>dbfs:/FileStore/Bookimages/9781789472554.jpg</td><td>9781789472554.jpg</td><td>807</td><td>1680625272000</td></tr><tr><td>dbfs:/FileStore/Bookimages/9781789472660.jpg</td><td>9781789472660.jpg</td><td>807</td><td>1680625282000</td></tr><tr><td>dbfs:/FileStore/Bookimages/9781789472714.jpg</td><td>9781789472714.jpg</td><td>807</td><td>1680625293000</td></tr><tr><td>dbfs:/FileStore/Bookimages/9781789472721.jpg</td><td>9781789472721.jpg</td><td>807</td><td>1680625303000</td></tr><tr><td>dbfs:/FileStore/Bookimages/9781789472745.jpg</td><td>9781789472745.jpg</td><td>807</td><td>1680634333000</td></tr><tr><td>dbfs:/FileStore/Bookimages/9781789472769.jpg</td><td>9781789472769.jpg</td><td>807</td><td>1680625114000</td></tr><tr><td>dbfs:/FileStore/Bookimages/9781789474022.jpg</td><td>9781789474022.jpg</td><td>807</td><td>1680625124000</td></tr><tr><td>dbfs:/FileStore/Bookimages/9781789474060.jpg</td><td>9781789474060.jpg</td><td>807</td><td>1680634344000</td></tr><tr><td>dbfs:/FileStore/Bookimages/9781789474077.jpg</td><td>9781789474077.jpg</td><td>807</td><td>1680625135000</td></tr><tr><td>dbfs:/FileStore/Bookimages/9781789474640.jpg</td><td>9781789474640.jpg</td><td>807</td><td>1680634354000</td></tr><tr><td>dbfs:/FileStore/Bookimages/9781789474657.jpg</td><td>9781789474657.jpg</td><td>807</td><td>1680634365000</td></tr><tr><td>dbfs:/FileStore/Bookimages/9781789474664.jpg</td><td>9781789474664.jpg</td><td>807</td><td>1680634375000</td></tr><tr><td>dbfs:/FileStore/Bookimages/9781789474671.jpg</td><td>9781789474671.jpg</td><td>807</td><td>1680634386000</td></tr><tr><td>dbfs:/FileStore/Bookimages/9781789474848.jpg</td><td>9781789474848.jpg</td><td>807</td><td>1680634396000</td></tr><tr><td>dbfs:/FileStore/Bookimages/9781789474862.jpg</td><td>9781789474862.jpg</td><td>807</td><td>1680634407000</td></tr><tr><td>dbfs:/FileStore/Bookimages/9781789475685.jpg</td><td>9781789475685.jpg</td><td>807</td><td>1680625314000</td></tr><tr><td>dbfs:/FileStore/Bookimages/9781789475692.jpg</td><td>9781789475692.jpg</td><td>807</td><td>1680625324000</td></tr><tr><td>dbfs:/FileStore/Bookimages/9781789475722.jpg</td><td>9781789475722.jpg</td><td>807</td><td>1680625335000</td></tr><tr><td>dbfs:/FileStore/Bookimages/9781789475739.jpg</td><td>9781789475739.jpg</td><td>807</td><td>1680625345000</td></tr><tr><td>dbfs:/FileStore/Bookimages/9781789476040.jpg</td><td>9781789476040.jpg</td><td>807</td><td>1680625356000</td></tr><tr><td>dbfs:/FileStore/Bookimages/9781789476057.jpg</td><td>9781789476057.jpg</td><td>807</td><td>1680625366000</td></tr><tr><td>dbfs:/FileStore/Bookimages/9781789476064.jpg</td><td>9781789476064.jpg</td><td>807</td><td>1680625377000</td></tr><tr><td>dbfs:/FileStore/Bookimages/9781789476071.jpg</td><td>9781789476071.jpg</td><td>807</td><td>1680625388000</td></tr><tr><td>dbfs:/FileStore/Bookimages/9781789476101.jpg</td><td>9781789476101.jpg</td><td>807</td><td>1680625398000</td></tr><tr><td>dbfs:/FileStore/Bookimages/9781789477283.jpg</td><td>9781789477283.jpg</td><td>807</td><td>1680625409000</td></tr><tr><td>dbfs:/FileStore/Bookimages/9781789477344.jpg</td><td>9781789477344.jpg</td><td>807</td><td>1680625419000</td></tr><tr><td>dbfs:/FileStore/Bookimages/9781789477443.jpg</td><td>9781789477443.jpg</td><td>807</td><td>1680625430000</td></tr><tr><td>dbfs:/FileStore/Bookimages/9781789477467.jpg</td><td>9781789477467.jpg</td><td>807</td><td>1680625440000</td></tr><tr><td>dbfs:/FileStore/Bookimages/9781789477474.jpg</td><td>9781789477474.jpg</td><td>807</td><td>1680625451000</td></tr><tr><td>dbfs:/FileStore/Bookimages/9781789477511.jpg</td><td>9781789477511.jpg</td><td>807</td><td>1680625462000</td></tr><tr><td>dbfs:/FileStore/Bookimages/9781789477535.jpg</td><td>9781789477535.jpg</td><td>807</td><td>1680625472000</td></tr><tr><td>dbfs:/FileStore/Bookimages/9781789477566.jpg</td><td>9781789477566.jpg</td><td>807</td><td>1680636596000</td></tr><tr><td>dbfs:/FileStore/Bookimages/9781789477962.jpg</td><td>9781789477962.jpg</td><td>807</td><td>1680625483000</td></tr><tr><td>dbfs:/FileStore/Bookimages/9781789478372.jpg</td><td>9781789478372.jpg</td><td>807</td><td>1680634323000</td></tr><tr><td>dbfs:/FileStore/Bookimages/9781789478532.jpg</td><td>9781789478532.jpg</td><td>807</td><td>1680625146000</td></tr><tr><td>dbfs:/FileStore/Bookimages/9781789478556.jpg</td><td>9781789478556.jpg</td><td>807</td><td>1680625156000</td></tr><tr><td>dbfs:/FileStore/Bookimages/9781797211206.jpg</td><td>9781797211206.jpg</td><td>807</td><td>1680629580000</td></tr><tr><td>dbfs:/FileStore/Bookimages/9781797214207.jpg</td><td>9781797214207.jpg</td><td>807</td><td>1680629590000</td></tr><tr><td>dbfs:/FileStore/Bookimages/9781797215198.jpg</td><td>9781797215198.jpg</td><td>807</td><td>1680629601000</td></tr><tr><td>dbfs:/FileStore/Bookimages/9781800220201.jpg</td><td>9781800220201.jpg</td><td>807</td><td>1680636459000</td></tr><tr><td>dbfs:/FileStore/Bookimages/9781800220225.jpg</td><td>9781800220225.jpg</td><td>807</td><td>1680636469000</td></tr><tr><td>dbfs:/FileStore/Bookimages/9781800220232.jpg</td><td>9781800220232.jpg</td><td>807</td><td>1680636480000</td></tr><tr><td>dbfs:/FileStore/Bookimages/9781800221376.jpg</td><td>9781800221376.jpg</td><td>807</td><td>1680624830000</td></tr><tr><td>dbfs:/FileStore/Bookimages/9781800221383.jpg</td><td>9781800221383.jpg</td><td>807</td><td>1680624840000</td></tr><tr><td>dbfs:/FileStore/Bookimages/9781800221390.jpg</td><td>9781800221390.jpg</td><td>807</td><td>1680624851000</td></tr><tr><td>dbfs:/FileStore/Bookimages/9781800221406.jpg</td><td>9781800221406.jpg</td><td>807</td><td>1680636522000</td></tr><tr><td>dbfs:/FileStore/Bookimages/9781800221413.jpg</td><td>9781800221413.jpg</td><td>807</td><td>1680636533000</td></tr><tr><td>dbfs:/FileStore/Bookimages/9781800221604.jpg</td><td>9781800221604.jpg</td><td>807</td><td>1680636543000</td></tr><tr><td>dbfs:/FileStore/Bookimages/9781800222076.jpg</td><td>9781800222076.jpg</td><td>807</td><td>1680636554000</td></tr><tr><td>dbfs:/FileStore/Bookimages/9781800222083.jpg</td><td>9781800222083.jpg</td><td>807</td><td>1680624725000</td></tr><tr><td>dbfs:/FileStore/Bookimages/9781800222144.jpg</td><td>9781800222144.jpg</td><td>807</td><td>1680624735000</td></tr><tr><td>dbfs:/FileStore/Bookimages/9781800222199.jpg</td><td>9781800222199.jpg</td><td>807</td><td>1680624746000</td></tr><tr><td>dbfs:/FileStore/Bookimages/9781800222458.jpg</td><td>9781800222458.jpg</td><td>807</td><td>1680624756000</td></tr><tr><td>dbfs:/FileStore/Bookimages/9781800222465.jpg</td><td>9781800222465.jpg</td><td>807</td><td>1680624767000</td></tr><tr><td>dbfs:/FileStore/Bookimages/9781800222472.jpg</td><td>9781800222472.jpg</td><td>807</td><td>1680624777000</td></tr><tr><td>dbfs:/FileStore/Bookimages/9781800222489.jpg</td><td>9781800222489.jpg</td><td>807</td><td>1680624788000</td></tr><tr><td>dbfs:/FileStore/Bookimages/9781800222502.jpg</td><td>9781800222502.jpg</td><td>807</td><td>1680624798000</td></tr><tr><td>dbfs:/FileStore/Bookimages/9781800222519.jpg</td><td>9781800222519.jpg</td><td>807</td><td>1680624809000</td></tr><tr><td>dbfs:/FileStore/Bookimages/9781800222526.jpg</td><td>9781800222526.jpg</td><td>807</td><td>1680624819000</td></tr><tr><td>dbfs:/FileStore/Bookimages/9781800222700.jpg</td><td>9781800222700.jpg</td><td>807</td><td>1680636564000</td></tr><tr><td>dbfs:/FileStore/Bookimages/9781800222762.jpg</td><td>9781800222762.jpg</td><td>807</td><td>1680624861000</td></tr><tr><td>dbfs:/FileStore/Bookimages/9781800222816.jpg</td><td>9781800222816.jpg</td><td>807</td><td>1680624872000</td></tr><tr><td>dbfs:/FileStore/Bookimages/9781800222823.jpg</td><td>9781800222823.jpg</td><td>807</td><td>1680624882000</td></tr><tr><td>dbfs:/FileStore/Bookimages/9781800222847.jpg</td><td>9781800222847.jpg</td><td>807</td><td>1680636491000</td></tr><tr><td>dbfs:/FileStore/Bookimages/9781800222984.jpg</td><td>9781800222984.jpg</td><td>807</td><td>1680636501000</td></tr><tr><td>dbfs:/FileStore/Bookimages/9781800222991.jpg</td><td>9781800222991.jpg</td><td>807</td><td>1680636512000</td></tr><tr><td>dbfs:/FileStore/Bookimages/9781800223004.jpg</td><td>9781800223004.jpg</td><td>807</td><td>1680624651000</td></tr><tr><td>dbfs:/FileStore/Bookimages/9781800223011.jpg</td><td>9781800223011.jpg</td><td>807</td><td>1680636606000</td></tr><tr><td>dbfs:/FileStore/Bookimages/9781800223257.jpg</td><td>9781800223257.jpg</td><td>807</td><td>1680636617000</td></tr><tr><td>dbfs:/FileStore/Bookimages/9781800224100.jpg</td><td>9781800224100.jpg</td><td>807</td><td>1680631894000</td></tr><tr><td>dbfs:/FileStore/Bookimages/9781800224117.jpg</td><td>9781800224117.jpg</td><td>807</td><td>1680631904000</td></tr><tr><td>dbfs:/FileStore/Bookimages/9781800224162.jpg</td><td>9781800224162.jpg</td><td>807</td><td>1680631873000</td></tr><tr><td>dbfs:/FileStore/Bookimages/9781800224179.jpg</td><td>9781800224179.jpg</td><td>807</td><td>1680631883000</td></tr><tr><td>dbfs:/FileStore/Bookimages/9781800225398.jpg</td><td>9781800225398.jpg</td><td>807</td><td>1680624661000</td></tr><tr><td>dbfs:/FileStore/Bookimages/9781800225404.jpg</td><td>9781800225404.jpg</td><td>807</td><td>1680624672000</td></tr><tr><td>dbfs:/FileStore/Bookimages/9781800226395.jpg</td><td>9781800226395.jpg</td><td>807</td><td>1680636628000</td></tr><tr><td>dbfs:/FileStore/Bookimages/9781800226401.jpg</td><td>9781800226401.jpg</td><td>807</td><td>1680636638000</td></tr><tr><td>dbfs:/FileStore/Bookimages/9781800226876.jpg</td><td>9781800226876.jpg</td><td>807</td><td>1680636649000</td></tr><tr><td>dbfs:/FileStore/Bookimages/9781800227033.jpg</td><td>9781800227033.jpg</td><td>807</td><td>1680636659000</td></tr><tr><td>dbfs:/FileStore/Bookimages/9781800227040.jpg</td><td>9781800227040.jpg</td><td>807</td><td>1680636670000</td></tr><tr><td>dbfs:/FileStore/Bookimages/9781800227057.jpg</td><td>9781800227057.jpg</td><td>807</td><td>1680636681000</td></tr><tr><td>dbfs:/FileStore/Bookimages/9781800227064.jpg</td><td>9781800227064.jpg</td><td>807</td><td>1680636691000</td></tr><tr><td>dbfs:/FileStore/Bookimages/9781800227071.jpg</td><td>9781800227071.jpg</td><td>807</td><td>1680636702000</td></tr><tr><td>dbfs:/FileStore/Bookimages/9781800227217.jpg</td><td>9781800227217.jpg</td><td>807</td><td>1680636712000</td></tr><tr><td>dbfs:/FileStore/Bookimages/9781800580138.jpg</td><td>9781800580138.jpg</td><td>807</td><td>1680634258000</td></tr><tr><td>dbfs:/FileStore/Bookimages/9781800580459.jpg</td><td>9781800580459.jpg</td><td>807</td><td>1680625493000</td></tr><tr><td>dbfs:/FileStore/Bookimages/9781800581340.jpg</td><td>9781800581340.jpg</td><td>807</td><td>1680625504000</td></tr><tr><td>dbfs:/FileStore/Bookimages/9781800581364.jpg</td><td>9781800581364.jpg</td><td>807</td><td>1680625514000</td></tr><tr><td>dbfs:/FileStore/Bookimages/9781800581395.jpg</td><td>9781800581395.jpg</td><td>807</td><td>1680625525000</td></tr><tr><td>dbfs:/FileStore/Bookimages/9781800581401.jpg</td><td>9781800581401.jpg</td><td>807</td><td>1680634268000</td></tr><tr><td>dbfs:/FileStore/Bookimages/9781800581418.jpg</td><td>9781800581418.jpg</td><td>807</td><td>1680625535000</td></tr><tr><td>dbfs:/FileStore/Bookimages/9781800581715.jpg</td><td>9781800581715.jpg</td><td>807</td><td>1680625546000</td></tr><tr><td>dbfs:/FileStore/Bookimages/9781800581852.jpg</td><td>9781800581852.jpg</td><td>807</td><td>1680625556000</td></tr><tr><td>dbfs:/FileStore/Bookimages/9781800581869.jpg</td><td>9781800581869.jpg</td><td>807</td><td>1680625567000</td></tr><tr><td>dbfs:/FileStore/Bookimages/9781800581876.jpg</td><td>9781800581876.jpg</td><td>807</td><td>1680625577000</td></tr><tr><td>dbfs:/FileStore/Bookimages/9781800582286.jpg</td><td>9781800582286.jpg</td><td>807</td><td>1680625588000</td></tr><tr><td>dbfs:/FileStore/Bookimages/9781800582293.jpg</td><td>9781800582293.jpg</td><td>807</td><td>1680625599000</td></tr><tr><td>dbfs:/FileStore/Bookimages/9781800582316.jpg</td><td>9781800582316.jpg</td><td>807</td><td>1680634279000</td></tr><tr><td>dbfs:/FileStore/Bookimages/9781800582354.jpg</td><td>9781800582354.jpg</td><td>807</td><td>1680634289000</td></tr><tr><td>dbfs:/FileStore/Bookimages/9781800582439.jpg</td><td>9781800582439.jpg</td><td>807</td><td>1680625609000</td></tr><tr><td>dbfs:/FileStore/Bookimages/9781800582460.jpg</td><td>9781800582460.jpg</td><td>807</td><td>1680625620000</td></tr><tr><td>dbfs:/FileStore/Bookimages/9781800582514.jpg</td><td>9781800582514.jpg</td><td>807</td><td>1680625630000</td></tr><tr><td>dbfs:/FileStore/Bookimages/9781800582538.jpg</td><td>9781800582538.jpg</td><td>807</td><td>1680625641000</td></tr><tr><td>dbfs:/FileStore/Bookimages/9781800582552.jpg</td><td>9781800582552.jpg</td><td>807</td><td>1680625652000</td></tr><tr><td>dbfs:/FileStore/Bookimages/9781800582590.jpg</td><td>9781800582590.jpg</td><td>807</td><td>1680634311000</td></tr><tr><td>dbfs:/FileStore/Bookimages/9781800582613.jpg</td><td>9781800582613.jpg</td><td>807</td><td>1680625662000</td></tr><tr><td>dbfs:/FileStore/Bookimages/9781800582651.jpg</td><td>9781800582651.jpg</td><td>807</td><td>1680625673000</td></tr><tr><td>dbfs:/FileStore/Bookimages/9781800582675.jpg</td><td>9781800582675.jpg</td><td>807</td><td>1680625683000</td></tr><tr><td>dbfs:/FileStore/Bookimages/9781800582729.jpg</td><td>9781800582729.jpg</td><td>807</td><td>1680625694000</td></tr><tr><td>dbfs:/FileStore/Bookimages/9781800582781.jpg</td><td>9781800582781.jpg</td><td>807</td><td>1680625704000</td></tr><tr><td>dbfs:/FileStore/Bookimages/9781800582828.jpg</td><td>9781800582828.jpg</td><td>807</td><td>1680625715000</td></tr><tr><td>dbfs:/FileStore/Bookimages/9781800582866.jpg</td><td>9781800582866.jpg</td><td>807</td><td>1680634300000</td></tr><tr><td>dbfs:/FileStore/Bookimages/9781800582903.jpg</td><td>9781800582903.jpg</td><td>807</td><td>1680625725000</td></tr><tr><td>dbfs:/FileStore/Bookimages/9781800583078.jpg</td><td>9781800583078.jpg</td><td>807</td><td>1680625736000</td></tr><tr><td>dbfs:/FileStore/Bookimages/9781800583092.jpg</td><td>9781800583092.jpg</td><td>807</td><td>1680625746000</td></tr><tr><td>dbfs:/FileStore/Bookimages/9781800583153.jpg</td><td>9781800583153.jpg</td><td>807</td><td>1680625757000</td></tr><tr><td>dbfs:/FileStore/Bookimages/9781800583177.jpg</td><td>9781800583177.jpg</td><td>807</td><td>1680625767000</td></tr><tr><td>dbfs:/FileStore/Bookimages/9781800583191.jpg</td><td>9781800583191.jpg</td><td>807</td><td>1680625778000</td></tr><tr><td>dbfs:/FileStore/Bookimages/9781800583214.jpg</td><td>9781800583214.jpg</td><td>807</td><td>1680625789000</td></tr><tr><td>dbfs:/FileStore/Bookimages/9781800583498.jpg</td><td>9781800583498.jpg</td><td>807</td><td>1680625799000</td></tr><tr><td>dbfs:/FileStore/Bookimages/9781800584426.jpg</td><td>9781800584426.jpg</td><td>807</td><td>1680625810000</td></tr><tr><td>dbfs:/FileStore/Bookimages/9781800584891.jpg</td><td>9781800584891.jpg</td><td>807</td><td>1680625820000</td></tr><tr><td>dbfs:/FileStore/Bookimages/9781800585317.jpg</td><td>9781800585317.jpg</td><td>807</td><td>1680636723000</td></tr><tr><td>dbfs:/FileStore/Bookimages/9781800585881.jpg</td><td>9781800585881.jpg</td><td>807</td><td>1680636733000</td></tr><tr><td>dbfs:/FileStore/Bookimages/9781800586628.jpg</td><td>9781800586628.jpg</td><td>807</td><td>1680626085000</td></tr><tr><td>dbfs:/FileStore/Bookimages/9781800587700.jpg</td><td>9781800587700.jpg</td><td>807</td><td>1680626106000</td></tr><tr><td>dbfs:/FileStore/Bookimages/9781800588240.jpg</td><td>9781800588240.jpg</td><td>807</td><td>1680636744000</td></tr><tr><td>dbfs:/FileStore/Bookimages/9781800588707.jpg</td><td>9781800588707.jpg</td><td>807</td><td>1680636754000</td></tr><tr><td>dbfs:/FileStore/Bookimages/9781800588806.jpg</td><td>9781800588806.jpg</td><td>807</td><td>1680636765000</td></tr><tr><td>dbfs:/FileStore/Bookimages/9781800589841.jpg</td><td>9781800589841.jpg</td><td>807</td><td>1680620435000</td></tr><tr><td>dbfs:/FileStore/Bookimages/9781800589889.jpg</td><td>9781800589889.jpg</td><td>807</td><td>1680634460000</td></tr><tr><td>dbfs:/FileStore/Bookimages/9781801080439.jpg</td><td>9781801080439.jpg</td><td>807</td><td>1680637039000</td></tr><tr><td>dbfs:/FileStore/Bookimages/9781801080446.jpg</td><td>9781801080446.jpg</td><td>807</td><td>1680637050000</td></tr><tr><td>dbfs:/FileStore/Bookimages/9781801080675.jpg</td><td>9781801080675.jpg</td><td>807</td><td>1680637060000</td></tr><tr><td>dbfs:/FileStore/Bookimages/9781801080682.jpg</td><td>9781801080682.jpg</td><td>807</td><td>1680637071000</td></tr><tr><td>dbfs:/FileStore/Bookimages/9781801080811.jpg</td><td>9781801080811.jpg</td><td>807</td><td>1680627654000</td></tr><tr><td>dbfs:/FileStore/Bookimages/9781801080828.jpg</td><td>9781801080828.jpg</td><td>807</td><td>1680627665000</td></tr><tr><td>dbfs:/FileStore/Bookimages/9781801080941.jpg</td><td>9781801080941.jpg</td><td>807</td><td>1680636776000</td></tr><tr><td>dbfs:/FileStore/Bookimages/9781801080958.jpg</td><td>9781801080958.jpg</td><td>807</td><td>1680636786000</td></tr><tr><td>dbfs:/FileStore/Bookimages/9781801081078.jpg</td><td>9781801081078.jpg</td><td>807</td><td>1680636797000</td></tr><tr><td>dbfs:/FileStore/Bookimages/9781801081085.jpg</td><td>9781801081085.jpg</td><td>807</td><td>1680636807000</td></tr><tr><td>dbfs:/FileStore/Bookimages/9781801081108.jpg</td><td>9781801081108.jpg</td><td>807</td><td>1680636818000</td></tr><tr><td>dbfs:/FileStore/Bookimages/9781801081221.jpg</td><td>9781801081221.jpg</td><td>807</td><td>1680636828000</td></tr><tr><td>dbfs:/FileStore/Bookimages/9781801081481.jpg</td><td>9781801081481.jpg</td><td>807</td><td>1680624977000</td></tr><tr><td>dbfs:/FileStore/Bookimages/9781801081498.jpg</td><td>9781801081498.jpg</td><td>807</td><td>1680637081000</td></tr><tr><td>dbfs:/FileStore/Bookimages/9781801081504.jpg</td><td>9781801081504.jpg</td><td>807</td><td>1680637092000</td></tr><tr><td>dbfs:/FileStore/Bookimages/9781801081511.jpg</td><td>9781801081511.jpg</td><td>807</td><td>1680625093000</td></tr><tr><td>dbfs:/FileStore/Bookimages/9781801081719.jpg</td><td>9781801081719.jpg</td><td>807</td><td>1680636860000</td></tr><tr><td>dbfs:/FileStore/Bookimages/9781801081764.jpg</td><td>9781801081764.jpg</td><td>807</td><td>1680636870000</td></tr><tr><td>dbfs:/FileStore/Bookimages/9781801081788.jpg</td><td>9781801081788.jpg</td><td>807</td><td>1680636881000</td></tr><tr><td>dbfs:/FileStore/Bookimages/9781801081986.jpg</td><td>9781801081986.jpg</td><td>807</td><td>1680636891000</td></tr><tr><td>dbfs:/FileStore/Bookimages/9781801082310.jpg</td><td>9781801082310.jpg</td><td>807</td><td>1680636902000</td></tr><tr><td>dbfs:/FileStore/Bookimages/9781801082488.jpg</td><td>9781801082488.jpg</td><td>807</td><td>1680636913000</td></tr><tr><td>dbfs:/FileStore/Bookimages/9781801082495.jpg</td><td>9781801082495.jpg</td><td>807</td><td>1680636923000</td></tr><tr><td>dbfs:/FileStore/Bookimages/9781801082631.jpg</td><td>9781801082631.jpg</td><td>807</td><td>1680636934000</td></tr><tr><td>dbfs:/FileStore/Bookimages/9781801083737.jpg</td><td>9781801083737.jpg</td><td>807</td><td>1680636944000</td></tr><tr><td>dbfs:/FileStore/Bookimages/9781801083744.jpg</td><td>9781801083744.jpg</td><td>807</td><td>1680636955000</td></tr><tr><td>dbfs:/FileStore/Bookimages/9781801083751.jpg</td><td>9781801083751.jpg</td><td>807</td><td>1680636965000</td></tr><tr><td>dbfs:/FileStore/Bookimages/9781801084437.jpg</td><td>9781801084437.jpg</td><td>807</td><td>1680636976000</td></tr><tr><td>dbfs:/FileStore/Bookimages/9781801084444.jpg</td><td>9781801084444.jpg</td><td>807</td><td>1680636986000</td></tr><tr><td>dbfs:/FileStore/Bookimages/9781801085205.jpg</td><td>9781801085205.jpg</td><td>807</td><td>1680636997000</td></tr><tr><td>dbfs:/FileStore/Bookimages/9781801085212.jpg</td><td>9781801085212.jpg</td><td>807</td><td>1680637007000</td></tr><tr><td>dbfs:/FileStore/Bookimages/9781801086226.jpg</td><td>9781801086226.jpg</td><td>807</td><td>1680637018000</td></tr><tr><td>dbfs:/FileStore/Bookimages/9781801086233.jpg</td><td>9781801086233.jpg</td><td>807</td><td>1680637029000</td></tr><tr><td>dbfs:/FileStore/Bookimages/9781801310222.jpg</td><td>9781801310222.jpg</td><td>807</td><td>1680629665000</td></tr><tr><td>dbfs:/FileStore/Bookimages/9781801310925.jpg</td><td>9781801310925.jpg</td><td>807</td><td>1680621906000</td></tr><tr><td>dbfs:/FileStore/Bookimages/9781803370033.jpg</td><td>9781803370033.jpg</td><td>807</td><td>1680634470000</td></tr><tr><td>dbfs:/FileStore/Bookimages/9781803370040.jpg</td><td>9781803370040.jpg</td><td>807</td><td>1680634481000</td></tr><tr><td>dbfs:/FileStore/Bookimages/9781803370057.jpg</td><td>9781803370057.jpg</td><td>807</td><td>1680634491000</td></tr><tr><td>dbfs:/FileStore/Bookimages/9781803370064.jpg</td><td>9781803370064.jpg</td><td>807</td><td>1680634502000</td></tr><tr><td>dbfs:/FileStore/Bookimages/9781803370071.jpg</td><td>9781803370071.jpg</td><td>807</td><td>1680634512000</td></tr><tr><td>dbfs:/FileStore/Bookimages/9781803370330.jpg</td><td>9781803370330.jpg</td><td>807</td><td>1680634523000</td></tr><tr><td>dbfs:/FileStore/Bookimages/9781803370347.jpg</td><td>9781803370347.jpg</td><td>807</td><td>1680634533000</td></tr><tr><td>dbfs:/FileStore/Bookimages/9781803370354.jpg</td><td>9781803370354.jpg</td><td>807</td><td>1680634544000</td></tr><tr><td>dbfs:/FileStore/Bookimages/9781803372570.jpg</td><td>9781803372570.jpg</td><td>807</td><td>1680634555000</td></tr><tr><td>dbfs:/FileStore/Bookimages/9781803372594.jpg</td><td>9781803372594.jpg</td><td>807</td><td>1680634565000</td></tr><tr><td>dbfs:/FileStore/Bookimages/9781803372655.jpg</td><td>9781803372655.jpg</td><td>807</td><td>1680634576000</td></tr><tr><td>dbfs:/FileStore/Bookimages/9781803372716.jpg</td><td>9781803372716.jpg</td><td>807</td><td>1680634586000</td></tr><tr><td>dbfs:/FileStore/Bookimages/9781803372839.jpg</td><td>9781803372839.jpg</td><td>807</td><td>1680634597000</td></tr><tr><td>dbfs:/FileStore/Bookimages/9781803372853.jpg</td><td>9781803372853.jpg</td><td>807</td><td>1680634607000</td></tr><tr><td>dbfs:/FileStore/Bookimages/9781803372914.jpg</td><td>9781803372914.jpg</td><td>807</td><td>1680634618000</td></tr><tr><td>dbfs:/FileStore/Bookimages/9781803374277.jpg</td><td>9781803374277.jpg</td><td>807</td><td>1680636839000</td></tr><tr><td>dbfs:/FileStore/Bookimages/9781803374291.jpg</td><td>9781803374291.jpg</td><td>807</td><td>1680636849000</td></tr><tr><td>dbfs:/FileStore/Bookimages/9781803374666.jpg</td><td>9781803374666.jpg</td><td>807</td><td>1680634418000</td></tr><tr><td>dbfs:/FileStore/Bookimages/9781803374680.jpg</td><td>9781803374680.jpg</td><td>807</td><td>1680634428000</td></tr><tr><td>dbfs:/FileStore/Bookimages/9781803374741.jpg</td><td>9781803374741.jpg</td><td>807</td><td>1680634439000</td></tr><tr><td>dbfs:/FileStore/Bookimages/9781803375069.jpg</td><td>9781803375069.jpg</td><td>807</td><td>1680626138000</td></tr><tr><td>dbfs:/FileStore/Bookimages/9781803376271.jpg</td><td>9781803376271.jpg</td><td>807</td><td>1680637102000</td></tr><tr><td>dbfs:/FileStore/Bookimages/9781803680057.jpg</td><td>9781803680057.jpg</td><td>807</td><td>1680637113000</td></tr><tr><td>dbfs:/FileStore/Bookimages/9781803684215.jpg</td><td>9781803684215.jpg</td><td>807</td><td>1680627803000</td></tr><tr><td>dbfs:/FileStore/Bookimages/9781803684543.jpg</td><td>9781803684543.jpg</td><td>807</td><td>1680633930000</td></tr><tr><td>dbfs:/FileStore/Bookimages/9781803684550.jpg</td><td>9781803684550.jpg</td><td>807</td><td>1680633941000</td></tr><tr><td>dbfs:/FileStore/Bookimages/9781803684598.jpg</td><td>9781803684598.jpg</td><td>807</td><td>1680633951000</td></tr><tr><td>dbfs:/FileStore/Bookimages/9781803684604.jpg</td><td>9781803684604.jpg</td><td>807</td><td>1680633920000</td></tr><tr><td>dbfs:/FileStore/Bookimages/9781803684666.jpg</td><td>9781803684666.jpg</td><td>807</td><td>1680637123000</td></tr><tr><td>dbfs:/FileStore/Bookimages/9781803684680.jpg</td><td>9781803684680.jpg</td><td>807</td><td>1680637134000</td></tr><tr><td>dbfs:/FileStore/Bookimages/9781803684697.jpg</td><td>9781803684697.jpg</td><td>807</td><td>1680637144000</td></tr><tr><td>dbfs:/FileStore/Bookimages/9781803685328.jpg</td><td>9781803685328.jpg</td><td>807</td><td>1680637155000</td></tr><tr><td>dbfs:/FileStore/Bookimages/9781803685335.jpg</td><td>9781803685335.jpg</td><td>807</td><td>1680637165000</td></tr><tr><td>dbfs:/FileStore/Bookimages/9781803685885.jpg</td><td>9781803685885.jpg</td><td>807</td><td>1680637176000</td></tr><tr><td>dbfs:/FileStore/Bookimages/9781803685922.jpg</td><td>9781803685922.jpg</td><td>807</td><td>1680637186000</td></tr><tr><td>dbfs:/FileStore/Bookimages/9781803685984.jpg</td><td>9781803685984.jpg</td><td>807</td><td>1680637197000</td></tr><tr><td>dbfs:/FileStore/Bookimages/9781803686349.jpg</td><td>9781803686349.jpg</td><td>807</td><td>1680629643000</td></tr><tr><td>dbfs:/FileStore/Bookimages/9781803686547.jpg</td><td>9781803686547.jpg</td><td>807</td><td>1680633962000</td></tr><tr><td>dbfs:/FileStore/Bookimages/9781803687766.jpg</td><td>9781803687766.jpg</td><td>807</td><td>1680637471000</td></tr><tr><td>dbfs:/FileStore/Bookimages/9781803687773.jpg</td><td>9781803687773.jpg</td><td>807</td><td>1680637482000</td></tr><tr><td>dbfs:/FileStore/Bookimages/9781803708850.jpg</td><td>9781803708850.jpg</td><td>807</td><td>1680634026000</td></tr><tr><td>dbfs:/FileStore/Bookimages/9781838520281.jpg</td><td>9781838520281.jpg</td><td>22827</td><td>1680637208000</td></tr><tr><td>dbfs:/FileStore/Bookimages/9781838521981.jpg</td><td>9781838521981.jpg</td><td>807</td><td>1680632854000</td></tr><tr><td>dbfs:/FileStore/Bookimages/9781838522148.jpg</td><td>9781838522148.jpg</td><td>807</td><td>1680632865000</td></tr><tr><td>dbfs:/FileStore/Bookimages/9781838522353.jpg</td><td>9781838522353.jpg</td><td>807</td><td>1680632875000</td></tr><tr><td>dbfs:/FileStore/Bookimages/9781838522360.jpg</td><td>9781838522360.jpg</td><td>807</td><td>1680632886000</td></tr><tr><td>dbfs:/FileStore/Bookimages/9781838523466.jpg</td><td>9781838523466.jpg</td><td>807</td><td>1680637218000</td></tr><tr><td>dbfs:/FileStore/Bookimages/9781838523473.jpg</td><td>9781838523473.jpg</td><td>807</td><td>1680637229000</td></tr><tr><td>dbfs:/FileStore/Bookimages/9781838523640.jpg</td><td>9781838523640.jpg</td><td>807</td><td>1680624988000</td></tr><tr><td>dbfs:/FileStore/Bookimages/9781838526306.jpg</td><td>9781838526306.jpg</td><td>807</td><td>1680624998000</td></tr><tr><td>dbfs:/FileStore/Bookimages/9781838527174.jpg</td><td>9781838527174.jpg</td><td>807</td><td>1680625009000</td></tr><tr><td>dbfs:/FileStore/Bookimages/9781838527181.jpg</td><td>9781838527181.jpg</td><td>807</td><td>1680625019000</td></tr><tr><td>dbfs:/FileStore/Bookimages/9781838527204.jpg</td><td>9781838527204.jpg</td><td>807</td><td>1680625030000</td></tr><tr><td>dbfs:/FileStore/Bookimages/9781838527211.jpg</td><td>9781838527211.jpg</td><td>807</td><td>1680625040000</td></tr><tr><td>dbfs:/FileStore/Bookimages/9781838527228.jpg</td><td>9781838527228.jpg</td><td>807</td><td>1680625051000</td></tr><tr><td>dbfs:/FileStore/Bookimages/9781838527235.jpg</td><td>9781838527235.jpg</td><td>807</td><td>1680625061000</td></tr><tr><td>dbfs:/FileStore/Bookimages/9781838527242.jpg</td><td>9781838527242.jpg</td><td>807</td><td>1680625072000</td></tr><tr><td>dbfs:/FileStore/Bookimages/9781838527259.jpg</td><td>9781838527259.jpg</td><td>807</td><td>1680625082000</td></tr><tr><td>dbfs:/FileStore/Bookimages/9781839030482.jpg</td><td>9781839030482.jpg</td><td>807</td><td>1680620315000</td></tr><tr><td>dbfs:/FileStore/Bookimages/9781839030673.jpg</td><td>9781839030673.jpg</td><td>807</td><td>1680632833000</td></tr><tr><td>dbfs:/FileStore/Bookimages/9781839031076.jpg</td><td>9781839031076.jpg</td><td>807</td><td>1680632844000</td></tr><tr><td>dbfs:/FileStore/Bookimages/9781839031281.jpg</td><td>9781839031281.jpg</td><td>807</td><td>1680624956000</td></tr><tr><td>dbfs:/FileStore/Bookimages/9781839031335.jpg</td><td>9781839031335.jpg</td><td>807</td><td>1680632791000</td></tr><tr><td>dbfs:/FileStore/Bookimages/9781839031342.jpg</td><td>9781839031342.jpg</td><td>807</td><td>1680632802000</td></tr><tr><td>dbfs:/FileStore/Bookimages/9781839031779.jpg</td><td>9781839031779.jpg</td><td>807</td><td>1680624935000</td></tr><tr><td>dbfs:/FileStore/Bookimages/9781839031786.jpg</td><td>9781839031786.jpg</td><td>807</td><td>1680624946000</td></tr><tr><td>dbfs:/FileStore/Bookimages/9781839031847.jpg</td><td>9781839031847.jpg</td><td>807</td><td>1680632812000</td></tr><tr><td>dbfs:/FileStore/Bookimages/9781839031854.jpg</td><td>9781839031854.jpg</td><td>807</td><td>1680632823000</td></tr><tr><td>dbfs:/FileStore/Bookimages/9781839031939.jpg</td><td>9781839031939.jpg</td><td>807</td><td>1680624967000</td></tr><tr><td>dbfs:/FileStore/Bookimages/9781839031977.jpg</td><td>9781839031977.jpg</td><td>807</td><td>1680637239000</td></tr><tr><td>dbfs:/FileStore/Bookimages/9781839031984.jpg</td><td>9781839031984.jpg</td><td>807</td><td>1680637250000</td></tr><tr><td>dbfs:/FileStore/Bookimages/9781839034114.jpg</td><td>9781839034114.jpg</td><td>807</td><td>1680632781000</td></tr><tr><td>dbfs:/FileStore/Bookimages/9781839034275.jpg</td><td>9781839034275.jpg</td><td>807</td><td>1680637261000</td></tr><tr><td>dbfs:/FileStore/Bookimages/9781839034282.jpg</td><td>9781839034282.jpg</td><td>807</td><td>1680637271000</td></tr><tr><td>dbfs:/FileStore/Bookimages/9781839035692.jpg</td><td>9781839035692.jpg</td><td>807</td><td>1680637282000</td></tr><tr><td>dbfs:/FileStore/Bookimages/9781839130687.jpg</td><td>9781839130687.jpg</td><td>807</td><td>1680632896000</td></tr><tr><td>dbfs:/FileStore/Bookimages/9781839233470.jpg</td><td>9781839233470.jpg</td><td>807</td><td>1680624356000</td></tr><tr><td>dbfs:/FileStore/Bookimages/9781839233487.jpg</td><td>9781839233487.jpg</td><td>807</td><td>1680624366000</td></tr><tr><td>dbfs:/FileStore/Bookimages/9781845063368.jpg</td><td>9781845063368.jpg</td><td>807</td><td>1680620273000</td></tr><tr><td>dbfs:/FileStore/Bookimages/9781845063467.jpg</td><td>9781845063467.jpg</td><td>11844</td><td>1680620284000</td></tr><tr><td>dbfs:/FileStore/Bookimages/9781845068134.jpg</td><td>9781845068134.jpg</td><td>11585</td><td>1680620294000</td></tr><tr><td>dbfs:/FileStore/Bookimages/9781845068257.jpg</td><td>9781845068257.jpg</td><td>11336</td><td>1680620305000</td></tr><tr><td>dbfs:/FileStore/Bookimages/9781861477781.jpg</td><td>9781861477781.jpg</td><td>807</td><td>1680633171000</td></tr><tr><td>dbfs:/FileStore/Bookimages/9781865151625.jpg</td><td>9781865151625.jpg</td><td>807</td><td>1680629179000</td></tr><tr><td>dbfs:/FileStore/Bookimages/9781865152042.jpg</td><td>9781865152042.jpg</td><td>807</td><td>1680629189000</td></tr><tr><td>dbfs:/FileStore/Bookimages/9781865152059.jpg</td><td>9781865152059.jpg</td><td>807</td><td>1680629200000</td></tr><tr><td>dbfs:/FileStore/Bookimages/9781865152967.jpg</td><td>9781865152967.jpg</td><td>807</td><td>1680629211000</td></tr><tr><td>dbfs:/FileStore/Bookimages/9781865152974.jpg</td><td>9781865152974.jpg</td><td>807</td><td>1680629221000</td></tr><tr><td>dbfs:/FileStore/Bookimages/9781865153247.jpg</td><td>9781865153247.jpg</td><td>807</td><td>1680629232000</td></tr><tr><td>dbfs:/FileStore/Bookimages/9781865154817.jpg</td><td>9781865154817.jpg</td><td>807</td><td>1680629242000</td></tr><tr><td>dbfs:/FileStore/Bookimages/9781865155081.jpg</td><td>9781865155081.jpg</td><td>807</td><td>1680629253000</td></tr><tr><td>dbfs:/FileStore/Bookimages/9781865155098.jpg</td><td>9781865155098.jpg</td><td>807</td><td>1680629263000</td></tr><tr><td>dbfs:/FileStore/Bookimages/9781865155692.jpg</td><td>9781865155692.jpg</td><td>807</td><td>1680629274000</td></tr><tr><td>dbfs:/FileStore/Bookimages/9781910764442.jpg</td><td>9781910764442.jpg</td><td>807</td><td>1680632907000</td></tr><tr><td>dbfs:/FileStore/Bookimages/9781910764459.jpg</td><td>9781910764459.jpg</td><td>807</td><td>1680632918000</td></tr><tr><td>dbfs:/FileStore/Bookimages/9781910764473.jpg</td><td>9781910764473.jpg</td><td>807</td><td>1680632928000</td></tr><tr><td>dbfs:/FileStore/Bookimages/9781910764527.jpg</td><td>9781910764527.jpg</td><td>807</td><td>1680632939000</td></tr><tr><td>dbfs:/FileStore/Bookimages/9781910764534.jpg</td><td>9781910764534.jpg</td><td>807</td><td>1680632949000</td></tr><tr><td>dbfs:/FileStore/Bookimages/9781910764541.jpg</td><td>9781910764541.jpg</td><td>807</td><td>1680632960000</td></tr><tr><td>dbfs:/FileStore/Bookimages/9781910764558.jpg</td><td>9781910764558.jpg</td><td>807</td><td>1680632970000</td></tr><tr><td>dbfs:/FileStore/Bookimages/9781910764602.jpg</td><td>9781910764602.jpg</td><td>807</td><td>1680632981000</td></tr><tr><td>dbfs:/FileStore/Bookimages/9781910764619.jpg</td><td>9781910764619.jpg</td><td>807</td><td>1680632991000</td></tr><tr><td>dbfs:/FileStore/Bookimages/9781910764848.jpg</td><td>9781910764848.jpg</td><td>807</td><td>1680633002000</td></tr><tr><td>dbfs:/FileStore/Bookimages/9781910764855.jpg</td><td>9781910764855.jpg</td><td>807</td><td>1680633012000</td></tr><tr><td>dbfs:/FileStore/Bookimages/9781910765012.jpg</td><td>9781910765012.jpg</td><td>807</td><td>1680633023000</td></tr><tr><td>dbfs:/FileStore/Bookimages/9781910765043.jpg</td><td>9781910765043.jpg</td><td>807</td><td>1680633033000</td></tr><tr><td>dbfs:/FileStore/Bookimages/9781910765142.jpg</td><td>9781910765142.jpg</td><td>807</td><td>1680633044000</td></tr><tr><td>dbfs:/FileStore/Bookimages/9781910765258.jpg</td><td>9781910765258.jpg</td><td>807</td><td>1680633054000</td></tr><tr><td>dbfs:/FileStore/Bookimages/9781912754939.jpg</td><td>9781912754939.jpg</td><td>807</td><td>1680633065000</td></tr><tr><td>dbfs:/FileStore/Bookimages/9781912754946.jpg</td><td>9781912754946.jpg</td><td>807</td><td>1680633076000</td></tr><tr><td>dbfs:/FileStore/Bookimages/9781912756469.jpg</td><td>9781912756469.jpg</td><td>807</td><td>1680633086000</td></tr><tr><td>dbfs:/FileStore/Bookimages/9781912756476.jpg</td><td>9781912756476.jpg</td><td>807</td><td>1680633097000</td></tr><tr><td>dbfs:/FileStore/Bookimages/9781912756483.jpg</td><td>9781912756483.jpg</td><td>807</td><td>1680633107000</td></tr><tr><td>dbfs:/FileStore/Bookimages/9781912756490.jpg</td><td>9781912756490.jpg</td><td>807</td><td>1680633118000</td></tr><tr><td>dbfs:/FileStore/Bookimages/9781912756599.jpg</td><td>9781912756599.jpg</td><td>807</td><td>1680633128000</td></tr><tr><td>dbfs:/FileStore/Bookimages/9781913072476.jpg</td><td>9781913072476.jpg</td><td>807</td><td>1680633139000</td></tr><tr><td>dbfs:/FileStore/Bookimages/9781913072537.jpg</td><td>9781913072537.jpg</td><td>807</td><td>1680633150000</td></tr><tr><td>dbfs:/FileStore/Bookimages/9781913265120.jpg</td><td>9781913265120.jpg</td><td>807</td><td>1680633160000</td></tr><tr><td>dbfs:/FileStore/Bookimages/9781913484217.jpg</td><td>9781913484217.jpg</td><td>807</td><td>1680637292000</td></tr><tr><td>dbfs:/FileStore/Bookimages/9781913865894.jpg</td><td>9781913865894.jpg</td><td>807</td><td>1680633181000</td></tr><tr><td>dbfs:/FileStore/Bookimages/9781913865900.jpg</td><td>9781913865900.jpg</td><td>807</td><td>1680633192000</td></tr><tr><td>dbfs:/FileStore/Bookimages/9781913906115.jpg</td><td>9781913906115.jpg</td><td>807</td><td>1680633202000</td></tr><tr><td>dbfs:/FileStore/Bookimages/9781913906504.jpg</td><td>9781913906504.jpg</td><td>807</td><td>1680633213000</td></tr><tr><td>dbfs:/FileStore/Bookimages/9781913906764.jpg</td><td>9781913906764.jpg</td><td>807</td><td>1680633223000</td></tr><tr><td>dbfs:/FileStore/Bookimages/9781913906788.jpg</td><td>9781913906788.jpg</td><td>807</td><td>1680633234000</td></tr><tr><td>dbfs:/FileStore/Bookimages/9781914448348.jpg</td><td>9781914448348.jpg</td><td>807</td><td>1680633245000</td></tr><tr><td>dbfs:/FileStore/Bookimages/9781914448355.jpg</td><td>9781914448355.jpg</td><td>807</td><td>1680633255000</td></tr><tr><td>dbfs:/FileStore/Bookimages/9781914564420.jpg</td><td>9781914564420.jpg</td><td>807</td><td>1680633266000</td></tr><tr><td>dbfs:/FileStore/Bookimages/9781914564437.jpg</td><td>9781914564437.jpg</td><td>807</td><td>1680633276000</td></tr><tr><td>dbfs:/FileStore/Bookimages/9781914564451.jpg</td><td>9781914564451.jpg</td><td>807</td><td>1680633287000</td></tr><tr><td>dbfs:/FileStore/Bookimages/9781914564611.jpg</td><td>9781914564611.jpg</td><td>807</td><td>1680633297000</td></tr><tr><td>dbfs:/FileStore/Bookimages/9781914564635.jpg</td><td>9781914564635.jpg</td><td>807</td><td>1680633308000</td></tr><tr><td>dbfs:/FileStore/Bookimages/9781941082928.jpg</td><td>9781941082928.jpg</td><td>807</td><td>1680638963000</td></tr><tr><td>dbfs:/FileStore/Bookimages/9781941082935.jpg</td><td>9781941082935.jpg</td><td>807</td><td>1680624893000</td></tr><tr><td>dbfs:/FileStore/Bookimages/9781941082942.jpg</td><td>9781941082942.jpg</td><td>807</td><td>1680638974000</td></tr><tr><td>dbfs:/FileStore/Bookimages/9781941082959.jpg</td><td>9781941082959.jpg</td><td>27064</td><td>1680638985000</td></tr><tr><td>dbfs:/FileStore/Bookimages/9781941082966.jpg</td><td>9781941082966.jpg</td><td>807</td><td>1680624903000</td></tr><tr><td>dbfs:/FileStore/Bookimages/9781941082973.jpg</td><td>9781941082973.jpg</td><td>807</td><td>1680624914000</td></tr><tr><td>dbfs:/FileStore/Bookimages/9781941082980.jpg</td><td>9781941082980.jpg</td><td>807</td><td>1680624925000</td></tr><tr><td>dbfs:/FileStore/Bookimages/9781941082997.jpg</td><td>9781941082997.jpg</td><td>807</td><td>1680638995000</td></tr><tr><td>dbfs:/FileStore/Bookimages/9781948174442.jpg</td><td>9781948174442.jpg</td><td>16327</td><td>1680623708000</td></tr><tr><td>dbfs:/FileStore/Bookimages/9781948174671.jpg</td><td>9781948174671.jpg</td><td>807</td><td>1680623718000</td></tr><tr><td>dbfs:/FileStore/Bookimages/9781948174930.jpg</td><td>9781948174930.jpg</td><td>807</td><td>1680623729000</td></tr><tr><td>dbfs:/FileStore/Bookimages/9781951086046.jpg</td><td>9781951086046.jpg</td><td>807</td><td>1680636236000</td></tr><tr><td>dbfs:/FileStore/Bookimages/9781951086695.jpg</td><td>9781951086695.jpg</td><td>807</td><td>1680636247000</td></tr><tr><td>dbfs:/FileStore/Bookimages/9781953845009.jpg</td><td>9781953845009.jpg</td><td>807</td><td>1680633983000</td></tr><tr><td>dbfs:/FileStore/Bookimages/9781953845016.jpg</td><td>9781953845016.jpg</td><td>807</td><td>1680638869000</td></tr><tr><td>dbfs:/FileStore/Bookimages/9781953845023.jpg</td><td>9781953845023.jpg</td><td>807</td><td>1680638879000</td></tr><tr><td>dbfs:/FileStore/Bookimages/9781953845078.jpg</td><td>9781953845078.jpg</td><td>807</td><td>1680638890000</td></tr><tr><td>dbfs:/FileStore/Bookimages/9781953845085.jpg</td><td>9781953845085.jpg</td><td>807</td><td>1680638900000</td></tr><tr><td>dbfs:/FileStore/Bookimages/9781953845092.jpg</td><td>9781953845092.jpg</td><td>807</td><td>1680638911000</td></tr><tr><td>dbfs:/FileStore/Bookimages/9781953845139.jpg</td><td>9781953845139.jpg</td><td>807</td><td>1680638921000</td></tr><tr><td>dbfs:/FileStore/Bookimages/9781953845207.jpg</td><td>9781953845207.jpg</td><td>807</td><td>1680638932000</td></tr><tr><td>dbfs:/FileStore/Bookimages/9781953845214.jpg</td><td>9781953845214.jpg</td><td>807</td><td>1680638943000</td></tr><tr><td>dbfs:/FileStore/Bookimages/9781953845221.jpg</td><td>9781953845221.jpg</td><td>807</td><td>1680638953000</td></tr><tr><td>dbfs:/FileStore/Bookimages/9781984894656.jpg</td><td>9781984894656.jpg</td><td>30199</td><td>1680623166000</td></tr><tr><td>dbfs:/FileStore/Bookimages/9781984895660.jpg</td><td>9781984895660.jpg</td><td>23033</td><td>1680623177000</td></tr><tr><td>dbfs:/FileStore/Bookimages/9781999950125.jpg</td><td>9781999950125.jpg</td><td>807</td><td>1680632706000</td></tr><tr><td>dbfs:/FileStore/Bookimages/9781999950132.jpg</td><td>9781999950132.jpg</td><td>807</td><td>1680632717000</td></tr><tr><td>dbfs:/FileStore/Bookimages/9782733877708.jpg</td><td>9782733877708.jpg</td><td>807</td><td>1680632728000</td></tr><tr><td>dbfs:/FileStore/Bookimages/9782733879054.jpg</td><td>9782733879054.jpg</td><td>807</td><td>1680632738000</td></tr><tr><td>dbfs:/FileStore/Bookimages/9782733884171.jpg</td><td>9782733884171.jpg</td><td>807</td><td>1680632749000</td></tr><tr><td>dbfs:/FileStore/Bookimages/9782733885017.jpg</td><td>9782733885017.jpg</td><td>807</td><td>1680632759000</td></tr><tr><td>dbfs:/FileStore/Bookimages/9782764322079.jpg</td><td>9782764322079.jpg</td><td>807</td><td>1680637429000</td></tr><tr><td>dbfs:/FileStore/Bookimages/9782764336342.jpg</td><td>9782764336342.jpg</td><td>807</td><td>1680632580000</td></tr><tr><td>dbfs:/FileStore/Bookimages/9782764353073.jpg</td><td>9782764353073.jpg</td><td>807</td><td>1680637461000</td></tr><tr><td>dbfs:/FileStore/Bookimages/9782764353080.jpg</td><td>9782764353080.jpg</td><td>807</td><td>1680628079000</td></tr><tr><td>dbfs:/FileStore/Bookimages/9782764353424.jpg</td><td>9782764353424.jpg</td><td>807</td><td>1680628089000</td></tr><tr><td>dbfs:/FileStore/Bookimages/9782764353431.jpg</td><td>9782764353431.jpg</td><td>807</td><td>1680628100000</td></tr><tr><td>dbfs:/FileStore/Bookimages/9782764353448.jpg</td><td>9782764353448.jpg</td><td>807</td><td>1680628110000</td></tr><tr><td>dbfs:/FileStore/Bookimages/9782764354476.jpg</td><td>9782764354476.jpg</td><td>807</td><td>1680628121000</td></tr><tr><td>dbfs:/FileStore/Bookimages/9782764354506.jpg</td><td>9782764354506.jpg</td><td>807</td><td>1680628131000</td></tr><tr><td>dbfs:/FileStore/Bookimages/9782764354537.jpg</td><td>9782764354537.jpg</td><td>807</td><td>1680628142000</td></tr><tr><td>dbfs:/FileStore/Bookimages/9782764354551.jpg</td><td>9782764354551.jpg</td><td>807</td><td>1680637450000</td></tr><tr><td>dbfs:/FileStore/Bookimages/9782764354568.jpg</td><td>9782764354568.jpg</td><td>807</td><td>1680628152000</td></tr><tr><td>dbfs:/FileStore/Bookimages/9782764354575.jpg</td><td>9782764354575.jpg</td><td>807</td><td>1680628163000</td></tr><tr><td>dbfs:/FileStore/Bookimages/9782764354582.jpg</td><td>9782764354582.jpg</td><td>807</td><td>1680628173000</td></tr><tr><td>dbfs:/FileStore/Bookimages/9782764354599.jpg</td><td>9782764354599.jpg</td><td>807</td><td>1680628184000</td></tr><tr><td>dbfs:/FileStore/Bookimages/9782764354612.jpg</td><td>9782764354612.jpg</td><td>807</td><td>1680628194000</td></tr><tr><td>dbfs:/FileStore/Bookimages/9782764354704.jpg</td><td>9782764354704.jpg</td><td>807</td><td>1680628205000</td></tr><tr><td>dbfs:/FileStore/Bookimages/9782764354711.jpg</td><td>9782764354711.jpg</td><td>807</td><td>1680628215000</td></tr><tr><td>dbfs:/FileStore/Bookimages/9782764354735.jpg</td><td>9782764354735.jpg</td><td>807</td><td>1680628226000</td></tr><tr><td>dbfs:/FileStore/Bookimages/9782764354742.jpg</td><td>9782764354742.jpg</td><td>807</td><td>1680628236000</td></tr><tr><td>dbfs:/FileStore/Bookimages/9782764354759.jpg</td><td>9782764354759.jpg</td><td>807</td><td>1680628247000</td></tr><tr><td>dbfs:/FileStore/Bookimages/9782764354766.jpg</td><td>9782764354766.jpg</td><td>807</td><td>1680628257000</td></tr><tr><td>dbfs:/FileStore/Bookimages/9782764354773.jpg</td><td>9782764354773.jpg</td><td>807</td><td>1680628269000</td></tr><tr><td>dbfs:/FileStore/Bookimages/9782764354797.jpg</td><td>9782764354797.jpg</td><td>807</td><td>1680628280000</td></tr><tr><td>dbfs:/FileStore/Bookimages/9782764354803.jpg</td><td>9782764354803.jpg</td><td>807</td><td>1680637440000</td></tr><tr><td>dbfs:/FileStore/Bookimages/9782764354810.jpg</td><td>9782764354810.jpg</td><td>807</td><td>1680628026000</td></tr><tr><td>dbfs:/FileStore/Bookimages/9782764354827.jpg</td><td>9782764354827.jpg</td><td>807</td><td>1680628036000</td></tr><tr><td>dbfs:/FileStore/Bookimages/9782764354834.jpg</td><td>9782764354834.jpg</td><td>807</td><td>1680628047000</td></tr><tr><td>dbfs:/FileStore/Bookimages/9782764354841.jpg</td><td>9782764354841.jpg</td><td>807</td><td>1680628058000</td></tr><tr><td>dbfs:/FileStore/Bookimages/9782764354858.jpg</td><td>9782764354858.jpg</td><td>807</td><td>1680628068000</td></tr><tr><td>dbfs:/FileStore/Bookimages/9782764354865.jpg</td><td>9782764354865.jpg</td><td>807</td><td>1680637387000</td></tr><tr><td>dbfs:/FileStore/Bookimages/9782764354872.jpg</td><td>9782764354872.jpg</td><td>807</td><td>1680637397000</td></tr><tr><td>dbfs:/FileStore/Bookimages/9782764354926.jpg</td><td>9782764354926.jpg</td><td>807</td><td>1680637408000</td></tr><tr><td>dbfs:/FileStore/Bookimages/9782764354933.jpg</td><td>9782764354933.jpg</td><td>807</td><td>1680637418000</td></tr><tr><td>dbfs:/FileStore/Bookimages/9782764354957.jpg</td><td>9782764354957.jpg</td><td>807</td><td>1680627994000</td></tr><tr><td>dbfs:/FileStore/Bookimages/9782764354964.jpg</td><td>9782764354964.jpg</td><td>807</td><td>1680628005000</td></tr><tr><td>dbfs:/FileStore/Bookimages/9782764354971.jpg</td><td>9782764354971.jpg</td><td>807</td><td>1680628015000</td></tr><tr><td>dbfs:/FileStore/Bookimages/9782764355268.jpg</td><td>9782764355268.jpg</td><td>807</td><td>1680637355000</td></tr><tr><td>dbfs:/FileStore/Bookimages/9782764355275.jpg</td><td>9782764355275.jpg</td><td>807</td><td>1680637366000</td></tr><tr><td>dbfs:/FileStore/Bookimages/9782764355282.jpg</td><td>9782764355282.jpg</td><td>807</td><td>1680637376000</td></tr><tr><td>dbfs:/FileStore/Bookimages/9782764355299.jpg</td><td>9782764355299.jpg</td><td>807</td><td>1680627984000</td></tr><tr><td>dbfs:/FileStore/Bookimages/9782764355497.jpg</td><td>9782764355497.jpg</td><td>807</td><td>1680637313000</td></tr><tr><td>dbfs:/FileStore/Bookimages/9782764355725.jpg</td><td>9782764355725.jpg</td><td>807</td><td>1680637324000</td></tr><tr><td>dbfs:/FileStore/Bookimages/9782764355763.jpg</td><td>9782764355763.jpg</td><td>807</td><td>1680637334000</td></tr><tr><td>dbfs:/FileStore/Bookimages/9782764355817.jpg</td><td>9782764355817.jpg</td><td>807</td><td>1680637345000</td></tr><tr><td>dbfs:/FileStore/Bookimages/9783849917913.jpg</td><td>9783849917913.jpg</td><td>807</td><td>1680632770000</td></tr><tr><td>dbfs:/FileStore/Bookimages/9786267013557.jpg</td><td>9786267013557.jpg</td><td>807</td><td>1680638644000</td></tr><tr><td>dbfs:/FileStore/Bookimages/9786267013823.jpg</td><td>9786267013823.jpg</td><td>807</td><td>1680639343000</td></tr><tr><td>dbfs:/FileStore/Bookimages/9786267013830.jpg</td><td>9786267013830.jpg</td><td>807</td><td>1680639354000</td></tr><tr><td>dbfs:/FileStore/Bookimages/9788742551790.jpg</td><td>9788742551790.jpg</td><td>807</td><td>1680632654000</td></tr><tr><td>dbfs:/FileStore/Bookimages/9788742551837.jpg</td><td>9788742551837.jpg</td><td>807</td><td>1680632664000</td></tr><tr><td>dbfs:/FileStore/Bookimages/9788742551875.jpg</td><td>9788742551875.jpg</td><td>807</td><td>1680632675000</td></tr><tr><td>dbfs:/FileStore/Bookimages/9788742551912.jpg</td><td>9788742551912.jpg</td><td>807</td><td>1680632685000</td></tr><tr><td>dbfs:/FileStore/Bookimages/9788830305540.jpg</td><td>9788830305540.jpg</td><td>807</td><td>1680624387000</td></tr><tr><td>dbfs:/FileStore/Bookimages/9788830305601.jpg</td><td>9788830305601.jpg</td><td>807</td><td>1680624398000</td></tr><tr><td>dbfs:/FileStore/Bookimages/9788830305830.jpg</td><td>9788830305830.jpg</td><td>807</td><td>1680624408000</td></tr><tr><td>dbfs:/FileStore/Bookimages/9788830305946.jpg</td><td>9788830305946.jpg</td><td>807</td><td>1680624419000</td></tr><tr><td>dbfs:/FileStore/Bookimages/9788830306202.jpg</td><td>9788830306202.jpg</td><td>807</td><td>1680624429000</td></tr><tr><td>dbfs:/FileStore/Bookimages/9788830306233.jpg</td><td>9788830306233.jpg</td><td>807</td><td>1680624440000</td></tr><tr><td>dbfs:/FileStore/Bookimages/9788830306264.jpg</td><td>9788830306264.jpg</td><td>807</td><td>1680624450000</td></tr><tr><td>dbfs:/FileStore/Bookimages/9788830306295.jpg</td><td>9788830306295.jpg</td><td>807</td><td>1680624461000</td></tr><tr><td>dbfs:/FileStore/Bookimages/9788830307100.jpg</td><td>9788830307100.jpg</td><td>807</td><td>1680624471000</td></tr><tr><td>dbfs:/FileStore/Bookimages/9788830307186.jpg</td><td>9788830307186.jpg</td><td>807</td><td>1680624482000</td></tr><tr><td>dbfs:/FileStore/Bookimages/9788830307216.jpg</td><td>9788830307216.jpg</td><td>807</td><td>1680624492000</td></tr><tr><td>dbfs:/FileStore/Bookimages/9788830307223.jpg</td><td>9788830307223.jpg</td><td>807</td><td>1680624503000</td></tr><tr><td>dbfs:/FileStore/Bookimages/9788830307230.jpg</td><td>9788830307230.jpg</td><td>807</td><td>1680624513000</td></tr><tr><td>dbfs:/FileStore/Bookimages/9788830307247.jpg</td><td>9788830307247.jpg</td><td>807</td><td>1680624524000</td></tr><tr><td>dbfs:/FileStore/Bookimages/9788830307254.jpg</td><td>9788830307254.jpg</td><td>807</td><td>1680624534000</td></tr><tr><td>dbfs:/FileStore/Bookimages/9788830307261.jpg</td><td>9788830307261.jpg</td><td>807</td><td>1680624545000</td></tr><tr><td>dbfs:/FileStore/Bookimages/9788830307278.jpg</td><td>9788830307278.jpg</td><td>807</td><td>1680624556000</td></tr><tr><td>dbfs:/FileStore/Bookimages/9788830307285.jpg</td><td>9788830307285.jpg</td><td>807</td><td>1680624566000</td></tr><tr><td>dbfs:/FileStore/Bookimages/9788830307445.jpg</td><td>9788830307445.jpg</td><td>807</td><td>1680624577000</td></tr><tr><td>dbfs:/FileStore/Bookimages/9788830307896.jpg</td><td>9788830307896.jpg</td><td>807</td><td>1680624587000</td></tr><tr><td>dbfs:/FileStore/Bookimages/9788830307919.jpg</td><td>9788830307919.jpg</td><td>807</td><td>1680624598000</td></tr><tr><td>dbfs:/FileStore/Bookimages/9788830308466.jpg</td><td>9788830308466.jpg</td><td>807</td><td>1680624608000</td></tr><tr><td>dbfs:/FileStore/Bookimages/9788830308503.jpg</td><td>9788830308503.jpg</td><td>807</td><td>1680624619000</td></tr><tr><td>dbfs:/FileStore/Bookimages/9788830308688.jpg</td><td>9788830308688.jpg</td><td>807</td><td>1680624630000</td></tr><tr><td>dbfs:/FileStore/Bookimages/9788830308718.jpg</td><td>9788830308718.jpg</td><td>807</td><td>1680624293000</td></tr><tr><td>dbfs:/FileStore/Bookimages/9788830309135.jpg</td><td>9788830309135.jpg</td><td>807</td><td>1680624377000</td></tr><tr><td>dbfs:/FileStore/Bookimages/9788854045477.jpg</td><td>9788854045477.jpg</td><td>807</td><td>1680632538000</td></tr><tr><td>dbfs:/FileStore/Bookimages/9788854045484.jpg</td><td>9788854045484.jpg</td><td>807</td><td>1680632549000</td></tr><tr><td>dbfs:/FileStore/Bookimages/9788855060066.jpg</td><td>9788855060066.jpg</td><td>807</td><td>1680632559000</td></tr><tr><td>dbfs:/FileStore/Bookimages/9788855060073.jpg</td><td>9788855060073.jpg</td><td>807</td><td>1680632570000</td></tr><tr><td>dbfs:/FileStore/Bookimages/9789390213665.jpg</td><td>9789390213665.jpg</td><td>807</td><td>1680629696000</td></tr><tr><td>dbfs:/FileStore/Bookimages/9789463781213.jpg</td><td>9789463781213.jpg</td><td>807</td><td>1680632306000</td></tr><tr><td>dbfs:/FileStore/Bookimages/9789463781220.jpg</td><td>9789463781220.jpg</td><td>807</td><td>1680632317000</td></tr><tr><td>dbfs:/FileStore/Bookimages/9789463781237.jpg</td><td>9789463781237.jpg</td><td>807</td><td>1680632327000</td></tr><tr><td>dbfs:/FileStore/Bookimages/9789463786973.jpg</td><td>9789463786973.jpg</td><td>807</td><td>1680632338000</td></tr><tr><td>dbfs:/FileStore/Bookimages/9789463786980.jpg</td><td>9789463786980.jpg</td><td>807</td><td>1680632349000</td></tr><tr><td>dbfs:/FileStore/Bookimages/9789463787055.jpg</td><td>9789463787055.jpg</td><td>807</td><td>1680632359000</td></tr><tr><td>dbfs:/FileStore/Bookimages/9789463789240.jpg</td><td>9789463789240.jpg</td><td>807</td><td>1680632370000</td></tr><tr><td>dbfs:/FileStore/Bookimages/9789463789783.jpg</td><td>9789463789783.jpg</td><td>807</td><td>1680632380000</td></tr><tr><td>dbfs:/FileStore/Bookimages/9789463789813.jpg</td><td>9789463789813.jpg</td><td>807</td><td>1680632391000</td></tr><tr><td>dbfs:/FileStore/Bookimages/9789463996518.jpg</td><td>9789463996518.jpg</td><td>807</td><td>1680632401000</td></tr><tr><td>dbfs:/FileStore/Bookimages/9789463996525.jpg</td><td>9789463996525.jpg</td><td>807</td><td>1680632412000</td></tr><tr><td>dbfs:/FileStore/Bookimages/9789464224023.jpg</td><td>9789464224023.jpg</td><td>807</td><td>1680632422000</td></tr><tr><td>dbfs:/FileStore/Bookimages/9789464224030.jpg</td><td>9789464224030.jpg</td><td>807</td><td>1680632433000</td></tr><tr><td>dbfs:/FileStore/Bookimages/9789464224047.jpg</td><td>9789464224047.jpg</td><td>807</td><td>1680632443000</td></tr><tr><td>dbfs:/FileStore/Bookimages/9789464224696.jpg</td><td>9789464224696.jpg</td><td>807</td><td>1680632454000</td></tr><tr><td>dbfs:/FileStore/Bookimages/9789464224702.jpg</td><td>9789464224702.jpg</td><td>807</td><td>1680632464000</td></tr><tr><td>dbfs:/FileStore/Bookimages/9789464224719.jpg</td><td>9789464224719.jpg</td><td>807</td><td>1680632475000</td></tr><tr><td>dbfs:/FileStore/Bookimages/9789464224726.jpg</td><td>9789464224726.jpg</td><td>807</td><td>1680632485000</td></tr><tr><td>dbfs:/FileStore/Bookimages/9789464229691.jpg</td><td>9789464229691.jpg</td><td>807</td><td>1680632496000</td></tr><tr><td>dbfs:/FileStore/Bookimages/9789464229707.jpg</td><td>9789464229707.jpg</td><td>807</td><td>1680632506000</td></tr><tr><td>dbfs:/FileStore/Bookimages/9789464229714.jpg</td><td>9789464229714.jpg</td><td>807</td><td>1680632517000</td></tr><tr><td>dbfs:/FileStore/Bookimages/9789464229721.jpg</td><td>9789464229721.jpg</td><td>807</td><td>1680632528000</td></tr><tr><td>dbfs:/FileStore/Bookimages/9789464229936.jpg</td><td>9789464229936.jpg</td><td>807</td><td>1680633972000</td></tr><tr><td>dbfs:/FileStore/Bookimages/9789464229943.jpg</td><td>9789464229943.jpg</td><td>807</td><td>1680632696000</td></tr><tr><td>dbfs:/FileStore/Bookimages/9789578930162.jpg</td><td>9789578930162.jpg</td><td>807</td><td>1680639006000</td></tr><tr><td>dbfs:/FileStore/Bookimages/9789578930179.jpg</td><td>9789578930179.jpg</td><td>807</td><td>1680639017000</td></tr><tr><td>dbfs:/FileStore/Bookimages/9789578930216.jpg</td><td>9789578930216.jpg</td><td>807</td><td>1680639027000</td></tr><tr><td>dbfs:/FileStore/Bookimages/9789578930223.jpg</td><td>9789578930223.jpg</td><td>807</td><td>1680639038000</td></tr><tr><td>dbfs:/FileStore/Bookimages/9789578930230.jpg</td><td>9789578930230.jpg</td><td>807</td><td>1680639048000</td></tr><tr><td>dbfs:/FileStore/Bookimages/9789578930247.jpg</td><td>9789578930247.jpg</td><td>807</td><td>1680639059000</td></tr><tr><td>dbfs:/FileStore/Bookimages/9789578930339.jpg</td><td>9789578930339.jpg</td><td>807</td><td>1680639070000</td></tr><tr><td>dbfs:/FileStore/Bookimages/9789578930346.jpg</td><td>9789578930346.jpg</td><td>807</td><td>1680639080000</td></tr><tr><td>dbfs:/FileStore/Bookimages/9789578930353.jpg</td><td>9789578930353.jpg</td><td>807</td><td>1680639091000</td></tr><tr><td>dbfs:/FileStore/Bookimages/9789578930360.jpg</td><td>9789578930360.jpg</td><td>807</td><td>1680639101000</td></tr><tr><td>dbfs:/FileStore/Bookimages/9789578930643.jpg</td><td>9789578930643.jpg</td><td>807</td><td>1680639112000</td></tr><tr><td>dbfs:/FileStore/Bookimages/9789578930742.jpg</td><td>9789578930742.jpg</td><td>807</td><td>1680639122000</td></tr><tr><td>dbfs:/FileStore/Bookimages/9789578930759.jpg</td><td>9789578930759.jpg</td><td>807</td><td>1680639133000</td></tr><tr><td>dbfs:/FileStore/Bookimages/9789578930773.jpg</td><td>9789578930773.jpg</td><td>807</td><td>1680639143000</td></tr><tr><td>dbfs:/FileStore/Bookimages/9789578930803.jpg</td><td>9789578930803.jpg</td><td>807</td><td>1680639154000</td></tr><tr><td>dbfs:/FileStore/Bookimages/9789578930810.jpg</td><td>9789578930810.jpg</td><td>807</td><td>1680639164000</td></tr><tr><td>dbfs:/FileStore/Bookimages/9789578930872.jpg</td><td>9789578930872.jpg</td><td>807</td><td>1680639175000</td></tr><tr><td>dbfs:/FileStore/Bookimages/9789578930889.jpg</td><td>9789578930889.jpg</td><td>807</td><td>1680639333000</td></tr><tr><td>dbfs:/FileStore/Bookimages/9789811185892.jpg</td><td>9789811185892.jpg</td><td>807</td><td>1680623739000</td></tr><tr><td>dbfs:/FileStore/Bookimages/9789813372306.jpg</td><td>9789813372306.jpg</td><td>807</td><td>1680624207000</td></tr><tr><td>dbfs:/FileStore/Bookimages/9789813372320.jpg</td><td>9789813372320.jpg</td><td>807</td><td>1680624079000</td></tr><tr><td>dbfs:/FileStore/Bookimages/9789814880220.jpg</td><td>9789814880220.jpg</td><td>807</td><td>1680623802000</td></tr><tr><td>dbfs:/FileStore/Bookimages/9789814880237.jpg</td><td>9789814880237.jpg</td><td>807</td><td>1680623813000</td></tr><tr><td>dbfs:/FileStore/Bookimages/9789814918008.jpg</td><td>9789814918008.jpg</td><td>807</td><td>1680620670000</td></tr><tr><td>dbfs:/FileStore/Bookimages/9789814958783.jpg</td><td>9789814958783.jpg</td><td>807</td><td>1680623760000</td></tr><tr><td>dbfs:/FileStore/Bookimages/9789814961639.jpg</td><td>9789814961639.jpg</td><td>807</td><td>1680623771000</td></tr><tr><td>dbfs:/FileStore/Bookimages/9789814961646.jpg</td><td>9789814961646.jpg</td><td>807</td><td>1680623781000</td></tr><tr><td>dbfs:/FileStore/Bookimages/9789814961653.jpg</td><td>9789814961653.jpg</td><td>807</td><td>1680623792000</td></tr><tr><td>dbfs:/FileStore/Bookimages/9789815002720.jpg</td><td>9789815002720.jpg</td><td>807</td><td>1680620680000</td></tr><tr><td>dbfs:/FileStore/Bookimages/9789815002737.jpg</td><td>9789815002737.jpg</td><td>807</td><td>1680620691000</td></tr><tr><td>dbfs:/FileStore/Bookimages/9789815002744.jpg</td><td>9789815002744.jpg</td><td>807</td><td>1680620701000</td></tr><tr><td>dbfs:/FileStore/Bookimages/9789815022667.jpg</td><td>9789815022667.jpg</td><td>807</td><td>1680620712000</td></tr><tr><td>dbfs:/FileStore/Bookimages/9789815022810.jpg</td><td>9789815022810.jpg</td><td>807</td><td>1680623750000</td></tr><tr><td>dbfs:/FileStore/Bookimages/9789865528508.jpg</td><td>9789865528508.jpg</td><td>807</td><td>1680639301000</td></tr><tr><td>dbfs:/FileStore/Bookimages/9789865528621.jpg</td><td>9789865528621.jpg</td><td>807</td><td>1680634004000</td></tr><tr><td>dbfs:/FileStore/Bookimages/9789865528638.jpg</td><td>9789865528638.jpg</td><td>807</td><td>1680639312000</td></tr><tr><td>dbfs:/FileStore/Bookimages/9789865528683.jpg</td><td>9789865528683.jpg</td><td>807</td><td>1680639322000</td></tr><tr><td>dbfs:/FileStore/Bookimages/9789869369947.jpg</td><td>9789869369947.jpg</td><td>807</td><td>1680639185000</td></tr><tr><td>dbfs:/FileStore/Bookimages/9789869369992.jpg</td><td>9789869369992.jpg</td><td>807</td><td>1680639196000</td></tr><tr><td>dbfs:/FileStore/Bookimages/9789869502405.jpg</td><td>9789869502405.jpg</td><td>807</td><td>1680639206000</td></tr><tr><td>dbfs:/FileStore/Bookimages/9789869502412.jpg</td><td>9789869502412.jpg</td><td>807</td><td>1680639217000</td></tr><tr><td>dbfs:/FileStore/Bookimages/9789869502429.jpg</td><td>9789869502429.jpg</td><td>807</td><td>1680639227000</td></tr><tr><td>dbfs:/FileStore/Bookimages/9789869502443.jpg</td><td>9789869502443.jpg</td><td>807</td><td>1680639238000</td></tr><tr><td>dbfs:/FileStore/Bookimages/9789869502450.jpg</td><td>9789869502450.jpg</td><td>807</td><td>1680639249000</td></tr><tr><td>dbfs:/FileStore/Bookimages/9789869502467.jpg</td><td>9789869502467.jpg</td><td>807</td><td>1680639259000</td></tr><tr><td>dbfs:/FileStore/Bookimages/9789869502474.jpg</td><td>9789869502474.jpg</td><td>807</td><td>1680639270000</td></tr><tr><td>dbfs:/FileStore/Bookimages/9789869502481.jpg</td><td>9789869502481.jpg</td><td>807</td><td>1680639280000</td></tr><tr><td>dbfs:/FileStore/Bookimages/9789869598002.jpg</td><td>9789869598002.jpg</td><td>807</td><td>1680639291000</td></tr><tr><td>dbfs:/FileStore/Bookimages/UK.jpg</td><td>UK.jpg</td><td>807</td><td>1680630965000</td></tr></tbody></table></div>"
      ]
     },
     "metadata": {
      "application/vnd.databricks.v1+output": {
       "addedWidgets": {},
       "aggData": [],
       "aggError": "",
       "aggOverflow": false,
       "aggSchema": [],
       "aggSeriesLimitReached": false,
       "aggType": "",
       "arguments": {},
       "columnCustomDisplayInfos": {},
       "data": [
        [
         "dbfs:/FileStore/Bookimages/.jpg",
         ".jpg",
         807,
         1680626096000
        ],
        [
         "dbfs:/FileStore/Bookimages/9780007488308.jpg",
         "9780007488308.jpg",
         17983,
         1680620327000
        ],
        [
         "dbfs:/FileStore/Bookimages/9780007488322.jpg",
         "9780007488322.jpg",
         17580,
         1680620338000
        ],
        [
         "dbfs:/FileStore/Bookimages/9780007488346.jpg",
         "9780007488346.jpg",
         17429,
         1680620350000
        ],
        [
         "dbfs:/FileStore/Bookimages/9780007591862.jpg",
         "9780007591862.jpg",
         23690,
         1680620361000
        ],
        [
         "dbfs:/FileStore/Bookimages/9780007957798.jpg",
         "9780007957798.jpg",
         807,
         1680627686000
        ],
        [
         "dbfs:/FileStore/Bookimages/9780007977178.jpg",
         "9780007977178.jpg",
         12838,
         1680630384000
        ],
        [
         "dbfs:/FileStore/Bookimages/9780008308407.jpg",
         "9780008308407.jpg",
         807,
         1680621959000
        ],
        [
         "dbfs:/FileStore/Bookimages/9780008308445.jpg",
         "9780008308445.jpg",
         807,
         1680621970000
        ],
        [
         "dbfs:/FileStore/Bookimages/9780008308483.jpg",
         "9780008308483.jpg",
         807,
         1680621981000
        ],
        [
         "dbfs:/FileStore/Bookimages/9780008333843.jpg",
         "9780008333843.jpg",
         11308,
         1680621991000
        ],
        [
         "dbfs:/FileStore/Bookimages/9780008411312.jpg",
         "9780008411312.jpg",
         807,
         1680622002000
        ],
        [
         "dbfs:/FileStore/Bookimages/9780008471804.jpg",
         "9780008471804.jpg",
         807,
         1680621469000
        ],
        [
         "dbfs:/FileStore/Bookimages/9780008496005.jpg",
         "9780008496005.jpg",
         807,
         1680621480000
        ],
        [
         "dbfs:/FileStore/Bookimages/9780008499525.jpg",
         "9780008499525.jpg",
         807,
         1680624271000
        ],
        [
         "dbfs:/FileStore/Bookimages/9780008499778.jpg",
         "9780008499778.jpg",
         24431,
         1680621301000
        ],
        [
         "dbfs:/FileStore/Bookimages/9780008502928.jpg",
         "9780008502928.jpg",
         807,
         1680621448000
        ],
        [
         "dbfs:/FileStore/Bookimages/9780008525231.jpg",
         "9780008525231.jpg",
         807,
         1680621459000
        ],
        [
         "dbfs:/FileStore/Bookimages/9780008579944.jpg",
         "9780008579944.jpg",
         807,
         1680633994000
        ],
        [
         "dbfs:/FileStore/Bookimages/9780008616076.jpg",
         "9780008616076.jpg",
         807,
         1680636289000
        ],
        [
         "dbfs:/FileStore/Bookimages/9780061998683.jpg",
         "9780061998683.jpg",
         807,
         1680623389000
        ],
        [
         "dbfs:/FileStore/Bookimages/9780062747310.jpg",
         "9780062747310.jpg",
         17748,
         1680622557000
        ],
        [
         "dbfs:/FileStore/Bookimages/9780062747815.jpg",
         "9780062747815.jpg",
         19997,
         1680622568000
        ],
        [
         "dbfs:/FileStore/Bookimages/9780062823588.jpg",
         "9780062823588.jpg",
         807,
         1680622514000
        ],
        [
         "dbfs:/FileStore/Bookimages/9780062823700.jpg",
         "9780062823700.jpg",
         10610,
         1680622525000
        ],
        [
         "dbfs:/FileStore/Bookimages/9780062823748.jpg",
         "9780062823748.jpg",
         18357,
         1680622536000
        ],
        [
         "dbfs:/FileStore/Bookimages/9780062823786.jpg",
         "9780062823786.jpg",
         807,
         1680622546000
        ],
        [
         "dbfs:/FileStore/Bookimages/9780062894564.jpg",
         "9780062894564.jpg",
         16285,
         1680622086000
        ],
        [
         "dbfs:/FileStore/Bookimages/9780063139183.jpg",
         "9780063139183.jpg",
         807,
         1680622097000
        ],
        [
         "dbfs:/FileStore/Bookimages/9780063206748.jpg",
         "9780063206748.jpg",
         24062,
         1680622493000
        ],
        [
         "dbfs:/FileStore/Bookimages/9780063211490.jpg",
         "9780063211490.jpg",
         14635,
         1680622504000
        ],
        [
         "dbfs:/FileStore/Bookimages/9780141046303.jpg",
         "9780141046303.jpg",
         19238,
         1680628332000
        ],
        [
         "dbfs:/FileStore/Bookimages/9780141340135.jpg",
         "9780141340135.jpg",
         14261,
         1680628343000
        ],
        [
         "dbfs:/FileStore/Bookimages/9780141340234.jpg",
         "9780141340234.jpg",
         11567,
         1680628354000
        ],
        [
         "dbfs:/FileStore/Bookimages/9780241182987.jpg",
         "9780241182987.jpg",
         14032,
         1680630668000
        ],
        [
         "dbfs:/FileStore/Bookimages/9780241232545.jpg",
         "9780241232545.jpg",
         26078,
         1680630679000
        ],
        [
         "dbfs:/FileStore/Bookimages/9780241281079.jpg",
         "9780241281079.jpg",
         807,
         1680630690000
        ],
        [
         "dbfs:/FileStore/Bookimages/9780241281093.jpg",
         "9780241281093.jpg",
         807,
         1680630700000
        ],
        [
         "dbfs:/FileStore/Bookimages/9780241288405.jpg",
         "9780241288405.jpg",
         807,
         1680630711000
        ],
        [
         "dbfs:/FileStore/Bookimages/9780241297629.jpg",
         "9780241297629.jpg",
         807,
         1680630721000
        ],
        [
         "dbfs:/FileStore/Bookimages/9780241310120.jpg",
         "9780241310120.jpg",
         807,
         1680630732000
        ],
        [
         "dbfs:/FileStore/Bookimages/9780241315996.jpg",
         "9780241315996.jpg",
         807,
         1680630742000
        ],
        [
         "dbfs:/FileStore/Bookimages/9780241316016.jpg",
         "9780241316016.jpg",
         807,
         1680630753000
        ],
        [
         "dbfs:/FileStore/Bookimages/9780241353097.jpg",
         "9780241353097.jpg",
         807,
         1680628290000
        ],
        [
         "dbfs:/FileStore/Bookimages/9780241355435.jpg",
         "9780241355435.jpg",
         807,
         1680630605000
        ],
        [
         "dbfs:/FileStore/Bookimages/9780241362235.jpg",
         "9780241362235.jpg",
         807,
         1680621501000
        ],
        [
         "dbfs:/FileStore/Bookimages/9780241364956.jpg",
         "9780241364956.jpg",
         807,
         1680627910000
        ],
        [
         "dbfs:/FileStore/Bookimages/9780241366912.jpg",
         "9780241366912.jpg",
         807,
         1680630616000
        ],
        [
         "dbfs:/FileStore/Bookimages/9780241382202.jpg",
         "9780241382202.jpg",
         807,
         1680630626000
        ],
        [
         "dbfs:/FileStore/Bookimages/9780241408889.jpg",
         "9780241408889.jpg",
         807,
         1680630637000
        ],
        [
         "dbfs:/FileStore/Bookimages/9780241409466.jpg",
         "9780241409466.jpg",
         807,
         1680630647000
        ],
        [
         "dbfs:/FileStore/Bookimages/9780241411803.jpg",
         "9780241411803.jpg",
         807,
         1680630658000
        ],
        [
         "dbfs:/FileStore/Bookimages/9780241414378.jpg",
         "9780241414378.jpg",
         807,
         1680628301000
        ],
        [
         "dbfs:/FileStore/Bookimages/9780241417843.jpg",
         "9780241417843.jpg",
         807,
         1680630584000
        ],
        [
         "dbfs:/FileStore/Bookimages/9780241419755.jpg",
         "9780241419755.jpg",
         807,
         1680630595000
        ],
        [
         "dbfs:/FileStore/Bookimages/9780241426319.jpg",
         "9780241426319.jpg",
         807,
         1680621938000
        ],
        [
         "dbfs:/FileStore/Bookimages/9780241426913.jpg",
         "9780241426913.jpg",
         807,
         1680630458000
        ],
        [
         "dbfs:/FileStore/Bookimages/9780241434710.jpg",
         "9780241434710.jpg",
         807,
         1680628322000
        ],
        [
         "dbfs:/FileStore/Bookimages/9780241446010.jpg",
         "9780241446010.jpg",
         807,
         1680621511000
        ],
        [
         "dbfs:/FileStore/Bookimages/9780241446034.jpg",
         "9780241446034.jpg",
         807,
         1680621522000
        ],
        [
         "dbfs:/FileStore/Bookimages/9780241446072.jpg",
         "9780241446072.jpg",
         807,
         1680621532000
        ],
        [
         "dbfs:/FileStore/Bookimages/9780241446386.jpg",
         "9780241446386.jpg",
         807,
         1680621949000
        ],
        [
         "dbfs:/FileStore/Bookimages/9780241465165.jpg",
         "9780241465165.jpg",
         807,
         1680630479000
        ],
        [
         "dbfs:/FileStore/Bookimages/9780241465172.jpg",
         "9780241465172.jpg",
         807,
         1680630489000
        ],
        [
         "dbfs:/FileStore/Bookimages/9780241465189.jpg",
         "9780241465189.jpg",
         807,
         1680630500000
        ],
        [
         "dbfs:/FileStore/Bookimages/9780241465196.jpg",
         "9780241465196.jpg",
         807,
         1680630510000
        ],
        [
         "dbfs:/FileStore/Bookimages/9780241465202.jpg",
         "9780241465202.jpg",
         807,
         1680630521000
        ],
        [
         "dbfs:/FileStore/Bookimages/9780241465233.jpg",
         "9780241465233.jpg",
         807,
         1680630531000
        ],
        [
         "dbfs:/FileStore/Bookimages/9780241465240.jpg",
         "9780241465240.jpg",
         807,
         1680630542000
        ],
        [
         "dbfs:/FileStore/Bookimages/9780241465264.jpg",
         "9780241465264.jpg",
         807,
         1680630552000
        ],
        [
         "dbfs:/FileStore/Bookimages/9780241467169.jpg",
         "9780241467169.jpg",
         807,
         1680630563000
        ],
        [
         "dbfs:/FileStore/Bookimages/9780241472217.jpg",
         "9780241472217.jpg",
         807,
         1680630574000
        ],
        [
         "dbfs:/FileStore/Bookimages/9780241476215.jpg",
         "9780241476215.jpg",
         807,
         1680621543000
        ],
        [
         "dbfs:/FileStore/Bookimages/9780241476369.jpg",
         "9780241476369.jpg",
         807,
         1680621553000
        ],
        [
         "dbfs:/FileStore/Bookimages/9780241476529.jpg",
         "9780241476529.jpg",
         807,
         1680621564000
        ],
        [
         "dbfs:/FileStore/Bookimages/9780241476581.jpg",
         "9780241476581.jpg",
         18730,
         1680621574000
        ],
        [
         "dbfs:/FileStore/Bookimages/9780241481738.jpg",
         "9780241481738.jpg",
         807,
         1680621585000
        ],
        [
         "dbfs:/FileStore/Bookimages/9780241520192.jpg",
         "9780241520192.jpg",
         807,
         1680628311000
        ],
        [
         "dbfs:/FileStore/Bookimages/9780241520987.jpg",
         "9780241520987.jpg",
         24867,
         1680621596000
        ],
        [
         "dbfs:/FileStore/Bookimages/9780241525357.jpg",
         "9780241525357.jpg",
         807,
         1680630468000
        ],
        [
         "dbfs:/FileStore/Bookimages/9780241530405.jpg",
         "9780241530405.jpg",
         807,
         1680621490000
        ],
        [
         "dbfs:/FileStore/Bookimages/9780241532706.jpg",
         "9780241532706.jpg",
         807,
         1680630395000
        ],
        [
         "dbfs:/FileStore/Bookimages/9780241532713.jpg",
         "9780241532713.jpg",
         807,
         1680630405000
        ],
        [
         "dbfs:/FileStore/Bookimages/9780241532720.jpg",
         "9780241532720.jpg",
         807,
         1680630416000
        ],
        [
         "dbfs:/FileStore/Bookimages/9780241532737.jpg",
         "9780241532737.jpg",
         807,
         1680630426000
        ],
        [
         "dbfs:/FileStore/Bookimages/9780241532744.jpg",
         "9780241532744.jpg",
         807,
         1680630437000
        ],
        [
         "dbfs:/FileStore/Bookimages/9780241532768.jpg",
         "9780241532768.jpg",
         807,
         1680630447000
        ],
        [
         "dbfs:/FileStore/Bookimages/9780241532775.jpg",
         "9780241532775.jpg",
         807,
         1680630785000
        ],
        [
         "dbfs:/FileStore/Bookimages/9780241532782.jpg",
         "9780241532782.jpg",
         807,
         1680630795000
        ],
        [
         "dbfs:/FileStore/Bookimages/9780241534236.jpg",
         "9780241534236.jpg",
         14605,
         1680621927000
        ],
        [
         "dbfs:/FileStore/Bookimages/9780241544754.jpg",
         "9780241544754.jpg",
         807,
         1680628364000
        ],
        [
         "dbfs:/FileStore/Bookimages/9780241547700.jpg",
         "9780241547700.jpg",
         807,
         1680621606000
        ],
        [
         "dbfs:/FileStore/Bookimages/9780241553923.jpg",
         "9780241553923.jpg",
         807,
         1680630774000
        ],
        [
         "dbfs:/FileStore/Bookimages/9780241583081.jpg",
         "9780241583081.jpg",
         27709,
         1680629559000
        ],
        [
         "dbfs:/FileStore/Bookimages/9780241951712.jpg",
         "9780241951712.jpg",
         16769,
         1680628376000
        ],
        [
         "dbfs:/FileStore/Bookimages/9780241951729.jpg",
         "9780241951729.jpg",
         17354,
         1680628386000
        ],
        [
         "dbfs:/FileStore/Bookimages/9780241951736.jpg",
         "9780241951736.jpg",
         20769,
         1680628397000
        ],
        [
         "dbfs:/FileStore/Bookimages/9780261102217.jpg",
         "9780261102217.jpg",
         8175,
         1680622075000
        ],
        [
         "dbfs:/FileStore/Bookimages/9780312522070.jpg",
         "9780312522070.jpg",
         23443,
         1680620787000
        ],
        [
         "dbfs:/FileStore/Bookimages/9780312526498.jpg",
         "9780312526498.jpg",
         807,
         1680620797000
        ],
        [
         "dbfs:/FileStore/Bookimages/9780312526566.jpg",
         "9780312526566.jpg",
         807,
         1680620808000
        ],
        [
         "dbfs:/FileStore/Bookimages/9780312526573.jpg",
         "9780312526573.jpg",
         15657,
         1680620819000
        ],
        [
         "dbfs:/FileStore/Bookimages/9780312526580.jpg",
         "9780312526580.jpg",
         14645,
         1680620829000
        ],
        [
         "dbfs:/FileStore/Bookimages/9780312526931.jpg",
         "9780312526931.jpg",
         13847,
         1680620840000
        ],
        [
         "dbfs:/FileStore/Bookimages/9780312527228.jpg",
         "9780312527228.jpg",
         807,
         1680620850000
        ],
        [
         "dbfs:/FileStore/Bookimages/9780312527952.jpg",
         "9780312527952.jpg",
         26376,
         1680620863000
        ],
        [
         "dbfs:/FileStore/Bookimages/9780312528027.jpg",
         "9780312528027.jpg",
         807,
         1680620873000
        ],
        [
         "dbfs:/FileStore/Bookimages/9780312529048.jpg",
         "9780312529048.jpg",
         807,
         1680620884000
        ],
        [
         "dbfs:/FileStore/Bookimages/9780312529277.jpg",
         "9780312529277.jpg",
         13213,
         1680620896000
        ],
        [
         "dbfs:/FileStore/Bookimages/9780312529383.jpg",
         "9780312529383.jpg",
         11661,
         1680620906000
        ],
        [
         "dbfs:/FileStore/Bookimages/9780312529734.jpg",
         "9780312529734.jpg",
         13656,
         1680620917000
        ],
        [
         "dbfs:/FileStore/Bookimages/9780312529741.jpg",
         "9780312529741.jpg",
         807,
         1680620928000
        ],
        [
         "dbfs:/FileStore/Bookimages/9780316056083.jpg",
         "9780316056083.jpg",
         807,
         1680629569000
        ],
        [
         "dbfs:/FileStore/Bookimages/9780316247771.jpg",
         "9780316247771.jpg",
         807,
         1680635675000
        ],
        [
         "dbfs:/FileStore/Bookimages/9780316274326.jpg",
         "9780316274326.jpg",
         18475,
         1680635686000
        ],
        [
         "dbfs:/FileStore/Bookimages/9780316301633.jpg",
         "9780316301633.jpg",
         21694,
         1680635698000
        ],
        [
         "dbfs:/FileStore/Bookimages/9780316318884.jpg",
         "9780316318884.jpg",
         807,
         1680635709000
        ],
        [
         "dbfs:/FileStore/Bookimages/9780316356800.jpg",
         "9780316356800.jpg",
         807,
         1680635719000
        ],
        [
         "dbfs:/FileStore/Bookimages/9780316393911.jpg",
         "9780316393911.jpg",
         807,
         1680620198000
        ],
        [
         "dbfs:/FileStore/Bookimages/9780316395342.jpg",
         "9780316395342.jpg",
         24204,
         1680635730000
        ],
        [
         "dbfs:/FileStore/Bookimages/9780316413428.jpg",
         "9780316413428.jpg",
         29617,
         1680635741000
        ],
        [
         "dbfs:/FileStore/Bookimages/9780316431866.jpg",
         "9780316431866.jpg",
         807,
         1680635751000
        ],
        [
         "dbfs:/FileStore/Bookimages/9780316475631.jpg",
         "9780316475631.jpg",
         30661,
         1680635762000
        ],
        [
         "dbfs:/FileStore/Bookimages/9780316475716.jpg",
         "9780316475716.jpg",
         807,
         1680635773000
        ],
        [
         "dbfs:/FileStore/Bookimages/9780316501927.jpg",
         "9780316501927.jpg",
         26202,
         1680635785000
        ],
        [
         "dbfs:/FileStore/Bookimages/9780316525978.jpg",
         "9780316525978.jpg",
         30831,
         1680635797000
        ],
        [
         "dbfs:/FileStore/Bookimages/9780316557528.jpg",
         "9780316557528.jpg",
         28961,
         1680635808000
        ],
        [
         "dbfs:/FileStore/Bookimages/9780330513838.jpg",
         "9780330513838.jpg",
         807,
         1680624239000
        ],
        [
         "dbfs:/FileStore/Bookimages/9780330513845.jpg",
         "9780330513845.jpg",
         15529,
         1680624250000
        ],
        [
         "dbfs:/FileStore/Bookimages/9780330513852.jpg",
         "9780330513852.jpg",
         807,
         1680624260000
        ],
        [
         "dbfs:/FileStore/Bookimages/9780340680919.jpg",
         "9780340680919.jpg",
         20042,
         1680630764000
        ],
        [
         "dbfs:/FileStore/Bookimages/9780340680940.jpg",
         "9780340680940.jpg",
         19798,
         1680629964000
        ],
        [
         "dbfs:/FileStore/Bookimages/9780340680971.jpg",
         "9780340680971.jpg",
         20271,
         1680629975000
        ],
        [
         "dbfs:/FileStore/Bookimages/9780340680988.jpg",
         "9780340680988.jpg",
         11684,
         1680629986000
        ],
        [
         "dbfs:/FileStore/Bookimages/9780340680995.jpg",
         "9780340680995.jpg",
         21485,
         1680629998000
        ],
        [
         "dbfs:/FileStore/Bookimages/9780340681008.jpg",
         "9780340681008.jpg",
         20518,
         1680630009000
        ],
        [
         "dbfs:/FileStore/Bookimages/9780340681015.jpg",
         "9780340681015.jpg",
         20885,
         1680630020000
        ],
        [
         "dbfs:/FileStore/Bookimages/9780340681022.jpg",
         "9780340681022.jpg",
         11147,
         1680630030000
        ],
        [
         "dbfs:/FileStore/Bookimages/9780340681039.jpg",
         "9780340681039.jpg",
         19336,
         1680630042000
        ],
        [
         "dbfs:/FileStore/Bookimages/9780340681046.jpg",
         "9780340681046.jpg",
         22549,
         1680630053000
        ],
        [
         "dbfs:/FileStore/Bookimages/9780340681053.jpg",
         "9780340681053.jpg",
         807,
         1680630064000
        ],
        [
         "dbfs:/FileStore/Bookimages/9780340681176.jpg",
         "9780340681176.jpg",
         11781,
         1680630074000
        ],
        [
         "dbfs:/FileStore/Bookimages/9780340681213.jpg",
         "9780340681213.jpg",
         11310,
         1680630085000
        ],
        [
         "dbfs:/FileStore/Bookimages/9780340681251.jpg",
         "9780340681251.jpg",
         11664,
         1680630095000
        ],
        [
         "dbfs:/FileStore/Bookimages/9780340709344.jpg",
         "9780340709344.jpg",
         807,
         1680630106000
        ],
        [
         "dbfs:/FileStore/Bookimages/9780349013329.jpg",
         "9780349013329.jpg",
         807,
         1680630116000
        ],
        [
         "dbfs:/FileStore/Bookimages/9780374303952.jpg",
         "9780374303952.jpg",
         807,
         1680635818000
        ],
        [
         "dbfs:/FileStore/Bookimages/9780399544132.jpg",
         "9780399544132.jpg",
         19609,
         1680622803000
        ],
        [
         "dbfs:/FileStore/Bookimages/9780399544361.jpg",
         "9780399544361.jpg",
         807,
         1680620219000
        ],
        [
         "dbfs:/FileStore/Bookimages/9780448488493.jpg",
         "9780448488493.jpg",
         807,
         1680620229000
        ],
        [
         "dbfs:/FileStore/Bookimages/9780448488615.jpg",
         "9780448488615.jpg",
         22145,
         1680620241000
        ],
        [
         "dbfs:/FileStore/Bookimages/9780451532428.jpg",
         "9780451532428.jpg",
         807,
         1680620252000
        ],
        [
         "dbfs:/FileStore/Bookimages/9780451532541.jpg",
         "9780451532541.jpg",
         24248,
         1680622835000
        ],
        [
         "dbfs:/FileStore/Bookimages/9780500651285.jpg",
         "9780500651285.jpg",
         807,
         1680629932000
        ],
        [
         "dbfs:/FileStore/Bookimages/9780500651292.jpg",
         "9780500651292.jpg",
         807,
         1680629943000
        ],
        [
         "dbfs:/FileStore/Bookimages/9780500651520.jpg",
         "9780500651520.jpg",
         17749,
         1680629954000
        ],
        [
         "dbfs:/FileStore/Bookimages/9780515157260.jpg",
         "9780515157260.jpg",
         24557,
         1680638730000
        ],
        [
         "dbfs:/FileStore/Bookimages/9780525647775.jpg",
         "9780525647775.jpg",
         807,
         1680627771000
        ],
        [
         "dbfs:/FileStore/Bookimages/9780552171342.jpg",
         "9780552171342.jpg",
         10674,
         1680627749000
        ],
        [
         "dbfs:/FileStore/Bookimages/9780552171359.jpg",
         "9780552171359.jpg",
         807,
         1680627760000
        ],
        [
         "dbfs:/FileStore/Bookimages/9780552171366.jpg",
         "9780552171366.jpg",
         807,
         1680627697000
        ],
        [
         "dbfs:/FileStore/Bookimages/9780552171373.jpg",
         "9780552171373.jpg",
         807,
         1680627707000
        ],
        [
         "dbfs:/FileStore/Bookimages/9780552172592.jpg",
         "9780552172592.jpg",
         807,
         1680627718000
        ],
        [
         "dbfs:/FileStore/Bookimages/9780552174114.jpg",
         "9780552174114.jpg",
         807,
         1680627728000
        ],
        [
         "dbfs:/FileStore/Bookimages/9780552177177.jpg",
         "9780552177177.jpg",
         807,
         1680627739000
        ],
        [
         "dbfs:/FileStore/Bookimages/9780552577632.jpg",
         "9780552577632.jpg",
         807,
         1680630352000
        ],
        [
         "dbfs:/FileStore/Bookimages/9780552577649.jpg",
         "9780552577649.jpg",
         807,
         1680630363000
        ],
        [
         "dbfs:/FileStore/Bookimages/9780552577656.jpg",
         "9780552577656.jpg",
         807,
         1680630374000
        ],
        [
         "dbfs:/FileStore/Bookimages/9780552577854.jpg",
         "9780552577854.jpg",
         807,
         1680628408000
        ],
        [
         "dbfs:/FileStore/Bookimages/9780593093764.jpg",
         "9780593093764.jpg",
         18603,
         1680638741000
        ],
        [
         "dbfs:/FileStore/Bookimages/9780593097519.jpg",
         "9780593097519.jpg",
         18449,
         1680620208000
        ],
        [
         "dbfs:/FileStore/Bookimages/9780593117545.jpg",
         "9780593117545.jpg",
         1770,
         1680622931000
        ],
        [
         "dbfs:/FileStore/Bookimages/9780593175347.jpg",
         "9780593175347.jpg",
         30623,
         1680622942000
        ],
        [
         "dbfs:/FileStore/Bookimages/9780593182079.jpg",
         "9780593182079.jpg",
         29285,
         1680622953000
        ],
        [
         "dbfs:/FileStore/Bookimages/9780593224403.jpg",
         "9780593224403.jpg",
         807,
         1680638784000
        ],
        [
         "dbfs:/FileStore/Bookimages/9780593224434.jpg",
         "9780593224434.jpg",
         24013,
         1680638794000
        ],
        [
         "dbfs:/FileStore/Bookimages/9780593224465.jpg",
         "9780593224465.jpg",
         22327,
         1680638805000
        ],
        [
         "dbfs:/FileStore/Bookimages/9780593224496.jpg",
         "9780593224496.jpg",
         29484,
         1680638816000
        ],
        [
         "dbfs:/FileStore/Bookimages/9780593224625.jpg",
         "9780593224625.jpg",
         807,
         1680638826000
        ],
        [
         "dbfs:/FileStore/Bookimages/9780593225165.jpg",
         "9780593225165.jpg",
         25023,
         1680638837000
        ],
        [
         "dbfs:/FileStore/Bookimages/9780593225905.jpg",
         "9780593225905.jpg",
         23863,
         1680638848000
        ],
        [
         "dbfs:/FileStore/Bookimages/9780593226865.jpg",
         "9780593226865.jpg",
         19979,
         1680623379000
        ],
        [
         "dbfs:/FileStore/Bookimages/9780593227022.jpg",
         "9780593227022.jpg",
         23257,
         1680638751000
        ],
        [
         "dbfs:/FileStore/Bookimages/9780593302071.jpg",
         "9780593302071.jpg",
         24852,
         1680622963000
        ],
        [
         "dbfs:/FileStore/Bookimages/9780593349663.jpg",
         "9780593349663.jpg",
         27654,
         1680638762000
        ],
        [
         "dbfs:/FileStore/Bookimages/9780593383612.jpg",
         "9780593383612.jpg",
         807,
         1680623357000
        ],
        [
         "dbfs:/FileStore/Bookimages/9780593383650.jpg",
         "9780593383650.jpg",
         21651,
         1680623368000
        ],
        [
         "dbfs:/FileStore/Bookimages/9780593384695.jpg",
         "9780593384695.jpg",
         25399,
         1680638773000
        ],
        [
         "dbfs:/FileStore/Bookimages/9780593425596.jpg",
         "9780593425596.jpg",
         807,
         1680623347000
        ],
        [
         "dbfs:/FileStore/Bookimages/9780593425640.jpg",
         "9780593425640.jpg",
         23736,
         1680622974000
        ],
        [
         "dbfs:/FileStore/Bookimages/9780593432204.jpg",
         "9780593432204.jpg",
         25230,
         1680622985000
        ],
        [
         "dbfs:/FileStore/Bookimages/9780593432228.jpg",
         "9780593432228.jpg",
         807,
         1680622995000
        ],
        [
         "dbfs:/FileStore/Bookimages/9780593432280.jpg",
         "9780593432280.jpg",
         807,
         1680623006000
        ],
        [
         "dbfs:/FileStore/Bookimages/9780593432303.jpg",
         "9780593432303.jpg",
         807,
         1680623017000
        ],
        [
         "dbfs:/FileStore/Bookimages/9780593432327.jpg",
         "9780593432327.jpg",
         807,
         1680623027000
        ],
        [
         "dbfs:/FileStore/Bookimages/9780593432440.jpg",
         "9780593432440.jpg",
         807,
         1680623038000
        ],
        [
         "dbfs:/FileStore/Bookimages/9780593432464.jpg",
         "9780593432464.jpg",
         807,
         1680623048000
        ],
        [
         "dbfs:/FileStore/Bookimages/9780593432488.jpg",
         "9780593432488.jpg",
         807,
         1680623059000
        ],
        [
         "dbfs:/FileStore/Bookimages/9780593433751.jpg",
         "9780593433751.jpg",
         807,
         1680623069000
        ],
        [
         "dbfs:/FileStore/Bookimages/9780593433911.jpg",
         "9780593433911.jpg",
         807,
         1680623080000
        ],
        [
         "dbfs:/FileStore/Bookimages/9780593463109.jpg",
         "9780593463109.jpg",
         807,
         1680638655000
        ],
        [
         "dbfs:/FileStore/Bookimages/9780593487785.jpg",
         "9780593487785.jpg",
         807,
         1680622814000
        ],
        [
         "dbfs:/FileStore/Bookimages/9780593524145.jpg",
         "9780593524145.jpg",
         807,
         1680622824000
        ],
        [
         "dbfs:/FileStore/Bookimages/9780593527498.jpg",
         "9780593527498.jpg",
         23924,
         1680638718000
        ],
        [
         "dbfs:/FileStore/Bookimages/9780593567432.jpg",
         "9780593567432.jpg",
         807,
         1680638707000
        ],
        [
         "dbfs:/FileStore/Bookimages/9780593567449.jpg",
         "9780593567449.jpg",
         807,
         1680622846000
        ],
        [
         "dbfs:/FileStore/Bookimages/9780593567456.jpg",
         "9780593567456.jpg",
         807,
         1680638665000
        ],
        [
         "dbfs:/FileStore/Bookimages/9780593572573.jpg",
         "9780593572573.jpg",
         807,
         1680638676000
        ],
        [
         "dbfs:/FileStore/Bookimages/9780593616055.jpg",
         "9780593616055.jpg",
         807,
         1680638686000
        ],
        [
         "dbfs:/FileStore/Bookimages/9780593644874.jpg",
         "9780593644874.jpg",
         807,
         1680638697000
        ],
        [
         "dbfs:/FileStore/Bookimages/9780603566981.jpg",
         "9780603566981.jpg",
         18678,
         1680630201000
        ],
        [
         "dbfs:/FileStore/Bookimages/9780603566998.jpg",
         "9780603566998.jpg",
         807,
         1680630213000
        ],
        [
         "dbfs:/FileStore/Bookimages/9780603567018.jpg",
         "9780603567018.jpg",
         26024,
         1680630224000
        ],
        [
         "dbfs:/FileStore/Bookimages/9780603567025.jpg",
         "9780603567025.jpg",
         807,
         1680630234000
        ],
        [
         "dbfs:/FileStore/Bookimages/9780603567032.jpg",
         "9780603567032.jpg",
         16281,
         1680630245000
        ],
        [
         "dbfs:/FileStore/Bookimages/9780603567728.jpg",
         "9780603567728.jpg",
         807,
         1680630255000
        ],
        [
         "dbfs:/FileStore/Bookimages/9780603567766.jpg",
         "9780603567766.jpg",
         13445,
         1680630267000
        ],
        [
         "dbfs:/FileStore/Bookimages/9780603567773.jpg",
         "9780603567773.jpg",
         12022,
         1680630279000
        ],
        [
         "dbfs:/FileStore/Bookimages/9780603571961.jpg",
         "9780603571961.jpg",
         807,
         1680630289000
        ],
        [
         "dbfs:/FileStore/Bookimages/9780603572500.jpg",
         "9780603572500.jpg",
         807,
         1680630300000
        ],
        [
         "dbfs:/FileStore/Bookimages/9780603572548.jpg",
         "9780603572548.jpg",
         807,
         1680630310000
        ],
        [
         "dbfs:/FileStore/Bookimages/9780603572555.jpg",
         "9780603572555.jpg",
         807,
         1680630321000
        ],
        [
         "dbfs:/FileStore/Bookimages/9780603572593.jpg",
         "9780603572593.jpg",
         807,
         1680630331000
        ],
        [
         "dbfs:/FileStore/Bookimages/9780603574351.jpg",
         "9780603574351.jpg",
         807,
         1680630342000
        ],
        [
         "dbfs:/FileStore/Bookimages/9780603575112.jpg",
         "9780603575112.jpg",
         807,
         1680628439000
        ],
        [
         "dbfs:/FileStore/Bookimages/9780603575143.jpg",
         "9780603575143.jpg",
         807,
         1680628450000
        ],
        [
         "dbfs:/FileStore/Bookimages/9780603575150.jpg",
         "9780603575150.jpg",
         807,
         1680628461000
        ],
        [
         "dbfs:/FileStore/Bookimages/9780603575167.jpg",
         "9780603575167.jpg",
         807,
         1680628471000
        ],
        [
         "dbfs:/FileStore/Bookimages/9780603575174.jpg",
         "9780603575174.jpg",
         807,
         1680628482000
        ],
        [
         "dbfs:/FileStore/Bookimages/9780603575181.jpg",
         "9780603575181.jpg",
         807,
         1680628492000
        ],
        [
         "dbfs:/FileStore/Bookimages/9780603575198.jpg",
         "9780603575198.jpg",
         807,
         1680628503000
        ],
        [
         "dbfs:/FileStore/Bookimages/9780603575204.jpg",
         "9780603575204.jpg",
         807,
         1680628513000
        ],
        [
         "dbfs:/FileStore/Bookimages/9780603575211.jpg",
         "9780603575211.jpg",
         807,
         1680628524000
        ],
        [
         "dbfs:/FileStore/Bookimages/9780603575228.jpg",
         "9780603575228.jpg",
         807,
         1680628534000
        ],
        [
         "dbfs:/FileStore/Bookimages/9780603575235.jpg",
         "9780603575235.jpg",
         807,
         1680628545000
        ],
        [
         "dbfs:/FileStore/Bookimages/9780603576140.jpg",
         "9780603576140.jpg",
         807,
         1680628555000
        ],
        [
         "dbfs:/FileStore/Bookimages/9780603576157.jpg",
         "9780603576157.jpg",
         807,
         1680628566000
        ],
        [
         "dbfs:/FileStore/Bookimages/9780603576164.jpg",
         "9780603576164.jpg",
         807,
         1680628576000
        ],
        [
         "dbfs:/FileStore/Bookimages/9780603576171.jpg",
         "9780603576171.jpg",
         807,
         1680628587000
        ],
        [
         "dbfs:/FileStore/Bookimages/9780603576188.jpg",
         "9780603576188.jpg",
         807,
         1680628597000
        ],
        [
         "dbfs:/FileStore/Bookimages/9780603576751.jpg",
         "9780603576751.jpg",
         807,
         1680630127000
        ],
        [
         "dbfs:/FileStore/Bookimages/9780603577369.jpg",
         "9780603577369.jpg",
         807,
         1680630138000
        ],
        [
         "dbfs:/FileStore/Bookimages/9780603578236.jpg",
         "9780603578236.jpg",
         807,
         1680630148000
        ],
        [
         "dbfs:/FileStore/Bookimages/9780603578243.jpg",
         "9780603578243.jpg",
         807,
         1680630159000
        ],
        [
         "dbfs:/FileStore/Bookimages/9780603578250.jpg",
         "9780603578250.jpg",
         807,
         1680630169000
        ],
        [
         "dbfs:/FileStore/Bookimages/9780603578267.jpg",
         "9780603578267.jpg",
         807,
         1680630180000
        ],
        [
         "dbfs:/FileStore/Bookimages/9780603579882.jpg",
         "9780603579882.jpg",
         807,
         1680630190000
        ],
        [
         "dbfs:/FileStore/Bookimages/9780603580727.jpg",
         "9780603580727.jpg",
         807,
         1680621311000
        ],
        [
         "dbfs:/FileStore/Bookimages/9780603580734.jpg",
         "9780603580734.jpg",
         807,
         1680621322000
        ],
        [
         "dbfs:/FileStore/Bookimages/9780603580741.jpg",
         "9780603580741.jpg",
         807,
         1680621332000
        ],
        [
         "dbfs:/FileStore/Bookimages/9780603580758.jpg",
         "9780603580758.jpg",
         807,
         1680621343000
        ],
        [
         "dbfs:/FileStore/Bookimages/9780603580765.jpg",
         "9780603580765.jpg",
         807,
         1680621353000
        ],
        [
         "dbfs:/FileStore/Bookimages/9780603580772.jpg",
         "9780603580772.jpg",
         807,
         1680621364000
        ],
        [
         "dbfs:/FileStore/Bookimages/9780603580789.jpg",
         "9780603580789.jpg",
         807,
         1680621374000
        ],
        [
         "dbfs:/FileStore/Bookimages/9780603580796.jpg",
         "9780603580796.jpg",
         807,
         1680621385000
        ],
        [
         "dbfs:/FileStore/Bookimages/9780655203957.jpg",
         "9780655203957.jpg",
         807,
         1680626275000
        ],
        [
         "dbfs:/FileStore/Bookimages/9780655205272.jpg",
         "9780655205272.jpg",
         807,
         1680626285000
        ],
        [
         "dbfs:/FileStore/Bookimages/9780655206156.jpg",
         "9780655206156.jpg",
         807,
         1680637524000
        ],
        [
         "dbfs:/FileStore/Bookimages/9780655206408.jpg",
         "9780655206408.jpg",
         807,
         1680627623000
        ],
        [
         "dbfs:/FileStore/Bookimages/9780655206415.jpg",
         "9780655206415.jpg",
         807,
         1680626296000
        ],
        [
         "dbfs:/FileStore/Bookimages/9780655210511.jpg",
         "9780655210511.jpg",
         28075,
         1680637492000
        ],
        [
         "dbfs:/FileStore/Bookimages/9780655210535.jpg",
         "9780655210535.jpg",
         807,
         1680637503000
        ],
        [
         "dbfs:/FileStore/Bookimages/9780655211037.jpg",
         "9780655211037.jpg",
         807,
         1680637514000
        ],
        [
         "dbfs:/FileStore/Bookimages/9780655211082.jpg",
         "9780655211082.jpg",
         807,
         1680626243000
        ],
        [
         "dbfs:/FileStore/Bookimages/9780655211099.jpg",
         "9780655211099.jpg",
         807,
         1680626254000
        ],
        [
         "dbfs:/FileStore/Bookimages/9780655211105.jpg",
         "9780655211105.jpg",
         807,
         1680626264000
        ],
        [
         "dbfs:/FileStore/Bookimages/9780655212270.jpg",
         "9780655212270.jpg",
         807,
         1680626306000
        ],
        [
         "dbfs:/FileStore/Bookimages/9780655212355.jpg",
         "9780655212355.jpg",
         807,
         1680637967000
        ],
        [
         "dbfs:/FileStore/Bookimages/9780655212522.jpg",
         "9780655212522.jpg",
         807,
         1680626317000
        ],
        [
         "dbfs:/FileStore/Bookimages/9780655212539.jpg",
         "9780655212539.jpg",
         807,
         1680626327000
        ],
        [
         "dbfs:/FileStore/Bookimages/9780655212584.jpg",
         "9780655212584.jpg",
         807,
         1680626338000
        ],
        [
         "dbfs:/FileStore/Bookimages/9780655212621.jpg",
         "9780655212621.jpg",
         807,
         1680626348000
        ],
        [
         "dbfs:/FileStore/Bookimages/9780655212669.jpg",
         "9780655212669.jpg",
         807,
         1680626359000
        ],
        [
         "dbfs:/FileStore/Bookimages/9780655212676.jpg",
         "9780655212676.jpg",
         807,
         1680626369000
        ],
        [
         "dbfs:/FileStore/Bookimages/9780655212683.jpg",
         "9780655212683.jpg",
         807,
         1680626380000
        ],
        [
         "dbfs:/FileStore/Bookimages/9780655212690.jpg",
         "9780655212690.jpg",
         807,
         1680626391000
        ],
        [
         "dbfs:/FileStore/Bookimages/9780655212713.jpg",
         "9780655212713.jpg",
         807,
         1680626401000
        ],
        [
         "dbfs:/FileStore/Bookimages/9780655213376.jpg",
         "9780655213376.jpg",
         807,
         1680626412000
        ],
        [
         "dbfs:/FileStore/Bookimages/9780655213383.jpg",
         "9780655213383.jpg",
         807,
         1680638019000
        ],
        [
         "dbfs:/FileStore/Bookimages/9780655213529.jpg",
         "9780655213529.jpg",
         807,
         1680638030000
        ],
        [
         "dbfs:/FileStore/Bookimages/9780655213536.jpg",
         "9780655213536.jpg",
         807,
         1680638040000
        ],
        [
         "dbfs:/FileStore/Bookimages/9780655213826.jpg",
         "9780655213826.jpg",
         807,
         1680626422000
        ],
        [
         "dbfs:/FileStore/Bookimages/9780655213833.jpg",
         "9780655213833.jpg",
         807,
         1680626433000
        ],
        [
         "dbfs:/FileStore/Bookimages/9780655213840.jpg",
         "9780655213840.jpg",
         807,
         1680626443000
        ],
        [
         "dbfs:/FileStore/Bookimages/9780655214007.jpg",
         "9780655214007.jpg",
         807,
         1680637998000
        ],
        [
         "dbfs:/FileStore/Bookimages/9780655214250.jpg",
         "9780655214250.jpg",
         807,
         1680638009000
        ],
        [
         "dbfs:/FileStore/Bookimages/9780655215134.jpg",
         "9780655215134.jpg",
         807,
         1680626454000
        ],
        [
         "dbfs:/FileStore/Bookimages/9780655215141.jpg",
         "9780655215141.jpg",
         807,
         1680626464000
        ],
        [
         "dbfs:/FileStore/Bookimages/9780655215196.jpg",
         "9780655215196.jpg",
         807,
         1680637977000
        ],
        [
         "dbfs:/FileStore/Bookimages/9780655216094.jpg",
         "9780655216094.jpg",
         807,
         1680637988000
        ],
        [
         "dbfs:/FileStore/Bookimages/9780655216285.jpg",
         "9780655216285.jpg",
         807,
         1680626475000
        ],
        [
         "dbfs:/FileStore/Bookimages/9780655216537.jpg",
         "9780655216537.jpg",
         807,
         1680626485000
        ],
        [
         "dbfs:/FileStore/Bookimages/9780655216544.jpg",
         "9780655216544.jpg",
         807,
         1680626496000
        ],
        [
         "dbfs:/FileStore/Bookimages/9780655216551.jpg",
         "9780655216551.jpg",
         807,
         1680626506000
        ],
        [
         "dbfs:/FileStore/Bookimages/9780655216568.jpg",
         "9780655216568.jpg",
         807,
         1680626517000
        ],
        [
         "dbfs:/FileStore/Bookimages/9780655216650.jpg",
         "9780655216650.jpg",
         807,
         1680626527000
        ],
        [
         "dbfs:/FileStore/Bookimages/9780655216667.jpg",
         "9780655216667.jpg",
         807,
         1680626538000
        ],
        [
         "dbfs:/FileStore/Bookimages/9780655216674.jpg",
         "9780655216674.jpg",
         807,
         1680626549000
        ],
        [
         "dbfs:/FileStore/Bookimages/9780655216681.jpg",
         "9780655216681.jpg",
         807,
         1680626559000
        ],
        [
         "dbfs:/FileStore/Bookimages/9780655216698.jpg",
         "9780655216698.jpg",
         807,
         1680626570000
        ],
        [
         "dbfs:/FileStore/Bookimages/9780655216742.jpg",
         "9780655216742.jpg",
         807,
         1680637914000
        ],
        [
         "dbfs:/FileStore/Bookimages/9780655216766.jpg",
         "9780655216766.jpg",
         807,
         1680637925000
        ],
        [
         "dbfs:/FileStore/Bookimages/9780655216926.jpg",
         "9780655216926.jpg",
         807,
         1680626591000
        ],
        [
         "dbfs:/FileStore/Bookimages/9780655216995.jpg",
         "9780655216995.jpg",
         807,
         1680633888000
        ],
        [
         "dbfs:/FileStore/Bookimages/9780655217015.jpg",
         "9780655217015.jpg",
         807,
         1680633899000
        ],
        [
         "dbfs:/FileStore/Bookimages/9780655217022.jpg",
         "9780655217022.jpg",
         807,
         1680626580000
        ],
        [
         "dbfs:/FileStore/Bookimages/9780655217282.jpg",
         "9780655217282.jpg",
         807,
         1680637883000
        ],
        [
         "dbfs:/FileStore/Bookimages/9780655217299.jpg",
         "9780655217299.jpg",
         807,
         1680637893000
        ],
        [
         "dbfs:/FileStore/Bookimages/9780655217435.jpg",
         "9780655217435.jpg",
         807,
         1680637904000
        ],
        [
         "dbfs:/FileStore/Bookimages/9780655217497.jpg",
         "9780655217497.jpg",
         807,
         1680633909000
        ],
        [
         "dbfs:/FileStore/Bookimages/9780655217527.jpg",
         "9780655217527.jpg",
         807,
         1680637862000
        ],
        [
         "dbfs:/FileStore/Bookimages/9780655217534.jpg",
         "9780655217534.jpg",
         807,
         1680637872000
        ],
        [
         "dbfs:/FileStore/Bookimages/9780655217626.jpg",
         "9780655217626.jpg",
         807,
         1680626601000
        ],
        [
         "dbfs:/FileStore/Bookimages/9780655218425.jpg",
         "9780655218425.jpg",
         807,
         1680637946000
        ],
        [
         "dbfs:/FileStore/Bookimages/9780655218432.jpg",
         "9780655218432.jpg",
         807,
         1680633878000
        ],
        [
         "dbfs:/FileStore/Bookimages/9780655218517.jpg",
         "9780655218517.jpg",
         807,
         1680637935000
        ],
        [
         "dbfs:/FileStore/Bookimages/9780655218647.jpg",
         "9780655218647.jpg",
         807,
         1680626612000
        ],
        [
         "dbfs:/FileStore/Bookimages/9780655218777.jpg",
         "9780655218777.jpg",
         807,
         1680637956000
        ],
        [
         "dbfs:/FileStore/Bookimages/9780655218876.jpg",
         "9780655218876.jpg",
         807,
         1680626622000
        ],
        [
         "dbfs:/FileStore/Bookimages/9780655218883.jpg",
         "9780655218883.jpg",
         807,
         1680626633000
        ],
        [
         "dbfs:/FileStore/Bookimages/9780655219309.jpg",
         "9780655219309.jpg",
         807,
         1680633867000
        ],
        [
         "dbfs:/FileStore/Bookimages/9780655219477.jpg",
         "9780655219477.jpg",
         807,
         1680627012000
        ],
        [
         "dbfs:/FileStore/Bookimages/9780655219484.jpg",
         "9780655219484.jpg",
         807,
         1680627022000
        ],
        [
         "dbfs:/FileStore/Bookimages/9780655219538.jpg",
         "9780655219538.jpg",
         807,
         1680627033000
        ],
        [
         "dbfs:/FileStore/Bookimages/9780655219569.jpg",
         "9780655219569.jpg",
         807,
         1680627043000
        ],
        [
         "dbfs:/FileStore/Bookimages/9780655219576.jpg",
         "9780655219576.jpg",
         807,
         1680627054000
        ],
        [
         "dbfs:/FileStore/Bookimages/9780655219583.jpg",
         "9780655219583.jpg",
         807,
         1680627064000
        ],
        [
         "dbfs:/FileStore/Bookimages/9780655219590.jpg",
         "9780655219590.jpg",
         807,
         1680638051000
        ],
        [
         "dbfs:/FileStore/Bookimages/9780655219651.jpg",
         "9780655219651.jpg",
         807,
         1680627539000
        ],
        [
         "dbfs:/FileStore/Bookimages/9780655219668.jpg",
         "9780655219668.jpg",
         807,
         1680638156000
        ],
        [
         "dbfs:/FileStore/Bookimages/9780655219675.jpg",
         "9780655219675.jpg",
         807,
         1680633814000
        ],
        [
         "dbfs:/FileStore/Bookimages/9780655219705.jpg",
         "9780655219705.jpg",
         807,
         1680626643000
        ],
        [
         "dbfs:/FileStore/Bookimages/9780655219712.jpg",
         "9780655219712.jpg",
         807,
         1680626654000
        ],
        [
         "dbfs:/FileStore/Bookimages/9780655219743.jpg",
         "9780655219743.jpg",
         807,
         1680626664000
        ],
        [
         "dbfs:/FileStore/Bookimages/9780655219750.jpg",
         "9780655219750.jpg",
         807,
         1680626675000
        ],
        [
         "dbfs:/FileStore/Bookimages/9780655219767.jpg",
         "9780655219767.jpg",
         807,
         1680626685000
        ],
        [
         "dbfs:/FileStore/Bookimages/9780655219774.jpg",
         "9780655219774.jpg",
         807,
         1680626696000
        ],
        [
         "dbfs:/FileStore/Bookimages/9780655219781.jpg",
         "9780655219781.jpg",
         807,
         1680626706000
        ],
        [
         "dbfs:/FileStore/Bookimages/9780655219798.jpg",
         "9780655219798.jpg",
         807,
         1680626717000
        ],
        [
         "dbfs:/FileStore/Bookimages/9780655219934.jpg",
         "9780655219934.jpg",
         807,
         1680633846000
        ],
        [
         "dbfs:/FileStore/Bookimages/9780655219941.jpg",
         "9780655219941.jpg",
         807,
         1680633857000
        ],
        [
         "dbfs:/FileStore/Bookimages/9780655219996.jpg",
         "9780655219996.jpg",
         807,
         1680627075000
        ],
        [
         "dbfs:/FileStore/Bookimages/9780655220008.jpg",
         "9780655220008.jpg",
         807,
         1680627085000
        ],
        [
         "dbfs:/FileStore/Bookimages/9780655220213.jpg",
         "9780655220213.jpg",
         807,
         1680627096000
        ],
        [
         "dbfs:/FileStore/Bookimages/9780655220220.jpg",
         "9780655220220.jpg",
         807,
         1680627107000
        ],
        [
         "dbfs:/FileStore/Bookimages/9780655220237.jpg",
         "9780655220237.jpg",
         807,
         1680633835000
        ],
        [
         "dbfs:/FileStore/Bookimages/9780655220251.jpg",
         "9780655220251.jpg",
         807,
         1680627212000
        ],
        [
         "dbfs:/FileStore/Bookimages/9780655220268.jpg",
         "9780655220268.jpg",
         807,
         1680627223000
        ],
        [
         "dbfs:/FileStore/Bookimages/9780655220626.jpg",
         "9780655220626.jpg",
         807,
         1680627233000
        ],
        [
         "dbfs:/FileStore/Bookimages/9780655220633.jpg",
         "9780655220633.jpg",
         807,
         1680627244000
        ],
        [
         "dbfs:/FileStore/Bookimages/9780655220664.jpg",
         "9780655220664.jpg",
         807,
         1680627254000
        ],
        [
         "dbfs:/FileStore/Bookimages/9780655220695.jpg",
         "9780655220695.jpg",
         807,
         1680633825000
        ],
        [
         "dbfs:/FileStore/Bookimages/9780655220718.jpg",
         "9780655220718.jpg",
         807,
         1680627117000
        ],
        [
         "dbfs:/FileStore/Bookimages/9780655220732.jpg",
         "9780655220732.jpg",
         807,
         1680627128000
        ],
        [
         "dbfs:/FileStore/Bookimages/9780655220756.jpg",
         "9780655220756.jpg",
         807,
         1680627138000
        ],
        [
         "dbfs:/FileStore/Bookimages/9780655220763.jpg",
         "9780655220763.jpg",
         807,
         1680627149000
        ],
        [
         "dbfs:/FileStore/Bookimages/9780655220770.jpg",
         "9780655220770.jpg",
         807,
         1680627159000
        ],
        [
         "dbfs:/FileStore/Bookimages/9780655220794.jpg",
         "9780655220794.jpg",
         807,
         1680627170000
        ],
        [
         "dbfs:/FileStore/Bookimages/9780655220800.jpg",
         "9780655220800.jpg",
         807,
         1680627180000
        ],
        [
         "dbfs:/FileStore/Bookimages/9780655220817.jpg",
         "9780655220817.jpg",
         807,
         1680627191000
        ],
        [
         "dbfs:/FileStore/Bookimages/9780655220824.jpg",
         "9780655220824.jpg",
         807,
         1680627202000
        ],
        [
         "dbfs:/FileStore/Bookimages/9780655220831.jpg",
         "9780655220831.jpg",
         807,
         1680638062000
        ],
        [
         "dbfs:/FileStore/Bookimages/9780655220848.jpg",
         "9780655220848.jpg",
         807,
         1680638072000
        ],
        [
         "dbfs:/FileStore/Bookimages/9780655220893.jpg",
         "9780655220893.jpg",
         807,
         1680638083000
        ],
        [
         "dbfs:/FileStore/Bookimages/9780655221036.jpg",
         "9780655221036.jpg",
         807,
         1680627265000
        ],
        [
         "dbfs:/FileStore/Bookimages/9780655221074.jpg",
         "9780655221074.jpg",
         807,
         1680638093000
        ],
        [
         "dbfs:/FileStore/Bookimages/9780655221081.jpg",
         "9780655221081.jpg",
         807,
         1680638104000
        ],
        [
         "dbfs:/FileStore/Bookimages/9780655221098.jpg",
         "9780655221098.jpg",
         807,
         1680638114000
        ],
        [
         "dbfs:/FileStore/Bookimages/9780655221104.jpg",
         "9780655221104.jpg",
         807,
         1680638125000
        ],
        [
         "dbfs:/FileStore/Bookimages/9780655221128.jpg",
         "9780655221128.jpg",
         807,
         1680638135000
        ],
        [
         "dbfs:/FileStore/Bookimages/9780655221302.jpg",
         "9780655221302.jpg",
         807,
         1680627507000
        ],
        [
         "dbfs:/FileStore/Bookimages/9780655221319.jpg",
         "9780655221319.jpg",
         807,
         1680627517000
        ],
        [
         "dbfs:/FileStore/Bookimages/9780655221326.jpg",
         "9780655221326.jpg",
         807,
         1680627528000
        ],
        [
         "dbfs:/FileStore/Bookimages/9780655221333.jpg",
         "9780655221333.jpg",
         807,
         1680638167000
        ],
        [
         "dbfs:/FileStore/Bookimages/9780655221340.jpg",
         "9780655221340.jpg",
         807,
         1680638177000
        ],
        [
         "dbfs:/FileStore/Bookimages/9780655221357.jpg",
         "9780655221357.jpg",
         807,
         1680638188000
        ],
        [
         "dbfs:/FileStore/Bookimages/9780655221364.jpg",
         "9780655221364.jpg",
         807,
         1680627275000
        ],
        [
         "dbfs:/FileStore/Bookimages/9780655221647.jpg",
         "9780655221647.jpg",
         807,
         1680627286000
        ],
        [
         "dbfs:/FileStore/Bookimages/9780655221760.jpg",
         "9780655221760.jpg",
         807,
         1680627296000
        ],
        [
         "dbfs:/FileStore/Bookimages/9780655221777.jpg",
         "9780655221777.jpg",
         807,
         1680627307000
        ],
        [
         "dbfs:/FileStore/Bookimages/9780655221784.jpg",
         "9780655221784.jpg",
         807,
         1680627318000
        ],
        [
         "dbfs:/FileStore/Bookimages/9780655221791.jpg",
         "9780655221791.jpg",
         807,
         1680627328000
        ],
        [
         "dbfs:/FileStore/Bookimages/9780655221807.jpg",
         "9780655221807.jpg",
         807,
         1680627339000
        ],
        [
         "dbfs:/FileStore/Bookimages/9780655221814.jpg",
         "9780655221814.jpg",
         807,
         1680627349000
        ],
        [
         "dbfs:/FileStore/Bookimages/9780655221821.jpg",
         "9780655221821.jpg",
         807,
         1680638146000
        ],
        [
         "dbfs:/FileStore/Bookimages/9780655221838.jpg",
         "9780655221838.jpg",
         807,
         1680627360000
        ],
        [
         "dbfs:/FileStore/Bookimages/9780655221845.jpg",
         "9780655221845.jpg",
         807,
         1680627370000
        ],
        [
         "dbfs:/FileStore/Bookimages/9780655221852.jpg",
         "9780655221852.jpg",
         807,
         1680627381000
        ],
        [
         "dbfs:/FileStore/Bookimages/9780655221869.jpg",
         "9780655221869.jpg",
         807,
         1680627391000
        ],
        [
         "dbfs:/FileStore/Bookimages/9780655221876.jpg",
         "9780655221876.jpg",
         807,
         1680627402000
        ],
        [
         "dbfs:/FileStore/Bookimages/9780655221883.jpg",
         "9780655221883.jpg",
         807,
         1680627412000
        ],
        [
         "dbfs:/FileStore/Bookimages/9780655221890.jpg",
         "9780655221890.jpg",
         807,
         1680627423000
        ],
        [
         "dbfs:/FileStore/Bookimages/9780655221906.jpg",
         "9780655221906.jpg",
         807,
         1680627433000
        ],
        [
         "dbfs:/FileStore/Bookimages/9780655221913.jpg",
         "9780655221913.jpg",
         807,
         1680627444000
        ],
        [
         "dbfs:/FileStore/Bookimages/9780655221920.jpg",
         "9780655221920.jpg",
         807,
         1680627454000
        ],
        [
         "dbfs:/FileStore/Bookimages/9780655221937.jpg",
         "9780655221937.jpg",
         807,
         1680627465000
        ],
        [
         "dbfs:/FileStore/Bookimages/9780655221944.jpg",
         "9780655221944.jpg",
         807,
         1680627475000
        ],
        [
         "dbfs:/FileStore/Bookimages/9780655221951.jpg",
         "9780655221951.jpg",
         807,
         1680627486000
        ],
        [
         "dbfs:/FileStore/Bookimages/9780655221968.jpg",
         "9780655221968.jpg",
         807,
         1680627496000
        ],
        [
         "dbfs:/FileStore/Bookimages/9780655221982.jpg",
         "9780655221982.jpg",
         807,
         1680638220000
        ],
        [
         "dbfs:/FileStore/Bookimages/9780655222071.jpg",
         "9780655222071.jpg",
         807,
         1680638230000
        ],
        [
         "dbfs:/FileStore/Bookimages/9780655222118.jpg",
         "9780655222118.jpg",
         807,
         1680638241000
        ],
        [
         "dbfs:/FileStore/Bookimages/9780655222149.jpg",
         "9780655222149.jpg",
         807,
         1680627612000
        ],
        [
         "dbfs:/FileStore/Bookimages/9780655222156.jpg",
         "9780655222156.jpg",
         807,
         1680626738000
        ],
        [
         "dbfs:/FileStore/Bookimages/9780655222163.jpg",
         "9780655222163.jpg",
         807,
         1680626749000
        ],
        [
         "dbfs:/FileStore/Bookimages/9780655222170.jpg",
         "9780655222170.jpg",
         807,
         1680626759000
        ],
        [
         "dbfs:/FileStore/Bookimages/9780655222187.jpg",
         "9780655222187.jpg",
         807,
         1680626770000
        ],
        [
         "dbfs:/FileStore/Bookimages/9780655222194.jpg",
         "9780655222194.jpg",
         807,
         1680626780000
        ],
        [
         "dbfs:/FileStore/Bookimages/9780655222293.jpg",
         "9780655222293.jpg",
         807,
         1680633803000
        ],
        [
         "dbfs:/FileStore/Bookimages/9780655222309.jpg",
         "9780655222309.jpg",
         807,
         1680627549000
        ],
        [
         "dbfs:/FileStore/Bookimages/9780655222316.jpg",
         "9780655222316.jpg",
         807,
         1680627560000
        ],
        [
         "dbfs:/FileStore/Bookimages/9780655222323.jpg",
         "9780655222323.jpg",
         807,
         1680627570000
        ],
        [
         "dbfs:/FileStore/Bookimages/9780655222347.jpg",
         "9780655222347.jpg",
         807,
         1680627581000
        ],
        [
         "dbfs:/FileStore/Bookimages/9780655222378.jpg",
         "9780655222378.jpg",
         807,
         1680627591000
        ],
        [
         "dbfs:/FileStore/Bookimages/9780655222385.jpg",
         "9780655222385.jpg",
         807,
         1680627602000
        ],
        [
         "dbfs:/FileStore/Bookimages/9780655222477.jpg",
         "9780655222477.jpg",
         807,
         1680638199000
        ],
        [
         "dbfs:/FileStore/Bookimages/9780655222484.jpg",
         "9780655222484.jpg",
         807,
         1680638209000
        ],
        [
         "dbfs:/FileStore/Bookimages/9780655222491.jpg",
         "9780655222491.jpg",
         807,
         1680626791000
        ],
        [
         "dbfs:/FileStore/Bookimages/9780655222507.jpg",
         "9780655222507.jpg",
         807,
         1680626801000
        ],
        [
         "dbfs:/FileStore/Bookimages/9780655222514.jpg",
         "9780655222514.jpg",
         807,
         1680626812000
        ],
        [
         "dbfs:/FileStore/Bookimages/9780655222576.jpg",
         "9780655222576.jpg",
         807,
         1680626822000
        ],
        [
         "dbfs:/FileStore/Bookimages/9780655222590.jpg",
         "9780655222590.jpg",
         807,
         1680638251000
        ],
        [
         "dbfs:/FileStore/Bookimages/9780655222606.jpg",
         "9780655222606.jpg",
         807,
         1680638262000
        ],
        [
         "dbfs:/FileStore/Bookimages/9780655222613.jpg",
         "9780655222613.jpg",
         807,
         1680626948000
        ],
        [
         "dbfs:/FileStore/Bookimages/9780655222620.jpg",
         "9780655222620.jpg",
         807,
         1680633793000
        ],
        [
         "dbfs:/FileStore/Bookimages/9780655222637.jpg",
         "9780655222637.jpg",
         807,
         1680626906000
        ],
        [
         "dbfs:/FileStore/Bookimages/9780655222644.jpg",
         "9780655222644.jpg",
         807,
         1680626917000
        ],
        [
         "dbfs:/FileStore/Bookimages/9780655222651.jpg",
         "9780655222651.jpg",
         807,
         1680626927000
        ],
        [
         "dbfs:/FileStore/Bookimages/9780655222668.jpg",
         "9780655222668.jpg",
         807,
         1680626938000
        ],
        [
         "dbfs:/FileStore/Bookimages/9780655222699.jpg",
         "9780655222699.jpg",
         807,
         1680638294000
        ],
        [
         "dbfs:/FileStore/Bookimages/9780655222705.jpg",
         "9780655222705.jpg",
         807,
         1680638304000
        ],
        [
         "dbfs:/FileStore/Bookimages/9780655222804.jpg",
         "9780655222804.jpg",
         807,
         1680626833000
        ],
        [
         "dbfs:/FileStore/Bookimages/9780655222811.jpg",
         "9780655222811.jpg",
         807,
         1680626843000
        ],
        [
         "dbfs:/FileStore/Bookimages/9780655222835.jpg",
         "9780655222835.jpg",
         807,
         1680626854000
        ],
        [
         "dbfs:/FileStore/Bookimages/9780655222842.jpg",
         "9780655222842.jpg",
         807,
         1680626864000
        ],
        [
         "dbfs:/FileStore/Bookimages/9780655222897.jpg",
         "9780655222897.jpg",
         807,
         1680626875000
        ],
        [
         "dbfs:/FileStore/Bookimages/9780655222903.jpg",
         "9780655222903.jpg",
         807,
         1680626885000
        ],
        [
         "dbfs:/FileStore/Bookimages/9780655222958.jpg",
         "9780655222958.jpg",
         807,
         1680626896000
        ],
        [
         "dbfs:/FileStore/Bookimages/9780655223191.jpg",
         "9780655223191.jpg",
         807,
         1680638273000
        ],
        [
         "dbfs:/FileStore/Bookimages/9780655223207.jpg",
         "9780655223207.jpg",
         807,
         1680638283000
        ],
        [
         "dbfs:/FileStore/Bookimages/9780655223351.jpg",
         "9780655223351.jpg",
         807,
         1680626959000
        ],
        [
         "dbfs:/FileStore/Bookimages/9780655223368.jpg",
         "9780655223368.jpg",
         807,
         1680626969000
        ],
        [
         "dbfs:/FileStore/Bookimages/9780655223375.jpg",
         "9780655223375.jpg",
         807,
         1680633782000
        ],
        [
         "dbfs:/FileStore/Bookimages/9780655223382.jpg",
         "9780655223382.jpg",
         807,
         1680626980000
        ],
        [
         "dbfs:/FileStore/Bookimages/9780655223412.jpg",
         "9780655223412.jpg",
         807,
         1680626991000
        ],
        [
         "dbfs:/FileStore/Bookimages/9780655223429.jpg",
         "9780655223429.jpg",
         807,
         1680627001000
        ],
        [
         "dbfs:/FileStore/Bookimages/9780655223450.jpg",
         "9780655223450.jpg",
         807,
         1680633719000
        ],
        [
         "dbfs:/FileStore/Bookimages/9780655223467.jpg",
         "9780655223467.jpg",
         807,
         1680633730000
        ],
        [
         "dbfs:/FileStore/Bookimages/9780655223474.jpg",
         "9780655223474.jpg",
         807,
         1680633740000
        ],
        [
         "dbfs:/FileStore/Bookimages/9780655223498.jpg",
         "9780655223498.jpg",
         807,
         1680633751000
        ],
        [
         "dbfs:/FileStore/Bookimages/9780655223559.jpg",
         "9780655223559.jpg",
         807,
         1680633761000
        ],
        [
         "dbfs:/FileStore/Bookimages/9780655223566.jpg",
         "9780655223566.jpg",
         807,
         1680633772000
        ],
        [
         "dbfs:/FileStore/Bookimages/9780655223573.jpg",
         "9780655223573.jpg",
         807,
         1680626728000
        ],
        [
         "dbfs:/FileStore/Bookimages/9780655223580.jpg",
         "9780655223580.jpg",
         807,
         1680633603000
        ],
        [
         "dbfs:/FileStore/Bookimages/9780655223627.jpg",
         "9780655223627.jpg",
         807,
         1680633614000
        ],
        [
         "dbfs:/FileStore/Bookimages/9780655223665.jpg",
         "9780655223665.jpg",
         807,
         1680633625000
        ],
        [
         "dbfs:/FileStore/Bookimages/9780655223672.jpg",
         "9780655223672.jpg",
         807,
         1680633635000
        ],
        [
         "dbfs:/FileStore/Bookimages/9780655223689.jpg",
         "9780655223689.jpg",
         807,
         1680633646000
        ],
        [
         "dbfs:/FileStore/Bookimages/9780655223696.jpg",
         "9780655223696.jpg",
         807,
         1680633656000
        ],
        [
         "dbfs:/FileStore/Bookimages/9780655223702.jpg",
         "9780655223702.jpg",
         807,
         1680633667000
        ],
        [
         "dbfs:/FileStore/Bookimages/9780655223832.jpg",
         "9780655223832.jpg",
         807,
         1680638378000
        ],
        [
         "dbfs:/FileStore/Bookimages/9780655223887.jpg",
         "9780655223887.jpg",
         807,
         1680636310000
        ],
        [
         "dbfs:/FileStore/Bookimages/9780655223894.jpg",
         "9780655223894.jpg",
         807,
         1680633677000
        ],
        [
         "dbfs:/FileStore/Bookimages/9780655223900.jpg",
         "9780655223900.jpg",
         807,
         1680638346000
        ],
        [
         "dbfs:/FileStore/Bookimages/9780655223917.jpg",
         "9780655223917.jpg",
         807,
         1680638357000
        ],
        [
         "dbfs:/FileStore/Bookimages/9780655223924.jpg",
         "9780655223924.jpg",
         807,
         1680638368000
        ],
        [
         "dbfs:/FileStore/Bookimages/9780655223948.jpg",
         "9780655223948.jpg",
         807,
         1680633688000
        ],
        [
         "dbfs:/FileStore/Bookimages/9780655223955.jpg",
         "9780655223955.jpg",
         807,
         1680633698000
        ],
        [
         "dbfs:/FileStore/Bookimages/9780655224013.jpg",
         "9780655224013.jpg",
         807,
         1680638336000
        ],
        [
         "dbfs:/FileStore/Bookimages/9780655224044.jpg",
         "9780655224044.jpg",
         807,
         1680633709000
        ],
        [
         "dbfs:/FileStore/Bookimages/9780655224075.jpg",
         "9780655224075.jpg",
         807,
         1680638315000
        ],
        [
         "dbfs:/FileStore/Bookimages/9780655224082.jpg",
         "9780655224082.jpg",
         807,
         1680638325000
        ],
        [
         "dbfs:/FileStore/Bookimages/9780655224099.jpg",
         "9780655224099.jpg",
         807,
         1680633572000
        ],
        [
         "dbfs:/FileStore/Bookimages/9780655224174.jpg",
         "9780655224174.jpg",
         807,
         1680638452000
        ],
        [
         "dbfs:/FileStore/Bookimages/9780655224181.jpg",
         "9780655224181.jpg",
         807,
         1680638462000
        ],
        [
         "dbfs:/FileStore/Bookimages/9780655224204.jpg",
         "9780655224204.jpg",
         807,
         1680633582000
        ],
        [
         "dbfs:/FileStore/Bookimages/9780655224235.jpg",
         "9780655224235.jpg",
         807,
         1680633593000
        ],
        [
         "dbfs:/FileStore/Bookimages/9780655224242.jpg",
         "9780655224242.jpg",
         807,
         1680638389000
        ],
        [
         "dbfs:/FileStore/Bookimages/9780655224327.jpg",
         "9780655224327.jpg",
         807,
         1680638399000
        ],
        [
         "dbfs:/FileStore/Bookimages/9780655224334.jpg",
         "9780655224334.jpg",
         807,
         1680638410000
        ],
        [
         "dbfs:/FileStore/Bookimages/9780655224341.jpg",
         "9780655224341.jpg",
         807,
         1680638420000
        ],
        [
         "dbfs:/FileStore/Bookimages/9780655224518.jpg",
         "9780655224518.jpg",
         807,
         1680638431000
        ],
        [
         "dbfs:/FileStore/Bookimages/9780655224525.jpg",
         "9780655224525.jpg",
         807,
         1680638441000
        ],
        [
         "dbfs:/FileStore/Bookimages/9780655224587.jpg",
         "9780655224587.jpg",
         807,
         1680636321000
        ],
        [
         "dbfs:/FileStore/Bookimages/9780655224631.jpg",
         "9780655224631.jpg",
         807,
         1680637535000
        ],
        [
         "dbfs:/FileStore/Bookimages/9780655224655.jpg",
         "9780655224655.jpg",
         807,
         1680637545000
        ],
        [
         "dbfs:/FileStore/Bookimages/9780655224679.jpg",
         "9780655224679.jpg",
         807,
         1680637556000
        ],
        [
         "dbfs:/FileStore/Bookimages/9780655224709.jpg",
         "9780655224709.jpg",
         807,
         1680637566000
        ],
        [
         "dbfs:/FileStore/Bookimages/9780655224716.jpg",
         "9780655224716.jpg",
         807,
         1680637577000
        ],
        [
         "dbfs:/FileStore/Bookimages/9780655224723.jpg",
         "9780655224723.jpg",
         807,
         1680637587000
        ],
        [
         "dbfs:/FileStore/Bookimages/9780655224730.jpg",
         "9780655224730.jpg",
         807,
         1680637598000
        ],
        [
         "dbfs:/FileStore/Bookimages/9780655224945.jpg",
         "9780655224945.jpg",
         807,
         1680637608000
        ],
        [
         "dbfs:/FileStore/Bookimages/9780655224976.jpg",
         "9780655224976.jpg",
         807,
         1680637619000
        ],
        [
         "dbfs:/FileStore/Bookimages/9780655224990.jpg",
         "9780655224990.jpg",
         807,
         1680637629000
        ],
        [
         "dbfs:/FileStore/Bookimages/9780655225003.jpg",
         "9780655225003.jpg",
         807,
         1680637640000
        ],
        [
         "dbfs:/FileStore/Bookimages/9780655225010.jpg",
         "9780655225010.jpg",
         807,
         1680637650000
        ],
        [
         "dbfs:/FileStore/Bookimages/9780655225355.jpg",
         "9780655225355.jpg",
         807,
         1680637661000
        ],
        [
         "dbfs:/FileStore/Bookimages/9780655225362.jpg",
         "9780655225362.jpg",
         807,
         1680637671000
        ],
        [
         "dbfs:/FileStore/Bookimages/9780655225379.jpg",
         "9780655225379.jpg",
         807,
         1680637682000
        ],
        [
         "dbfs:/FileStore/Bookimages/9780655225386.jpg",
         "9780655225386.jpg",
         807,
         1680637693000
        ],
        [
         "dbfs:/FileStore/Bookimages/9780655225393.jpg",
         "9780655225393.jpg",
         807,
         1680637703000
        ],
        [
         "dbfs:/FileStore/Bookimages/9780655225409.jpg",
         "9780655225409.jpg",
         807,
         1680637714000
        ],
        [
         "dbfs:/FileStore/Bookimages/9780655225416.jpg",
         "9780655225416.jpg",
         807,
         1680637724000
        ],
        [
         "dbfs:/FileStore/Bookimages/9780655225423.jpg",
         "9780655225423.jpg",
         807,
         1680637735000
        ],
        [
         "dbfs:/FileStore/Bookimages/9780655225447.jpg",
         "9780655225447.jpg",
         807,
         1680637746000
        ],
        [
         "dbfs:/FileStore/Bookimages/9780655225454.jpg",
         "9780655225454.jpg",
         807,
         1680637756000
        ],
        [
         "dbfs:/FileStore/Bookimages/9780655225591.jpg",
         "9780655225591.jpg",
         807,
         1680637767000
        ],
        [
         "dbfs:/FileStore/Bookimages/9780655225607.jpg",
         "9780655225607.jpg",
         807,
         1680637777000
        ],
        [
         "dbfs:/FileStore/Bookimages/9780655225614.jpg",
         "9780655225614.jpg",
         807,
         1680637788000
        ],
        [
         "dbfs:/FileStore/Bookimages/9780655225621.jpg",
         "9780655225621.jpg",
         807,
         1680637798000
        ],
        [
         "dbfs:/FileStore/Bookimages/9780655225652.jpg",
         "9780655225652.jpg",
         807,
         1680637809000
        ],
        [
         "dbfs:/FileStore/Bookimages/9780655225669.jpg",
         "9780655225669.jpg",
         807,
         1680637819000
        ],
        [
         "dbfs:/FileStore/Bookimages/9780655226420.jpg",
         "9780655226420.jpg",
         807,
         1680637830000
        ],
        [
         "dbfs:/FileStore/Bookimages/9780655226475.jpg",
         "9780655226475.jpg",
         807,
         1680637841000
        ],
        [
         "dbfs:/FileStore/Bookimages/9780655226499.jpg",
         "9780655226499.jpg",
         807,
         1680637851000
        ],
        [
         "dbfs:/FileStore/Bookimages/9780702301599.jpg",
         "9780702301599.jpg",
         807,
         1680621395000
        ],
        [
         "dbfs:/FileStore/Bookimages/9780702301636.jpg",
         "9780702301636.jpg",
         807,
         1680622065000
        ],
        [
         "dbfs:/FileStore/Bookimages/9780702302534.jpg",
         "9780702302534.jpg",
         807,
         1680621406000
        ],
        [
         "dbfs:/FileStore/Bookimages/9780702307355.jpg",
         "9780702307355.jpg",
         807,
         1680621416000
        ],
        [
         "dbfs:/FileStore/Bookimages/9780718186982.jpg",
         "9780718186982.jpg",
         807,
         1680628418000
        ],
        [
         "dbfs:/FileStore/Bookimages/9780718193683.jpg",
         "9780718193683.jpg",
         18539,
         1680628429000
        ],
        [
         "dbfs:/FileStore/Bookimages/9780718193751.jpg",
         "9780718193751.jpg",
         24070,
         1680629095000
        ],
        [
         "dbfs:/FileStore/Bookimages/9780723266204.jpg",
         "9780723266204.jpg",
         14401,
         1680632169000
        ],
        [
         "dbfs:/FileStore/Bookimages/9780723266211.jpg",
         "9780723266211.jpg",
         13136,
         1680632179000
        ],
        [
         "dbfs:/FileStore/Bookimages/9780723266235.jpg",
         "9780723266235.jpg",
         13752,
         1680632190000
        ],
        [
         "dbfs:/FileStore/Bookimages/9780735229952.jpg",
         "9780735229952.jpg",
         22117,
         1680623090000
        ],
        [
         "dbfs:/FileStore/Bookimages/9780736441032.jpg",
         "9780736441032.jpg",
         25659,
         1680623101000
        ],
        [
         "dbfs:/FileStore/Bookimages/9780736441056.jpg",
         "9780736441056.jpg",
         25245,
         1680623112000
        ],
        [
         "dbfs:/FileStore/Bookimages/9780736441797.jpg",
         "9780736441797.jpg",
         807,
         1680623123000
        ],
        [
         "dbfs:/FileStore/Bookimages/9780736441957.jpg",
         "9780736441957.jpg",
         25263,
         1680623133000
        ],
        [
         "dbfs:/FileStore/Bookimages/9780736441971.jpg",
         "9780736441971.jpg",
         23962,
         1680623144000
        ],
        [
         "dbfs:/FileStore/Bookimages/9780736442541.jpg",
         "9780736442541.jpg",
         23431,
         1680623155000
        ],
        [
         "dbfs:/FileStore/Bookimages/9780744020540.jpg",
         "9780744020540.jpg",
         18250,
         1680627781000
        ],
        [
         "dbfs:/FileStore/Bookimages/9780744021059.jpg",
         "9780744021059.jpg",
         807,
         1680635829000
        ],
        [
         "dbfs:/FileStore/Bookimages/9780744021066.jpg",
         "9780744021066.jpg",
         807,
         1680635840000
        ],
        [
         "dbfs:/FileStore/Bookimages/9780744021080.jpg",
         "9780744021080.jpg",
         807,
         1680635850000
        ],
        [
         "dbfs:/FileStore/Bookimages/9780744021363.jpg",
         "9780744021363.jpg",
         807,
         1680635861000
        ],
        [
         "dbfs:/FileStore/Bookimages/9780744027266.jpg",
         "9780744027266.jpg",
         807,
         1680623250000
        ],
        [
         "dbfs:/FileStore/Bookimages/9780744027488.jpg",
         "9780744027488.jpg",
         15461,
         1680622579000
        ],
        [
         "dbfs:/FileStore/Bookimages/9780744028539.jpg",
         "9780744028539.jpg",
         807,
         1680623261000
        ],
        [
         "dbfs:/FileStore/Bookimages/9780744028621.jpg",
         "9780744028621.jpg",
         807,
         1680623271000
        ],
        [
         "dbfs:/FileStore/Bookimages/9780744028904.jpg",
         "9780744028904.jpg",
         807,
         1680622589000
        ],
        [
         "dbfs:/FileStore/Bookimages/9780744028928.jpg",
         "9780744028928.jpg",
         22097,
         1680623336000
        ],
        [
         "dbfs:/FileStore/Bookimages/9780744031133.jpg",
         "9780744031133.jpg",
         807,
         1680635871000
        ],
        [
         "dbfs:/FileStore/Bookimages/9780744031379.jpg",
         "9780744031379.jpg",
         807,
         1680635882000
        ],
        [
         "dbfs:/FileStore/Bookimages/9780744031386.jpg",
         "9780744031386.jpg",
         807,
         1680635945000
        ],
        [
         "dbfs:/FileStore/Bookimages/9780744031393.jpg",
         "9780744031393.jpg",
         807,
         1680635956000
        ],
        [
         "dbfs:/FileStore/Bookimages/9780744031409.jpg",
         "9780744031409.jpg",
         807,
         1680635966000
        ],
        [
         "dbfs:/FileStore/Bookimages/9780744031430.jpg",
         "9780744031430.jpg",
         807,
         1680635977000
        ],
        [
         "dbfs:/FileStore/Bookimages/9780744031447.jpg",
         "9780744031447.jpg",
         807,
         1680635987000
        ],
        [
         "dbfs:/FileStore/Bookimages/9780744031539.jpg",
         "9780744031539.jpg",
         807,
         1680635998000
        ],
        [
         "dbfs:/FileStore/Bookimages/9780744032956.jpg",
         "9780744032956.jpg",
         807,
         1680636009000
        ],
        [
         "dbfs:/FileStore/Bookimages/9780744032963.jpg",
         "9780744032963.jpg",
         807,
         1680636019000
        ],
        [
         "dbfs:/FileStore/Bookimages/9780744035001.jpg",
         "9780744035001.jpg",
         807,
         1680622600000
        ],
        [
         "dbfs:/FileStore/Bookimages/9780744035018.jpg",
         "9780744035018.jpg",
         807,
         1680622610000
        ],
        [
         "dbfs:/FileStore/Bookimages/9780744035476.jpg",
         "9780744035476.jpg",
         16586,
         1680623325000
        ],
        [
         "dbfs:/FileStore/Bookimages/9780744038057.jpg",
         "9780744038057.jpg",
         807,
         1680635903000
        ],
        [
         "dbfs:/FileStore/Bookimages/9780744038064.jpg",
         "9780744038064.jpg",
         807,
         1680635914000
        ],
        [
         "dbfs:/FileStore/Bookimages/9780744038071.jpg",
         "9780744038071.jpg",
         807,
         1680635924000
        ],
        [
         "dbfs:/FileStore/Bookimages/9780744038088.jpg",
         "9780744038088.jpg",
         807,
         1680635935000
        ],
        [
         "dbfs:/FileStore/Bookimages/9780744043242.jpg",
         "9780744043242.jpg",
         27362,
         1680623282000
        ],
        [
         "dbfs:/FileStore/Bookimages/9780744045611.jpg",
         "9780744045611.jpg",
         807,
         1680623314000
        ],
        [
         "dbfs:/FileStore/Bookimages/9780744048490.jpg",
         "9780744048490.jpg",
         807,
         1680622621000
        ],
        [
         "dbfs:/FileStore/Bookimages/9780750291316.jpg",
         "9780750291316.jpg",
         14769,
         1680635892000
        ],
        [
         "dbfs:/FileStore/Bookimages/9780755501335.jpg",
         "9780755501335.jpg",
         807,
         1680622033000
        ],
        [
         "dbfs:/FileStore/Bookimages/9780755501359.jpg",
         "9780755501359.jpg",
         807,
         1680622044000
        ],
        [
         "dbfs:/FileStore/Bookimages/9780755501373.jpg",
         "9780755501373.jpg",
         807,
         1680622054000
        ],
        [
         "dbfs:/FileStore/Bookimages/9780755501908.jpg",
         "9780755501908.jpg",
         807,
         1680621427000
        ],
        [
         "dbfs:/FileStore/Bookimages/9780755501915.jpg",
         "9780755501915.jpg",
         807,
         1680621437000
        ],
        [
         "dbfs:/FileStore/Bookimages/9780755503568.jpg",
         "9780755503568.jpg",
         807,
         1680622012000
        ],
        [
         "dbfs:/FileStore/Bookimages/9780755503575.jpg",
         "9780755503575.jpg",
         807,
         1680622023000
        ],
        [
         "dbfs:/FileStore/Bookimages/9780756690861.jpg",
         "9780756690861.jpg",
         807,
         1680636030000
        ],
        [
         "dbfs:/FileStore/Bookimages/9780756696856.jpg",
         "9780756696856.jpg",
         807,
         1680635060000
        ],
        [
         "dbfs:/FileStore/Bookimages/9780785164722.jpg",
         "9780785164722.jpg",
         17193,
         1680635071000
        ],
        [
         "dbfs:/FileStore/Bookimages/9780785165187.jpg",
         "9780785165187.jpg",
         14456,
         1680635082000
        ],
        [
         "dbfs:/FileStore/Bookimages/9780785167976.jpg",
         "9780785167976.jpg",
         22710,
         1680635093000
        ],
        [
         "dbfs:/FileStore/Bookimages/9780785184287.jpg",
         "9780785184287.jpg",
         807,
         1680635103000
        ],
        [
         "dbfs:/FileStore/Bookimages/9780785189428.jpg",
         "9780785189428.jpg",
         27941,
         1680635114000
        ],
        [
         "dbfs:/FileStore/Bookimages/9780785198857.jpg",
         "9780785198857.jpg",
         807,
         1680635526000
        ],
        [
         "dbfs:/FileStore/Bookimages/9780785199441.jpg",
         "9780785199441.jpg",
         807,
         1680635537000
        ],
        [
         "dbfs:/FileStore/Bookimages/9780857536150.jpg",
         "9780857536150.jpg",
         807,
         1680631915000
        ],
        [
         "dbfs:/FileStore/Bookimages/9781035003778.jpg",
         "9781035003778.jpg",
         807,
         1680621704000
        ],
        [
         "dbfs:/FileStore/Bookimages/9781035005215.jpg",
         "9781035005215.jpg",
         807,
         1680623421000
        ],
        [
         "dbfs:/FileStore/Bookimages/9781250220066.jpg",
         "9781250220066.jpg",
         18505,
         1680622856000
        ],
        [
         "dbfs:/FileStore/Bookimages/9781250269485.jpg",
         "9781250269485.jpg",
         28506,
         1680623442000
        ],
        [
         "dbfs:/FileStore/Bookimages/9781250750433.jpg",
         "9781250750433.jpg",
         21637,
         1680622867000
        ],
        [
         "dbfs:/FileStore/Bookimages/9781250801913.jpg",
         "9781250801913.jpg",
         807,
         1680622878000
        ],
        [
         "dbfs:/FileStore/Bookimages/9781250801937.jpg",
         "9781250801937.jpg",
         31268,
         1680622889000
        ],
        [
         "dbfs:/FileStore/Bookimages/9781250818317.jpg",
         "9781250818317.jpg",
         807,
         1680623431000
        ],
        [
         "dbfs:/FileStore/Bookimages/9781250825810.jpg",
         "9781250825810.jpg",
         807,
         1680622899000
        ],
        [
         "dbfs:/FileStore/Bookimages/9781250836724.jpg",
         "9781250836724.jpg",
         807,
         1680622910000
        ],
        [
         "dbfs:/FileStore/Bookimages/9781250862129.jpg",
         "9781250862129.jpg",
         807,
         1680622920000
        ],
        [
         "dbfs:/FileStore/Bookimages/9781302902315.jpg",
         "9781302902315.jpg",
         33666,
         1680636041000
        ],
        [
         "dbfs:/FileStore/Bookimages/9781302906726.jpg",
         "9781302906726.jpg",
         23593,
         1680636279000
        ],
        [
         "dbfs:/FileStore/Bookimages/9781302906733.jpg",
         "9781302906733.jpg",
         807,
         1680636051000
        ],
        [
         "dbfs:/FileStore/Bookimages/9781302907105.jpg",
         "9781302907105.jpg",
         807,
         1680636062000
        ],
        [
         "dbfs:/FileStore/Bookimages/9781302907594.jpg",
         "9781302907594.jpg",
         807,
         1680636072000
        ],
        [
         "dbfs:/FileStore/Bookimages/9781302908911.jpg",
         "9781302908911.jpg",
         22614,
         1680636083000
        ],
        [
         "dbfs:/FileStore/Bookimages/9781302912222.jpg",
         "9781302912222.jpg",
         807,
         1680636093000
        ],
        [
         "dbfs:/FileStore/Bookimages/9781302912765.jpg",
         "9781302912765.jpg",
         26685,
         1680636104000
        ],
        [
         "dbfs:/FileStore/Bookimages/9781302912833.jpg",
         "9781302912833.jpg",
         22454,
         1680636115000
        ],
        [
         "dbfs:/FileStore/Bookimages/9781302914127.jpg",
         "9781302914127.jpg",
         27739,
         1680636126000
        ],
        [
         "dbfs:/FileStore/Bookimages/9781302914189.jpg",
         "9781302914189.jpg",
         24102,
         1680636138000
        ],
        [
         "dbfs:/FileStore/Bookimages/9781302914332.jpg",
         "9781302914332.jpg",
         32901,
         1680636150000
        ],
        [
         "dbfs:/FileStore/Bookimages/9781302916381.jpg",
         "9781302916381.jpg",
         32548,
         1680636162000
        ],
        [
         "dbfs:/FileStore/Bookimages/9781302917791.jpg",
         "9781302917791.jpg",
         807,
         1680636172000
        ],
        [
         "dbfs:/FileStore/Bookimages/9781302917852.jpg",
         "9781302917852.jpg",
         807,
         1680636183000
        ],
        [
         "dbfs:/FileStore/Bookimages/9781302919849.jpg",
         "9781302919849.jpg",
         807,
         1680636194000
        ],
        [
         "dbfs:/FileStore/Bookimages/9781302920449.jpg",
         "9781302920449.jpg",
         21066,
         1680636205000
        ],
        [
         "dbfs:/FileStore/Bookimages/9781302925222.jpg",
         "9781302925222.jpg",
         807,
         1680636215000
        ],
        [
         "dbfs:/FileStore/Bookimages/9781338194548.jpg",
         "9781338194548.jpg",
         23742,
         1680629728000
        ],
        [
         "dbfs:/FileStore/Bookimages/9781338214550.jpg",
         "9781338214550.jpg",
         807,
         1680620563000
        ],
        [
         "dbfs:/FileStore/Bookimages/9781338214574.jpg",
         "9781338214574.jpg",
         12298,
         1680623834000
        ],
        [
         "dbfs:/FileStore/Bookimages/9781338214611.jpg",
         "9781338214611.jpg",
         23460,
         1680624218000
        ],
        [
         "dbfs:/FileStore/Bookimages/9781338304602.jpg",
         "9781338304602.jpg",
         20313,
         1680620468000
        ],
        [
         "dbfs:/FileStore/Bookimages/9781338347258.jpg",
         "9781338347258.jpg",
         32814,
         1680620478000
        ],
        [
         "dbfs:/FileStore/Bookimages/9781338538373.jpg",
         "9781338538373.jpg",
         21250,
         1680620489000
        ],
        [
         "dbfs:/FileStore/Bookimages/9781338569025.jpg",
         "9781338569025.jpg",
         26065,
         1680620500000
        ],
        [
         "dbfs:/FileStore/Bookimages/9781338616040.jpg",
         "9781338616040.jpg",
         21194,
         1680620510000
        ],
        [
         "dbfs:/FileStore/Bookimages/9781338643824.jpg",
         "9781338643824.jpg",
         807,
         1680623940000
        ],
        [
         "dbfs:/FileStore/Bookimages/9781338643930.jpg",
         "9781338643930.jpg",
         807,
         1680623951000
        ],
        [
         "dbfs:/FileStore/Bookimages/9781338655131.jpg",
         "9781338655131.jpg",
         29532,
         1680623962000
        ],
        [
         "dbfs:/FileStore/Bookimages/9781338680669.jpg",
         "9781338680669.jpg",
         28792,
         1680620521000
        ],
        [
         "dbfs:/FileStore/Bookimages/9781338680676.jpg",
         "9781338680676.jpg",
         5773,
         1680620532000
        ],
        [
         "dbfs:/FileStore/Bookimages/9781338680683.jpg",
         "9781338680683.jpg",
         6019,
         1680620542000
        ],
        [
         "dbfs:/FileStore/Bookimages/9781338687071.jpg",
         "9781338687071.jpg",
         28133,
         1680623930000
        ],
        [
         "dbfs:/FileStore/Bookimages/9781338687224.jpg",
         "9781338687224.jpg",
         26340,
         1680620553000
        ],
        [
         "dbfs:/FileStore/Bookimages/9781338702217.jpg",
         "9781338702217.jpg",
         807,
         1680623898000
        ],
        [
         "dbfs:/FileStore/Bookimages/9781338702279.jpg",
         "9781338702279.jpg",
         807,
         1680623908000
        ],
        [
         "dbfs:/FileStore/Bookimages/9781338713473.jpg",
         "9781338713473.jpg",
         25457,
         1680623919000
        ],
        [
         "dbfs:/FileStore/Bookimages/9781338726787.jpg",
         "9781338726787.jpg",
         23025,
         1680620574000
        ],
        [
         "dbfs:/FileStore/Bookimages/9781338729382.jpg",
         "9781338729382.jpg",
         30833,
         1680620585000
        ],
        [
         "dbfs:/FileStore/Bookimages/9781338729399.jpg",
         "9781338729399.jpg",
         18974,
         1680629750000
        ],
        [
         "dbfs:/FileStore/Bookimages/9781338745214.jpg",
         "9781338745214.jpg",
         807,
         1680623845000
        ],
        [
         "dbfs:/FileStore/Bookimages/9781338745245.jpg",
         "9781338745245.jpg",
         807,
         1680623855000
        ],
        [
         "dbfs:/FileStore/Bookimages/9781338745252.jpg",
         "9781338745252.jpg",
         807,
         1680623866000
        ],
        [
         "dbfs:/FileStore/Bookimages/9781338745269.jpg",
         "9781338745269.jpg",
         807,
         1680623876000
        ],
        [
         "dbfs:/FileStore/Bookimages/9781338745405.jpg",
         "9781338745405.jpg",
         22641,
         1680623887000
        ],
        [
         "dbfs:/FileStore/Bookimages/9781338745627.jpg",
         "9781338745627.jpg",
         24867,
         1680620595000
        ],
        [
         "dbfs:/FileStore/Bookimages/9781338745696.jpg",
         "9781338745696.jpg",
         23954,
         1680620765000
        ],
        [
         "dbfs:/FileStore/Bookimages/9781338745702.jpg",
         "9781338745702.jpg",
         807,
         1680620776000
        ],
        [
         "dbfs:/FileStore/Bookimages/9781338746754.jpg",
         "9781338746754.jpg",
         807,
         1680623824000
        ],
        [
         "dbfs:/FileStore/Bookimages/9781338752335.jpg",
         "9781338752335.jpg",
         20094,
         1680620606000
        ],
        [
         "dbfs:/FileStore/Bookimages/9781338755534.jpg",
         "9781338755534.jpg",
         27554,
         1680624175000
        ],
        [
         "dbfs:/FileStore/Bookimages/9781338755558.jpg",
         "9781338755558.jpg",
         26430,
         1680624186000
        ],
        [
         "dbfs:/FileStore/Bookimages/9781338755572.jpg",
         "9781338755572.jpg",
         28579,
         1680624197000
        ],
        [
         "dbfs:/FileStore/Bookimages/9781338756876.jpg",
         "9781338756876.jpg",
         29276,
         1680620627000
        ],
        [
         "dbfs:/FileStore/Bookimages/9781338756920.jpg",
         "9781338756920.jpg",
         28592,
         1680620638000
        ],
        [
         "dbfs:/FileStore/Bookimages/9781338762518.jpg",
         "9781338762518.jpg",
         22596,
         1680620649000
        ],
        [
         "dbfs:/FileStore/Bookimages/9781338762822.jpg",
         "9781338762822.jpg",
         807,
         1680624132000
        ],
        [
         "dbfs:/FileStore/Bookimages/9781338762891.jpg",
         "9781338762891.jpg",
         807,
         1680624143000
        ],
        [
         "dbfs:/FileStore/Bookimages/9781338762952.jpg",
         "9781338762952.jpg",
         807,
         1680624153000
        ],
        [
         "dbfs:/FileStore/Bookimages/9781338763034.jpg",
         "9781338763034.jpg",
         807,
         1680624164000
        ],
        [
         "dbfs:/FileStore/Bookimages/9781338770230.jpg",
         "9781338770230.jpg",
         807,
         1680620617000
        ],
        [
         "dbfs:/FileStore/Bookimages/9781338775402.jpg",
         "9781338775402.jpg",
         807,
         1680624004000
        ],
        [
         "dbfs:/FileStore/Bookimages/9781338775419.jpg",
         "9781338775419.jpg",
         807,
         1680624015000
        ],
        [
         "dbfs:/FileStore/Bookimages/9781338775426.jpg",
         "9781338775426.jpg",
         807,
         1680624025000
        ],
        [
         "dbfs:/FileStore/Bookimages/9781338775457.jpg",
         "9781338775457.jpg",
         807,
         1680624036000
        ],
        [
         "dbfs:/FileStore/Bookimages/9781338776492.jpg",
         "9781338776492.jpg",
         26486,
         1680624090000
        ],
        [
         "dbfs:/FileStore/Bookimages/9781338776591.jpg",
         "9781338776591.jpg",
         807,
         1680624100000
        ],
        [
         "dbfs:/FileStore/Bookimages/9781338776614.jpg",
         "9781338776614.jpg",
         807,
         1680624111000
        ],
        [
         "dbfs:/FileStore/Bookimages/9781338776638.jpg",
         "9781338776638.jpg",
         28367,
         1680624122000
        ],
        [
         "dbfs:/FileStore/Bookimages/9781338776874.jpg",
         "9781338776874.jpg",
         31834,
         1680624047000
        ],
        [
         "dbfs:/FileStore/Bookimages/9781338792164.jpg",
         "9781338792164.jpg",
         807,
         1680624057000
        ],
        [
         "dbfs:/FileStore/Bookimages/9781338796872.jpg",
         "9781338796872.jpg",
         807,
         1680620659000
        ],
        [
         "dbfs:/FileStore/Bookimages/9781338800005.jpg",
         "9781338800005.jpg",
         807,
         1680623973000
        ],
        [
         "dbfs:/FileStore/Bookimages/9781338801002.jpg",
         "9781338801002.jpg",
         807,
         1680623983000
        ],
        [
         "dbfs:/FileStore/Bookimages/9781338801880.jpg",
         "9781338801880.jpg",
         807,
         1680623994000
        ],
        [
         "dbfs:/FileStore/Bookimages/9781338801897.jpg",
         "9781338801897.jpg",
         21316,
         1680620744000
        ],
        [
         "dbfs:/FileStore/Bookimages/9781338801903.jpg",
         "9781338801903.jpg",
         19497,
         1680620755000
        ],
        [
         "dbfs:/FileStore/Bookimages/9781338801910.jpg",
         "9781338801910.jpg",
         28840,
         1680636300000
        ],
        [
         "dbfs:/FileStore/Bookimages/9781338802221.jpg",
         "9781338802221.jpg",
         18330,
         1680629739000
        ],
        [
         "dbfs:/FileStore/Bookimages/9781338802245.jpg",
         "9781338802245.jpg",
         28057,
         1680620457000
        ],
        [
         "dbfs:/FileStore/Bookimages/9781338802269.jpg",
         "9781338802269.jpg",
         17824,
         1680629717000
        ],
        [
         "dbfs:/FileStore/Bookimages/9781338818406.jpg",
         "9781338818406.jpg",
         807,
         1680624068000
        ],
        [
         "dbfs:/FileStore/Bookimages/9781338819939.jpg",
         "9781338819939.jpg",
         23859,
         1680620446000
        ],
        [
         "dbfs:/FileStore/Bookimages/9781338828153.jpg",
         "9781338828153.jpg",
         807,
         1680629707000
        ],
        [
         "dbfs:/FileStore/Bookimages/9781338846621.jpg",
         "9781338846621.jpg",
         29084,
         1680624282000
        ],
        [
         "dbfs:/FileStore/Bookimages/9781368011907.jpg",
         "9781368011907.jpg",
         19749,
         1680620723000
        ],
        [
         "dbfs:/FileStore/Bookimages/9781368023580.jpg",
         "9781368023580.jpg",
         1770,
         1680629612000
        ],
        [
         "dbfs:/FileStore/Bookimages/9781401241032.jpg",
         "9781401241032.jpg",
         26637,
         1680635125000
        ],
        [
         "dbfs:/FileStore/Bookimages/9781401243210.jpg",
         "9781401243210.jpg",
         807,
         1680635135000
        ],
        [
         "dbfs:/FileStore/Bookimages/9781401271121.jpg",
         "9781401271121.jpg",
         807,
         1680635146000
        ],
        [
         "dbfs:/FileStore/Bookimages/9781401283346.jpg",
         "9781401283346.jpg",
         31474,
         1680635157000
        ],
        [
         "dbfs:/FileStore/Bookimages/9781401284596.jpg",
         "9781401284596.jpg",
         35513,
         1680635167000
        ],
        [
         "dbfs:/FileStore/Bookimages/9781401284992.jpg",
         "9781401284992.jpg",
         34039,
         1680635178000
        ],
        [
         "dbfs:/FileStore/Bookimages/9781401288785.jpg",
         "9781401288785.jpg",
         28952,
         1680635191000
        ],
        [
         "dbfs:/FileStore/Bookimages/9781401291389.jpg",
         "9781401291389.jpg",
         30512,
         1680635203000
        ],
        [
         "dbfs:/FileStore/Bookimages/9781405288828.jpg",
         "9781405288828.jpg",
         807,
         1680630923000
        ],
        [
         "dbfs:/FileStore/Bookimages/9781405295949.jpg",
         "9781405295949.jpg",
         30683,
         1680621651000
        ],
        [
         "dbfs:/FileStore/Bookimages/9781405297165.jpg",
         "9781405297165.jpg",
         28734,
         1680621662000
        ],
        [
         "dbfs:/FileStore/Bookimages/9781405297189.jpg",
         "9781405297189.jpg",
         807,
         1680621672000
        ],
        [
         "dbfs:/FileStore/Bookimages/9781405297202.jpg",
         "9781405297202.jpg",
         807,
         1680621683000
        ],
        [
         "dbfs:/FileStore/Bookimages/9781405918848.jpg",
         "9781405918848.jpg",
         18899,
         1680629050000
        ],
        [
         "dbfs:/FileStore/Bookimages/9781405918862.jpg",
         "9781405918862.jpg",
         19232,
         1680629061000
        ],
        [
         "dbfs:/FileStore/Bookimages/9781405939737.jpg",
         "9781405939737.jpg",
         807,
         1680629029000
        ],
        [
         "dbfs:/FileStore/Bookimages/9781406242393.jpg",
         "9781406242393.jpg",
         12045,
         1680623410000
        ],
        [
         "dbfs:/FileStore/Bookimages/9781406341881.jpg",
         "9781406341881.jpg",
         21847,
         1680631084000
        ],
        [
         "dbfs:/FileStore/Bookimages/9781406341898.jpg",
         "9781406341898.jpg",
         24718,
         1680631094000
        ],
        [
         "dbfs:/FileStore/Bookimages/9781406364835.jpg",
         "9781406364835.jpg",
         807,
         1680629760000
        ],
        [
         "dbfs:/FileStore/Bookimages/9781406364842.jpg",
         "9781406364842.jpg",
         22690,
         1680629771000
        ],
        [
         "dbfs:/FileStore/Bookimages/9781406364859.jpg",
         "9781406364859.jpg",
         21914,
         1680629782000
        ],
        [
         "dbfs:/FileStore/Bookimages/9781406364866.jpg",
         "9781406364866.jpg",
         23672,
         1680629792000
        ],
        [
         "dbfs:/FileStore/Bookimages/9781406364873.jpg",
         "9781406364873.jpg",
         19917,
         1680629803000
        ],
        [
         "dbfs:/FileStore/Bookimages/9781406364880.jpg",
         "9781406364880.jpg",
         16507,
         1680629814000
        ],
        [
         "dbfs:/FileStore/Bookimages/9781406364897.jpg",
         "9781406364897.jpg",
         22781,
         1680629826000
        ],
        [
         "dbfs:/FileStore/Bookimages/9781406364903.jpg",
         "9781406364903.jpg",
         21826,
         1680629837000
        ],
        [
         "dbfs:/FileStore/Bookimages/9781406364910.jpg",
         "9781406364910.jpg",
         807,
         1680629848000
        ],
        [
         "dbfs:/FileStore/Bookimages/9781406364927.jpg",
         "9781406364927.jpg",
         807,
         1680629858000
        ],
        [
         "dbfs:/FileStore/Bookimages/9781406364934.jpg",
         "9781406364934.jpg",
         19604,
         1680629869000
        ],
        [
         "dbfs:/FileStore/Bookimages/9781406366327.jpg",
         "9781406366327.jpg",
         807,
         1680629879000
        ],
        [
         "dbfs:/FileStore/Bookimages/9781406366334.jpg",
         "9781406366334.jpg",
         23586,
         1680629890000
        ],
        [
         "dbfs:/FileStore/Bookimages/9781406366341.jpg",
         "9781406366341.jpg",
         22666,
         1680629901000
        ],
        [
         "dbfs:/FileStore/Bookimages/9781406366358.jpg",
         "9781406366358.jpg",
         807,
         1680629911000
        ],
        [
         "dbfs:/FileStore/Bookimages/9781406375954.jpg",
         "9781406375954.jpg",
         807,
         1680629922000
        ],
        [
         "dbfs:/FileStore/Bookimages/9781406376296.jpg",
         "9781406376296.jpg",
         807,
         1680629071000
        ],
        [
         "dbfs:/FileStore/Bookimages/9781406380750.jpg",
         "9781406380750.jpg",
         807,
         1680634015000
        ],
        [
         "dbfs:/FileStore/Bookimages/9781406387759.jpg",
         "9781406387759.jpg",
         807,
         1680630806000
        ],
        [
         "dbfs:/FileStore/Bookimages/9781406391718.jpg",
         "9781406391718.jpg",
         807,
         1680630816000
        ],
        [
         "dbfs:/FileStore/Bookimages/9781407144979.jpg",
         "9781407144979.jpg",
         15882,
         1680630827000
        ],
        [
         "dbfs:/FileStore/Bookimages/9781407144986.jpg",
         "9781407144986.jpg",
         16250,
         1680630838000
        ],
        [
         "dbfs:/FileStore/Bookimages/9781407144993.jpg",
         "9781407144993.jpg",
         807,
         1680630848000
        ],
        [
         "dbfs:/FileStore/Bookimages/9781407163086.jpg",
         "9781407163086.jpg",
         807,
         1680630859000
        ],
        [
         "dbfs:/FileStore/Bookimages/9781407164069.jpg",
         "9781407164069.jpg",
         807,
         1680621916000
        ],
        [
         "dbfs:/FileStore/Bookimages/9781407165837.jpg",
         "9781407165837.jpg",
         807,
         1680630869000
        ],
        [
         "dbfs:/FileStore/Bookimages/9781407165844.jpg",
         "9781407165844.jpg",
         807,
         1680630880000
        ],
        [
         "dbfs:/FileStore/Bookimages/9781407165851.jpg",
         "9781407165851.jpg",
         807,
         1680630890000
        ],
        [
         "dbfs:/FileStore/Bookimages/9781407165868.jpg",
         "9781407165868.jpg",
         22650,
         1680630902000
        ],
        [
         "dbfs:/FileStore/Bookimages/9781407189185.jpg",
         "9781407189185.jpg",
         807,
         1680629039000
        ],
        [
         "dbfs:/FileStore/Bookimages/9781407191102.jpg",
         "9781407191102.jpg",
         807,
         1680621617000
        ],
        [
         "dbfs:/FileStore/Bookimages/9781407191119.jpg",
         "9781407191119.jpg",
         807,
         1680621628000
        ],
        [
         "dbfs:/FileStore/Bookimages/9781407198507.jpg",
         "9781407198507.jpg",
         27516,
         1680621694000
        ],
        [
         "dbfs:/FileStore/Bookimages/9781407227870.jpg",
         "9781407227870.jpg",
         22497,
         1680630933000
        ],
        [
         "dbfs:/FileStore/Bookimages/9781407227894.jpg",
         "9781407227894.jpg",
         27026,
         1680630944000
        ],
        [
         "dbfs:/FileStore/Bookimages/9781408347317.jpg",
         "9781408347317.jpg",
         20731,
         1680630955000
        ],
        [
         "dbfs:/FileStore/Bookimages/9781408348840.jpg",
         "9781408348840.jpg",
         807,
         1680630976000
        ],
        [
         "dbfs:/FileStore/Bookimages/9781408349410.jpg",
         "9781408349410.jpg",
         807,
         1680630986000
        ],
        [
         "dbfs:/FileStore/Bookimages/9781408349496.jpg",
         "9781408349496.jpg",
         807,
         1680630997000
        ],
        [
         "dbfs:/FileStore/Bookimages/9781408349502.jpg",
         "9781408349502.jpg",
         807,
         1680631008000
        ],
        [
         "dbfs:/FileStore/Bookimages/9781408349861.jpg",
         "9781408349861.jpg",
         807,
         1680631018000
        ],
        [
         "dbfs:/FileStore/Bookimages/9781408350058.jpg",
         "9781408350058.jpg",
         807,
         1680631029000
        ],
        [
         "dbfs:/FileStore/Bookimages/9781408350065.jpg",
         "9781408350065.jpg",
         807,
         1680631039000
        ],
        [
         "dbfs:/FileStore/Bookimages/9781408355084.jpg",
         "9781408355084.jpg",
         26843,
         1680631052000
        ],
        [
         "dbfs:/FileStore/Bookimages/9781408356319.jpg",
         "9781408356319.jpg",
         807,
         1680631062000
        ],
        [
         "dbfs:/FileStore/Bookimages/9781408356647.jpg",
         "9781408356647.jpg",
         21985,
         1680631073000
        ],
        [
         "dbfs:/FileStore/Bookimages/9781408363966.jpg",
         "9781408363966.jpg",
         807,
         1680627676000
        ],
        [
         "dbfs:/FileStore/Bookimages/9781408364703.jpg",
         "9781408364703.jpg",
         807,
         1680629654000
        ],
        [
         "dbfs:/FileStore/Bookimages/9781408890219.jpg",
         "9781408890219.jpg",
         18663,
         1680621640000
        ],
        [
         "dbfs:/FileStore/Bookimages/9781409327516.jpg",
         "9781409327516.jpg",
         807,
         1680632211000
        ],
        [
         "dbfs:/FileStore/Bookimages/9781426317224.jpg",
         "9781426317224.jpg",
         807,
         1680635214000
        ],
        [
         "dbfs:/FileStore/Bookimages/9781426317774.jpg",
         "9781426317774.jpg",
         807,
         1680635224000
        ],
        [
         "dbfs:/FileStore/Bookimages/9781426325564.jpg",
         "9781426325564.jpg",
         26076,
         1680635235000
        ],
        [
         "dbfs:/FileStore/Bookimages/9781426327391.jpg",
         "9781426327391.jpg",
         807,
         1680635246000
        ],
        [
         "dbfs:/FileStore/Bookimages/9781426329494.jpg",
         "9781426329494.jpg",
         17254,
         1680635256000
        ],
        [
         "dbfs:/FileStore/Bookimages/9781426329791.jpg",
         "9781426329791.jpg",
         807,
         1680635267000
        ],
        [
         "dbfs:/FileStore/Bookimages/9781426330186.jpg",
         "9781426330186.jpg",
         807,
         1680635277000
        ],
        [
         "dbfs:/FileStore/Bookimages/9781426330216.jpg",
         "9781426330216.jpg",
         807,
         1680635288000
        ],
        [
         "dbfs:/FileStore/Bookimages/9781426331060.jpg",
         "9781426331060.jpg",
         807,
         1680635299000
        ],
        [
         "dbfs:/FileStore/Bookimages/9781426331145.jpg",
         "9781426331145.jpg",
         807,
         1680635310000
        ],
        [
         "dbfs:/FileStore/Bookimages/9781426332593.jpg",
         "9781426332593.jpg",
         15152,
         1680635320000
        ],
        [
         "dbfs:/FileStore/Bookimages/9781426332753.jpg",
         "9781426332753.jpg",
         18213,
         1680635333000
        ],
        [
         "dbfs:/FileStore/Bookimages/9781426332777.jpg",
         "9781426332777.jpg",
         807,
         1680635343000
        ],
        [
         "dbfs:/FileStore/Bookimages/9781426333101.jpg",
         "9781426333101.jpg",
         17045,
         1680635356000
        ],
        [
         "dbfs:/FileStore/Bookimages/9781426333224.jpg",
         "9781426333224.jpg",
         807,
         1680635366000
        ],
        [
         "dbfs:/FileStore/Bookimages/9781426333699.jpg",
         "9781426333699.jpg",
         26446,
         1680635379000
        ],
        [
         "dbfs:/FileStore/Bookimages/9781426334412.jpg",
         "9781426334412.jpg",
         807,
         1680635389000
        ],
        [
         "dbfs:/FileStore/Bookimages/9781426335150.jpg",
         "9781426335150.jpg",
         807,
         1680635400000
        ],
        [
         "dbfs:/FileStore/Bookimages/9781426335334.jpg",
         "9781426335334.jpg",
         807,
         1680635410000
        ],
        [
         "dbfs:/FileStore/Bookimages/9781426335358.jpg",
         "9781426335358.jpg",
         15449,
         1680635421000
        ],
        [
         "dbfs:/FileStore/Bookimages/9781426336850.jpg",
         "9781426336850.jpg",
         19353,
         1680635431000
        ],
        [
         "dbfs:/FileStore/Bookimages/9781426336911.jpg",
         "9781426336911.jpg",
         807,
         1680635442000
        ],
        [
         "dbfs:/FileStore/Bookimages/9781426337383.jpg",
         "9781426337383.jpg",
         807,
         1680635452000
        ],
        [
         "dbfs:/FileStore/Bookimages/9781426339028.jpg",
         "9781426339028.jpg",
         13668,
         1680635463000
        ],
        [
         "dbfs:/FileStore/Bookimages/9781426339035.jpg",
         "9781426339035.jpg",
         807,
         1680635474000
        ],
        [
         "dbfs:/FileStore/Bookimages/9781426339974.jpg",
         "9781426339974.jpg",
         807,
         1680620176000
        ],
        [
         "dbfs:/FileStore/Bookimages/9781426371813.jpg",
         "9781426371813.jpg",
         807,
         1680634766000
        ],
        [
         "dbfs:/FileStore/Bookimages/9781426372186.jpg",
         "9781426372186.jpg",
         22065,
         1680620187000
        ],
        [
         "dbfs:/FileStore/Bookimages/9781426372223.jpg",
         "9781426372223.jpg",
         807,
         1680634755000
        ],
        [
         "dbfs:/FileStore/Bookimages/9781426373374.jpg",
         "9781426373374.jpg",
         807,
         1680620733000
        ],
        [
         "dbfs:/FileStore/Bookimages/9781444932157.jpg",
         "9781444932157.jpg",
         807,
         1680631168000
        ],
        [
         "dbfs:/FileStore/Bookimages/9781444936322.jpg",
         "9781444936322.jpg",
         21160,
         1680631179000
        ],
        [
         "dbfs:/FileStore/Bookimages/9781444936339.jpg",
         "9781444936339.jpg",
         20531,
         1680631190000
        ],
        [
         "dbfs:/FileStore/Bookimages/9781444936346.jpg",
         "9781444936346.jpg",
         807,
         1680631200000
        ],
        [
         "dbfs:/FileStore/Bookimages/9781444936353.jpg",
         "9781444936353.jpg",
         807,
         1680631211000
        ],
        [
         "dbfs:/FileStore/Bookimages/9781444936360.jpg",
         "9781444936360.jpg",
         807,
         1680631221000
        ],
        [
         "dbfs:/FileStore/Bookimages/9781444936377.jpg",
         "9781444936377.jpg",
         807,
         1680631232000
        ],
        [
         "dbfs:/FileStore/Bookimages/9781444936384.jpg",
         "9781444936384.jpg",
         807,
         1680631242000
        ],
        [
         "dbfs:/FileStore/Bookimages/9781444936391.jpg",
         "9781444936391.jpg",
         18832,
         1680631253000
        ],
        [
         "dbfs:/FileStore/Bookimages/9781444936445.jpg",
         "9781444936445.jpg",
         25120,
         1680631264000
        ],
        [
         "dbfs:/FileStore/Bookimages/9781444936476.jpg",
         "9781444936476.jpg",
         807,
         1680631274000
        ],
        [
         "dbfs:/FileStore/Bookimages/9781444936483.jpg",
         "9781444936483.jpg",
         807,
         1680631285000
        ],
        [
         "dbfs:/FileStore/Bookimages/9781444936490.jpg",
         "9781444936490.jpg",
         807,
         1680631296000
        ],
        [
         "dbfs:/FileStore/Bookimages/9781444936513.jpg",
         "9781444936513.jpg",
         21884,
         1680631307000
        ],
        [
         "dbfs:/FileStore/Bookimages/9781444939453.jpg",
         "9781444939453.jpg",
         25592,
         1680627888000
        ],
        [
         "dbfs:/FileStore/Bookimages/9781444939477.jpg",
         "9781444939477.jpg",
         27190,
         1680627899000
        ],
        [
         "dbfs:/FileStore/Bookimages/9781444941531.jpg",
         "9781444941531.jpg",
         807,
         1680631147000
        ],
        [
         "dbfs:/FileStore/Bookimages/9781444944631.jpg",
         "9781444944631.jpg",
         807,
         1680631158000
        ],
        [
         "dbfs:/FileStore/Bookimages/9781444952063.jpg",
         "9781444952063.jpg",
         26702,
         1680627867000
        ],
        [
         "dbfs:/FileStore/Bookimages/9781444952087.jpg",
         "9781444952087.jpg",
         28881,
         1680627877000
        ],
        [
         "dbfs:/FileStore/Bookimages/9781444955347.jpg",
         "9781444955347.jpg",
         807,
         1680631444000
        ],
        [
         "dbfs:/FileStore/Bookimages/9781444955361.jpg",
         "9781444955361.jpg",
         807,
         1680631455000
        ],
        [
         "dbfs:/FileStore/Bookimages/9781444955378.jpg",
         "9781444955378.jpg",
         807,
         1680631465000
        ],
        [
         "dbfs:/FileStore/Bookimages/9781444959833.jpg",
         "9781444959833.jpg",
         807,
         1680631477000
        ],
        [
         "dbfs:/FileStore/Bookimages/9781444959840.jpg",
         "9781444959840.jpg",
         807,
         1680631487000
        ],
        [
         "dbfs:/FileStore/Bookimages/9781444959857.jpg",
         "9781444959857.jpg",
         807,
         1680631498000
        ],
        [
         "dbfs:/FileStore/Bookimages/9781444959864.jpg",
         "9781444959864.jpg",
         807,
         1680631508000
        ],
        [
         "dbfs:/FileStore/Bookimages/9781444959871.jpg",
         "9781444959871.jpg",
         807,
         1680631519000
        ],
        [
         "dbfs:/FileStore/Bookimages/9781444959901.jpg",
         "9781444959901.jpg",
         807,
         1680631529000
        ],
        [
         "dbfs:/FileStore/Bookimages/9781444959918.jpg",
         "9781444959918.jpg",
         807,
         1680631540000
        ],
        [
         "dbfs:/FileStore/Bookimages/9781444959925.jpg",
         "9781444959925.jpg",
         807,
         1680631550000
        ],
        [
         "dbfs:/FileStore/Bookimages/9781444965117.jpg",
         "9781444965117.jpg",
         807,
         1680631561000
        ],
        [
         "dbfs:/FileStore/Bookimages/9781445129891.jpg",
         "9781445129891.jpg",
         17012,
         1680631572000
        ],
        [
         "dbfs:/FileStore/Bookimages/9781445129907.jpg",
         "9781445129907.jpg",
         16731,
         1680631582000
        ],
        [
         "dbfs:/FileStore/Bookimages/9781445129914.jpg",
         "9781445129914.jpg",
         16929,
         1680631593000
        ],
        [
         "dbfs:/FileStore/Bookimages/9781445129921.jpg",
         "9781445129921.jpg",
         15503,
         1680631604000
        ],
        [
         "dbfs:/FileStore/Bookimages/9781445138930.jpg",
         "9781445138930.jpg",
         15832,
         1680631615000
        ],
        [
         "dbfs:/FileStore/Bookimages/9781445138954.jpg",
         "9781445138954.jpg",
         17409,
         1680631625000
        ],
        [
         "dbfs:/FileStore/Bookimages/9781445138978.jpg",
         "9781445138978.jpg",
         14750,
         1680631636000
        ],
        [
         "dbfs:/FileStore/Bookimages/9781445138992.jpg",
         "9781445138992.jpg",
         13978,
         1680631647000
        ],
        [
         "dbfs:/FileStore/Bookimages/9781445142470.jpg",
         "9781445142470.jpg",
         807,
         1680631658000
        ],
        [
         "dbfs:/FileStore/Bookimages/9781445142487.jpg",
         "9781445142487.jpg",
         17985,
         1680631668000
        ],
        [
         "dbfs:/FileStore/Bookimages/9781445147178.jpg",
         "9781445147178.jpg",
         20167,
         1680631679000
        ],
        [
         "dbfs:/FileStore/Bookimages/9781445147185.jpg",
         "9781445147185.jpg",
         22543,
         1680631691000
        ],
        [
         "dbfs:/FileStore/Bookimages/9781445147192.jpg",
         "9781445147192.jpg",
         18888,
         1680631704000
        ],
        [
         "dbfs:/FileStore/Bookimages/9781445147208.jpg",
         "9781445147208.jpg",
         15400,
         1680631714000
        ],
        [
         "dbfs:/FileStore/Bookimages/9781445151991.jpg",
         "9781445151991.jpg",
         807,
         1680631725000
        ],
        [
         "dbfs:/FileStore/Bookimages/9781445152011.jpg",
         "9781445152011.jpg",
         16867,
         1680631736000
        ],
        [
         "dbfs:/FileStore/Bookimages/9781445158549.jpg",
         "9781445158549.jpg",
         807,
         1680631746000
        ],
        [
         "dbfs:/FileStore/Bookimages/9781445158686.jpg",
         "9781445158686.jpg",
         807,
         1680631757000
        ],
        [
         "dbfs:/FileStore/Bookimages/9781445158709.jpg",
         "9781445158709.jpg",
         807,
         1680631768000
        ],
        [
         "dbfs:/FileStore/Bookimages/9781445158723.jpg",
         "9781445158723.jpg",
         807,
         1680631778000
        ],
        [
         "dbfs:/FileStore/Bookimages/9781445165530.jpg",
         "9781445165530.jpg",
         807,
         1680631423000
        ],
        [
         "dbfs:/FileStore/Bookimages/9781445165660.jpg",
         "9781445165660.jpg",
         807,
         1680631433000
        ],
        [
         "dbfs:/FileStore/Bookimages/9781445166292.jpg",
         "9781445166292.jpg",
         807,
         1680629018000
        ],
        [
         "dbfs:/FileStore/Bookimages/9781445168661.jpg",
         "9781445168661.jpg",
         807,
         1680631317000
        ],
        [
         "dbfs:/FileStore/Bookimages/9781445170862.jpg",
         "9781445170862.jpg",
         807,
         1680631328000
        ],
        [
         "dbfs:/FileStore/Bookimages/9781445170886.jpg",
         "9781445170886.jpg",
         807,
         1680631338000
        ],
        [
         "dbfs:/FileStore/Bookimages/9781445170909.jpg",
         "9781445170909.jpg",
         807,
         1680631349000
        ],
        [
         "dbfs:/FileStore/Bookimages/9781445173092.jpg",
         "9781445173092.jpg",
         17626,
         1680631360000
        ],
        [
         "dbfs:/FileStore/Bookimages/9781445173276.jpg",
         "9781445173276.jpg",
         807,
         1680631370000
        ],
        [
         "dbfs:/FileStore/Bookimages/9781445173290.jpg",
         "9781445173290.jpg",
         807,
         1680631381000
        ],
        [
         "dbfs:/FileStore/Bookimages/9781445173313.jpg",
         "9781445173313.jpg",
         807,
         1680631391000
        ],
        [
         "dbfs:/FileStore/Bookimages/9781445173337.jpg",
         "9781445173337.jpg",
         807,
         1680631402000
        ],
        [
         "dbfs:/FileStore/Bookimages/9781445173351.jpg",
         "9781445173351.jpg",
         807,
         1680631412000
        ],
        [
         "dbfs:/FileStore/Bookimages/9781447205265.jpg",
         "9781447205265.jpg",
         16196,
         1680631105000
        ],
        [
         "dbfs:/FileStore/Bookimages/9781447213130.jpg",
         "9781447213130.jpg",
         11104,
         1680631116000
        ],
        [
         "dbfs:/FileStore/Bookimages/9781447220640.jpg",
         "9781447220640.jpg",
         15156,
         1680631126000
        ],
        [
         "dbfs:/FileStore/Bookimages/9781447282358.jpg",
         "9781447282358.jpg",
         807,
         1680627813000
        ],
        [
         "dbfs:/FileStore/Bookimages/9781447282365.jpg",
         "9781447282365.jpg",
         807,
         1680627824000
        ],
        [
         "dbfs:/FileStore/Bookimages/9781447282389.jpg",
         "9781447282389.jpg",
         807,
         1680627834000
        ],
        [
         "dbfs:/FileStore/Bookimages/9781447282396.jpg",
         "9781447282396.jpg",
         807,
         1680627845000
        ],
        [
         "dbfs:/FileStore/Bookimages/9781447282426.jpg",
         "9781447282426.jpg",
         807,
         1680627855000
        ],
        [
         "dbfs:/FileStore/Bookimages/9781452170817.jpg",
         "9781452170817.jpg",
         807,
         1680635484000
        ],
        [
         "dbfs:/FileStore/Bookimages/9781452182254.jpg",
         "9781452182254.jpg",
         807,
         1680635495000
        ],
        [
         "dbfs:/FileStore/Bookimages/9781465409348.jpg",
         "9781465409348.jpg",
         807,
         1680635505000
        ],
        [
         "dbfs:/FileStore/Bookimages/9781465415851.jpg",
         "9781465415851.jpg",
         14351,
         1680622404000
        ],
        [
         "dbfs:/FileStore/Bookimages/9781465416544.jpg",
         "9781465416544.jpg",
         21279,
         1680634917000
        ],
        [
         "dbfs:/FileStore/Bookimages/9781465435026.jpg",
         "9781465435026.jpg",
         20515,
         1680634928000
        ],
        [
         "dbfs:/FileStore/Bookimages/9781465436238.jpg",
         "9781465436238.jpg",
         23919,
         1680634940000
        ],
        [
         "dbfs:/FileStore/Bookimages/9781465452115.jpg",
         "9781465452115.jpg",
         807,
         1680634951000
        ],
        [
         "dbfs:/FileStore/Bookimages/9781465454300.jpg",
         "9781465454300.jpg",
         807,
         1680631789000
        ],
        [
         "dbfs:/FileStore/Bookimages/9781465464194.jpg",
         "9781465464194.jpg",
         807,
         1680622383000
        ],
        [
         "dbfs:/FileStore/Bookimages/9781465468611.jpg",
         "9781465468611.jpg",
         807,
         1680622393000
        ],
        [
         "dbfs:/FileStore/Bookimages/9781465469311.jpg",
         "9781465469311.jpg",
         27377,
         1680634962000
        ],
        [
         "dbfs:/FileStore/Bookimages/9781465470096.jpg",
         "9781465470096.jpg",
         807,
         1680634972000
        ],
        [
         "dbfs:/FileStore/Bookimages/9781465470102.jpg",
         "9781465470102.jpg",
         807,
         1680634983000
        ],
        [
         "dbfs:/FileStore/Bookimages/9781465470904.jpg",
         "9781465470904.jpg",
         14361,
         1680634995000
        ],
        [
         "dbfs:/FileStore/Bookimages/9781465470959.jpg",
         "9781465470959.jpg",
         21648,
         1680635005000
        ],
        [
         "dbfs:/FileStore/Bookimages/9781465474384.jpg",
         "9781465474384.jpg",
         807,
         1680635016000
        ],
        [
         "dbfs:/FileStore/Bookimages/9781465474513.jpg",
         "9781465474513.jpg",
         24668,
         1680635028000
        ],
        [
         "dbfs:/FileStore/Bookimages/9781465478818.jpg",
         "9781465478818.jpg",
         21968,
         1680635039000
        ],
        [
         "dbfs:/FileStore/Bookimages/9781465479563.jpg",
         "9781465479563.jpg",
         807,
         1680622415000
        ],
        [
         "dbfs:/FileStore/Bookimages/9781465479587.jpg",
         "9781465479587.jpg",
         20885,
         1680622425000
        ],
        [
         "dbfs:/FileStore/Bookimages/9781465479648.jpg",
         "9781465479648.jpg",
         19979,
         1680622438000
        ],
        [
         "dbfs:/FileStore/Bookimages/9781465479761.jpg",
         "9781465479761.jpg",
         807,
         1680634874000
        ],
        [
         "dbfs:/FileStore/Bookimages/9781465480361.jpg",
         "9781465480361.jpg",
         28529,
         1680634885000
        ],
        [
         "dbfs:/FileStore/Bookimages/9781465480415.jpg",
         "9781465480415.jpg",
         807,
         1680634896000
        ],
        [
         "dbfs:/FileStore/Bookimages/9781465481511.jpg",
         "9781465481511.jpg",
         807,
         1680634906000
        ],
        [
         "dbfs:/FileStore/Bookimages/9781465482228.jpg",
         "9781465482228.jpg",
         15228,
         1680622450000
        ],
        [
         "dbfs:/FileStore/Bookimages/9781465482488.jpg",
         "9781465482488.jpg",
         15752,
         1680634798000
        ],
        [
         "dbfs:/FileStore/Bookimages/9781465482686.jpg",
         "9781465482686.jpg",
         29701,
         1680634809000
        ],
        [
         "dbfs:/FileStore/Bookimages/9781465484369.jpg",
         "9781465484369.jpg",
         22520,
         1680634819000
        ],
        [
         "dbfs:/FileStore/Bookimages/9781465484383.jpg",
         "9781465484383.jpg",
         28079,
         1680634832000
        ],
        [
         "dbfs:/FileStore/Bookimages/9781465489524.jpg",
         "9781465489524.jpg",
         807,
         1680634843000
        ],
        [
         "dbfs:/FileStore/Bookimages/9781465489555.jpg",
         "9781465489555.jpg",
         807,
         1680623229000
        ],
        [
         "dbfs:/FileStore/Bookimages/9781465489791.jpg",
         "9781465489791.jpg",
         17239,
         1680622461000
        ],
        [
         "dbfs:/FileStore/Bookimages/9781465489814.jpg",
         "9781465489814.jpg",
         807,
         1680631799000
        ],
        [
         "dbfs:/FileStore/Bookimages/9781465489920.jpg",
         "9781465489920.jpg",
         807,
         1680634776000
        ],
        [
         "dbfs:/FileStore/Bookimages/9781465491145.jpg",
         "9781465491145.jpg",
         22284,
         1680634787000
        ],
        [
         "dbfs:/FileStore/Bookimages/9781465491442.jpg",
         "9781465491442.jpg",
         22599,
         1680622471000
        ],
        [
         "dbfs:/FileStore/Bookimages/9781465492272.jpg",
         "9781465492272.jpg",
         26250,
         1680622482000
        ],
        [
         "dbfs:/FileStore/Bookimages/9781465492371.jpg",
         "9781465492371.jpg",
         807,
         1680623198000
        ],
        [
         "dbfs:/FileStore/Bookimages/9781465493279.jpg",
         "9781465493279.jpg",
         807,
         1680623208000
        ],
        [
         "dbfs:/FileStore/Bookimages/9781465497864.jpg",
         "9781465497864.jpg",
         807,
         1680623219000
        ],
        [
         "dbfs:/FileStore/Bookimages/9781465497888.jpg",
         "9781465497888.jpg",
         807,
         1680634864000
        ],
        [
         "dbfs:/FileStore/Bookimages/9781465497895.jpg",
         "9781465497895.jpg",
         807,
         1680623240000
        ],
        [
         "dbfs:/FileStore/Bookimages/9781465499851.jpg",
         "9781465499851.jpg",
         807,
         1680634853000
        ],
        [
         "dbfs:/FileStore/Bookimages/9781465499882.jpg",
         "9781465499882.jpg",
         26659,
         1680635050000
        ],
        [
         "dbfs:/FileStore/Bookimages/9781471186134.jpg",
         "9781471186134.jpg",
         807,
         1680631137000
        ],
        [
         "dbfs:/FileStore/Bookimages/9781471190674.jpg",
         "9781471190674.jpg",
         807,
         1680634629000
        ],
        [
         "dbfs:/FileStore/Bookimages/9781471198052.jpg",
         "9781471198052.jpg",
         807,
         1680634639000
        ],
        [
         "dbfs:/FileStore/Bookimages/9781471198069.jpg",
         "9781471198069.jpg",
         807,
         1680634650000
        ],
        [
         "dbfs:/FileStore/Bookimages/9781471198076.jpg",
         "9781471198076.jpg",
         807,
         1680634660000
        ],
        [
         "dbfs:/FileStore/Bookimages/9781471198083.jpg",
         "9781471198083.jpg",
         807,
         1680634671000
        ],
        [
         "dbfs:/FileStore/Bookimages/9781471198090.jpg",
         "9781471198090.jpg",
         807,
         1680634681000
        ],
        [
         "dbfs:/FileStore/Bookimages/9781471198106.jpg",
         "9781471198106.jpg",
         807,
         1680634692000
        ],
        [
         "dbfs:/FileStore/Bookimages/9781471198113.jpg",
         "9781471198113.jpg",
         807,
         1680634703000
        ],
        [
         "dbfs:/FileStore/Bookimages/9781471198120.jpg",
         "9781471198120.jpg",
         807,
         1680634713000
        ],
        [
         "dbfs:/FileStore/Bookimages/9781471198137.jpg",
         "9781471198137.jpg",
         807,
         1680634724000
        ],
        [
         "dbfs:/FileStore/Bookimages/9781471198144.jpg",
         "9781471198144.jpg",
         807,
         1680634734000
        ],
        [
         "dbfs:/FileStore/Bookimages/9781471198151.jpg",
         "9781471198151.jpg",
         807,
         1680634745000
        ],
        [
         "dbfs:/FileStore/Bookimages/9781471198168.jpg",
         "9781471198168.jpg",
         807,
         1680629082000
        ],
        [
         "dbfs:/FileStore/Bookimages/9781471198175.jpg",
         "9781471198175.jpg",
         807,
         1680632201000
        ],
        [
         "dbfs:/FileStore/Bookimages/9781474829823.jpg",
         "9781474829823.jpg",
         807,
         1680620262000
        ],
        [
         "dbfs:/FileStore/Bookimages/9781474829830.jpg",
         "9781474829830.jpg",
         807,
         1680626233000
        ],
        [
         "dbfs:/FileStore/Bookimages/9781474831994.jpg",
         "9781474831994.jpg",
         807,
         1680630912000
        ],
        [
         "dbfs:/FileStore/Bookimages/9781474939584.jpg",
         "9781474939584.jpg",
         16662,
         1680622245000
        ],
        [
         "dbfs:/FileStore/Bookimages/9781474948043.jpg",
         "9781474948043.jpg",
         807,
         1680622256000
        ],
        [
         "dbfs:/FileStore/Bookimages/9781474952798.jpg",
         "9781474952798.jpg",
         807,
         1680621789000
        ],
        [
         "dbfs:/FileStore/Bookimages/9781474953597.jpg",
         "9781474953597.jpg",
         16720,
         1680622234000
        ],
        [
         "dbfs:/FileStore/Bookimages/9781474960298.jpg",
         "9781474960298.jpg",
         807,
         1680623400000
        ],
        [
         "dbfs:/FileStore/Bookimages/9781474967921.jpg",
         "9781474967921.jpg",
         16321,
         1680622267000
        ],
        [
         "dbfs:/FileStore/Bookimages/9781474968027.jpg",
         "9781474968027.jpg",
         807,
         1680622277000
        ],
        [
         "dbfs:/FileStore/Bookimages/9781474968317.jpg",
         "9781474968317.jpg",
         16439,
         1680622288000
        ],
        [
         "dbfs:/FileStore/Bookimages/9781474968386.jpg",
         "9781474968386.jpg",
         17308,
         1680622299000
        ],
        [
         "dbfs:/FileStore/Bookimages/9781474972093.jpg",
         "9781474972093.jpg",
         807,
         1680622309000
        ],
        [
         "dbfs:/FileStore/Bookimages/9781474979900.jpg",
         "9781474979900.jpg",
         807,
         1680622320000
        ],
        [
         "dbfs:/FileStore/Bookimages/9781474981347.jpg",
         "9781474981347.jpg",
         807,
         1680622330000
        ],
        [
         "dbfs:/FileStore/Bookimages/9781474983204.jpg",
         "9781474983204.jpg",
         807,
         1680621799000
        ],
        [
         "dbfs:/FileStore/Bookimages/9781474986137.jpg",
         "9781474986137.jpg",
         807,
         1680622224000
        ],
        [
         "dbfs:/FileStore/Bookimages/9781474986168.jpg",
         "9781474986168.jpg",
         807,
         1680621820000
        ],
        [
         "dbfs:/FileStore/Bookimages/9781474986397.jpg",
         "9781474986397.jpg",
         24513,
         1680622171000
        ],
        [
         "dbfs:/FileStore/Bookimages/9781474986458.jpg",
         "9781474986458.jpg",
         20099,
         1680622182000
        ],
        [
         "dbfs:/FileStore/Bookimages/9781474986472.jpg",
         "9781474986472.jpg",
         807,
         1680621810000
        ],
        [
         "dbfs:/FileStore/Bookimages/9781474986625.jpg",
         "9781474986625.jpg",
         807,
         1680622192000
        ],
        [
         "dbfs:/FileStore/Bookimages/9781474986632.jpg",
         "9781474986632.jpg",
         807,
         1680622203000
        ],
        [
         "dbfs:/FileStore/Bookimages/9781474986649.jpg",
         "9781474986649.jpg",
         807,
         1680622213000
        ],
        [
         "dbfs:/FileStore/Bookimages/9781474986908.jpg",
         "9781474986908.jpg",
         807,
         1680621831000
        ],
        [
         "dbfs:/FileStore/Bookimages/9781474989619.jpg",
         "9781474989619.jpg",
         807,
         1680622160000
        ],
        [
         "dbfs:/FileStore/Bookimages/9781474989855.jpg",
         "9781474989855.jpg",
         18927,
         1680621874000
        ],
        [
         "dbfs:/FileStore/Bookimages/9781474989886.jpg",
         "9781474989886.jpg",
         22461,
         1680621884000
        ],
        [
         "dbfs:/FileStore/Bookimages/9781474992329.jpg",
         "9781474992329.jpg",
         807,
         1680622118000
        ],
        [
         "dbfs:/FileStore/Bookimages/9781474995795.jpg",
         "9781474995795.jpg",
         18986,
         1680621842000
        ],
        [
         "dbfs:/FileStore/Bookimages/9781474995825.jpg",
         "9781474995825.jpg",
         807,
         1680621852000
        ],
        [
         "dbfs:/FileStore/Bookimages/9781474996082.jpg",
         "9781474996082.jpg",
         18394,
         1680621863000
        ],
        [
         "dbfs:/FileStore/Bookimages/9781474996099.jpg",
         "9781474996099.jpg",
         19443,
         1680622129000
        ],
        [
         "dbfs:/FileStore/Bookimages/9781474996730.jpg",
         "9781474996730.jpg",
         807,
         1680622139000
        ],
        [
         "dbfs:/FileStore/Bookimages/9781474997874.jpg",
         "9781474997874.jpg",
         807,
         1680622150000
        ],
        [
         "dbfs:/FileStore/Bookimages/9781474998062.jpg",
         "9781474998062.jpg",
         807,
         1680621895000
        ],
        [
         "dbfs:/FileStore/Bookimages/9781474999045.jpg",
         "9781474999045.jpg",
         807,
         1680622107000
        ],
        [
         "dbfs:/FileStore/Bookimages/9781474999182.jpg",
         "9781474999182.jpg",
         807,
         1680622341000
        ],
        [
         "dbfs:/FileStore/Bookimages/9781481470230.jpg",
         "9781481470230.jpg",
         17888,
         1680623187000
        ],
        [
         "dbfs:/FileStore/Bookimages/9781488902840.jpg",
         "9781488902840.jpg",
         807,
         1680620103000
        ],
        [
         "dbfs:/FileStore/Bookimages/9781488908224.jpg",
         "9781488908224.jpg",
         807,
         1680628608000
        ],
        [
         "dbfs:/FileStore/Bookimages/9781488908545.jpg",
         "9781488908545.jpg",
         807,
         1680628618000
        ],
        [
         "dbfs:/FileStore/Bookimages/9781488914171.jpg",
         "9781488914171.jpg",
         807,
         1680628629000
        ],
        [
         "dbfs:/FileStore/Bookimages/9781488914232.jpg",
         "9781488914232.jpg",
         807,
         1680628639000
        ],
        [
         "dbfs:/FileStore/Bookimages/9781488915994.jpg",
         "9781488915994.jpg",
         807,
         1680628650000
        ],
        [
         "dbfs:/FileStore/Bookimages/9781488918322.jpg",
         "9781488918322.jpg",
         807,
         1680628660000
        ],
        [
         "dbfs:/FileStore/Bookimages/9781488919893.jpg",
         "9781488919893.jpg",
         807,
         1680628671000
        ],
        [
         "dbfs:/FileStore/Bookimages/9781488920851.jpg",
         "9781488920851.jpg",
         807,
         1680628681000
        ],
        [
         "dbfs:/FileStore/Bookimages/9781488920905.jpg",
         "9781488920905.jpg",
         807,
         1680628692000
        ],
        [
         "dbfs:/FileStore/Bookimages/9781488920967.jpg",
         "9781488920967.jpg",
         807,
         1680628702000
        ],
        [
         "dbfs:/FileStore/Bookimages/9781488922305.jpg",
         "9781488922305.jpg",
         807,
         1680628713000
        ],
        [
         "dbfs:/FileStore/Bookimages/9781488922480.jpg",
         "9781488922480.jpg",
         807,
         1680629622000
        ],
        [
         "dbfs:/FileStore/Bookimages/9781488922572.jpg",
         "9781488922572.jpg",
         807,
         1680628913000
        ],
        [
         "dbfs:/FileStore/Bookimages/9781488924132.jpg",
         "9781488924132.jpg",
         807,
         1680628924000
        ],
        [
         "dbfs:/FileStore/Bookimages/9781488924156.jpg",
         "9781488924156.jpg",
         807,
         1680628934000
        ],
        [
         "dbfs:/FileStore/Bookimages/9781488924293.jpg",
         "9781488924293.jpg",
         807,
         1680628945000
        ],
        [
         "dbfs:/FileStore/Bookimages/9781488924316.jpg",
         "9781488924316.jpg",
         807,
         1680628955000
        ],
        [
         "dbfs:/FileStore/Bookimages/9781488925108.jpg",
         "9781488925108.jpg",
         807,
         1680628966000
        ],
        [
         "dbfs:/FileStore/Bookimages/9781488925184.jpg",
         "9781488925184.jpg",
         807,
         1680628976000
        ],
        [
         "dbfs:/FileStore/Bookimages/9781488925351.jpg",
         "9781488925351.jpg",
         807,
         1680628987000
        ],
        [
         "dbfs:/FileStore/Bookimages/9781488925696.jpg",
         "9781488925696.jpg",
         807,
         1680628997000
        ],
        [
         "dbfs:/FileStore/Bookimages/9781488925931.jpg",
         "9781488925931.jpg",
         807,
         1680629008000
        ],
        [
         "dbfs:/FileStore/Bookimages/9781488928208.jpg",
         "9781488928208.jpg",
         807,
         1680634226000
        ],
        [
         "dbfs:/FileStore/Bookimages/9781488941573.jpg",
         "9781488941573.jpg",
         807,
         1680628723000
        ],
        [
         "dbfs:/FileStore/Bookimages/9781488943416.jpg",
         "9781488943416.jpg",
         807,
         1680628734000
        ],
        [
         "dbfs:/FileStore/Bookimages/9781488943775.jpg",
         "9781488943775.jpg",
         807,
         1680628744000
        ],
        [
         "dbfs:/FileStore/Bookimages/9781488943959.jpg",
         "9781488943959.jpg",
         807,
         1680628755000
        ],
        [
         "dbfs:/FileStore/Bookimages/9781488945045.jpg",
         "9781488945045.jpg",
         807,
         1680628766000
        ],
        [
         "dbfs:/FileStore/Bookimages/9781488945199.jpg",
         "9781488945199.jpg",
         807,
         1680628776000
        ],
        [
         "dbfs:/FileStore/Bookimages/9781488945205.jpg",
         "9781488945205.jpg",
         807,
         1680628787000
        ],
        [
         "dbfs:/FileStore/Bookimages/9781488945229.jpg",
         "9781488945229.jpg",
         807,
         1680628797000
        ],
        [
         "dbfs:/FileStore/Bookimages/9781488945458.jpg",
         "9781488945458.jpg",
         807,
         1680628808000
        ],
        [
         "dbfs:/FileStore/Bookimages/9781488946226.jpg",
         "9781488946226.jpg",
         807,
         1680628818000
        ],
        [
         "dbfs:/FileStore/Bookimages/9781488946233.jpg",
         "9781488946233.jpg",
         807,
         1680628829000
        ],
        [
         "dbfs:/FileStore/Bookimages/9781488946240.jpg",
         "9781488946240.jpg",
         807,
         1680628839000
        ],
        [
         "dbfs:/FileStore/Bookimages/9781488946257.jpg",
         "9781488946257.jpg",
         807,
         1680628850000
        ],
        [
         "dbfs:/FileStore/Bookimages/9781488946264.jpg",
         "9781488946264.jpg",
         807,
         1680628860000
        ],
        [
         "dbfs:/FileStore/Bookimages/9781488946271.jpg",
         "9781488946271.jpg",
         807,
         1680628871000
        ],
        [
         "dbfs:/FileStore/Bookimages/9781488946288.jpg",
         "9781488946288.jpg",
         807,
         1680628881000
        ],
        [
         "dbfs:/FileStore/Bookimages/9781488946295.jpg",
         "9781488946295.jpg",
         807,
         1680628892000
        ],
        [
         "dbfs:/FileStore/Bookimages/9781488946325.jpg",
         "9781488946325.jpg",
         807,
         1680628902000
        ],
        [
         "dbfs:/FileStore/Bookimages/9781488946479.jpg",
         "9781488946479.jpg",
         807,
         1680629105000
        ],
        [
         "dbfs:/FileStore/Bookimages/9781488946486.jpg",
         "9781488946486.jpg",
         807,
         1680629116000
        ],
        [
         "dbfs:/FileStore/Bookimages/9781488946493.jpg",
         "9781488946493.jpg",
         807,
         1680629126000
        ],
        [
         "dbfs:/FileStore/Bookimages/9781488946509.jpg",
         "9781488946509.jpg",
         807,
         1680629137000
        ],
        [
         "dbfs:/FileStore/Bookimages/9781488947858.jpg",
         "9781488947858.jpg",
         807,
         1680633530000
        ],
        [
         "dbfs:/FileStore/Bookimages/9781488947865.jpg",
         "9781488947865.jpg",
         807,
         1680633540000
        ],
        [
         "dbfs:/FileStore/Bookimages/9781488950605.jpg",
         "9781488950605.jpg",
         807,
         1680633551000
        ],
        [
         "dbfs:/FileStore/Bookimages/9781488950629.jpg",
         "9781488950629.jpg",
         807,
         1680633561000
        ],
        [
         "dbfs:/FileStore/Bookimages/9781503735705.jpg",
         "9781503735705.jpg",
         807,
         1680629389000
        ],
        [
         "dbfs:/FileStore/Bookimages/9781503743540.jpg",
         "9781503743540.jpg",
         807,
         1680629548000
        ],
        [
         "dbfs:/FileStore/Bookimages/9781503745766.jpg",
         "9781503745766.jpg",
         807,
         1680629295000
        ],
        [
         "dbfs:/FileStore/Bookimages/9781503750753.jpg",
         "9781503750753.jpg",
         807,
         1680629305000
        ],
        [
         "dbfs:/FileStore/Bookimages/9781503753082.jpg",
         "9781503753082.jpg",
         807,
         1680629316000
        ],
        [
         "dbfs:/FileStore/Bookimages/9781503754553.jpg",
         "9781503754553.jpg",
         807,
         1680629326000
        ],
        [
         "dbfs:/FileStore/Bookimages/9781503754577.jpg",
         "9781503754577.jpg",
         807,
         1680629337000
        ],
        [
         "dbfs:/FileStore/Bookimages/9781503754584.jpg",
         "9781503754584.jpg",
         807,
         1680629347000
        ],
        [
         "dbfs:/FileStore/Bookimages/9781503754591.jpg",
         "9781503754591.jpg",
         807,
         1680629358000
        ],
        [
         "dbfs:/FileStore/Bookimages/9781503754898.jpg",
         "9781503754898.jpg",
         807,
         1680629368000
        ],
        [
         "dbfs:/FileStore/Bookimages/9781503754904.jpg",
         "9781503754904.jpg",
         807,
         1680629379000
        ],
        [
         "dbfs:/FileStore/Bookimages/9781503755642.jpg",
         "9781503755642.jpg",
         807,
         1680629400000
        ],
        [
         "dbfs:/FileStore/Bookimages/9781503757851.jpg",
         "9781503757851.jpg",
         807,
         1680629410000
        ],
        [
         "dbfs:/FileStore/Bookimages/9781503757950.jpg",
         "9781503757950.jpg",
         807,
         1680629421000
        ],
        [
         "dbfs:/FileStore/Bookimages/9781503758162.jpg",
         "9781503758162.jpg",
         807,
         1680629432000
        ],
        [
         "dbfs:/FileStore/Bookimages/9781503758681.jpg",
         "9781503758681.jpg",
         807,
         1680629442000
        ],
        [
         "dbfs:/FileStore/Bookimages/9781503759381.jpg",
         "9781503759381.jpg",
         807,
         1680629453000
        ],
        [
         "dbfs:/FileStore/Bookimages/9781503759961.jpg",
         "9781503759961.jpg",
         807,
         1680629463000
        ],
        [
         "dbfs:/FileStore/Bookimages/9781503760400.jpg",
         "9781503760400.jpg",
         807,
         1680629474000
        ],
        [
         "dbfs:/FileStore/Bookimages/9781503761650.jpg",
         "9781503761650.jpg",
         25394,
         1680629485000
        ],
        [
         "dbfs:/FileStore/Bookimages/9781503761674.jpg",
         "9781503761674.jpg",
         807,
         1680629495000
        ],
        [
         "dbfs:/FileStore/Bookimages/9781503761797.jpg",
         "9781503761797.jpg",
         807,
         1680629506000
        ],
        [
         "dbfs:/FileStore/Bookimages/9781503761995.jpg",
         "9781503761995.jpg",
         807,
         1680629516000
        ],
        [
         "dbfs:/FileStore/Bookimages/9781503762527.jpg",
         "9781503762527.jpg",
         807,
         1680629527000
        ],
        [
         "dbfs:/FileStore/Bookimages/9781503762534.jpg",
         "9781503762534.jpg",
         807,
         1680629537000
        ],
        [
         "dbfs:/FileStore/Bookimages/9781510103603.jpg",
         "9781510103603.jpg",
         807,
         1680631841000
        ],
        [
         "dbfs:/FileStore/Bookimages/9781510108042.jpg",
         "9781510108042.jpg",
         807,
         1680631852000
        ],
        [
         "dbfs:/FileStore/Bookimages/9781510108141.jpg",
         "9781510108141.jpg",
         807,
         1680631862000
        ],
        [
         "dbfs:/FileStore/Bookimages/9781523513581.jpg",
         "9781523513581.jpg",
         807,
         1680622351000
        ],
        [
         "dbfs:/FileStore/Bookimages/9781524717674.jpg",
         "9781524717674.jpg",
         807,
         1680627792000
        ],
        [
         "dbfs:/FileStore/Bookimages/9781524789671.jpg",
         "9781524789671.jpg",
         27670,
         1680638858000
        ],
        [
         "dbfs:/FileStore/Bookimages/9781524868567.jpg",
         "9781524868567.jpg",
         807,
         1680622631000
        ],
        [
         "dbfs:/FileStore/Bookimages/9781524868574.jpg",
         "9781524868574.jpg",
         20507,
         1680622642000
        ],
        [
         "dbfs:/FileStore/Bookimages/9781524871574.jpg",
         "9781524871574.jpg",
         27151,
         1680622653000
        ],
        [
         "dbfs:/FileStore/Bookimages/9781524875572.jpg",
         "9781524875572.jpg",
         22481,
         1680638483000
        ],
        [
         "dbfs:/FileStore/Bookimages/9781524875602.jpg",
         "9781524875602.jpg",
         1770,
         1680638494000
        ],
        [
         "dbfs:/FileStore/Bookimages/9781524878733.jpg",
         "9781524878733.jpg",
         23952,
         1680638505000
        ],
        [
         "dbfs:/FileStore/Bookimages/9781526380463.jpg",
         "9781526380463.jpg",
         807,
         1680632285000
        ],
        [
         "dbfs:/FileStore/Bookimages/9781526380470.jpg",
         "9781526380470.jpg",
         807,
         1680632296000
        ],
        [
         "dbfs:/FileStore/Bookimages/9781526382269.jpg",
         "9781526382269.jpg",
         807,
         1680629147000
        ],
        [
         "dbfs:/FileStore/Bookimages/9781526382672.jpg",
         "9781526382672.jpg",
         807,
         1680632275000
        ],
        [
         "dbfs:/FileStore/Bookimages/9781526382689.jpg",
         "9781526382689.jpg",
         807,
         1680633445000
        ],
        [
         "dbfs:/FileStore/Bookimages/9781526382702.jpg",
         "9781526382702.jpg",
         807,
         1680633456000
        ],
        [
         "dbfs:/FileStore/Bookimages/9781526382726.jpg",
         "9781526382726.jpg",
         807,
         1680633466000
        ],
        [
         "dbfs:/FileStore/Bookimages/9781526382733.jpg",
         "9781526382733.jpg",
         807,
         1680633477000
        ],
        [
         "dbfs:/FileStore/Bookimages/9781526382740.jpg",
         "9781526382740.jpg",
         807,
         1680633488000
        ],
        [
         "dbfs:/FileStore/Bookimages/9781526382757.jpg",
         "9781526382757.jpg",
         807,
         1680633498000
        ],
        [
         "dbfs:/FileStore/Bookimages/9781526382764.jpg",
         "9781526382764.jpg",
         807,
         1680633509000
        ],
        [
         "dbfs:/FileStore/Bookimages/9781526383044.jpg",
         "9781526383044.jpg",
         807,
         1680633519000
        ],
        [
         "dbfs:/FileStore/Bookimages/9781526629395.jpg",
         "9781526629395.jpg",
         807,
         1680627973000
        ],
        [
         "dbfs:/FileStore/Bookimages/9781526632852.jpg",
         "9781526632852.jpg",
         807,
         1680621725000
        ],
        [
         "dbfs:/FileStore/Bookimages/9781526637895.jpg",
         "9781526637895.jpg",
         23628,
         1680623644000
        ],
        [
         "dbfs:/FileStore/Bookimages/9781526652041.jpg",
         "9781526652041.jpg",
         807,
         1680621736000
        ],
        [
         "dbfs:/FileStore/Bookimages/9781529001730.jpg",
         "9781529001730.jpg",
         807,
         1680633319000
        ],
        [
         "dbfs:/FileStore/Bookimages/9781529001761.jpg",
         "9781529001761.jpg",
         807,
         1680633329000
        ],
        [
         "dbfs:/FileStore/Bookimages/9781529013061.jpg",
         "9781529013061.jpg",
         807,
         1680623654000
        ],
        [
         "dbfs:/FileStore/Bookimages/9781529013085.jpg",
         "9781529013085.jpg",
         807,
         1680623665000
        ],
        [
         "dbfs:/FileStore/Bookimages/9781529013108.jpg",
         "9781529013108.jpg",
         31247,
         1680623676000
        ],
        [
         "dbfs:/FileStore/Bookimages/9781529013122.jpg",
         "9781529013122.jpg",
         807,
         1680623686000
        ],
        [
         "dbfs:/FileStore/Bookimages/9781529033342.jpg",
         "9781529033342.jpg",
         807,
         1680623697000
        ],
        [
         "dbfs:/FileStore/Bookimages/9781529034523.jpg",
         "9781529034523.jpg",
         19988,
         1680627920000
        ],
        [
         "dbfs:/FileStore/Bookimages/9781529034530.jpg",
         "9781529034530.jpg",
         20808,
         1680627931000
        ],
        [
         "dbfs:/FileStore/Bookimages/9781529048360.jpg",
         "9781529048360.jpg",
         17912,
         1680623453000
        ],
        [
         "dbfs:/FileStore/Bookimages/9781529048384.jpg",
         "9781529048384.jpg",
         18520,
         1680623464000
        ],
        [
         "dbfs:/FileStore/Bookimages/9781529052299.jpg",
         "9781529052299.jpg",
         17654,
         1680623475000
        ],
        [
         "dbfs:/FileStore/Bookimages/9781529063851.jpg",
         "9781529063851.jpg",
         807,
         1680623485000
        ],
        [
         "dbfs:/FileStore/Bookimages/9781529063950.jpg",
         "9781529063950.jpg",
         807,
         1680623496000
        ],
        [
         "dbfs:/FileStore/Bookimages/9781529063974.jpg",
         "9781529063974.jpg",
         807,
         1680623506000
        ],
        [
         "dbfs:/FileStore/Bookimages/9781529069327.jpg",
         "9781529069327.jpg",
         807,
         1680623517000
        ],
        [
         "dbfs:/FileStore/Bookimages/9781529072655.jpg",
         "9781529072655.jpg",
         28029,
         1680623528000
        ],
        [
         "dbfs:/FileStore/Bookimages/9781529081541.jpg",
         "9781529081541.jpg",
         807,
         1680623538000
        ],
        [
         "dbfs:/FileStore/Bookimages/9781529084603.jpg",
         "9781529084603.jpg",
         807,
         1680623549000
        ],
        [
         "dbfs:/FileStore/Bookimages/9781529084610.jpg",
         "9781529084610.jpg",
         807,
         1680623559000
        ],
        [
         "dbfs:/FileStore/Bookimages/9781529084627.jpg",
         "9781529084627.jpg",
         807,
         1680623570000
        ],
        [
         "dbfs:/FileStore/Bookimages/9781529084634.jpg",
         "9781529084634.jpg",
         807,
         1680623580000
        ],
        [
         "dbfs:/FileStore/Bookimages/9781529084641.jpg",
         "9781529084641.jpg",
         807,
         1680623591000
        ],
        [
         "dbfs:/FileStore/Bookimages/9781529084658.jpg",
         "9781529084658.jpg",
         807,
         1680623601000
        ],
        [
         "dbfs:/FileStore/Bookimages/9781529084665.jpg",
         "9781529084665.jpg",
         807,
         1680623612000
        ],
        [
         "dbfs:/FileStore/Bookimages/9781529084672.jpg",
         "9781529084672.jpg",
         807,
         1680623623000
        ],
        [
         "dbfs:/FileStore/Bookimages/9781529084689.jpg",
         "9781529084689.jpg",
         807,
         1680623633000
        ],
        [
         "dbfs:/FileStore/Bookimages/9781529088601.jpg",
         "9781529088601.jpg",
         807,
         1680629633000
        ],
        [
         "dbfs:/FileStore/Bookimages/9781529088663.jpg",
         "9781529088663.jpg",
         807,
         1680627633000
        ],
        [
         "dbfs:/FileStore/Bookimages/9781529099157.jpg",
         "9781529099157.jpg",
         807,
         1680627644000
        ],
        [
         "dbfs:/FileStore/Bookimages/9781529119664.jpg",
         "9781529119664.jpg",
         807,
         1680621747000
        ],
        [
         "dbfs:/FileStore/Bookimages/9781529120066.jpg",
         "9781529120066.jpg",
         807,
         1680621757000
        ],
        [
         "dbfs:/FileStore/Bookimages/9781529120202.jpg",
         "9781529120202.jpg",
         807,
         1680627942000
        ],
        [
         "dbfs:/FileStore/Bookimages/9781529120219.jpg",
         "9781529120219.jpg",
         807,
         1680627952000
        ],
        [
         "dbfs:/FileStore/Bookimages/9781529120226.jpg",
         "9781529120226.jpg",
         807,
         1680627963000
        ],
        [
         "dbfs:/FileStore/Bookimages/9781529129984.jpg",
         "9781529129984.jpg",
         25102,
         1680621715000
        ],
        [
         "dbfs:/FileStore/Bookimages/9781529500561.jpg",
         "9781529500561.jpg",
         807,
         1680629284000
        ],
        [
         "dbfs:/FileStore/Bookimages/9781529502657.jpg",
         "9781529502657.jpg",
         807,
         1680629675000
        ],
        [
         "dbfs:/FileStore/Bookimages/9781529502886.jpg",
         "9781529502886.jpg",
         807,
         1680629686000
        ],
        [
         "dbfs:/FileStore/Bookimages/9781534443792.jpg",
         "9781534443792.jpg",
         21049,
         1680622664000
        ],
        [
         "dbfs:/FileStore/Bookimages/9781534455429.jpg",
         "9781534455429.jpg",
         19491,
         1680622674000
        ],
        [
         "dbfs:/FileStore/Bookimages/9781534457393.jpg",
         "9781534457393.jpg",
         807,
         1680623293000
        ],
        [
         "dbfs:/FileStore/Bookimages/9781534457423.jpg",
         "9781534457423.jpg",
         28105,
         1680623304000
        ],
        [
         "dbfs:/FileStore/Bookimages/9781534460256.jpg",
         "9781534460256.jpg",
         807,
         1680638558000
        ],
        [
         "dbfs:/FileStore/Bookimages/9781534460287.jpg",
         "9781534460287.jpg",
         19457,
         1680638569000
        ],
        [
         "dbfs:/FileStore/Bookimages/9781534465428.jpg",
         "9781534465428.jpg",
         21480,
         1680638580000
        ],
        [
         "dbfs:/FileStore/Bookimages/9781534466210.jpg",
         "9781534466210.jpg",
         807,
         1680624229000
        ],
        [
         "dbfs:/FileStore/Bookimages/9781534473720.jpg",
         "9781534473720.jpg",
         21556,
         1680638548000
        ],
        [
         "dbfs:/FileStore/Bookimages/9781534474154.jpg",
         "9781534474154.jpg",
         807,
         1680622717000
        ],
        [
         "dbfs:/FileStore/Bookimages/9781534477889.jpg",
         "9781534477889.jpg",
         11213,
         1680638634000
        ],
        [
         "dbfs:/FileStore/Bookimages/9781534478350.jpg",
         "9781534478350.jpg",
         19955,
         1680622727000
        ],
        [
         "dbfs:/FileStore/Bookimages/9781534479449.jpg",
         "9781534479449.jpg",
         16666,
         1680638612000
        ],
        [
         "dbfs:/FileStore/Bookimages/9781534480377.jpg",
         "9781534480377.jpg",
         23347,
         1680638623000
        ],
        [
         "dbfs:/FileStore/Bookimages/9781534480643.jpg",
         "9781534480643.jpg",
         807,
         1680622685000
        ],
        [
         "dbfs:/FileStore/Bookimages/9781534485464.jpg",
         "9781534485464.jpg",
         21268,
         1680638591000
        ],
        [
         "dbfs:/FileStore/Bookimages/9781534485778.jpg",
         "9781534485778.jpg",
         28153,
         1680622739000
        ],
        [
         "dbfs:/FileStore/Bookimages/9781534485808.jpg",
         "9781534485808.jpg",
         24907,
         1680622750000
        ],
        [
         "dbfs:/FileStore/Bookimages/9781534485839.jpg",
         "9781534485839.jpg",
         807,
         1680622760000
        ],
        [
         "dbfs:/FileStore/Bookimages/9781534487116.jpg",
         "9781534487116.jpg",
         807,
         1680622771000
        ],
        [
         "dbfs:/FileStore/Bookimages/9781534494688.jpg",
         "9781534494688.jpg",
         807,
         1680622781000
        ],
        [
         "dbfs:/FileStore/Bookimages/9781534495975.jpg",
         "9781534495975.jpg",
         807,
         1680638602000
        ],
        [
         "dbfs:/FileStore/Bookimages/9781534496668.jpg",
         "9781534496668.jpg",
         11388,
         1680622695000
        ],
        [
         "dbfs:/FileStore/Bookimages/9781534499256.jpg",
         "9781534499256.jpg",
         16356,
         1680622706000
        ],
        [
         "dbfs:/FileStore/Bookimages/9781545800058.jpg",
         "9781545800058.jpg",
         807,
         1680621226000
        ],
        [
         "dbfs:/FileStore/Bookimages/9781545801291.jpg",
         "9781545801291.jpg",
         807,
         1680621237000
        ],
        [
         "dbfs:/FileStore/Bookimages/9781545801369.jpg",
         "9781545801369.jpg",
         807,
         1680621247000
        ],
        [
         "dbfs:/FileStore/Bookimages/9781545801406.jpg",
         "9781545801406.jpg",
         807,
         1680621258000
        ],
        [
         "dbfs:/FileStore/Bookimages/9781545801543.jpg",
         "9781545801543.jpg",
         807,
         1680621269000
        ],
        [
         "dbfs:/FileStore/Bookimages/9781545801642.jpg",
         "9781545801642.jpg",
         20844,
         1680621279000
        ],
        [
         "dbfs:/FileStore/Bookimages/9781545801659.jpg",
         "9781545801659.jpg",
         32068,
         1680621090000
        ],
        [
         "dbfs:/FileStore/Bookimages/9781545802045.jpg",
         "9781545802045.jpg",
         26406,
         1680621102000
        ],
        [
         "dbfs:/FileStore/Bookimages/9781545802106.jpg",
         "9781545802106.jpg",
         32209,
         1680621114000
        ],
        [
         "dbfs:/FileStore/Bookimages/9781545802168.jpg",
         "9781545802168.jpg",
         19193,
         1680621126000
        ],
        [
         "dbfs:/FileStore/Bookimages/9781545802175.jpg",
         "9781545802175.jpg",
         19193,
         1680621138000
        ],
        [
         "dbfs:/FileStore/Bookimages/9781545802182.jpg",
         "9781545802182.jpg",
         23802,
         1680621151000
        ],
        [
         "dbfs:/FileStore/Bookimages/9781545802199.jpg",
         "9781545802199.jpg",
         23802,
         1680621163000
        ],
        [
         "dbfs:/FileStore/Bookimages/9781545803240.jpg",
         "9781545803240.jpg",
         807,
         1680621173000
        ],
        [
         "dbfs:/FileStore/Bookimages/9781545803257.jpg",
         "9781545803257.jpg",
         807,
         1680621184000
        ],
        [
         "dbfs:/FileStore/Bookimages/9781545803394.jpg",
         "9781545803394.jpg",
         25920,
         1680621194000
        ],
        [
         "dbfs:/FileStore/Bookimages/9781545803431.jpg",
         "9781545803431.jpg",
         30019,
         1680621205000
        ],
        [
         "dbfs:/FileStore/Bookimages/9781545803578.jpg",
         "9781545803578.jpg",
         17544,
         1680621216000
        ],
        [
         "dbfs:/FileStore/Bookimages/9781596433793.jpg",
         "9781596433793.jpg",
         12415,
         1680636226000
        ],
        [
         "dbfs:/FileStore/Bookimages/9781596730618.jpg",
         "9781596730618.jpg",
         4404,
         1680629158000
        ],
        [
         "dbfs:/FileStore/Bookimages/9781596730625.jpg",
         "9781596730625.jpg",
         4740,
         1680629168000
        ],
        [
         "dbfs:/FileStore/Bookimages/9781629370422.jpg",
         "9781629370422.jpg",
         25699,
         1680635516000
        ],
        [
         "dbfs:/FileStore/Bookimages/9781629912882.jpg",
         "9781629912882.jpg",
         23836,
         1680620939000
        ],
        [
         "dbfs:/FileStore/Bookimages/9781629914343.jpg",
         "9781629914343.jpg",
         23059,
         1680620952000
        ],
        [
         "dbfs:/FileStore/Bookimages/9781629914787.jpg",
         "9781629914787.jpg",
         26818,
         1680620963000
        ],
        [
         "dbfs:/FileStore/Bookimages/9781629916095.jpg",
         "9781629916095.jpg",
         29559,
         1680620974000
        ],
        [
         "dbfs:/FileStore/Bookimages/9781629916118.jpg",
         "9781629916118.jpg",
         21310,
         1680620984000
        ],
        [
         "dbfs:/FileStore/Bookimages/9781629916170.jpg",
         "9781629916170.jpg",
         807,
         1680620995000
        ],
        [
         "dbfs:/FileStore/Bookimages/9781629916248.jpg",
         "9781629916248.jpg",
         807,
         1680621005000
        ],
        [
         "dbfs:/FileStore/Bookimages/9781629917375.jpg",
         "9781629917375.jpg",
         807,
         1680621016000
        ],
        [
         "dbfs:/FileStore/Bookimages/9781629917405.jpg",
         "9781629917405.jpg",
         807,
         1680621026000
        ],
        [
         "dbfs:/FileStore/Bookimages/9781629917450.jpg",
         "9781629917450.jpg",
         807,
         1680621037000
        ],
        [
         "dbfs:/FileStore/Bookimages/9781629917979.jpg",
         "9781629917979.jpg",
         807,
         1680621047000
        ],
        [
         "dbfs:/FileStore/Bookimages/9781629918242.jpg",
         "9781629918242.jpg",
         26264,
         1680621058000
        ],
        [
         "dbfs:/FileStore/Bookimages/9781629918501.jpg",
         "9781629918501.jpg",
         24357,
         1680621069000
        ],
        [
         "dbfs:/FileStore/Bookimages/9781629918631.jpg",
         "9781629918631.jpg",
         807,
         1680621079000
        ],
        [
         "dbfs:/FileStore/Bookimages/9781645141501.jpg",
         "9781645141501.jpg",
         807,
         1680620372000
        ],
        [
         "dbfs:/FileStore/Bookimages/9781645141518.jpg",
         "9781645141518.jpg",
         807,
         1680620382000
        ],
        [
         "dbfs:/FileStore/Bookimages/9781645141525.jpg",
         "9781645141525.jpg",
         807,
         1680620393000
        ],
        [
         "dbfs:/FileStore/Bookimages/9781645141532.jpg",
         "9781645141532.jpg",
         807,
         1680620403000
        ],
        [
         "dbfs:/FileStore/Bookimages/9781645141549.jpg",
         "9781645141549.jpg",
         807,
         1680620414000
        ],
        [
         "dbfs:/FileStore/Bookimages/9781645141556.jpg",
         "9781645141556.jpg",
         807,
         1680620424000
        ],
        [
         "dbfs:/FileStore/Bookimages/9781646380695.jpg",
         "9781646380695.jpg",
         807,
         1680634036000
        ],
        [
         "dbfs:/FileStore/Bookimages/9781646381760.jpg",
         "9781646381760.jpg",
         807,
         1680634047000
        ],
        [
         "dbfs:/FileStore/Bookimages/9781646381845.jpg",
         "9781646381845.jpg",
         20859,
         1680634057000
        ],
        [
         "dbfs:/FileStore/Bookimages/9781646381869.jpg",
         "9781646381869.jpg",
         807,
         1680634068000
        ],
        [
         "dbfs:/FileStore/Bookimages/9781646381876.jpg",
         "9781646381876.jpg",
         19643,
         1680634079000
        ],
        [
         "dbfs:/FileStore/Bookimages/9781646381906.jpg",
         "9781646381906.jpg",
         807,
         1680634089000
        ],
        [
         "dbfs:/FileStore/Bookimages/9781646381968.jpg",
         "9781646381968.jpg",
         807,
         1680634100000
        ],
        [
         "dbfs:/FileStore/Bookimages/9781646382958.jpg",
         "9781646382958.jpg",
         807,
         1680634110000
        ],
        [
         "dbfs:/FileStore/Bookimages/9781646383320.jpg",
         "9781646383320.jpg",
         807,
         1680634121000
        ],
        [
         "dbfs:/FileStore/Bookimages/9781646384587.jpg",
         "9781646384587.jpg",
         807,
         1680634131000
        ],
        [
         "dbfs:/FileStore/Bookimages/9781665900423.jpg",
         "9781665900423.jpg",
         807,
         1680622362000
        ],
        [
         "dbfs:/FileStore/Bookimages/9781665900485.jpg",
         "9781665900485.jpg",
         807,
         1680622372000
        ],
        [
         "dbfs:/FileStore/Bookimages/9781665900782.jpg",
         "9781665900782.jpg",
         807,
         1680638473000
        ],
        [
         "dbfs:/FileStore/Bookimages/9781665900812.jpg",
         "9781665900812.jpg",
         807,
         1680638537000
        ],
        [
         "dbfs:/FileStore/Bookimages/9781665911283.jpg",
         "9781665911283.jpg",
         28341,
         1680622792000
        ],
        [
         "dbfs:/FileStore/Bookimages/9781665922074.jpg",
         "9781665922074.jpg",
         807,
         1680638516000
        ],
        [
         "dbfs:/FileStore/Bookimages/9781665931243.jpg",
         "9781665931243.jpg",
         807,
         1680638526000
        ],
        [
         "dbfs:/FileStore/Bookimages/9781680528121.jpg",
         "9781680528121.jpg",
         18306,
         1680634142000
        ],
        [
         "dbfs:/FileStore/Bookimages/9781680529333.jpg",
         "9781680529333.jpg",
         807,
         1680634153000
        ],
        [
         "dbfs:/FileStore/Bookimages/9781680529388.jpg",
         "9781680529388.jpg",
         807,
         1680634163000
        ],
        [
         "dbfs:/FileStore/Bookimages/9781680529487.jpg",
         "9781680529487.jpg",
         807,
         1680634174000
        ],
        [
         "dbfs:/FileStore/Bookimages/9781680529791.jpg",
         "9781680529791.jpg",
         807,
         1680634184000
        ],
        [
         "dbfs:/FileStore/Bookimages/9781684490981.jpg",
         "9781684490981.jpg",
         15173,
         1680621290000
        ],
        [
         "dbfs:/FileStore/Bookimages/9781742819860.jpg",
         "9781742819860.jpg",
         807,
         1680620113000
        ],
        [
         "dbfs:/FileStore/Bookimages/9781742819907.jpg",
         "9781742819907.jpg",
         807,
         1680620124000
        ],
        [
         "dbfs:/FileStore/Bookimages/9781743520680.jpg",
         "9781743520680.jpg",
         807,
         1680620134000
        ],
        [
         "dbfs:/FileStore/Bookimages/9781743520703.jpg",
         "9781743520703.jpg",
         807,
         1680620145000
        ],
        [
         "dbfs:/FileStore/Bookimages/9781743520710.jpg",
         "9781743520710.jpg",
         34994,
         1680620155000
        ],
        [
         "dbfs:/FileStore/Bookimages/9781743527764.jpg",
         "9781743527764.jpg",
         807,
         1680634237000
        ],
        [
         "dbfs:/FileStore/Bookimages/9781743528051.jpg",
         "9781743528051.jpg",
         807,
         1680620166000
        ],
        [
         "dbfs:/FileStore/Bookimages/9781743630969.jpg",
         "9781743630969.jpg",
         807,
         1680634216000
        ],
        [
         "dbfs:/FileStore/Bookimages/9781743632918.jpg",
         "9781743632918.jpg",
         30130,
         1680620092000
        ],
        [
         "dbfs:/FileStore/Bookimages/9781743638330.jpg",
         "9781743638330.jpg",
         807,
         1680634195000
        ],
        [
         "dbfs:/FileStore/Bookimages/9781743638354.jpg",
         "9781743638354.jpg",
         807,
         1680634205000
        ],
        [
         "dbfs:/FileStore/Bookimages/9781743638446.jpg",
         "9781743638446.jpg",
         29844,
         1680620081000
        ],
        [
         "dbfs:/FileStore/Bookimages/9781760456085.jpg",
         "9781760456085.jpg",
         807,
         1680626170000
        ],
        [
         "dbfs:/FileStore/Bookimages/9781760456092.jpg",
         "9781760456092.jpg",
         807,
         1680626180000
        ],
        [
         "dbfs:/FileStore/Bookimages/9781760456115.jpg",
         "9781760456115.jpg",
         807,
         1680626191000
        ],
        [
         "dbfs:/FileStore/Bookimages/9781760459468.jpg",
         "9781760459468.jpg",
         807,
         1680626201000
        ],
        [
         "dbfs:/FileStore/Bookimages/9781760459475.jpg",
         "9781760459475.jpg",
         807,
         1680626212000
        ],
        [
         "dbfs:/FileStore/Bookimages/9781772753325.jpg",
         "9781772753325.jpg",
         807,
         1680635547000
        ],
        [
         "dbfs:/FileStore/Bookimages/9781772754476.jpg",
         "9781772754476.jpg",
         807,
         1680635558000
        ],
        [
         "dbfs:/FileStore/Bookimages/9781772754872.jpg",
         "9781772754872.jpg",
         807,
         1680635569000
        ],
        [
         "dbfs:/FileStore/Bookimages/9781772754902.jpg",
         "9781772754902.jpg",
         807,
         1680635579000
        ],
        [
         "dbfs:/FileStore/Bookimages/9781772754971.jpg",
         "9781772754971.jpg",
         807,
         1680635590000
        ],
        [
         "dbfs:/FileStore/Bookimages/9781772755350.jpg",
         "9781772755350.jpg",
         807,
         1680635600000
        ],
        [
         "dbfs:/FileStore/Bookimages/9781772757507.jpg",
         "9781772757507.jpg",
         807,
         1680635611000
        ],
        [
         "dbfs:/FileStore/Bookimages/9781772759082.jpg",
         "9781772759082.jpg",
         807,
         1680635622000
        ],
        [
         "dbfs:/FileStore/Bookimages/9781772759099.jpg",
         "9781772759099.jpg",
         807,
         1680635632000
        ],
        [
         "dbfs:/FileStore/Bookimages/9781772759105.jpg",
         "9781772759105.jpg",
         807,
         1680635643000
        ],
        [
         "dbfs:/FileStore/Bookimages/9781772759129.jpg",
         "9781772759129.jpg",
         807,
         1680635653000
        ],
        [
         "dbfs:/FileStore/Bookimages/9781779505897.jpg",
         "9781779505897.jpg",
         31915,
         1680635664000
        ],
        [
         "dbfs:/FileStore/Bookimages/9781780558592.jpg",
         "9781780558592.jpg",
         807,
         1680632243000
        ],
        [
         "dbfs:/FileStore/Bookimages/9781780558608.jpg",
         "9781780558608.jpg",
         807,
         1680632254000
        ],
        [
         "dbfs:/FileStore/Bookimages/9781780558615.jpg",
         "9781780558615.jpg",
         807,
         1680632264000
        ],
        [
         "dbfs:/FileStore/Bookimages/9781780558622.jpg",
         "9781780558622.jpg",
         807,
         1680631946000
        ],
        [
         "dbfs:/FileStore/Bookimages/9781780558646.jpg",
         "9781780558646.jpg",
         807,
         1680631957000
        ],
        [
         "dbfs:/FileStore/Bookimages/9781780558653.jpg",
         "9781780558653.jpg",
         807,
         1680631967000
        ],
        [
         "dbfs:/FileStore/Bookimages/9781780558660.jpg",
         "9781780558660.jpg",
         807,
         1680631978000
        ],
        [
         "dbfs:/FileStore/Bookimages/9781780558677.jpg",
         "9781780558677.jpg",
         807,
         1680631989000
        ],
        [
         "dbfs:/FileStore/Bookimages/9781780558684.jpg",
         "9781780558684.jpg",
         807,
         1680631999000
        ],
        [
         "dbfs:/FileStore/Bookimages/9781781576342.jpg",
         "9781781576342.jpg",
         807,
         1680632010000
        ],
        [
         "dbfs:/FileStore/Bookimages/9781782099765.jpg",
         "9781782099765.jpg",
         21022,
         1680632021000
        ],
        [
         "dbfs:/FileStore/Bookimages/9781782356158.jpg",
         "9781782356158.jpg",
         23803,
         1680625852000
        ],
        [
         "dbfs:/FileStore/Bookimages/9781782356165.jpg",
         "9781782356165.jpg",
         21680,
         1680625863000
        ],
        [
         "dbfs:/FileStore/Bookimages/9781782356172.jpg",
         "9781782356172.jpg",
         24048,
         1680625874000
        ],
        [
         "dbfs:/FileStore/Bookimages/9781782356189.jpg",
         "9781782356189.jpg",
         807,
         1680625884000
        ],
        [
         "dbfs:/FileStore/Bookimages/9781782356196.jpg",
         "9781782356196.jpg",
         23241,
         1680625895000
        ],
        [
         "dbfs:/FileStore/Bookimages/9781782356219.jpg",
         "9781782356219.jpg",
         21460,
         1680625906000
        ],
        [
         "dbfs:/FileStore/Bookimages/9781782356226.jpg",
         "9781782356226.jpg",
         807,
         1680625916000
        ],
        [
         "dbfs:/FileStore/Bookimages/9781782356233.jpg",
         "9781782356233.jpg",
         22646,
         1680625927000
        ],
        [
         "dbfs:/FileStore/Bookimages/9781782356240.jpg",
         "9781782356240.jpg",
         22558,
         1680625938000
        ],
        [
         "dbfs:/FileStore/Bookimages/9781782745839.jpg",
         "9781782745839.jpg",
         807,
         1680631925000
        ],
        [
         "dbfs:/FileStore/Bookimages/9781782761556.jpg",
         "9781782761556.jpg",
         18560,
         1680631936000
        ],
        [
         "dbfs:/FileStore/Bookimages/9781782959717.jpg",
         "9781782959717.jpg",
         807,
         1680621768000
        ],
        [
         "dbfs:/FileStore/Bookimages/9781782959991.jpg",
         "9781782959991.jpg",
         807,
         1680621778000
        ],
        [
         "dbfs:/FileStore/Bookimages/9781783445936.jpg",
         "9781783445936.jpg",
         807,
         1680636257000
        ],
        [
         "dbfs:/FileStore/Bookimages/9781783448906.jpg",
         "9781783448906.jpg",
         807,
         1680636268000
        ],
        [
         "dbfs:/FileStore/Bookimages/9781783931835.jpg",
         "9781783931835.jpg",
         18946,
         1680620071000
        ],
        [
         "dbfs:/FileStore/Bookimages/9781783932245.jpg",
         "9781783932245.jpg",
         807,
         1680634449000
        ],
        [
         "dbfs:/FileStore/Bookimages/9781784402464.jpg",
         "9781784402464.jpg",
         807,
         1680625103000
        ],
        [
         "dbfs:/FileStore/Bookimages/9781784681470.jpg",
         "9781784681470.jpg",
         807,
         1680633361000
        ],
        [
         "dbfs:/FileStore/Bookimages/9781784755539.jpg",
         "9781784755539.jpg",
         24920,
         1680633371000
        ],
        [
         "dbfs:/FileStore/Bookimages/9781784755553.jpg",
         "9781784755553.jpg",
         25463,
         1680633382000
        ],
        [
         "dbfs:/FileStore/Bookimages/9781784759919.jpg",
         "9781784759919.jpg",
         807,
         1680633393000
        ],
        [
         "dbfs:/FileStore/Bookimages/9781784759926.jpg",
         "9781784759926.jpg",
         807,
         1680633403000
        ],
        [
         "dbfs:/FileStore/Bookimages/9781784759933.jpg",
         "9781784759933.jpg",
         807,
         1680633414000
        ],
        [
         "dbfs:/FileStore/Bookimages/9781784759957.jpg",
         "9781784759957.jpg",
         807,
         1680633424000
        ],
        [
         "dbfs:/FileStore/Bookimages/9781784936082.jpg",
         "9781784936082.jpg",
         807,
         1680633435000
        ],
        [
         "dbfs:/FileStore/Bookimages/9781785984280.jpg",
         "9781785984280.jpg",
         807,
         1680626117000
        ],
        [
         "dbfs:/FileStore/Bookimages/9781785989087.jpg",
         "9781785989087.jpg",
         807,
         1680626128000
        ],
        [
         "dbfs:/FileStore/Bookimages/9781786064059.jpg",
         "9781786064059.jpg",
         807,
         1680633340000
        ],
        [
         "dbfs:/FileStore/Bookimages/9781786064622.jpg",
         "9781786064622.jpg",
         807,
         1680633350000
        ],
        [
         "dbfs:/FileStore/Bookimages/9781786177445.jpg",
         "9781786177445.jpg",
         807,
         1680632591000
        ],
        [
         "dbfs:/FileStore/Bookimages/9781786177452.jpg",
         "9781786177452.jpg",
         807,
         1680632601000
        ],
        [
         "dbfs:/FileStore/Bookimages/9781786179241.jpg",
         "9781786179241.jpg",
         807,
         1680632612000
        ],
        [
         "dbfs:/FileStore/Bookimages/9781786270382.jpg",
         "9781786270382.jpg",
         807,
         1680632622000
        ],
        [
         "dbfs:/FileStore/Bookimages/9781786271914.jpg",
         "9781786271914.jpg",
         807,
         1680632633000
        ],
        [
         "dbfs:/FileStore/Bookimages/9781786707024.jpg",
         "9781786707024.jpg",
         807,
         1680632643000
        ],
        [
         "dbfs:/FileStore/Bookimages/9781786909350.jpg",
         "9781786909350.jpg",
         807,
         1680624303000
        ],
        [
         "dbfs:/FileStore/Bookimages/9781786909367.jpg",
         "9781786909367.jpg",
         807,
         1680624314000
        ],
        [
         "dbfs:/FileStore/Bookimages/9781786909374.jpg",
         "9781786909374.jpg",
         807,
         1680624324000
        ],
        [
         "dbfs:/FileStore/Bookimages/9781786909381.jpg",
         "9781786909381.jpg",
         807,
         1680624335000
        ],
        [
         "dbfs:/FileStore/Bookimages/9781786909404.jpg",
         "9781786909404.jpg",
         807,
         1680624345000
        ],
        [
         "dbfs:/FileStore/Bookimages/9781786922670.jpg",
         "9781786922670.jpg",
         807,
         1680626149000
        ],
        [
         "dbfs:/FileStore/Bookimages/9781786922779.jpg",
         "9781786922779.jpg",
         807,
         1680626159000
        ],
        [
         "dbfs:/FileStore/Bookimages/9781786924575.jpg",
         "9781786924575.jpg",
         807,
         1680637303000
        ],
        [
         "dbfs:/FileStore/Bookimages/9781787412781.jpg",
         "9781787412781.jpg",
         27434,
         1680632222000
        ],
        [
         "dbfs:/FileStore/Bookimages/9781787412798.jpg",
         "9781787412798.jpg",
         807,
         1680632233000
        ],
        [
         "dbfs:/FileStore/Bookimages/9781787415669.jpg",
         "9781787415669.jpg",
         807,
         1680632031000
        ],
        [
         "dbfs:/FileStore/Bookimages/9781788101417.jpg",
         "9781788101417.jpg",
         807,
         1680636331000
        ],
        [
         "dbfs:/FileStore/Bookimages/9781788101424.jpg",
         "9781788101424.jpg",
         807,
         1680636342000
        ],
        [
         "dbfs:/FileStore/Bookimages/9781788101455.jpg",
         "9781788101455.jpg",
         29554,
         1680636353000
        ],
        [
         "dbfs:/FileStore/Bookimages/9781788101479.jpg",
         "9781788101479.jpg",
         807,
         1680636363000
        ],
        [
         "dbfs:/FileStore/Bookimages/9781788101547.jpg",
         "9781788101547.jpg",
         807,
         1680636374000
        ],
        [
         "dbfs:/FileStore/Bookimages/9781788101639.jpg",
         "9781788101639.jpg",
         807,
         1680636385000
        ],
        [
         "dbfs:/FileStore/Bookimages/9781788104111.jpg",
         "9781788104111.jpg",
         30467,
         1680636396000
        ],
        [
         "dbfs:/FileStore/Bookimages/9781788104128.jpg",
         "9781788104128.jpg",
         807,
         1680636406000
        ],
        [
         "dbfs:/FileStore/Bookimages/9781788104708.jpg",
         "9781788104708.jpg",
         807,
         1680636417000
        ],
        [
         "dbfs:/FileStore/Bookimages/9781788104715.jpg",
         "9781788104715.jpg",
         807,
         1680636427000
        ],
        [
         "dbfs:/FileStore/Bookimages/9781788104722.jpg",
         "9781788104722.jpg",
         807,
         1680636438000
        ],
        [
         "dbfs:/FileStore/Bookimages/9781788108645.jpg",
         "9781788108645.jpg",
         18925,
         1680624640000
        ],
        [
         "dbfs:/FileStore/Bookimages/9781788241182.jpg",
         "9781788241182.jpg",
         807,
         1680632042000
        ],
        [
         "dbfs:/FileStore/Bookimages/9781788242301.jpg",
         "9781788242301.jpg",
         807,
         1680632052000
        ],
        [
         "dbfs:/FileStore/Bookimages/9781788242363.jpg",
         "9781788242363.jpg",
         807,
         1680632063000
        ],
        [
         "dbfs:/FileStore/Bookimages/9781788242967.jpg",
         "9781788242967.jpg",
         807,
         1680632074000
        ],
        [
         "dbfs:/FileStore/Bookimages/9781788242974.jpg",
         "9781788242974.jpg",
         807,
         1680632084000
        ],
        [
         "dbfs:/FileStore/Bookimages/9781788242981.jpg",
         "9781788242981.jpg",
         807,
         1680632095000
        ],
        [
         "dbfs:/FileStore/Bookimages/9781788243247.jpg",
         "9781788243247.jpg",
         807,
         1680632106000
        ],
        [
         "dbfs:/FileStore/Bookimages/9781788243599.jpg",
         "9781788243599.jpg",
         807,
         1680632116000
        ],
        [
         "dbfs:/FileStore/Bookimages/9781788244282.jpg",
         "9781788244282.jpg",
         807,
         1680632127000
        ],
        [
         "dbfs:/FileStore/Bookimages/9781788244299.jpg",
         "9781788244299.jpg",
         807,
         1680632137000
        ],
        [
         "dbfs:/FileStore/Bookimages/9781788244305.jpg",
         "9781788244305.jpg",
         807,
         1680632148000
        ],
        [
         "dbfs:/FileStore/Bookimages/9781788244343.jpg",
         "9781788244343.jpg",
         807,
         1680632158000
        ],
        [
         "dbfs:/FileStore/Bookimages/9781788432719.jpg",
         "9781788432719.jpg",
         807,
         1680625948000
        ],
        [
         "dbfs:/FileStore/Bookimages/9781788432849.jpg",
         "9781788432849.jpg",
         807,
         1680625959000
        ],
        [
         "dbfs:/FileStore/Bookimages/9781788436816.jpg",
         "9781788436816.jpg",
         807,
         1680625969000
        ],
        [
         "dbfs:/FileStore/Bookimages/9781788436830.jpg",
         "9781788436830.jpg",
         807,
         1680625980000
        ],
        [
         "dbfs:/FileStore/Bookimages/9781788436847.jpg",
         "9781788436847.jpg",
         807,
         1680625990000
        ],
        [
         "dbfs:/FileStore/Bookimages/9781788436854.jpg",
         "9781788436854.jpg",
         807,
         1680626001000
        ],
        [
         "dbfs:/FileStore/Bookimages/9781788436861.jpg",
         "9781788436861.jpg",
         807,
         1680626012000
        ],
        [
         "dbfs:/FileStore/Bookimages/9781788436892.jpg",
         "9781788436892.jpg",
         807,
         1680626022000
        ],
        [
         "dbfs:/FileStore/Bookimages/9781788436908.jpg",
         "9781788436908.jpg",
         807,
         1680626033000
        ],
        [
         "dbfs:/FileStore/Bookimages/9781788436915.jpg",
         "9781788436915.jpg",
         807,
         1680626043000
        ],
        [
         "dbfs:/FileStore/Bookimages/9781788436939.jpg",
         "9781788436939.jpg",
         807,
         1680626054000
        ],
        [
         "dbfs:/FileStore/Bookimages/9781788437011.jpg",
         "9781788437011.jpg",
         807,
         1680626064000
        ],
        [
         "dbfs:/FileStore/Bookimages/9781788437028.jpg",
         "9781788437028.jpg",
         807,
         1680626075000
        ],
        [
         "dbfs:/FileStore/Bookimages/9781788437042.jpg",
         "9781788437042.jpg",
         807,
         1680625831000
        ],
        [
         "dbfs:/FileStore/Bookimages/9781788437097.jpg",
         "9781788437097.jpg",
         807,
         1680625841000
        ],
        [
         "dbfs:/FileStore/Bookimages/9781788439572.jpg",
         "9781788439572.jpg",
         807,
         1680634247000
        ],
        [
         "dbfs:/FileStore/Bookimages/9781788439848.jpg",
         "9781788439848.jpg",
         807,
         1680625167000
        ],
        [
         "dbfs:/FileStore/Bookimages/9781788439886.jpg",
         "9781788439886.jpg",
         807,
         1680625177000
        ],
        [
         "dbfs:/FileStore/Bookimages/9781788439909.jpg",
         "9781788439909.jpg",
         807,
         1680625188000
        ],
        [
         "dbfs:/FileStore/Bookimages/9781788439992.jpg",
         "9781788439992.jpg",
         807,
         1680625198000
        ],
        [
         "dbfs:/FileStore/Bookimages/9781789051070.jpg",
         "9781789051070.jpg",
         807,
         1680631831000
        ],
        [
         "dbfs:/FileStore/Bookimages/9781789051209.jpg",
         "9781789051209.jpg",
         807,
         1680636575000
        ],
        [
         "dbfs:/FileStore/Bookimages/9781789055153.jpg",
         "9781789055153.jpg",
         807,
         1680624682000
        ],
        [
         "dbfs:/FileStore/Bookimages/9781789055160.jpg",
         "9781789055160.jpg",
         807,
         1680624693000
        ],
        [
         "dbfs:/FileStore/Bookimages/9781789056211.jpg",
         "9781789056211.jpg",
         807,
         1680636585000
        ],
        [
         "dbfs:/FileStore/Bookimages/9781789056280.jpg",
         "9781789056280.jpg",
         807,
         1680624704000
        ],
        [
         "dbfs:/FileStore/Bookimages/9781789056419.jpg",
         "9781789056419.jpg",
         807,
         1680626222000
        ],
        [
         "dbfs:/FileStore/Bookimages/9781789058376.jpg",
         "9781789058376.jpg",
         807,
         1680631820000
        ],
        [
         "dbfs:/FileStore/Bookimages/9781789059533.jpg",
         "9781789059533.jpg",
         807,
         1680624714000
        ],
        [
         "dbfs:/FileStore/Bookimages/9781789059632.jpg",
         "9781789059632.jpg",
         807,
         1680631810000
        ],
        [
         "dbfs:/FileStore/Bookimages/9781789470956.jpg",
         "9781789470956.jpg",
         807,
         1680636448000
        ],
        [
         "dbfs:/FileStore/Bookimages/9781789470963.jpg",
         "9781789470963.jpg",
         807,
         1680625209000
        ],
        [
         "dbfs:/FileStore/Bookimages/9781789471915.jpg",
         "9781789471915.jpg",
         807,
         1680625219000
        ],
        [
         "dbfs:/FileStore/Bookimages/9781789471922.jpg",
         "9781789471922.jpg",
         807,
         1680625230000
        ],
        [
         "dbfs:/FileStore/Bookimages/9781789471953.jpg",
         "9781789471953.jpg",
         807,
         1680625240000
        ],
        [
         "dbfs:/FileStore/Bookimages/9781789471984.jpg",
         "9781789471984.jpg",
         807,
         1680625251000
        ],
        [
         "dbfs:/FileStore/Bookimages/9781789471991.jpg",
         "9781789471991.jpg",
         807,
         1680625261000
        ],
        [
         "dbfs:/FileStore/Bookimages/9781789472554.jpg",
         "9781789472554.jpg",
         807,
         1680625272000
        ],
        [
         "dbfs:/FileStore/Bookimages/9781789472660.jpg",
         "9781789472660.jpg",
         807,
         1680625282000
        ],
        [
         "dbfs:/FileStore/Bookimages/9781789472714.jpg",
         "9781789472714.jpg",
         807,
         1680625293000
        ],
        [
         "dbfs:/FileStore/Bookimages/9781789472721.jpg",
         "9781789472721.jpg",
         807,
         1680625303000
        ],
        [
         "dbfs:/FileStore/Bookimages/9781789472745.jpg",
         "9781789472745.jpg",
         807,
         1680634333000
        ],
        [
         "dbfs:/FileStore/Bookimages/9781789472769.jpg",
         "9781789472769.jpg",
         807,
         1680625114000
        ],
        [
         "dbfs:/FileStore/Bookimages/9781789474022.jpg",
         "9781789474022.jpg",
         807,
         1680625124000
        ],
        [
         "dbfs:/FileStore/Bookimages/9781789474060.jpg",
         "9781789474060.jpg",
         807,
         1680634344000
        ],
        [
         "dbfs:/FileStore/Bookimages/9781789474077.jpg",
         "9781789474077.jpg",
         807,
         1680625135000
        ],
        [
         "dbfs:/FileStore/Bookimages/9781789474640.jpg",
         "9781789474640.jpg",
         807,
         1680634354000
        ],
        [
         "dbfs:/FileStore/Bookimages/9781789474657.jpg",
         "9781789474657.jpg",
         807,
         1680634365000
        ],
        [
         "dbfs:/FileStore/Bookimages/9781789474664.jpg",
         "9781789474664.jpg",
         807,
         1680634375000
        ],
        [
         "dbfs:/FileStore/Bookimages/9781789474671.jpg",
         "9781789474671.jpg",
         807,
         1680634386000
        ],
        [
         "dbfs:/FileStore/Bookimages/9781789474848.jpg",
         "9781789474848.jpg",
         807,
         1680634396000
        ],
        [
         "dbfs:/FileStore/Bookimages/9781789474862.jpg",
         "9781789474862.jpg",
         807,
         1680634407000
        ],
        [
         "dbfs:/FileStore/Bookimages/9781789475685.jpg",
         "9781789475685.jpg",
         807,
         1680625314000
        ],
        [
         "dbfs:/FileStore/Bookimages/9781789475692.jpg",
         "9781789475692.jpg",
         807,
         1680625324000
        ],
        [
         "dbfs:/FileStore/Bookimages/9781789475722.jpg",
         "9781789475722.jpg",
         807,
         1680625335000
        ],
        [
         "dbfs:/FileStore/Bookimages/9781789475739.jpg",
         "9781789475739.jpg",
         807,
         1680625345000
        ],
        [
         "dbfs:/FileStore/Bookimages/9781789476040.jpg",
         "9781789476040.jpg",
         807,
         1680625356000
        ],
        [
         "dbfs:/FileStore/Bookimages/9781789476057.jpg",
         "9781789476057.jpg",
         807,
         1680625366000
        ],
        [
         "dbfs:/FileStore/Bookimages/9781789476064.jpg",
         "9781789476064.jpg",
         807,
         1680625377000
        ],
        [
         "dbfs:/FileStore/Bookimages/9781789476071.jpg",
         "9781789476071.jpg",
         807,
         1680625388000
        ],
        [
         "dbfs:/FileStore/Bookimages/9781789476101.jpg",
         "9781789476101.jpg",
         807,
         1680625398000
        ],
        [
         "dbfs:/FileStore/Bookimages/9781789477283.jpg",
         "9781789477283.jpg",
         807,
         1680625409000
        ],
        [
         "dbfs:/FileStore/Bookimages/9781789477344.jpg",
         "9781789477344.jpg",
         807,
         1680625419000
        ],
        [
         "dbfs:/FileStore/Bookimages/9781789477443.jpg",
         "9781789477443.jpg",
         807,
         1680625430000
        ],
        [
         "dbfs:/FileStore/Bookimages/9781789477467.jpg",
         "9781789477467.jpg",
         807,
         1680625440000
        ],
        [
         "dbfs:/FileStore/Bookimages/9781789477474.jpg",
         "9781789477474.jpg",
         807,
         1680625451000
        ],
        [
         "dbfs:/FileStore/Bookimages/9781789477511.jpg",
         "9781789477511.jpg",
         807,
         1680625462000
        ],
        [
         "dbfs:/FileStore/Bookimages/9781789477535.jpg",
         "9781789477535.jpg",
         807,
         1680625472000
        ],
        [
         "dbfs:/FileStore/Bookimages/9781789477566.jpg",
         "9781789477566.jpg",
         807,
         1680636596000
        ],
        [
         "dbfs:/FileStore/Bookimages/9781789477962.jpg",
         "9781789477962.jpg",
         807,
         1680625483000
        ],
        [
         "dbfs:/FileStore/Bookimages/9781789478372.jpg",
         "9781789478372.jpg",
         807,
         1680634323000
        ],
        [
         "dbfs:/FileStore/Bookimages/9781789478532.jpg",
         "9781789478532.jpg",
         807,
         1680625146000
        ],
        [
         "dbfs:/FileStore/Bookimages/9781789478556.jpg",
         "9781789478556.jpg",
         807,
         1680625156000
        ],
        [
         "dbfs:/FileStore/Bookimages/9781797211206.jpg",
         "9781797211206.jpg",
         807,
         1680629580000
        ],
        [
         "dbfs:/FileStore/Bookimages/9781797214207.jpg",
         "9781797214207.jpg",
         807,
         1680629590000
        ],
        [
         "dbfs:/FileStore/Bookimages/9781797215198.jpg",
         "9781797215198.jpg",
         807,
         1680629601000
        ],
        [
         "dbfs:/FileStore/Bookimages/9781800220201.jpg",
         "9781800220201.jpg",
         807,
         1680636459000
        ],
        [
         "dbfs:/FileStore/Bookimages/9781800220225.jpg",
         "9781800220225.jpg",
         807,
         1680636469000
        ],
        [
         "dbfs:/FileStore/Bookimages/9781800220232.jpg",
         "9781800220232.jpg",
         807,
         1680636480000
        ],
        [
         "dbfs:/FileStore/Bookimages/9781800221376.jpg",
         "9781800221376.jpg",
         807,
         1680624830000
        ],
        [
         "dbfs:/FileStore/Bookimages/9781800221383.jpg",
         "9781800221383.jpg",
         807,
         1680624840000
        ],
        [
         "dbfs:/FileStore/Bookimages/9781800221390.jpg",
         "9781800221390.jpg",
         807,
         1680624851000
        ],
        [
         "dbfs:/FileStore/Bookimages/9781800221406.jpg",
         "9781800221406.jpg",
         807,
         1680636522000
        ],
        [
         "dbfs:/FileStore/Bookimages/9781800221413.jpg",
         "9781800221413.jpg",
         807,
         1680636533000
        ],
        [
         "dbfs:/FileStore/Bookimages/9781800221604.jpg",
         "9781800221604.jpg",
         807,
         1680636543000
        ],
        [
         "dbfs:/FileStore/Bookimages/9781800222076.jpg",
         "9781800222076.jpg",
         807,
         1680636554000
        ],
        [
         "dbfs:/FileStore/Bookimages/9781800222083.jpg",
         "9781800222083.jpg",
         807,
         1680624725000
        ],
        [
         "dbfs:/FileStore/Bookimages/9781800222144.jpg",
         "9781800222144.jpg",
         807,
         1680624735000
        ],
        [
         "dbfs:/FileStore/Bookimages/9781800222199.jpg",
         "9781800222199.jpg",
         807,
         1680624746000
        ],
        [
         "dbfs:/FileStore/Bookimages/9781800222458.jpg",
         "9781800222458.jpg",
         807,
         1680624756000
        ],
        [
         "dbfs:/FileStore/Bookimages/9781800222465.jpg",
         "9781800222465.jpg",
         807,
         1680624767000
        ],
        [
         "dbfs:/FileStore/Bookimages/9781800222472.jpg",
         "9781800222472.jpg",
         807,
         1680624777000
        ],
        [
         "dbfs:/FileStore/Bookimages/9781800222489.jpg",
         "9781800222489.jpg",
         807,
         1680624788000
        ],
        [
         "dbfs:/FileStore/Bookimages/9781800222502.jpg",
         "9781800222502.jpg",
         807,
         1680624798000
        ],
        [
         "dbfs:/FileStore/Bookimages/9781800222519.jpg",
         "9781800222519.jpg",
         807,
         1680624809000
        ],
        [
         "dbfs:/FileStore/Bookimages/9781800222526.jpg",
         "9781800222526.jpg",
         807,
         1680624819000
        ],
        [
         "dbfs:/FileStore/Bookimages/9781800222700.jpg",
         "9781800222700.jpg",
         807,
         1680636564000
        ],
        [
         "dbfs:/FileStore/Bookimages/9781800222762.jpg",
         "9781800222762.jpg",
         807,
         1680624861000
        ],
        [
         "dbfs:/FileStore/Bookimages/9781800222816.jpg",
         "9781800222816.jpg",
         807,
         1680624872000
        ],
        [
         "dbfs:/FileStore/Bookimages/9781800222823.jpg",
         "9781800222823.jpg",
         807,
         1680624882000
        ],
        [
         "dbfs:/FileStore/Bookimages/9781800222847.jpg",
         "9781800222847.jpg",
         807,
         1680636491000
        ],
        [
         "dbfs:/FileStore/Bookimages/9781800222984.jpg",
         "9781800222984.jpg",
         807,
         1680636501000
        ],
        [
         "dbfs:/FileStore/Bookimages/9781800222991.jpg",
         "9781800222991.jpg",
         807,
         1680636512000
        ],
        [
         "dbfs:/FileStore/Bookimages/9781800223004.jpg",
         "9781800223004.jpg",
         807,
         1680624651000
        ],
        [
         "dbfs:/FileStore/Bookimages/9781800223011.jpg",
         "9781800223011.jpg",
         807,
         1680636606000
        ],
        [
         "dbfs:/FileStore/Bookimages/9781800223257.jpg",
         "9781800223257.jpg",
         807,
         1680636617000
        ],
        [
         "dbfs:/FileStore/Bookimages/9781800224100.jpg",
         "9781800224100.jpg",
         807,
         1680631894000
        ],
        [
         "dbfs:/FileStore/Bookimages/9781800224117.jpg",
         "9781800224117.jpg",
         807,
         1680631904000
        ],
        [
         "dbfs:/FileStore/Bookimages/9781800224162.jpg",
         "9781800224162.jpg",
         807,
         1680631873000
        ],
        [
         "dbfs:/FileStore/Bookimages/9781800224179.jpg",
         "9781800224179.jpg",
         807,
         1680631883000
        ],
        [
         "dbfs:/FileStore/Bookimages/9781800225398.jpg",
         "9781800225398.jpg",
         807,
         1680624661000
        ],
        [
         "dbfs:/FileStore/Bookimages/9781800225404.jpg",
         "9781800225404.jpg",
         807,
         1680624672000
        ],
        [
         "dbfs:/FileStore/Bookimages/9781800226395.jpg",
         "9781800226395.jpg",
         807,
         1680636628000
        ],
        [
         "dbfs:/FileStore/Bookimages/9781800226401.jpg",
         "9781800226401.jpg",
         807,
         1680636638000
        ],
        [
         "dbfs:/FileStore/Bookimages/9781800226876.jpg",
         "9781800226876.jpg",
         807,
         1680636649000
        ],
        [
         "dbfs:/FileStore/Bookimages/9781800227033.jpg",
         "9781800227033.jpg",
         807,
         1680636659000
        ],
        [
         "dbfs:/FileStore/Bookimages/9781800227040.jpg",
         "9781800227040.jpg",
         807,
         1680636670000
        ],
        [
         "dbfs:/FileStore/Bookimages/9781800227057.jpg",
         "9781800227057.jpg",
         807,
         1680636681000
        ],
        [
         "dbfs:/FileStore/Bookimages/9781800227064.jpg",
         "9781800227064.jpg",
         807,
         1680636691000
        ],
        [
         "dbfs:/FileStore/Bookimages/9781800227071.jpg",
         "9781800227071.jpg",
         807,
         1680636702000
        ],
        [
         "dbfs:/FileStore/Bookimages/9781800227217.jpg",
         "9781800227217.jpg",
         807,
         1680636712000
        ],
        [
         "dbfs:/FileStore/Bookimages/9781800580138.jpg",
         "9781800580138.jpg",
         807,
         1680634258000
        ],
        [
         "dbfs:/FileStore/Bookimages/9781800580459.jpg",
         "9781800580459.jpg",
         807,
         1680625493000
        ],
        [
         "dbfs:/FileStore/Bookimages/9781800581340.jpg",
         "9781800581340.jpg",
         807,
         1680625504000
        ],
        [
         "dbfs:/FileStore/Bookimages/9781800581364.jpg",
         "9781800581364.jpg",
         807,
         1680625514000
        ],
        [
         "dbfs:/FileStore/Bookimages/9781800581395.jpg",
         "9781800581395.jpg",
         807,
         1680625525000
        ],
        [
         "dbfs:/FileStore/Bookimages/9781800581401.jpg",
         "9781800581401.jpg",
         807,
         1680634268000
        ],
        [
         "dbfs:/FileStore/Bookimages/9781800581418.jpg",
         "9781800581418.jpg",
         807,
         1680625535000
        ],
        [
         "dbfs:/FileStore/Bookimages/9781800581715.jpg",
         "9781800581715.jpg",
         807,
         1680625546000
        ],
        [
         "dbfs:/FileStore/Bookimages/9781800581852.jpg",
         "9781800581852.jpg",
         807,
         1680625556000
        ],
        [
         "dbfs:/FileStore/Bookimages/9781800581869.jpg",
         "9781800581869.jpg",
         807,
         1680625567000
        ],
        [
         "dbfs:/FileStore/Bookimages/9781800581876.jpg",
         "9781800581876.jpg",
         807,
         1680625577000
        ],
        [
         "dbfs:/FileStore/Bookimages/9781800582286.jpg",
         "9781800582286.jpg",
         807,
         1680625588000
        ],
        [
         "dbfs:/FileStore/Bookimages/9781800582293.jpg",
         "9781800582293.jpg",
         807,
         1680625599000
        ],
        [
         "dbfs:/FileStore/Bookimages/9781800582316.jpg",
         "9781800582316.jpg",
         807,
         1680634279000
        ],
        [
         "dbfs:/FileStore/Bookimages/9781800582354.jpg",
         "9781800582354.jpg",
         807,
         1680634289000
        ],
        [
         "dbfs:/FileStore/Bookimages/9781800582439.jpg",
         "9781800582439.jpg",
         807,
         1680625609000
        ],
        [
         "dbfs:/FileStore/Bookimages/9781800582460.jpg",
         "9781800582460.jpg",
         807,
         1680625620000
        ],
        [
         "dbfs:/FileStore/Bookimages/9781800582514.jpg",
         "9781800582514.jpg",
         807,
         1680625630000
        ],
        [
         "dbfs:/FileStore/Bookimages/9781800582538.jpg",
         "9781800582538.jpg",
         807,
         1680625641000
        ],
        [
         "dbfs:/FileStore/Bookimages/9781800582552.jpg",
         "9781800582552.jpg",
         807,
         1680625652000
        ],
        [
         "dbfs:/FileStore/Bookimages/9781800582590.jpg",
         "9781800582590.jpg",
         807,
         1680634311000
        ],
        [
         "dbfs:/FileStore/Bookimages/9781800582613.jpg",
         "9781800582613.jpg",
         807,
         1680625662000
        ],
        [
         "dbfs:/FileStore/Bookimages/9781800582651.jpg",
         "9781800582651.jpg",
         807,
         1680625673000
        ],
        [
         "dbfs:/FileStore/Bookimages/9781800582675.jpg",
         "9781800582675.jpg",
         807,
         1680625683000
        ],
        [
         "dbfs:/FileStore/Bookimages/9781800582729.jpg",
         "9781800582729.jpg",
         807,
         1680625694000
        ],
        [
         "dbfs:/FileStore/Bookimages/9781800582781.jpg",
         "9781800582781.jpg",
         807,
         1680625704000
        ],
        [
         "dbfs:/FileStore/Bookimages/9781800582828.jpg",
         "9781800582828.jpg",
         807,
         1680625715000
        ],
        [
         "dbfs:/FileStore/Bookimages/9781800582866.jpg",
         "9781800582866.jpg",
         807,
         1680634300000
        ],
        [
         "dbfs:/FileStore/Bookimages/9781800582903.jpg",
         "9781800582903.jpg",
         807,
         1680625725000
        ],
        [
         "dbfs:/FileStore/Bookimages/9781800583078.jpg",
         "9781800583078.jpg",
         807,
         1680625736000
        ],
        [
         "dbfs:/FileStore/Bookimages/9781800583092.jpg",
         "9781800583092.jpg",
         807,
         1680625746000
        ],
        [
         "dbfs:/FileStore/Bookimages/9781800583153.jpg",
         "9781800583153.jpg",
         807,
         1680625757000
        ],
        [
         "dbfs:/FileStore/Bookimages/9781800583177.jpg",
         "9781800583177.jpg",
         807,
         1680625767000
        ],
        [
         "dbfs:/FileStore/Bookimages/9781800583191.jpg",
         "9781800583191.jpg",
         807,
         1680625778000
        ],
        [
         "dbfs:/FileStore/Bookimages/9781800583214.jpg",
         "9781800583214.jpg",
         807,
         1680625789000
        ],
        [
         "dbfs:/FileStore/Bookimages/9781800583498.jpg",
         "9781800583498.jpg",
         807,
         1680625799000
        ],
        [
         "dbfs:/FileStore/Bookimages/9781800584426.jpg",
         "9781800584426.jpg",
         807,
         1680625810000
        ],
        [
         "dbfs:/FileStore/Bookimages/9781800584891.jpg",
         "9781800584891.jpg",
         807,
         1680625820000
        ],
        [
         "dbfs:/FileStore/Bookimages/9781800585317.jpg",
         "9781800585317.jpg",
         807,
         1680636723000
        ],
        [
         "dbfs:/FileStore/Bookimages/9781800585881.jpg",
         "9781800585881.jpg",
         807,
         1680636733000
        ],
        [
         "dbfs:/FileStore/Bookimages/9781800586628.jpg",
         "9781800586628.jpg",
         807,
         1680626085000
        ],
        [
         "dbfs:/FileStore/Bookimages/9781800587700.jpg",
         "9781800587700.jpg",
         807,
         1680626106000
        ],
        [
         "dbfs:/FileStore/Bookimages/9781800588240.jpg",
         "9781800588240.jpg",
         807,
         1680636744000
        ],
        [
         "dbfs:/FileStore/Bookimages/9781800588707.jpg",
         "9781800588707.jpg",
         807,
         1680636754000
        ],
        [
         "dbfs:/FileStore/Bookimages/9781800588806.jpg",
         "9781800588806.jpg",
         807,
         1680636765000
        ],
        [
         "dbfs:/FileStore/Bookimages/9781800589841.jpg",
         "9781800589841.jpg",
         807,
         1680620435000
        ],
        [
         "dbfs:/FileStore/Bookimages/9781800589889.jpg",
         "9781800589889.jpg",
         807,
         1680634460000
        ],
        [
         "dbfs:/FileStore/Bookimages/9781801080439.jpg",
         "9781801080439.jpg",
         807,
         1680637039000
        ],
        [
         "dbfs:/FileStore/Bookimages/9781801080446.jpg",
         "9781801080446.jpg",
         807,
         1680637050000
        ],
        [
         "dbfs:/FileStore/Bookimages/9781801080675.jpg",
         "9781801080675.jpg",
         807,
         1680637060000
        ],
        [
         "dbfs:/FileStore/Bookimages/9781801080682.jpg",
         "9781801080682.jpg",
         807,
         1680637071000
        ],
        [
         "dbfs:/FileStore/Bookimages/9781801080811.jpg",
         "9781801080811.jpg",
         807,
         1680627654000
        ],
        [
         "dbfs:/FileStore/Bookimages/9781801080828.jpg",
         "9781801080828.jpg",
         807,
         1680627665000
        ],
        [
         "dbfs:/FileStore/Bookimages/9781801080941.jpg",
         "9781801080941.jpg",
         807,
         1680636776000
        ],
        [
         "dbfs:/FileStore/Bookimages/9781801080958.jpg",
         "9781801080958.jpg",
         807,
         1680636786000
        ],
        [
         "dbfs:/FileStore/Bookimages/9781801081078.jpg",
         "9781801081078.jpg",
         807,
         1680636797000
        ],
        [
         "dbfs:/FileStore/Bookimages/9781801081085.jpg",
         "9781801081085.jpg",
         807,
         1680636807000
        ],
        [
         "dbfs:/FileStore/Bookimages/9781801081108.jpg",
         "9781801081108.jpg",
         807,
         1680636818000
        ],
        [
         "dbfs:/FileStore/Bookimages/9781801081221.jpg",
         "9781801081221.jpg",
         807,
         1680636828000
        ],
        [
         "dbfs:/FileStore/Bookimages/9781801081481.jpg",
         "9781801081481.jpg",
         807,
         1680624977000
        ],
        [
         "dbfs:/FileStore/Bookimages/9781801081498.jpg",
         "9781801081498.jpg",
         807,
         1680637081000
        ],
        [
         "dbfs:/FileStore/Bookimages/9781801081504.jpg",
         "9781801081504.jpg",
         807,
         1680637092000
        ],
        [
         "dbfs:/FileStore/Bookimages/9781801081511.jpg",
         "9781801081511.jpg",
         807,
         1680625093000
        ],
        [
         "dbfs:/FileStore/Bookimages/9781801081719.jpg",
         "9781801081719.jpg",
         807,
         1680636860000
        ],
        [
         "dbfs:/FileStore/Bookimages/9781801081764.jpg",
         "9781801081764.jpg",
         807,
         1680636870000
        ],
        [
         "dbfs:/FileStore/Bookimages/9781801081788.jpg",
         "9781801081788.jpg",
         807,
         1680636881000
        ],
        [
         "dbfs:/FileStore/Bookimages/9781801081986.jpg",
         "9781801081986.jpg",
         807,
         1680636891000
        ],
        [
         "dbfs:/FileStore/Bookimages/9781801082310.jpg",
         "9781801082310.jpg",
         807,
         1680636902000
        ],
        [
         "dbfs:/FileStore/Bookimages/9781801082488.jpg",
         "9781801082488.jpg",
         807,
         1680636913000
        ],
        [
         "dbfs:/FileStore/Bookimages/9781801082495.jpg",
         "9781801082495.jpg",
         807,
         1680636923000
        ],
        [
         "dbfs:/FileStore/Bookimages/9781801082631.jpg",
         "9781801082631.jpg",
         807,
         1680636934000
        ],
        [
         "dbfs:/FileStore/Bookimages/9781801083737.jpg",
         "9781801083737.jpg",
         807,
         1680636944000
        ],
        [
         "dbfs:/FileStore/Bookimages/9781801083744.jpg",
         "9781801083744.jpg",
         807,
         1680636955000
        ],
        [
         "dbfs:/FileStore/Bookimages/9781801083751.jpg",
         "9781801083751.jpg",
         807,
         1680636965000
        ],
        [
         "dbfs:/FileStore/Bookimages/9781801084437.jpg",
         "9781801084437.jpg",
         807,
         1680636976000
        ],
        [
         "dbfs:/FileStore/Bookimages/9781801084444.jpg",
         "9781801084444.jpg",
         807,
         1680636986000
        ],
        [
         "dbfs:/FileStore/Bookimages/9781801085205.jpg",
         "9781801085205.jpg",
         807,
         1680636997000
        ],
        [
         "dbfs:/FileStore/Bookimages/9781801085212.jpg",
         "9781801085212.jpg",
         807,
         1680637007000
        ],
        [
         "dbfs:/FileStore/Bookimages/9781801086226.jpg",
         "9781801086226.jpg",
         807,
         1680637018000
        ],
        [
         "dbfs:/FileStore/Bookimages/9781801086233.jpg",
         "9781801086233.jpg",
         807,
         1680637029000
        ],
        [
         "dbfs:/FileStore/Bookimages/9781801310222.jpg",
         "9781801310222.jpg",
         807,
         1680629665000
        ],
        [
         "dbfs:/FileStore/Bookimages/9781801310925.jpg",
         "9781801310925.jpg",
         807,
         1680621906000
        ],
        [
         "dbfs:/FileStore/Bookimages/9781803370033.jpg",
         "9781803370033.jpg",
         807,
         1680634470000
        ],
        [
         "dbfs:/FileStore/Bookimages/9781803370040.jpg",
         "9781803370040.jpg",
         807,
         1680634481000
        ],
        [
         "dbfs:/FileStore/Bookimages/9781803370057.jpg",
         "9781803370057.jpg",
         807,
         1680634491000
        ],
        [
         "dbfs:/FileStore/Bookimages/9781803370064.jpg",
         "9781803370064.jpg",
         807,
         1680634502000
        ],
        [
         "dbfs:/FileStore/Bookimages/9781803370071.jpg",
         "9781803370071.jpg",
         807,
         1680634512000
        ],
        [
         "dbfs:/FileStore/Bookimages/9781803370330.jpg",
         "9781803370330.jpg",
         807,
         1680634523000
        ],
        [
         "dbfs:/FileStore/Bookimages/9781803370347.jpg",
         "9781803370347.jpg",
         807,
         1680634533000
        ],
        [
         "dbfs:/FileStore/Bookimages/9781803370354.jpg",
         "9781803370354.jpg",
         807,
         1680634544000
        ],
        [
         "dbfs:/FileStore/Bookimages/9781803372570.jpg",
         "9781803372570.jpg",
         807,
         1680634555000
        ],
        [
         "dbfs:/FileStore/Bookimages/9781803372594.jpg",
         "9781803372594.jpg",
         807,
         1680634565000
        ],
        [
         "dbfs:/FileStore/Bookimages/9781803372655.jpg",
         "9781803372655.jpg",
         807,
         1680634576000
        ],
        [
         "dbfs:/FileStore/Bookimages/9781803372716.jpg",
         "9781803372716.jpg",
         807,
         1680634586000
        ],
        [
         "dbfs:/FileStore/Bookimages/9781803372839.jpg",
         "9781803372839.jpg",
         807,
         1680634597000
        ],
        [
         "dbfs:/FileStore/Bookimages/9781803372853.jpg",
         "9781803372853.jpg",
         807,
         1680634607000
        ],
        [
         "dbfs:/FileStore/Bookimages/9781803372914.jpg",
         "9781803372914.jpg",
         807,
         1680634618000
        ],
        [
         "dbfs:/FileStore/Bookimages/9781803374277.jpg",
         "9781803374277.jpg",
         807,
         1680636839000
        ],
        [
         "dbfs:/FileStore/Bookimages/9781803374291.jpg",
         "9781803374291.jpg",
         807,
         1680636849000
        ],
        [
         "dbfs:/FileStore/Bookimages/9781803374666.jpg",
         "9781803374666.jpg",
         807,
         1680634418000
        ],
        [
         "dbfs:/FileStore/Bookimages/9781803374680.jpg",
         "9781803374680.jpg",
         807,
         1680634428000
        ],
        [
         "dbfs:/FileStore/Bookimages/9781803374741.jpg",
         "9781803374741.jpg",
         807,
         1680634439000
        ],
        [
         "dbfs:/FileStore/Bookimages/9781803375069.jpg",
         "9781803375069.jpg",
         807,
         1680626138000
        ],
        [
         "dbfs:/FileStore/Bookimages/9781803376271.jpg",
         "9781803376271.jpg",
         807,
         1680637102000
        ],
        [
         "dbfs:/FileStore/Bookimages/9781803680057.jpg",
         "9781803680057.jpg",
         807,
         1680637113000
        ],
        [
         "dbfs:/FileStore/Bookimages/9781803684215.jpg",
         "9781803684215.jpg",
         807,
         1680627803000
        ],
        [
         "dbfs:/FileStore/Bookimages/9781803684543.jpg",
         "9781803684543.jpg",
         807,
         1680633930000
        ],
        [
         "dbfs:/FileStore/Bookimages/9781803684550.jpg",
         "9781803684550.jpg",
         807,
         1680633941000
        ],
        [
         "dbfs:/FileStore/Bookimages/9781803684598.jpg",
         "9781803684598.jpg",
         807,
         1680633951000
        ],
        [
         "dbfs:/FileStore/Bookimages/9781803684604.jpg",
         "9781803684604.jpg",
         807,
         1680633920000
        ],
        [
         "dbfs:/FileStore/Bookimages/9781803684666.jpg",
         "9781803684666.jpg",
         807,
         1680637123000
        ],
        [
         "dbfs:/FileStore/Bookimages/9781803684680.jpg",
         "9781803684680.jpg",
         807,
         1680637134000
        ],
        [
         "dbfs:/FileStore/Bookimages/9781803684697.jpg",
         "9781803684697.jpg",
         807,
         1680637144000
        ],
        [
         "dbfs:/FileStore/Bookimages/9781803685328.jpg",
         "9781803685328.jpg",
         807,
         1680637155000
        ],
        [
         "dbfs:/FileStore/Bookimages/9781803685335.jpg",
         "9781803685335.jpg",
         807,
         1680637165000
        ],
        [
         "dbfs:/FileStore/Bookimages/9781803685885.jpg",
         "9781803685885.jpg",
         807,
         1680637176000
        ],
        [
         "dbfs:/FileStore/Bookimages/9781803685922.jpg",
         "9781803685922.jpg",
         807,
         1680637186000
        ],
        [
         "dbfs:/FileStore/Bookimages/9781803685984.jpg",
         "9781803685984.jpg",
         807,
         1680637197000
        ],
        [
         "dbfs:/FileStore/Bookimages/9781803686349.jpg",
         "9781803686349.jpg",
         807,
         1680629643000
        ],
        [
         "dbfs:/FileStore/Bookimages/9781803686547.jpg",
         "9781803686547.jpg",
         807,
         1680633962000
        ],
        [
         "dbfs:/FileStore/Bookimages/9781803687766.jpg",
         "9781803687766.jpg",
         807,
         1680637471000
        ],
        [
         "dbfs:/FileStore/Bookimages/9781803687773.jpg",
         "9781803687773.jpg",
         807,
         1680637482000
        ],
        [
         "dbfs:/FileStore/Bookimages/9781803708850.jpg",
         "9781803708850.jpg",
         807,
         1680634026000
        ],
        [
         "dbfs:/FileStore/Bookimages/9781838520281.jpg",
         "9781838520281.jpg",
         22827,
         1680637208000
        ],
        [
         "dbfs:/FileStore/Bookimages/9781838521981.jpg",
         "9781838521981.jpg",
         807,
         1680632854000
        ],
        [
         "dbfs:/FileStore/Bookimages/9781838522148.jpg",
         "9781838522148.jpg",
         807,
         1680632865000
        ],
        [
         "dbfs:/FileStore/Bookimages/9781838522353.jpg",
         "9781838522353.jpg",
         807,
         1680632875000
        ],
        [
         "dbfs:/FileStore/Bookimages/9781838522360.jpg",
         "9781838522360.jpg",
         807,
         1680632886000
        ],
        [
         "dbfs:/FileStore/Bookimages/9781838523466.jpg",
         "9781838523466.jpg",
         807,
         1680637218000
        ],
        [
         "dbfs:/FileStore/Bookimages/9781838523473.jpg",
         "9781838523473.jpg",
         807,
         1680637229000
        ],
        [
         "dbfs:/FileStore/Bookimages/9781838523640.jpg",
         "9781838523640.jpg",
         807,
         1680624988000
        ],
        [
         "dbfs:/FileStore/Bookimages/9781838526306.jpg",
         "9781838526306.jpg",
         807,
         1680624998000
        ],
        [
         "dbfs:/FileStore/Bookimages/9781838527174.jpg",
         "9781838527174.jpg",
         807,
         1680625009000
        ],
        [
         "dbfs:/FileStore/Bookimages/9781838527181.jpg",
         "9781838527181.jpg",
         807,
         1680625019000
        ],
        [
         "dbfs:/FileStore/Bookimages/9781838527204.jpg",
         "9781838527204.jpg",
         807,
         1680625030000
        ],
        [
         "dbfs:/FileStore/Bookimages/9781838527211.jpg",
         "9781838527211.jpg",
         807,
         1680625040000
        ],
        [
         "dbfs:/FileStore/Bookimages/9781838527228.jpg",
         "9781838527228.jpg",
         807,
         1680625051000
        ],
        [
         "dbfs:/FileStore/Bookimages/9781838527235.jpg",
         "9781838527235.jpg",
         807,
         1680625061000
        ],
        [
         "dbfs:/FileStore/Bookimages/9781838527242.jpg",
         "9781838527242.jpg",
         807,
         1680625072000
        ],
        [
         "dbfs:/FileStore/Bookimages/9781838527259.jpg",
         "9781838527259.jpg",
         807,
         1680625082000
        ],
        [
         "dbfs:/FileStore/Bookimages/9781839030482.jpg",
         "9781839030482.jpg",
         807,
         1680620315000
        ],
        [
         "dbfs:/FileStore/Bookimages/9781839030673.jpg",
         "9781839030673.jpg",
         807,
         1680632833000
        ],
        [
         "dbfs:/FileStore/Bookimages/9781839031076.jpg",
         "9781839031076.jpg",
         807,
         1680632844000
        ],
        [
         "dbfs:/FileStore/Bookimages/9781839031281.jpg",
         "9781839031281.jpg",
         807,
         1680624956000
        ],
        [
         "dbfs:/FileStore/Bookimages/9781839031335.jpg",
         "9781839031335.jpg",
         807,
         1680632791000
        ],
        [
         "dbfs:/FileStore/Bookimages/9781839031342.jpg",
         "9781839031342.jpg",
         807,
         1680632802000
        ],
        [
         "dbfs:/FileStore/Bookimages/9781839031779.jpg",
         "9781839031779.jpg",
         807,
         1680624935000
        ],
        [
         "dbfs:/FileStore/Bookimages/9781839031786.jpg",
         "9781839031786.jpg",
         807,
         1680624946000
        ],
        [
         "dbfs:/FileStore/Bookimages/9781839031847.jpg",
         "9781839031847.jpg",
         807,
         1680632812000
        ],
        [
         "dbfs:/FileStore/Bookimages/9781839031854.jpg",
         "9781839031854.jpg",
         807,
         1680632823000
        ],
        [
         "dbfs:/FileStore/Bookimages/9781839031939.jpg",
         "9781839031939.jpg",
         807,
         1680624967000
        ],
        [
         "dbfs:/FileStore/Bookimages/9781839031977.jpg",
         "9781839031977.jpg",
         807,
         1680637239000
        ],
        [
         "dbfs:/FileStore/Bookimages/9781839031984.jpg",
         "9781839031984.jpg",
         807,
         1680637250000
        ],
        [
         "dbfs:/FileStore/Bookimages/9781839034114.jpg",
         "9781839034114.jpg",
         807,
         1680632781000
        ],
        [
         "dbfs:/FileStore/Bookimages/9781839034275.jpg",
         "9781839034275.jpg",
         807,
         1680637261000
        ],
        [
         "dbfs:/FileStore/Bookimages/9781839034282.jpg",
         "9781839034282.jpg",
         807,
         1680637271000
        ],
        [
         "dbfs:/FileStore/Bookimages/9781839035692.jpg",
         "9781839035692.jpg",
         807,
         1680637282000
        ],
        [
         "dbfs:/FileStore/Bookimages/9781839130687.jpg",
         "9781839130687.jpg",
         807,
         1680632896000
        ],
        [
         "dbfs:/FileStore/Bookimages/9781839233470.jpg",
         "9781839233470.jpg",
         807,
         1680624356000
        ],
        [
         "dbfs:/FileStore/Bookimages/9781839233487.jpg",
         "9781839233487.jpg",
         807,
         1680624366000
        ],
        [
         "dbfs:/FileStore/Bookimages/9781845063368.jpg",
         "9781845063368.jpg",
         807,
         1680620273000
        ],
        [
         "dbfs:/FileStore/Bookimages/9781845063467.jpg",
         "9781845063467.jpg",
         11844,
         1680620284000
        ],
        [
         "dbfs:/FileStore/Bookimages/9781845068134.jpg",
         "9781845068134.jpg",
         11585,
         1680620294000
        ],
        [
         "dbfs:/FileStore/Bookimages/9781845068257.jpg",
         "9781845068257.jpg",
         11336,
         1680620305000
        ],
        [
         "dbfs:/FileStore/Bookimages/9781861477781.jpg",
         "9781861477781.jpg",
         807,
         1680633171000
        ],
        [
         "dbfs:/FileStore/Bookimages/9781865151625.jpg",
         "9781865151625.jpg",
         807,
         1680629179000
        ],
        [
         "dbfs:/FileStore/Bookimages/9781865152042.jpg",
         "9781865152042.jpg",
         807,
         1680629189000
        ],
        [
         "dbfs:/FileStore/Bookimages/9781865152059.jpg",
         "9781865152059.jpg",
         807,
         1680629200000
        ],
        [
         "dbfs:/FileStore/Bookimages/9781865152967.jpg",
         "9781865152967.jpg",
         807,
         1680629211000
        ],
        [
         "dbfs:/FileStore/Bookimages/9781865152974.jpg",
         "9781865152974.jpg",
         807,
         1680629221000
        ],
        [
         "dbfs:/FileStore/Bookimages/9781865153247.jpg",
         "9781865153247.jpg",
         807,
         1680629232000
        ],
        [
         "dbfs:/FileStore/Bookimages/9781865154817.jpg",
         "9781865154817.jpg",
         807,
         1680629242000
        ],
        [
         "dbfs:/FileStore/Bookimages/9781865155081.jpg",
         "9781865155081.jpg",
         807,
         1680629253000
        ],
        [
         "dbfs:/FileStore/Bookimages/9781865155098.jpg",
         "9781865155098.jpg",
         807,
         1680629263000
        ],
        [
         "dbfs:/FileStore/Bookimages/9781865155692.jpg",
         "9781865155692.jpg",
         807,
         1680629274000
        ],
        [
         "dbfs:/FileStore/Bookimages/9781910764442.jpg",
         "9781910764442.jpg",
         807,
         1680632907000
        ],
        [
         "dbfs:/FileStore/Bookimages/9781910764459.jpg",
         "9781910764459.jpg",
         807,
         1680632918000
        ],
        [
         "dbfs:/FileStore/Bookimages/9781910764473.jpg",
         "9781910764473.jpg",
         807,
         1680632928000
        ],
        [
         "dbfs:/FileStore/Bookimages/9781910764527.jpg",
         "9781910764527.jpg",
         807,
         1680632939000
        ],
        [
         "dbfs:/FileStore/Bookimages/9781910764534.jpg",
         "9781910764534.jpg",
         807,
         1680632949000
        ],
        [
         "dbfs:/FileStore/Bookimages/9781910764541.jpg",
         "9781910764541.jpg",
         807,
         1680632960000
        ],
        [
         "dbfs:/FileStore/Bookimages/9781910764558.jpg",
         "9781910764558.jpg",
         807,
         1680632970000
        ],
        [
         "dbfs:/FileStore/Bookimages/9781910764602.jpg",
         "9781910764602.jpg",
         807,
         1680632981000
        ],
        [
         "dbfs:/FileStore/Bookimages/9781910764619.jpg",
         "9781910764619.jpg",
         807,
         1680632991000
        ],
        [
         "dbfs:/FileStore/Bookimages/9781910764848.jpg",
         "9781910764848.jpg",
         807,
         1680633002000
        ],
        [
         "dbfs:/FileStore/Bookimages/9781910764855.jpg",
         "9781910764855.jpg",
         807,
         1680633012000
        ],
        [
         "dbfs:/FileStore/Bookimages/9781910765012.jpg",
         "9781910765012.jpg",
         807,
         1680633023000
        ],
        [
         "dbfs:/FileStore/Bookimages/9781910765043.jpg",
         "9781910765043.jpg",
         807,
         1680633033000
        ],
        [
         "dbfs:/FileStore/Bookimages/9781910765142.jpg",
         "9781910765142.jpg",
         807,
         1680633044000
        ],
        [
         "dbfs:/FileStore/Bookimages/9781910765258.jpg",
         "9781910765258.jpg",
         807,
         1680633054000
        ],
        [
         "dbfs:/FileStore/Bookimages/9781912754939.jpg",
         "9781912754939.jpg",
         807,
         1680633065000
        ],
        [
         "dbfs:/FileStore/Bookimages/9781912754946.jpg",
         "9781912754946.jpg",
         807,
         1680633076000
        ],
        [
         "dbfs:/FileStore/Bookimages/9781912756469.jpg",
         "9781912756469.jpg",
         807,
         1680633086000
        ],
        [
         "dbfs:/FileStore/Bookimages/9781912756476.jpg",
         "9781912756476.jpg",
         807,
         1680633097000
        ],
        [
         "dbfs:/FileStore/Bookimages/9781912756483.jpg",
         "9781912756483.jpg",
         807,
         1680633107000
        ],
        [
         "dbfs:/FileStore/Bookimages/9781912756490.jpg",
         "9781912756490.jpg",
         807,
         1680633118000
        ],
        [
         "dbfs:/FileStore/Bookimages/9781912756599.jpg",
         "9781912756599.jpg",
         807,
         1680633128000
        ],
        [
         "dbfs:/FileStore/Bookimages/9781913072476.jpg",
         "9781913072476.jpg",
         807,
         1680633139000
        ],
        [
         "dbfs:/FileStore/Bookimages/9781913072537.jpg",
         "9781913072537.jpg",
         807,
         1680633150000
        ],
        [
         "dbfs:/FileStore/Bookimages/9781913265120.jpg",
         "9781913265120.jpg",
         807,
         1680633160000
        ],
        [
         "dbfs:/FileStore/Bookimages/9781913484217.jpg",
         "9781913484217.jpg",
         807,
         1680637292000
        ],
        [
         "dbfs:/FileStore/Bookimages/9781913865894.jpg",
         "9781913865894.jpg",
         807,
         1680633181000
        ],
        [
         "dbfs:/FileStore/Bookimages/9781913865900.jpg",
         "9781913865900.jpg",
         807,
         1680633192000
        ],
        [
         "dbfs:/FileStore/Bookimages/9781913906115.jpg",
         "9781913906115.jpg",
         807,
         1680633202000
        ],
        [
         "dbfs:/FileStore/Bookimages/9781913906504.jpg",
         "9781913906504.jpg",
         807,
         1680633213000
        ],
        [
         "dbfs:/FileStore/Bookimages/9781913906764.jpg",
         "9781913906764.jpg",
         807,
         1680633223000
        ],
        [
         "dbfs:/FileStore/Bookimages/9781913906788.jpg",
         "9781913906788.jpg",
         807,
         1680633234000
        ],
        [
         "dbfs:/FileStore/Bookimages/9781914448348.jpg",
         "9781914448348.jpg",
         807,
         1680633245000
        ],
        [
         "dbfs:/FileStore/Bookimages/9781914448355.jpg",
         "9781914448355.jpg",
         807,
         1680633255000
        ],
        [
         "dbfs:/FileStore/Bookimages/9781914564420.jpg",
         "9781914564420.jpg",
         807,
         1680633266000
        ],
        [
         "dbfs:/FileStore/Bookimages/9781914564437.jpg",
         "9781914564437.jpg",
         807,
         1680633276000
        ],
        [
         "dbfs:/FileStore/Bookimages/9781914564451.jpg",
         "9781914564451.jpg",
         807,
         1680633287000
        ],
        [
         "dbfs:/FileStore/Bookimages/9781914564611.jpg",
         "9781914564611.jpg",
         807,
         1680633297000
        ],
        [
         "dbfs:/FileStore/Bookimages/9781914564635.jpg",
         "9781914564635.jpg",
         807,
         1680633308000
        ],
        [
         "dbfs:/FileStore/Bookimages/9781941082928.jpg",
         "9781941082928.jpg",
         807,
         1680638963000
        ],
        [
         "dbfs:/FileStore/Bookimages/9781941082935.jpg",
         "9781941082935.jpg",
         807,
         1680624893000
        ],
        [
         "dbfs:/FileStore/Bookimages/9781941082942.jpg",
         "9781941082942.jpg",
         807,
         1680638974000
        ],
        [
         "dbfs:/FileStore/Bookimages/9781941082959.jpg",
         "9781941082959.jpg",
         27064,
         1680638985000
        ],
        [
         "dbfs:/FileStore/Bookimages/9781941082966.jpg",
         "9781941082966.jpg",
         807,
         1680624903000
        ],
        [
         "dbfs:/FileStore/Bookimages/9781941082973.jpg",
         "9781941082973.jpg",
         807,
         1680624914000
        ],
        [
         "dbfs:/FileStore/Bookimages/9781941082980.jpg",
         "9781941082980.jpg",
         807,
         1680624925000
        ],
        [
         "dbfs:/FileStore/Bookimages/9781941082997.jpg",
         "9781941082997.jpg",
         807,
         1680638995000
        ],
        [
         "dbfs:/FileStore/Bookimages/9781948174442.jpg",
         "9781948174442.jpg",
         16327,
         1680623708000
        ],
        [
         "dbfs:/FileStore/Bookimages/9781948174671.jpg",
         "9781948174671.jpg",
         807,
         1680623718000
        ],
        [
         "dbfs:/FileStore/Bookimages/9781948174930.jpg",
         "9781948174930.jpg",
         807,
         1680623729000
        ],
        [
         "dbfs:/FileStore/Bookimages/9781951086046.jpg",
         "9781951086046.jpg",
         807,
         1680636236000
        ],
        [
         "dbfs:/FileStore/Bookimages/9781951086695.jpg",
         "9781951086695.jpg",
         807,
         1680636247000
        ],
        [
         "dbfs:/FileStore/Bookimages/9781953845009.jpg",
         "9781953845009.jpg",
         807,
         1680633983000
        ],
        [
         "dbfs:/FileStore/Bookimages/9781953845016.jpg",
         "9781953845016.jpg",
         807,
         1680638869000
        ],
        [
         "dbfs:/FileStore/Bookimages/9781953845023.jpg",
         "9781953845023.jpg",
         807,
         1680638879000
        ],
        [
         "dbfs:/FileStore/Bookimages/9781953845078.jpg",
         "9781953845078.jpg",
         807,
         1680638890000
        ],
        [
         "dbfs:/FileStore/Bookimages/9781953845085.jpg",
         "9781953845085.jpg",
         807,
         1680638900000
        ],
        [
         "dbfs:/FileStore/Bookimages/9781953845092.jpg",
         "9781953845092.jpg",
         807,
         1680638911000
        ],
        [
         "dbfs:/FileStore/Bookimages/9781953845139.jpg",
         "9781953845139.jpg",
         807,
         1680638921000
        ],
        [
         "dbfs:/FileStore/Bookimages/9781953845207.jpg",
         "9781953845207.jpg",
         807,
         1680638932000
        ],
        [
         "dbfs:/FileStore/Bookimages/9781953845214.jpg",
         "9781953845214.jpg",
         807,
         1680638943000
        ],
        [
         "dbfs:/FileStore/Bookimages/9781953845221.jpg",
         "9781953845221.jpg",
         807,
         1680638953000
        ],
        [
         "dbfs:/FileStore/Bookimages/9781984894656.jpg",
         "9781984894656.jpg",
         30199,
         1680623166000
        ],
        [
         "dbfs:/FileStore/Bookimages/9781984895660.jpg",
         "9781984895660.jpg",
         23033,
         1680623177000
        ],
        [
         "dbfs:/FileStore/Bookimages/9781999950125.jpg",
         "9781999950125.jpg",
         807,
         1680632706000
        ],
        [
         "dbfs:/FileStore/Bookimages/9781999950132.jpg",
         "9781999950132.jpg",
         807,
         1680632717000
        ],
        [
         "dbfs:/FileStore/Bookimages/9782733877708.jpg",
         "9782733877708.jpg",
         807,
         1680632728000
        ],
        [
         "dbfs:/FileStore/Bookimages/9782733879054.jpg",
         "9782733879054.jpg",
         807,
         1680632738000
        ],
        [
         "dbfs:/FileStore/Bookimages/9782733884171.jpg",
         "9782733884171.jpg",
         807,
         1680632749000
        ],
        [
         "dbfs:/FileStore/Bookimages/9782733885017.jpg",
         "9782733885017.jpg",
         807,
         1680632759000
        ],
        [
         "dbfs:/FileStore/Bookimages/9782764322079.jpg",
         "9782764322079.jpg",
         807,
         1680637429000
        ],
        [
         "dbfs:/FileStore/Bookimages/9782764336342.jpg",
         "9782764336342.jpg",
         807,
         1680632580000
        ],
        [
         "dbfs:/FileStore/Bookimages/9782764353073.jpg",
         "9782764353073.jpg",
         807,
         1680637461000
        ],
        [
         "dbfs:/FileStore/Bookimages/9782764353080.jpg",
         "9782764353080.jpg",
         807,
         1680628079000
        ],
        [
         "dbfs:/FileStore/Bookimages/9782764353424.jpg",
         "9782764353424.jpg",
         807,
         1680628089000
        ],
        [
         "dbfs:/FileStore/Bookimages/9782764353431.jpg",
         "9782764353431.jpg",
         807,
         1680628100000
        ],
        [
         "dbfs:/FileStore/Bookimages/9782764353448.jpg",
         "9782764353448.jpg",
         807,
         1680628110000
        ],
        [
         "dbfs:/FileStore/Bookimages/9782764354476.jpg",
         "9782764354476.jpg",
         807,
         1680628121000
        ],
        [
         "dbfs:/FileStore/Bookimages/9782764354506.jpg",
         "9782764354506.jpg",
         807,
         1680628131000
        ],
        [
         "dbfs:/FileStore/Bookimages/9782764354537.jpg",
         "9782764354537.jpg",
         807,
         1680628142000
        ],
        [
         "dbfs:/FileStore/Bookimages/9782764354551.jpg",
         "9782764354551.jpg",
         807,
         1680637450000
        ],
        [
         "dbfs:/FileStore/Bookimages/9782764354568.jpg",
         "9782764354568.jpg",
         807,
         1680628152000
        ],
        [
         "dbfs:/FileStore/Bookimages/9782764354575.jpg",
         "9782764354575.jpg",
         807,
         1680628163000
        ],
        [
         "dbfs:/FileStore/Bookimages/9782764354582.jpg",
         "9782764354582.jpg",
         807,
         1680628173000
        ],
        [
         "dbfs:/FileStore/Bookimages/9782764354599.jpg",
         "9782764354599.jpg",
         807,
         1680628184000
        ],
        [
         "dbfs:/FileStore/Bookimages/9782764354612.jpg",
         "9782764354612.jpg",
         807,
         1680628194000
        ],
        [
         "dbfs:/FileStore/Bookimages/9782764354704.jpg",
         "9782764354704.jpg",
         807,
         1680628205000
        ],
        [
         "dbfs:/FileStore/Bookimages/9782764354711.jpg",
         "9782764354711.jpg",
         807,
         1680628215000
        ],
        [
         "dbfs:/FileStore/Bookimages/9782764354735.jpg",
         "9782764354735.jpg",
         807,
         1680628226000
        ],
        [
         "dbfs:/FileStore/Bookimages/9782764354742.jpg",
         "9782764354742.jpg",
         807,
         1680628236000
        ],
        [
         "dbfs:/FileStore/Bookimages/9782764354759.jpg",
         "9782764354759.jpg",
         807,
         1680628247000
        ],
        [
         "dbfs:/FileStore/Bookimages/9782764354766.jpg",
         "9782764354766.jpg",
         807,
         1680628257000
        ],
        [
         "dbfs:/FileStore/Bookimages/9782764354773.jpg",
         "9782764354773.jpg",
         807,
         1680628269000
        ],
        [
         "dbfs:/FileStore/Bookimages/9782764354797.jpg",
         "9782764354797.jpg",
         807,
         1680628280000
        ],
        [
         "dbfs:/FileStore/Bookimages/9782764354803.jpg",
         "9782764354803.jpg",
         807,
         1680637440000
        ],
        [
         "dbfs:/FileStore/Bookimages/9782764354810.jpg",
         "9782764354810.jpg",
         807,
         1680628026000
        ],
        [
         "dbfs:/FileStore/Bookimages/9782764354827.jpg",
         "9782764354827.jpg",
         807,
         1680628036000
        ],
        [
         "dbfs:/FileStore/Bookimages/9782764354834.jpg",
         "9782764354834.jpg",
         807,
         1680628047000
        ],
        [
         "dbfs:/FileStore/Bookimages/9782764354841.jpg",
         "9782764354841.jpg",
         807,
         1680628058000
        ],
        [
         "dbfs:/FileStore/Bookimages/9782764354858.jpg",
         "9782764354858.jpg",
         807,
         1680628068000
        ],
        [
         "dbfs:/FileStore/Bookimages/9782764354865.jpg",
         "9782764354865.jpg",
         807,
         1680637387000
        ],
        [
         "dbfs:/FileStore/Bookimages/9782764354872.jpg",
         "9782764354872.jpg",
         807,
         1680637397000
        ],
        [
         "dbfs:/FileStore/Bookimages/9782764354926.jpg",
         "9782764354926.jpg",
         807,
         1680637408000
        ],
        [
         "dbfs:/FileStore/Bookimages/9782764354933.jpg",
         "9782764354933.jpg",
         807,
         1680637418000
        ],
        [
         "dbfs:/FileStore/Bookimages/9782764354957.jpg",
         "9782764354957.jpg",
         807,
         1680627994000
        ],
        [
         "dbfs:/FileStore/Bookimages/9782764354964.jpg",
         "9782764354964.jpg",
         807,
         1680628005000
        ],
        [
         "dbfs:/FileStore/Bookimages/9782764354971.jpg",
         "9782764354971.jpg",
         807,
         1680628015000
        ],
        [
         "dbfs:/FileStore/Bookimages/9782764355268.jpg",
         "9782764355268.jpg",
         807,
         1680637355000
        ],
        [
         "dbfs:/FileStore/Bookimages/9782764355275.jpg",
         "9782764355275.jpg",
         807,
         1680637366000
        ],
        [
         "dbfs:/FileStore/Bookimages/9782764355282.jpg",
         "9782764355282.jpg",
         807,
         1680637376000
        ],
        [
         "dbfs:/FileStore/Bookimages/9782764355299.jpg",
         "9782764355299.jpg",
         807,
         1680627984000
        ],
        [
         "dbfs:/FileStore/Bookimages/9782764355497.jpg",
         "9782764355497.jpg",
         807,
         1680637313000
        ],
        [
         "dbfs:/FileStore/Bookimages/9782764355725.jpg",
         "9782764355725.jpg",
         807,
         1680637324000
        ],
        [
         "dbfs:/FileStore/Bookimages/9782764355763.jpg",
         "9782764355763.jpg",
         807,
         1680637334000
        ],
        [
         "dbfs:/FileStore/Bookimages/9782764355817.jpg",
         "9782764355817.jpg",
         807,
         1680637345000
        ],
        [
         "dbfs:/FileStore/Bookimages/9783849917913.jpg",
         "9783849917913.jpg",
         807,
         1680632770000
        ],
        [
         "dbfs:/FileStore/Bookimages/9786267013557.jpg",
         "9786267013557.jpg",
         807,
         1680638644000
        ],
        [
         "dbfs:/FileStore/Bookimages/9786267013823.jpg",
         "9786267013823.jpg",
         807,
         1680639343000
        ],
        [
         "dbfs:/FileStore/Bookimages/9786267013830.jpg",
         "9786267013830.jpg",
         807,
         1680639354000
        ],
        [
         "dbfs:/FileStore/Bookimages/9788742551790.jpg",
         "9788742551790.jpg",
         807,
         1680632654000
        ],
        [
         "dbfs:/FileStore/Bookimages/9788742551837.jpg",
         "9788742551837.jpg",
         807,
         1680632664000
        ],
        [
         "dbfs:/FileStore/Bookimages/9788742551875.jpg",
         "9788742551875.jpg",
         807,
         1680632675000
        ],
        [
         "dbfs:/FileStore/Bookimages/9788742551912.jpg",
         "9788742551912.jpg",
         807,
         1680632685000
        ],
        [
         "dbfs:/FileStore/Bookimages/9788830305540.jpg",
         "9788830305540.jpg",
         807,
         1680624387000
        ],
        [
         "dbfs:/FileStore/Bookimages/9788830305601.jpg",
         "9788830305601.jpg",
         807,
         1680624398000
        ],
        [
         "dbfs:/FileStore/Bookimages/9788830305830.jpg",
         "9788830305830.jpg",
         807,
         1680624408000
        ],
        [
         "dbfs:/FileStore/Bookimages/9788830305946.jpg",
         "9788830305946.jpg",
         807,
         1680624419000
        ],
        [
         "dbfs:/FileStore/Bookimages/9788830306202.jpg",
         "9788830306202.jpg",
         807,
         1680624429000
        ],
        [
         "dbfs:/FileStore/Bookimages/9788830306233.jpg",
         "9788830306233.jpg",
         807,
         1680624440000
        ],
        [
         "dbfs:/FileStore/Bookimages/9788830306264.jpg",
         "9788830306264.jpg",
         807,
         1680624450000
        ],
        [
         "dbfs:/FileStore/Bookimages/9788830306295.jpg",
         "9788830306295.jpg",
         807,
         1680624461000
        ],
        [
         "dbfs:/FileStore/Bookimages/9788830307100.jpg",
         "9788830307100.jpg",
         807,
         1680624471000
        ],
        [
         "dbfs:/FileStore/Bookimages/9788830307186.jpg",
         "9788830307186.jpg",
         807,
         1680624482000
        ],
        [
         "dbfs:/FileStore/Bookimages/9788830307216.jpg",
         "9788830307216.jpg",
         807,
         1680624492000
        ],
        [
         "dbfs:/FileStore/Bookimages/9788830307223.jpg",
         "9788830307223.jpg",
         807,
         1680624503000
        ],
        [
         "dbfs:/FileStore/Bookimages/9788830307230.jpg",
         "9788830307230.jpg",
         807,
         1680624513000
        ],
        [
         "dbfs:/FileStore/Bookimages/9788830307247.jpg",
         "9788830307247.jpg",
         807,
         1680624524000
        ],
        [
         "dbfs:/FileStore/Bookimages/9788830307254.jpg",
         "9788830307254.jpg",
         807,
         1680624534000
        ],
        [
         "dbfs:/FileStore/Bookimages/9788830307261.jpg",
         "9788830307261.jpg",
         807,
         1680624545000
        ],
        [
         "dbfs:/FileStore/Bookimages/9788830307278.jpg",
         "9788830307278.jpg",
         807,
         1680624556000
        ],
        [
         "dbfs:/FileStore/Bookimages/9788830307285.jpg",
         "9788830307285.jpg",
         807,
         1680624566000
        ],
        [
         "dbfs:/FileStore/Bookimages/9788830307445.jpg",
         "9788830307445.jpg",
         807,
         1680624577000
        ],
        [
         "dbfs:/FileStore/Bookimages/9788830307896.jpg",
         "9788830307896.jpg",
         807,
         1680624587000
        ],
        [
         "dbfs:/FileStore/Bookimages/9788830307919.jpg",
         "9788830307919.jpg",
         807,
         1680624598000
        ],
        [
         "dbfs:/FileStore/Bookimages/9788830308466.jpg",
         "9788830308466.jpg",
         807,
         1680624608000
        ],
        [
         "dbfs:/FileStore/Bookimages/9788830308503.jpg",
         "9788830308503.jpg",
         807,
         1680624619000
        ],
        [
         "dbfs:/FileStore/Bookimages/9788830308688.jpg",
         "9788830308688.jpg",
         807,
         1680624630000
        ],
        [
         "dbfs:/FileStore/Bookimages/9788830308718.jpg",
         "9788830308718.jpg",
         807,
         1680624293000
        ],
        [
         "dbfs:/FileStore/Bookimages/9788830309135.jpg",
         "9788830309135.jpg",
         807,
         1680624377000
        ],
        [
         "dbfs:/FileStore/Bookimages/9788854045477.jpg",
         "9788854045477.jpg",
         807,
         1680632538000
        ],
        [
         "dbfs:/FileStore/Bookimages/9788854045484.jpg",
         "9788854045484.jpg",
         807,
         1680632549000
        ],
        [
         "dbfs:/FileStore/Bookimages/9788855060066.jpg",
         "9788855060066.jpg",
         807,
         1680632559000
        ],
        [
         "dbfs:/FileStore/Bookimages/9788855060073.jpg",
         "9788855060073.jpg",
         807,
         1680632570000
        ],
        [
         "dbfs:/FileStore/Bookimages/9789390213665.jpg",
         "9789390213665.jpg",
         807,
         1680629696000
        ],
        [
         "dbfs:/FileStore/Bookimages/9789463781213.jpg",
         "9789463781213.jpg",
         807,
         1680632306000
        ],
        [
         "dbfs:/FileStore/Bookimages/9789463781220.jpg",
         "9789463781220.jpg",
         807,
         1680632317000
        ],
        [
         "dbfs:/FileStore/Bookimages/9789463781237.jpg",
         "9789463781237.jpg",
         807,
         1680632327000
        ],
        [
         "dbfs:/FileStore/Bookimages/9789463786973.jpg",
         "9789463786973.jpg",
         807,
         1680632338000
        ],
        [
         "dbfs:/FileStore/Bookimages/9789463786980.jpg",
         "9789463786980.jpg",
         807,
         1680632349000
        ],
        [
         "dbfs:/FileStore/Bookimages/9789463787055.jpg",
         "9789463787055.jpg",
         807,
         1680632359000
        ],
        [
         "dbfs:/FileStore/Bookimages/9789463789240.jpg",
         "9789463789240.jpg",
         807,
         1680632370000
        ],
        [
         "dbfs:/FileStore/Bookimages/9789463789783.jpg",
         "9789463789783.jpg",
         807,
         1680632380000
        ],
        [
         "dbfs:/FileStore/Bookimages/9789463789813.jpg",
         "9789463789813.jpg",
         807,
         1680632391000
        ],
        [
         "dbfs:/FileStore/Bookimages/9789463996518.jpg",
         "9789463996518.jpg",
         807,
         1680632401000
        ],
        [
         "dbfs:/FileStore/Bookimages/9789463996525.jpg",
         "9789463996525.jpg",
         807,
         1680632412000
        ],
        [
         "dbfs:/FileStore/Bookimages/9789464224023.jpg",
         "9789464224023.jpg",
         807,
         1680632422000
        ],
        [
         "dbfs:/FileStore/Bookimages/9789464224030.jpg",
         "9789464224030.jpg",
         807,
         1680632433000
        ],
        [
         "dbfs:/FileStore/Bookimages/9789464224047.jpg",
         "9789464224047.jpg",
         807,
         1680632443000
        ],
        [
         "dbfs:/FileStore/Bookimages/9789464224696.jpg",
         "9789464224696.jpg",
         807,
         1680632454000
        ],
        [
         "dbfs:/FileStore/Bookimages/9789464224702.jpg",
         "9789464224702.jpg",
         807,
         1680632464000
        ],
        [
         "dbfs:/FileStore/Bookimages/9789464224719.jpg",
         "9789464224719.jpg",
         807,
         1680632475000
        ],
        [
         "dbfs:/FileStore/Bookimages/9789464224726.jpg",
         "9789464224726.jpg",
         807,
         1680632485000
        ],
        [
         "dbfs:/FileStore/Bookimages/9789464229691.jpg",
         "9789464229691.jpg",
         807,
         1680632496000
        ],
        [
         "dbfs:/FileStore/Bookimages/9789464229707.jpg",
         "9789464229707.jpg",
         807,
         1680632506000
        ],
        [
         "dbfs:/FileStore/Bookimages/9789464229714.jpg",
         "9789464229714.jpg",
         807,
         1680632517000
        ],
        [
         "dbfs:/FileStore/Bookimages/9789464229721.jpg",
         "9789464229721.jpg",
         807,
         1680632528000
        ],
        [
         "dbfs:/FileStore/Bookimages/9789464229936.jpg",
         "9789464229936.jpg",
         807,
         1680633972000
        ],
        [
         "dbfs:/FileStore/Bookimages/9789464229943.jpg",
         "9789464229943.jpg",
         807,
         1680632696000
        ],
        [
         "dbfs:/FileStore/Bookimages/9789578930162.jpg",
         "9789578930162.jpg",
         807,
         1680639006000
        ],
        [
         "dbfs:/FileStore/Bookimages/9789578930179.jpg",
         "9789578930179.jpg",
         807,
         1680639017000
        ],
        [
         "dbfs:/FileStore/Bookimages/9789578930216.jpg",
         "9789578930216.jpg",
         807,
         1680639027000
        ],
        [
         "dbfs:/FileStore/Bookimages/9789578930223.jpg",
         "9789578930223.jpg",
         807,
         1680639038000
        ],
        [
         "dbfs:/FileStore/Bookimages/9789578930230.jpg",
         "9789578930230.jpg",
         807,
         1680639048000
        ],
        [
         "dbfs:/FileStore/Bookimages/9789578930247.jpg",
         "9789578930247.jpg",
         807,
         1680639059000
        ],
        [
         "dbfs:/FileStore/Bookimages/9789578930339.jpg",
         "9789578930339.jpg",
         807,
         1680639070000
        ],
        [
         "dbfs:/FileStore/Bookimages/9789578930346.jpg",
         "9789578930346.jpg",
         807,
         1680639080000
        ],
        [
         "dbfs:/FileStore/Bookimages/9789578930353.jpg",
         "9789578930353.jpg",
         807,
         1680639091000
        ],
        [
         "dbfs:/FileStore/Bookimages/9789578930360.jpg",
         "9789578930360.jpg",
         807,
         1680639101000
        ],
        [
         "dbfs:/FileStore/Bookimages/9789578930643.jpg",
         "9789578930643.jpg",
         807,
         1680639112000
        ],
        [
         "dbfs:/FileStore/Bookimages/9789578930742.jpg",
         "9789578930742.jpg",
         807,
         1680639122000
        ],
        [
         "dbfs:/FileStore/Bookimages/9789578930759.jpg",
         "9789578930759.jpg",
         807,
         1680639133000
        ],
        [
         "dbfs:/FileStore/Bookimages/9789578930773.jpg",
         "9789578930773.jpg",
         807,
         1680639143000
        ],
        [
         "dbfs:/FileStore/Bookimages/9789578930803.jpg",
         "9789578930803.jpg",
         807,
         1680639154000
        ],
        [
         "dbfs:/FileStore/Bookimages/9789578930810.jpg",
         "9789578930810.jpg",
         807,
         1680639164000
        ],
        [
         "dbfs:/FileStore/Bookimages/9789578930872.jpg",
         "9789578930872.jpg",
         807,
         1680639175000
        ],
        [
         "dbfs:/FileStore/Bookimages/9789578930889.jpg",
         "9789578930889.jpg",
         807,
         1680639333000
        ],
        [
         "dbfs:/FileStore/Bookimages/9789811185892.jpg",
         "9789811185892.jpg",
         807,
         1680623739000
        ],
        [
         "dbfs:/FileStore/Bookimages/9789813372306.jpg",
         "9789813372306.jpg",
         807,
         1680624207000
        ],
        [
         "dbfs:/FileStore/Bookimages/9789813372320.jpg",
         "9789813372320.jpg",
         807,
         1680624079000
        ],
        [
         "dbfs:/FileStore/Bookimages/9789814880220.jpg",
         "9789814880220.jpg",
         807,
         1680623802000
        ],
        [
         "dbfs:/FileStore/Bookimages/9789814880237.jpg",
         "9789814880237.jpg",
         807,
         1680623813000
        ],
        [
         "dbfs:/FileStore/Bookimages/9789814918008.jpg",
         "9789814918008.jpg",
         807,
         1680620670000
        ],
        [
         "dbfs:/FileStore/Bookimages/9789814958783.jpg",
         "9789814958783.jpg",
         807,
         1680623760000
        ],
        [
         "dbfs:/FileStore/Bookimages/9789814961639.jpg",
         "9789814961639.jpg",
         807,
         1680623771000
        ],
        [
         "dbfs:/FileStore/Bookimages/9789814961646.jpg",
         "9789814961646.jpg",
         807,
         1680623781000
        ],
        [
         "dbfs:/FileStore/Bookimages/9789814961653.jpg",
         "9789814961653.jpg",
         807,
         1680623792000
        ],
        [
         "dbfs:/FileStore/Bookimages/9789815002720.jpg",
         "9789815002720.jpg",
         807,
         1680620680000
        ],
        [
         "dbfs:/FileStore/Bookimages/9789815002737.jpg",
         "9789815002737.jpg",
         807,
         1680620691000
        ],
        [
         "dbfs:/FileStore/Bookimages/9789815002744.jpg",
         "9789815002744.jpg",
         807,
         1680620701000
        ],
        [
         "dbfs:/FileStore/Bookimages/9789815022667.jpg",
         "9789815022667.jpg",
         807,
         1680620712000
        ],
        [
         "dbfs:/FileStore/Bookimages/9789815022810.jpg",
         "9789815022810.jpg",
         807,
         1680623750000
        ],
        [
         "dbfs:/FileStore/Bookimages/9789865528508.jpg",
         "9789865528508.jpg",
         807,
         1680639301000
        ],
        [
         "dbfs:/FileStore/Bookimages/9789865528621.jpg",
         "9789865528621.jpg",
         807,
         1680634004000
        ],
        [
         "dbfs:/FileStore/Bookimages/9789865528638.jpg",
         "9789865528638.jpg",
         807,
         1680639312000
        ],
        [
         "dbfs:/FileStore/Bookimages/9789865528683.jpg",
         "9789865528683.jpg",
         807,
         1680639322000
        ],
        [
         "dbfs:/FileStore/Bookimages/9789869369947.jpg",
         "9789869369947.jpg",
         807,
         1680639185000
        ],
        [
         "dbfs:/FileStore/Bookimages/9789869369992.jpg",
         "9789869369992.jpg",
         807,
         1680639196000
        ],
        [
         "dbfs:/FileStore/Bookimages/9789869502405.jpg",
         "9789869502405.jpg",
         807,
         1680639206000
        ],
        [
         "dbfs:/FileStore/Bookimages/9789869502412.jpg",
         "9789869502412.jpg",
         807,
         1680639217000
        ],
        [
         "dbfs:/FileStore/Bookimages/9789869502429.jpg",
         "9789869502429.jpg",
         807,
         1680639227000
        ],
        [
         "dbfs:/FileStore/Bookimages/9789869502443.jpg",
         "9789869502443.jpg",
         807,
         1680639238000
        ],
        [
         "dbfs:/FileStore/Bookimages/9789869502450.jpg",
         "9789869502450.jpg",
         807,
         1680639249000
        ],
        [
         "dbfs:/FileStore/Bookimages/9789869502467.jpg",
         "9789869502467.jpg",
         807,
         1680639259000
        ],
        [
         "dbfs:/FileStore/Bookimages/9789869502474.jpg",
         "9789869502474.jpg",
         807,
         1680639270000
        ],
        [
         "dbfs:/FileStore/Bookimages/9789869502481.jpg",
         "9789869502481.jpg",
         807,
         1680639280000
        ],
        [
         "dbfs:/FileStore/Bookimages/9789869598002.jpg",
         "9789869598002.jpg",
         807,
         1680639291000
        ],
        [
         "dbfs:/FileStore/Bookimages/UK.jpg",
         "UK.jpg",
         807,
         1680630965000
        ]
       ],
       "datasetInfos": [],
       "dbfsResultPath": null,
       "isJsonSchema": true,
       "metadata": {},
       "overflow": false,
       "plotOptions": {
        "customPlotOptions": {},
        "displayType": "table",
        "pivotAggregation": null,
        "pivotColumns": null,
        "xColumns": null,
        "yColumns": null
       },
       "removedWidgets": [],
       "schema": [
        {
         "metadata": "{}",
         "name": "path",
         "type": "\"string\""
        },
        {
         "metadata": "{}",
         "name": "name",
         "type": "\"string\""
        },
        {
         "metadata": "{}",
         "name": "size",
         "type": "\"long\""
        },
        {
         "metadata": "{}",
         "name": "modificationTime",
         "type": "\"long\""
        }
       ],
       "type": "table"
      }
     },
     "output_type": "display_data"
    }
   ],
   "source": [
    "display(dbutils.fs.ls(\"/FileStore/Bookimages\"))\n",
    "# display(dbutils.fs.ls(\"/FileStore/Bookimages2022\"))"
   ]
  },
  {
   "cell_type": "code",
   "execution_count": 0,
   "metadata": {
    "application/vnd.databricks.v1+cell": {
     "cellMetadata": {
      "byteLimit": 2048000,
      "rowLimit": 10000
     },
     "inputWidgets": {},
     "nuid": "c958d3e2-941b-4a83-89bb-a7756f56095c",
     "showTitle": false,
     "title": ""
    }
   },
   "outputs": [
    {
     "output_type": "display_data",
     "data": {
      "text/html": [
       "<style scoped>\n",
       "  .ansiout {\n",
       "    display: block;\n",
       "    unicode-bidi: embed;\n",
       "    white-space: pre-wrap;\n",
       "    word-wrap: break-word;\n",
       "    word-break: break-all;\n",
       "    font-family: \"Source Code Pro\", \"Menlo\", monospace;;\n",
       "    font-size: 13px;\n",
       "    color: #555;\n",
       "    margin-left: 4px;\n",
       "    line-height: 19px;\n",
       "  }\n",
       "</style>\n",
       "<div class=\"ansiout\">Out[2]: True</div>"
      ]
     },
     "metadata": {
      "application/vnd.databricks.v1+output": {
       "addedWidgets": {},
       "arguments": {},
       "data": "<div class=\"ansiout\">Out[2]: True</div>",
       "datasetInfos": [],
       "metadata": {},
       "removedWidgets": [],
       "type": "html"
      }
     },
     "output_type": "display_data"
    }
   ],
   "source": [
    "dbutils.fs.mkdirs(\"/FileStore/Bookimages2022\")"
   ]
  },
  {
   "cell_type": "code",
   "execution_count": 0,
   "metadata": {
    "application/vnd.databricks.v1+cell": {
     "cellMetadata": {
      "byteLimit": 2048000,
      "rowLimit": 10000
     },
     "inputWidgets": {},
     "nuid": "b7aca14d-e71f-49c2-9f2b-44e609352638",
     "showTitle": false,
     "title": ""
    }
   },
   "outputs": [
    {
     "output_type": "display_data",
     "data": {
      "text/html": [
       "<img src ='/files/Bookimages2022/9780375705922.jpg'>"
      ]
     },
     "metadata": {
      "application/vnd.databricks.v1+output": {
       "addedWidgets": {},
       "arguments": {},
       "data": "<img src ='/files/Bookimages2022/9780375705922.jpg'>",
       "datasetInfos": [],
       "metadata": {},
       "removedWidgets": [],
       "textData": null,
       "type": "htmlSandbox"
      }
     },
     "output_type": "display_data"
    }
   ],
   "source": [
    "displayHTML(\"<img src ='/files/Bookimages2022/9780375705922.jpg'>\")"
   ]
  },
  {
   "cell_type": "code",
   "execution_count": 0,
   "metadata": {
    "application/vnd.databricks.v1+cell": {
     "cellMetadata": {
      "byteLimit": 2048000,
      "rowLimit": 10000
     },
     "inputWidgets": {},
     "nuid": "ca3f693d-ffeb-42ef-bb4c-9ad0fa255b0d",
     "showTitle": false,
     "title": ""
    }
   },
   "outputs": [
    {
     "output_type": "display_data",
     "data": {
      "image/png": "[encoded data removed]"
     },
     "metadata": {
      "application/vnd.databricks.v1+output": {
       "addedWidgets": {},
       "arguments": {},
       "data": "data:image/png;base64,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",
       "datasetInfos": [],
       "metadata": {
        "imageDimensions": {
         "height": 248,
         "width": 378
        }
       },
       "removedWidgets": [],
       "type": "image"
      },
      "image/png": {
       "height": 248,
       "width": 378
      }
     },
     "output_type": "display_data"
    }
   ],
   "source": [
    "import matplotlib.pyplot as plt\n",
    "plt.scatter(x=[1,2,3], y=[2,4,3])\n",
    "plt.savefig('/dbfs/FileStore/figure.png')"
   ]
  },
  {
   "cell_type": "code",
   "execution_count": 0,
   "metadata": {
    "application/vnd.databricks.v1+cell": {
     "cellMetadata": {
      "byteLimit": 2048000,
      "rowLimit": 10000
     },
     "inputWidgets": {},
     "nuid": "46fa1799-5f43-4823-b026-bedd907f1bee",
     "showTitle": false,
     "title": ""
    }
   },
   "outputs": [
    {
     "output_type": "display_data",
     "data": {
      "text/html": [
       "<style scoped>\n",
       "  .ansiout {\n",
       "    display: block;\n",
       "    unicode-bidi: embed;\n",
       "    white-space: pre-wrap;\n",
       "    word-wrap: break-word;\n",
       "    word-break: break-all;\n",
       "    font-family: \"Source Code Pro\", \"Menlo\", monospace;;\n",
       "    font-size: 13px;\n",
       "    color: #555;\n",
       "    margin-left: 4px;\n",
       "    line-height: 19px;\n",
       "  }\n",
       "</style>\n",
       "<div class=\"ansiout\">Out[25]: (&#39;/dbfs/FileStore/bookImages/11119781783931835.jpg&#39;,\n",
       " &lt;http.client.HTTPMessage at 0x7f4b482583d0&gt;)</div>"
      ]
     },
     "metadata": {
      "application/vnd.databricks.v1+output": {
       "addedWidgets": {},
       "arguments": {},
       "data": "<div class=\"ansiout\">Out[25]: (&#39;/dbfs/FileStore/bookImages/11119781783931835.jpg&#39;,\n &lt;http.client.HTTPMessage at 0x7f4b482583d0&gt;)</div>",
       "datasetInfos": [],
       "metadata": {},
       "removedWidgets": [],
       "type": "html"
      }
     },
     "output_type": "display_data"
    }
   ],
   "source": [
    "urllib.request.urlretrieve(\"https://covers.openlibrary.org/b/isbn/9781783931835-S.jpg\", \"/dbfs/FileStore/bookImages/11119781783931835.jpg\")"
   ]
  }
 ],
 "metadata": {
  "application/vnd.databricks.v1+notebook": {
   "dashboards": [],
   "language": "python",
   "notebookMetadata": {
    "pythonIndentUnit": 4
   },
   "notebookName": "iamge for all",
   "notebookOrigID": 228702662181001,
   "widgets": {}
  }
 },
 "nbformat": 4,
 "nbformat_minor": 0
}
