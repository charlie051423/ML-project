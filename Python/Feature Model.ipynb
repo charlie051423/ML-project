{
 "cells": [
  {
   "cell_type": "code",
   "execution_count": 0,
   "metadata": {
    "application/vnd.databricks.v1+cell": {
     "cellMetadata": {
      "byteLimit": 2048000,
      "rowLimit": 10000
     },
     "inputWidgets": {},
     "nuid": "2c66d527-f0f8-4cd2-84b0-c8ad51c917a4",
     "showTitle": false,
     "title": ""
    }
   },
   "outputs": [
    {
     "output_type": "display_data",
     "data": {
      "text/html": [
       "<style scoped>\n",
       "  .ansiout {\n",
       "    display: block;\n",
       "    unicode-bidi: embed;\n",
       "    white-space: pre-wrap;\n",
       "    word-wrap: break-word;\n",
       "    word-break: break-all;\n",
       "    font-family: \"Source Code Pro\", \"Menlo\", monospace;;\n",
       "    font-size: 13px;\n",
       "    color: #555;\n",
       "    margin-left: 4px;\n",
       "    line-height: 19px;\n",
       "  }\n",
       "</style>\n",
       "<div class=\"ansiout\"></div>"
      ]
     },
     "metadata": {
      "application/vnd.databricks.v1+output": {
       "addedWidgets": {},
       "arguments": {},
       "data": "<div class=\"ansiout\"></div>",
       "datasetInfos": [],
       "metadata": {},
       "removedWidgets": [],
       "type": "html"
      }
     },
     "output_type": "display_data"
    },
    {
     "output_type": "display_data",
     "data": {
      "text/html": [
       "<style scoped>\n",
       "  .ansiout {\n",
       "    display: block;\n",
       "    unicode-bidi: embed;\n",
       "    white-space: pre-wrap;\n",
       "    word-wrap: break-word;\n",
       "    word-break: break-all;\n",
       "    font-family: \"Source Code Pro\", \"Menlo\", monospace;;\n",
       "    font-size: 13px;\n",
       "    color: #555;\n",
       "    margin-left: 4px;\n",
       "    line-height: 19px;\n",
       "  }\n",
       "</style>\n",
       "<div class=\"ansiout\"><span class=\"ansi-red-fg\">---------------------------------------------------------------------------</span>\n",
       "<span class=\"ansi-red-fg\">ModuleNotFoundError</span>                       Traceback (most recent call last)\n",
       "<span class=\"ansi-green-fg\">&lt;command-556958884330244&gt;</span> in <span class=\"ansi-cyan-fg\">&lt;module&gt;</span>\n",
       "<span class=\"ansi-green-intense-fg ansi-bold\">     16</span> <span class=\"ansi-green-fg\">from</span> sklearn<span class=\"ansi-blue-fg\">.</span>metrics <span class=\"ansi-green-fg\">import</span> classification_report\n",
       "<span class=\"ansi-green-intense-fg ansi-bold\">     17</span> <span class=\"ansi-green-fg\">from</span> collections <span class=\"ansi-green-fg\">import</span> Counter\n",
       "<span class=\"ansi-green-fg\">---&gt; 18</span><span class=\"ansi-red-fg\"> </span><span class=\"ansi-green-fg\">import</span> visualkeras\n",
       "<span class=\"ansi-green-intense-fg ansi-bold\">     19</span> <span class=\"ansi-green-fg\">from</span> PIL <span class=\"ansi-green-fg\">import</span> ImageFont\n",
       "\n",
       "<span class=\"ansi-green-fg\">/databricks/python_shell/dbruntime/PythonPackageImportsInstrumentation/__init__.py</span> in <span class=\"ansi-cyan-fg\">import_patch</span><span class=\"ansi-blue-fg\">(name, globals, locals, fromlist, level)</span>\n",
       "<span class=\"ansi-green-intense-fg ansi-bold\">    165</span>             <span class=\"ansi-red-fg\"># Import the desired module. If you’re seeing this while debugging a failed import,</span>\n",
       "<span class=\"ansi-green-intense-fg ansi-bold\">    166</span>             <span class=\"ansi-red-fg\"># look at preceding stack frames for relevant error information.</span>\n",
       "<span class=\"ansi-green-fg\">--&gt; 167</span><span class=\"ansi-red-fg\">             </span>original_result <span class=\"ansi-blue-fg\">=</span> python_builtin_import<span class=\"ansi-blue-fg\">(</span>name<span class=\"ansi-blue-fg\">,</span> globals<span class=\"ansi-blue-fg\">,</span> locals<span class=\"ansi-blue-fg\">,</span> fromlist<span class=\"ansi-blue-fg\">,</span> level<span class=\"ansi-blue-fg\">)</span>\n",
       "<span class=\"ansi-green-intense-fg ansi-bold\">    168</span> \n",
       "<span class=\"ansi-green-intense-fg ansi-bold\">    169</span>             is_root_import <span class=\"ansi-blue-fg\">=</span> thread_local<span class=\"ansi-blue-fg\">.</span>_nest_level <span class=\"ansi-blue-fg\">==</span> <span class=\"ansi-cyan-fg\">1</span>\n",
       "\n",
       "<span class=\"ansi-red-fg\">ModuleNotFoundError</span>: No module named &#39;visualkeras&#39;</div>"
      ]
     },
     "metadata": {
      "application/vnd.databricks.v1+output": {
       "arguments": {},
       "data": "<div class=\"ansiout\"><span class=\"ansi-red-fg\">---------------------------------------------------------------------------</span>\n<span class=\"ansi-red-fg\">ModuleNotFoundError</span>                       Traceback (most recent call last)\n<span class=\"ansi-green-fg\">&lt;command-556958884330244&gt;</span> in <span class=\"ansi-cyan-fg\">&lt;module&gt;</span>\n<span class=\"ansi-green-intense-fg ansi-bold\">     16</span> <span class=\"ansi-green-fg\">from</span> sklearn<span class=\"ansi-blue-fg\">.</span>metrics <span class=\"ansi-green-fg\">import</span> classification_report\n<span class=\"ansi-green-intense-fg ansi-bold\">     17</span> <span class=\"ansi-green-fg\">from</span> collections <span class=\"ansi-green-fg\">import</span> Counter\n<span class=\"ansi-green-fg\">---&gt; 18</span><span class=\"ansi-red-fg\"> </span><span class=\"ansi-green-fg\">import</span> visualkeras\n<span class=\"ansi-green-intense-fg ansi-bold\">     19</span> <span class=\"ansi-green-fg\">from</span> PIL <span class=\"ansi-green-fg\">import</span> ImageFont\n\n<span class=\"ansi-green-fg\">/databricks/python_shell/dbruntime/PythonPackageImportsInstrumentation/__init__.py</span> in <span class=\"ansi-cyan-fg\">import_patch</span><span class=\"ansi-blue-fg\">(name, globals, locals, fromlist, level)</span>\n<span class=\"ansi-green-intense-fg ansi-bold\">    165</span>             <span class=\"ansi-red-fg\"># Import the desired module. If you’re seeing this while debugging a failed import,</span>\n<span class=\"ansi-green-intense-fg ansi-bold\">    166</span>             <span class=\"ansi-red-fg\"># look at preceding stack frames for relevant error information.</span>\n<span class=\"ansi-green-fg\">--&gt; 167</span><span class=\"ansi-red-fg\">             </span>original_result <span class=\"ansi-blue-fg\">=</span> python_builtin_import<span class=\"ansi-blue-fg\">(</span>name<span class=\"ansi-blue-fg\">,</span> globals<span class=\"ansi-blue-fg\">,</span> locals<span class=\"ansi-blue-fg\">,</span> fromlist<span class=\"ansi-blue-fg\">,</span> level<span class=\"ansi-blue-fg\">)</span>\n<span class=\"ansi-green-intense-fg ansi-bold\">    168</span> \n<span class=\"ansi-green-intense-fg ansi-bold\">    169</span>             is_root_import <span class=\"ansi-blue-fg\">=</span> thread_local<span class=\"ansi-blue-fg\">.</span>_nest_level <span class=\"ansi-blue-fg\">==</span> <span class=\"ansi-cyan-fg\">1</span>\n\n<span class=\"ansi-red-fg\">ModuleNotFoundError</span>: No module named &#39;visualkeras&#39;</div>",
       "errorSummary": "<span class=\"ansi-red-fg\">ModuleNotFoundError</span>: No module named &#39;visualkeras&#39;",
       "errorTraceType": "html",
       "metadata": {},
       "type": "ipynbError"
      }
     },
     "output_type": "display_data"
    }
   ],
   "source": [
    "import os\n",
    "import tensorflow as tf\n",
    "import pandas as pd\n",
    "from sklearn.model_selection import train_test_split\n",
    "from tensorflow import keras\n",
    "from tensorflow.keras import layers\n",
    "from tensorflow.keras.layers import IntegerLookup\n",
    "from tensorflow.keras.layers import Normalization\n",
    "from tensorflow.keras.layers import StringLookup\n",
    "import matplotlib.pyplot as plt\n",
    "from tensorflow.keras.optimizers import SGD\n",
    "from tensorflow.keras.optimizers import Adam\n",
    "from sklearn.preprocessing import minmax_scale\n",
    "from sklearn.preprocessing import LabelEncoder\n",
    "import numpy as np\n",
    "from sklearn.metrics import classification_report\n",
    "from collections import Counter\n",
    "import visualkeras\n",
    "from PIL import ImageFont"
   ]
  },
  {
   "cell_type": "code",
   "execution_count": 0,
   "metadata": {
    "application/vnd.databricks.v1+cell": {
     "cellMetadata": {
      "byteLimit": 2048000,
      "rowLimit": 10000
     },
     "inputWidgets": {},
     "nuid": "43eeb4c0-041d-436a-9e77-568750eae820",
     "showTitle": false,
     "title": ""
    }
   },
   "outputs": [
    {
     "output_type": "display_data",
     "data": {
      "text/html": [
       "<style scoped>\n",
       "  .ansiout {\n",
       "    display: block;\n",
       "    unicode-bidi: embed;\n",
       "    white-space: pre-wrap;\n",
       "    word-wrap: break-word;\n",
       "    word-break: break-all;\n",
       "    font-family: \"Source Code Pro\", \"Menlo\", monospace;;\n",
       "    font-size: 13px;\n",
       "    color: #555;\n",
       "    margin-left: 4px;\n",
       "    line-height: 19px;\n",
       "  }\n",
       "</style>\n",
       "<div class=\"ansiout\"></div>"
      ]
     },
     "metadata": {
      "application/vnd.databricks.v1+output": {
       "addedWidgets": {},
       "arguments": {},
       "data": "<div class=\"ansiout\"></div>",
       "datasetInfos": [],
       "metadata": {},
       "removedWidgets": [],
       "type": "html"
      }
     },
     "output_type": "display_data"
    }
   ],
   "source": [
    "container =\"data1\"\n",
    "data_path = f\"abfss://{container}@capstone2023cuhk.dfs.core.windows.net/\"\n",
    "df = spark.read.csv(os.path.join(data_path, \"AML-data\", \"Actual_Data_2021-2022\", \"ITEM_MATCHING_2021_BOOKS.csv\"), header=True)\n",
    "df2 = spark.read.csv(os.path.join(data_path, \"AML-data\", \"Actual_Data_2021-2022\", \"ITEM_MATCHING_2022_BOOKS.csv\"), header=True)\n",
    "df = df.toPandas()\n",
    "df2 = df2.toPandas()\n",
    "df = df.loc[df['PRICE']!='0']\n",
    "df = df.loc[df['QTY_SALES']!='0']\n",
    "df2 = df2.loc[df2['PRICE']!='0']\n",
    "df2 = df2.loc[df2['QTY_SALES']!='0']\n",
    "# df.loc[df['QTY_SALES']=='MBI       ']\n",
    "df = df.drop(index=[583])"
   ]
  },
  {
   "cell_type": "code",
   "execution_count": 0,
   "metadata": {
    "application/vnd.databricks.v1+cell": {
     "cellMetadata": {
      "byteLimit": 2048000,
      "rowLimit": 10000
     },
     "inputWidgets": {},
     "nuid": "1062eefe-97a2-4a35-9404-1b5dd5d2aeb2",
     "showTitle": false,
     "title": ""
    }
   },
   "outputs": [
    {
     "output_type": "display_data",
     "data": {
      "text/html": [
       "<style scoped>\n",
       "  .ansiout {\n",
       "    display: block;\n",
       "    unicode-bidi: embed;\n",
       "    white-space: pre-wrap;\n",
       "    word-wrap: break-word;\n",
       "    word-break: break-all;\n",
       "    font-family: \"Source Code Pro\", \"Menlo\", monospace;;\n",
       "    font-size: 13px;\n",
       "    color: #555;\n",
       "    margin-left: 4px;\n",
       "    line-height: 19px;\n",
       "  }\n",
       "</style>\n",
       "<div class=\"ansiout\"></div>"
      ]
     },
     "metadata": {
      "application/vnd.databricks.v1+output": {
       "addedWidgets": {},
       "arguments": {},
       "data": "<div class=\"ansiout\"></div>",
       "datasetInfos": [],
       "metadata": {},
       "removedWidgets": [],
       "type": "html"
      }
     },
     "output_type": "display_data"
    }
   ],
   "source": [
    "VENDORList = set(df['VENDOR'].str.strip().unique()) & set(df2['VENDOR'].str.strip().unique())\n",
    "df = df[df['VENDOR'].str.strip().isin(VENDORList)]\n",
    "df2 = df2[df2['VENDOR'].str.strip().isin(VENDORList)]"
   ]
  },
  {
   "cell_type": "code",
   "execution_count": 0,
   "metadata": {
    "application/vnd.databricks.v1+cell": {
     "cellMetadata": {
      "byteLimit": 2048000,
      "rowLimit": 10000
     },
     "inputWidgets": {},
     "nuid": "e9aedf21-2824-40b5-a6f0-cb9846922cc3",
     "showTitle": false,
     "title": ""
    }
   },
   "outputs": [
    {
     "output_type": "display_data",
     "data": {
      "text/html": [
       "<style scoped>\n",
       "  .ansiout {\n",
       "    display: block;\n",
       "    unicode-bidi: embed;\n",
       "    white-space: pre-wrap;\n",
       "    word-wrap: break-word;\n",
       "    word-break: break-all;\n",
       "    font-family: \"Source Code Pro\", \"Menlo\", monospace;;\n",
       "    font-size: 13px;\n",
       "    color: #555;\n",
       "    margin-left: 4px;\n",
       "    line-height: 19px;\n",
       "  }\n",
       "</style>\n",
       "<div class=\"ansiout\"></div>"
      ]
     },
     "metadata": {
      "application/vnd.databricks.v1+output": {
       "addedWidgets": {},
       "arguments": {},
       "data": "<div class=\"ansiout\"></div>",
       "datasetInfos": [],
       "metadata": {},
       "removedWidgets": [],
       "type": "html"
      }
     },
     "output_type": "display_data"
    }
   ],
   "source": [
    "BRANDList = set(df['BRAND'].str.strip().unique()) & set(df2['BRAND'].str.strip().unique())\n",
    "df = df[df['BRAND'].str.strip().isin(BRANDList)]\n",
    "df2 = df2[df2['BRAND'].str.strip().isin(BRANDList)]"
   ]
  },
  {
   "cell_type": "code",
   "execution_count": 0,
   "metadata": {
    "application/vnd.databricks.v1+cell": {
     "cellMetadata": {
      "byteLimit": 2048000,
      "rowLimit": 10000
     },
     "inputWidgets": {},
     "nuid": "ab1d0723-e05d-4f29-bf40-a7d5f30ad223",
     "showTitle": false,
     "title": ""
    }
   },
   "outputs": [
    {
     "output_type": "display_data",
     "data": {
      "text/html": [
       "<style scoped>\n",
       "  .ansiout {\n",
       "    display: block;\n",
       "    unicode-bidi: embed;\n",
       "    white-space: pre-wrap;\n",
       "    word-wrap: break-word;\n",
       "    word-break: break-all;\n",
       "    font-family: \"Source Code Pro\", \"Menlo\", monospace;;\n",
       "    font-size: 13px;\n",
       "    color: #555;\n",
       "    margin-left: 4px;\n",
       "    line-height: 19px;\n",
       "  }\n",
       "</style>\n",
       "<div class=\"ansiout\"></div>"
      ]
     },
     "metadata": {
      "application/vnd.databricks.v1+output": {
       "addedWidgets": {},
       "arguments": {},
       "data": "<div class=\"ansiout\"></div>",
       "datasetInfos": [],
       "metadata": {},
       "removedWidgets": [],
       "type": "html"
      }
     },
     "output_type": "display_data"
    }
   ],
   "source": [
    "PRD_CATEGORYList = set(df['PRD_CATEGORY'].str.strip().unique()) & set(df2['PRD_CATEGORY'].str.strip().unique())\n",
    "df = df[df['PRD_CATEGORY'].str.strip().isin(PRD_CATEGORYList)]\n",
    "df2 = df2[df2['PRD_CATEGORY'].str.strip().isin(PRD_CATEGORYList)]"
   ]
  },
  {
   "cell_type": "code",
   "execution_count": 0,
   "metadata": {
    "application/vnd.databricks.v1+cell": {
     "cellMetadata": {
      "byteLimit": 2048000,
      "rowLimit": 10000
     },
     "inputWidgets": {},
     "nuid": "455ca58a-687e-4aa3-a22d-86af25fd0a7c",
     "showTitle": false,
     "title": ""
    }
   },
   "outputs": [
    {
     "output_type": "display_data",
     "data": {
      "text/html": [
       "<style scoped>\n",
       "  .ansiout {\n",
       "    display: block;\n",
       "    unicode-bidi: embed;\n",
       "    white-space: pre-wrap;\n",
       "    word-wrap: break-word;\n",
       "    word-break: break-all;\n",
       "    font-family: \"Source Code Pro\", \"Menlo\", monospace;;\n",
       "    font-size: 13px;\n",
       "    color: #555;\n",
       "    margin-left: 4px;\n",
       "    line-height: 19px;\n",
       "  }\n",
       "</style>\n",
       "<div class=\"ansiout\"></div>"
      ]
     },
     "metadata": {
      "application/vnd.databricks.v1+output": {
       "addedWidgets": {},
       "arguments": {},
       "data": "<div class=\"ansiout\"></div>",
       "datasetInfos": [],
       "metadata": {},
       "removedWidgets": [],
       "type": "html"
      }
     },
     "output_type": "display_data"
    }
   ],
   "source": [
    "PRD_ORIGINList = set(df['PRD_ORIGIN'].str.strip().unique()) & set(df2['PRD_ORIGIN'].str.strip().unique())\n",
    "df = df[df['PRD_ORIGIN'].str.strip().isin(PRD_ORIGINList)]\n",
    "df2 = df2[df2['PRD_ORIGIN'].str.strip().isin(PRD_ORIGINList)]"
   ]
  },
  {
   "cell_type": "code",
   "execution_count": 0,
   "metadata": {
    "application/vnd.databricks.v1+cell": {
     "cellMetadata": {
      "byteLimit": 2048000,
      "rowLimit": 10000
     },
     "inputWidgets": {},
     "nuid": "cfc2622b-825e-4c77-803b-30fdeaf446b4",
     "showTitle": false,
     "title": ""
    }
   },
   "outputs": [
    {
     "output_type": "display_data",
     "data": {
      "text/html": [
       "<style scoped>\n",
       "  .ansiout {\n",
       "    display: block;\n",
       "    unicode-bidi: embed;\n",
       "    white-space: pre-wrap;\n",
       "    word-wrap: break-word;\n",
       "    word-break: break-all;\n",
       "    font-family: \"Source Code Pro\", \"Menlo\", monospace;;\n",
       "    font-size: 13px;\n",
       "    color: #555;\n",
       "    margin-left: 4px;\n",
       "    line-height: 19px;\n",
       "  }\n",
       "</style>\n",
       "<div class=\"ansiout\"></div>"
      ]
     },
     "metadata": {
      "application/vnd.databricks.v1+output": {
       "addedWidgets": {},
       "arguments": {},
       "data": "<div class=\"ansiout\"></div>",
       "datasetInfos": [],
       "metadata": {},
       "removedWidgets": [],
       "type": "html"
      }
     },
     "output_type": "display_data"
    }
   ],
   "source": [
    "PUBLISHERList = set(df['PUBLISHER'].str.strip().unique()) & set(df2['PUBLISHER'].str.strip().unique())\n",
    "df = df[df['PUBLISHER'].str.strip().isin(PUBLISHERList)]\n",
    "df2 = df2[df2['PUBLISHER'].str.strip().isin(PUBLISHERList)]"
   ]
  },
  {
   "cell_type": "code",
   "execution_count": 0,
   "metadata": {
    "application/vnd.databricks.v1+cell": {
     "cellMetadata": {
      "byteLimit": 2048000,
      "rowLimit": 10000
     },
     "inputWidgets": {},
     "nuid": "c6ba95ee-8938-46fb-b7b4-94d55521866b",
     "showTitle": false,
     "title": ""
    }
   },
   "outputs": [
    {
     "output_type": "display_data",
     "data": {
      "text/html": [
       "<style scoped>\n",
       "  .ansiout {\n",
       "    display: block;\n",
       "    unicode-bidi: embed;\n",
       "    white-space: pre-wrap;\n",
       "    word-wrap: break-word;\n",
       "    word-break: break-all;\n",
       "    font-family: \"Source Code Pro\", \"Menlo\", monospace;;\n",
       "    font-size: 13px;\n",
       "    color: #555;\n",
       "    margin-left: 4px;\n",
       "    line-height: 19px;\n",
       "  }\n",
       "</style>\n",
       "<div class=\"ansiout\"></div>"
      ]
     },
     "metadata": {
      "application/vnd.databricks.v1+output": {
       "addedWidgets": {},
       "arguments": {},
       "data": "<div class=\"ansiout\"></div>",
       "datasetInfos": [],
       "metadata": {},
       "removedWidgets": [],
       "type": "html"
      }
     },
     "output_type": "display_data"
    }
   ],
   "source": [
    "df2 = df2.loc[df2['BRAND']!='S-ZONE  ']\n",
    "df2 = df2.loc[df2['VENDOR']!='HINKLER   ']"
   ]
  },
  {
   "cell_type": "code",
   "execution_count": 0,
   "metadata": {
    "application/vnd.databricks.v1+cell": {
     "cellMetadata": {
      "byteLimit": 2048000,
      "rowLimit": 10000
     },
     "inputWidgets": {},
     "nuid": "7a8546d9-c4d7-4d24-a832-2c3dd5a83220",
     "showTitle": false,
     "title": ""
    }
   },
   "outputs": [
    {
     "output_type": "display_data",
     "data": {
      "text/html": [
       "<style scoped>\n",
       "  .ansiout {\n",
       "    display: block;\n",
       "    unicode-bidi: embed;\n",
       "    white-space: pre-wrap;\n",
       "    word-wrap: break-word;\n",
       "    word-break: break-all;\n",
       "    font-family: \"Source Code Pro\", \"Menlo\", monospace;;\n",
       "    font-size: 13px;\n",
       "    color: #555;\n",
       "    margin-left: 4px;\n",
       "    line-height: 19px;\n",
       "  }\n",
       "</style>\n",
       "<div class=\"ansiout\"></div>"
      ]
     },
     "metadata": {
      "application/vnd.databricks.v1+output": {
       "addedWidgets": {},
       "arguments": {},
       "data": "<div class=\"ansiout\"></div>",
       "datasetInfos": [],
       "metadata": {},
       "removedWidgets": [],
       "type": "html"
      }
     },
     "output_type": "display_data"
    }
   ],
   "source": [
    "def categorizeSales(threshold, n):\n",
    "    return 1.0 if n >= threshold else 0.0"
   ]
  },
  {
   "cell_type": "code",
   "execution_count": 0,
   "metadata": {
    "application/vnd.databricks.v1+cell": {
     "cellMetadata": {
      "byteLimit": 2048000,
      "rowLimit": 10000
     },
     "inputWidgets": {},
     "nuid": "a0c3f2dc-b942-4975-9aa9-594af76c699d",
     "showTitle": false,
     "title": ""
    }
   },
   "outputs": [
    {
     "output_type": "display_data",
     "data": {
      "text/html": [
       "<style scoped>\n",
       "  .ansiout {\n",
       "    display: block;\n",
       "    unicode-bidi: embed;\n",
       "    white-space: pre-wrap;\n",
       "    word-wrap: break-word;\n",
       "    word-break: break-all;\n",
       "    font-family: \"Source Code Pro\", \"Menlo\", monospace;;\n",
       "    font-size: 13px;\n",
       "    color: #555;\n",
       "    margin-left: 4px;\n",
       "    line-height: 19px;\n",
       "  }\n",
       "</style>\n",
       "<div class=\"ansiout\">Out[9]: </div>"
      ]
     },
     "metadata": {
      "application/vnd.databricks.v1+output": {
       "addedWidgets": {},
       "arguments": {},
       "data": "<div class=\"ansiout\">Out[9]: </div>",
       "datasetInfos": [],
       "metadata": {},
       "removedWidgets": [],
       "type": "html"
      }
     },
     "output_type": "display_data"
    },
    {
     "output_type": "display_data",
     "data": {
      "text/html": [
       "<div>\n",
       "<style scoped>\n",
       "    .dataframe tbody tr th:only-of-type {\n",
       "        vertical-align: middle;\n",
       "    }\n",
       "\n",
       "    .dataframe tbody tr th {\n",
       "        vertical-align: top;\n",
       "    }\n",
       "\n",
       "    .dataframe thead th {\n",
       "        text-align: right;\n",
       "    }\n",
       "</style>\n",
       "<table border=\"1\" class=\"dataframe\">\n",
       "  <thead>\n",
       "    <tr style=\"text-align: right;\">\n",
       "      <th></th>\n",
       "      <th>COST</th>\n",
       "      <th>PRICE</th>\n",
       "      <th>QTY_SALES</th>\n",
       "      <th>VENDOR</th>\n",
       "      <th>BRAND</th>\n",
       "      <th>PRD_CATEGORY</th>\n",
       "      <th>PRD_ORIGIN</th>\n",
       "      <th>PUBLISHER</th>\n",
       "    </tr>\n",
       "  </thead>\n",
       "  <tbody>\n",
       "    <tr>\n",
       "      <th>1</th>\n",
       "      <td>13.74</td>\n",
       "      <td>59.00</td>\n",
       "      <td>137</td>\n",
       "      <td>HINKLER</td>\n",
       "      <td>HINKLER</td>\n",
       "      <td>J&amp;C</td>\n",
       "      <td>USA</td>\n",
       "      <td>HINKLER</td>\n",
       "    </tr>\n",
       "    <tr>\n",
       "      <th>2</th>\n",
       "      <td>13.35</td>\n",
       "      <td>59.00</td>\n",
       "      <td>206</td>\n",
       "      <td>HINKLER</td>\n",
       "      <td>HINKLER</td>\n",
       "      <td>J&amp;C</td>\n",
       "      <td>USA</td>\n",
       "      <td>HINKLER</td>\n",
       "    </tr>\n",
       "    <tr>\n",
       "      <th>3</th>\n",
       "      <td>29.44</td>\n",
       "      <td>119.00</td>\n",
       "      <td>50</td>\n",
       "      <td>HINKLER</td>\n",
       "      <td>HINKLER</td>\n",
       "      <td>G/S</td>\n",
       "      <td>USA</td>\n",
       "      <td>HINKLER</td>\n",
       "    </tr>\n",
       "    <tr>\n",
       "      <th>4</th>\n",
       "      <td>29.44</td>\n",
       "      <td>129.00</td>\n",
       "      <td>204</td>\n",
       "      <td>HINKLER</td>\n",
       "      <td>HINKLER</td>\n",
       "      <td>G/S</td>\n",
       "      <td>AUS</td>\n",
       "      <td>HINKLER</td>\n",
       "    </tr>\n",
       "    <tr>\n",
       "      <th>5</th>\n",
       "      <td>29.44</td>\n",
       "      <td>129.00</td>\n",
       "      <td>195</td>\n",
       "      <td>HINKLER</td>\n",
       "      <td>HINKLER</td>\n",
       "      <td>G/S</td>\n",
       "      <td>AUS</td>\n",
       "      <td>HINKLER</td>\n",
       "    </tr>\n",
       "    <tr>\n",
       "      <th>...</th>\n",
       "      <td>...</td>\n",
       "      <td>...</td>\n",
       "      <td>...</td>\n",
       "      <td>...</td>\n",
       "      <td>...</td>\n",
       "      <td>...</td>\n",
       "      <td>...</td>\n",
       "      <td>...</td>\n",
       "    </tr>\n",
       "    <tr>\n",
       "      <th>1748</th>\n",
       "      <td>28.73</td>\n",
       "      <td>119.00</td>\n",
       "      <td>12</td>\n",
       "      <td>LAKE-US$</td>\n",
       "      <td>LAKE</td>\n",
       "      <td>A&amp;C</td>\n",
       "      <td>AUS</td>\n",
       "      <td>LAKE</td>\n",
       "    </tr>\n",
       "    <tr>\n",
       "      <th>1749</th>\n",
       "      <td>11.46</td>\n",
       "      <td>49.00</td>\n",
       "      <td>21</td>\n",
       "      <td>LAKE-US$</td>\n",
       "      <td>LAKE</td>\n",
       "      <td>ACT</td>\n",
       "      <td>AUS</td>\n",
       "      <td>LAKE</td>\n",
       "    </tr>\n",
       "    <tr>\n",
       "      <th>1750</th>\n",
       "      <td>11.46</td>\n",
       "      <td>49.00</td>\n",
       "      <td>22</td>\n",
       "      <td>LAKE-US$</td>\n",
       "      <td>LAKE</td>\n",
       "      <td>ACT</td>\n",
       "      <td>AUS</td>\n",
       "      <td>LAKE</td>\n",
       "    </tr>\n",
       "    <tr>\n",
       "      <th>1751</th>\n",
       "      <td>14.92</td>\n",
       "      <td>59.00</td>\n",
       "      <td>4</td>\n",
       "      <td>LAKE-US$</td>\n",
       "      <td>LAKE</td>\n",
       "      <td>NVT</td>\n",
       "      <td>AUS</td>\n",
       "      <td>LAKE</td>\n",
       "    </tr>\n",
       "    <tr>\n",
       "      <th>1752</th>\n",
       "      <td>23.00</td>\n",
       "      <td>89.00</td>\n",
       "      <td>29</td>\n",
       "      <td>LAKE-US$</td>\n",
       "      <td>LAKE</td>\n",
       "      <td>ACT</td>\n",
       "      <td>AUS</td>\n",
       "      <td>LAKE</td>\n",
       "    </tr>\n",
       "  </tbody>\n",
       "</table>\n",
       "<p>957 rows × 8 columns</p>\n",
       "</div>"
      ]
     },
     "metadata": {
      "application/vnd.databricks.v1+output": {
       "addedWidgets": {},
       "arguments": {},
       "data": "<div>\n<style scoped>\n    .dataframe tbody tr th:only-of-type {\n        vertical-align: middle;\n    }\n\n    .dataframe tbody tr th {\n        vertical-align: top;\n    }\n\n    .dataframe thead th {\n        text-align: right;\n    }\n</style>\n<table border=\"1\" class=\"dataframe\">\n  <thead>\n    <tr style=\"text-align: right;\">\n      <th></th>\n      <th>COST</th>\n      <th>PRICE</th>\n      <th>QTY_SALES</th>\n      <th>VENDOR</th>\n      <th>BRAND</th>\n      <th>PRD_CATEGORY</th>\n      <th>PRD_ORIGIN</th>\n      <th>PUBLISHER</th>\n    </tr>\n  </thead>\n  <tbody>\n    <tr>\n      <th>1</th>\n      <td>13.74</td>\n      <td>59.00</td>\n      <td>137</td>\n      <td>HINKLER</td>\n      <td>HINKLER</td>\n      <td>J&amp;C</td>\n      <td>USA</td>\n      <td>HINKLER</td>\n    </tr>\n    <tr>\n      <th>2</th>\n      <td>13.35</td>\n      <td>59.00</td>\n      <td>206</td>\n      <td>HINKLER</td>\n      <td>HINKLER</td>\n      <td>J&amp;C</td>\n      <td>USA</td>\n      <td>HINKLER</td>\n    </tr>\n    <tr>\n      <th>3</th>\n      <td>29.44</td>\n      <td>119.00</td>\n      <td>50</td>\n      <td>HINKLER</td>\n      <td>HINKLER</td>\n      <td>G/S</td>\n      <td>USA</td>\n      <td>HINKLER</td>\n    </tr>\n    <tr>\n      <th>4</th>\n      <td>29.44</td>\n      <td>129.00</td>\n      <td>204</td>\n      <td>HINKLER</td>\n      <td>HINKLER</td>\n      <td>G/S</td>\n      <td>AUS</td>\n      <td>HINKLER</td>\n    </tr>\n    <tr>\n      <th>5</th>\n      <td>29.44</td>\n      <td>129.00</td>\n      <td>195</td>\n      <td>HINKLER</td>\n      <td>HINKLER</td>\n      <td>G/S</td>\n      <td>AUS</td>\n      <td>HINKLER</td>\n    </tr>\n    <tr>\n      <th>...</th>\n      <td>...</td>\n      <td>...</td>\n      <td>...</td>\n      <td>...</td>\n      <td>...</td>\n      <td>...</td>\n      <td>...</td>\n      <td>...</td>\n    </tr>\n    <tr>\n      <th>1748</th>\n      <td>28.73</td>\n      <td>119.00</td>\n      <td>12</td>\n      <td>LAKE-US$</td>\n      <td>LAKE</td>\n      <td>A&amp;C</td>\n      <td>AUS</td>\n      <td>LAKE</td>\n    </tr>\n    <tr>\n      <th>1749</th>\n      <td>11.46</td>\n      <td>49.00</td>\n      <td>21</td>\n      <td>LAKE-US$</td>\n      <td>LAKE</td>\n      <td>ACT</td>\n      <td>AUS</td>\n      <td>LAKE</td>\n    </tr>\n    <tr>\n      <th>1750</th>\n      <td>11.46</td>\n      <td>49.00</td>\n      <td>22</td>\n      <td>LAKE-US$</td>\n      <td>LAKE</td>\n      <td>ACT</td>\n      <td>AUS</td>\n      <td>LAKE</td>\n    </tr>\n    <tr>\n      <th>1751</th>\n      <td>14.92</td>\n      <td>59.00</td>\n      <td>4</td>\n      <td>LAKE-US$</td>\n      <td>LAKE</td>\n      <td>NVT</td>\n      <td>AUS</td>\n      <td>LAKE</td>\n    </tr>\n    <tr>\n      <th>1752</th>\n      <td>23.00</td>\n      <td>89.00</td>\n      <td>29</td>\n      <td>LAKE-US$</td>\n      <td>LAKE</td>\n      <td>ACT</td>\n      <td>AUS</td>\n      <td>LAKE</td>\n    </tr>\n  </tbody>\n</table>\n<p>957 rows × 8 columns</p>\n</div>",
       "datasetInfos": [],
       "metadata": {},
       "removedWidgets": [],
       "textData": null,
       "type": "htmlSandbox"
      }
     },
     "output_type": "display_data"
    }
   ],
   "source": [
    "df3 = df[['COST','PRICE', 'QTY_SALES','VENDOR','BRAND','PRD_CATEGORY','PRD_ORIGIN','PUBLISHER']]\n",
    "df3"
   ]
  },
  {
   "cell_type": "code",
   "execution_count": 0,
   "metadata": {
    "application/vnd.databricks.v1+cell": {
     "cellMetadata": {
      "byteLimit": 2048000,
      "rowLimit": 10000
     },
     "inputWidgets": {},
     "nuid": "9cee8ff2-1a11-442a-9f0b-8f5231e85397",
     "showTitle": false,
     "title": ""
    }
   },
   "outputs": [
    {
     "output_type": "display_data",
     "data": {
      "text/html": [
       "<style scoped>\n",
       "  .ansiout {\n",
       "    display: block;\n",
       "    unicode-bidi: embed;\n",
       "    white-space: pre-wrap;\n",
       "    word-wrap: break-word;\n",
       "    word-break: break-all;\n",
       "    font-family: \"Source Code Pro\", \"Menlo\", monospace;;\n",
       "    font-size: 13px;\n",
       "    color: #555;\n",
       "    margin-left: 4px;\n",
       "    line-height: 19px;\n",
       "  }\n",
       "</style>\n",
       "<div class=\"ansiout\">&lt;command-556958884330253&gt;:1: SettingWithCopyWarning: \n",
       "A value is trying to be set on a copy of a slice from a DataFrame.\n",
       "Try using .loc[row_indexer,col_indexer] = value instead\n",
       "\n",
       "See the caveats in the documentation: https://pandas.pydata.org/pandas-docs/stable/user_guide/indexing.html#returning-a-view-versus-a-copy\n",
       "  df3[&#39;COST&#39;] = pd.to_numeric(df[&#39;COST&#39;], errors=&#39;coerce&#39;)\n",
       "&lt;command-556958884330253&gt;:3: SettingWithCopyWarning: \n",
       "A value is trying to be set on a copy of a slice from a DataFrame.\n",
       "Try using .loc[row_indexer,col_indexer] = value instead\n",
       "\n",
       "See the caveats in the documentation: https://pandas.pydata.org/pandas-docs/stable/user_guide/indexing.html#returning-a-view-versus-a-copy\n",
       "  df3[&#39;COST&#39;] = df3[&#39;COST&#39;].astype(float)\n",
       "&lt;command-556958884330253&gt;:4: SettingWithCopyWarning: \n",
       "A value is trying to be set on a copy of a slice from a DataFrame.\n",
       "Try using .loc[row_indexer,col_indexer] = value instead\n",
       "\n",
       "See the caveats in the documentation: https://pandas.pydata.org/pandas-docs/stable/user_guide/indexing.html#returning-a-view-versus-a-copy\n",
       "  df3[&#39;PRICE&#39;] = df3[&#39;PRICE&#39;].astype(float)\n",
       "&lt;command-556958884330253&gt;:5: SettingWithCopyWarning: \n",
       "A value is trying to be set on a copy of a slice from a DataFrame.\n",
       "Try using .loc[row_indexer,col_indexer] = value instead\n",
       "\n",
       "See the caveats in the documentation: https://pandas.pydata.org/pandas-docs/stable/user_guide/indexing.html#returning-a-view-versus-a-copy\n",
       "  df3[&#39;QTY_SALES&#39;] = df3[&#39;QTY_SALES&#39;].astype(float)\n",
       "&lt;command-556958884330253&gt;:6: SettingWithCopyWarning: \n",
       "A value is trying to be set on a copy of a slice from a DataFrame.\n",
       "Try using .loc[row_indexer,col_indexer] = value instead\n",
       "\n",
       "See the caveats in the documentation: https://pandas.pydata.org/pandas-docs/stable/user_guide/indexing.html#returning-a-view-versus-a-copy\n",
       "  df3[&#34;QTY_SALES&#34;] = minmax_scale(df3[&#34;QTY_SALES&#34;], feature_range=(0, 1), axis=0, copy=True)\n",
       "</div>"
      ]
     },
     "metadata": {
      "application/vnd.databricks.v1+output": {
       "addedWidgets": {},
       "arguments": {},
       "data": "<div class=\"ansiout\">&lt;command-556958884330253&gt;:1: SettingWithCopyWarning: \nA value is trying to be set on a copy of a slice from a DataFrame.\nTry using .loc[row_indexer,col_indexer] = value instead\n\nSee the caveats in the documentation: https://pandas.pydata.org/pandas-docs/stable/user_guide/indexing.html#returning-a-view-versus-a-copy\n  df3[&#39;COST&#39;] = pd.to_numeric(df[&#39;COST&#39;], errors=&#39;coerce&#39;)\n&lt;command-556958884330253&gt;:3: SettingWithCopyWarning: \nA value is trying to be set on a copy of a slice from a DataFrame.\nTry using .loc[row_indexer,col_indexer] = value instead\n\nSee the caveats in the documentation: https://pandas.pydata.org/pandas-docs/stable/user_guide/indexing.html#returning-a-view-versus-a-copy\n  df3[&#39;COST&#39;] = df3[&#39;COST&#39;].astype(float)\n&lt;command-556958884330253&gt;:4: SettingWithCopyWarning: \nA value is trying to be set on a copy of a slice from a DataFrame.\nTry using .loc[row_indexer,col_indexer] = value instead\n\nSee the caveats in the documentation: https://pandas.pydata.org/pandas-docs/stable/user_guide/indexing.html#returning-a-view-versus-a-copy\n  df3[&#39;PRICE&#39;] = df3[&#39;PRICE&#39;].astype(float)\n&lt;command-556958884330253&gt;:5: SettingWithCopyWarning: \nA value is trying to be set on a copy of a slice from a DataFrame.\nTry using .loc[row_indexer,col_indexer] = value instead\n\nSee the caveats in the documentation: https://pandas.pydata.org/pandas-docs/stable/user_guide/indexing.html#returning-a-view-versus-a-copy\n  df3[&#39;QTY_SALES&#39;] = df3[&#39;QTY_SALES&#39;].astype(float)\n&lt;command-556958884330253&gt;:6: SettingWithCopyWarning: \nA value is trying to be set on a copy of a slice from a DataFrame.\nTry using .loc[row_indexer,col_indexer] = value instead\n\nSee the caveats in the documentation: https://pandas.pydata.org/pandas-docs/stable/user_guide/indexing.html#returning-a-view-versus-a-copy\n  df3[&#34;QTY_SALES&#34;] = minmax_scale(df3[&#34;QTY_SALES&#34;], feature_range=(0, 1), axis=0, copy=True)\n</div>",
       "datasetInfos": [],
       "metadata": {},
       "removedWidgets": [],
       "type": "html"
      }
     },
     "output_type": "display_data"
    }
   ],
   "source": [
    "df3['COST'] = pd.to_numeric(df['COST'], errors='coerce')\n",
    "df3 = df3.dropna(subset=['COST'])\n",
    "df3['COST'] = df3['COST'].astype(float)\n",
    "df3['PRICE'] = df3['PRICE'].astype(float)\n",
    "df3['QTY_SALES'] = df3['QTY_SALES'].astype(float)\n",
    "df3[\"QTY_SALES\"] = minmax_scale(df3[\"QTY_SALES\"], feature_range=(0, 1), axis=0, copy=True)\n",
    "df3 = pd.get_dummies(df3, prefix=\"cat\", \n",
    "                            columns=[\"VENDOR\",\"BRAND\",\"PRD_CATEGORY\",\"PRD_ORIGIN\",\"PUBLISHER\"], \n",
    "                            drop_first=False)"
   ]
  },
  {
   "cell_type": "code",
   "execution_count": 0,
   "metadata": {
    "application/vnd.databricks.v1+cell": {
     "cellMetadata": {
      "byteLimit": 2048000,
      "rowLimit": 10000
     },
     "inputWidgets": {},
     "nuid": "b51a4b44-cfa0-4347-b4ea-6d043ae8330f",
     "showTitle": false,
     "title": ""
    }
   },
   "outputs": [
    {
     "output_type": "display_data",
     "data": {
      "text/html": [
       "<style scoped>\n",
       "  .ansiout {\n",
       "    display: block;\n",
       "    unicode-bidi: embed;\n",
       "    white-space: pre-wrap;\n",
       "    word-wrap: break-word;\n",
       "    word-break: break-all;\n",
       "    font-family: \"Source Code Pro\", \"Menlo\", monospace;;\n",
       "    font-size: 13px;\n",
       "    color: #555;\n",
       "    margin-left: 4px;\n",
       "    line-height: 19px;\n",
       "  }\n",
       "</style>\n",
       "<div class=\"ansiout\"></div>"
      ]
     },
     "metadata": {
      "application/vnd.databricks.v1+output": {
       "addedWidgets": {},
       "arguments": {},
       "data": "<div class=\"ansiout\"></div>",
       "datasetInfos": [],
       "metadata": {},
       "removedWidgets": [],
       "type": "html"
      }
     },
     "output_type": "display_data"
    }
   ],
   "source": [
    "#define trainging data set and testing data set\n",
    "training_data, testing_data = train_test_split(df3, test_size=0.2, random_state=25)"
   ]
  },
  {
   "cell_type": "code",
   "execution_count": 0,
   "metadata": {
    "application/vnd.databricks.v1+cell": {
     "cellMetadata": {
      "byteLimit": 2048000,
      "rowLimit": 10000
     },
     "inputWidgets": {},
     "nuid": "38f288fc-d58d-4b31-88e8-e3fb5dca2058",
     "showTitle": false,
     "title": ""
    }
   },
   "outputs": [
    {
     "output_type": "display_data",
     "data": {
      "text/html": [
       "<style scoped>\n",
       "  .ansiout {\n",
       "    display: block;\n",
       "    unicode-bidi: embed;\n",
       "    white-space: pre-wrap;\n",
       "    word-wrap: break-word;\n",
       "    word-break: break-all;\n",
       "    font-family: \"Source Code Pro\", \"Menlo\", monospace;;\n",
       "    font-size: 13px;\n",
       "    color: #555;\n",
       "    margin-left: 4px;\n",
       "    line-height: 19px;\n",
       "  }\n",
       "</style>\n",
       "<div class=\"ansiout\"></div>"
      ]
     },
     "metadata": {
      "application/vnd.databricks.v1+output": {
       "addedWidgets": {},
       "arguments": {},
       "data": "<div class=\"ansiout\"></div>",
       "datasetInfos": [],
       "metadata": {},
       "removedWidgets": [],
       "type": "html"
      }
     },
     "output_type": "display_data"
    }
   ],
   "source": [
    "threshold = 0.3\n",
    "x_data = training_data.drop(labels=['QTY_SALES'],axis=1)\n",
    "y_data = training_data['QTY_SALES'].apply(lambda x: categorizeSales(threshold, x))\n",
    "x_data_test = testing_data.drop(labels=['QTY_SALES'],axis=1)\n",
    "y_data_test = testing_data['QTY_SALES'].apply(lambda x: categorizeSales(threshold, x))"
   ]
  },
  {
   "cell_type": "code",
   "execution_count": 0,
   "metadata": {
    "application/vnd.databricks.v1+cell": {
     "cellMetadata": {
      "byteLimit": 2048000,
      "rowLimit": 10000
     },
     "inputWidgets": {},
     "nuid": "01554803-58c7-439b-8364-ae6acc48cd59",
     "showTitle": false,
     "title": ""
    }
   },
   "outputs": [
    {
     "output_type": "display_data",
     "data": {
      "text/html": [
       "<style scoped>\n",
       "  .ansiout {\n",
       "    display: block;\n",
       "    unicode-bidi: embed;\n",
       "    white-space: pre-wrap;\n",
       "    word-wrap: break-word;\n",
       "    word-break: break-all;\n",
       "    font-family: \"Source Code Pro\", \"Menlo\", monospace;;\n",
       "    font-size: 13px;\n",
       "    color: #555;\n",
       "    margin-left: 4px;\n",
       "    line-height: 19px;\n",
       "  }\n",
       "</style>\n",
       "<div class=\"ansiout\">Out[18]: </div>"
      ]
     },
     "metadata": {
      "application/vnd.databricks.v1+output": {
       "addedWidgets": {},
       "arguments": {},
       "data": "<div class=\"ansiout\">Out[18]: </div>",
       "datasetInfos": [],
       "metadata": {},
       "removedWidgets": [],
       "type": "html"
      }
     },
     "output_type": "display_data"
    },
    {
     "output_type": "display_data",
     "data": {
      "text/html": [
       "<div>\n",
       "<style scoped>\n",
       "    .dataframe tbody tr th:only-of-type {\n",
       "        vertical-align: middle;\n",
       "    }\n",
       "\n",
       "    .dataframe tbody tr th {\n",
       "        vertical-align: top;\n",
       "    }\n",
       "\n",
       "    .dataframe thead th {\n",
       "        text-align: right;\n",
       "    }\n",
       "</style>\n",
       "<table border=\"1\" class=\"dataframe\">\n",
       "  <thead>\n",
       "    <tr style=\"text-align: right;\">\n",
       "      <th></th>\n",
       "      <th>COST</th>\n",
       "      <th>PRICE</th>\n",
       "      <th>cat_66-BOOKS</th>\n",
       "      <th>cat_AOL</th>\n",
       "      <th>cat_CAPSTONE</th>\n",
       "      <th>cat_CDP</th>\n",
       "      <th>cat_CENTUM</th>\n",
       "      <th>cat_GBS</th>\n",
       "      <th>cat_HC</th>\n",
       "      <th>cat_HC-USA</th>\n",
       "      <th>cat_HINKLER</th>\n",
       "      <th>cat_HINKLER-U</th>\n",
       "      <th>cat_IGLOO-US$</th>\n",
       "      <th>cat_KUMON</th>\n",
       "      <th>cat_LAKE-US$</th>\n",
       "      <th>cat_MBI</th>\n",
       "      <th>cat_MBI-US$</th>\n",
       "      <th>cat_MML</th>\n",
       "      <th>cat_MPS</th>\n",
       "      <th>cat_NPP</th>\n",
       "      <th>cat_PE-USA</th>\n",
       "      <th>cat_PHIDAL</th>\n",
       "      <th>cat_PI</th>\n",
       "      <th>cat_RH</th>\n",
       "      <th>cat_RIVERSIDE</th>\n",
       "      <th>cat_S&amp;S</th>\n",
       "      <th>cat_SASSI</th>\n",
       "      <th>cat_SL</th>\n",
       "      <th>cat_SL-MALAY</th>\n",
       "      <th>cat_TBS</th>\n",
       "      <th>cat_WORKMAN</th>\n",
       "      <th>cat_ANDREWS</th>\n",
       "      <th>cat_AUTUMN</th>\n",
       "      <th>cat_BBY</th>\n",
       "      <th>cat_CAMPBELL</th>\n",
       "      <th>cat_CAPSTONE</th>\n",
       "      <th>cat_CDP</th>\n",
       "      <th>cat_CENTUM</th>\n",
       "      <th>cat_CHRONI'L</th>\n",
       "      <th>cat_DK(USA)</th>\n",
       "      <th>...</th>\n",
       "      <th>cat_USA</th>\n",
       "      <th>cat_</th>\n",
       "      <th>cat_ANDREWS</th>\n",
       "      <th>cat_AUTUMN</th>\n",
       "      <th>cat_BLOOMSBURY</th>\n",
       "      <th>cat_CAMPBELL</th>\n",
       "      <th>cat_CAPSTONE</th>\n",
       "      <th>cat_CDP</th>\n",
       "      <th>cat_CENTUM</th>\n",
       "      <th>cat_CHRONICLE</th>\n",
       "      <th>cat_DK(USA)</th>\n",
       "      <th>cat_EGM</th>\n",
       "      <th>cat_HC</th>\n",
       "      <th>cat_HC-USA</th>\n",
       "      <th>cat_HINKLER</th>\n",
       "      <th>cat_HODDER</th>\n",
       "      <th>cat_IGLOO</th>\n",
       "      <th>cat_KLUTZ</th>\n",
       "      <th>cat_KUMON</th>\n",
       "      <th>cat_L-BROWN</th>\n",
       "      <th>cat_LAKE</th>\n",
       "      <th>cat_LB</th>\n",
       "      <th>cat_MBI</th>\n",
       "      <th>cat_MML</th>\n",
       "      <th>cat_MML-C</th>\n",
       "      <th>cat_MML-USA</th>\n",
       "      <th>cat_NPP</th>\n",
       "      <th>cat_ORCHARD-UK</th>\n",
       "      <th>cat_PENGUIN</th>\n",
       "      <th>cat_PHIDAL</th>\n",
       "      <th>cat_PI</th>\n",
       "      <th>cat_PUFFIN</th>\n",
       "      <th>cat_RH</th>\n",
       "      <th>cat_S&amp;S</th>\n",
       "      <th>cat_SASSI</th>\n",
       "      <th>cat_SL</th>\n",
       "      <th>cat_SL-UK</th>\n",
       "      <th>cat_UB</th>\n",
       "      <th>cat_WALKER</th>\n",
       "      <th>cat_WORKMAN</th>\n",
       "    </tr>\n",
       "  </thead>\n",
       "  <tbody>\n",
       "    <tr>\n",
       "      <th>555</th>\n",
       "      <td>13.78</td>\n",
       "      <td>49.0</td>\n",
       "      <td>0</td>\n",
       "      <td>0</td>\n",
       "      <td>0</td>\n",
       "      <td>0</td>\n",
       "      <td>0</td>\n",
       "      <td>0</td>\n",
       "      <td>0</td>\n",
       "      <td>0</td>\n",
       "      <td>0</td>\n",
       "      <td>0</td>\n",
       "      <td>0</td>\n",
       "      <td>0</td>\n",
       "      <td>0</td>\n",
       "      <td>1</td>\n",
       "      <td>0</td>\n",
       "      <td>0</td>\n",
       "      <td>0</td>\n",
       "      <td>0</td>\n",
       "      <td>0</td>\n",
       "      <td>0</td>\n",
       "      <td>0</td>\n",
       "      <td>0</td>\n",
       "      <td>0</td>\n",
       "      <td>0</td>\n",
       "      <td>0</td>\n",
       "      <td>0</td>\n",
       "      <td>0</td>\n",
       "      <td>0</td>\n",
       "      <td>0</td>\n",
       "      <td>0</td>\n",
       "      <td>0</td>\n",
       "      <td>0</td>\n",
       "      <td>0</td>\n",
       "      <td>0</td>\n",
       "      <td>0</td>\n",
       "      <td>0</td>\n",
       "      <td>0</td>\n",
       "      <td>0</td>\n",
       "      <td>...</td>\n",
       "      <td>0</td>\n",
       "      <td>0</td>\n",
       "      <td>0</td>\n",
       "      <td>0</td>\n",
       "      <td>0</td>\n",
       "      <td>0</td>\n",
       "      <td>0</td>\n",
       "      <td>0</td>\n",
       "      <td>0</td>\n",
       "      <td>0</td>\n",
       "      <td>0</td>\n",
       "      <td>0</td>\n",
       "      <td>0</td>\n",
       "      <td>0</td>\n",
       "      <td>0</td>\n",
       "      <td>0</td>\n",
       "      <td>0</td>\n",
       "      <td>0</td>\n",
       "      <td>0</td>\n",
       "      <td>0</td>\n",
       "      <td>0</td>\n",
       "      <td>0</td>\n",
       "      <td>1</td>\n",
       "      <td>0</td>\n",
       "      <td>0</td>\n",
       "      <td>0</td>\n",
       "      <td>0</td>\n",
       "      <td>0</td>\n",
       "      <td>0</td>\n",
       "      <td>0</td>\n",
       "      <td>0</td>\n",
       "      <td>0</td>\n",
       "      <td>0</td>\n",
       "      <td>0</td>\n",
       "      <td>0</td>\n",
       "      <td>0</td>\n",
       "      <td>0</td>\n",
       "      <td>0</td>\n",
       "      <td>0</td>\n",
       "      <td>0</td>\n",
       "    </tr>\n",
       "    <tr>\n",
       "      <th>383</th>\n",
       "      <td>43.15</td>\n",
       "      <td>219.9</td>\n",
       "      <td>0</td>\n",
       "      <td>0</td>\n",
       "      <td>0</td>\n",
       "      <td>0</td>\n",
       "      <td>0</td>\n",
       "      <td>0</td>\n",
       "      <td>0</td>\n",
       "      <td>0</td>\n",
       "      <td>0</td>\n",
       "      <td>0</td>\n",
       "      <td>0</td>\n",
       "      <td>0</td>\n",
       "      <td>0</td>\n",
       "      <td>0</td>\n",
       "      <td>0</td>\n",
       "      <td>0</td>\n",
       "      <td>0</td>\n",
       "      <td>0</td>\n",
       "      <td>0</td>\n",
       "      <td>0</td>\n",
       "      <td>0</td>\n",
       "      <td>0</td>\n",
       "      <td>0</td>\n",
       "      <td>0</td>\n",
       "      <td>0</td>\n",
       "      <td>1</td>\n",
       "      <td>0</td>\n",
       "      <td>0</td>\n",
       "      <td>0</td>\n",
       "      <td>0</td>\n",
       "      <td>0</td>\n",
       "      <td>0</td>\n",
       "      <td>0</td>\n",
       "      <td>0</td>\n",
       "      <td>0</td>\n",
       "      <td>0</td>\n",
       "      <td>0</td>\n",
       "      <td>0</td>\n",
       "      <td>...</td>\n",
       "      <td>1</td>\n",
       "      <td>0</td>\n",
       "      <td>0</td>\n",
       "      <td>0</td>\n",
       "      <td>0</td>\n",
       "      <td>0</td>\n",
       "      <td>0</td>\n",
       "      <td>0</td>\n",
       "      <td>0</td>\n",
       "      <td>0</td>\n",
       "      <td>0</td>\n",
       "      <td>0</td>\n",
       "      <td>0</td>\n",
       "      <td>0</td>\n",
       "      <td>0</td>\n",
       "      <td>0</td>\n",
       "      <td>0</td>\n",
       "      <td>1</td>\n",
       "      <td>0</td>\n",
       "      <td>0</td>\n",
       "      <td>0</td>\n",
       "      <td>0</td>\n",
       "      <td>0</td>\n",
       "      <td>0</td>\n",
       "      <td>0</td>\n",
       "      <td>0</td>\n",
       "      <td>0</td>\n",
       "      <td>0</td>\n",
       "      <td>0</td>\n",
       "      <td>0</td>\n",
       "      <td>0</td>\n",
       "      <td>0</td>\n",
       "      <td>0</td>\n",
       "      <td>0</td>\n",
       "      <td>0</td>\n",
       "      <td>0</td>\n",
       "      <td>0</td>\n",
       "      <td>0</td>\n",
       "      <td>0</td>\n",
       "      <td>0</td>\n",
       "    </tr>\n",
       "    <tr>\n",
       "      <th>193</th>\n",
       "      <td>30.59</td>\n",
       "      <td>129.9</td>\n",
       "      <td>0</td>\n",
       "      <td>0</td>\n",
       "      <td>0</td>\n",
       "      <td>0</td>\n",
       "      <td>0</td>\n",
       "      <td>0</td>\n",
       "      <td>0</td>\n",
       "      <td>1</td>\n",
       "      <td>0</td>\n",
       "      <td>0</td>\n",
       "      <td>0</td>\n",
       "      <td>0</td>\n",
       "      <td>0</td>\n",
       "      <td>0</td>\n",
       "      <td>0</td>\n",
       "      <td>0</td>\n",
       "      <td>0</td>\n",
       "      <td>0</td>\n",
       "      <td>0</td>\n",
       "      <td>0</td>\n",
       "      <td>0</td>\n",
       "      <td>0</td>\n",
       "      <td>0</td>\n",
       "      <td>0</td>\n",
       "      <td>0</td>\n",
       "      <td>0</td>\n",
       "      <td>0</td>\n",
       "      <td>0</td>\n",
       "      <td>0</td>\n",
       "      <td>0</td>\n",
       "      <td>0</td>\n",
       "      <td>0</td>\n",
       "      <td>0</td>\n",
       "      <td>0</td>\n",
       "      <td>0</td>\n",
       "      <td>0</td>\n",
       "      <td>0</td>\n",
       "      <td>0</td>\n",
       "      <td>...</td>\n",
       "      <td>1</td>\n",
       "      <td>0</td>\n",
       "      <td>0</td>\n",
       "      <td>0</td>\n",
       "      <td>0</td>\n",
       "      <td>0</td>\n",
       "      <td>0</td>\n",
       "      <td>0</td>\n",
       "      <td>0</td>\n",
       "      <td>0</td>\n",
       "      <td>0</td>\n",
       "      <td>0</td>\n",
       "      <td>0</td>\n",
       "      <td>1</td>\n",
       "      <td>0</td>\n",
       "      <td>0</td>\n",
       "      <td>0</td>\n",
       "      <td>0</td>\n",
       "      <td>0</td>\n",
       "      <td>0</td>\n",
       "      <td>0</td>\n",
       "      <td>0</td>\n",
       "      <td>0</td>\n",
       "      <td>0</td>\n",
       "      <td>0</td>\n",
       "      <td>0</td>\n",
       "      <td>0</td>\n",
       "      <td>0</td>\n",
       "      <td>0</td>\n",
       "      <td>0</td>\n",
       "      <td>0</td>\n",
       "      <td>0</td>\n",
       "      <td>0</td>\n",
       "      <td>0</td>\n",
       "      <td>0</td>\n",
       "      <td>0</td>\n",
       "      <td>0</td>\n",
       "      <td>0</td>\n",
       "      <td>0</td>\n",
       "      <td>0</td>\n",
       "    </tr>\n",
       "    <tr>\n",
       "      <th>332</th>\n",
       "      <td>24.11</td>\n",
       "      <td>105.0</td>\n",
       "      <td>0</td>\n",
       "      <td>0</td>\n",
       "      <td>0</td>\n",
       "      <td>0</td>\n",
       "      <td>0</td>\n",
       "      <td>0</td>\n",
       "      <td>0</td>\n",
       "      <td>0</td>\n",
       "      <td>0</td>\n",
       "      <td>0</td>\n",
       "      <td>0</td>\n",
       "      <td>0</td>\n",
       "      <td>0</td>\n",
       "      <td>0</td>\n",
       "      <td>0</td>\n",
       "      <td>1</td>\n",
       "      <td>0</td>\n",
       "      <td>0</td>\n",
       "      <td>0</td>\n",
       "      <td>0</td>\n",
       "      <td>0</td>\n",
       "      <td>0</td>\n",
       "      <td>0</td>\n",
       "      <td>0</td>\n",
       "      <td>0</td>\n",
       "      <td>0</td>\n",
       "      <td>0</td>\n",
       "      <td>0</td>\n",
       "      <td>0</td>\n",
       "      <td>0</td>\n",
       "      <td>0</td>\n",
       "      <td>0</td>\n",
       "      <td>0</td>\n",
       "      <td>0</td>\n",
       "      <td>0</td>\n",
       "      <td>0</td>\n",
       "      <td>0</td>\n",
       "      <td>0</td>\n",
       "      <td>...</td>\n",
       "      <td>0</td>\n",
       "      <td>0</td>\n",
       "      <td>0</td>\n",
       "      <td>0</td>\n",
       "      <td>0</td>\n",
       "      <td>0</td>\n",
       "      <td>0</td>\n",
       "      <td>0</td>\n",
       "      <td>0</td>\n",
       "      <td>0</td>\n",
       "      <td>0</td>\n",
       "      <td>0</td>\n",
       "      <td>0</td>\n",
       "      <td>0</td>\n",
       "      <td>0</td>\n",
       "      <td>0</td>\n",
       "      <td>0</td>\n",
       "      <td>0</td>\n",
       "      <td>0</td>\n",
       "      <td>0</td>\n",
       "      <td>0</td>\n",
       "      <td>0</td>\n",
       "      <td>0</td>\n",
       "      <td>0</td>\n",
       "      <td>1</td>\n",
       "      <td>0</td>\n",
       "      <td>0</td>\n",
       "      <td>0</td>\n",
       "      <td>0</td>\n",
       "      <td>0</td>\n",
       "      <td>0</td>\n",
       "      <td>0</td>\n",
       "      <td>0</td>\n",
       "      <td>0</td>\n",
       "      <td>0</td>\n",
       "      <td>0</td>\n",
       "      <td>0</td>\n",
       "      <td>0</td>\n",
       "      <td>0</td>\n",
       "      <td>0</td>\n",
       "    </tr>\n",
       "    <tr>\n",
       "      <th>265</th>\n",
       "      <td>141.28</td>\n",
       "      <td>599.9</td>\n",
       "      <td>0</td>\n",
       "      <td>0</td>\n",
       "      <td>0</td>\n",
       "      <td>0</td>\n",
       "      <td>0</td>\n",
       "      <td>0</td>\n",
       "      <td>0</td>\n",
       "      <td>0</td>\n",
       "      <td>0</td>\n",
       "      <td>0</td>\n",
       "      <td>0</td>\n",
       "      <td>0</td>\n",
       "      <td>0</td>\n",
       "      <td>0</td>\n",
       "      <td>0</td>\n",
       "      <td>0</td>\n",
       "      <td>0</td>\n",
       "      <td>0</td>\n",
       "      <td>0</td>\n",
       "      <td>0</td>\n",
       "      <td>0</td>\n",
       "      <td>0</td>\n",
       "      <td>0</td>\n",
       "      <td>1</td>\n",
       "      <td>0</td>\n",
       "      <td>0</td>\n",
       "      <td>0</td>\n",
       "      <td>0</td>\n",
       "      <td>0</td>\n",
       "      <td>0</td>\n",
       "      <td>0</td>\n",
       "      <td>0</td>\n",
       "      <td>0</td>\n",
       "      <td>0</td>\n",
       "      <td>0</td>\n",
       "      <td>0</td>\n",
       "      <td>0</td>\n",
       "      <td>0</td>\n",
       "      <td>...</td>\n",
       "      <td>1</td>\n",
       "      <td>0</td>\n",
       "      <td>0</td>\n",
       "      <td>0</td>\n",
       "      <td>0</td>\n",
       "      <td>0</td>\n",
       "      <td>0</td>\n",
       "      <td>0</td>\n",
       "      <td>0</td>\n",
       "      <td>0</td>\n",
       "      <td>0</td>\n",
       "      <td>0</td>\n",
       "      <td>0</td>\n",
       "      <td>0</td>\n",
       "      <td>0</td>\n",
       "      <td>0</td>\n",
       "      <td>0</td>\n",
       "      <td>0</td>\n",
       "      <td>0</td>\n",
       "      <td>0</td>\n",
       "      <td>0</td>\n",
       "      <td>0</td>\n",
       "      <td>0</td>\n",
       "      <td>0</td>\n",
       "      <td>0</td>\n",
       "      <td>0</td>\n",
       "      <td>0</td>\n",
       "      <td>0</td>\n",
       "      <td>0</td>\n",
       "      <td>0</td>\n",
       "      <td>0</td>\n",
       "      <td>0</td>\n",
       "      <td>0</td>\n",
       "      <td>1</td>\n",
       "      <td>0</td>\n",
       "      <td>0</td>\n",
       "      <td>0</td>\n",
       "      <td>0</td>\n",
       "      <td>0</td>\n",
       "      <td>0</td>\n",
       "    </tr>\n",
       "    <tr>\n",
       "      <th>...</th>\n",
       "      <td>...</td>\n",
       "      <td>...</td>\n",
       "      <td>...</td>\n",
       "      <td>...</td>\n",
       "      <td>...</td>\n",
       "      <td>...</td>\n",
       "      <td>...</td>\n",
       "      <td>...</td>\n",
       "      <td>...</td>\n",
       "      <td>...</td>\n",
       "      <td>...</td>\n",
       "      <td>...</td>\n",
       "      <td>...</td>\n",
       "      <td>...</td>\n",
       "      <td>...</td>\n",
       "      <td>...</td>\n",
       "      <td>...</td>\n",
       "      <td>...</td>\n",
       "      <td>...</td>\n",
       "      <td>...</td>\n",
       "      <td>...</td>\n",
       "      <td>...</td>\n",
       "      <td>...</td>\n",
       "      <td>...</td>\n",
       "      <td>...</td>\n",
       "      <td>...</td>\n",
       "      <td>...</td>\n",
       "      <td>...</td>\n",
       "      <td>...</td>\n",
       "      <td>...</td>\n",
       "      <td>...</td>\n",
       "      <td>...</td>\n",
       "      <td>...</td>\n",
       "      <td>...</td>\n",
       "      <td>...</td>\n",
       "      <td>...</td>\n",
       "      <td>...</td>\n",
       "      <td>...</td>\n",
       "      <td>...</td>\n",
       "      <td>...</td>\n",
       "      <td>...</td>\n",
       "      <td>...</td>\n",
       "      <td>...</td>\n",
       "      <td>...</td>\n",
       "      <td>...</td>\n",
       "      <td>...</td>\n",
       "      <td>...</td>\n",
       "      <td>...</td>\n",
       "      <td>...</td>\n",
       "      <td>...</td>\n",
       "      <td>...</td>\n",
       "      <td>...</td>\n",
       "      <td>...</td>\n",
       "      <td>...</td>\n",
       "      <td>...</td>\n",
       "      <td>...</td>\n",
       "      <td>...</td>\n",
       "      <td>...</td>\n",
       "      <td>...</td>\n",
       "      <td>...</td>\n",
       "      <td>...</td>\n",
       "      <td>...</td>\n",
       "      <td>...</td>\n",
       "      <td>...</td>\n",
       "      <td>...</td>\n",
       "      <td>...</td>\n",
       "      <td>...</td>\n",
       "      <td>...</td>\n",
       "      <td>...</td>\n",
       "      <td>...</td>\n",
       "      <td>...</td>\n",
       "      <td>...</td>\n",
       "      <td>...</td>\n",
       "      <td>...</td>\n",
       "      <td>...</td>\n",
       "      <td>...</td>\n",
       "      <td>...</td>\n",
       "      <td>...</td>\n",
       "      <td>...</td>\n",
       "      <td>...</td>\n",
       "      <td>...</td>\n",
       "    </tr>\n",
       "    <tr>\n",
       "      <th>435</th>\n",
       "      <td>63.78</td>\n",
       "      <td>249.0</td>\n",
       "      <td>0</td>\n",
       "      <td>0</td>\n",
       "      <td>0</td>\n",
       "      <td>0</td>\n",
       "      <td>0</td>\n",
       "      <td>0</td>\n",
       "      <td>0</td>\n",
       "      <td>0</td>\n",
       "      <td>0</td>\n",
       "      <td>0</td>\n",
       "      <td>0</td>\n",
       "      <td>0</td>\n",
       "      <td>0</td>\n",
       "      <td>0</td>\n",
       "      <td>0</td>\n",
       "      <td>0</td>\n",
       "      <td>0</td>\n",
       "      <td>0</td>\n",
       "      <td>0</td>\n",
       "      <td>0</td>\n",
       "      <td>0</td>\n",
       "      <td>0</td>\n",
       "      <td>0</td>\n",
       "      <td>0</td>\n",
       "      <td>1</td>\n",
       "      <td>0</td>\n",
       "      <td>0</td>\n",
       "      <td>0</td>\n",
       "      <td>0</td>\n",
       "      <td>0</td>\n",
       "      <td>0</td>\n",
       "      <td>0</td>\n",
       "      <td>0</td>\n",
       "      <td>0</td>\n",
       "      <td>0</td>\n",
       "      <td>0</td>\n",
       "      <td>0</td>\n",
       "      <td>0</td>\n",
       "      <td>...</td>\n",
       "      <td>0</td>\n",
       "      <td>0</td>\n",
       "      <td>0</td>\n",
       "      <td>0</td>\n",
       "      <td>0</td>\n",
       "      <td>0</td>\n",
       "      <td>0</td>\n",
       "      <td>0</td>\n",
       "      <td>0</td>\n",
       "      <td>0</td>\n",
       "      <td>0</td>\n",
       "      <td>0</td>\n",
       "      <td>0</td>\n",
       "      <td>0</td>\n",
       "      <td>0</td>\n",
       "      <td>0</td>\n",
       "      <td>0</td>\n",
       "      <td>0</td>\n",
       "      <td>0</td>\n",
       "      <td>0</td>\n",
       "      <td>0</td>\n",
       "      <td>0</td>\n",
       "      <td>0</td>\n",
       "      <td>0</td>\n",
       "      <td>0</td>\n",
       "      <td>0</td>\n",
       "      <td>0</td>\n",
       "      <td>0</td>\n",
       "      <td>0</td>\n",
       "      <td>0</td>\n",
       "      <td>0</td>\n",
       "      <td>0</td>\n",
       "      <td>0</td>\n",
       "      <td>0</td>\n",
       "      <td>1</td>\n",
       "      <td>0</td>\n",
       "      <td>0</td>\n",
       "      <td>0</td>\n",
       "      <td>0</td>\n",
       "      <td>0</td>\n",
       "    </tr>\n",
       "    <tr>\n",
       "      <th>239</th>\n",
       "      <td>15.68</td>\n",
       "      <td>79.9</td>\n",
       "      <td>0</td>\n",
       "      <td>0</td>\n",
       "      <td>0</td>\n",
       "      <td>0</td>\n",
       "      <td>0</td>\n",
       "      <td>0</td>\n",
       "      <td>0</td>\n",
       "      <td>1</td>\n",
       "      <td>0</td>\n",
       "      <td>0</td>\n",
       "      <td>0</td>\n",
       "      <td>0</td>\n",
       "      <td>0</td>\n",
       "      <td>0</td>\n",
       "      <td>0</td>\n",
       "      <td>0</td>\n",
       "      <td>0</td>\n",
       "      <td>0</td>\n",
       "      <td>0</td>\n",
       "      <td>0</td>\n",
       "      <td>0</td>\n",
       "      <td>0</td>\n",
       "      <td>0</td>\n",
       "      <td>0</td>\n",
       "      <td>0</td>\n",
       "      <td>0</td>\n",
       "      <td>0</td>\n",
       "      <td>0</td>\n",
       "      <td>0</td>\n",
       "      <td>0</td>\n",
       "      <td>0</td>\n",
       "      <td>0</td>\n",
       "      <td>0</td>\n",
       "      <td>0</td>\n",
       "      <td>0</td>\n",
       "      <td>0</td>\n",
       "      <td>0</td>\n",
       "      <td>0</td>\n",
       "      <td>...</td>\n",
       "      <td>1</td>\n",
       "      <td>0</td>\n",
       "      <td>0</td>\n",
       "      <td>0</td>\n",
       "      <td>0</td>\n",
       "      <td>0</td>\n",
       "      <td>0</td>\n",
       "      <td>0</td>\n",
       "      <td>0</td>\n",
       "      <td>0</td>\n",
       "      <td>0</td>\n",
       "      <td>0</td>\n",
       "      <td>0</td>\n",
       "      <td>1</td>\n",
       "      <td>0</td>\n",
       "      <td>0</td>\n",
       "      <td>0</td>\n",
       "      <td>0</td>\n",
       "      <td>0</td>\n",
       "      <td>0</td>\n",
       "      <td>0</td>\n",
       "      <td>0</td>\n",
       "      <td>0</td>\n",
       "      <td>0</td>\n",
       "      <td>0</td>\n",
       "      <td>0</td>\n",
       "      <td>0</td>\n",
       "      <td>0</td>\n",
       "      <td>0</td>\n",
       "      <td>0</td>\n",
       "      <td>0</td>\n",
       "      <td>0</td>\n",
       "      <td>0</td>\n",
       "      <td>0</td>\n",
       "      <td>0</td>\n",
       "      <td>0</td>\n",
       "      <td>0</td>\n",
       "      <td>0</td>\n",
       "      <td>0</td>\n",
       "      <td>0</td>\n",
       "    </tr>\n",
       "    <tr>\n",
       "      <th>688</th>\n",
       "      <td>21.12</td>\n",
       "      <td>89.0</td>\n",
       "      <td>0</td>\n",
       "      <td>0</td>\n",
       "      <td>0</td>\n",
       "      <td>0</td>\n",
       "      <td>0</td>\n",
       "      <td>0</td>\n",
       "      <td>0</td>\n",
       "      <td>0</td>\n",
       "      <td>0</td>\n",
       "      <td>0</td>\n",
       "      <td>0</td>\n",
       "      <td>0</td>\n",
       "      <td>1</td>\n",
       "      <td>0</td>\n",
       "      <td>0</td>\n",
       "      <td>0</td>\n",
       "      <td>0</td>\n",
       "      <td>0</td>\n",
       "      <td>0</td>\n",
       "      <td>0</td>\n",
       "      <td>0</td>\n",
       "      <td>0</td>\n",
       "      <td>0</td>\n",
       "      <td>0</td>\n",
       "      <td>0</td>\n",
       "      <td>0</td>\n",
       "      <td>0</td>\n",
       "      <td>0</td>\n",
       "      <td>0</td>\n",
       "      <td>0</td>\n",
       "      <td>0</td>\n",
       "      <td>0</td>\n",
       "      <td>0</td>\n",
       "      <td>0</td>\n",
       "      <td>0</td>\n",
       "      <td>0</td>\n",
       "      <td>0</td>\n",
       "      <td>0</td>\n",
       "      <td>...</td>\n",
       "      <td>0</td>\n",
       "      <td>0</td>\n",
       "      <td>0</td>\n",
       "      <td>0</td>\n",
       "      <td>0</td>\n",
       "      <td>0</td>\n",
       "      <td>0</td>\n",
       "      <td>0</td>\n",
       "      <td>0</td>\n",
       "      <td>0</td>\n",
       "      <td>0</td>\n",
       "      <td>0</td>\n",
       "      <td>0</td>\n",
       "      <td>0</td>\n",
       "      <td>0</td>\n",
       "      <td>0</td>\n",
       "      <td>0</td>\n",
       "      <td>0</td>\n",
       "      <td>0</td>\n",
       "      <td>0</td>\n",
       "      <td>1</td>\n",
       "      <td>0</td>\n",
       "      <td>0</td>\n",
       "      <td>0</td>\n",
       "      <td>0</td>\n",
       "      <td>0</td>\n",
       "      <td>0</td>\n",
       "      <td>0</td>\n",
       "      <td>0</td>\n",
       "      <td>0</td>\n",
       "      <td>0</td>\n",
       "      <td>0</td>\n",
       "      <td>0</td>\n",
       "      <td>0</td>\n",
       "      <td>0</td>\n",
       "      <td>0</td>\n",
       "      <td>0</td>\n",
       "      <td>0</td>\n",
       "      <td>0</td>\n",
       "      <td>0</td>\n",
       "    </tr>\n",
       "    <tr>\n",
       "      <th>436</th>\n",
       "      <td>63.78</td>\n",
       "      <td>249.0</td>\n",
       "      <td>0</td>\n",
       "      <td>0</td>\n",
       "      <td>0</td>\n",
       "      <td>0</td>\n",
       "      <td>0</td>\n",
       "      <td>0</td>\n",
       "      <td>0</td>\n",
       "      <td>0</td>\n",
       "      <td>0</td>\n",
       "      <td>0</td>\n",
       "      <td>0</td>\n",
       "      <td>0</td>\n",
       "      <td>0</td>\n",
       "      <td>0</td>\n",
       "      <td>0</td>\n",
       "      <td>0</td>\n",
       "      <td>0</td>\n",
       "      <td>0</td>\n",
       "      <td>0</td>\n",
       "      <td>0</td>\n",
       "      <td>0</td>\n",
       "      <td>0</td>\n",
       "      <td>0</td>\n",
       "      <td>0</td>\n",
       "      <td>1</td>\n",
       "      <td>0</td>\n",
       "      <td>0</td>\n",
       "      <td>0</td>\n",
       "      <td>0</td>\n",
       "      <td>0</td>\n",
       "      <td>0</td>\n",
       "      <td>0</td>\n",
       "      <td>0</td>\n",
       "      <td>0</td>\n",
       "      <td>0</td>\n",
       "      <td>0</td>\n",
       "      <td>0</td>\n",
       "      <td>0</td>\n",
       "      <td>...</td>\n",
       "      <td>0</td>\n",
       "      <td>0</td>\n",
       "      <td>0</td>\n",
       "      <td>0</td>\n",
       "      <td>0</td>\n",
       "      <td>0</td>\n",
       "      <td>0</td>\n",
       "      <td>0</td>\n",
       "      <td>0</td>\n",
       "      <td>0</td>\n",
       "      <td>0</td>\n",
       "      <td>0</td>\n",
       "      <td>0</td>\n",
       "      <td>0</td>\n",
       "      <td>0</td>\n",
       "      <td>0</td>\n",
       "      <td>0</td>\n",
       "      <td>0</td>\n",
       "      <td>0</td>\n",
       "      <td>0</td>\n",
       "      <td>0</td>\n",
       "      <td>0</td>\n",
       "      <td>0</td>\n",
       "      <td>0</td>\n",
       "      <td>0</td>\n",
       "      <td>0</td>\n",
       "      <td>0</td>\n",
       "      <td>0</td>\n",
       "      <td>0</td>\n",
       "      <td>0</td>\n",
       "      <td>0</td>\n",
       "      <td>0</td>\n",
       "      <td>0</td>\n",
       "      <td>0</td>\n",
       "      <td>1</td>\n",
       "      <td>0</td>\n",
       "      <td>0</td>\n",
       "      <td>0</td>\n",
       "      <td>0</td>\n",
       "      <td>0</td>\n",
       "    </tr>\n",
       "    <tr>\n",
       "      <th>227</th>\n",
       "      <td>31.40</td>\n",
       "      <td>200.0</td>\n",
       "      <td>0</td>\n",
       "      <td>0</td>\n",
       "      <td>0</td>\n",
       "      <td>0</td>\n",
       "      <td>0</td>\n",
       "      <td>0</td>\n",
       "      <td>0</td>\n",
       "      <td>0</td>\n",
       "      <td>0</td>\n",
       "      <td>0</td>\n",
       "      <td>0</td>\n",
       "      <td>0</td>\n",
       "      <td>0</td>\n",
       "      <td>0</td>\n",
       "      <td>0</td>\n",
       "      <td>0</td>\n",
       "      <td>0</td>\n",
       "      <td>0</td>\n",
       "      <td>1</td>\n",
       "      <td>0</td>\n",
       "      <td>0</td>\n",
       "      <td>0</td>\n",
       "      <td>0</td>\n",
       "      <td>0</td>\n",
       "      <td>0</td>\n",
       "      <td>0</td>\n",
       "      <td>0</td>\n",
       "      <td>0</td>\n",
       "      <td>0</td>\n",
       "      <td>0</td>\n",
       "      <td>0</td>\n",
       "      <td>0</td>\n",
       "      <td>0</td>\n",
       "      <td>0</td>\n",
       "      <td>0</td>\n",
       "      <td>0</td>\n",
       "      <td>0</td>\n",
       "      <td>1</td>\n",
       "      <td>...</td>\n",
       "      <td>1</td>\n",
       "      <td>0</td>\n",
       "      <td>0</td>\n",
       "      <td>0</td>\n",
       "      <td>0</td>\n",
       "      <td>0</td>\n",
       "      <td>0</td>\n",
       "      <td>0</td>\n",
       "      <td>0</td>\n",
       "      <td>0</td>\n",
       "      <td>1</td>\n",
       "      <td>0</td>\n",
       "      <td>0</td>\n",
       "      <td>0</td>\n",
       "      <td>0</td>\n",
       "      <td>0</td>\n",
       "      <td>0</td>\n",
       "      <td>0</td>\n",
       "      <td>0</td>\n",
       "      <td>0</td>\n",
       "      <td>0</td>\n",
       "      <td>0</td>\n",
       "      <td>0</td>\n",
       "      <td>0</td>\n",
       "      <td>0</td>\n",
       "      <td>0</td>\n",
       "      <td>0</td>\n",
       "      <td>0</td>\n",
       "      <td>0</td>\n",
       "      <td>0</td>\n",
       "      <td>0</td>\n",
       "      <td>0</td>\n",
       "      <td>0</td>\n",
       "      <td>0</td>\n",
       "      <td>0</td>\n",
       "      <td>0</td>\n",
       "      <td>0</td>\n",
       "      <td>0</td>\n",
       "      <td>0</td>\n",
       "      <td>0</td>\n",
       "    </tr>\n",
       "  </tbody>\n",
       "</table>\n",
       "<p>764 rows × 152 columns</p>\n",
       "</div>"
      ]
     },
     "metadata": {
      "application/vnd.databricks.v1+output": {
       "addedWidgets": {},
       "arguments": {},
       "data": "<div>\n<style scoped>\n    .dataframe tbody tr th:only-of-type {\n        vertical-align: middle;\n    }\n\n    .dataframe tbody tr th {\n        vertical-align: top;\n    }\n\n    .dataframe thead th {\n        text-align: right;\n    }\n</style>\n<table border=\"1\" class=\"dataframe\">\n  <thead>\n    <tr style=\"text-align: right;\">\n      <th></th>\n      <th>COST</th>\n      <th>PRICE</th>\n      <th>cat_66-BOOKS</th>\n      <th>cat_AOL</th>\n      <th>cat_CAPSTONE</th>\n      <th>cat_CDP</th>\n      <th>cat_CENTUM</th>\n      <th>cat_GBS</th>\n      <th>cat_HC</th>\n      <th>cat_HC-USA</th>\n      <th>cat_HINKLER</th>\n      <th>cat_HINKLER-U</th>\n      <th>cat_IGLOO-US$</th>\n      <th>cat_KUMON</th>\n      <th>cat_LAKE-US$</th>\n      <th>cat_MBI</th>\n      <th>cat_MBI-US$</th>\n      <th>cat_MML</th>\n      <th>cat_MPS</th>\n      <th>cat_NPP</th>\n      <th>cat_PE-USA</th>\n      <th>cat_PHIDAL</th>\n      <th>cat_PI</th>\n      <th>cat_RH</th>\n      <th>cat_RIVERSIDE</th>\n      <th>cat_S&amp;S</th>\n      <th>cat_SASSI</th>\n      <th>cat_SL</th>\n      <th>cat_SL-MALAY</th>\n      <th>cat_TBS</th>\n      <th>cat_WORKMAN</th>\n      <th>cat_ANDREWS</th>\n      <th>cat_AUTUMN</th>\n      <th>cat_BBY</th>\n      <th>cat_CAMPBELL</th>\n      <th>cat_CAPSTONE</th>\n      <th>cat_CDP</th>\n      <th>cat_CENTUM</th>\n      <th>cat_CHRONI'L</th>\n      <th>cat_DK(USA)</th>\n      <th>...</th>\n      <th>cat_USA</th>\n      <th>cat_</th>\n      <th>cat_ANDREWS</th>\n      <th>cat_AUTUMN</th>\n      <th>cat_BLOOMSBURY</th>\n      <th>cat_CAMPBELL</th>\n      <th>cat_CAPSTONE</th>\n      <th>cat_CDP</th>\n      <th>cat_CENTUM</th>\n      <th>cat_CHRONICLE</th>\n      <th>cat_DK(USA)</th>\n      <th>cat_EGM</th>\n      <th>cat_HC</th>\n      <th>cat_HC-USA</th>\n      <th>cat_HINKLER</th>\n      <th>cat_HODDER</th>\n      <th>cat_IGLOO</th>\n      <th>cat_KLUTZ</th>\n      <th>cat_KUMON</th>\n      <th>cat_L-BROWN</th>\n      <th>cat_LAKE</th>\n      <th>cat_LB</th>\n      <th>cat_MBI</th>\n      <th>cat_MML</th>\n      <th>cat_MML-C</th>\n      <th>cat_MML-USA</th>\n      <th>cat_NPP</th>\n      <th>cat_ORCHARD-UK</th>\n      <th>cat_PENGUIN</th>\n      <th>cat_PHIDAL</th>\n      <th>cat_PI</th>\n      <th>cat_PUFFIN</th>\n      <th>cat_RH</th>\n      <th>cat_S&amp;S</th>\n      <th>cat_SASSI</th>\n      <th>cat_SL</th>\n      <th>cat_SL-UK</th>\n      <th>cat_UB</th>\n      <th>cat_WALKER</th>\n      <th>cat_WORKMAN</th>\n    </tr>\n  </thead>\n  <tbody>\n    <tr>\n      <th>555</th>\n      <td>13.78</td>\n      <td>49.0</td>\n      <td>0</td>\n      <td>0</td>\n      <td>0</td>\n      <td>0</td>\n      <td>0</td>\n      <td>0</td>\n      <td>0</td>\n      <td>0</td>\n      <td>0</td>\n      <td>0</td>\n      <td>0</td>\n      <td>0</td>\n      <td>0</td>\n      <td>1</td>\n      <td>0</td>\n      <td>0</td>\n      <td>0</td>\n      <td>0</td>\n      <td>0</td>\n      <td>0</td>\n      <td>0</td>\n      <td>0</td>\n      <td>0</td>\n      <td>0</td>\n      <td>0</td>\n      <td>0</td>\n      <td>0</td>\n      <td>0</td>\n      <td>0</td>\n      <td>0</td>\n      <td>0</td>\n      <td>0</td>\n      <td>0</td>\n      <td>0</td>\n      <td>0</td>\n      <td>0</td>\n      <td>0</td>\n      <td>0</td>\n      <td>...</td>\n      <td>0</td>\n      <td>0</td>\n      <td>0</td>\n      <td>0</td>\n      <td>0</td>\n      <td>0</td>\n      <td>0</td>\n      <td>0</td>\n      <td>0</td>\n      <td>0</td>\n      <td>0</td>\n      <td>0</td>\n      <td>0</td>\n      <td>0</td>\n      <td>0</td>\n      <td>0</td>\n      <td>0</td>\n      <td>0</td>\n      <td>0</td>\n      <td>0</td>\n      <td>0</td>\n      <td>0</td>\n      <td>1</td>\n      <td>0</td>\n      <td>0</td>\n      <td>0</td>\n      <td>0</td>\n      <td>0</td>\n      <td>0</td>\n      <td>0</td>\n      <td>0</td>\n      <td>0</td>\n      <td>0</td>\n      <td>0</td>\n      <td>0</td>\n      <td>0</td>\n      <td>0</td>\n      <td>0</td>\n      <td>0</td>\n      <td>0</td>\n    </tr>\n    <tr>\n      <th>383</th>\n      <td>43.15</td>\n      <td>219.9</td>\n      <td>0</td>\n      <td>0</td>\n      <td>0</td>\n      <td>0</td>\n      <td>0</td>\n      <td>0</td>\n      <td>0</td>\n      <td>0</td>\n      <td>0</td>\n      <td>0</td>\n      <td>0</td>\n      <td>0</td>\n      <td>0</td>\n      <td>0</td>\n      <td>0</td>\n      <td>0</td>\n      <td>0</td>\n      <td>0</td>\n      <td>0</td>\n      <td>0</td>\n      <td>0</td>\n      <td>0</td>\n      <td>0</td>\n      <td>0</td>\n      <td>0</td>\n      <td>1</td>\n      <td>0</td>\n      <td>0</td>\n      <td>0</td>\n      <td>0</td>\n      <td>0</td>\n      <td>0</td>\n      <td>0</td>\n      <td>0</td>\n      <td>0</td>\n      <td>0</td>\n      <td>0</td>\n      <td>0</td>\n      <td>...</td>\n      <td>1</td>\n      <td>0</td>\n      <td>0</td>\n      <td>0</td>\n      <td>0</td>\n      <td>0</td>\n      <td>0</td>\n      <td>0</td>\n      <td>0</td>\n      <td>0</td>\n      <td>0</td>\n      <td>0</td>\n      <td>0</td>\n      <td>0</td>\n      <td>0</td>\n      <td>0</td>\n      <td>0</td>\n      <td>1</td>\n      <td>0</td>\n      <td>0</td>\n      <td>0</td>\n      <td>0</td>\n      <td>0</td>\n      <td>0</td>\n      <td>0</td>\n      <td>0</td>\n      <td>0</td>\n      <td>0</td>\n      <td>0</td>\n      <td>0</td>\n      <td>0</td>\n      <td>0</td>\n      <td>0</td>\n      <td>0</td>\n      <td>0</td>\n      <td>0</td>\n      <td>0</td>\n      <td>0</td>\n      <td>0</td>\n      <td>0</td>\n    </tr>\n    <tr>\n      <th>193</th>\n      <td>30.59</td>\n      <td>129.9</td>\n      <td>0</td>\n      <td>0</td>\n      <td>0</td>\n      <td>0</td>\n      <td>0</td>\n      <td>0</td>\n      <td>0</td>\n      <td>1</td>\n      <td>0</td>\n      <td>0</td>\n      <td>0</td>\n      <td>0</td>\n      <td>0</td>\n      <td>0</td>\n      <td>0</td>\n      <td>0</td>\n      <td>0</td>\n      <td>0</td>\n      <td>0</td>\n      <td>0</td>\n      <td>0</td>\n      <td>0</td>\n      <td>0</td>\n      <td>0</td>\n      <td>0</td>\n      <td>0</td>\n      <td>0</td>\n      <td>0</td>\n      <td>0</td>\n      <td>0</td>\n      <td>0</td>\n      <td>0</td>\n      <td>0</td>\n      <td>0</td>\n      <td>0</td>\n      <td>0</td>\n      <td>0</td>\n      <td>0</td>\n      <td>...</td>\n      <td>1</td>\n      <td>0</td>\n      <td>0</td>\n      <td>0</td>\n      <td>0</td>\n      <td>0</td>\n      <td>0</td>\n      <td>0</td>\n      <td>0</td>\n      <td>0</td>\n      <td>0</td>\n      <td>0</td>\n      <td>0</td>\n      <td>1</td>\n      <td>0</td>\n      <td>0</td>\n      <td>0</td>\n      <td>0</td>\n      <td>0</td>\n      <td>0</td>\n      <td>0</td>\n      <td>0</td>\n      <td>0</td>\n      <td>0</td>\n      <td>0</td>\n      <td>0</td>\n      <td>0</td>\n      <td>0</td>\n      <td>0</td>\n      <td>0</td>\n      <td>0</td>\n      <td>0</td>\n      <td>0</td>\n      <td>0</td>\n      <td>0</td>\n      <td>0</td>\n      <td>0</td>\n      <td>0</td>\n      <td>0</td>\n      <td>0</td>\n    </tr>\n    <tr>\n      <th>332</th>\n      <td>24.11</td>\n      <td>105.0</td>\n      <td>0</td>\n      <td>0</td>\n      <td>0</td>\n      <td>0</td>\n      <td>0</td>\n      <td>0</td>\n      <td>0</td>\n      <td>0</td>\n      <td>0</td>\n      <td>0</td>\n      <td>0</td>\n      <td>0</td>\n      <td>0</td>\n      <td>0</td>\n      <td>0</td>\n      <td>1</td>\n      <td>0</td>\n      <td>0</td>\n      <td>0</td>\n      <td>0</td>\n      <td>0</td>\n      <td>0</td>\n      <td>0</td>\n      <td>0</td>\n      <td>0</td>\n      <td>0</td>\n      <td>0</td>\n      <td>0</td>\n      <td>0</td>\n      <td>0</td>\n      <td>0</td>\n      <td>0</td>\n      <td>0</td>\n      <td>0</td>\n      <td>0</td>\n      <td>0</td>\n      <td>0</td>\n      <td>0</td>\n      <td>...</td>\n      <td>0</td>\n      <td>0</td>\n      <td>0</td>\n      <td>0</td>\n      <td>0</td>\n      <td>0</td>\n      <td>0</td>\n      <td>0</td>\n      <td>0</td>\n      <td>0</td>\n      <td>0</td>\n      <td>0</td>\n      <td>0</td>\n      <td>0</td>\n      <td>0</td>\n      <td>0</td>\n      <td>0</td>\n      <td>0</td>\n      <td>0</td>\n      <td>0</td>\n      <td>0</td>\n      <td>0</td>\n      <td>0</td>\n      <td>0</td>\n      <td>1</td>\n      <td>0</td>\n      <td>0</td>\n      <td>0</td>\n      <td>0</td>\n      <td>0</td>\n      <td>0</td>\n      <td>0</td>\n      <td>0</td>\n      <td>0</td>\n      <td>0</td>\n      <td>0</td>\n      <td>0</td>\n      <td>0</td>\n      <td>0</td>\n      <td>0</td>\n    </tr>\n    <tr>\n      <th>265</th>\n      <td>141.28</td>\n      <td>599.9</td>\n      <td>0</td>\n      <td>0</td>\n      <td>0</td>\n      <td>0</td>\n      <td>0</td>\n      <td>0</td>\n      <td>0</td>\n      <td>0</td>\n      <td>0</td>\n      <td>0</td>\n      <td>0</td>\n      <td>0</td>\n      <td>0</td>\n      <td>0</td>\n      <td>0</td>\n      <td>0</td>\n      <td>0</td>\n      <td>0</td>\n      <td>0</td>\n      <td>0</td>\n      <td>0</td>\n      <td>0</td>\n      <td>0</td>\n      <td>1</td>\n      <td>0</td>\n      <td>0</td>\n      <td>0</td>\n      <td>0</td>\n      <td>0</td>\n      <td>0</td>\n      <td>0</td>\n      <td>0</td>\n      <td>0</td>\n      <td>0</td>\n      <td>0</td>\n      <td>0</td>\n      <td>0</td>\n      <td>0</td>\n      <td>...</td>\n      <td>1</td>\n      <td>0</td>\n      <td>0</td>\n      <td>0</td>\n      <td>0</td>\n      <td>0</td>\n      <td>0</td>\n      <td>0</td>\n      <td>0</td>\n      <td>0</td>\n      <td>0</td>\n      <td>0</td>\n      <td>0</td>\n      <td>0</td>\n      <td>0</td>\n      <td>0</td>\n      <td>0</td>\n      <td>0</td>\n      <td>0</td>\n      <td>0</td>\n      <td>0</td>\n      <td>0</td>\n      <td>0</td>\n      <td>0</td>\n      <td>0</td>\n      <td>0</td>\n      <td>0</td>\n      <td>0</td>\n      <td>0</td>\n      <td>0</td>\n      <td>0</td>\n      <td>0</td>\n      <td>0</td>\n      <td>1</td>\n      <td>0</td>\n      <td>0</td>\n      <td>0</td>\n      <td>0</td>\n      <td>0</td>\n      <td>0</td>\n    </tr>\n    <tr>\n      <th>...</th>\n      <td>...</td>\n      <td>...</td>\n      <td>...</td>\n      <td>...</td>\n      <td>...</td>\n      <td>...</td>\n      <td>...</td>\n      <td>...</td>\n      <td>...</td>\n      <td>...</td>\n      <td>...</td>\n      <td>...</td>\n      <td>...</td>\n      <td>...</td>\n      <td>...</td>\n      <td>...</td>\n      <td>...</td>\n      <td>...</td>\n      <td>...</td>\n      <td>...</td>\n      <td>...</td>\n      <td>...</td>\n      <td>...</td>\n      <td>...</td>\n      <td>...</td>\n      <td>...</td>\n      <td>...</td>\n      <td>...</td>\n      <td>...</td>\n      <td>...</td>\n      <td>...</td>\n      <td>...</td>\n      <td>...</td>\n      <td>...</td>\n      <td>...</td>\n      <td>...</td>\n      <td>...</td>\n      <td>...</td>\n      <td>...</td>\n      <td>...</td>\n      <td>...</td>\n      <td>...</td>\n      <td>...</td>\n      <td>...</td>\n      <td>...</td>\n      <td>...</td>\n      <td>...</td>\n      <td>...</td>\n      <td>...</td>\n      <td>...</td>\n      <td>...</td>\n      <td>...</td>\n      <td>...</td>\n      <td>...</td>\n      <td>...</td>\n      <td>...</td>\n      <td>...</td>\n      <td>...</td>\n      <td>...</td>\n      <td>...</td>\n      <td>...</td>\n      <td>...</td>\n      <td>...</td>\n      <td>...</td>\n      <td>...</td>\n      <td>...</td>\n      <td>...</td>\n      <td>...</td>\n      <td>...</td>\n      <td>...</td>\n      <td>...</td>\n      <td>...</td>\n      <td>...</td>\n      <td>...</td>\n      <td>...</td>\n      <td>...</td>\n      <td>...</td>\n      <td>...</td>\n      <td>...</td>\n      <td>...</td>\n      <td>...</td>\n    </tr>\n    <tr>\n      <th>435</th>\n      <td>63.78</td>\n      <td>249.0</td>\n      <td>0</td>\n      <td>0</td>\n      <td>0</td>\n      <td>0</td>\n      <td>0</td>\n      <td>0</td>\n      <td>0</td>\n      <td>0</td>\n      <td>0</td>\n      <td>0</td>\n      <td>0</td>\n      <td>0</td>\n      <td>0</td>\n      <td>0</td>\n      <td>0</td>\n      <td>0</td>\n      <td>0</td>\n      <td>0</td>\n      <td>0</td>\n      <td>0</td>\n      <td>0</td>\n      <td>0</td>\n      <td>0</td>\n      <td>0</td>\n      <td>1</td>\n      <td>0</td>\n      <td>0</td>\n      <td>0</td>\n      <td>0</td>\n      <td>0</td>\n      <td>0</td>\n      <td>0</td>\n      <td>0</td>\n      <td>0</td>\n      <td>0</td>\n      <td>0</td>\n      <td>0</td>\n      <td>0</td>\n      <td>...</td>\n      <td>0</td>\n      <td>0</td>\n      <td>0</td>\n      <td>0</td>\n      <td>0</td>\n      <td>0</td>\n      <td>0</td>\n      <td>0</td>\n      <td>0</td>\n      <td>0</td>\n      <td>0</td>\n      <td>0</td>\n      <td>0</td>\n      <td>0</td>\n      <td>0</td>\n      <td>0</td>\n      <td>0</td>\n      <td>0</td>\n      <td>0</td>\n      <td>0</td>\n      <td>0</td>\n      <td>0</td>\n      <td>0</td>\n      <td>0</td>\n      <td>0</td>\n      <td>0</td>\n      <td>0</td>\n      <td>0</td>\n      <td>0</td>\n      <td>0</td>\n      <td>0</td>\n      <td>0</td>\n      <td>0</td>\n      <td>0</td>\n      <td>1</td>\n      <td>0</td>\n      <td>0</td>\n      <td>0</td>\n      <td>0</td>\n      <td>0</td>\n    </tr>\n    <tr>\n      <th>239</th>\n      <td>15.68</td>\n      <td>79.9</td>\n      <td>0</td>\n      <td>0</td>\n      <td>0</td>\n      <td>0</td>\n      <td>0</td>\n      <td>0</td>\n      <td>0</td>\n      <td>1</td>\n      <td>0</td>\n      <td>0</td>\n      <td>0</td>\n      <td>0</td>\n      <td>0</td>\n      <td>0</td>\n      <td>0</td>\n      <td>0</td>\n      <td>0</td>\n      <td>0</td>\n      <td>0</td>\n      <td>0</td>\n      <td>0</td>\n      <td>0</td>\n      <td>0</td>\n      <td>0</td>\n      <td>0</td>\n      <td>0</td>\n      <td>0</td>\n      <td>0</td>\n      <td>0</td>\n      <td>0</td>\n      <td>0</td>\n      <td>0</td>\n      <td>0</td>\n      <td>0</td>\n      <td>0</td>\n      <td>0</td>\n      <td>0</td>\n      <td>0</td>\n      <td>...</td>\n      <td>1</td>\n      <td>0</td>\n      <td>0</td>\n      <td>0</td>\n      <td>0</td>\n      <td>0</td>\n      <td>0</td>\n      <td>0</td>\n      <td>0</td>\n      <td>0</td>\n      <td>0</td>\n      <td>0</td>\n      <td>0</td>\n      <td>1</td>\n      <td>0</td>\n      <td>0</td>\n      <td>0</td>\n      <td>0</td>\n      <td>0</td>\n      <td>0</td>\n      <td>0</td>\n      <td>0</td>\n      <td>0</td>\n      <td>0</td>\n      <td>0</td>\n      <td>0</td>\n      <td>0</td>\n      <td>0</td>\n      <td>0</td>\n      <td>0</td>\n      <td>0</td>\n      <td>0</td>\n      <td>0</td>\n      <td>0</td>\n      <td>0</td>\n      <td>0</td>\n      <td>0</td>\n      <td>0</td>\n      <td>0</td>\n      <td>0</td>\n    </tr>\n    <tr>\n      <th>688</th>\n      <td>21.12</td>\n      <td>89.0</td>\n      <td>0</td>\n      <td>0</td>\n      <td>0</td>\n      <td>0</td>\n      <td>0</td>\n      <td>0</td>\n      <td>0</td>\n      <td>0</td>\n      <td>0</td>\n      <td>0</td>\n      <td>0</td>\n      <td>0</td>\n      <td>1</td>\n      <td>0</td>\n      <td>0</td>\n      <td>0</td>\n      <td>0</td>\n      <td>0</td>\n      <td>0</td>\n      <td>0</td>\n      <td>0</td>\n      <td>0</td>\n      <td>0</td>\n      <td>0</td>\n      <td>0</td>\n      <td>0</td>\n      <td>0</td>\n      <td>0</td>\n      <td>0</td>\n      <td>0</td>\n      <td>0</td>\n      <td>0</td>\n      <td>0</td>\n      <td>0</td>\n      <td>0</td>\n      <td>0</td>\n      <td>0</td>\n      <td>0</td>\n      <td>...</td>\n      <td>0</td>\n      <td>0</td>\n      <td>0</td>\n      <td>0</td>\n      <td>0</td>\n      <td>0</td>\n      <td>0</td>\n      <td>0</td>\n      <td>0</td>\n      <td>0</td>\n      <td>0</td>\n      <td>0</td>\n      <td>0</td>\n      <td>0</td>\n      <td>0</td>\n      <td>0</td>\n      <td>0</td>\n      <td>0</td>\n      <td>0</td>\n      <td>0</td>\n      <td>1</td>\n      <td>0</td>\n      <td>0</td>\n      <td>0</td>\n      <td>0</td>\n      <td>0</td>\n      <td>0</td>\n      <td>0</td>\n      <td>0</td>\n      <td>0</td>\n      <td>0</td>\n      <td>0</td>\n      <td>0</td>\n      <td>0</td>\n      <td>0</td>\n      <td>0</td>\n      <td>0</td>\n      <td>0</td>\n      <td>0</td>\n      <td>0</td>\n    </tr>\n    <tr>\n      <th>436</th>\n      <td>63.78</td>\n      <td>249.0</td>\n      <td>0</td>\n      <td>0</td>\n      <td>0</td>\n      <td>0</td>\n      <td>0</td>\n      <td>0</td>\n      <td>0</td>\n      <td>0</td>\n      <td>0</td>\n      <td>0</td>\n      <td>0</td>\n      <td>0</td>\n      <td>0</td>\n      <td>0</td>\n      <td>0</td>\n      <td>0</td>\n      <td>0</td>\n      <td>0</td>\n      <td>0</td>\n      <td>0</td>\n      <td>0</td>\n      <td>0</td>\n      <td>0</td>\n      <td>0</td>\n      <td>1</td>\n      <td>0</td>\n      <td>0</td>\n      <td>0</td>\n      <td>0</td>\n      <td>0</td>\n      <td>0</td>\n      <td>0</td>\n      <td>0</td>\n      <td>0</td>\n      <td>0</td>\n      <td>0</td>\n      <td>0</td>\n      <td>0</td>\n      <td>...</td>\n      <td>0</td>\n      <td>0</td>\n      <td>0</td>\n      <td>0</td>\n      <td>0</td>\n      <td>0</td>\n      <td>0</td>\n      <td>0</td>\n      <td>0</td>\n      <td>0</td>\n      <td>0</td>\n      <td>0</td>\n      <td>0</td>\n      <td>0</td>\n      <td>0</td>\n      <td>0</td>\n      <td>0</td>\n      <td>0</td>\n      <td>0</td>\n      <td>0</td>\n      <td>0</td>\n      <td>0</td>\n      <td>0</td>\n      <td>0</td>\n      <td>0</td>\n      <td>0</td>\n      <td>0</td>\n      <td>0</td>\n      <td>0</td>\n      <td>0</td>\n      <td>0</td>\n      <td>0</td>\n      <td>0</td>\n      <td>0</td>\n      <td>1</td>\n      <td>0</td>\n      <td>0</td>\n      <td>0</td>\n      <td>0</td>\n      <td>0</td>\n    </tr>\n    <tr>\n      <th>227</th>\n      <td>31.40</td>\n      <td>200.0</td>\n      <td>0</td>\n      <td>0</td>\n      <td>0</td>\n      <td>0</td>\n      <td>0</td>\n      <td>0</td>\n      <td>0</td>\n      <td>0</td>\n      <td>0</td>\n      <td>0</td>\n      <td>0</td>\n      <td>0</td>\n      <td>0</td>\n      <td>0</td>\n      <td>0</td>\n      <td>0</td>\n      <td>0</td>\n      <td>0</td>\n      <td>1</td>\n      <td>0</td>\n      <td>0</td>\n      <td>0</td>\n      <td>0</td>\n      <td>0</td>\n      <td>0</td>\n      <td>0</td>\n      <td>0</td>\n      <td>0</td>\n      <td>0</td>\n      <td>0</td>\n      <td>0</td>\n      <td>0</td>\n      <td>0</td>\n      <td>0</td>\n      <td>0</td>\n      <td>0</td>\n      <td>0</td>\n      <td>1</td>\n      <td>...</td>\n      <td>1</td>\n      <td>0</td>\n      <td>0</td>\n      <td>0</td>\n      <td>0</td>\n      <td>0</td>\n      <td>0</td>\n      <td>0</td>\n      <td>0</td>\n      <td>0</td>\n      <td>1</td>\n      <td>0</td>\n      <td>0</td>\n      <td>0</td>\n      <td>0</td>\n      <td>0</td>\n      <td>0</td>\n      <td>0</td>\n      <td>0</td>\n      <td>0</td>\n      <td>0</td>\n      <td>0</td>\n      <td>0</td>\n      <td>0</td>\n      <td>0</td>\n      <td>0</td>\n      <td>0</td>\n      <td>0</td>\n      <td>0</td>\n      <td>0</td>\n      <td>0</td>\n      <td>0</td>\n      <td>0</td>\n      <td>0</td>\n      <td>0</td>\n      <td>0</td>\n      <td>0</td>\n      <td>0</td>\n      <td>0</td>\n      <td>0</td>\n    </tr>\n  </tbody>\n</table>\n<p>764 rows × 152 columns</p>\n</div>",
       "datasetInfos": [],
       "metadata": {},
       "removedWidgets": [],
       "textData": null,
       "type": "htmlSandbox"
      }
     },
     "output_type": "display_data"
    }
   ],
   "source": [
    "x_data"
   ]
  },
  {
   "cell_type": "code",
   "execution_count": 0,
   "metadata": {
    "application/vnd.databricks.v1+cell": {
     "cellMetadata": {
      "byteLimit": 2048000,
      "rowLimit": 10000
     },
     "inputWidgets": {},
     "nuid": "3c12c5f5-1657-4a8b-acf5-d675b97b023e",
     "showTitle": false,
     "title": ""
    }
   },
   "outputs": [
    {
     "output_type": "display_data",
     "data": {
      "text/html": [
       "<style scoped>\n",
       "  .ansiout {\n",
       "    display: block;\n",
       "    unicode-bidi: embed;\n",
       "    white-space: pre-wrap;\n",
       "    word-wrap: break-word;\n",
       "    word-break: break-all;\n",
       "    font-family: \"Source Code Pro\", \"Menlo\", monospace;;\n",
       "    font-size: 13px;\n",
       "    color: #555;\n",
       "    margin-left: 4px;\n",
       "    line-height: 19px;\n",
       "  }\n",
       "</style>\n",
       "<div class=\"ansiout\"></div>"
      ]
     },
     "metadata": {
      "application/vnd.databricks.v1+output": {
       "addedWidgets": {},
       "arguments": {},
       "data": "<div class=\"ansiout\"></div>",
       "datasetInfos": [],
       "metadata": {},
       "removedWidgets": [],
       "type": "html"
      }
     },
     "output_type": "display_data"
    }
   ],
   "source": [
    "model = keras.models.Sequential()\n",
    "model.add(layers.Dense(512, activation='relu',input_dim=x_data.shape[1]))\n",
    "model.add(layers.Dropout(0.5))\n",
    "model.add(layers.Dense(256, activation='relu'))\n",
    "model.add(layers.Dropout(0.25))\n",
    "model.add(layers.Dense(1, activation='sigmoid'))\n",
    "model.compile(loss=keras.losses.BinaryCrossentropy(), optimizer='adam', metrics=['accuracy'])"
   ]
  },
  {
   "cell_type": "code",
   "execution_count": 0,
   "metadata": {
    "application/vnd.databricks.v1+cell": {
     "cellMetadata": {
      "byteLimit": 2048000,
      "rowLimit": 10000
     },
     "inputWidgets": {},
     "nuid": "b0d0d29b-4d0e-4d94-8032-118e55edf63d",
     "showTitle": false,
     "title": ""
    }
   },
   "outputs": [
    {
     "output_type": "display_data",
     "data": {
      "text/html": [
       "<style scoped>\n",
       "  .ansiout {\n",
       "    display: block;\n",
       "    unicode-bidi: embed;\n",
       "    white-space: pre-wrap;\n",
       "    word-wrap: break-word;\n",
       "    word-break: break-all;\n",
       "    font-family: \"Source Code Pro\", \"Menlo\", monospace;;\n",
       "    font-size: 13px;\n",
       "    color: #555;\n",
       "    margin-left: 4px;\n",
       "    line-height: 19px;\n",
       "  }\n",
       "</style>\n",
       "<div class=\"ansiout\"></div>"
      ]
     },
     "metadata": {
      "application/vnd.databricks.v1+output": {
       "addedWidgets": {},
       "arguments": {},
       "data": "<div class=\"ansiout\"></div>",
       "datasetInfos": [],
       "metadata": {},
       "removedWidgets": [],
       "type": "html"
      }
     },
     "output_type": "display_data"
    }
   ],
   "source": [
    "image = visualkeras.layered_view(model, legend=True)"
   ]
  },
  {
   "cell_type": "code",
   "execution_count": 0,
   "metadata": {
    "application/vnd.databricks.v1+cell": {
     "cellMetadata": {
      "byteLimit": 2048000,
      "rowLimit": 10000
     },
     "inputWidgets": {},
     "nuid": "8fa786c9-8390-4712-9e93-0cb05a8ed904",
     "showTitle": false,
     "title": ""
    }
   },
   "outputs": [
    {
     "output_type": "display_data",
     "data": {
      "image/png": "[encoded data removed]"
     },
     "metadata": {
      "application/vnd.databricks.v1+output": {
       "addedWidgets": {},
       "arguments": {},
       "data": "data:image/png;base64,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",
       "datasetInfos": [],
       "metadata": {
        "imageDimensions": {
         "height": 122,
         "width": 368
        }
       },
       "removedWidgets": [],
       "type": "image"
      },
      "image/png": {
       "height": 122,
       "width": 368
      }
     },
     "output_type": "display_data"
    }
   ],
   "source": [
    "imgplot = plt.imshow(image)\n",
    "plt.show()"
   ]
  },
  {
   "cell_type": "code",
   "execution_count": 0,
   "metadata": {
    "application/vnd.databricks.v1+cell": {
     "cellMetadata": {
      "byteLimit": 2048000,
      "rowLimit": 10000
     },
     "inputWidgets": {},
     "nuid": "42d942dc-fd13-4fa4-b29a-3b26a680ac04",
     "showTitle": false,
     "title": ""
    }
   },
   "outputs": [
    {
     "output_type": "display_data",
     "data": {
      "text/html": [
       "<style scoped>\n",
       "  .ansiout {\n",
       "    display: block;\n",
       "    unicode-bidi: embed;\n",
       "    white-space: pre-wrap;\n",
       "    word-wrap: break-word;\n",
       "    word-break: break-all;\n",
       "    font-family: \"Source Code Pro\", \"Menlo\", monospace;;\n",
       "    font-size: 13px;\n",
       "    color: #555;\n",
       "    margin-left: 4px;\n",
       "    line-height: 19px;\n",
       "  }\n",
       "</style>\n",
       "<div class=\"ansiout\">Model: &#34;sequential&#34;\n",
       "_________________________________________________________________\n",
       " Layer (type)                Output Shape              Param #   \n",
       "=================================================================\n",
       " dense (Dense)               (None, 512)               78336     \n",
       "                                                                 \n",
       " dropout (Dropout)           (None, 512)               0         \n",
       "                                                                 \n",
       " dense_1 (Dense)             (None, 256)               131328    \n",
       "                                                                 \n",
       " dropout_1 (Dropout)         (None, 256)               0         \n",
       "                                                                 \n",
       " dense_2 (Dense)             (None, 1)                 257       \n",
       "                                                                 \n",
       "=================================================================\n",
       "Total params: 209,921\n",
       "Trainable params: 209,921\n",
       "Non-trainable params: 0\n",
       "_________________________________________________________________\n",
       "</div>"
      ]
     },
     "metadata": {
      "application/vnd.databricks.v1+output": {
       "addedWidgets": {},
       "arguments": {},
       "data": "<div class=\"ansiout\">Model: &#34;sequential&#34;\n_________________________________________________________________\n Layer (type)                Output Shape              Param #   \n=================================================================\n dense (Dense)               (None, 512)               78336     \n                                                                 \n dropout (Dropout)           (None, 512)               0         \n                                                                 \n dense_1 (Dense)             (None, 256)               131328    \n                                                                 \n dropout_1 (Dropout)         (None, 256)               0         \n                                                                 \n dense_2 (Dense)             (None, 1)                 257       \n                                                                 \n=================================================================\nTotal params: 209,921\nTrainable params: 209,921\nNon-trainable params: 0\n_________________________________________________________________\n</div>",
       "datasetInfos": [],
       "metadata": {},
       "removedWidgets": [],
       "type": "html"
      }
     },
     "output_type": "display_data"
    }
   ],
   "source": [
    "model.summary()"
   ]
  },
  {
   "cell_type": "code",
   "execution_count": 0,
   "metadata": {
    "application/vnd.databricks.v1+cell": {
     "cellMetadata": {
      "byteLimit": 2048000,
      "rowLimit": 10000
     },
     "inputWidgets": {},
     "nuid": "f2ae36ce-2e43-4861-ab7b-561a58c8a925",
     "showTitle": false,
     "title": ""
    }
   },
   "outputs": [
    {
     "output_type": "display_data",
     "data": {
      "text/html": [
       "<style scoped>\n",
       "  .ansiout {\n",
       "    display: block;\n",
       "    unicode-bidi: embed;\n",
       "    white-space: pre-wrap;\n",
       "    word-wrap: break-word;\n",
       "    word-break: break-all;\n",
       "    font-family: \"Source Code Pro\", \"Menlo\", monospace;;\n",
       "    font-size: 13px;\n",
       "    color: #555;\n",
       "    margin-left: 4px;\n",
       "    line-height: 19px;\n",
       "  }\n",
       "</style>\n",
       "<div class=\"ansiout\">Out[27]: (764, 764)</div>"
      ]
     },
     "metadata": {
      "application/vnd.databricks.v1+output": {
       "addedWidgets": {},
       "arguments": {},
       "data": "<div class=\"ansiout\">Out[27]: (764, 764)</div>",
       "datasetInfos": [],
       "metadata": {},
       "removedWidgets": [],
       "type": "html"
      }
     },
     "output_type": "display_data"
    }
   ],
   "source": [
    "len(x_data),len(y_data)"
   ]
  },
  {
   "cell_type": "code",
   "execution_count": 0,
   "metadata": {
    "application/vnd.databricks.v1+cell": {
     "cellMetadata": {
      "byteLimit": 2048000,
      "rowLimit": 10000
     },
     "inputWidgets": {},
     "nuid": "728951aa-e624-4c3e-9935-5d101949b1ef",
     "showTitle": false,
     "title": ""
    }
   },
   "outputs": [
    {
     "output_type": "display_data",
     "data": {
      "text/html": [
       "<style scoped>\n",
       "  .ansiout {\n",
       "    display: block;\n",
       "    unicode-bidi: embed;\n",
       "    white-space: pre-wrap;\n",
       "    word-wrap: break-word;\n",
       "    word-break: break-all;\n",
       "    font-family: \"Source Code Pro\", \"Menlo\", monospace;;\n",
       "    font-size: 13px;\n",
       "    color: #555;\n",
       "    margin-left: 4px;\n",
       "    line-height: 19px;\n",
       "  }\n",
       "</style>\n",
       "<div class=\"ansiout\">Epoch 1/100\n",
       "\r 1/24 [&gt;.............................] - ETA: 15s - loss: 2.2597 - accuracy: 0.3750\b\b\b\b\b\b\b\b\b\b\b\b\b\b\b\b\b\b\b\b\b\b\b\b\b\b\b\b\b\b\b\b\b\b\b\b\b\b\b\b\b\b\b\b\b\b\b\b\b\b\b\b\b\b\b\b\b\b\b\b\b\b\b\b\b\b\b\b\b\b\b\b\b\b\b\b\b\b\b\b\b\b\b\r18/24 [=====================&gt;........] - ETA: 0s - loss: 1.3123 - accuracy: 0.9427 \b\b\b\b\b\b\b\b\b\b\b\b\b\b\b\b\b\b\b\b\b\b\b\b\b\b\b\b\b\b\b\b\b\b\b\b\b\b\b\b\b\b\b\b\b\b\b\b\b\b\b\b\b\b\b\b\b\b\b\b\b\b\b\b\b\b\b\b\b\b\b\b\b\b\b\b\b\b\b\b\b\b\r24/24 [==============================] - 1s 13ms/step - loss: 1.1137 - accuracy: 0.9516\n",
       "Epoch 2/100\n",
       "\r 1/24 [&gt;.............................] - ETA: 0s - loss: 0.0080 - accuracy: 1.0000\b\b\b\b\b\b\b\b\b\b\b\b\b\b\b\b\b\b\b\b\b\b\b\b\b\b\b\b\b\b\b\b\b\b\b\b\b\b\b\b\b\b\b\b\b\b\b\b\b\b\b\b\b\b\b\b\b\b\b\b\b\b\b\b\b\b\b\b\b\b\b\b\b\b\b\b\b\b\b\b\b\b\r19/24 [======================&gt;.......] - ETA: 0s - loss: 0.4298 - accuracy: 0.9441\b\b\b\b\b\b\b\b\b\b\b\b\b\b\b\b\b\b\b\b\b\b\b\b\b\b\b\b\b\b\b\b\b\b\b\b\b\b\b\b\b\b\b\b\b\b\b\b\b\b\b\b\b\b\b\b\b\b\b\b\b\b\b\b\b\b\b\b\b\b\b\b\b\b\b\b\b\b\b\b\b\b\r24/24 [==============================] - 0s 3ms/step - loss: 0.4596 - accuracy: 0.9490\n",
       "Epoch 3/100\n",
       "\r 1/24 [&gt;.............................] - ETA: 0s - loss: 0.9215 - accuracy: 0.9375\b\b\b\b\b\b\b\b\b\b\b\b\b\b\b\b\b\b\b\b\b\b\b\b\b\b\b\b\b\b\b\b\b\b\b\b\b\b\b\b\b\b\b\b\b\b\b\b\b\b\b\b\b\b\b\b\b\b\b\b\b\b\b\b\b\b\b\b\b\b\b\b\b\b\b\b\b\b\b\b\b\b\r18/24 [=====================&gt;........] - ETA: 0s - loss: 0.3403 - accuracy: 0.9549\b\b\b\b\b\b\b\b\b\b\b\b\b\b\b\b\b\b\b\b\b\b\b\b\b\b\b\b\b\b\b\b\b\b\b\b\b\b\b\b\b\b\b\b\b\b\b\b\b\b\b\b\b\b\b\b\b\b\b\b\b\b\b\b\b\b\b\b\b\b\b\b\b\b\b\b\b\b\b\b\b\b\r24/24 [==============================] - 0s 3ms/step - loss: 0.3436 - accuracy: 0.9594\n",
       "Epoch 4/100\n",
       "\r 1/24 [&gt;.............................] - ETA: 0s - loss: 0.0355 - accuracy: 1.0000\b\b\b\b\b\b\b\b\b\b\b\b\b\b\b\b\b\b\b\b\b\b\b\b\b\b\b\b\b\b\b\b\b\b\b\b\b\b\b\b\b\b\b\b\b\b\b\b\b\b\b\b\b\b\b\b\b\b\b\b\b\b\b\b\b\b\b\b\b\b\b\b\b\b\b\b\b\b\b\b\b\b\r19/24 [======================&gt;.......] - ETA: 0s - loss: 0.3056 - accuracy: 0.9589\b\b\b\b\b\b\b\b\b\b\b\b\b\b\b\b\b\b\b\b\b\b\b\b\b\b\b\b\b\b\b\b\b\b\b\b\b\b\b\b\b\b\b\b\b\b\b\b\b\b\b\b\b\b\b\b\b\b\b\b\b\b\b\b\b\b\b\b\b\b\b\b\b\b\b\b\b\b\b\b\b\b\r24/24 [==============================] - 0s 3ms/step - loss: 0.3150 - accuracy: 0.9516\n",
       "Epoch 5/100\n",
       "\r 1/24 [&gt;.............................] - ETA: 0s - loss: 0.3202 - accuracy: 0.9688\b\b\b\b\b\b\b\b\b\b\b\b\b\b\b\b\b\b\b\b\b\b\b\b\b\b\b\b\b\b\b\b\b\b\b\b\b\b\b\b\b\b\b\b\b\b\b\b\b\b\b\b\b\b\b\b\b\b\b\b\b\b\b\b\b\b\b\b\b\b\b\b\b\b\b\b\b\b\b\b\b\b\r20/24 [========================&gt;.....] - ETA: 0s - loss: 0.2811 - accuracy: 0.9672\b\b\b\b\b\b\b\b\b\b\b\b\b\b\b\b\b\b\b\b\b\b\b\b\b\b\b\b\b\b\b\b\b\b\b\b\b\b\b\b\b\b\b\b\b\b\b\b\b\b\b\b\b\b\b\b\b\b\b\b\b\b\b\b\b\b\b\b\b\b\b\b\b\b\b\b\b\b\b\b\b\b\r24/24 [==============================] - 0s 3ms/step - loss: 0.2816 - accuracy: 0.9673\n",
       "Epoch 6/100\n",
       "\r 1/24 [&gt;.............................] - ETA: 0s - loss: 0.0447 - accuracy: 1.0000\b\b\b\b\b\b\b\b\b\b\b\b\b\b\b\b\b\b\b\b\b\b\b\b\b\b\b\b\b\b\b\b\b\b\b\b\b\b\b\b\b\b\b\b\b\b\b\b\b\b\b\b\b\b\b\b\b\b\b\b\b\b\b\b\b\b\b\b\b\b\b\b\b\b\b\b\b\b\b\b\b\b\r15/24 [=================&gt;............] - ETA: 0s - loss: 0.2735 - accuracy: 0.9750\b\b\b\b\b\b\b\b\b\b\b\b\b\b\b\b\b\b\b\b\b\b\b\b\b\b\b\b\b\b\b\b\b\b\b\b\b\b\b\b\b\b\b\b\b\b\b\b\b\b\b\b\b\b\b\b\b\b\b\b\b\b\b\b\b\b\b\b\b\b\b\b\b\b\b\b\b\b\b\b\b\b\r24/24 [==============================] - 0s 4ms/step - loss: 0.2384 - accuracy: 0.9686\n",
       "Epoch 7/100\n",
       "\r 1/24 [&gt;.............................] - ETA: 0s - loss: 0.0630 - accuracy: 1.0000\b\b\b\b\b\b\b\b\b\b\b\b\b\b\b\b\b\b\b\b\b\b\b\b\b\b\b\b\b\b\b\b\b\b\b\b\b\b\b\b\b\b\b\b\b\b\b\b\b\b\b\b\b\b\b\b\b\b\b\b\b\b\b\b\b\b\b\b\b\b\b\b\b\b\b\b\b\b\b\b\b\b\r20/24 [========================&gt;.....] - ETA: 0s - loss: 0.2048 - accuracy: 0.9719\b\b\b\b\b\b\b\b\b\b\b\b\b\b\b\b\b\b\b\b\b\b\b\b\b\b\b\b\b\b\b\b\b\b\b\b\b\b\b\b\b\b\b\b\b\b\b\b\b\b\b\b\b\b\b\b\b\b\b\b\b\b\b\b\b\b\b\b\b\b\b\b\b\b\b\b\b\b\b\b\b\b\r24/24 [==============================] - 0s 3ms/step - loss: 0.2192 - accuracy: 0.9712\n",
       "Epoch 8/100\n",
       "\r 1/24 [&gt;.............................] - ETA: 0s - loss: 0.2965 - accuracy: 0.9688\b\b\b\b\b\b\b\b\b\b\b\b\b\b\b\b\b\b\b\b\b\b\b\b\b\b\b\b\b\b\b\b\b\b\b\b\b\b\b\b\b\b\b\b\b\b\b\b\b\b\b\b\b\b\b\b\b\b\b\b\b\b\b\b\b\b\b\b\b\b\b\b\b\b\b\b\b\b\b\b\b\b\r20/24 [========================&gt;.....] - ETA: 0s - loss: 0.2261 - accuracy: 0.9703\b\b\b\b\b\b\b\b\b\b\b\b\b\b\b\b\b\b\b\b\b\b\b\b\b\b\b\b\b\b\b\b\b\b\b\b\b\b\b\b\b\b\b\b\b\b\b\b\b\b\b\b\b\b\b\b\b\b\b\b\b\b\b\b\b\b\b\b\b\b\b\b\b\b\b\b\b\b\b\b\b\b\r24/24 [==============================] - 0s 3ms/step - loss: 0.2388 - accuracy: 0.9699\n",
       "Epoch 9/100\n",
       "\r 1/24 [&gt;.............................] - ETA: 0s - loss: 0.6020 - accuracy: 0.9375\b\b\b\b\b\b\b\b\b\b\b\b\b\b\b\b\b\b\b\b\b\b\b\b\b\b\b\b\b\b\b\b\b\b\b\b\b\b\b\b\b\b\b\b\b\b\b\b\b\b\b\b\b\b\b\b\b\b\b\b\b\b\b\b\b\b\b\b\b\b\b\b\b\b\b\b\b\b\b\b\b\b\r20/24 [========================&gt;.....] - ETA: 0s - loss: 0.2449 - accuracy: 0.9672\b\b\b\b\b\b\b\b\b\b\b\b\b\b\b\b\b\b\b\b\b\b\b\b\b\b\b\b\b\b\b\b\b\b\b\b\b\b\b\b\b\b\b\b\b\b\b\b\b\b\b\b\b\b\b\b\b\b\b\b\b\b\b\b\b\b\b\b\b\b\b\b\b\b\b\b\b\b\b\b\b\b\r24/24 [==============================] - 0s 3ms/step - loss: 0.2349 - accuracy: 0.9673\n",
       "Epoch 10/100\n",
       "\r 1/24 [&gt;.............................] - ETA: 0s - loss: 0.2431 - accuracy: 0.9688\b\b\b\b\b\b\b\b\b\b\b\b\b\b\b\b\b\b\b\b\b\b\b\b\b\b\b\b\b\b\b\b\b\b\b\b\b\b\b\b\b\b\b\b\b\b\b\b\b\b\b\b\b\b\b\b\b\b\b\b\b\b\b\b\b\b\b\b\b\b\b\b\b\b\b\b\b\b\b\b\b\b\r17/24 [====================&gt;.........] - ETA: 0s - loss: 0.2069 - accuracy: 0.9724\b\b\b\b\b\b\b\b\b\b\b\b\b\b\b\b\b\b\b\b\b\b\b\b\b\b\b\b\b\b\b\b\b\b\b\b\b\b\b\b\b\b\b\b\b\b\b\b\b\b\b\b\b\b\b\b\b\b\b\b\b\b\b\b\b\b\b\b\b\b\b\b\b\b\b\b\b\b\b\b\b\b\r24/24 [==============================] - 0s 3ms/step - loss: 0.2259 - accuracy: 0.9725\n",
       "Epoch 11/100\n",
       "\r 1/24 [&gt;.............................] - ETA: 0s - loss: 0.0260 - accuracy: 1.0000\b\b\b\b\b\b\b\b\b\b\b\b\b\b\b\b\b\b\b\b\b\b\b\b\b\b\b\b\b\b\b\b\b\b\b\b\b\b\b\b\b\b\b\b\b\b\b\b\b\b\b\b\b\b\b\b\b\b\b\b\b\b\b\b\b\b\b\b\b\b\b\b\b\b\b\b\b\b\b\b\b\b\r20/24 [========================&gt;.....] - ETA: 0s - loss: 0.1932 - accuracy: 0.9781\b\b\b\b\b\b\b\b\b\b\b\b\b\b\b\b\b\b\b\b\b\b\b\b\b\b\b\b\b\b\b\b\b\b\b\b\b\b\b\b\b\b\b\b\b\b\b\b\b\b\b\b\b\b\b\b\b\b\b\b\b\b\b\b\b\b\b\b\b\b\b\b\b\b\b\b\b\b\b\b\b\b\r24/24 [==============================] - 0s 3ms/step - loss: 0.2025 - accuracy: 0.9738\n",
       "Epoch 12/100\n",
       "\r 1/24 [&gt;.............................] - ETA: 0s - loss: 0.0679 - accuracy: 1.0000\b\b\b\b\b\b\b\b\b\b\b\b\b\b\b\b\b\b\b\b\b\b\b\b\b\b\b\b\b\b\b\b\b\b\b\b\b\b\b\b\b\b\b\b\b\b\b\b\b\b\b\b\b\b\b\b\b\b\b\b\b\b\b\b\b\b\b\b\b\b\b\b\b\b\b\b\b\b\b\b\b\b\r19/24 [======================&gt;.......] - ETA: 0s - loss: 0.1949 - accuracy: 0.9704\b\b\b\b\b\b\b\b\b\b\b\b\b\b\b\b\b\b\b\b\b\b\b\b\b\b\b\b\b\b\b\b\b\b\b\b\b\b\b\b\b\b\b\b\b\b\b\b\b\b\b\b\b\b\b\b\b\b\b\b\b\b\b\b\b\b\b\b\b\b\b\b\b\b\b\b\b\b\b\b\b\b\r24/24 [==============================] - 0s 3ms/step - loss: 0.1876 - accuracy: 0.9712\n",
       "Epoch 13/100\n",
       "\r 1/24 [&gt;.............................] - ETA: 0s - loss: 0.3912 - accuracy: 0.9375\b\b\b\b\b\b\b\b\b\b\b\b\b\b\b\b\b\b\b\b\b\b\b\b\b\b\b\b\b\b\b\b\b\b\b\b\b\b\b\b\b\b\b\b\b\b\b\b\b\b\b\b\b\b\b\b\b\b\b\b\b\b\b\b\b\b\b\b\b\b\b\b\b\b\b\b\b\b\b\b\b\b\r19/24 [======================&gt;.......] - ETA: 0s - loss: 0.1938 - accuracy: 0.9720\b\b\b\b\b\b\b\b\b\b\b\b\b\b\b\b\b\b\b\b\b\b\b\b\b\b\b\b\b\b\b\b\b\b\b\b\b\b\b\b\b\b\b\b\b\b\b\b\b\b\b\b\b\b\b\b\b\b\b\b\b\b\b\b\b\b\b\b\b\b\b\b\b\b\b\b\b\b\b\b\b\b\r24/24 [==============================] - 0s 3ms/step - loss: 0.1738 - accuracy: 0.9738\n",
       "Epoch 14/100\n",
       "\r 1/24 [&gt;.............................] - ETA: 0s - loss: 0.6575 - accuracy: 0.9375\b\b\b\b\b\b\b\b\b\b\b\b\b\b\b\b\b\b\b\b\b\b\b\b\b\b\b\b\b\b\b\b\b\b\b\b\b\b\b\b\b\b\b\b\b\b\b\b\b\b\b\b\b\b\b\b\b\b\b\b\b\b\b\b\b\b\b\b\b\b\b\b\b\b\b\b\b\b\b\b\b\b\r19/24 [======================&gt;.......] - ETA: 0s - loss: 0.1717 - accuracy: 0.9786\b\b\b\b\b\b\b\b\b\b\b\b\b\b\b\b\b\b\b\b\b\b\b\b\b\b\b\b\b\b\b\b\b\b\b\b\b\b\b\b\b\b\b\b\b\b\b\b\b\b\b\b\b\b\b\b\b\b\b\b\b\b\b\b\b\b\b\b\b\b\b\b\b\b\b\b\b\b\b\b\b\b\r24/24 [==============================] - 0s 3ms/step - loss: 0.1818 - accuracy: 0.9751\n",
       "Epoch 15/100\n",
       "\r 1/24 [&gt;.............................] - ETA: 0s - loss: 0.2526 - accuracy: 0.9688\b\b\b\b\b\b\b\b\b\b\b\b\b\b\b\b\b\b\b\b\b\b\b\b\b\b\b\b\b\b\b\b\b\b\b\b\b\b\b\b\b\b\b\b\b\b\b\b\b\b\b\b\b\b\b\b\b\b\b\b\b\b\b\b\b\b\b\b\b\b\b\b\b\b\b\b\b\b\b\b\b\b\r17/24 [====================&gt;.........] - ETA: 0s - loss: 0.1885 - accuracy: 0.9706\b\b\b\b\b\b\b\b\b\b\b\b\b\b\b\b\b\b\b\b\b\b\b\b\b\b\b\b\b\b\b\b\b\b\b\b\b\b\b\b\b\b\b\b\b\b\b\b\b\b\b\b\b\b\b\b\b\b\b\b\b\b\b\b\b\b\b\b\b\b\b\b\b\b\b\b\b\b\b\b\b\b\r24/24 [==============================] - 0s 3ms/step - loss: 0.1601 - accuracy: 0.9738\n",
       "Epoch 16/100\n",
       "\r 1/24 [&gt;.............................] - ETA: 0s - loss: 0.0242 - accuracy: 1.0000\b\b\b\b\b\b\b\b\b\b\b\b\b\b\b\b\b\b\b\b\b\b\b\b\b\b\b\b\b\b\b\b\b\b\b\b\b\b\b\b\b\b\b\b\b\b\b\b\b\b\b\b\b\b\b\b\b\b\b\b\b\b\b\b\b\b\b\b\b\b\b\b\b\b\b\b\b\b\b\b\b\b\r17/24 [====================&gt;.........] - ETA: 0s - loss: 0.1578 - accuracy: 0.9743\b\b\b\b\b\b\b\b\b\b\b\b\b\b\b\b\b\b\b\b\b\b\b\b\b\b\b\b\b\b\b\b\b\b\b\b\b\b\b\b\b\b\b\b\b\b\b\b\b\b\b\b\b\b\b\b\b\b\b\b\b\b\b\b\b\b\b\b\b\b\b\b\b\b\b\b\b\b\b\b\b\b\r24/24 [==============================] - 0s 3ms/step - loss: 0.1585 - accuracy: 0.9725\n",
       "Epoch 17/100\n",
       "\r 1/24 [&gt;.............................] - ETA: 0s - loss: 0.0349 - accuracy: 1.0000\b\b\b\b\b\b\b\b\b\b\b\b\b\b\b\b\b\b\b\b\b\b\b\b\b\b\b\b\b\b\b\b\b\b\b\b\b\b\b\b\b\b\b\b\b\b\b\b\b\b\b\b\b\b\b\b\b\b\b\b\b\b\b\b\b\b\b\b\b\b\b\b\b\b\b\b\b\b\b\b\b\b\r19/24 [======================&gt;.......] - ETA: 0s - loss: 0.1573 - accuracy: 0.9704\b\b\b\b\b\b\b\b\b\b\b\b\b\b\b\b\b\b\b\b\b\b\b\b\b\b\b\b\b\b\b\b\b\b\b\b\b\b\b\b\b\b\b\b\b\b\b\b\b\b\b\b\b\b\b\b\b\b\b\b\b\b\b\b\b\b\b\b\b\b\b\b\b\b\b\b\b\b\b\b\b\b\r24/24 [==============================] - 0s 3ms/step - loss: 0.1571 - accuracy: 0.9725\n",
       "Epoch 18/100\n",
       "\r 1/24 [&gt;.............................] - ETA: 0s - loss: 0.4807 - accuracy: 0.9062\b\b\b\b\b\b\b\b\b\b\b\b\b\b\b\b\b\b\b\b\b\b\b\b\b\b\b\b\b\b\b\b\b\b\b\b\b\b\b\b\b\b\b\b\b\b\b\b\b\b\b\b\b\b\b\b\b\b\b\b\b\b\b\b\b\b\b\b\b\b\b\b\b\b\b\b\b\b\b\b\b\b\r19/24 [======================&gt;.......] - ETA: 0s - loss: 0.1314 - accuracy: 0.9753\b\b\b\b\b\b\b\b\b\b\b\b\b\b\b\b\b\b\b\b\b\b\b\b\b\b\b\b\b\b\b\b\b\b\b\b\b\b\b\b\b\b\b\b\b\b\b\b\b\b\b\b\b\b\b\b\b\b\b\b\b\b\b\b\b\b\b\b\b\b\b\b\b\b\b\b\b\b\b\b\b\b\r24/24 [==============================] - 0s 3ms/step - loss: 0.1505 - accuracy: 0.9738\n",
       "Epoch 19/100\n",
       "\r 1/24 [&gt;.............................] - ETA: 0s - loss: 0.0264 - accuracy: 1.0000\b\b\b\b\b\b\b\b\b\b\b\b\b\b\b\b\b\b\b\b\b\b\b\b\b\b\b\b\b\b\b\b\b\b\b\b\b\b\b\b\b\b\b\b\b\b\b\b\b\b\b\b\b\b\b\b\b\b\b\b\b\b\b\b\b\b\b\b\b\b\b\b\b\b\b\b\b\b\b\b\b\b\r19/24 [======================&gt;.......] - ETA: 0s - loss: 0.1108 - accuracy: 0.9753\b\b\b\b\b\b\b\b\b\b\b\b\b\b\b\b\b\b\b\b\b\b\b\b\b\b\b\b\b\b\b\b\b\b\b\b\b\b\b\b\b\b\b\b\b\b\b\b\b\b\b\b\b\b\b\b\b\b\b\b\b\b\b\b\b\b\b\b\b\b\b\b\b\b\b\b\b\b\b\b\b\b\r24/24 [==============================] - 0s 3ms/step - loss: 0.1259 - accuracy: 0.9751\n",
       "Epoch 20/100\n",
       "\r 1/24 [&gt;.............................] - ETA: 0s - loss: 0.0285 - accuracy: 1.0000\b\b\b\b\b\b\b\b\b\b\b\b\b\b\b\b\b\b\b\b\b\b\b\b\b\b\b\b\b\b\b\b\b\b\b\b\b\b\b\b\b\b\b\b\b\b\b\b\b\b\b\b\b\b\b\b\b\b\b\b\b\b\b\b\b\b\b\b\b\b\b\b\b\b\b\b\b\b\b\b\b\b\r16/24 [===================&gt;..........] - ETA: 0s - loss: 0.1283 - accuracy: 0.9746\b\b\b\b\b\b\b\b\b\b\b\b\b\b\b\b\b\b\b\b\b\b\b\b\b\b\b\b\b\b\b\b\b\b\b\b\b\b\b\b\b\b\b\b\b\b\b\b\b\b\b\b\b\b\b\b\b\b\b\b\b\b\b\b\b\b\b\b\b\b\b\b\b\b\b\b\b\b\b\b\b\b\r24/24 [==============================] - 0s 3ms/step - loss: 0.1323 - accuracy: 0.9725\n",
       "Epoch 21/100\n",
       "\r 1/24 [&gt;.............................] - ETA: 0s - loss: 0.2498 - accuracy: 0.9688\b\b\b\b\b\b\b\b\b\b\b\b\b\b\b\b\b\b\b\b\b\b\b\b\b\b\b\b\b\b\b\b\b\b\b\b\b\b\b\b\b\b\b\b\b\b\b\b\b\b\b\b\b\b\b\b\b\b\b\b\b\b\b\b\b\b\b\b\b\b\b\b\b\b\b\b\b\b\b\b\b\b\r20/24 [========================&gt;.....] - ETA: 0s - loss: 0.1389 - accuracy: 0.9750\b\b\b\b\b\b\b\b\b\b\b\b\b\b\b\b\b\b\b\b\b\b\b\b\b\b\b\b\b\b\b\b\b\b\b\b\b\b\b\b\b\b\b\b\b\b\b\b\b\b\b\b\b\b\b\b\b\b\b\b\b\b\b\b\b\b\b\b\b\b\b\b\b\b\b\b\b\b\b\b\b\b\r24/24 [==============================] - 0s 3ms/step - loss: 0.1444 - accuracy: 0.9738\n",
       "Epoch 22/100\n",
       "\r 1/24 [&gt;.............................] - ETA: 0s - loss: 0.0745 - accuracy: 0.9688\b\b\b\b\b\b\b\b\b\b\b\b\b\b\b\b\b\b\b\b\b\b\b\b\b\b\b\b\b\b\b\b\b\b\b\b\b\b\b\b\b\b\b\b\b\b\b\b\b\b\b\b\b\b\b\b\b\b\b\b\b\b\b\b\b\b\b\b\b\b\b\b\b\b\b\b\b\b\b\b\b\b\r19/24 [======================&gt;.......] - ETA: 0s - loss: 0.1341 - accuracy: 0.9688\b\b\b\b\b\b\b\b\b\b\b\b\b\b\b\b\b\b\b\b\b\b\b\b\b\b\b\b\b\b\b\b\b\b\b\b\b\b\b\b\b\b\b\b\b\b\b\b\b\b\b\b\b\b\b\b\b\b\b\b\b\b\b\b\b\b\b\b\b\b\b\b\b\b\b\b\b\b\b\b\b\b\r24/24 [==============================] - 0s 3ms/step - loss: 0.1222 - accuracy: 0.9725\n",
       "Epoch 23/100\n",
       "\r 1/24 [&gt;.............................] - ETA: 0s - loss: 0.0063 - accuracy: 1.0000\b\b\b\b\b\b\b\b\b\b\b\b\b\b\b\b\b\b\b\b\b\b\b\b\b\b\b\b\b\b\b\b\b\b\b\b\b\b\b\b\b\b\b\b\b\b\b\b\b\b\b\b\b\b\b\b\b\b\b\b\b\b\b\b\b\b\b\b\b\b\b\b\b\b\b\b\b\b\b\b\b\b\r19/24 [======================&gt;.......] - ETA: 0s - loss: 0.1484 - accuracy: 0.9720\b\b\b\b\b\b\b\b\b\b\b\b\b\b\b\b\b\b\b\b\b\b\b\b\b\b\b\b\b\b\b\b\b\b\b\b\b\b\b\b\b\b\b\b\b\b\b\b\b\b\b\b\b\b\b\b\b\b\b\b\b\b\b\b\b\b\b\b\b\b\b\b\b\b\b\b\b\b\b\b\b\b\r24/24 [==============================] - 0s 3ms/step - loss: 0.1420 - accuracy: 0.9725\n",
       "Epoch 24/100\n",
       "\r 1/24 [&gt;.............................] - ETA: 0s - loss: 0.0463 - accuracy: 1.0000\b\b\b\b\b\b\b\b\b\b\b\b\b\b\b\b\b\b\b\b\b\b\b\b\b\b\b\b\b\b\b\b\b\b\b\b\b\b\b\b\b\b\b\b\b\b\b\b\b\b\b\b\b\b\b\b\b\b\b\b\b\b\b\b\b\b\b\b\b\b\b\b\b\b\b\b\b\b\b\b\b\b\r20/24 [========================&gt;.....] - ETA: 0s - loss: 0.1061 - accuracy: 0.9750\b\b\b\b\b\b\b\b\b\b\b\b\b\b\b\b\b\b\b\b\b\b\b\b\b\b\b\b\b\b\b\b\b\b\b\b\b\b\b\b\b\b\b\b\b\b\b\b\b\b\b\b\b\b\b\b\b\b\b\b\b\b\b\b\b\b\b\b\b\b\b\b\b\b\b\b\b\b\b\b\b\b\r24/24 [==============================] - 0s 3ms/step - loss: 0.1205 - accuracy: 0.9725\n",
       "Epoch 25/100\n",
       "\r 1/24 [&gt;.............................] - ETA: 0s - loss: 0.1004 - accuracy: 0.9688\b\b\b\b\b\b\b\b\b\b\b\b\b\b\b\b\b\b\b\b\b\b\b\b\b\b\b\b\b\b\b\b\b\b\b\b\b\b\b\b\b\b\b\b\b\b\b\b\b\b\b\b\b\b\b\b\b\b\b\b\b\b\b\b\b\b\b\b\b\b\b\b\b\b\b\b\b\b\b\b\b\b\r21/24 [=========================&gt;....] - ETA: 0s - loss: 0.1173 - accuracy: 0.9762\b\b\b\b\b\b\b\b\b\b\b\b\b\b\b\b\b\b\b\b\b\b\b\b\b\b\b\b\b\b\b\b\b\b\b\b\b\b\b\b\b\b\b\b\b\b\b\b\b\b\b\b\b\b\b\b\b\b\b\b\b\b\b\b\b\b\b\b\b\b\b\b\b\b\b\b\b\b\b\b\b\b\r24/24 [==============================] - 0s 3ms/step - loss: 0.1251 - accuracy: 0.9738\n",
       "Epoch 26/100\n",
       "\r 1/24 [&gt;.............................] - ETA: 0s - loss: 0.0446 - accuracy: 1.0000\b\b\b\b\b\b\b\b\b\b\b\b\b\b\b\b\b\b\b\b\b\b\b\b\b\b\b\b\b\b\b\b\b\b\b\b\b\b\b\b\b\b\b\b\b\b\b\b\b\b\b\b\b\b\b\b\b\b\b\b\b\b\b\b\b\b\b\b\b\b\b\b\b\b\b\b\b\b\b\b\b\b\r21/24 [=========================&gt;....] - ETA: 0s - loss: 0.1065 - accuracy: 0.9747\b\b\b\b\b\b\b\b\b\b\b\b\b\b\b\b\b\b\b\b\b\b\b\b\b\b\b\b\b\b\b\b\b\b\b\b\b\b\b\b\b\b\b\b\b\b\b\b\b\b\b\b\b\b\b\b\b\b\b\b\b\b\b\b\b\b\b\b\b\b\b\b\b\b\b\b\b\b\b\b\b\b\r24/24 [==============================] - 0s 3ms/step - loss: 0.1080 - accuracy: 0.9751\n",
       "Epoch 27/100\n",
       "\r 1/24 [&gt;.............................] - ETA: 0s - loss: 0.0039 - accuracy: 1.0000\b\b\b\b\b\b\b\b\b\b\b\b\b\b\b\b\b\b\b\b\b\b\b\b\b\b\b\b\b\b\b\b\b\b\b\b\b\b\b\b\b\b\b\b\b\b\b\b\b\b\b\b\b\b\b\b\b\b\b\b\b\b\b\b\b\b\b\b\b\b\b\b\b\b\b\b\b\b\b\b\b\b\r17/24 [====================&gt;.........] - ETA: 0s - loss: 0.1451 - accuracy: 0.9688\b\b\b\b\b\b\b\b\b\b\b\b\b\b\b\b\b\b\b\b\b\b\b\b\b\b\b\b\b\b\b\b\b\b\b\b\b\b\b\b\b\b\b\b\b\b\b\b\b\b\b\b\b\b\b\b\b\b\b\b\b\b\b\b\b\b\b\b\b\b\b\b\b\b\b\b\b\b\b\b\b\b\r24/24 [==============================] - 0s 3ms/step - loss: 0.1254 - accuracy: 0.9725\n",
       "Epoch 28/100\n",
       "\r 1/24 [&gt;.............................] - ETA: 0s - loss: 0.2463 - accuracy: 0.9062\b\b\b\b\b\b\b\b\b\b\b\b\b\b\b\b\b\b\b\b\b\b\b\b\b\b\b\b\b\b\b\b\b\b\b\b\b\b\b\b\b\b\b\b\b\b\b\b\b\b\b\b\b\b\b\b\b\b\b\b\b\b\b\b\b\b\b\b\b\b\b\b\b\b\b\b\b\b\b\b\b\b\r20/24 [========================&gt;.....] - ETA: 0s - loss: 0.1103 - accuracy: 0.9734\b\b\b\b\b\b\b\b\b\b\b\b\b\b\b\b\b\b\b\b\b\b\b\b\b\b\b\b\b\b\b\b\b\b\b\b\b\b\b\b\b\b\b\b\b\b\b\b\b\b\b\b\b\b\b\b\b\b\b\b\b\b\b\b\b\b\b\b\b\b\b\b\b\b\b\b\b\b\b\b\b\b\r24/24 [==============================] - 0s 3ms/step - loss: 0.1071 - accuracy: 0.9751\n",
       "Epoch 29/100\n",
       "\r 1/24 [&gt;.............................] - ETA: 0s - loss: 0.0455 - accuracy: 1.0000\b\b\b\b\b\b\b\b\b\b\b\b\b\b\b\b\b\b\b\b\b\b\b\b\b\b\b\b\b\b\b\b\b\b\b\b\b\b\b\b\b\b\b\b\b\b\b\b\b\b\b\b\b\b\b\b\b\b\b\b\b\b\b\b\b\b\b\b\b\b\b\b\b\b\b\b\b\b\b\b\b\b\r20/24 [========================&gt;.....] - ETA: 0s - loss: 0.1238 - accuracy: 0.9750\b\b\b\b\b\b\b\b\b\b\b\b\b\b\b\b\b\b\b\b\b\b\b\b\b\b\b\b\b\b\b\b\b\b\b\b\b\b\b\b\b\b\b\b\b\b\b\b\b\b\b\b\b\b\b\b\b\b\b\b\b\b\b\b\b\b\b\b\b\b\b\b\b\b\b\b\b\b\b\b\b\b\r24/24 [==============================] - 0s 15ms/step - loss: 0.1288 - accuracy: 0.9738\n",
       "Epoch 30/100\n",
       "\r 1/24 [&gt;.............................] - ETA: 0s - loss: 0.1518 - accuracy: 0.9688\b\b\b\b\b\b\b\b\b\b\b\b\b\b\b\b\b\b\b\b\b\b\b\b\b\b\b\b\b\b\b\b\b\b\b\b\b\b\b\b\b\b\b\b\b\b\b\b\b\b\b\b\b\b\b\b\b\b\b\b\b\b\b\b\b\b\b\b\b\b\b\b\b\b\b\b\b\b\b\b\b\b\r17/24 [====================&gt;.........] - ETA: 0s - loss: 0.1123 - accuracy: 0.9743\b\b\b\b\b\b\b\b\b\b\b\b\b\b\b\b\b\b\b\b\b\b\b\b\b\b\b\b\b\b\b\b\b\b\b\b\b\b\b\b\b\b\b\b\b\b\b\b\b\b\b\b\b\b\b\b\b\b\b\b\b\b\b\b\b\b\b\b\b\b\b\b\b\b\b\b\b\b\b\b\b\b\r24/24 [==============================] - 0s 3ms/step - loss: 0.1147 - accuracy: 0.9764\n",
       "Epoch 31/100\n",
       "\r 1/24 [&gt;.............................] - ETA: 0s - loss: 0.0159 - accuracy: 1.0000\b\b\b\b\b\b\b\b\b\b\b\b\b\b\b\b\b\b\b\b\b\b\b\b\b\b\b\b\b\b\b\b\b\b\b\b\b\b\b\b\b\b\b\b\b\b\b\b\b\b\b\b\b\b\b\b\b\b\b\b\b\b\b\b\b\b\b\b\b\b\b\b\b\b\b\b\b\b\b\b\b\b\r19/24 [======================&gt;.......] - ETA: 0s - loss: 0.1293 - accuracy: 0.9704\b\b\b\b\b\b\b\b\b\b\b\b\b\b\b\b\b\b\b\b\b\b\b\b\b\b\b\b\b\b\b\b\b\b\b\b\b\b\b\b\b\b\b\b\b\b\b\b\b\b\b\b\b\b\b\b\b\b\b\b\b\b\b\b\b\b\b\b\b\b\b\b\b\b\b\b\b\b\b\b\b\b\r24/24 [==============================] - 0s 3ms/step - loss: 0.1158 - accuracy: 0.9738\n",
       "Epoch 32/100\n",
       "\r 1/24 [&gt;.............................] - ETA: 0s - loss: 0.0163 - accuracy: 1.0000\b\b\b\b\b\b\b\b\b\b\b\b\b\b\b\b\b\b\b\b\b\b\b\b\b\b\b\b\b\b\b\b\b\b\b\b\b\b\b\b\b\b\b\b\b\b\b\b\b\b\b\b\b\b\b\b\b\b\b\b\b\b\b\b\b\b\b\b\b\b\b\b\b\b\b\b\b\b\b\b\b\b\r16/24 [===================&gt;..........] - ETA: 0s - loss: 0.1107 - accuracy: 0.9766\b\b\b\b\b\b\b\b\b\b\b\b\b\b\b\b\b\b\b\b\b\b\b\b\b\b\b\b\b\b\b\b\b\b\b\b\b\b\b\b\b\b\b\b\b\b\b\b\b\b\b\b\b\b\b\b\b\b\b\b\b\b\b\b\b\b\b\b\b\b\b\b\b\b\b\b\b\b\b\b\b\b\r24/24 [==============================] - 0s 3ms/step - loss: 0.1056 - accuracy: 0.9751\n",
       "Epoch 33/100\n",
       "\r 1/24 [&gt;.............................] - ETA: 0s - loss: 0.0194 - accuracy: 1.0000\b\b\b\b\b\b\b\b\b\b\b\b\b\b\b\b\b\b\b\b\b\b\b\b\b\b\b\b\b\b\b\b\b\b\b\b\b\b\b\b\b\b\b\b\b\b\b\b\b\b\b\b\b\b\b\b\b\b\b\b\b\b\b\b\b\b\b\b\b\b\b\b\b\b\b\b\b\b\b\b\b\b\r20/24 [========================&gt;.....] - ETA: 0s - loss: 0.0853 - accuracy: 0.9812\b\b\b\b\b\b\b\b\b\b\b\b\b\b\b\b\b\b\b\b\b\b\b\b\b\b\b\b\b\b\b\b\b\b\b\b\b\b\b\b\b\b\b\b\b\b\b\b\b\b\b\b\b\b\b\b\b\b\b\b\b\b\b\b\b\b\b\b\b\b\b\b\b\b\b\b\b\b\b\b\b\b\r24/24 [==============================] - 0s 3ms/step - loss: 0.0963 - accuracy: 0.9751\n",
       "Epoch 34/100\n",
       "\r 1/24 [&gt;.............................] - ETA: 0s - loss: 0.0554 - accuracy: 1.0000\b\b\b\b\b\b\b\b\b\b\b\b\b\b\b\b\b\b\b\b\b\b\b\b\b\b\b\b\b\b\b\b\b\b\b\b\b\b\b\b\b\b\b\b\b\b\b\b\b\b\b\b\b\b\b\b\b\b\b\b\b\b\b\b\b\b\b\b\b\b\b\b\b\b\b\b\b\b\b\b\b\b\r21/24 [=========================&gt;....] - ETA: 0s - loss: 0.0886 - accuracy: 0.9792\b\b\b\b\b\b\b\b\b\b\b\b\b\b\b\b\b\b\b\b\b\b\b\b\b\b\b\b\b\b\b\b\b\b\b\b\b\b\b\b\b\b\b\b\b\b\b\b\b\b\b\b\b\b\b\b\b\b\b\b\b\b\b\b\b\b\b\b\b\b\b\b\b\b\b\b\b\b\b\b\b\b\r24/24 [==============================] - 0s 3ms/step - loss: 0.1002 - accuracy: 0.9777\n",
       "Epoch 35/100\n",
       "\r 1/24 [&gt;.............................] - ETA: 0s - loss: 0.0090 - accuracy: 1.0000\b\b\b\b\b\b\b\b\b\b\b\b\b\b\b\b\b\b\b\b\b\b\b\b\b\b\b\b\b\b\b\b\b\b\b\b\b\b\b\b\b\b\b\b\b\b\b\b\b\b\b\b\b\b\b\b\b\b\b\b\b\b\b\b\b\b\b\b\b\b\b\b\b\b\b\b\b\b\b\b\b\b\r20/24 [========================&gt;.....] - ETA: 0s - loss: 0.1141 - accuracy: 0.9750\b\b\b\b\b\b\b\b\b\b\b\b\b\b\b\b\b\b\b\b\b\b\b\b\b\b\b\b\b\b\b\b\b\b\b\b\b\b\b\b\b\b\b\b\b\b\b\b\b\b\b\b\b\b\b\b\b\b\b\b\b\b\b\b\b\b\b\b\b\b\b\b\b\b\b\b\b\b\b\b\b\b\r24/24 [==============================] - 0s 3ms/step - loss: 0.1151 - accuracy: 0.9725\n",
       "Epoch 36/100\n",
       "\r 1/24 [&gt;.............................] - ETA: 0s - loss: 0.0239 - accuracy: 1.0000\b\b\b\b\b\b\b\b\b\b\b\b\b\b\b\b\b\b\b\b\b\b\b\b\b\b\b\b\b\b\b\b\b\b\b\b\b\b\b\b\b\b\b\b\b\b\b\b\b\b\b\b\b\b\b\b\b\b\b\b\b\b\b\b\b\b\b\b\b\b\b\b\b\b\b\b\b\b\b\b\b\b\r20/24 [========================&gt;.....] - ETA: 0s - loss: 0.0910 - accuracy: 0.9734\b\b\b\b\b\b\b\b\b\b\b\b\b\b\b\b\b\b\b\b\b\b\b\b\b\b\b\b\b\b\b\b\b\b\b\b\b\b\b\b\b\b\b\b\b\b\b\b\b\b\b\b\b\b\b\b\b\b\b\b\b\b\b\b\b\b\b\b\b\b\b\b\b\b\b\b\b\b\b\b\b\b\r24/24 [==============================] - 0s 3ms/step - loss: 0.0884 - accuracy: 0.9738\n",
       "Epoch 37/100\n",
       "\r 1/24 [&gt;.............................] - ETA: 0s - loss: 0.0243 - accuracy: 1.0000\b\b\b\b\b\b\b\b\b\b\b\b\b\b\b\b\b\b\b\b\b\b\b\b\b\b\b\b\b\b\b\b\b\b\b\b\b\b\b\b\b\b\b\b\b\b\b\b\b\b\b\b\b\b\b\b\b\b\b\b\b\b\b\b\b\b\b\b\b\b\b\b\b\b\b\b\b\b\b\b\b\b\r20/24 [========================&gt;.....] - ETA: 0s - loss: 0.0783 - accuracy: 0.9781\b\b\b\b\b\b\b\b\b\b\b\b\b\b\b\b\b\b\b\b\b\b\b\b\b\b\b\b\b\b\b\b\b\b\b\b\b\b\b\b\b\b\b\b\b\b\b\b\b\b\b\b\b\b\b\b\b\b\b\b\b\b\b\b\b\b\b\b\b\b\b\b\b\b\b\b\b\b\b\b\b\b\r24/24 [==============================] - 0s 4ms/step - loss: 0.0828 - accuracy: 0.9764\n",
       "Epoch 38/100\n",
       "\r 1/24 [&gt;.............................] - ETA: 0s - loss: 0.0510 - accuracy: 0.9688\b\b\b\b\b\b\b\b\b\b\b\b\b\b\b\b\b\b\b\b\b\b\b\b\b\b\b\b\b\b\b\b\b\b\b\b\b\b\b\b\b\b\b\b\b\b\b\b\b\b\b\b\b\b\b\b\b\b\b\b\b\b\b\b\b\b\b\b\b\b\b\b\b\b\b\b\b\b\b\b\b\b\r17/24 [====================&gt;.........] - ETA: 0s - loss: 0.0854 - accuracy: 0.9761\b\b\b\b\b\b\b\b\b\b\b\b\b\b\b\b\b\b\b\b\b\b\b\b\b\b\b\b\b\b\b\b\b\b\b\b\b\b\b\b\b\b\b\b\b\b\b\b\b\b\b\b\b\b\b\b\b\b\b\b\b\b\b\b\b\b\b\b\b\b\b\b\b\b\b\b\b\b\b\b\b\b\r24/24 [==============================] - 0s 3ms/step - loss: 0.0910 - accuracy: 0.9751\n",
       "Epoch 39/100\n",
       "\r 1/24 [&gt;.............................] - ETA: 0s - loss: 0.2594 - accuracy: 0.9375\b\b\b\b\b\b\b\b\b\b\b\b\b\b\b\b\b\b\b\b\b\b\b\b\b\b\b\b\b\b\b\b\b\b\b\b\b\b\b\b\b\b\b\b\b\b\b\b\b\b\b\b\b\b\b\b\b\b\b\b\b\b\b\b\b\b\b\b\b\b\b\b\b\b\b\b\b\b\b\b\b\b\r18/24 [=====================&gt;........] - ETA: 0s - loss: 0.1048 - accuracy: 0.9740\b\b\b\b\b\b\b\b\b\b\b\b\b\b\b\b\b\b\b\b\b\b\b\b\b\b\b\b\b\b\b\b\b\b\b\b\b\b\b\b\b\b\b\b\b\b\b\b\b\b\b\b\b\b\b\b\b\b\b\b\b\b\b\b\b\b\b\b\b\b\b\b\b\b\b\b\b\b\b\b\b\b\r24/24 [==============================] - 0s 3ms/step - loss: 0.0953 - accuracy: 0.9777\n",
       "Epoch 40/100\n",
       "\r 1/24 [&gt;.............................] - ETA: 0s - loss: 0.1747 - accuracy: 0.9375\b\b\b\b\b\b\b\b\b\b\b\b\b\b\b\b\b\b\b\b\b\b\b\b\b\b\b\b\b\b\b\b\b\b\b\b\b\b\b\b\b\b\b\b\b\b\b\b\b\b\b\b\b\b\b\b\b\b\b\b\b\b\b\b\b\b\b\b\b\b\b\b\b\b\b\b\b\b\b\b\b\b\r20/24 [========================&gt;.....] - ETA: 0s - loss: 0.0927 - accuracy: 0.9734\b\b\b\b\b\b\b\b\b\b\b\b\b\b\b\b\b\b\b\b\b\b\b\b\b\b\b\b\b\b\b\b\b\b\b\b\b\b\b\b\b\b\b\b\b\b\b\b\b\b\b\b\b\b\b\b\b\b\b\b\b\b\b\b\b\b\b\b\b\b\b\b\b\b\b\b\b\b\b\b\b\b\r24/24 [==============================] - 0s 3ms/step - loss: 0.0991 - accuracy: 0.9738\n",
       "Epoch 41/100\n",
       "\r 1/24 [&gt;.............................] - ETA: 0s - loss: 0.0763 - accuracy: 0.9688\b\b\b\b\b\b\b\b\b\b\b\b\b\b\b\b\b\b\b\b\b\b\b\b\b\b\b\b\b\b\b\b\b\b\b\b\b\b\b\b\b\b\b\b\b\b\b\b\b\b\b\b\b\b\b\b\b\b\b\b\b\b\b\b\b\b\b\b\b\b\b\b\b\b\b\b\b\b\b\b\b\b\r20/24 [========================&gt;.....] - ETA: 0s - loss: 0.1087 - accuracy: 0.9703\b\b\b\b\b\b\b\b\b\b\b\b\b\b\b\b\b\b\b\b\b\b\b\b\b\b\b\b\b\b\b\b\b\b\b\b\b\b\b\b\b\b\b\b\b\b\b\b\b\b\b\b\b\b\b\b\b\b\b\b\b\b\b\b\b\b\b\b\b\b\b\b\b\b\b\b\b\b\b\b\b\b\r24/24 [==============================] - 0s 3ms/step - loss: 0.0966 - accuracy: 0.9738\n",
       "Epoch 42/100\n",
       "\r 1/24 [&gt;.............................] - ETA: 0s - loss: 0.1520 - accuracy: 0.9688\b\b\b\b\b\b\b\b\b\b\b\b\b\b\b\b\b\b\b\b\b\b\b\b\b\b\b\b\b\b\b\b\b\b\b\b\b\b\b\b\b\b\b\b\b\b\b\b\b\b\b\b\b\b\b\b\b\b\b\b\b\b\b\b\b\b\b\b\b\b\b\b\b\b\b\b\b\b\b\b\b\b\r18/24 [=====================&gt;........] - ETA: 0s - loss: 0.0893 - accuracy: 0.9757\b\b\b\b\b\b\b\b\b\b\b\b\b\b\b\b\b\b\b\b\b\b\b\b\b\b\b\b\b\b\b\b\b\b\b\b\b\b\b\b\b\b\b\b\b\b\b\b\b\b\b\b\b\b\b\b\b\b\b\b\b\b\b\b\b\b\b\b\b\b\b\b\b\b\b\b\b\b\b\b\b\b\r24/24 [==============================] - 0s 3ms/step - loss: 0.0868 - accuracy: 0.9751\n",
       "Epoch 43/100\n",
       "\r 1/24 [&gt;.............................] - ETA: 0s - loss: 0.2531 - accuracy: 0.9062\b\b\b\b\b\b\b\b\b\b\b\b\b\b\b\b\b\b\b\b\b\b\b\b\b\b\b\b\b\b\b\b\b\b\b\b\b\b\b\b\b\b\b\b\b\b\b\b\b\b\b\b\b\b\b\b\b\b\b\b\b\b\b\b\b\b\b\b\b\b\b\b\b\b\b\b\b\b\b\b\b\b\r19/24 [======================&gt;.......] - ETA: 0s - loss: 0.0967 - accuracy: 0.9737\b\b\b\b\b\b\b\b\b\b\b\b\b\b\b\b\b\b\b\b\b\b\b\b\b\b\b\b\b\b\b\b\b\b\b\b\b\b\b\b\b\b\b\b\b\b\b\b\b\b\b\b\b\b\b\b\b\b\b\b\b\b\b\b\b\b\b\b\b\b\b\b\b\b\b\b\b\b\b\b\b\b\r24/24 [==============================] - 0s 3ms/step - loss: 0.0905 - accuracy: 0.9751\n",
       "Epoch 44/100\n",
       "\r 1/24 [&gt;.............................] - ETA: 0s - loss: 0.2015 - accuracy: 0.9688\b\b\b\b\b\b\b\b\b\b\b\b\b\b\b\b\b\b\b\b\b\b\b\b\b\b\b\b\b\b\b\b\b\b\b\b\b\b\b\b\b\b\b\b\b\b\b\b\b\b\b\b\b\b\b\b\b\b\b\b\b\b\b\b\b\b\b\b\b\b\b\b\b\b\b\b\b\b\b\b\b\b\r16/24 [===================&gt;..........] - ETA: 0s - loss: 0.1218 - accuracy: 0.9688\b\b\b\b\b\b\b\b\b\b\b\b\b\b\b\b\b\b\b\b\b\b\b\b\b\b\b\b\b\b\b\b\b\b\b\b\b\b\b\b\b\b\b\b\b\b\b\b\b\b\b\b\b\b\b\b\b\b\b\b\b\b\b\b\b\b\b\b\b\b\b\b\b\b\b\b\b\b\b\b\b\b\r24/24 [==============================] - 0s 4ms/step - loss: 0.1088 - accuracy: 0.9738\n",
       "Epoch 45/100\n",
       "\r 1/24 [&gt;.............................] - ETA: 0s - loss: 0.0325 - accuracy: 1.0000\b\b\b\b\b\b\b\b\b\b\b\b\b\b\b\b\b\b\b\b\b\b\b\b\b\b\b\b\b\b\b\b\b\b\b\b\b\b\b\b\b\b\b\b\b\b\b\b\b\b\b\b\b\b\b\b\b\b\b\b\b\b\b\b\b\b\b\b\b\b\b\b\b\b\b\b\b\b\b\b\b\b\r12/24 [==============&gt;...............] - ETA: 0s - loss: 0.1034 - accuracy: 0.9740\b\b\b\b\b\b\b\b\b\b\b\b\b\b\b\b\b\b\b\b\b\b\b\b\b\b\b\b\b\b\b\b\b\b\b\b\b\b\b\b\b\b\b\b\b\b\b\b\b\b\b\b\b\b\b\b\b\b\b\b\b\b\b\b\b\b\b\b\b\b\b\b\b\b\b\b\b\b\b\b\b\b\r24/24 [==============================] - 0s 4ms/step - loss: 0.0911 - accuracy: 0.9764\n",
       "Epoch 46/100\n",
       "\r 1/24 [&gt;.............................] - ETA: 0s - loss: 0.1402 - accuracy: 0.9375\b\b\b\b\b\b\b\b\b\b\b\b\b\b\b\b\b\b\b\b\b\b\b\b\b\b\b\b\b\b\b\b\b\b\b\b\b\b\b\b\b\b\b\b\b\b\b\b\b\b\b\b\b\b\b\b\b\b\b\b\b\b\b\b\b\b\b\b\b\b\b\b\b\b\b\b\b\b\b\b\b\b\r14/24 [================&gt;.............] - ETA: 0s - loss: 0.0649 - accuracy: 0.9844\b\b\b\b\b\b\b\b\b\b\b\b\b\b\b\b\b\b\b\b\b\b\b\b\b\b\b\b\b\b\b\b\b\b\b\b\b\b\b\b\b\b\b\b\b\b\b\b\b\b\b\b\b\b\b\b\b\b\b\b\b\b\b\b\b\b\b\b\b\b\b\b\b\b\b\b\b\b\b\b\b\b\r24/24 [==============================] - 0s 4ms/step - loss: 0.0928 - accuracy: 0.9738\n",
       "Epoch 47/100\n",
       "\r 1/24 [&gt;.............................] - ETA: 0s - loss: 0.0280 - accuracy: 1.0000\b\b\b\b\b\b\b\b\b\b\b\b\b\b\b\b\b\b\b\b\b\b\b\b\b\b\b\b\b\b\b\b\b\b\b\b\b\b\b\b\b\b\b\b\b\b\b\b\b\b\b\b\b\b\b\b\b\b\b\b\b\b\b\b\b\b\b\b\b\b\b\b\b\b\b\b\b\b\b\b\b\b\r14/24 [================&gt;.............] - ETA: 0s - loss: 0.0717 - accuracy: 0.9777\b\b\b\b\b\b\b\b\b\b\b\b\b\b\b\b\b\b\b\b\b\b\b\b\b\b\b\b\b\b\b\b\b\b\b\b\b\b\b\b\b\b\b\b\b\b\b\b\b\b\b\b\b\b\b\b\b\b\b\b\b\b\b\b\b\b\b\b\b\b\b\b\b\b\b\b\b\b\b\b\b\b\r24/24 [==============================] - 0s 4ms/step - loss: 0.0869 - accuracy: 0.9738\n",
       "Epoch 48/100\n",
       "\r 1/24 [&gt;.............................] - ETA: 0s - loss: 0.1392 - accuracy: 0.9062\b\b\b\b\b\b\b\b\b\b\b\b\b\b\b\b\b\b\b\b\b\b\b\b\b\b\b\b\b\b\b\b\b\b\b\b\b\b\b\b\b\b\b\b\b\b\b\b\b\b\b\b\b\b\b\b\b\b\b\b\b\b\b\b\b\b\b\b\b\b\b\b\b\b\b\b\b\b\b\b\b\b\r15/24 [=================&gt;............] - ETA: 0s - loss: 0.0784 - accuracy: 0.9708\b\b\b\b\b\b\b\b\b\b\b\b\b\b\b\b\b\b\b\b\b\b\b\b\b\b\b\b\b\b\b\b\b\b\b\b\b\b\b\b\b\b\b\b\b\b\b\b\b\b\b\b\b\b\b\b\b\b\b\b\b\b\b\b\b\b\b\b\b\b\b\b\b\b\b\b\b\b\b\b\b\b\r24/24 [==============================] - 0s 4ms/step - loss: 0.0735 - accuracy: 0.9738\n",
       "Epoch 49/100\n",
       "\r 1/24 [&gt;.............................] - ETA: 0s - loss: 0.0071 - accuracy: 1.0000\b\b\b\b\b\b\b\b\b\b\b\b\b\b\b\b\b\b\b\b\b\b\b\b\b\b\b\b\b\b\b\b\b\b\b\b\b\b\b\b\b\b\b\b\b\b\b\b\b\b\b\b\b\b\b\b\b\b\b\b\b\b\b\b\b\b\b\b\b\b\b\b\b\b\b\b\b\b\b\b\b\b\r15/24 [=================&gt;............] - ETA: 0s - loss: 0.0918 - accuracy: 0.9750\b\b\b\b\b\b\b\b\b\b\b\b\b\b\b\b\b\b\b\b\b\b\b\b\b\b\b\b\b\b\b\b\b\b\b\b\b\b\b\b\b\b\b\b\b\b\b\b\b\b\b\b\b\b\b\b\b\b\b\b\b\b\b\b\b\b\b\b\b\b\b\b\b\b\b\b\b\b\b\b\b\b\r24/24 [==============================] - 0s 3ms/step - loss: 0.0859 - accuracy: 0.9751\n",
       "Epoch 50/100\n",
       "\r 1/24 [&gt;.............................] - ETA: 0s - loss: 0.1797 - accuracy: 0.9375\b\b\b\b\b\b\b\b\b\b\b\b\b\b\b\b\b\b\b\b\b\b\b\b\b\b\b\b\b\b\b\b\b\b\b\b\b\b\b\b\b\b\b\b\b\b\b\b\b\b\b\b\b\b\b\b\b\b\b\b\b\b\b\b\b\b\b\b\b\b\b\b\b\b\b\b\b\b\b\b\b\b\r21/24 [=========================&gt;....] - ETA: 0s - loss: 0.0977 - accuracy: 0.9732\b\b\b\b\b\b\b\b\b\b\b\b\b\b\b\b\b\b\b\b\b\b\b\b\b\b\b\b\b\b\b\b\b\b\b\b\b\b\b\b\b\b\b\b\b\b\b\b\b\b\b\b\b\b\b\b\b\b\b\b\b\b\b\b\b\b\b\b\b\b\b\b\b\b\b\b\b\b\b\b\b\b\r24/24 [==============================] - 0s 3ms/step - loss: 0.0951 - accuracy: 0.9738\n",
       "Epoch 51/100\n",
       "\r 1/24 [&gt;.............................] - ETA: 0s - loss: 0.0912 - accuracy: 0.9688\b\b\b\b\b\b\b\b\b\b\b\b\b\b\b\b\b\b\b\b\b\b\b\b\b\b\b\b\b\b\b\b\b\b\b\b\b\b\b\b\b\b\b\b\b\b\b\b\b\b\b\b\b\b\b\b\b\b\b\b\b\b\b\b\b\b\b\b\b\b\b\b\b\b\b\b\b\b\b\b\b\b\r20/24 [========================&gt;.....] - ETA: 0s - loss: 0.1044 - accuracy: 0.9734\b\b\b\b\b\b\b\b\b\b\b\b\b\b\b\b\b\b\b\b\b\b\b\b\b\b\b\b\b\b\b\b\b\b\b\b\b\b\b\b\b\b\b\b\b\b\b\b\b\b\b\b\b\b\b\b\b\b\b\b\b\b\b\b\b\b\b\b\b\b\b\b\b\b\b\b\b\b\b\b\b\b\r24/24 [==============================] - 0s 3ms/step - loss: 0.0961 - accuracy: 0.9751\n",
       "Epoch 52/100\n",
       "\r 1/24 [&gt;.............................] - ETA: 0s - loss: 0.1236 - accuracy: 0.9375\b\b\b\b\b\b\b\b\b\b\b\b\b\b\b\b\b\b\b\b\b\b\b\b\b\b\b\b\b\b\b\b\b\b\b\b\b\b\b\b\b\b\b\b\b\b\b\b\b\b\b\b\b\b\b\b\b\b\b\b\b\b\b\b\b\b\b\b\b\b\b\b\b\b\b\b\b\b\b\b\b\b\r19/24 [======================&gt;.......] - ETA: 0s - loss: 0.0841 - accuracy: 0.9737\b\b\b\b\b\b\b\b\b\b\b\b\b\b\b\b\b\b\b\b\b\b\b\b\b\b\b\b\b\b\b\b\b\b\b\b\b\b\b\b\b\b\b\b\b\b\b\b\b\b\b\b\b\b\b\b\b\b\b\b\b\b\b\b\b\b\b\b\b\b\b\b\b\b\b\b\b\b\b\b\b\b\r24/24 [==============================] - 0s 3ms/step - loss: 0.0861 - accuracy: 0.9738\n",
       "Epoch 53/100\n",
       "\r 1/24 [&gt;.............................] - ETA: 0s - loss: 0.0877 - accuracy: 0.9688\b\b\b\b\b\b\b\b\b\b\b\b\b\b\b\b\b\b\b\b\b\b\b\b\b\b\b\b\b\b\b\b\b\b\b\b\b\b\b\b\b\b\b\b\b\b\b\b\b\b\b\b\b\b\b\b\b\b\b\b\b\b\b\b\b\b\b\b\b\b\b\b\b\b\b\b\b\b\b\b\b\b\r20/24 [========================&gt;.....] - ETA: 0s - loss: 0.0842 - accuracy: 0.9750\b\b\b\b\b\b\b\b\b\b\b\b\b\b\b\b\b\b\b\b\b\b\b\b\b\b\b\b\b\b\b\b\b\b\b\b\b\b\b\b\b\b\b\b\b\b\b\b\b\b\b\b\b\b\b\b\b\b\b\b\b\b\b\b\b\b\b\b\b\b\b\b\b\b\b\b\b\b\b\b\b\b\r24/24 [==============================] - 0s 3ms/step - loss: 0.0810 - accuracy: 0.9751\n",
       "Epoch 54/100\n",
       "\r 1/24 [&gt;.............................] - ETA: 0s - loss: 0.1517 - accuracy: 0.9375\b\b\b\b\b\b\b\b\b\b\b\b\b\b\b\b\b\b\b\b\b\b\b\b\b\b\b\b\b\b\b\b\b\b\b\b\b\b\b\b\b\b\b\b\b\b\b\b\b\b\b\b\b\b\b\b\b\b\b\b\b\b\b\b\b\b\b\b\b\b\b\b\b\b\b\b\b\b\b\b\b\b\r20/24 [========================&gt;.....] - ETA: 0s - loss: 0.0918 - accuracy: 0.9734\b\b\b\b\b\b\b\b\b\b\b\b\b\b\b\b\b\b\b\b\b\b\b\b\b\b\b\b\b\b\b\b\b\b\b\b\b\b\b\b\b\b\b\b\b\b\b\b\b\b\b\b\b\b\b\b\b\b\b\b\b\b\b\b\b\b\b\b\b\b\b\b\b\b\b\b\b\b\b\b\b\b\r24/24 [==============================] - 0s 3ms/step - loss: 0.0860 - accuracy: 0.9751\n",
       "Epoch 55/100\n",
       "\r 1/24 [&gt;.............................] - ETA: 0s - loss: 0.1111 - accuracy: 0.9688\b\b\b\b\b\b\b\b\b\b\b\b\b\b\b\b\b\b\b\b\b\b\b\b\b\b\b\b\b\b\b\b\b\b\b\b\b\b\b\b\b\b\b\b\b\b\b\b\b\b\b\b\b\b\b\b\b\b\b\b\b\b\b\b\b\b\b\b\b\b\b\b\b\b\b\b\b\b\b\b\b\b\r20/24 [========================&gt;.....] - ETA: 0s - loss: 0.0688 - accuracy: 0.9781\b\b\b\b\b\b\b\b\b\b\b\b\b\b\b\b\b\b\b\b\b\b\b\b\b\b\b\b\b\b\b\b\b\b\b\b\b\b\b\b\b\b\b\b\b\b\b\b\b\b\b\b\b\b\b\b\b\b\b\b\b\b\b\b\b\b\b\b\b\b\b\b\b\b\b\b\b\b\b\b\b\b\r24/24 [==============================] - 0s 3ms/step - loss: 0.0805 - accuracy: 0.9751\n",
       "Epoch 56/100\n",
       "\r 1/24 [&gt;.............................] - ETA: 0s - loss: 0.1741 - accuracy: 0.9688\b\b\b\b\b\b\b\b\b\b\b\b\b\b\b\b\b\b\b\b\b\b\b\b\b\b\b\b\b\b\b\b\b\b\b\b\b\b\b\b\b\b\b\b\b\b\b\b\b\b\b\b\b\b\b\b\b\b\b\b\b\b\b\b\b\b\b\b\b\b\b\b\b\b\b\b\b\b\b\b\b\b\r19/24 [======================&gt;.......] - ETA: 0s - loss: 0.0857 - accuracy: 0.9737\b\b\b\b\b\b\b\b\b\b\b\b\b\b\b\b\b\b\b\b\b\b\b\b\b\b\b\b\b\b\b\b\b\b\b\b\b\b\b\b\b\b\b\b\b\b\b\b\b\b\b\b\b\b\b\b\b\b\b\b\b\b\b\b\b\b\b\b\b\b\b\b\b\b\b\b\b\b\b\b\b\b\r24/24 [==============================] - 0s 3ms/step - loss: 0.0834 - accuracy: 0.9738\n",
       "Epoch 57/100\n",
       "\r 1/24 [&gt;.............................] - ETA: 0s - loss: 0.1298 - accuracy: 0.9375\b\b\b\b\b\b\b\b\b\b\b\b\b\b\b\b\b\b\b\b\b\b\b\b\b\b\b\b\b\b\b\b\b\b\b\b\b\b\b\b\b\b\b\b\b\b\b\b\b\b\b\b\b\b\b\b\b\b\b\b\b\b\b\b\b\b\b\b\b\b\b\b\b\b\b\b\b\b\b\b\b\b\r20/24 [========================&gt;.....] - ETA: 0s - loss: 0.0797 - accuracy: 0.9734\b\b\b\b\b\b\b\b\b\b\b\b\b\b\b\b\b\b\b\b\b\b\b\b\b\b\b\b\b\b\b\b\b\b\b\b\b\b\b\b\b\b\b\b\b\b\b\b\b\b\b\b\b\b\b\b\b\b\b\b\b\b\b\b\b\b\b\b\b\b\b\b\b\b\b\b\b\b\b\b\b\b\r24/24 [==============================] - 0s 3ms/step - loss: 0.0822 - accuracy: 0.9751\n",
       "Epoch 58/100\n",
       "\r 1/24 [&gt;.............................] - ETA: 0s - loss: 0.0562 - accuracy: 1.0000\b\b\b\b\b\b\b\b\b\b\b\b\b\b\b\b\b\b\b\b\b\b\b\b\b\b\b\b\b\b\b\b\b\b\b\b\b\b\b\b\b\b\b\b\b\b\b\b\b\b\b\b\b\b\b\b\b\b\b\b\b\b\b\b\b\b\b\b\b\b\b\b\b\b\b\b\b\b\b\b\b\b\r20/24 [========================&gt;.....] - ETA: 0s - loss: 0.0750 - accuracy: 0.9750\b\b\b\b\b\b\b\b\b\b\b\b\b\b\b\b\b\b\b\b\b\b\b\b\b\b\b\b\b\b\b\b\b\b\b\b\b\b\b\b\b\b\b\b\b\b\b\b\b\b\b\b\b\b\b\b\b\b\b\b\b\b\b\b\b\b\b\b\b\b\b\b\b\b\b\b\b\b\b\b\b\b\r24/24 [==============================] - 0s 3ms/step - loss: 0.0709 - accuracy: 0.9764\n",
       "Epoch 59/100\n",
       "\r 1/24 [&gt;.............................] - ETA: 0s - loss: 0.0896 - accuracy: 0.9688\b\b\b\b\b\b\b\b\b\b\b\b\b\b\b\b\b\b\b\b\b\b\b\b\b\b\b\b\b\b\b\b\b\b\b\b\b\b\b\b\b\b\b\b\b\b\b\b\b\b\b\b\b\b\b\b\b\b\b\b\b\b\b\b\b\b\b\b\b\b\b\b\b\b\b\b\b\b\b\b\b\b\r21/24 [=========================&gt;....] - ETA: 0s - loss: 0.0828 - accuracy: 0.9717\b\b\b\b\b\b\b\b\b\b\b\b\b\b\b\b\b\b\b\b\b\b\b\b\b\b\b\b\b\b\b\b\b\b\b\b\b\b\b\b\b\b\b\b\b\b\b\b\b\b\b\b\b\b\b\b\b\b\b\b\b\b\b\b\b\b\b\b\b\b\b\b\b\b\b\b\b\b\b\b\b\b\r24/24 [==============================] - 0s 3ms/step - loss: 0.0760 - accuracy: 0.9738\n",
       "Epoch 60/100\n",
       "\r 1/24 [&gt;.............................] - ETA: 0s - loss: 0.0424 - accuracy: 0.9688\b\b\b\b\b\b\b\b\b\b\b\b\b\b\b\b\b\b\b\b\b\b\b\b\b\b\b\b\b\b\b\b\b\b\b\b\b\b\b\b\b\b\b\b\b\b\b\b\b\b\b\b\b\b\b\b\b\b\b\b\b\b\b\b\b\b\b\b\b\b\b\b\b\b\b\b\b\b\b\b\b\b\r20/24 [========================&gt;.....] - ETA: 0s - loss: 0.0678 - accuracy: 0.9797\b\b\b\b\b\b\b\b\b\b\b\b\b\b\b\b\b\b\b\b\b\b\b\b\b\b\b\b\b\b\b\b\b\b\b\b\b\b\b\b\b\b\b\b\b\b\b\b\b\b\b\b\b\b\b\b\b\b\b\b\b\b\b\b\b\b\b\b\b\b\b\b\b\b\b\b\b\b\b\b\b\b\r24/24 [==============================] - 0s 3ms/step - loss: 0.0750 - accuracy: 0.9751\n",
       "Epoch 61/100\n",
       "\r 1/24 [&gt;.............................] - ETA: 0s - loss: 0.0941 - accuracy: 0.9688\b\b\b\b\b\b\b\b\b\b\b\b\b\b\b\b\b\b\b\b\b\b\b\b\b\b\b\b\b\b\b\b\b\b\b\b\b\b\b\b\b\b\b\b\b\b\b\b\b\b\b\b\b\b\b\b\b\b\b\b\b\b\b\b\b\b\b\b\b\b\b\b\b\b\b\b\b\b\b\b\b\b\r13/24 [===============&gt;..............] - ETA: 0s - loss: 0.0695 - accuracy: 0.9760\b\b\b\b\b\b\b\b\b\b\b\b\b\b\b\b\b\b\b\b\b\b\b\b\b\b\b\b\b\b\b\b\b\b\b\b\b\b\b\b\b\b\b\b\b\b\b\b\b\b\b\b\b\b\b\b\b\b\b\b\b\b\b\b\b\b\b\b\b\b\b\b\b\b\b\b\b\b\b\b\b\b\r24/24 [==============================] - 0s 14ms/step - loss: 0.0812 - accuracy: 0.9751\n",
       "Epoch 62/100\n",
       "\r 1/24 [&gt;.............................] - ETA: 0s - loss: 0.0345 - accuracy: 1.0000\b\b\b\b\b\b\b\b\b\b\b\b\b\b\b\b\b\b\b\b\b\b\b\b\b\b\b\b\b\b\b\b\b\b\b\b\b\b\b\b\b\b\b\b\b\b\b\b\b\b\b\b\b\b\b\b\b\b\b\b\b\b\b\b\b\b\b\b\b\b\b\b\b\b\b\b\b\b\b\b\b\b\r17/24 [====================&gt;.........] - ETA: 0s - loss: 0.0749 - accuracy: 0.9761\b\b\b\b\b\b\b\b\b\b\b\b\b\b\b\b\b\b\b\b\b\b\b\b\b\b\b\b\b\b\b\b\b\b\b\b\b\b\b\b\b\b\b\b\b\b\b\b\b\b\b\b\b\b\b\b\b\b\b\b\b\b\b\b\b\b\b\b\b\b\b\b\b\b\b\b\b\b\b\b\b\b\r24/24 [==============================] - 0s 3ms/step - loss: 0.0864 - accuracy: 0.9751\n",
       "Epoch 63/100\n",
       "\r 1/24 [&gt;.............................] - ETA: 0s - loss: 0.3218 - accuracy: 0.9062\b\b\b\b\b\b\b\b\b\b\b\b\b\b\b\b\b\b\b\b\b\b\b\b\b\b\b\b\b\b\b\b\b\b\b\b\b\b\b\b\b\b\b\b\b\b\b\b\b\b\b\b\b\b\b\b\b\b\b\b\b\b\b\b\b\b\b\b\b\b\b\b\b\b\b\b\b\b\b\b\b\b\r21/24 [=========================&gt;....] - ETA: 0s - loss: 0.0963 - accuracy: 0.9762\b\b\b\b\b\b\b\b\b\b\b\b\b\b\b\b\b\b\b\b\b\b\b\b\b\b\b\b\b\b\b\b\b\b\b\b\b\b\b\b\b\b\b\b\b\b\b\b\b\b\b\b\b\b\b\b\b\b\b\b\b\b\b\b\b\b\b\b\b\b\b\b\b\b\b\b\b\b\b\b\b\b\r24/24 [==============================] - 0s 3ms/step - loss: 0.0926 - accuracy: 0.9751\n",
       "Epoch 64/100\n",
       "\r 1/24 [&gt;.............................] - ETA: 0s - loss: 0.2673 - accuracy: 0.9375\b\b\b\b\b\b\b\b\b\b\b\b\b\b\b\b\b\b\b\b\b\b\b\b\b\b\b\b\b\b\b\b\b\b\b\b\b\b\b\b\b\b\b\b\b\b\b\b\b\b\b\b\b\b\b\b\b\b\b\b\b\b\b\b\b\b\b\b\b\b\b\b\b\b\b\b\b\b\b\b\b\b\r20/24 [========================&gt;.....] - ETA: 0s - loss: 0.0724 - accuracy: 0.9781\b\b\b\b\b\b\b\b\b\b\b\b\b\b\b\b\b\b\b\b\b\b\b\b\b\b\b\b\b\b\b\b\b\b\b\b\b\b\b\b\b\b\b\b\b\b\b\b\b\b\b\b\b\b\b\b\b\b\b\b\b\b\b\b\b\b\b\b\b\b\b\b\b\b\b\b\b\b\b\b\b\b\r24/24 [==============================] - 0s 3ms/step - loss: 0.0777 - accuracy: 0.9764\n",
       "Epoch 65/100\n",
       "\r 1/24 [&gt;.............................] - ETA: 0s - loss: 0.2781 - accuracy: 0.8750\b\b\b\b\b\b\b\b\b\b\b\b\b\b\b\b\b\b\b\b\b\b\b\b\b\b\b\b\b\b\b\b\b\b\b\b\b\b\b\b\b\b\b\b\b\b\b\b\b\b\b\b\b\b\b\b\b\b\b\b\b\b\b\b\b\b\b\b\b\b\b\b\b\b\b\b\b\b\b\b\b\b\r20/24 [========================&gt;.....] - ETA: 0s - loss: 0.0842 - accuracy: 0.9719\b\b\b\b\b\b\b\b\b\b\b\b\b\b\b\b\b\b\b\b\b\b\b\b\b\b\b\b\b\b\b\b\b\b\b\b\b\b\b\b\b\b\b\b\b\b\b\b\b\b\b\b\b\b\b\b\b\b\b\b\b\b\b\b\b\b\b\b\b\b\b\b\b\b\b\b\b\b\b\b\b\b\r24/24 [==============================] - 0s 3ms/step - loss: 0.0817 - accuracy: 0.9738\n",
       "Epoch 66/100\n",
       "\r 1/24 [&gt;.............................] - ETA: 0s - loss: 0.0125 - accuracy: 1.0000\b\b\b\b\b\b\b\b\b\b\b\b\b\b\b\b\b\b\b\b\b\b\b\b\b\b\b\b\b\b\b\b\b\b\b\b\b\b\b\b\b\b\b\b\b\b\b\b\b\b\b\b\b\b\b\b\b\b\b\b\b\b\b\b\b\b\b\b\b\b\b\b\b\b\b\b\b\b\b\b\b\b\r20/24 [========================&gt;.....] - ETA: 0s - loss: 0.0783 - accuracy: 0.9750\b\b\b\b\b\b\b\b\b\b\b\b\b\b\b\b\b\b\b\b\b\b\b\b\b\b\b\b\b\b\b\b\b\b\b\b\b\b\b\b\b\b\b\b\b\b\b\b\b\b\b\b\b\b\b\b\b\b\b\b\b\b\b\b\b\b\b\b\b\b\b\b\b\b\b\b\b\b\b\b\b\b\r24/24 [==============================] - 0s 3ms/step - loss: 0.0775 - accuracy: 0.9738\n",
       "Epoch 67/100\n",
       "\r 1/24 [&gt;.............................] - ETA: 0s - loss: 0.0777 - accuracy: 0.9688\b\b\b\b\b\b\b\b\b\b\b\b\b\b\b\b\b\b\b\b\b\b\b\b\b\b\b\b\b\b\b\b\b\b\b\b\b\b\b\b\b\b\b\b\b\b\b\b\b\b\b\b\b\b\b\b\b\b\b\b\b\b\b\b\b\b\b\b\b\b\b\b\b\b\b\b\b\b\b\b\b\b\r18/24 [=====================&gt;........] - ETA: 0s - loss: 0.0800 - accuracy: 0.9722\b\b\b\b\b\b\b\b\b\b\b\b\b\b\b\b\b\b\b\b\b\b\b\b\b\b\b\b\b\b\b\b\b\b\b\b\b\b\b\b\b\b\b\b\b\b\b\b\b\b\b\b\b\b\b\b\b\b\b\b\b\b\b\b\b\b\b\b\b\b\b\b\b\b\b\b\b\b\b\b\b\b\r24/24 [==============================] - 0s 3ms/step - loss: 0.0767 - accuracy: 0.9751\n",
       "Epoch 68/100\n",
       "\r 1/24 [&gt;.............................] - ETA: 0s - loss: 0.1374 - accuracy: 0.9688\b\b\b\b\b\b\b\b\b\b\b\b\b\b\b\b\b\b\b\b\b\b\b\b\b\b\b\b\b\b\b\b\b\b\b\b\b\b\b\b\b\b\b\b\b\b\b\b\b\b\b\b\b\b\b\b\b\b\b\b\b\b\b\b\b\b\b\b\b\b\b\b\b\b\b\b\b\b\b\b\b\b\r20/24 [========================&gt;.....] - ETA: 0s - loss: 0.0714 - accuracy: 0.9750\b\b\b\b\b\b\b\b\b\b\b\b\b\b\b\b\b\b\b\b\b\b\b\b\b\b\b\b\b\b\b\b\b\b\b\b\b\b\b\b\b\b\b\b\b\b\b\b\b\b\b\b\b\b\b\b\b\b\b\b\b\b\b\b\b\b\b\b\b\b\b\b\b\b\b\b\b\b\b\b\b\b\r24/24 [==============================] - 0s 3ms/step - loss: 0.0748 - accuracy: 0.9738\n",
       "Epoch 69/100\n",
       "\r 1/24 [&gt;.............................] - ETA: 0s - loss: 0.0311 - accuracy: 1.0000\b\b\b\b\b\b\b\b\b\b\b\b\b\b\b\b\b\b\b\b\b\b\b\b\b\b\b\b\b\b\b\b\b\b\b\b\b\b\b\b\b\b\b\b\b\b\b\b\b\b\b\b\b\b\b\b\b\b\b\b\b\b\b\b\b\b\b\b\b\b\b\b\b\b\b\b\b\b\b\b\b\b\r20/24 [========================&gt;.....] - ETA: 0s - loss: 0.0736 - accuracy: 0.9750\b\b\b\b\b\b\b\b\b\b\b\b\b\b\b\b\b\b\b\b\b\b\b\b\b\b\b\b\b\b\b\b\b\b\b\b\b\b\b\b\b\b\b\b\b\b\b\b\b\b\b\b\b\b\b\b\b\b\b\b\b\b\b\b\b\b\b\b\b\b\b\b\b\b\b\b\b\b\b\b\b\b\r24/24 [==============================] - 0s 3ms/step - loss: 0.0742 - accuracy: 0.9751\n",
       "Epoch 70/100\n",
       "\r 1/24 [&gt;.............................] - ETA: 0s - loss: 0.2460 - accuracy: 0.9688\b\b\b\b\b\b\b\b\b\b\b\b\b\b\b\b\b\b\b\b\b\b\b\b\b\b\b\b\b\b\b\b\b\b\b\b\b\b\b\b\b\b\b\b\b\b\b\b\b\b\b\b\b\b\b\b\b\b\b\b\b\b\b\b\b\b\b\b\b\b\b\b\b\b\b\b\b\b\b\b\b\b\r20/24 [========================&gt;.....] - ETA: 0s - loss: 0.0824 - accuracy: 0.9750\b\b\b\b\b\b\b\b\b\b\b\b\b\b\b\b\b\b\b\b\b\b\b\b\b\b\b\b\b\b\b\b\b\b\b\b\b\b\b\b\b\b\b\b\b\b\b\b\b\b\b\b\b\b\b\b\b\b\b\b\b\b\b\b\b\b\b\b\b\b\b\b\b\b\b\b\b\b\b\b\b\b\r24/24 [==============================] - 0s 3ms/step - loss: 0.0793 - accuracy: 0.9751\n",
       "Epoch 71/100\n",
       "\r 1/24 [&gt;.............................] - ETA: 0s - loss: 0.0692 - accuracy: 0.9688\b\b\b\b\b\b\b\b\b\b\b\b\b\b\b\b\b\b\b\b\b\b\b\b\b\b\b\b\b\b\b\b\b\b\b\b\b\b\b\b\b\b\b\b\b\b\b\b\b\b\b\b\b\b\b\b\b\b\b\b\b\b\b\b\b\b\b\b\b\b\b\b\b\b\b\b\b\b\b\b\b\b\r14/24 [================&gt;.............] - ETA: 0s - loss: 0.0851 - accuracy: 0.9710\b\b\b\b\b\b\b\b\b\b\b\b\b\b\b\b\b\b\b\b\b\b\b\b\b\b\b\b\b\b\b\b\b\b\b\b\b\b\b\b\b\b\b\b\b\b\b\b\b\b\b\b\b\b\b\b\b\b\b\b\b\b\b\b\b\b\b\b\b\b\b\b\b\b\b\b\b\b\b\b\b\b\r24/24 [==============================] - 0s 4ms/step - loss: 0.0710 - accuracy: 0.9751\n",
       "Epoch 72/100\n",
       "\r 1/24 [&gt;.............................] - ETA: 0s - loss: 0.2001 - accuracy: 0.9688\b\b\b\b\b\b\b\b\b\b\b\b\b\b\b\b\b\b\b\b\b\b\b\b\b\b\b\b\b\b\b\b\b\b\b\b\b\b\b\b\b\b\b\b\b\b\b\b\b\b\b\b\b\b\b\b\b\b\b\b\b\b\b\b\b\b\b\b\b\b\b\b\b\b\b\b\b\b\b\b\b\b\r15/24 [=================&gt;............] - ETA: 0s - loss: 0.0760 - accuracy: 0.9750\b\b\b\b\b\b\b\b\b\b\b\b\b\b\b\b\b\b\b\b\b\b\b\b\b\b\b\b\b\b\b\b\b\b\b\b\b\b\b\b\b\b\b\b\b\b\b\b\b\b\b\b\b\b\b\b\b\b\b\b\b\b\b\b\b\b\b\b\b\b\b\b\b\b\b\b\b\b\b\b\b\b\r24/24 [==============================] - 0s 4ms/step - loss: 0.0686 - accuracy: 0.9777\n",
       "Epoch 73/100\n",
       "\r 1/24 [&gt;.............................] - ETA: 0s - loss: 0.1359 - accuracy: 0.9375\b\b\b\b\b\b\b\b\b\b\b\b\b\b\b\b\b\b\b\b\b\b\b\b\b\b\b\b\b\b\b\b\b\b\b\b\b\b\b\b\b\b\b\b\b\b\b\b\b\b\b\b\b\b\b\b\b\b\b\b\b\b\b\b\b\b\b\b\b\b\b\b\b\b\b\b\b\b\b\b\b\b\r16/24 [===================&gt;..........] - ETA: 0s - loss: 0.0926 - accuracy: 0.9688\b\b\b\b\b\b\b\b\b\b\b\b\b\b\b\b\b\b\b\b\b\b\b\b\b\b\b\b\b\b\b\b\b\b\b\b\b\b\b\b\b\b\b\b\b\b\b\b\b\b\b\b\b\b\b\b\b\b\b\b\b\b\b\b\b\b\b\b\b\b\b\b\b\b\b\b\b\b\b\b\b\b\r24/24 [==============================] - 0s 4ms/step - loss: 0.0764 - accuracy: 0.9738\n",
       "Epoch 74/100\n",
       "\r 1/24 [&gt;.............................] - ETA: 0s - loss: 0.0387 - accuracy: 0.9688\b\b\b\b\b\b\b\b\b\b\b\b\b\b\b\b\b\b\b\b\b\b\b\b\b\b\b\b\b\b\b\b\b\b\b\b\b\b\b\b\b\b\b\b\b\b\b\b\b\b\b\b\b\b\b\b\b\b\b\b\b\b\b\b\b\b\b\b\b\b\b\b\b\b\b\b\b\b\b\b\b\b\r18/24 [=====================&gt;........] - ETA: 0s - loss: 0.0743 - accuracy: 0.9757\b\b\b\b\b\b\b\b\b\b\b\b\b\b\b\b\b\b\b\b\b\b\b\b\b\b\b\b\b\b\b\b\b\b\b\b\b\b\b\b\b\b\b\b\b\b\b\b\b\b\b\b\b\b\b\b\b\b\b\b\b\b\b\b\b\b\b\b\b\b\b\b\b\b\b\b\b\b\b\b\b\b\r24/24 [==============================] - 0s 3ms/step - loss: 0.0681 - accuracy: 0.9764\n",
       "Epoch 75/100\n",
       "\r 1/24 [&gt;.............................] - ETA: 0s - loss: 0.0895 - accuracy: 0.9688\b\b\b\b\b\b\b\b\b\b\b\b\b\b\b\b\b\b\b\b\b\b\b\b\b\b\b\b\b\b\b\b\b\b\b\b\b\b\b\b\b\b\b\b\b\b\b\b\b\b\b\b\b\b\b\b\b\b\b\b\b\b\b\b\b\b\b\b\b\b\b\b\b\b\b\b\b\b\b\b\b\b\r19/24 [======================&gt;.......] - ETA: 0s - loss: 0.0737 - accuracy: 0.9786\b\b\b\b\b\b\b\b\b\b\b\b\b\b\b\b\b\b\b\b\b\b\b\b\b\b\b\b\b\b\b\b\b\b\b\b\b\b\b\b\b\b\b\b\b\b\b\b\b\b\b\b\b\b\b\b\b\b\b\b\b\b\b\b\b\b\b\b\b\b\b\b\b\b\b\b\b\b\b\b\b\b\r24/24 [==============================] - 0s 3ms/step - loss: 0.0788 - accuracy: 0.9764\n",
       "Epoch 76/100\n",
       "\r 1/24 [&gt;.............................] - ETA: 0s - loss: 0.0085 - accuracy: 1.0000\b\b\b\b\b\b\b\b\b\b\b\b\b\b\b\b\b\b\b\b\b\b\b\b\b\b\b\b\b\b\b\b\b\b\b\b\b\b\b\b\b\b\b\b\b\b\b\b\b\b\b\b\b\b\b\b\b\b\b\b\b\b\b\b\b\b\b\b\b\b\b\b\b\b\b\b\b\b\b\b\b\b\r19/24 [======================&gt;.......] - ETA: 0s - loss: 0.0591 - accuracy: 0.9753\b\b\b\b\b\b\b\b\b\b\b\b\b\b\b\b\b\b\b\b\b\b\b\b\b\b\b\b\b\b\b\b\b\b\b\b\b\b\b\b\b\b\b\b\b\b\b\b\b\b\b\b\b\b\b\b\b\b\b\b\b\b\b\b\b\b\b\b\b\b\b\b\b\b\b\b\b\b\b\b\b\b\r24/24 [==============================] - 0s 3ms/step - loss: 0.0647 - accuracy: 0.9751\n",
       "Epoch 77/100\n",
       "\r 1/24 [&gt;.............................] - ETA: 0s - loss: 0.0536 - accuracy: 0.9688\b\b\b\b\b\b\b\b\b\b\b\b\b\b\b\b\b\b\b\b\b\b\b\b\b\b\b\b\b\b\b\b\b\b\b\b\b\b\b\b\b\b\b\b\b\b\b\b\b\b\b\b\b\b\b\b\b\b\b\b\b\b\b\b\b\b\b\b\b\b\b\b\b\b\b\b\b\b\b\b\b\b\r20/24 [========================&gt;.....] - ETA: 0s - loss: 0.0764 - accuracy: 0.9703\b\b\b\b\b\b\b\b\b\b\b\b\b\b\b\b\b\b\b\b\b\b\b\b\b\b\b\b\b\b\b\b\b\b\b\b\b\b\b\b\b\b\b\b\b\b\b\b\b\b\b\b\b\b\b\b\b\b\b\b\b\b\b\b\b\b\b\b\b\b\b\b\b\b\b\b\b\b\b\b\b\b\r24/24 [==============================] - 0s 3ms/step - loss: 0.0682 - accuracy: 0.9738\n",
       "Epoch 78/100\n",
       "\r 1/24 [&gt;.............................] - ETA: 0s - loss: 0.1101 - accuracy: 0.9375\b\b\b\b\b\b\b\b\b\b\b\b\b\b\b\b\b\b\b\b\b\b\b\b\b\b\b\b\b\b\b\b\b\b\b\b\b\b\b\b\b\b\b\b\b\b\b\b\b\b\b\b\b\b\b\b\b\b\b\b\b\b\b\b\b\b\b\b\b\b\b\b\b\b\b\b\b\b\b\b\b\b\r20/24 [========================&gt;.....] - ETA: 0s - loss: 0.0642 - accuracy: 0.9750\b\b\b\b\b\b\b\b\b\b\b\b\b\b\b\b\b\b\b\b\b\b\b\b\b\b\b\b\b\b\b\b\b\b\b\b\b\b\b\b\b\b\b\b\b\b\b\b\b\b\b\b\b\b\b\b\b\b\b\b\b\b\b\b\b\b\b\b\b\b\b\b\b\b\b\b\b\b\b\b\b\b\r24/24 [==============================] - 0s 3ms/step - loss: 0.0794 - accuracy: 0.9725\n",
       "Epoch 79/100\n",
       "\r 1/24 [&gt;.............................] - ETA: 0s - loss: 0.0176 - accuracy: 1.0000\b\b\b\b\b\b\b\b\b\b\b\b\b\b\b\b\b\b\b\b\b\b\b\b\b\b\b\b\b\b\b\b\b\b\b\b\b\b\b\b\b\b\b\b\b\b\b\b\b\b\b\b\b\b\b\b\b\b\b\b\b\b\b\b\b\b\b\b\b\b\b\b\b\b\b\b\b\b\b\b\b\b\r18/24 [=====================&gt;........] - ETA: 0s - loss: 0.0806 - accuracy: 0.9740\b\b\b\b\b\b\b\b\b\b\b\b\b\b\b\b\b\b\b\b\b\b\b\b\b\b\b\b\b\b\b\b\b\b\b\b\b\b\b\b\b\b\b\b\b\b\b\b\b\b\b\b\b\b\b\b\b\b\b\b\b\b\b\b\b\b\b\b\b\b\b\b\b\b\b\b\b\b\b\b\b\b\r24/24 [==============================] - 0s 3ms/step - loss: 0.0758 - accuracy: 0.9751\n",
       "Epoch 80/100\n",
       "\r 1/24 [&gt;.............................] - ETA: 0s - loss: 0.0253 - accuracy: 1.0000\b\b\b\b\b\b\b\b\b\b\b\b\b\b\b\b\b\b\b\b\b\b\b\b\b\b\b\b\b\b\b\b\b\b\b\b\b\b\b\b\b\b\b\b\b\b\b\b\b\b\b\b\b\b\b\b\b\b\b\b\b\b\b\b\b\b\b\b\b\b\b\b\b\b\b\b\b\b\b\b\b\b\r17/24 [====================&gt;.........] - ETA: 0s - loss: 0.0666 - accuracy: 0.9761\b\b\b\b\b\b\b\b\b\b\b\b\b\b\b\b\b\b\b\b\b\b\b\b\b\b\b\b\b\b\b\b\b\b\b\b\b\b\b\b\b\b\b\b\b\b\b\b\b\b\b\b\b\b\b\b\b\b\b\b\b\b\b\b\b\b\b\b\b\b\b\b\b\b\b\b\b\b\b\b\b\b\r24/24 [==============================] - 0s 3ms/step - loss: 0.0689 - accuracy: 0.9751\n",
       "Epoch 81/100\n",
       "\r 1/24 [&gt;.............................] - ETA: 0s - loss: 0.0538 - accuracy: 0.9688\b\b\b\b\b\b\b\b\b\b\b\b\b\b\b\b\b\b\b\b\b\b\b\b\b\b\b\b\b\b\b\b\b\b\b\b\b\b\b\b\b\b\b\b\b\b\b\b\b\b\b\b\b\b\b\b\b\b\b\b\b\b\b\b\b\b\b\b\b\b\b\b\b\b\b\b\b\b\b\b\b\b\r16/24 [===================&gt;..........] - ETA: 0s - loss: 0.0684 - accuracy: 0.9766\b\b\b\b\b\b\b\b\b\b\b\b\b\b\b\b\b\b\b\b\b\b\b\b\b\b\b\b\b\b\b\b\b\b\b\b\b\b\b\b\b\b\b\b\b\b\b\b\b\b\b\b\b\b\b\b\b\b\b\b\b\b\b\b\b\b\b\b\b\b\b\b\b\b\b\b\b\b\b\b\b\b\r24/24 [==============================] - 0s 4ms/step - loss: 0.0766 - accuracy: 0.9725\n",
       "Epoch 82/100\n",
       "\r 1/24 [&gt;.............................] - ETA: 0s - loss: 0.1021 - accuracy: 0.9688\b\b\b\b\b\b\b\b\b\b\b\b\b\b\b\b\b\b\b\b\b\b\b\b\b\b\b\b\b\b\b\b\b\b\b\b\b\b\b\b\b\b\b\b\b\b\b\b\b\b\b\b\b\b\b\b\b\b\b\b\b\b\b\b\b\b\b\b\b\b\b\b\b\b\b\b\b\b\b\b\b\b\r16/24 [===================&gt;..........] - ETA: 0s - loss: 0.0811 - accuracy: 0.9746\b\b\b\b\b\b\b\b\b\b\b\b\b\b\b\b\b\b\b\b\b\b\b\b\b\b\b\b\b\b\b\b\b\b\b\b\b\b\b\b\b\b\b\b\b\b\b\b\b\b\b\b\b\b\b\b\b\b\b\b\b\b\b\b\b\b\b\b\b\b\b\b\b\b\b\b\b\b\b\b\b\b\r24/24 [==============================] - 0s 3ms/step - loss: 0.0790 - accuracy: 0.9764\n",
       "Epoch 83/100\n",
       "\r 1/24 [&gt;.............................] - ETA: 0s - loss: 0.0795 - accuracy: 0.9688\b\b\b\b\b\b\b\b\b\b\b\b\b\b\b\b\b\b\b\b\b\b\b\b\b\b\b\b\b\b\b\b\b\b\b\b\b\b\b\b\b\b\b\b\b\b\b\b\b\b\b\b\b\b\b\b\b\b\b\b\b\b\b\b\b\b\b\b\b\b\b\b\b\b\b\b\b\b\b\b\b\b\r19/24 [======================&gt;.......] - ETA: 0s - loss: 0.0687 - accuracy: 0.9786\b\b\b\b\b\b\b\b\b\b\b\b\b\b\b\b\b\b\b\b\b\b\b\b\b\b\b\b\b\b\b\b\b\b\b\b\b\b\b\b\b\b\b\b\b\b\b\b\b\b\b\b\b\b\b\b\b\b\b\b\b\b\b\b\b\b\b\b\b\b\b\b\b\b\b\b\b\b\b\b\b\b\r24/24 [==============================] - 0s 3ms/step - loss: 0.0791 - accuracy: 0.9751\n",
       "Epoch 84/100\n",
       "\r 1/24 [&gt;.............................] - ETA: 0s - loss: 0.0102 - accuracy: 1.0000\b\b\b\b\b\b\b\b\b\b\b\b\b\b\b\b\b\b\b\b\b\b\b\b\b\b\b\b\b\b\b\b\b\b\b\b\b\b\b\b\b\b\b\b\b\b\b\b\b\b\b\b\b\b\b\b\b\b\b\b\b\b\b\b\b\b\b\b\b\b\b\b\b\b\b\b\b\b\b\b\b\b\r20/24 [========================&gt;.....] - ETA: 0s - loss: 0.0733 - accuracy: 0.9750\b\b\b\b\b\b\b\b\b\b\b\b\b\b\b\b\b\b\b\b\b\b\b\b\b\b\b\b\b\b\b\b\b\b\b\b\b\b\b\b\b\b\b\b\b\b\b\b\b\b\b\b\b\b\b\b\b\b\b\b\b\b\b\b\b\b\b\b\b\b\b\b\b\b\b\b\b\b\b\b\b\b\r24/24 [==============================] - 0s 3ms/step - loss: 0.0722 - accuracy: 0.9751\n",
       "Epoch 85/100\n",
       "\r 1/24 [&gt;.............................] - ETA: 0s - loss: 0.0144 - accuracy: 1.0000\b\b\b\b\b\b\b\b\b\b\b\b\b\b\b\b\b\b\b\b\b\b\b\b\b\b\b\b\b\b\b\b\b\b\b\b\b\b\b\b\b\b\b\b\b\b\b\b\b\b\b\b\b\b\b\b\b\b\b\b\b\b\b\b\b\b\b\b\b\b\b\b\b\b\b\b\b\b\b\b\b\b\r20/24 [========================&gt;.....] - ETA: 0s - loss: 0.0661 - accuracy: 0.9781\b\b\b\b\b\b\b\b\b\b\b\b\b\b\b\b\b\b\b\b\b\b\b\b\b\b\b\b\b\b\b\b\b\b\b\b\b\b\b\b\b\b\b\b\b\b\b\b\b\b\b\b\b\b\b\b\b\b\b\b\b\b\b\b\b\b\b\b\b\b\b\b\b\b\b\b\b\b\b\b\b\b\r24/24 [==============================] - 0s 3ms/step - loss: 0.0695 - accuracy: 0.9751\n",
       "Epoch 86/100\n",
       "\r 1/24 [&gt;.............................] - ETA: 0s - loss: 0.0736 - accuracy: 0.9688\b\b\b\b\b\b\b\b\b\b\b\b\b\b\b\b\b\b\b\b\b\b\b\b\b\b\b\b\b\b\b\b\b\b\b\b\b\b\b\b\b\b\b\b\b\b\b\b\b\b\b\b\b\b\b\b\b\b\b\b\b\b\b\b\b\b\b\b\b\b\b\b\b\b\b\b\b\b\b\b\b\b\r19/24 [======================&gt;.......] - ETA: 0s - loss: 0.0677 - accuracy: 0.9753\b\b\b\b\b\b\b\b\b\b\b\b\b\b\b\b\b\b\b\b\b\b\b\b\b\b\b\b\b\b\b\b\b\b\b\b\b\b\b\b\b\b\b\b\b\b\b\b\b\b\b\b\b\b\b\b\b\b\b\b\b\b\b\b\b\b\b\b\b\b\b\b\b\b\b\b\b\b\b\b\b\b\r24/24 [==============================] - 0s 3ms/step - loss: 0.0711 - accuracy: 0.9738\n",
       "Epoch 87/100\n",
       "\r 1/24 [&gt;.............................] - ETA: 0s - loss: 0.0206 - accuracy: 1.0000\b\b\b\b\b\b\b\b\b\b\b\b\b\b\b\b\b\b\b\b\b\b\b\b\b\b\b\b\b\b\b\b\b\b\b\b\b\b\b\b\b\b\b\b\b\b\b\b\b\b\b\b\b\b\b\b\b\b\b\b\b\b\b\b\b\b\b\b\b\b\b\b\b\b\b\b\b\b\b\b\b\b\r19/24 [======================&gt;.......] - ETA: 0s - loss: 0.0798 - accuracy: 0.9720\b\b\b\b\b\b\b\b\b\b\b\b\b\b\b\b\b\b\b\b\b\b\b\b\b\b\b\b\b\b\b\b\b\b\b\b\b\b\b\b\b\b\b\b\b\b\b\b\b\b\b\b\b\b\b\b\b\b\b\b\b\b\b\b\b\b\b\b\b\b\b\b\b\b\b\b\b\b\b\b\b\b\r24/24 [==============================] - 0s 3ms/step - loss: 0.0731 - accuracy: 0.9738\n",
       "Epoch 88/100\n",
       "\r 1/24 [&gt;.............................] - ETA: 0s - loss: 0.0252 - accuracy: 1.0000\b\b\b\b\b\b\b\b\b\b\b\b\b\b\b\b\b\b\b\b\b\b\b\b\b\b\b\b\b\b\b\b\b\b\b\b\b\b\b\b\b\b\b\b\b\b\b\b\b\b\b\b\b\b\b\b\b\b\b\b\b\b\b\b\b\b\b\b\b\b\b\b\b\b\b\b\b\b\b\b\b\b\r21/24 [=========================&gt;....] - ETA: 0s - loss: 0.0543 - accuracy: 0.9792\b\b\b\b\b\b\b\b\b\b\b\b\b\b\b\b\b\b\b\b\b\b\b\b\b\b\b\b\b\b\b\b\b\b\b\b\b\b\b\b\b\b\b\b\b\b\b\b\b\b\b\b\b\b\b\b\b\b\b\b\b\b\b\b\b\b\b\b\b\b\b\b\b\b\b\b\b\b\b\b\b\b\r24/24 [==============================] - 0s 3ms/step - loss: 0.0598 - accuracy: 0.9764\n",
       "Epoch 89/100\n",
       "\r 1/24 [&gt;.............................] - ETA: 0s - loss: 0.0384 - accuracy: 0.9688\b\b\b\b\b\b\b\b\b\b\b\b\b\b\b\b\b\b\b\b\b\b\b\b\b\b\b\b\b\b\b\b\b\b\b\b\b\b\b\b\b\b\b\b\b\b\b\b\b\b\b\b\b\b\b\b\b\b\b\b\b\b\b\b\b\b\b\b\b\b\b\b\b\b\b\b\b\b\b\b\b\b\r20/24 [========================&gt;.....] - ETA: 0s - loss: 0.0679 - accuracy: 0.9750\b\b\b\b\b\b\b\b\b\b\b\b\b\b\b\b\b\b\b\b\b\b\b\b\b\b\b\b\b\b\b\b\b\b\b\b\b\b\b\b\b\b\b\b\b\b\b\b\b\b\b\b\b\b\b\b\b\b\b\b\b\b\b\b\b\b\b\b\b\b\b\b\b\b\b\b\b\b\b\b\b\b\r24/24 [==============================] - 0s 3ms/step - loss: 0.0700 - accuracy: 0.9751\n",
       "Epoch 90/100\n",
       "\r 1/24 [&gt;.............................] - ETA: 0s - loss: 0.0169 - accuracy: 1.0000\b\b\b\b\b\b\b\b\b\b\b\b\b\b\b\b\b\b\b\b\b\b\b\b\b\b\b\b\b\b\b\b\b\b\b\b\b\b\b\b\b\b\b\b\b\b\b\b\b\b\b\b\b\b\b\b\b\b\b\b\b\b\b\b\b\b\b\b\b\b\b\b\b\b\b\b\b\b\b\b\b\b\r20/24 [========================&gt;.....] - ETA: 0s - loss: 0.0660 - accuracy: 0.9766\b\b\b\b\b\b\b\b\b\b\b\b\b\b\b\b\b\b\b\b\b\b\b\b\b\b\b\b\b\b\b\b\b\b\b\b\b\b\b\b\b\b\b\b\b\b\b\b\b\b\b\b\b\b\b\b\b\b\b\b\b\b\b\b\b\b\b\b\b\b\b\b\b\b\b\b\b\b\b\b\b\b\r24/24 [==============================] - 0s 13ms/step - loss: 0.0641 - accuracy: 0.9791\n",
       "Epoch 91/100\n",
       "\r 1/24 [&gt;.............................] - ETA: 0s - loss: 0.0127 - accuracy: 1.0000\b\b\b\b\b\b\b\b\b\b\b\b\b\b\b\b\b\b\b\b\b\b\b\b\b\b\b\b\b\b\b\b\b\b\b\b\b\b\b\b\b\b\b\b\b\b\b\b\b\b\b\b\b\b\b\b\b\b\b\b\b\b\b\b\b\b\b\b\b\b\b\b\b\b\b\b\b\b\b\b\b\b\r18/24 [=====================&gt;........] - ETA: 0s - loss: 0.0698 - accuracy: 0.9774\b\b\b\b\b\b\b\b\b\b\b\b\b\b\b\b\b\b\b\b\b\b\b\b\b\b\b\b\b\b\b\b\b\b\b\b\b\b\b\b\b\b\b\b\b\b\b\b\b\b\b\b\b\b\b\b\b\b\b\b\b\b\b\b\b\b\b\b\b\b\b\b\b\b\b\b\b\b\b\b\b\b\r24/24 [==============================] - 0s 3ms/step - loss: 0.0741 - accuracy: 0.9764\n",
       "Epoch 92/100\n",
       "\r 1/24 [&gt;.............................] - ETA: 0s - loss: 0.0695 - accuracy: 0.9688\b\b\b\b\b\b\b\b\b\b\b\b\b\b\b\b\b\b\b\b\b\b\b\b\b\b\b\b\b\b\b\b\b\b\b\b\b\b\b\b\b\b\b\b\b\b\b\b\b\b\b\b\b\b\b\b\b\b\b\b\b\b\b\b\b\b\b\b\b\b\b\b\b\b\b\b\b\b\b\b\b\b\r20/24 [========================&gt;.....] - ETA: 0s - loss: 0.0656 - accuracy: 0.9750\b\b\b\b\b\b\b\b\b\b\b\b\b\b\b\b\b\b\b\b\b\b\b\b\b\b\b\b\b\b\b\b\b\b\b\b\b\b\b\b\b\b\b\b\b\b\b\b\b\b\b\b\b\b\b\b\b\b\b\b\b\b\b\b\b\b\b\b\b\b\b\b\b\b\b\b\b\b\b\b\b\b\r24/24 [==============================] - 0s 3ms/step - loss: 0.0719 - accuracy: 0.9738\n",
       "Epoch 93/100\n",
       "\r 1/24 [&gt;.............................] - ETA: 0s - loss: 0.0806 - accuracy: 0.9688\b\b\b\b\b\b\b\b\b\b\b\b\b\b\b\b\b\b\b\b\b\b\b\b\b\b\b\b\b\b\b\b\b\b\b\b\b\b\b\b\b\b\b\b\b\b\b\b\b\b\b\b\b\b\b\b\b\b\b\b\b\b\b\b\b\b\b\b\b\b\b\b\b\b\b\b\b\b\b\b\b\b\r19/24 [======================&gt;.......] - ETA: 0s - loss: 0.0588 - accuracy: 0.9770\b\b\b\b\b\b\b\b\b\b\b\b\b\b\b\b\b\b\b\b\b\b\b\b\b\b\b\b\b\b\b\b\b\b\b\b\b\b\b\b\b\b\b\b\b\b\b\b\b\b\b\b\b\b\b\b\b\b\b\b\b\b\b\b\b\b\b\b\b\b\b\b\b\b\b\b\b\b\b\b\b\b\r24/24 [==============================] - 0s 3ms/step - loss: 0.0665 - accuracy: 0.9751\n",
       "Epoch 94/100\n",
       "\r 1/24 [&gt;.............................] - ETA: 0s - loss: 0.0234 - accuracy: 1.0000\b\b\b\b\b\b\b\b\b\b\b\b\b\b\b\b\b\b\b\b\b\b\b\b\b\b\b\b\b\b\b\b\b\b\b\b\b\b\b\b\b\b\b\b\b\b\b\b\b\b\b\b\b\b\b\b\b\b\b\b\b\b\b\b\b\b\b\b\b\b\b\b\b\b\b\b\b\b\b\b\b\b\r17/24 [====================&gt;.........] - ETA: 0s - loss: 0.0438 - accuracy: 0.9816\b\b\b\b\b\b\b\b\b\b\b\b\b\b\b\b\b\b\b\b\b\b\b\b\b\b\b\b\b\b\b\b\b\b\b\b\b\b\b\b\b\b\b\b\b\b\b\b\b\b\b\b\b\b\b\b\b\b\b\b\b\b\b\b\b\b\b\b\b\b\b\b\b\b\b\b\b\b\b\b\b\b\r24/24 [==============================] - 0s 3ms/step - loss: 0.0606 - accuracy: 0.9777\n",
       "Epoch 95/100\n",
       "\r 1/24 [&gt;.............................] - ETA: 0s - loss: 0.0772 - accuracy: 0.9688\b\b\b\b\b\b\b\b\b\b\b\b\b\b\b\b\b\b\b\b\b\b\b\b\b\b\b\b\b\b\b\b\b\b\b\b\b\b\b\b\b\b\b\b\b\b\b\b\b\b\b\b\b\b\b\b\b\b\b\b\b\b\b\b\b\b\b\b\b\b\b\b\b\b\b\b\b\b\b\b\b\b\r18/24 [=====================&gt;........] - ETA: 0s - loss: 0.0671 - accuracy: 0.9792\b\b\b\b\b\b\b\b\b\b\b\b\b\b\b\b\b\b\b\b\b\b\b\b\b\b\b\b\b\b\b\b\b\b\b\b\b\b\b\b\b\b\b\b\b\b\b\b\b\b\b\b\b\b\b\b\b\b\b\b\b\b\b\b\b\b\b\b\b\b\b\b\b\b\b\b\b\b\b\b\b\b\r24/24 [==============================] - 0s 3ms/step - loss: 0.0673 - accuracy: 0.9764\n",
       "Epoch 96/100\n",
       "\r 1/24 [&gt;.............................] - ETA: 0s - loss: 0.0212 - accuracy: 1.0000\b\b\b\b\b\b\b\b\b\b\b\b\b\b\b\b\b\b\b\b\b\b\b\b\b\b\b\b\b\b\b\b\b\b\b\b\b\b\b\b\b\b\b\b\b\b\b\b\b\b\b\b\b\b\b\b\b\b\b\b\b\b\b\b\b\b\b\b\b\b\b\b\b\b\b\b\b\b\b\b\b\b\r19/24 [======================&gt;.......] - ETA: 0s - loss: 0.0606 - accuracy: 0.9770\b\b\b\b\b\b\b\b\b\b\b\b\b\b\b\b\b\b\b\b\b\b\b\b\b\b\b\b\b\b\b\b\b\b\b\b\b\b\b\b\b\b\b\b\b\b\b\b\b\b\b\b\b\b\b\b\b\b\b\b\b\b\b\b\b\b\b\b\b\b\b\b\b\b\b\b\b\b\b\b\b\b\r24/24 [==============================] - 0s 3ms/step - loss: 0.0686 - accuracy: 0.9751\n",
       "Epoch 97/100\n",
       "\r 1/24 [&gt;.............................] - ETA: 0s - loss: 0.0661 - accuracy: 0.9688\b\b\b\b\b\b\b\b\b\b\b\b\b\b\b\b\b\b\b\b\b\b\b\b\b\b\b\b\b\b\b\b\b\b\b\b\b\b\b\b\b\b\b\b\b\b\b\b\b\b\b\b\b\b\b\b\b\b\b\b\b\b\b\b\b\b\b\b\b\b\b\b\b\b\b\b\b\b\b\b\b\b\r16/24 [===================&gt;..........] - ETA: 0s - loss: 0.0518 - accuracy: 0.9805\b\b\b\b\b\b\b\b\b\b\b\b\b\b\b\b\b\b\b\b\b\b\b\b\b\b\b\b\b\b\b\b\b\b\b\b\b\b\b\b\b\b\b\b\b\b\b\b\b\b\b\b\b\b\b\b\b\b\b\b\b\b\b\b\b\b\b\b\b\b\b\b\b\b\b\b\b\b\b\b\b\b\r24/24 [==============================] - 0s 3ms/step - loss: 0.0595 - accuracy: 0.9751\n",
       "Epoch 98/100\n",
       "\r 1/24 [&gt;.............................] - ETA: 0s - loss: 0.1435 - accuracy: 0.9688\b\b\b\b\b\b\b\b\b\b\b\b\b\b\b\b\b\b\b\b\b\b\b\b\b\b\b\b\b\b\b\b\b\b\b\b\b\b\b\b\b\b\b\b\b\b\b\b\b\b\b\b\b\b\b\b\b\b\b\b\b\b\b\b\b\b\b\b\b\b\b\b\b\b\b\b\b\b\b\b\b\b\r19/24 [======================&gt;.......] - ETA: 0s - loss: 0.0566 - accuracy: 0.9803\b\b\b\b\b\b\b\b\b\b\b\b\b\b\b\b\b\b\b\b\b\b\b\b\b\b\b\b\b\b\b\b\b\b\b\b\b\b\b\b\b\b\b\b\b\b\b\b\b\b\b\b\b\b\b\b\b\b\b\b\b\b\b\b\b\b\b\b\b\b\b\b\b\b\b\b\b\b\b\b\b\b\r24/24 [==============================] - 0s 3ms/step - loss: 0.0732 - accuracy: 0.9764\n",
       "Epoch 99/100\n",
       "\r 1/24 [&gt;.............................] - ETA: 0s - loss: 0.1709 - accuracy: 0.9688\b\b\b\b\b\b\b\b\b\b\b\b\b\b\b\b\b\b\b\b\b\b\b\b\b\b\b\b\b\b\b\b\b\b\b\b\b\b\b\b\b\b\b\b\b\b\b\b\b\b\b\b\b\b\b\b\b\b\b\b\b\b\b\b\b\b\b\b\b\b\b\b\b\b\b\b\b\b\b\b\b\b\r15/24 [=================&gt;............] - ETA: 0s - loss: 0.0979 - accuracy: 0.9688\b\b\b\b\b\b\b\b\b\b\b\b\b\b\b\b\b\b\b\b\b\b\b\b\b\b\b\b\b\b\b\b\b\b\b\b\b\b\b\b\b\b\b\b\b\b\b\b\b\b\b\b\b\b\b\b\b\b\b\b\b\b\b\b\b\b\b\b\b\b\b\b\b\b\b\b\b\b\b\b\b\b\r24/24 [==============================] - 0s 3ms/step - loss: 0.0690 - accuracy: 0.9777\n",
       "Epoch 100/100\n",
       "\r 1/24 [&gt;.............................] - ETA: 0s - loss: 0.0870 - accuracy: 0.9688\b\b\b\b\b\b\b\b\b\b\b\b\b\b\b\b\b\b\b\b\b\b\b\b\b\b\b\b\b\b\b\b\b\b\b\b\b\b\b\b\b\b\b\b\b\b\b\b\b\b\b\b\b\b\b\b\b\b\b\b\b\b\b\b\b\b\b\b\b\b\b\b\b\b\b\b\b\b\b\b\b\b\r19/24 [======================&gt;.......] - ETA: 0s - loss: 0.0865 - accuracy: 0.9753\b\b\b\b\b\b\b\b\b\b\b\b\b\b\b\b\b\b\b\b\b\b\b\b\b\b\b\b\b\b\b\b\b\b\b\b\b\b\b\b\b\b\b\b\b\b\b\b\b\b\b\b\b\b\b\b\b\b\b\b\b\b\b\b\b\b\b\b\b\b\b\b\b\b\b\b\b\b\b\b\b\b\r24/24 [==============================] - 0s 3ms/step - loss: 0.0777 - accuracy: 0.9764\n",
       "INFO:tensorflow:Assets written to: /tmp/tmpvrvi8xau/model/data/model/assets\n",
       "Out[28]: &lt;keras.callbacks.History at 0x7f6711da64c0&gt;</div>"
      ]
     },
     "metadata": {
      "application/vnd.databricks.v1+output": {
       "addedWidgets": {},
       "arguments": {},
       "data": "<div class=\"ansiout\">Epoch 1/100\n\r 1/24 [&gt;.............................] - ETA: 15s - loss: 2.2597 - accuracy: 0.3750\b\b\b\b\b\b\b\b\b\b\b\b\b\b\b\b\b\b\b\b\b\b\b\b\b\b\b\b\b\b\b\b\b\b\b\b\b\b\b\b\b\b\b\b\b\b\b\b\b\b\b\b\b\b\b\b\b\b\b\b\b\b\b\b\b\b\b\b\b\b\b\b\b\b\b\b\b\b\b\b\b\b\b\r18/24 [=====================&gt;........] - ETA: 0s - loss: 1.3123 - accuracy: 0.9427 \b\b\b\b\b\b\b\b\b\b\b\b\b\b\b\b\b\b\b\b\b\b\b\b\b\b\b\b\b\b\b\b\b\b\b\b\b\b\b\b\b\b\b\b\b\b\b\b\b\b\b\b\b\b\b\b\b\b\b\b\b\b\b\b\b\b\b\b\b\b\b\b\b\b\b\b\b\b\b\b\b\b\r24/24 [==============================] - 1s 13ms/step - loss: 1.1137 - accuracy: 0.9516\nEpoch 2/100\n\r 1/24 [&gt;.............................] - ETA: 0s - loss: 0.0080 - accuracy: 1.0000\b\b\b\b\b\b\b\b\b\b\b\b\b\b\b\b\b\b\b\b\b\b\b\b\b\b\b\b\b\b\b\b\b\b\b\b\b\b\b\b\b\b\b\b\b\b\b\b\b\b\b\b\b\b\b\b\b\b\b\b\b\b\b\b\b\b\b\b\b\b\b\b\b\b\b\b\b\b\b\b\b\b\r19/24 [======================&gt;.......] - ETA: 0s - loss: 0.4298 - accuracy: 0.9441\b\b\b\b\b\b\b\b\b\b\b\b\b\b\b\b\b\b\b\b\b\b\b\b\b\b\b\b\b\b\b\b\b\b\b\b\b\b\b\b\b\b\b\b\b\b\b\b\b\b\b\b\b\b\b\b\b\b\b\b\b\b\b\b\b\b\b\b\b\b\b\b\b\b\b\b\b\b\b\b\b\b\r24/24 [==============================] - 0s 3ms/step - loss: 0.4596 - accuracy: 0.9490\nEpoch 3/100\n\r 1/24 [&gt;.............................] - ETA: 0s - loss: 0.9215 - accuracy: 0.9375\b\b\b\b\b\b\b\b\b\b\b\b\b\b\b\b\b\b\b\b\b\b\b\b\b\b\b\b\b\b\b\b\b\b\b\b\b\b\b\b\b\b\b\b\b\b\b\b\b\b\b\b\b\b\b\b\b\b\b\b\b\b\b\b\b\b\b\b\b\b\b\b\b\b\b\b\b\b\b\b\b\b\r18/24 [=====================&gt;........] - ETA: 0s - loss: 0.3403 - accuracy: 0.9549\b\b\b\b\b\b\b\b\b\b\b\b\b\b\b\b\b\b\b\b\b\b\b\b\b\b\b\b\b\b\b\b\b\b\b\b\b\b\b\b\b\b\b\b\b\b\b\b\b\b\b\b\b\b\b\b\b\b\b\b\b\b\b\b\b\b\b\b\b\b\b\b\b\b\b\b\b\b\b\b\b\b\r24/24 [==============================] - 0s 3ms/step - loss: 0.3436 - accuracy: 0.9594\nEpoch 4/100\n\r 1/24 [&gt;.............................] - ETA: 0s - loss: 0.0355 - accuracy: 1.0000\b\b\b\b\b\b\b\b\b\b\b\b\b\b\b\b\b\b\b\b\b\b\b\b\b\b\b\b\b\b\b\b\b\b\b\b\b\b\b\b\b\b\b\b\b\b\b\b\b\b\b\b\b\b\b\b\b\b\b\b\b\b\b\b\b\b\b\b\b\b\b\b\b\b\b\b\b\b\b\b\b\b\r19/24 [======================&gt;.......] - ETA: 0s - loss: 0.3056 - accuracy: 0.9589\b\b\b\b\b\b\b\b\b\b\b\b\b\b\b\b\b\b\b\b\b\b\b\b\b\b\b\b\b\b\b\b\b\b\b\b\b\b\b\b\b\b\b\b\b\b\b\b\b\b\b\b\b\b\b\b\b\b\b\b\b\b\b\b\b\b\b\b\b\b\b\b\b\b\b\b\b\b\b\b\b\b\r24/24 [==============================] - 0s 3ms/step - loss: 0.3150 - accuracy: 0.9516\nEpoch 5/100\n\r 1/24 [&gt;.............................] - ETA: 0s - loss: 0.3202 - accuracy: 0.9688\b\b\b\b\b\b\b\b\b\b\b\b\b\b\b\b\b\b\b\b\b\b\b\b\b\b\b\b\b\b\b\b\b\b\b\b\b\b\b\b\b\b\b\b\b\b\b\b\b\b\b\b\b\b\b\b\b\b\b\b\b\b\b\b\b\b\b\b\b\b\b\b\b\b\b\b\b\b\b\b\b\b\r20/24 [========================&gt;.....] - ETA: 0s - loss: 0.2811 - accuracy: 0.9672\b\b\b\b\b\b\b\b\b\b\b\b\b\b\b\b\b\b\b\b\b\b\b\b\b\b\b\b\b\b\b\b\b\b\b\b\b\b\b\b\b\b\b\b\b\b\b\b\b\b\b\b\b\b\b\b\b\b\b\b\b\b\b\b\b\b\b\b\b\b\b\b\b\b\b\b\b\b\b\b\b\b\r24/24 [==============================] - 0s 3ms/step - loss: 0.2816 - accuracy: 0.9673\nEpoch 6/100\n\r 1/24 [&gt;.............................] - ETA: 0s - loss: 0.0447 - accuracy: 1.0000\b\b\b\b\b\b\b\b\b\b\b\b\b\b\b\b\b\b\b\b\b\b\b\b\b\b\b\b\b\b\b\b\b\b\b\b\b\b\b\b\b\b\b\b\b\b\b\b\b\b\b\b\b\b\b\b\b\b\b\b\b\b\b\b\b\b\b\b\b\b\b\b\b\b\b\b\b\b\b\b\b\b\r15/24 [=================&gt;............] - ETA: 0s - loss: 0.2735 - accuracy: 0.9750\b\b\b\b\b\b\b\b\b\b\b\b\b\b\b\b\b\b\b\b\b\b\b\b\b\b\b\b\b\b\b\b\b\b\b\b\b\b\b\b\b\b\b\b\b\b\b\b\b\b\b\b\b\b\b\b\b\b\b\b\b\b\b\b\b\b\b\b\b\b\b\b\b\b\b\b\b\b\b\b\b\b\r24/24 [==============================] - 0s 4ms/step - loss: 0.2384 - accuracy: 0.9686\nEpoch 7/100\n\r 1/24 [&gt;.............................] - ETA: 0s - loss: 0.0630 - accuracy: 1.0000\b\b\b\b\b\b\b\b\b\b\b\b\b\b\b\b\b\b\b\b\b\b\b\b\b\b\b\b\b\b\b\b\b\b\b\b\b\b\b\b\b\b\b\b\b\b\b\b\b\b\b\b\b\b\b\b\b\b\b\b\b\b\b\b\b\b\b\b\b\b\b\b\b\b\b\b\b\b\b\b\b\b\r20/24 [========================&gt;.....] - ETA: 0s - loss: 0.2048 - accuracy: 0.9719\b\b\b\b\b\b\b\b\b\b\b\b\b\b\b\b\b\b\b\b\b\b\b\b\b\b\b\b\b\b\b\b\b\b\b\b\b\b\b\b\b\b\b\b\b\b\b\b\b\b\b\b\b\b\b\b\b\b\b\b\b\b\b\b\b\b\b\b\b\b\b\b\b\b\b\b\b\b\b\b\b\b\r24/24 [==============================] - 0s 3ms/step - loss: 0.2192 - accuracy: 0.9712\nEpoch 8/100\n\r 1/24 [&gt;.............................] - ETA: 0s - loss: 0.2965 - accuracy: 0.9688\b\b\b\b\b\b\b\b\b\b\b\b\b\b\b\b\b\b\b\b\b\b\b\b\b\b\b\b\b\b\b\b\b\b\b\b\b\b\b\b\b\b\b\b\b\b\b\b\b\b\b\b\b\b\b\b\b\b\b\b\b\b\b\b\b\b\b\b\b\b\b\b\b\b\b\b\b\b\b\b\b\b\r20/24 [========================&gt;.....] - ETA: 0s - loss: 0.2261 - accuracy: 0.9703\b\b\b\b\b\b\b\b\b\b\b\b\b\b\b\b\b\b\b\b\b\b\b\b\b\b\b\b\b\b\b\b\b\b\b\b\b\b\b\b\b\b\b\b\b\b\b\b\b\b\b\b\b\b\b\b\b\b\b\b\b\b\b\b\b\b\b\b\b\b\b\b\b\b\b\b\b\b\b\b\b\b\r24/24 [==============================] - 0s 3ms/step - loss: 0.2388 - accuracy: 0.9699\nEpoch 9/100\n\r 1/24 [&gt;.............................] - ETA: 0s - loss: 0.6020 - accuracy: 0.9375\b\b\b\b\b\b\b\b\b\b\b\b\b\b\b\b\b\b\b\b\b\b\b\b\b\b\b\b\b\b\b\b\b\b\b\b\b\b\b\b\b\b\b\b\b\b\b\b\b\b\b\b\b\b\b\b\b\b\b\b\b\b\b\b\b\b\b\b\b\b\b\b\b\b\b\b\b\b\b\b\b\b\r20/24 [========================&gt;.....] - ETA: 0s - loss: 0.2449 - accuracy: 0.9672\b\b\b\b\b\b\b\b\b\b\b\b\b\b\b\b\b\b\b\b\b\b\b\b\b\b\b\b\b\b\b\b\b\b\b\b\b\b\b\b\b\b\b\b\b\b\b\b\b\b\b\b\b\b\b\b\b\b\b\b\b\b\b\b\b\b\b\b\b\b\b\b\b\b\b\b\b\b\b\b\b\b\r24/24 [==============================] - 0s 3ms/step - loss: 0.2349 - accuracy: 0.9673\nEpoch 10/100\n\r 1/24 [&gt;.............................] - ETA: 0s - loss: 0.2431 - accuracy: 0.9688\b\b\b\b\b\b\b\b\b\b\b\b\b\b\b\b\b\b\b\b\b\b\b\b\b\b\b\b\b\b\b\b\b\b\b\b\b\b\b\b\b\b\b\b\b\b\b\b\b\b\b\b\b\b\b\b\b\b\b\b\b\b\b\b\b\b\b\b\b\b\b\b\b\b\b\b\b\b\b\b\b\b\r17/24 [====================&gt;.........] - ETA: 0s - loss: 0.2069 - accuracy: 0.9724\b\b\b\b\b\b\b\b\b\b\b\b\b\b\b\b\b\b\b\b\b\b\b\b\b\b\b\b\b\b\b\b\b\b\b\b\b\b\b\b\b\b\b\b\b\b\b\b\b\b\b\b\b\b\b\b\b\b\b\b\b\b\b\b\b\b\b\b\b\b\b\b\b\b\b\b\b\b\b\b\b\b\r24/24 [==============================] - 0s 3ms/step - loss: 0.2259 - accuracy: 0.9725\nEpoch 11/100\n\r 1/24 [&gt;.............................] - ETA: 0s - loss: 0.0260 - accuracy: 1.0000\b\b\b\b\b\b\b\b\b\b\b\b\b\b\b\b\b\b\b\b\b\b\b\b\b\b\b\b\b\b\b\b\b\b\b\b\b\b\b\b\b\b\b\b\b\b\b\b\b\b\b\b\b\b\b\b\b\b\b\b\b\b\b\b\b\b\b\b\b\b\b\b\b\b\b\b\b\b\b\b\b\b\r20/24 [========================&gt;.....] - ETA: 0s - loss: 0.1932 - accuracy: 0.9781\b\b\b\b\b\b\b\b\b\b\b\b\b\b\b\b\b\b\b\b\b\b\b\b\b\b\b\b\b\b\b\b\b\b\b\b\b\b\b\b\b\b\b\b\b\b\b\b\b\b\b\b\b\b\b\b\b\b\b\b\b\b\b\b\b\b\b\b\b\b\b\b\b\b\b\b\b\b\b\b\b\b\r24/24 [==============================] - 0s 3ms/step - loss: 0.2025 - accuracy: 0.9738\nEpoch 12/100\n\r 1/24 [&gt;.............................] - ETA: 0s - loss: 0.0679 - accuracy: 1.0000\b\b\b\b\b\b\b\b\b\b\b\b\b\b\b\b\b\b\b\b\b\b\b\b\b\b\b\b\b\b\b\b\b\b\b\b\b\b\b\b\b\b\b\b\b\b\b\b\b\b\b\b\b\b\b\b\b\b\b\b\b\b\b\b\b\b\b\b\b\b\b\b\b\b\b\b\b\b\b\b\b\b\r19/24 [======================&gt;.......] - ETA: 0s - loss: 0.1949 - accuracy: 0.9704\b\b\b\b\b\b\b\b\b\b\b\b\b\b\b\b\b\b\b\b\b\b\b\b\b\b\b\b\b\b\b\b\b\b\b\b\b\b\b\b\b\b\b\b\b\b\b\b\b\b\b\b\b\b\b\b\b\b\b\b\b\b\b\b\b\b\b\b\b\b\b\b\b\b\b\b\b\b\b\b\b\b\r24/24 [==============================] - 0s 3ms/step - loss: 0.1876 - accuracy: 0.9712\nEpoch 13/100\n\r 1/24 [&gt;.............................] - ETA: 0s - loss: 0.3912 - accuracy: 0.9375\b\b\b\b\b\b\b\b\b\b\b\b\b\b\b\b\b\b\b\b\b\b\b\b\b\b\b\b\b\b\b\b\b\b\b\b\b\b\b\b\b\b\b\b\b\b\b\b\b\b\b\b\b\b\b\b\b\b\b\b\b\b\b\b\b\b\b\b\b\b\b\b\b\b\b\b\b\b\b\b\b\b\r19/24 [======================&gt;.......] - ETA: 0s - loss: 0.1938 - accuracy: 0.9720\b\b\b\b\b\b\b\b\b\b\b\b\b\b\b\b\b\b\b\b\b\b\b\b\b\b\b\b\b\b\b\b\b\b\b\b\b\b\b\b\b\b\b\b\b\b\b\b\b\b\b\b\b\b\b\b\b\b\b\b\b\b\b\b\b\b\b\b\b\b\b\b\b\b\b\b\b\b\b\b\b\b\r24/24 [==============================] - 0s 3ms/step - loss: 0.1738 - accuracy: 0.9738\nEpoch 14/100\n\r 1/24 [&gt;.............................] - ETA: 0s - loss: 0.6575 - accuracy: 0.9375\b\b\b\b\b\b\b\b\b\b\b\b\b\b\b\b\b\b\b\b\b\b\b\b\b\b\b\b\b\b\b\b\b\b\b\b\b\b\b\b\b\b\b\b\b\b\b\b\b\b\b\b\b\b\b\b\b\b\b\b\b\b\b\b\b\b\b\b\b\b\b\b\b\b\b\b\b\b\b\b\b\b\r19/24 [======================&gt;.......] - ETA: 0s - loss: 0.1717 - accuracy: 0.9786\b\b\b\b\b\b\b\b\b\b\b\b\b\b\b\b\b\b\b\b\b\b\b\b\b\b\b\b\b\b\b\b\b\b\b\b\b\b\b\b\b\b\b\b\b\b\b\b\b\b\b\b\b\b\b\b\b\b\b\b\b\b\b\b\b\b\b\b\b\b\b\b\b\b\b\b\b\b\b\b\b\b\r24/24 [==============================] - 0s 3ms/step - loss: 0.1818 - accuracy: 0.9751\nEpoch 15/100\n\r 1/24 [&gt;.............................] - ETA: 0s - loss: 0.2526 - accuracy: 0.9688\b\b\b\b\b\b\b\b\b\b\b\b\b\b\b\b\b\b\b\b\b\b\b\b\b\b\b\b\b\b\b\b\b\b\b\b\b\b\b\b\b\b\b\b\b\b\b\b\b\b\b\b\b\b\b\b\b\b\b\b\b\b\b\b\b\b\b\b\b\b\b\b\b\b\b\b\b\b\b\b\b\b\r17/24 [====================&gt;.........] - ETA: 0s - loss: 0.1885 - accuracy: 0.9706\b\b\b\b\b\b\b\b\b\b\b\b\b\b\b\b\b\b\b\b\b\b\b\b\b\b\b\b\b\b\b\b\b\b\b\b\b\b\b\b\b\b\b\b\b\b\b\b\b\b\b\b\b\b\b\b\b\b\b\b\b\b\b\b\b\b\b\b\b\b\b\b\b\b\b\b\b\b\b\b\b\b\r24/24 [==============================] - 0s 3ms/step - loss: 0.1601 - accuracy: 0.9738\nEpoch 16/100\n\r 1/24 [&gt;.............................] - ETA: 0s - loss: 0.0242 - accuracy: 1.0000\b\b\b\b\b\b\b\b\b\b\b\b\b\b\b\b\b\b\b\b\b\b\b\b\b\b\b\b\b\b\b\b\b\b\b\b\b\b\b\b\b\b\b\b\b\b\b\b\b\b\b\b\b\b\b\b\b\b\b\b\b\b\b\b\b\b\b\b\b\b\b\b\b\b\b\b\b\b\b\b\b\b\r17/24 [====================&gt;.........] - ETA: 0s - loss: 0.1578 - accuracy: 0.9743\b\b\b\b\b\b\b\b\b\b\b\b\b\b\b\b\b\b\b\b\b\b\b\b\b\b\b\b\b\b\b\b\b\b\b\b\b\b\b\b\b\b\b\b\b\b\b\b\b\b\b\b\b\b\b\b\b\b\b\b\b\b\b\b\b\b\b\b\b\b\b\b\b\b\b\b\b\b\b\b\b\b\r24/24 [==============================] - 0s 3ms/step - loss: 0.1585 - accuracy: 0.9725\nEpoch 17/100\n\r 1/24 [&gt;.............................] - ETA: 0s - loss: 0.0349 - accuracy: 1.0000\b\b\b\b\b\b\b\b\b\b\b\b\b\b\b\b\b\b\b\b\b\b\b\b\b\b\b\b\b\b\b\b\b\b\b\b\b\b\b\b\b\b\b\b\b\b\b\b\b\b\b\b\b\b\b\b\b\b\b\b\b\b\b\b\b\b\b\b\b\b\b\b\b\b\b\b\b\b\b\b\b\b\r19/24 [======================&gt;.......] - ETA: 0s - loss: 0.1573 - accuracy: 0.9704\b\b\b\b\b\b\b\b\b\b\b\b\b\b\b\b\b\b\b\b\b\b\b\b\b\b\b\b\b\b\b\b\b\b\b\b\b\b\b\b\b\b\b\b\b\b\b\b\b\b\b\b\b\b\b\b\b\b\b\b\b\b\b\b\b\b\b\b\b\b\b\b\b\b\b\b\b\b\b\b\b\b\r24/24 [==============================] - 0s 3ms/step - loss: 0.1571 - accuracy: 0.9725\nEpoch 18/100\n\r 1/24 [&gt;.............................] - ETA: 0s - loss: 0.4807 - accuracy: 0.9062\b\b\b\b\b\b\b\b\b\b\b\b\b\b\b\b\b\b\b\b\b\b\b\b\b\b\b\b\b\b\b\b\b\b\b\b\b\b\b\b\b\b\b\b\b\b\b\b\b\b\b\b\b\b\b\b\b\b\b\b\b\b\b\b\b\b\b\b\b\b\b\b\b\b\b\b\b\b\b\b\b\b\r19/24 [======================&gt;.......] - ETA: 0s - loss: 0.1314 - accuracy: 0.9753\b\b\b\b\b\b\b\b\b\b\b\b\b\b\b\b\b\b\b\b\b\b\b\b\b\b\b\b\b\b\b\b\b\b\b\b\b\b\b\b\b\b\b\b\b\b\b\b\b\b\b\b\b\b\b\b\b\b\b\b\b\b\b\b\b\b\b\b\b\b\b\b\b\b\b\b\b\b\b\b\b\b\r24/24 [==============================] - 0s 3ms/step - loss: 0.1505 - accuracy: 0.9738\nEpoch 19/100\n\r 1/24 [&gt;.............................] - ETA: 0s - loss: 0.0264 - accuracy: 1.0000\b\b\b\b\b\b\b\b\b\b\b\b\b\b\b\b\b\b\b\b\b\b\b\b\b\b\b\b\b\b\b\b\b\b\b\b\b\b\b\b\b\b\b\b\b\b\b\b\b\b\b\b\b\b\b\b\b\b\b\b\b\b\b\b\b\b\b\b\b\b\b\b\b\b\b\b\b\b\b\b\b\b\r19/24 [======================&gt;.......] - ETA: 0s - loss: 0.1108 - accuracy: 0.9753\b\b\b\b\b\b\b\b\b\b\b\b\b\b\b\b\b\b\b\b\b\b\b\b\b\b\b\b\b\b\b\b\b\b\b\b\b\b\b\b\b\b\b\b\b\b\b\b\b\b\b\b\b\b\b\b\b\b\b\b\b\b\b\b\b\b\b\b\b\b\b\b\b\b\b\b\b\b\b\b\b\b\r24/24 [==============================] - 0s 3ms/step - loss: 0.1259 - accuracy: 0.9751\nEpoch 20/100\n\r 1/24 [&gt;.............................] - ETA: 0s - loss: 0.0285 - accuracy: 1.0000\b\b\b\b\b\b\b\b\b\b\b\b\b\b\b\b\b\b\b\b\b\b\b\b\b\b\b\b\b\b\b\b\b\b\b\b\b\b\b\b\b\b\b\b\b\b\b\b\b\b\b\b\b\b\b\b\b\b\b\b\b\b\b\b\b\b\b\b\b\b\b\b\b\b\b\b\b\b\b\b\b\b\r16/24 [===================&gt;..........] - ETA: 0s - loss: 0.1283 - accuracy: 0.9746\b\b\b\b\b\b\b\b\b\b\b\b\b\b\b\b\b\b\b\b\b\b\b\b\b\b\b\b\b\b\b\b\b\b\b\b\b\b\b\b\b\b\b\b\b\b\b\b\b\b\b\b\b\b\b\b\b\b\b\b\b\b\b\b\b\b\b\b\b\b\b\b\b\b\b\b\b\b\b\b\b\b\r24/24 [==============================] - 0s 3ms/step - loss: 0.1323 - accuracy: 0.9725\nEpoch 21/100\n\r 1/24 [&gt;.............................] - ETA: 0s - loss: 0.2498 - accuracy: 0.9688\b\b\b\b\b\b\b\b\b\b\b\b\b\b\b\b\b\b\b\b\b\b\b\b\b\b\b\b\b\b\b\b\b\b\b\b\b\b\b\b\b\b\b\b\b\b\b\b\b\b\b\b\b\b\b\b\b\b\b\b\b\b\b\b\b\b\b\b\b\b\b\b\b\b\b\b\b\b\b\b\b\b\r20/24 [========================&gt;.....] - ETA: 0s - loss: 0.1389 - accuracy: 0.9750\b\b\b\b\b\b\b\b\b\b\b\b\b\b\b\b\b\b\b\b\b\b\b\b\b\b\b\b\b\b\b\b\b\b\b\b\b\b\b\b\b\b\b\b\b\b\b\b\b\b\b\b\b\b\b\b\b\b\b\b\b\b\b\b\b\b\b\b\b\b\b\b\b\b\b\b\b\b\b\b\b\b\r24/24 [==============================] - 0s 3ms/step - loss: 0.1444 - accuracy: 0.9738\nEpoch 22/100\n\r 1/24 [&gt;.............................] - ETA: 0s - loss: 0.0745 - accuracy: 0.9688\b\b\b\b\b\b\b\b\b\b\b\b\b\b\b\b\b\b\b\b\b\b\b\b\b\b\b\b\b\b\b\b\b\b\b\b\b\b\b\b\b\b\b\b\b\b\b\b\b\b\b\b\b\b\b\b\b\b\b\b\b\b\b\b\b\b\b\b\b\b\b\b\b\b\b\b\b\b\b\b\b\b\r19/24 [======================&gt;.......] - ETA: 0s - loss: 0.1341 - accuracy: 0.9688\b\b\b\b\b\b\b\b\b\b\b\b\b\b\b\b\b\b\b\b\b\b\b\b\b\b\b\b\b\b\b\b\b\b\b\b\b\b\b\b\b\b\b\b\b\b\b\b\b\b\b\b\b\b\b\b\b\b\b\b\b\b\b\b\b\b\b\b\b\b\b\b\b\b\b\b\b\b\b\b\b\b\r24/24 [==============================] - 0s 3ms/step - loss: 0.1222 - accuracy: 0.9725\nEpoch 23/100\n\r 1/24 [&gt;.............................] - ETA: 0s - loss: 0.0063 - accuracy: 1.0000\b\b\b\b\b\b\b\b\b\b\b\b\b\b\b\b\b\b\b\b\b\b\b\b\b\b\b\b\b\b\b\b\b\b\b\b\b\b\b\b\b\b\b\b\b\b\b\b\b\b\b\b\b\b\b\b\b\b\b\b\b\b\b\b\b\b\b\b\b\b\b\b\b\b\b\b\b\b\b\b\b\b\r19/24 [======================&gt;.......] - ETA: 0s - loss: 0.1484 - accuracy: 0.9720\b\b\b\b\b\b\b\b\b\b\b\b\b\b\b\b\b\b\b\b\b\b\b\b\b\b\b\b\b\b\b\b\b\b\b\b\b\b\b\b\b\b\b\b\b\b\b\b\b\b\b\b\b\b\b\b\b\b\b\b\b\b\b\b\b\b\b\b\b\b\b\b\b\b\b\b\b\b\b\b\b\b\r24/24 [==============================] - 0s 3ms/step - loss: 0.1420 - accuracy: 0.9725\nEpoch 24/100\n\r 1/24 [&gt;.............................] - ETA: 0s - loss: 0.0463 - accuracy: 1.0000\b\b\b\b\b\b\b\b\b\b\b\b\b\b\b\b\b\b\b\b\b\b\b\b\b\b\b\b\b\b\b\b\b\b\b\b\b\b\b\b\b\b\b\b\b\b\b\b\b\b\b\b\b\b\b\b\b\b\b\b\b\b\b\b\b\b\b\b\b\b\b\b\b\b\b\b\b\b\b\b\b\b\r20/24 [========================&gt;.....] - ETA: 0s - loss: 0.1061 - accuracy: 0.9750\b\b\b\b\b\b\b\b\b\b\b\b\b\b\b\b\b\b\b\b\b\b\b\b\b\b\b\b\b\b\b\b\b\b\b\b\b\b\b\b\b\b\b\b\b\b\b\b\b\b\b\b\b\b\b\b\b\b\b\b\b\b\b\b\b\b\b\b\b\b\b\b\b\b\b\b\b\b\b\b\b\b\r24/24 [==============================] - 0s 3ms/step - loss: 0.1205 - accuracy: 0.9725\nEpoch 25/100\n\r 1/24 [&gt;.............................] - ETA: 0s - loss: 0.1004 - accuracy: 0.9688\b\b\b\b\b\b\b\b\b\b\b\b\b\b\b\b\b\b\b\b\b\b\b\b\b\b\b\b\b\b\b\b\b\b\b\b\b\b\b\b\b\b\b\b\b\b\b\b\b\b\b\b\b\b\b\b\b\b\b\b\b\b\b\b\b\b\b\b\b\b\b\b\b\b\b\b\b\b\b\b\b\b\r21/24 [=========================&gt;....] - ETA: 0s - loss: 0.1173 - accuracy: 0.9762\b\b\b\b\b\b\b\b\b\b\b\b\b\b\b\b\b\b\b\b\b\b\b\b\b\b\b\b\b\b\b\b\b\b\b\b\b\b\b\b\b\b\b\b\b\b\b\b\b\b\b\b\b\b\b\b\b\b\b\b\b\b\b\b\b\b\b\b\b\b\b\b\b\b\b\b\b\b\b\b\b\b\r24/24 [==============================] - 0s 3ms/step - loss: 0.1251 - accuracy: 0.9738\nEpoch 26/100\n\r 1/24 [&gt;.............................] - ETA: 0s - loss: 0.0446 - accuracy: 1.0000\b\b\b\b\b\b\b\b\b\b\b\b\b\b\b\b\b\b\b\b\b\b\b\b\b\b\b\b\b\b\b\b\b\b\b\b\b\b\b\b\b\b\b\b\b\b\b\b\b\b\b\b\b\b\b\b\b\b\b\b\b\b\b\b\b\b\b\b\b\b\b\b\b\b\b\b\b\b\b\b\b\b\r21/24 [=========================&gt;....] - ETA: 0s - loss: 0.1065 - accuracy: 0.9747\b\b\b\b\b\b\b\b\b\b\b\b\b\b\b\b\b\b\b\b\b\b\b\b\b\b\b\b\b\b\b\b\b\b\b\b\b\b\b\b\b\b\b\b\b\b\b\b\b\b\b\b\b\b\b\b\b\b\b\b\b\b\b\b\b\b\b\b\b\b\b\b\b\b\b\b\b\b\b\b\b\b\r24/24 [==============================] - 0s 3ms/step - loss: 0.1080 - accuracy: 0.9751\nEpoch 27/100\n\r 1/24 [&gt;.............................] - ETA: 0s - loss: 0.0039 - accuracy: 1.0000\b\b\b\b\b\b\b\b\b\b\b\b\b\b\b\b\b\b\b\b\b\b\b\b\b\b\b\b\b\b\b\b\b\b\b\b\b\b\b\b\b\b\b\b\b\b\b\b\b\b\b\b\b\b\b\b\b\b\b\b\b\b\b\b\b\b\b\b\b\b\b\b\b\b\b\b\b\b\b\b\b\b\r17/24 [====================&gt;.........] - ETA: 0s - loss: 0.1451 - accuracy: 0.9688\b\b\b\b\b\b\b\b\b\b\b\b\b\b\b\b\b\b\b\b\b\b\b\b\b\b\b\b\b\b\b\b\b\b\b\b\b\b\b\b\b\b\b\b\b\b\b\b\b\b\b\b\b\b\b\b\b\b\b\b\b\b\b\b\b\b\b\b\b\b\b\b\b\b\b\b\b\b\b\b\b\b\r24/24 [==============================] - 0s 3ms/step - loss: 0.1254 - accuracy: 0.9725\nEpoch 28/100\n\r 1/24 [&gt;.............................] - ETA: 0s - loss: 0.2463 - accuracy: 0.9062\b\b\b\b\b\b\b\b\b\b\b\b\b\b\b\b\b\b\b\b\b\b\b\b\b\b\b\b\b\b\b\b\b\b\b\b\b\b\b\b\b\b\b\b\b\b\b\b\b\b\b\b\b\b\b\b\b\b\b\b\b\b\b\b\b\b\b\b\b\b\b\b\b\b\b\b\b\b\b\b\b\b\r20/24 [========================&gt;.....] - ETA: 0s - loss: 0.1103 - accuracy: 0.9734\b\b\b\b\b\b\b\b\b\b\b\b\b\b\b\b\b\b\b\b\b\b\b\b\b\b\b\b\b\b\b\b\b\b\b\b\b\b\b\b\b\b\b\b\b\b\b\b\b\b\b\b\b\b\b\b\b\b\b\b\b\b\b\b\b\b\b\b\b\b\b\b\b\b\b\b\b\b\b\b\b\b\r24/24 [==============================] - 0s 3ms/step - loss: 0.1071 - accuracy: 0.9751\nEpoch 29/100\n\r 1/24 [&gt;.............................] - ETA: 0s - loss: 0.0455 - accuracy: 1.0000\b\b\b\b\b\b\b\b\b\b\b\b\b\b\b\b\b\b\b\b\b\b\b\b\b\b\b\b\b\b\b\b\b\b\b\b\b\b\b\b\b\b\b\b\b\b\b\b\b\b\b\b\b\b\b\b\b\b\b\b\b\b\b\b\b\b\b\b\b\b\b\b\b\b\b\b\b\b\b\b\b\b\r20/24 [========================&gt;.....] - ETA: 0s - loss: 0.1238 - accuracy: 0.9750\b\b\b\b\b\b\b\b\b\b\b\b\b\b\b\b\b\b\b\b\b\b\b\b\b\b\b\b\b\b\b\b\b\b\b\b\b\b\b\b\b\b\b\b\b\b\b\b\b\b\b\b\b\b\b\b\b\b\b\b\b\b\b\b\b\b\b\b\b\b\b\b\b\b\b\b\b\b\b\b\b\b\r24/24 [==============================] - 0s 15ms/step - loss: 0.1288 - accuracy: 0.9738\nEpoch 30/100\n\r 1/24 [&gt;.............................] - ETA: 0s - loss: 0.1518 - accuracy: 0.9688\b\b\b\b\b\b\b\b\b\b\b\b\b\b\b\b\b\b\b\b\b\b\b\b\b\b\b\b\b\b\b\b\b\b\b\b\b\b\b\b\b\b\b\b\b\b\b\b\b\b\b\b\b\b\b\b\b\b\b\b\b\b\b\b\b\b\b\b\b\b\b\b\b\b\b\b\b\b\b\b\b\b\r17/24 [====================&gt;.........] - ETA: 0s - loss: 0.1123 - accuracy: 0.9743\b\b\b\b\b\b\b\b\b\b\b\b\b\b\b\b\b\b\b\b\b\b\b\b\b\b\b\b\b\b\b\b\b\b\b\b\b\b\b\b\b\b\b\b\b\b\b\b\b\b\b\b\b\b\b\b\b\b\b\b\b\b\b\b\b\b\b\b\b\b\b\b\b\b\b\b\b\b\b\b\b\b\r24/24 [==============================] - 0s 3ms/step - loss: 0.1147 - accuracy: 0.9764\nEpoch 31/100\n\r 1/24 [&gt;.............................] - ETA: 0s - loss: 0.0159 - accuracy: 1.0000\b\b\b\b\b\b\b\b\b\b\b\b\b\b\b\b\b\b\b\b\b\b\b\b\b\b\b\b\b\b\b\b\b\b\b\b\b\b\b\b\b\b\b\b\b\b\b\b\b\b\b\b\b\b\b\b\b\b\b\b\b\b\b\b\b\b\b\b\b\b\b\b\b\b\b\b\b\b\b\b\b\b\r19/24 [======================&gt;.......] - ETA: 0s - loss: 0.1293 - accuracy: 0.9704\b\b\b\b\b\b\b\b\b\b\b\b\b\b\b\b\b\b\b\b\b\b\b\b\b\b\b\b\b\b\b\b\b\b\b\b\b\b\b\b\b\b\b\b\b\b\b\b\b\b\b\b\b\b\b\b\b\b\b\b\b\b\b\b\b\b\b\b\b\b\b\b\b\b\b\b\b\b\b\b\b\b\r24/24 [==============================] - 0s 3ms/step - loss: 0.1158 - accuracy: 0.9738\nEpoch 32/100\n\r 1/24 [&gt;.............................] - ETA: 0s - loss: 0.0163 - accuracy: 1.0000\b\b\b\b\b\b\b\b\b\b\b\b\b\b\b\b\b\b\b\b\b\b\b\b\b\b\b\b\b\b\b\b\b\b\b\b\b\b\b\b\b\b\b\b\b\b\b\b\b\b\b\b\b\b\b\b\b\b\b\b\b\b\b\b\b\b\b\b\b\b\b\b\b\b\b\b\b\b\b\b\b\b\r16/24 [===================&gt;..........] - ETA: 0s - loss: 0.1107 - accuracy: 0.9766\b\b\b\b\b\b\b\b\b\b\b\b\b\b\b\b\b\b\b\b\b\b\b\b\b\b\b\b\b\b\b\b\b\b\b\b\b\b\b\b\b\b\b\b\b\b\b\b\b\b\b\b\b\b\b\b\b\b\b\b\b\b\b\b\b\b\b\b\b\b\b\b\b\b\b\b\b\b\b\b\b\b\r24/24 [==============================] - 0s 3ms/step - loss: 0.1056 - accuracy: 0.9751\nEpoch 33/100\n\r 1/24 [&gt;.............................] - ETA: 0s - loss: 0.0194 - accuracy: 1.0000\b\b\b\b\b\b\b\b\b\b\b\b\b\b\b\b\b\b\b\b\b\b\b\b\b\b\b\b\b\b\b\b\b\b\b\b\b\b\b\b\b\b\b\b\b\b\b\b\b\b\b\b\b\b\b\b\b\b\b\b\b\b\b\b\b\b\b\b\b\b\b\b\b\b\b\b\b\b\b\b\b\b\r20/24 [========================&gt;.....] - ETA: 0s - loss: 0.0853 - accuracy: 0.9812\b\b\b\b\b\b\b\b\b\b\b\b\b\b\b\b\b\b\b\b\b\b\b\b\b\b\b\b\b\b\b\b\b\b\b\b\b\b\b\b\b\b\b\b\b\b\b\b\b\b\b\b\b\b\b\b\b\b\b\b\b\b\b\b\b\b\b\b\b\b\b\b\b\b\b\b\b\b\b\b\b\b\r24/24 [==============================] - 0s 3ms/step - loss: 0.0963 - accuracy: 0.9751\nEpoch 34/100\n\r 1/24 [&gt;.............................] - ETA: 0s - loss: 0.0554 - accuracy: 1.0000\b\b\b\b\b\b\b\b\b\b\b\b\b\b\b\b\b\b\b\b\b\b\b\b\b\b\b\b\b\b\b\b\b\b\b\b\b\b\b\b\b\b\b\b\b\b\b\b\b\b\b\b\b\b\b\b\b\b\b\b\b\b\b\b\b\b\b\b\b\b\b\b\b\b\b\b\b\b\b\b\b\b\r21/24 [=========================&gt;....] - ETA: 0s - loss: 0.0886 - accuracy: 0.9792\b\b\b\b\b\b\b\b\b\b\b\b\b\b\b\b\b\b\b\b\b\b\b\b\b\b\b\b\b\b\b\b\b\b\b\b\b\b\b\b\b\b\b\b\b\b\b\b\b\b\b\b\b\b\b\b\b\b\b\b\b\b\b\b\b\b\b\b\b\b\b\b\b\b\b\b\b\b\b\b\b\b\r24/24 [==============================] - 0s 3ms/step - loss: 0.1002 - accuracy: 0.9777\nEpoch 35/100\n\r 1/24 [&gt;.............................] - ETA: 0s - loss: 0.0090 - accuracy: 1.0000\b\b\b\b\b\b\b\b\b\b\b\b\b\b\b\b\b\b\b\b\b\b\b\b\b\b\b\b\b\b\b\b\b\b\b\b\b\b\b\b\b\b\b\b\b\b\b\b\b\b\b\b\b\b\b\b\b\b\b\b\b\b\b\b\b\b\b\b\b\b\b\b\b\b\b\b\b\b\b\b\b\b\r20/24 [========================&gt;.....] - ETA: 0s - loss: 0.1141 - accuracy: 0.9750\b\b\b\b\b\b\b\b\b\b\b\b\b\b\b\b\b\b\b\b\b\b\b\b\b\b\b\b\b\b\b\b\b\b\b\b\b\b\b\b\b\b\b\b\b\b\b\b\b\b\b\b\b\b\b\b\b\b\b\b\b\b\b\b\b\b\b\b\b\b\b\b\b\b\b\b\b\b\b\b\b\b\r24/24 [==============================] - 0s 3ms/step - loss: 0.1151 - accuracy: 0.9725\nEpoch 36/100\n\r 1/24 [&gt;.............................] - ETA: 0s - loss: 0.0239 - accuracy: 1.0000\b\b\b\b\b\b\b\b\b\b\b\b\b\b\b\b\b\b\b\b\b\b\b\b\b\b\b\b\b\b\b\b\b\b\b\b\b\b\b\b\b\b\b\b\b\b\b\b\b\b\b\b\b\b\b\b\b\b\b\b\b\b\b\b\b\b\b\b\b\b\b\b\b\b\b\b\b\b\b\b\b\b\r20/24 [========================&gt;.....] - ETA: 0s - loss: 0.0910 - accuracy: 0.9734\b\b\b\b\b\b\b\b\b\b\b\b\b\b\b\b\b\b\b\b\b\b\b\b\b\b\b\b\b\b\b\b\b\b\b\b\b\b\b\b\b\b\b\b\b\b\b\b\b\b\b\b\b\b\b\b\b\b\b\b\b\b\b\b\b\b\b\b\b\b\b\b\b\b\b\b\b\b\b\b\b\b\r24/24 [==============================] - 0s 3ms/step - loss: 0.0884 - accuracy: 0.9738\nEpoch 37/100\n\r 1/24 [&gt;.............................] - ETA: 0s - loss: 0.0243 - accuracy: 1.0000\b\b\b\b\b\b\b\b\b\b\b\b\b\b\b\b\b\b\b\b\b\b\b\b\b\b\b\b\b\b\b\b\b\b\b\b\b\b\b\b\b\b\b\b\b\b\b\b\b\b\b\b\b\b\b\b\b\b\b\b\b\b\b\b\b\b\b\b\b\b\b\b\b\b\b\b\b\b\b\b\b\b\r20/24 [========================&gt;.....] - ETA: 0s - loss: 0.0783 - accuracy: 0.9781\b\b\b\b\b\b\b\b\b\b\b\b\b\b\b\b\b\b\b\b\b\b\b\b\b\b\b\b\b\b\b\b\b\b\b\b\b\b\b\b\b\b\b\b\b\b\b\b\b\b\b\b\b\b\b\b\b\b\b\b\b\b\b\b\b\b\b\b\b\b\b\b\b\b\b\b\b\b\b\b\b\b\r24/24 [==============================] - 0s 4ms/step - loss: 0.0828 - accuracy: 0.9764\nEpoch 38/100\n\r 1/24 [&gt;.............................] - ETA: 0s - loss: 0.0510 - accuracy: 0.9688\b\b\b\b\b\b\b\b\b\b\b\b\b\b\b\b\b\b\b\b\b\b\b\b\b\b\b\b\b\b\b\b\b\b\b\b\b\b\b\b\b\b\b\b\b\b\b\b\b\b\b\b\b\b\b\b\b\b\b\b\b\b\b\b\b\b\b\b\b\b\b\b\b\b\b\b\b\b\b\b\b\b\r17/24 [====================&gt;.........] - ETA: 0s - loss: 0.0854 - accuracy: 0.9761\b\b\b\b\b\b\b\b\b\b\b\b\b\b\b\b\b\b\b\b\b\b\b\b\b\b\b\b\b\b\b\b\b\b\b\b\b\b\b\b\b\b\b\b\b\b\b\b\b\b\b\b\b\b\b\b\b\b\b\b\b\b\b\b\b\b\b\b\b\b\b\b\b\b\b\b\b\b\b\b\b\b\r24/24 [==============================] - 0s 3ms/step - loss: 0.0910 - accuracy: 0.9751\nEpoch 39/100\n\r 1/24 [&gt;.............................] - ETA: 0s - loss: 0.2594 - accuracy: 0.9375\b\b\b\b\b\b\b\b\b\b\b\b\b\b\b\b\b\b\b\b\b\b\b\b\b\b\b\b\b\b\b\b\b\b\b\b\b\b\b\b\b\b\b\b\b\b\b\b\b\b\b\b\b\b\b\b\b\b\b\b\b\b\b\b\b\b\b\b\b\b\b\b\b\b\b\b\b\b\b\b\b\b\r18/24 [=====================&gt;........] - ETA: 0s - loss: 0.1048 - accuracy: 0.9740\b\b\b\b\b\b\b\b\b\b\b\b\b\b\b\b\b\b\b\b\b\b\b\b\b\b\b\b\b\b\b\b\b\b\b\b\b\b\b\b\b\b\b\b\b\b\b\b\b\b\b\b\b\b\b\b\b\b\b\b\b\b\b\b\b\b\b\b\b\b\b\b\b\b\b\b\b\b\b\b\b\b\r24/24 [==============================] - 0s 3ms/step - loss: 0.0953 - accuracy: 0.9777\nEpoch 40/100\n\r 1/24 [&gt;.............................] - ETA: 0s - loss: 0.1747 - accuracy: 0.9375\b\b\b\b\b\b\b\b\b\b\b\b\b\b\b\b\b\b\b\b\b\b\b\b\b\b\b\b\b\b\b\b\b\b\b\b\b\b\b\b\b\b\b\b\b\b\b\b\b\b\b\b\b\b\b\b\b\b\b\b\b\b\b\b\b\b\b\b\b\b\b\b\b\b\b\b\b\b\b\b\b\b\r20/24 [========================&gt;.....] - ETA: 0s - loss: 0.0927 - accuracy: 0.9734\b\b\b\b\b\b\b\b\b\b\b\b\b\b\b\b\b\b\b\b\b\b\b\b\b\b\b\b\b\b\b\b\b\b\b\b\b\b\b\b\b\b\b\b\b\b\b\b\b\b\b\b\b\b\b\b\b\b\b\b\b\b\b\b\b\b\b\b\b\b\b\b\b\b\b\b\b\b\b\b\b\b\r24/24 [==============================] - 0s 3ms/step - loss: 0.0991 - accuracy: 0.9738\nEpoch 41/100\n\r 1/24 [&gt;.............................] - ETA: 0s - loss: 0.0763 - accuracy: 0.9688\b\b\b\b\b\b\b\b\b\b\b\b\b\b\b\b\b\b\b\b\b\b\b\b\b\b\b\b\b\b\b\b\b\b\b\b\b\b\b\b\b\b\b\b\b\b\b\b\b\b\b\b\b\b\b\b\b\b\b\b\b\b\b\b\b\b\b\b\b\b\b\b\b\b\b\b\b\b\b\b\b\b\r20/24 [========================&gt;.....] - ETA: 0s - loss: 0.1087 - accuracy: 0.9703\b\b\b\b\b\b\b\b\b\b\b\b\b\b\b\b\b\b\b\b\b\b\b\b\b\b\b\b\b\b\b\b\b\b\b\b\b\b\b\b\b\b\b\b\b\b\b\b\b\b\b\b\b\b\b\b\b\b\b\b\b\b\b\b\b\b\b\b\b\b\b\b\b\b\b\b\b\b\b\b\b\b\r24/24 [==============================] - 0s 3ms/step - loss: 0.0966 - accuracy: 0.9738\nEpoch 42/100\n\r 1/24 [&gt;.............................] - ETA: 0s - loss: 0.1520 - accuracy: 0.9688\b\b\b\b\b\b\b\b\b\b\b\b\b\b\b\b\b\b\b\b\b\b\b\b\b\b\b\b\b\b\b\b\b\b\b\b\b\b\b\b\b\b\b\b\b\b\b\b\b\b\b\b\b\b\b\b\b\b\b\b\b\b\b\b\b\b\b\b\b\b\b\b\b\b\b\b\b\b\b\b\b\b\r18/24 [=====================&gt;........] - ETA: 0s - loss: 0.0893 - accuracy: 0.9757\b\b\b\b\b\b\b\b\b\b\b\b\b\b\b\b\b\b\b\b\b\b\b\b\b\b\b\b\b\b\b\b\b\b\b\b\b\b\b\b\b\b\b\b\b\b\b\b\b\b\b\b\b\b\b\b\b\b\b\b\b\b\b\b\b\b\b\b\b\b\b\b\b\b\b\b\b\b\b\b\b\b\r24/24 [==============================] - 0s 3ms/step - loss: 0.0868 - accuracy: 0.9751\nEpoch 43/100\n\r 1/24 [&gt;.............................] - ETA: 0s - loss: 0.2531 - accuracy: 0.9062\b\b\b\b\b\b\b\b\b\b\b\b\b\b\b\b\b\b\b\b\b\b\b\b\b\b\b\b\b\b\b\b\b\b\b\b\b\b\b\b\b\b\b\b\b\b\b\b\b\b\b\b\b\b\b\b\b\b\b\b\b\b\b\b\b\b\b\b\b\b\b\b\b\b\b\b\b\b\b\b\b\b\r19/24 [======================&gt;.......] - ETA: 0s - loss: 0.0967 - accuracy: 0.9737\b\b\b\b\b\b\b\b\b\b\b\b\b\b\b\b\b\b\b\b\b\b\b\b\b\b\b\b\b\b\b\b\b\b\b\b\b\b\b\b\b\b\b\b\b\b\b\b\b\b\b\b\b\b\b\b\b\b\b\b\b\b\b\b\b\b\b\b\b\b\b\b\b\b\b\b\b\b\b\b\b\b\r24/24 [==============================] - 0s 3ms/step - loss: 0.0905 - accuracy: 0.9751\nEpoch 44/100\n\r 1/24 [&gt;.............................] - ETA: 0s - loss: 0.2015 - accuracy: 0.9688\b\b\b\b\b\b\b\b\b\b\b\b\b\b\b\b\b\b\b\b\b\b\b\b\b\b\b\b\b\b\b\b\b\b\b\b\b\b\b\b\b\b\b\b\b\b\b\b\b\b\b\b\b\b\b\b\b\b\b\b\b\b\b\b\b\b\b\b\b\b\b\b\b\b\b\b\b\b\b\b\b\b\r16/24 [===================&gt;..........] - ETA: 0s - loss: 0.1218 - accuracy: 0.9688\b\b\b\b\b\b\b\b\b\b\b\b\b\b\b\b\b\b\b\b\b\b\b\b\b\b\b\b\b\b\b\b\b\b\b\b\b\b\b\b\b\b\b\b\b\b\b\b\b\b\b\b\b\b\b\b\b\b\b\b\b\b\b\b\b\b\b\b\b\b\b\b\b\b\b\b\b\b\b\b\b\b\r24/24 [==============================] - 0s 4ms/step - loss: 0.1088 - accuracy: 0.9738\nEpoch 45/100\n\r 1/24 [&gt;.............................] - ETA: 0s - loss: 0.0325 - accuracy: 1.0000\b\b\b\b\b\b\b\b\b\b\b\b\b\b\b\b\b\b\b\b\b\b\b\b\b\b\b\b\b\b\b\b\b\b\b\b\b\b\b\b\b\b\b\b\b\b\b\b\b\b\b\b\b\b\b\b\b\b\b\b\b\b\b\b\b\b\b\b\b\b\b\b\b\b\b\b\b\b\b\b\b\b\r12/24 [==============&gt;...............] - ETA: 0s - loss: 0.1034 - accuracy: 0.9740\b\b\b\b\b\b\b\b\b\b\b\b\b\b\b\b\b\b\b\b\b\b\b\b\b\b\b\b\b\b\b\b\b\b\b\b\b\b\b\b\b\b\b\b\b\b\b\b\b\b\b\b\b\b\b\b\b\b\b\b\b\b\b\b\b\b\b\b\b\b\b\b\b\b\b\b\b\b\b\b\b\b\r24/24 [==============================] - 0s 4ms/step - loss: 0.0911 - accuracy: 0.9764\nEpoch 46/100\n\r 1/24 [&gt;.............................] - ETA: 0s - loss: 0.1402 - accuracy: 0.9375\b\b\b\b\b\b\b\b\b\b\b\b\b\b\b\b\b\b\b\b\b\b\b\b\b\b\b\b\b\b\b\b\b\b\b\b\b\b\b\b\b\b\b\b\b\b\b\b\b\b\b\b\b\b\b\b\b\b\b\b\b\b\b\b\b\b\b\b\b\b\b\b\b\b\b\b\b\b\b\b\b\b\r14/24 [================&gt;.............] - ETA: 0s - loss: 0.0649 - accuracy: 0.9844\b\b\b\b\b\b\b\b\b\b\b\b\b\b\b\b\b\b\b\b\b\b\b\b\b\b\b\b\b\b\b\b\b\b\b\b\b\b\b\b\b\b\b\b\b\b\b\b\b\b\b\b\b\b\b\b\b\b\b\b\b\b\b\b\b\b\b\b\b\b\b\b\b\b\b\b\b\b\b\b\b\b\r24/24 [==============================] - 0s 4ms/step - loss: 0.0928 - accuracy: 0.9738\nEpoch 47/100\n\r 1/24 [&gt;.............................] - ETA: 0s - loss: 0.0280 - accuracy: 1.0000\b\b\b\b\b\b\b\b\b\b\b\b\b\b\b\b\b\b\b\b\b\b\b\b\b\b\b\b\b\b\b\b\b\b\b\b\b\b\b\b\b\b\b\b\b\b\b\b\b\b\b\b\b\b\b\b\b\b\b\b\b\b\b\b\b\b\b\b\b\b\b\b\b\b\b\b\b\b\b\b\b\b\r14/24 [================&gt;.............] - ETA: 0s - loss: 0.0717 - accuracy: 0.9777\b\b\b\b\b\b\b\b\b\b\b\b\b\b\b\b\b\b\b\b\b\b\b\b\b\b\b\b\b\b\b\b\b\b\b\b\b\b\b\b\b\b\b\b\b\b\b\b\b\b\b\b\b\b\b\b\b\b\b\b\b\b\b\b\b\b\b\b\b\b\b\b\b\b\b\b\b\b\b\b\b\b\r24/24 [==============================] - 0s 4ms/step - loss: 0.0869 - accuracy: 0.9738\nEpoch 48/100\n\r 1/24 [&gt;.............................] - ETA: 0s - loss: 0.1392 - accuracy: 0.9062\b\b\b\b\b\b\b\b\b\b\b\b\b\b\b\b\b\b\b\b\b\b\b\b\b\b\b\b\b\b\b\b\b\b\b\b\b\b\b\b\b\b\b\b\b\b\b\b\b\b\b\b\b\b\b\b\b\b\b\b\b\b\b\b\b\b\b\b\b\b\b\b\b\b\b\b\b\b\b\b\b\b\r15/24 [=================&gt;............] - ETA: 0s - loss: 0.0784 - accuracy: 0.9708\b\b\b\b\b\b\b\b\b\b\b\b\b\b\b\b\b\b\b\b\b\b\b\b\b\b\b\b\b\b\b\b\b\b\b\b\b\b\b\b\b\b\b\b\b\b\b\b\b\b\b\b\b\b\b\b\b\b\b\b\b\b\b\b\b\b\b\b\b\b\b\b\b\b\b\b\b\b\b\b\b\b\r24/24 [==============================] - 0s 4ms/step - loss: 0.0735 - accuracy: 0.9738\nEpoch 49/100\n\r 1/24 [&gt;.............................] - ETA: 0s - loss: 0.0071 - accuracy: 1.0000\b\b\b\b\b\b\b\b\b\b\b\b\b\b\b\b\b\b\b\b\b\b\b\b\b\b\b\b\b\b\b\b\b\b\b\b\b\b\b\b\b\b\b\b\b\b\b\b\b\b\b\b\b\b\b\b\b\b\b\b\b\b\b\b\b\b\b\b\b\b\b\b\b\b\b\b\b\b\b\b\b\b\r15/24 [=================&gt;............] - ETA: 0s - loss: 0.0918 - accuracy: 0.9750\b\b\b\b\b\b\b\b\b\b\b\b\b\b\b\b\b\b\b\b\b\b\b\b\b\b\b\b\b\b\b\b\b\b\b\b\b\b\b\b\b\b\b\b\b\b\b\b\b\b\b\b\b\b\b\b\b\b\b\b\b\b\b\b\b\b\b\b\b\b\b\b\b\b\b\b\b\b\b\b\b\b\r24/24 [==============================] - 0s 3ms/step - loss: 0.0859 - accuracy: 0.9751\nEpoch 50/100\n\r 1/24 [&gt;.............................] - ETA: 0s - loss: 0.1797 - accuracy: 0.9375\b\b\b\b\b\b\b\b\b\b\b\b\b\b\b\b\b\b\b\b\b\b\b\b\b\b\b\b\b\b\b\b\b\b\b\b\b\b\b\b\b\b\b\b\b\b\b\b\b\b\b\b\b\b\b\b\b\b\b\b\b\b\b\b\b\b\b\b\b\b\b\b\b\b\b\b\b\b\b\b\b\b\r21/24 [=========================&gt;....] - ETA: 0s - loss: 0.0977 - accuracy: 0.9732\b\b\b\b\b\b\b\b\b\b\b\b\b\b\b\b\b\b\b\b\b\b\b\b\b\b\b\b\b\b\b\b\b\b\b\b\b\b\b\b\b\b\b\b\b\b\b\b\b\b\b\b\b\b\b\b\b\b\b\b\b\b\b\b\b\b\b\b\b\b\b\b\b\b\b\b\b\b\b\b\b\b\r24/24 [==============================] - 0s 3ms/step - loss: 0.0951 - accuracy: 0.9738\nEpoch 51/100\n\r 1/24 [&gt;.............................] - ETA: 0s - loss: 0.0912 - accuracy: 0.9688\b\b\b\b\b\b\b\b\b\b\b\b\b\b\b\b\b\b\b\b\b\b\b\b\b\b\b\b\b\b\b\b\b\b\b\b\b\b\b\b\b\b\b\b\b\b\b\b\b\b\b\b\b\b\b\b\b\b\b\b\b\b\b\b\b\b\b\b\b\b\b\b\b\b\b\b\b\b\b\b\b\b\r20/24 [========================&gt;.....] - ETA: 0s - loss: 0.1044 - accuracy: 0.9734\b\b\b\b\b\b\b\b\b\b\b\b\b\b\b\b\b\b\b\b\b\b\b\b\b\b\b\b\b\b\b\b\b\b\b\b\b\b\b\b\b\b\b\b\b\b\b\b\b\b\b\b\b\b\b\b\b\b\b\b\b\b\b\b\b\b\b\b\b\b\b\b\b\b\b\b\b\b\b\b\b\b\r24/24 [==============================] - 0s 3ms/step - loss: 0.0961 - accuracy: 0.9751\nEpoch 52/100\n\r 1/24 [&gt;.............................] - ETA: 0s - loss: 0.1236 - accuracy: 0.9375\b\b\b\b\b\b\b\b\b\b\b\b\b\b\b\b\b\b\b\b\b\b\b\b\b\b\b\b\b\b\b\b\b\b\b\b\b\b\b\b\b\b\b\b\b\b\b\b\b\b\b\b\b\b\b\b\b\b\b\b\b\b\b\b\b\b\b\b\b\b\b\b\b\b\b\b\b\b\b\b\b\b\r19/24 [======================&gt;.......] - ETA: 0s - loss: 0.0841 - accuracy: 0.9737\b\b\b\b\b\b\b\b\b\b\b\b\b\b\b\b\b\b\b\b\b\b\b\b\b\b\b\b\b\b\b\b\b\b\b\b\b\b\b\b\b\b\b\b\b\b\b\b\b\b\b\b\b\b\b\b\b\b\b\b\b\b\b\b\b\b\b\b\b\b\b\b\b\b\b\b\b\b\b\b\b\b\r24/24 [==============================] - 0s 3ms/step - loss: 0.0861 - accuracy: 0.9738\nEpoch 53/100\n\r 1/24 [&gt;.............................] - ETA: 0s - loss: 0.0877 - accuracy: 0.9688\b\b\b\b\b\b\b\b\b\b\b\b\b\b\b\b\b\b\b\b\b\b\b\b\b\b\b\b\b\b\b\b\b\b\b\b\b\b\b\b\b\b\b\b\b\b\b\b\b\b\b\b\b\b\b\b\b\b\b\b\b\b\b\b\b\b\b\b\b\b\b\b\b\b\b\b\b\b\b\b\b\b\r20/24 [========================&gt;.....] - ETA: 0s - loss: 0.0842 - accuracy: 0.9750\b\b\b\b\b\b\b\b\b\b\b\b\b\b\b\b\b\b\b\b\b\b\b\b\b\b\b\b\b\b\b\b\b\b\b\b\b\b\b\b\b\b\b\b\b\b\b\b\b\b\b\b\b\b\b\b\b\b\b\b\b\b\b\b\b\b\b\b\b\b\b\b\b\b\b\b\b\b\b\b\b\b\r24/24 [==============================] - 0s 3ms/step - loss: 0.0810 - accuracy: 0.9751\nEpoch 54/100\n\r 1/24 [&gt;.............................] - ETA: 0s - loss: 0.1517 - accuracy: 0.9375\b\b\b\b\b\b\b\b\b\b\b\b\b\b\b\b\b\b\b\b\b\b\b\b\b\b\b\b\b\b\b\b\b\b\b\b\b\b\b\b\b\b\b\b\b\b\b\b\b\b\b\b\b\b\b\b\b\b\b\b\b\b\b\b\b\b\b\b\b\b\b\b\b\b\b\b\b\b\b\b\b\b\r20/24 [========================&gt;.....] - ETA: 0s - loss: 0.0918 - accuracy: 0.9734\b\b\b\b\b\b\b\b\b\b\b\b\b\b\b\b\b\b\b\b\b\b\b\b\b\b\b\b\b\b\b\b\b\b\b\b\b\b\b\b\b\b\b\b\b\b\b\b\b\b\b\b\b\b\b\b\b\b\b\b\b\b\b\b\b\b\b\b\b\b\b\b\b\b\b\b\b\b\b\b\b\b\r24/24 [==============================] - 0s 3ms/step - loss: 0.0860 - accuracy: 0.9751\nEpoch 55/100\n\r 1/24 [&gt;.............................] - ETA: 0s - loss: 0.1111 - accuracy: 0.9688\b\b\b\b\b\b\b\b\b\b\b\b\b\b\b\b\b\b\b\b\b\b\b\b\b\b\b\b\b\b\b\b\b\b\b\b\b\b\b\b\b\b\b\b\b\b\b\b\b\b\b\b\b\b\b\b\b\b\b\b\b\b\b\b\b\b\b\b\b\b\b\b\b\b\b\b\b\b\b\b\b\b\r20/24 [========================&gt;.....] - ETA: 0s - loss: 0.0688 - accuracy: 0.9781\b\b\b\b\b\b\b\b\b\b\b\b\b\b\b\b\b\b\b\b\b\b\b\b\b\b\b\b\b\b\b\b\b\b\b\b\b\b\b\b\b\b\b\b\b\b\b\b\b\b\b\b\b\b\b\b\b\b\b\b\b\b\b\b\b\b\b\b\b\b\b\b\b\b\b\b\b\b\b\b\b\b\r24/24 [==============================] - 0s 3ms/step - loss: 0.0805 - accuracy: 0.9751\nEpoch 56/100\n\r 1/24 [&gt;.............................] - ETA: 0s - loss: 0.1741 - accuracy: 0.9688\b\b\b\b\b\b\b\b\b\b\b\b\b\b\b\b\b\b\b\b\b\b\b\b\b\b\b\b\b\b\b\b\b\b\b\b\b\b\b\b\b\b\b\b\b\b\b\b\b\b\b\b\b\b\b\b\b\b\b\b\b\b\b\b\b\b\b\b\b\b\b\b\b\b\b\b\b\b\b\b\b\b\r19/24 [======================&gt;.......] - ETA: 0s - loss: 0.0857 - accuracy: 0.9737\b\b\b\b\b\b\b\b\b\b\b\b\b\b\b\b\b\b\b\b\b\b\b\b\b\b\b\b\b\b\b\b\b\b\b\b\b\b\b\b\b\b\b\b\b\b\b\b\b\b\b\b\b\b\b\b\b\b\b\b\b\b\b\b\b\b\b\b\b\b\b\b\b\b\b\b\b\b\b\b\b\b\r24/24 [==============================] - 0s 3ms/step - loss: 0.0834 - accuracy: 0.9738\nEpoch 57/100\n\r 1/24 [&gt;.............................] - ETA: 0s - loss: 0.1298 - accuracy: 0.9375\b\b\b\b\b\b\b\b\b\b\b\b\b\b\b\b\b\b\b\b\b\b\b\b\b\b\b\b\b\b\b\b\b\b\b\b\b\b\b\b\b\b\b\b\b\b\b\b\b\b\b\b\b\b\b\b\b\b\b\b\b\b\b\b\b\b\b\b\b\b\b\b\b\b\b\b\b\b\b\b\b\b\r20/24 [========================&gt;.....] - ETA: 0s - loss: 0.0797 - accuracy: 0.9734\b\b\b\b\b\b\b\b\b\b\b\b\b\b\b\b\b\b\b\b\b\b\b\b\b\b\b\b\b\b\b\b\b\b\b\b\b\b\b\b\b\b\b\b\b\b\b\b\b\b\b\b\b\b\b\b\b\b\b\b\b\b\b\b\b\b\b\b\b\b\b\b\b\b\b\b\b\b\b\b\b\b\r24/24 [==============================] - 0s 3ms/step - loss: 0.0822 - accuracy: 0.9751\nEpoch 58/100\n\r 1/24 [&gt;.............................] - ETA: 0s - loss: 0.0562 - accuracy: 1.0000\b\b\b\b\b\b\b\b\b\b\b\b\b\b\b\b\b\b\b\b\b\b\b\b\b\b\b\b\b\b\b\b\b\b\b\b\b\b\b\b\b\b\b\b\b\b\b\b\b\b\b\b\b\b\b\b\b\b\b\b\b\b\b\b\b\b\b\b\b\b\b\b\b\b\b\b\b\b\b\b\b\b\r20/24 [========================&gt;.....] - ETA: 0s - loss: 0.0750 - accuracy: 0.9750\b\b\b\b\b\b\b\b\b\b\b\b\b\b\b\b\b\b\b\b\b\b\b\b\b\b\b\b\b\b\b\b\b\b\b\b\b\b\b\b\b\b\b\b\b\b\b\b\b\b\b\b\b\b\b\b\b\b\b\b\b\b\b\b\b\b\b\b\b\b\b\b\b\b\b\b\b\b\b\b\b\b\r24/24 [==============================] - 0s 3ms/step - loss: 0.0709 - accuracy: 0.9764\nEpoch 59/100\n\r 1/24 [&gt;.............................] - ETA: 0s - loss: 0.0896 - accuracy: 0.9688\b\b\b\b\b\b\b\b\b\b\b\b\b\b\b\b\b\b\b\b\b\b\b\b\b\b\b\b\b\b\b\b\b\b\b\b\b\b\b\b\b\b\b\b\b\b\b\b\b\b\b\b\b\b\b\b\b\b\b\b\b\b\b\b\b\b\b\b\b\b\b\b\b\b\b\b\b\b\b\b\b\b\r21/24 [=========================&gt;....] - ETA: 0s - loss: 0.0828 - accuracy: 0.9717\b\b\b\b\b\b\b\b\b\b\b\b\b\b\b\b\b\b\b\b\b\b\b\b\b\b\b\b\b\b\b\b\b\b\b\b\b\b\b\b\b\b\b\b\b\b\b\b\b\b\b\b\b\b\b\b\b\b\b\b\b\b\b\b\b\b\b\b\b\b\b\b\b\b\b\b\b\b\b\b\b\b\r24/24 [==============================] - 0s 3ms/step - loss: 0.0760 - accuracy: 0.9738\nEpoch 60/100\n\r 1/24 [&gt;.............................] - ETA: 0s - loss: 0.0424 - accuracy: 0.9688\b\b\b\b\b\b\b\b\b\b\b\b\b\b\b\b\b\b\b\b\b\b\b\b\b\b\b\b\b\b\b\b\b\b\b\b\b\b\b\b\b\b\b\b\b\b\b\b\b\b\b\b\b\b\b\b\b\b\b\b\b\b\b\b\b\b\b\b\b\b\b\b\b\b\b\b\b\b\b\b\b\b\r20/24 [========================&gt;.....] - ETA: 0s - loss: 0.0678 - accuracy: 0.9797\b\b\b\b\b\b\b\b\b\b\b\b\b\b\b\b\b\b\b\b\b\b\b\b\b\b\b\b\b\b\b\b\b\b\b\b\b\b\b\b\b\b\b\b\b\b\b\b\b\b\b\b\b\b\b\b\b\b\b\b\b\b\b\b\b\b\b\b\b\b\b\b\b\b\b\b\b\b\b\b\b\b\r24/24 [==============================] - 0s 3ms/step - loss: 0.0750 - accuracy: 0.9751\nEpoch 61/100\n\r 1/24 [&gt;.............................] - ETA: 0s - loss: 0.0941 - accuracy: 0.9688\b\b\b\b\b\b\b\b\b\b\b\b\b\b\b\b\b\b\b\b\b\b\b\b\b\b\b\b\b\b\b\b\b\b\b\b\b\b\b\b\b\b\b\b\b\b\b\b\b\b\b\b\b\b\b\b\b\b\b\b\b\b\b\b\b\b\b\b\b\b\b\b\b\b\b\b\b\b\b\b\b\b\r13/24 [===============&gt;..............] - ETA: 0s - loss: 0.0695 - accuracy: 0.9760\b\b\b\b\b\b\b\b\b\b\b\b\b\b\b\b\b\b\b\b\b\b\b\b\b\b\b\b\b\b\b\b\b\b\b\b\b\b\b\b\b\b\b\b\b\b\b\b\b\b\b\b\b\b\b\b\b\b\b\b\b\b\b\b\b\b\b\b\b\b\b\b\b\b\b\b\b\b\b\b\b\b\r24/24 [==============================] - 0s 14ms/step - loss: 0.0812 - accuracy: 0.9751\nEpoch 62/100\n\r 1/24 [&gt;.............................] - ETA: 0s - loss: 0.0345 - accuracy: 1.0000\b\b\b\b\b\b\b\b\b\b\b\b\b\b\b\b\b\b\b\b\b\b\b\b\b\b\b\b\b\b\b\b\b\b\b\b\b\b\b\b\b\b\b\b\b\b\b\b\b\b\b\b\b\b\b\b\b\b\b\b\b\b\b\b\b\b\b\b\b\b\b\b\b\b\b\b\b\b\b\b\b\b\r17/24 [====================&gt;.........] - ETA: 0s - loss: 0.0749 - accuracy: 0.9761\b\b\b\b\b\b\b\b\b\b\b\b\b\b\b\b\b\b\b\b\b\b\b\b\b\b\b\b\b\b\b\b\b\b\b\b\b\b\b\b\b\b\b\b\b\b\b\b\b\b\b\b\b\b\b\b\b\b\b\b\b\b\b\b\b\b\b\b\b\b\b\b\b\b\b\b\b\b\b\b\b\b\r24/24 [==============================] - 0s 3ms/step - loss: 0.0864 - accuracy: 0.9751\nEpoch 63/100\n\r 1/24 [&gt;.............................] - ETA: 0s - loss: 0.3218 - accuracy: 0.9062\b\b\b\b\b\b\b\b\b\b\b\b\b\b\b\b\b\b\b\b\b\b\b\b\b\b\b\b\b\b\b\b\b\b\b\b\b\b\b\b\b\b\b\b\b\b\b\b\b\b\b\b\b\b\b\b\b\b\b\b\b\b\b\b\b\b\b\b\b\b\b\b\b\b\b\b\b\b\b\b\b\b\r21/24 [=========================&gt;....] - ETA: 0s - loss: 0.0963 - accuracy: 0.9762\b\b\b\b\b\b\b\b\b\b\b\b\b\b\b\b\b\b\b\b\b\b\b\b\b\b\b\b\b\b\b\b\b\b\b\b\b\b\b\b\b\b\b\b\b\b\b\b\b\b\b\b\b\b\b\b\b\b\b\b\b\b\b\b\b\b\b\b\b\b\b\b\b\b\b\b\b\b\b\b\b\b\r24/24 [==============================] - 0s 3ms/step - loss: 0.0926 - accuracy: 0.9751\nEpoch 64/100\n\r 1/24 [&gt;.............................] - ETA: 0s - loss: 0.2673 - accuracy: 0.9375\b\b\b\b\b\b\b\b\b\b\b\b\b\b\b\b\b\b\b\b\b\b\b\b\b\b\b\b\b\b\b\b\b\b\b\b\b\b\b\b\b\b\b\b\b\b\b\b\b\b\b\b\b\b\b\b\b\b\b\b\b\b\b\b\b\b\b\b\b\b\b\b\b\b\b\b\b\b\b\b\b\b\r20/24 [========================&gt;.....] - ETA: 0s - loss: 0.0724 - accuracy: 0.9781\b\b\b\b\b\b\b\b\b\b\b\b\b\b\b\b\b\b\b\b\b\b\b\b\b\b\b\b\b\b\b\b\b\b\b\b\b\b\b\b\b\b\b\b\b\b\b\b\b\b\b\b\b\b\b\b\b\b\b\b\b\b\b\b\b\b\b\b\b\b\b\b\b\b\b\b\b\b\b\b\b\b\r24/24 [==============================] - 0s 3ms/step - loss: 0.0777 - accuracy: 0.9764\nEpoch 65/100\n\r 1/24 [&gt;.............................] - ETA: 0s - loss: 0.2781 - accuracy: 0.8750\b\b\b\b\b\b\b\b\b\b\b\b\b\b\b\b\b\b\b\b\b\b\b\b\b\b\b\b\b\b\b\b\b\b\b\b\b\b\b\b\b\b\b\b\b\b\b\b\b\b\b\b\b\b\b\b\b\b\b\b\b\b\b\b\b\b\b\b\b\b\b\b\b\b\b\b\b\b\b\b\b\b\r20/24 [========================&gt;.....] - ETA: 0s - loss: 0.0842 - accuracy: 0.9719\b\b\b\b\b\b\b\b\b\b\b\b\b\b\b\b\b\b\b\b\b\b\b\b\b\b\b\b\b\b\b\b\b\b\b\b\b\b\b\b\b\b\b\b\b\b\b\b\b\b\b\b\b\b\b\b\b\b\b\b\b\b\b\b\b\b\b\b\b\b\b\b\b\b\b\b\b\b\b\b\b\b\r24/24 [==============================] - 0s 3ms/step - loss: 0.0817 - accuracy: 0.9738\nEpoch 66/100\n\r 1/24 [&gt;.............................] - ETA: 0s - loss: 0.0125 - accuracy: 1.0000\b\b\b\b\b\b\b\b\b\b\b\b\b\b\b\b\b\b\b\b\b\b\b\b\b\b\b\b\b\b\b\b\b\b\b\b\b\b\b\b\b\b\b\b\b\b\b\b\b\b\b\b\b\b\b\b\b\b\b\b\b\b\b\b\b\b\b\b\b\b\b\b\b\b\b\b\b\b\b\b\b\b\r20/24 [========================&gt;.....] - ETA: 0s - loss: 0.0783 - accuracy: 0.9750\b\b\b\b\b\b\b\b\b\b\b\b\b\b\b\b\b\b\b\b\b\b\b\b\b\b\b\b\b\b\b\b\b\b\b\b\b\b\b\b\b\b\b\b\b\b\b\b\b\b\b\b\b\b\b\b\b\b\b\b\b\b\b\b\b\b\b\b\b\b\b\b\b\b\b\b\b\b\b\b\b\b\r24/24 [==============================] - 0s 3ms/step - loss: 0.0775 - accuracy: 0.9738\nEpoch 67/100\n\r 1/24 [&gt;.............................] - ETA: 0s - loss: 0.0777 - accuracy: 0.9688\b\b\b\b\b\b\b\b\b\b\b\b\b\b\b\b\b\b\b\b\b\b\b\b\b\b\b\b\b\b\b\b\b\b\b\b\b\b\b\b\b\b\b\b\b\b\b\b\b\b\b\b\b\b\b\b\b\b\b\b\b\b\b\b\b\b\b\b\b\b\b\b\b\b\b\b\b\b\b\b\b\b\r18/24 [=====================&gt;........] - ETA: 0s - loss: 0.0800 - accuracy: 0.9722\b\b\b\b\b\b\b\b\b\b\b\b\b\b\b\b\b\b\b\b\b\b\b\b\b\b\b\b\b\b\b\b\b\b\b\b\b\b\b\b\b\b\b\b\b\b\b\b\b\b\b\b\b\b\b\b\b\b\b\b\b\b\b\b\b\b\b\b\b\b\b\b\b\b\b\b\b\b\b\b\b\b\r24/24 [==============================] - 0s 3ms/step - loss: 0.0767 - accuracy: 0.9751\nEpoch 68/100\n\r 1/24 [&gt;.............................] - ETA: 0s - loss: 0.1374 - accuracy: 0.9688\b\b\b\b\b\b\b\b\b\b\b\b\b\b\b\b\b\b\b\b\b\b\b\b\b\b\b\b\b\b\b\b\b\b\b\b\b\b\b\b\b\b\b\b\b\b\b\b\b\b\b\b\b\b\b\b\b\b\b\b\b\b\b\b\b\b\b\b\b\b\b\b\b\b\b\b\b\b\b\b\b\b\r20/24 [========================&gt;.....] - ETA: 0s - loss: 0.0714 - accuracy: 0.9750\b\b\b\b\b\b\b\b\b\b\b\b\b\b\b\b\b\b\b\b\b\b\b\b\b\b\b\b\b\b\b\b\b\b\b\b\b\b\b\b\b\b\b\b\b\b\b\b\b\b\b\b\b\b\b\b\b\b\b\b\b\b\b\b\b\b\b\b\b\b\b\b\b\b\b\b\b\b\b\b\b\b\r24/24 [==============================] - 0s 3ms/step - loss: 0.0748 - accuracy: 0.9738\nEpoch 69/100\n\r 1/24 [&gt;.............................] - ETA: 0s - loss: 0.0311 - accuracy: 1.0000\b\b\b\b\b\b\b\b\b\b\b\b\b\b\b\b\b\b\b\b\b\b\b\b\b\b\b\b\b\b\b\b\b\b\b\b\b\b\b\b\b\b\b\b\b\b\b\b\b\b\b\b\b\b\b\b\b\b\b\b\b\b\b\b\b\b\b\b\b\b\b\b\b\b\b\b\b\b\b\b\b\b\r20/24 [========================&gt;.....] - ETA: 0s - loss: 0.0736 - accuracy: 0.9750\b\b\b\b\b\b\b\b\b\b\b\b\b\b\b\b\b\b\b\b\b\b\b\b\b\b\b\b\b\b\b\b\b\b\b\b\b\b\b\b\b\b\b\b\b\b\b\b\b\b\b\b\b\b\b\b\b\b\b\b\b\b\b\b\b\b\b\b\b\b\b\b\b\b\b\b\b\b\b\b\b\b\r24/24 [==============================] - 0s 3ms/step - loss: 0.0742 - accuracy: 0.9751\nEpoch 70/100\n\r 1/24 [&gt;.............................] - ETA: 0s - loss: 0.2460 - accuracy: 0.9688\b\b\b\b\b\b\b\b\b\b\b\b\b\b\b\b\b\b\b\b\b\b\b\b\b\b\b\b\b\b\b\b\b\b\b\b\b\b\b\b\b\b\b\b\b\b\b\b\b\b\b\b\b\b\b\b\b\b\b\b\b\b\b\b\b\b\b\b\b\b\b\b\b\b\b\b\b\b\b\b\b\b\r20/24 [========================&gt;.....] - ETA: 0s - loss: 0.0824 - accuracy: 0.9750\b\b\b\b\b\b\b\b\b\b\b\b\b\b\b\b\b\b\b\b\b\b\b\b\b\b\b\b\b\b\b\b\b\b\b\b\b\b\b\b\b\b\b\b\b\b\b\b\b\b\b\b\b\b\b\b\b\b\b\b\b\b\b\b\b\b\b\b\b\b\b\b\b\b\b\b\b\b\b\b\b\b\r24/24 [==============================] - 0s 3ms/step - loss: 0.0793 - accuracy: 0.9751\nEpoch 71/100\n\r 1/24 [&gt;.............................] - ETA: 0s - loss: 0.0692 - accuracy: 0.9688\b\b\b\b\b\b\b\b\b\b\b\b\b\b\b\b\b\b\b\b\b\b\b\b\b\b\b\b\b\b\b\b\b\b\b\b\b\b\b\b\b\b\b\b\b\b\b\b\b\b\b\b\b\b\b\b\b\b\b\b\b\b\b\b\b\b\b\b\b\b\b\b\b\b\b\b\b\b\b\b\b\b\r14/24 [================&gt;.............] - ETA: 0s - loss: 0.0851 - accuracy: 0.9710\b\b\b\b\b\b\b\b\b\b\b\b\b\b\b\b\b\b\b\b\b\b\b\b\b\b\b\b\b\b\b\b\b\b\b\b\b\b\b\b\b\b\b\b\b\b\b\b\b\b\b\b\b\b\b\b\b\b\b\b\b\b\b\b\b\b\b\b\b\b\b\b\b\b\b\b\b\b\b\b\b\b\r24/24 [==============================] - 0s 4ms/step - loss: 0.0710 - accuracy: 0.9751\nEpoch 72/100\n\r 1/24 [&gt;.............................] - ETA: 0s - loss: 0.2001 - accuracy: 0.9688\b\b\b\b\b\b\b\b\b\b\b\b\b\b\b\b\b\b\b\b\b\b\b\b\b\b\b\b\b\b\b\b\b\b\b\b\b\b\b\b\b\b\b\b\b\b\b\b\b\b\b\b\b\b\b\b\b\b\b\b\b\b\b\b\b\b\b\b\b\b\b\b\b\b\b\b\b\b\b\b\b\b\r15/24 [=================&gt;............] - ETA: 0s - loss: 0.0760 - accuracy: 0.9750\b\b\b\b\b\b\b\b\b\b\b\b\b\b\b\b\b\b\b\b\b\b\b\b\b\b\b\b\b\b\b\b\b\b\b\b\b\b\b\b\b\b\b\b\b\b\b\b\b\b\b\b\b\b\b\b\b\b\b\b\b\b\b\b\b\b\b\b\b\b\b\b\b\b\b\b\b\b\b\b\b\b\r24/24 [==============================] - 0s 4ms/step - loss: 0.0686 - accuracy: 0.9777\nEpoch 73/100\n\r 1/24 [&gt;.............................] - ETA: 0s - loss: 0.1359 - accuracy: 0.9375\b\b\b\b\b\b\b\b\b\b\b\b\b\b\b\b\b\b\b\b\b\b\b\b\b\b\b\b\b\b\b\b\b\b\b\b\b\b\b\b\b\b\b\b\b\b\b\b\b\b\b\b\b\b\b\b\b\b\b\b\b\b\b\b\b\b\b\b\b\b\b\b\b\b\b\b\b\b\b\b\b\b\r16/24 [===================&gt;..........] - ETA: 0s - loss: 0.0926 - accuracy: 0.9688\b\b\b\b\b\b\b\b\b\b\b\b\b\b\b\b\b\b\b\b\b\b\b\b\b\b\b\b\b\b\b\b\b\b\b\b\b\b\b\b\b\b\b\b\b\b\b\b\b\b\b\b\b\b\b\b\b\b\b\b\b\b\b\b\b\b\b\b\b\b\b\b\b\b\b\b\b\b\b\b\b\b\r24/24 [==============================] - 0s 4ms/step - loss: 0.0764 - accuracy: 0.9738\nEpoch 74/100\n\r 1/24 [&gt;.............................] - ETA: 0s - loss: 0.0387 - accuracy: 0.9688\b\b\b\b\b\b\b\b\b\b\b\b\b\b\b\b\b\b\b\b\b\b\b\b\b\b\b\b\b\b\b\b\b\b\b\b\b\b\b\b\b\b\b\b\b\b\b\b\b\b\b\b\b\b\b\b\b\b\b\b\b\b\b\b\b\b\b\b\b\b\b\b\b\b\b\b\b\b\b\b\b\b\r18/24 [=====================&gt;........] - ETA: 0s - loss: 0.0743 - accuracy: 0.9757\b\b\b\b\b\b\b\b\b\b\b\b\b\b\b\b\b\b\b\b\b\b\b\b\b\b\b\b\b\b\b\b\b\b\b\b\b\b\b\b\b\b\b\b\b\b\b\b\b\b\b\b\b\b\b\b\b\b\b\b\b\b\b\b\b\b\b\b\b\b\b\b\b\b\b\b\b\b\b\b\b\b\r24/24 [==============================] - 0s 3ms/step - loss: 0.0681 - accuracy: 0.9764\nEpoch 75/100\n\r 1/24 [&gt;.............................] - ETA: 0s - loss: 0.0895 - accuracy: 0.9688\b\b\b\b\b\b\b\b\b\b\b\b\b\b\b\b\b\b\b\b\b\b\b\b\b\b\b\b\b\b\b\b\b\b\b\b\b\b\b\b\b\b\b\b\b\b\b\b\b\b\b\b\b\b\b\b\b\b\b\b\b\b\b\b\b\b\b\b\b\b\b\b\b\b\b\b\b\b\b\b\b\b\r19/24 [======================&gt;.......] - ETA: 0s - loss: 0.0737 - accuracy: 0.9786\b\b\b\b\b\b\b\b\b\b\b\b\b\b\b\b\b\b\b\b\b\b\b\b\b\b\b\b\b\b\b\b\b\b\b\b\b\b\b\b\b\b\b\b\b\b\b\b\b\b\b\b\b\b\b\b\b\b\b\b\b\b\b\b\b\b\b\b\b\b\b\b\b\b\b\b\b\b\b\b\b\b\r24/24 [==============================] - 0s 3ms/step - loss: 0.0788 - accuracy: 0.9764\nEpoch 76/100\n\r 1/24 [&gt;.............................] - ETA: 0s - loss: 0.0085 - accuracy: 1.0000\b\b\b\b\b\b\b\b\b\b\b\b\b\b\b\b\b\b\b\b\b\b\b\b\b\b\b\b\b\b\b\b\b\b\b\b\b\b\b\b\b\b\b\b\b\b\b\b\b\b\b\b\b\b\b\b\b\b\b\b\b\b\b\b\b\b\b\b\b\b\b\b\b\b\b\b\b\b\b\b\b\b\r19/24 [======================&gt;.......] - ETA: 0s - loss: 0.0591 - accuracy: 0.9753\b\b\b\b\b\b\b\b\b\b\b\b\b\b\b\b\b\b\b\b\b\b\b\b\b\b\b\b\b\b\b\b\b\b\b\b\b\b\b\b\b\b\b\b\b\b\b\b\b\b\b\b\b\b\b\b\b\b\b\b\b\b\b\b\b\b\b\b\b\b\b\b\b\b\b\b\b\b\b\b\b\b\r24/24 [==============================] - 0s 3ms/step - loss: 0.0647 - accuracy: 0.9751\nEpoch 77/100\n\r 1/24 [&gt;.............................] - ETA: 0s - loss: 0.0536 - accuracy: 0.9688\b\b\b\b\b\b\b\b\b\b\b\b\b\b\b\b\b\b\b\b\b\b\b\b\b\b\b\b\b\b\b\b\b\b\b\b\b\b\b\b\b\b\b\b\b\b\b\b\b\b\b\b\b\b\b\b\b\b\b\b\b\b\b\b\b\b\b\b\b\b\b\b\b\b\b\b\b\b\b\b\b\b\r20/24 [========================&gt;.....] - ETA: 0s - loss: 0.0764 - accuracy: 0.9703\b\b\b\b\b\b\b\b\b\b\b\b\b\b\b\b\b\b\b\b\b\b\b\b\b\b\b\b\b\b\b\b\b\b\b\b\b\b\b\b\b\b\b\b\b\b\b\b\b\b\b\b\b\b\b\b\b\b\b\b\b\b\b\b\b\b\b\b\b\b\b\b\b\b\b\b\b\b\b\b\b\b\r24/24 [==============================] - 0s 3ms/step - loss: 0.0682 - accuracy: 0.9738\nEpoch 78/100\n\r 1/24 [&gt;.............................] - ETA: 0s - loss: 0.1101 - accuracy: 0.9375\b\b\b\b\b\b\b\b\b\b\b\b\b\b\b\b\b\b\b\b\b\b\b\b\b\b\b\b\b\b\b\b\b\b\b\b\b\b\b\b\b\b\b\b\b\b\b\b\b\b\b\b\b\b\b\b\b\b\b\b\b\b\b\b\b\b\b\b\b\b\b\b\b\b\b\b\b\b\b\b\b\b\r20/24 [========================&gt;.....] - ETA: 0s - loss: 0.0642 - accuracy: 0.9750\b\b\b\b\b\b\b\b\b\b\b\b\b\b\b\b\b\b\b\b\b\b\b\b\b\b\b\b\b\b\b\b\b\b\b\b\b\b\b\b\b\b\b\b\b\b\b\b\b\b\b\b\b\b\b\b\b\b\b\b\b\b\b\b\b\b\b\b\b\b\b\b\b\b\b\b\b\b\b\b\b\b\r24/24 [==============================] - 0s 3ms/step - loss: 0.0794 - accuracy: 0.9725\nEpoch 79/100\n\r 1/24 [&gt;.............................] - ETA: 0s - loss: 0.0176 - accuracy: 1.0000\b\b\b\b\b\b\b\b\b\b\b\b\b\b\b\b\b\b\b\b\b\b\b\b\b\b\b\b\b\b\b\b\b\b\b\b\b\b\b\b\b\b\b\b\b\b\b\b\b\b\b\b\b\b\b\b\b\b\b\b\b\b\b\b\b\b\b\b\b\b\b\b\b\b\b\b\b\b\b\b\b\b\r18/24 [=====================&gt;........] - ETA: 0s - loss: 0.0806 - accuracy: 0.9740\b\b\b\b\b\b\b\b\b\b\b\b\b\b\b\b\b\b\b\b\b\b\b\b\b\b\b\b\b\b\b\b\b\b\b\b\b\b\b\b\b\b\b\b\b\b\b\b\b\b\b\b\b\b\b\b\b\b\b\b\b\b\b\b\b\b\b\b\b\b\b\b\b\b\b\b\b\b\b\b\b\b\r24/24 [==============================] - 0s 3ms/step - loss: 0.0758 - accuracy: 0.9751\nEpoch 80/100\n\r 1/24 [&gt;.............................] - ETA: 0s - loss: 0.0253 - accuracy: 1.0000\b\b\b\b\b\b\b\b\b\b\b\b\b\b\b\b\b\b\b\b\b\b\b\b\b\b\b\b\b\b\b\b\b\b\b\b\b\b\b\b\b\b\b\b\b\b\b\b\b\b\b\b\b\b\b\b\b\b\b\b\b\b\b\b\b\b\b\b\b\b\b\b\b\b\b\b\b\b\b\b\b\b\r17/24 [====================&gt;.........] - ETA: 0s - loss: 0.0666 - accuracy: 0.9761\b\b\b\b\b\b\b\b\b\b\b\b\b\b\b\b\b\b\b\b\b\b\b\b\b\b\b\b\b\b\b\b\b\b\b\b\b\b\b\b\b\b\b\b\b\b\b\b\b\b\b\b\b\b\b\b\b\b\b\b\b\b\b\b\b\b\b\b\b\b\b\b\b\b\b\b\b\b\b\b\b\b\r24/24 [==============================] - 0s 3ms/step - loss: 0.0689 - accuracy: 0.9751\nEpoch 81/100\n\r 1/24 [&gt;.............................] - ETA: 0s - loss: 0.0538 - accuracy: 0.9688\b\b\b\b\b\b\b\b\b\b\b\b\b\b\b\b\b\b\b\b\b\b\b\b\b\b\b\b\b\b\b\b\b\b\b\b\b\b\b\b\b\b\b\b\b\b\b\b\b\b\b\b\b\b\b\b\b\b\b\b\b\b\b\b\b\b\b\b\b\b\b\b\b\b\b\b\b\b\b\b\b\b\r16/24 [===================&gt;..........] - ETA: 0s - loss: 0.0684 - accuracy: 0.9766\b\b\b\b\b\b\b\b\b\b\b\b\b\b\b\b\b\b\b\b\b\b\b\b\b\b\b\b\b\b\b\b\b\b\b\b\b\b\b\b\b\b\b\b\b\b\b\b\b\b\b\b\b\b\b\b\b\b\b\b\b\b\b\b\b\b\b\b\b\b\b\b\b\b\b\b\b\b\b\b\b\b\r24/24 [==============================] - 0s 4ms/step - loss: 0.0766 - accuracy: 0.9725\nEpoch 82/100\n\r 1/24 [&gt;.............................] - ETA: 0s - loss: 0.1021 - accuracy: 0.9688\b\b\b\b\b\b\b\b\b\b\b\b\b\b\b\b\b\b\b\b\b\b\b\b\b\b\b\b\b\b\b\b\b\b\b\b\b\b\b\b\b\b\b\b\b\b\b\b\b\b\b\b\b\b\b\b\b\b\b\b\b\b\b\b\b\b\b\b\b\b\b\b\b\b\b\b\b\b\b\b\b\b\r16/24 [===================&gt;..........] - ETA: 0s - loss: 0.0811 - accuracy: 0.9746\b\b\b\b\b\b\b\b\b\b\b\b\b\b\b\b\b\b\b\b\b\b\b\b\b\b\b\b\b\b\b\b\b\b\b\b\b\b\b\b\b\b\b\b\b\b\b\b\b\b\b\b\b\b\b\b\b\b\b\b\b\b\b\b\b\b\b\b\b\b\b\b\b\b\b\b\b\b\b\b\b\b\r24/24 [==============================] - 0s 3ms/step - loss: 0.0790 - accuracy: 0.9764\nEpoch 83/100\n\r 1/24 [&gt;.............................] - ETA: 0s - loss: 0.0795 - accuracy: 0.9688\b\b\b\b\b\b\b\b\b\b\b\b\b\b\b\b\b\b\b\b\b\b\b\b\b\b\b\b\b\b\b\b\b\b\b\b\b\b\b\b\b\b\b\b\b\b\b\b\b\b\b\b\b\b\b\b\b\b\b\b\b\b\b\b\b\b\b\b\b\b\b\b\b\b\b\b\b\b\b\b\b\b\r19/24 [======================&gt;.......] - ETA: 0s - loss: 0.0687 - accuracy: 0.9786\b\b\b\b\b\b\b\b\b\b\b\b\b\b\b\b\b\b\b\b\b\b\b\b\b\b\b\b\b\b\b\b\b\b\b\b\b\b\b\b\b\b\b\b\b\b\b\b\b\b\b\b\b\b\b\b\b\b\b\b\b\b\b\b\b\b\b\b\b\b\b\b\b\b\b\b\b\b\b\b\b\b\r24/24 [==============================] - 0s 3ms/step - loss: 0.0791 - accuracy: 0.9751\nEpoch 84/100\n\r 1/24 [&gt;.............................] - ETA: 0s - loss: 0.0102 - accuracy: 1.0000\b\b\b\b\b\b\b\b\b\b\b\b\b\b\b\b\b\b\b\b\b\b\b\b\b\b\b\b\b\b\b\b\b\b\b\b\b\b\b\b\b\b\b\b\b\b\b\b\b\b\b\b\b\b\b\b\b\b\b\b\b\b\b\b\b\b\b\b\b\b\b\b\b\b\b\b\b\b\b\b\b\b\r20/24 [========================&gt;.....] - ETA: 0s - loss: 0.0733 - accuracy: 0.9750\b\b\b\b\b\b\b\b\b\b\b\b\b\b\b\b\b\b\b\b\b\b\b\b\b\b\b\b\b\b\b\b\b\b\b\b\b\b\b\b\b\b\b\b\b\b\b\b\b\b\b\b\b\b\b\b\b\b\b\b\b\b\b\b\b\b\b\b\b\b\b\b\b\b\b\b\b\b\b\b\b\b\r24/24 [==============================] - 0s 3ms/step - loss: 0.0722 - accuracy: 0.9751\nEpoch 85/100\n\r 1/24 [&gt;.............................] - ETA: 0s - loss: 0.0144 - accuracy: 1.0000\b\b\b\b\b\b\b\b\b\b\b\b\b\b\b\b\b\b\b\b\b\b\b\b\b\b\b\b\b\b\b\b\b\b\b\b\b\b\b\b\b\b\b\b\b\b\b\b\b\b\b\b\b\b\b\b\b\b\b\b\b\b\b\b\b\b\b\b\b\b\b\b\b\b\b\b\b\b\b\b\b\b\r20/24 [========================&gt;.....] - ETA: 0s - loss: 0.0661 - accuracy: 0.9781\b\b\b\b\b\b\b\b\b\b\b\b\b\b\b\b\b\b\b\b\b\b\b\b\b\b\b\b\b\b\b\b\b\b\b\b\b\b\b\b\b\b\b\b\b\b\b\b\b\b\b\b\b\b\b\b\b\b\b\b\b\b\b\b\b\b\b\b\b\b\b\b\b\b\b\b\b\b\b\b\b\b\r24/24 [==============================] - 0s 3ms/step - loss: 0.0695 - accuracy: 0.9751\nEpoch 86/100\n\r 1/24 [&gt;.............................] - ETA: 0s - loss: 0.0736 - accuracy: 0.9688\b\b\b\b\b\b\b\b\b\b\b\b\b\b\b\b\b\b\b\b\b\b\b\b\b\b\b\b\b\b\b\b\b\b\b\b\b\b\b\b\b\b\b\b\b\b\b\b\b\b\b\b\b\b\b\b\b\b\b\b\b\b\b\b\b\b\b\b\b\b\b\b\b\b\b\b\b\b\b\b\b\b\r19/24 [======================&gt;.......] - ETA: 0s - loss: 0.0677 - accuracy: 0.9753\b\b\b\b\b\b\b\b\b\b\b\b\b\b\b\b\b\b\b\b\b\b\b\b\b\b\b\b\b\b\b\b\b\b\b\b\b\b\b\b\b\b\b\b\b\b\b\b\b\b\b\b\b\b\b\b\b\b\b\b\b\b\b\b\b\b\b\b\b\b\b\b\b\b\b\b\b\b\b\b\b\b\r24/24 [==============================] - 0s 3ms/step - loss: 0.0711 - accuracy: 0.9738\nEpoch 87/100\n\r 1/24 [&gt;.............................] - ETA: 0s - loss: 0.0206 - accuracy: 1.0000\b\b\b\b\b\b\b\b\b\b\b\b\b\b\b\b\b\b\b\b\b\b\b\b\b\b\b\b\b\b\b\b\b\b\b\b\b\b\b\b\b\b\b\b\b\b\b\b\b\b\b\b\b\b\b\b\b\b\b\b\b\b\b\b\b\b\b\b\b\b\b\b\b\b\b\b\b\b\b\b\b\b\r19/24 [======================&gt;.......] - ETA: 0s - loss: 0.0798 - accuracy: 0.9720\b\b\b\b\b\b\b\b\b\b\b\b\b\b\b\b\b\b\b\b\b\b\b\b\b\b\b\b\b\b\b\b\b\b\b\b\b\b\b\b\b\b\b\b\b\b\b\b\b\b\b\b\b\b\b\b\b\b\b\b\b\b\b\b\b\b\b\b\b\b\b\b\b\b\b\b\b\b\b\b\b\b\r24/24 [==============================] - 0s 3ms/step - loss: 0.0731 - accuracy: 0.9738\nEpoch 88/100\n\r 1/24 [&gt;.............................] - ETA: 0s - loss: 0.0252 - accuracy: 1.0000\b\b\b\b\b\b\b\b\b\b\b\b\b\b\b\b\b\b\b\b\b\b\b\b\b\b\b\b\b\b\b\b\b\b\b\b\b\b\b\b\b\b\b\b\b\b\b\b\b\b\b\b\b\b\b\b\b\b\b\b\b\b\b\b\b\b\b\b\b\b\b\b\b\b\b\b\b\b\b\b\b\b\r21/24 [=========================&gt;....] - ETA: 0s - loss: 0.0543 - accuracy: 0.9792\b\b\b\b\b\b\b\b\b\b\b\b\b\b\b\b\b\b\b\b\b\b\b\b\b\b\b\b\b\b\b\b\b\b\b\b\b\b\b\b\b\b\b\b\b\b\b\b\b\b\b\b\b\b\b\b\b\b\b\b\b\b\b\b\b\b\b\b\b\b\b\b\b\b\b\b\b\b\b\b\b\b\r24/24 [==============================] - 0s 3ms/step - loss: 0.0598 - accuracy: 0.9764\nEpoch 89/100\n\r 1/24 [&gt;.............................] - ETA: 0s - loss: 0.0384 - accuracy: 0.9688\b\b\b\b\b\b\b\b\b\b\b\b\b\b\b\b\b\b\b\b\b\b\b\b\b\b\b\b\b\b\b\b\b\b\b\b\b\b\b\b\b\b\b\b\b\b\b\b\b\b\b\b\b\b\b\b\b\b\b\b\b\b\b\b\b\b\b\b\b\b\b\b\b\b\b\b\b\b\b\b\b\b\r20/24 [========================&gt;.....] - ETA: 0s - loss: 0.0679 - accuracy: 0.9750\b\b\b\b\b\b\b\b\b\b\b\b\b\b\b\b\b\b\b\b\b\b\b\b\b\b\b\b\b\b\b\b\b\b\b\b\b\b\b\b\b\b\b\b\b\b\b\b\b\b\b\b\b\b\b\b\b\b\b\b\b\b\b\b\b\b\b\b\b\b\b\b\b\b\b\b\b\b\b\b\b\b\r24/24 [==============================] - 0s 3ms/step - loss: 0.0700 - accuracy: 0.9751\nEpoch 90/100\n\r 1/24 [&gt;.............................] - ETA: 0s - loss: 0.0169 - accuracy: 1.0000\b\b\b\b\b\b\b\b\b\b\b\b\b\b\b\b\b\b\b\b\b\b\b\b\b\b\b\b\b\b\b\b\b\b\b\b\b\b\b\b\b\b\b\b\b\b\b\b\b\b\b\b\b\b\b\b\b\b\b\b\b\b\b\b\b\b\b\b\b\b\b\b\b\b\b\b\b\b\b\b\b\b\r20/24 [========================&gt;.....] - ETA: 0s - loss: 0.0660 - accuracy: 0.9766\b\b\b\b\b\b\b\b\b\b\b\b\b\b\b\b\b\b\b\b\b\b\b\b\b\b\b\b\b\b\b\b\b\b\b\b\b\b\b\b\b\b\b\b\b\b\b\b\b\b\b\b\b\b\b\b\b\b\b\b\b\b\b\b\b\b\b\b\b\b\b\b\b\b\b\b\b\b\b\b\b\b\r24/24 [==============================] - 0s 13ms/step - loss: 0.0641 - accuracy: 0.9791\nEpoch 91/100\n\r 1/24 [&gt;.............................] - ETA: 0s - loss: 0.0127 - accuracy: 1.0000\b\b\b\b\b\b\b\b\b\b\b\b\b\b\b\b\b\b\b\b\b\b\b\b\b\b\b\b\b\b\b\b\b\b\b\b\b\b\b\b\b\b\b\b\b\b\b\b\b\b\b\b\b\b\b\b\b\b\b\b\b\b\b\b\b\b\b\b\b\b\b\b\b\b\b\b\b\b\b\b\b\b\r18/24 [=====================&gt;........] - ETA: 0s - loss: 0.0698 - accuracy: 0.9774\b\b\b\b\b\b\b\b\b\b\b\b\b\b\b\b\b\b\b\b\b\b\b\b\b\b\b\b\b\b\b\b\b\b\b\b\b\b\b\b\b\b\b\b\b\b\b\b\b\b\b\b\b\b\b\b\b\b\b\b\b\b\b\b\b\b\b\b\b\b\b\b\b\b\b\b\b\b\b\b\b\b\r24/24 [==============================] - 0s 3ms/step - loss: 0.0741 - accuracy: 0.9764\nEpoch 92/100\n\r 1/24 [&gt;.............................] - ETA: 0s - loss: 0.0695 - accuracy: 0.9688\b\b\b\b\b\b\b\b\b\b\b\b\b\b\b\b\b\b\b\b\b\b\b\b\b\b\b\b\b\b\b\b\b\b\b\b\b\b\b\b\b\b\b\b\b\b\b\b\b\b\b\b\b\b\b\b\b\b\b\b\b\b\b\b\b\b\b\b\b\b\b\b\b\b\b\b\b\b\b\b\b\b\r20/24 [========================&gt;.....] - ETA: 0s - loss: 0.0656 - accuracy: 0.9750\b\b\b\b\b\b\b\b\b\b\b\b\b\b\b\b\b\b\b\b\b\b\b\b\b\b\b\b\b\b\b\b\b\b\b\b\b\b\b\b\b\b\b\b\b\b\b\b\b\b\b\b\b\b\b\b\b\b\b\b\b\b\b\b\b\b\b\b\b\b\b\b\b\b\b\b\b\b\b\b\b\b\r24/24 [==============================] - 0s 3ms/step - loss: 0.0719 - accuracy: 0.9738\nEpoch 93/100\n\r 1/24 [&gt;.............................] - ETA: 0s - loss: 0.0806 - accuracy: 0.9688\b\b\b\b\b\b\b\b\b\b\b\b\b\b\b\b\b\b\b\b\b\b\b\b\b\b\b\b\b\b\b\b\b\b\b\b\b\b\b\b\b\b\b\b\b\b\b\b\b\b\b\b\b\b\b\b\b\b\b\b\b\b\b\b\b\b\b\b\b\b\b\b\b\b\b\b\b\b\b\b\b\b\r19/24 [======================&gt;.......] - ETA: 0s - loss: 0.0588 - accuracy: 0.9770\b\b\b\b\b\b\b\b\b\b\b\b\b\b\b\b\b\b\b\b\b\b\b\b\b\b\b\b\b\b\b\b\b\b\b\b\b\b\b\b\b\b\b\b\b\b\b\b\b\b\b\b\b\b\b\b\b\b\b\b\b\b\b\b\b\b\b\b\b\b\b\b\b\b\b\b\b\b\b\b\b\b\r24/24 [==============================] - 0s 3ms/step - loss: 0.0665 - accuracy: 0.9751\nEpoch 94/100\n\r 1/24 [&gt;.............................] - ETA: 0s - loss: 0.0234 - accuracy: 1.0000\b\b\b\b\b\b\b\b\b\b\b\b\b\b\b\b\b\b\b\b\b\b\b\b\b\b\b\b\b\b\b\b\b\b\b\b\b\b\b\b\b\b\b\b\b\b\b\b\b\b\b\b\b\b\b\b\b\b\b\b\b\b\b\b\b\b\b\b\b\b\b\b\b\b\b\b\b\b\b\b\b\b\r17/24 [====================&gt;.........] - ETA: 0s - loss: 0.0438 - accuracy: 0.9816\b\b\b\b\b\b\b\b\b\b\b\b\b\b\b\b\b\b\b\b\b\b\b\b\b\b\b\b\b\b\b\b\b\b\b\b\b\b\b\b\b\b\b\b\b\b\b\b\b\b\b\b\b\b\b\b\b\b\b\b\b\b\b\b\b\b\b\b\b\b\b\b\b\b\b\b\b\b\b\b\b\b\r24/24 [==============================] - 0s 3ms/step - loss: 0.0606 - accuracy: 0.9777\nEpoch 95/100\n\r 1/24 [&gt;.............................] - ETA: 0s - loss: 0.0772 - accuracy: 0.9688\b\b\b\b\b\b\b\b\b\b\b\b\b\b\b\b\b\b\b\b\b\b\b\b\b\b\b\b\b\b\b\b\b\b\b\b\b\b\b\b\b\b\b\b\b\b\b\b\b\b\b\b\b\b\b\b\b\b\b\b\b\b\b\b\b\b\b\b\b\b\b\b\b\b\b\b\b\b\b\b\b\b\r18/24 [=====================&gt;........] - ETA: 0s - loss: 0.0671 - accuracy: 0.9792\b\b\b\b\b\b\b\b\b\b\b\b\b\b\b\b\b\b\b\b\b\b\b\b\b\b\b\b\b\b\b\b\b\b\b\b\b\b\b\b\b\b\b\b\b\b\b\b\b\b\b\b\b\b\b\b\b\b\b\b\b\b\b\b\b\b\b\b\b\b\b\b\b\b\b\b\b\b\b\b\b\b\r24/24 [==============================] - 0s 3ms/step - loss: 0.0673 - accuracy: 0.9764\nEpoch 96/100\n\r 1/24 [&gt;.............................] - ETA: 0s - loss: 0.0212 - accuracy: 1.0000\b\b\b\b\b\b\b\b\b\b\b\b\b\b\b\b\b\b\b\b\b\b\b\b\b\b\b\b\b\b\b\b\b\b\b\b\b\b\b\b\b\b\b\b\b\b\b\b\b\b\b\b\b\b\b\b\b\b\b\b\b\b\b\b\b\b\b\b\b\b\b\b\b\b\b\b\b\b\b\b\b\b\r19/24 [======================&gt;.......] - ETA: 0s - loss: 0.0606 - accuracy: 0.9770\b\b\b\b\b\b\b\b\b\b\b\b\b\b\b\b\b\b\b\b\b\b\b\b\b\b\b\b\b\b\b\b\b\b\b\b\b\b\b\b\b\b\b\b\b\b\b\b\b\b\b\b\b\b\b\b\b\b\b\b\b\b\b\b\b\b\b\b\b\b\b\b\b\b\b\b\b\b\b\b\b\b\r24/24 [==============================] - 0s 3ms/step - loss: 0.0686 - accuracy: 0.9751\nEpoch 97/100\n\r 1/24 [&gt;.............................] - ETA: 0s - loss: 0.0661 - accuracy: 0.9688\b\b\b\b\b\b\b\b\b\b\b\b\b\b\b\b\b\b\b\b\b\b\b\b\b\b\b\b\b\b\b\b\b\b\b\b\b\b\b\b\b\b\b\b\b\b\b\b\b\b\b\b\b\b\b\b\b\b\b\b\b\b\b\b\b\b\b\b\b\b\b\b\b\b\b\b\b\b\b\b\b\b\r16/24 [===================&gt;..........] - ETA: 0s - loss: 0.0518 - accuracy: 0.9805\b\b\b\b\b\b\b\b\b\b\b\b\b\b\b\b\b\b\b\b\b\b\b\b\b\b\b\b\b\b\b\b\b\b\b\b\b\b\b\b\b\b\b\b\b\b\b\b\b\b\b\b\b\b\b\b\b\b\b\b\b\b\b\b\b\b\b\b\b\b\b\b\b\b\b\b\b\b\b\b\b\b\r24/24 [==============================] - 0s 3ms/step - loss: 0.0595 - accuracy: 0.9751\nEpoch 98/100\n\r 1/24 [&gt;.............................] - ETA: 0s - loss: 0.1435 - accuracy: 0.9688\b\b\b\b\b\b\b\b\b\b\b\b\b\b\b\b\b\b\b\b\b\b\b\b\b\b\b\b\b\b\b\b\b\b\b\b\b\b\b\b\b\b\b\b\b\b\b\b\b\b\b\b\b\b\b\b\b\b\b\b\b\b\b\b\b\b\b\b\b\b\b\b\b\b\b\b\b\b\b\b\b\b\r19/24 [======================&gt;.......] - ETA: 0s - loss: 0.0566 - accuracy: 0.9803\b\b\b\b\b\b\b\b\b\b\b\b\b\b\b\b\b\b\b\b\b\b\b\b\b\b\b\b\b\b\b\b\b\b\b\b\b\b\b\b\b\b\b\b\b\b\b\b\b\b\b\b\b\b\b\b\b\b\b\b\b\b\b\b\b\b\b\b\b\b\b\b\b\b\b\b\b\b\b\b\b\b\r24/24 [==============================] - 0s 3ms/step - loss: 0.0732 - accuracy: 0.9764\nEpoch 99/100\n\r 1/24 [&gt;.............................] - ETA: 0s - loss: 0.1709 - accuracy: 0.9688\b\b\b\b\b\b\b\b\b\b\b\b\b\b\b\b\b\b\b\b\b\b\b\b\b\b\b\b\b\b\b\b\b\b\b\b\b\b\b\b\b\b\b\b\b\b\b\b\b\b\b\b\b\b\b\b\b\b\b\b\b\b\b\b\b\b\b\b\b\b\b\b\b\b\b\b\b\b\b\b\b\b\r15/24 [=================&gt;............] - ETA: 0s - loss: 0.0979 - accuracy: 0.9688\b\b\b\b\b\b\b\b\b\b\b\b\b\b\b\b\b\b\b\b\b\b\b\b\b\b\b\b\b\b\b\b\b\b\b\b\b\b\b\b\b\b\b\b\b\b\b\b\b\b\b\b\b\b\b\b\b\b\b\b\b\b\b\b\b\b\b\b\b\b\b\b\b\b\b\b\b\b\b\b\b\b\r24/24 [==============================] - 0s 3ms/step - loss: 0.0690 - accuracy: 0.9777\nEpoch 100/100\n\r 1/24 [&gt;.............................] - ETA: 0s - loss: 0.0870 - accuracy: 0.9688\b\b\b\b\b\b\b\b\b\b\b\b\b\b\b\b\b\b\b\b\b\b\b\b\b\b\b\b\b\b\b\b\b\b\b\b\b\b\b\b\b\b\b\b\b\b\b\b\b\b\b\b\b\b\b\b\b\b\b\b\b\b\b\b\b\b\b\b\b\b\b\b\b\b\b\b\b\b\b\b\b\b\r19/24 [======================&gt;.......] - ETA: 0s - loss: 0.0865 - accuracy: 0.9753\b\b\b\b\b\b\b\b\b\b\b\b\b\b\b\b\b\b\b\b\b\b\b\b\b\b\b\b\b\b\b\b\b\b\b\b\b\b\b\b\b\b\b\b\b\b\b\b\b\b\b\b\b\b\b\b\b\b\b\b\b\b\b\b\b\b\b\b\b\b\b\b\b\b\b\b\b\b\b\b\b\b\r24/24 [==============================] - 0s 3ms/step - loss: 0.0777 - accuracy: 0.9764\nINFO:tensorflow:Assets written to: /tmp/tmpvrvi8xau/model/data/model/assets\nOut[28]: &lt;keras.callbacks.History at 0x7f6711da64c0&gt;</div>",
       "datasetInfos": [],
       "metadata": {},
       "removedWidgets": [],
       "type": "html"
      }
     },
     "output_type": "display_data"
    }
   ],
   "source": [
    "model.fit(x=x_data, y=y_data, epochs=100)"
   ]
  },
  {
   "cell_type": "code",
   "execution_count": 0,
   "metadata": {
    "application/vnd.databricks.v1+cell": {
     "cellMetadata": {
      "byteLimit": 2048000,
      "rowLimit": 10000
     },
     "inputWidgets": {},
     "nuid": "d4769339-bc34-431f-bbff-96bafc1c107e",
     "showTitle": false,
     "title": ""
    }
   },
   "outputs": [
    {
     "output_type": "display_data",
     "data": {
      "text/html": [
       "<style scoped>\n",
       "  .ansiout {\n",
       "    display: block;\n",
       "    unicode-bidi: embed;\n",
       "    white-space: pre-wrap;\n",
       "    word-wrap: break-word;\n",
       "    word-break: break-all;\n",
       "    font-family: \"Source Code Pro\", \"Menlo\", monospace;;\n",
       "    font-size: 13px;\n",
       "    color: #555;\n",
       "    margin-left: 4px;\n",
       "    line-height: 19px;\n",
       "  }\n",
       "</style>\n",
       "<div class=\"ansiout\">Out[29]: (192, 192)</div>"
      ]
     },
     "metadata": {
      "application/vnd.databricks.v1+output": {
       "addedWidgets": {},
       "arguments": {},
       "data": "<div class=\"ansiout\">Out[29]: (192, 192)</div>",
       "datasetInfos": [],
       "metadata": {},
       "removedWidgets": [],
       "type": "html"
      }
     },
     "output_type": "display_data"
    }
   ],
   "source": [
    "len(x_data_test) , len(y_data_test)"
   ]
  },
  {
   "cell_type": "code",
   "execution_count": 0,
   "metadata": {
    "application/vnd.databricks.v1+cell": {
     "cellMetadata": {
      "byteLimit": 2048000,
      "rowLimit": 10000
     },
     "inputWidgets": {},
     "nuid": "9d2eb65b-1f44-410d-9f4d-53a17f562588",
     "showTitle": false,
     "title": ""
    }
   },
   "outputs": [
    {
     "output_type": "display_data",
     "data": {
      "text/html": [
       "<style scoped>\n",
       "  .ansiout {\n",
       "    display: block;\n",
       "    unicode-bidi: embed;\n",
       "    white-space: pre-wrap;\n",
       "    word-wrap: break-word;\n",
       "    word-break: break-all;\n",
       "    font-family: \"Source Code Pro\", \"Menlo\", monospace;;\n",
       "    font-size: 13px;\n",
       "    color: #555;\n",
       "    margin-left: 4px;\n",
       "    line-height: 19px;\n",
       "  }\n",
       "</style>\n",
       "<div class=\"ansiout\">\r1/6 [====&gt;.........................] - ETA: 0s - loss: 0.2501 - accuracy: 0.9375\b\b\b\b\b\b\b\b\b\b\b\b\b\b\b\b\b\b\b\b\b\b\b\b\b\b\b\b\b\b\b\b\b\b\b\b\b\b\b\b\b\b\b\b\b\b\b\b\b\b\b\b\b\b\b\b\b\b\b\b\b\b\b\b\b\b\b\b\b\b\b\b\b\b\b\b\b\b\b\b\r6/6 [==============================] - 0s 2ms/step - loss: 0.1690 - accuracy: 0.9635\n",
       "Test score: 0.16900961101055145\n",
       "Test accuracy: 0.9635416865348816\n",
       "</div>"
      ]
     },
     "metadata": {
      "application/vnd.databricks.v1+output": {
       "addedWidgets": {},
       "arguments": {},
       "data": "<div class=\"ansiout\">\r1/6 [====&gt;.........................] - ETA: 0s - loss: 0.2501 - accuracy: 0.9375\b\b\b\b\b\b\b\b\b\b\b\b\b\b\b\b\b\b\b\b\b\b\b\b\b\b\b\b\b\b\b\b\b\b\b\b\b\b\b\b\b\b\b\b\b\b\b\b\b\b\b\b\b\b\b\b\b\b\b\b\b\b\b\b\b\b\b\b\b\b\b\b\b\b\b\b\b\b\b\b\r6/6 [==============================] - 0s 2ms/step - loss: 0.1690 - accuracy: 0.9635\nTest score: 0.16900961101055145\nTest accuracy: 0.9635416865348816\n</div>",
       "datasetInfos": [],
       "metadata": {},
       "removedWidgets": [],
       "type": "html"
      }
     },
     "output_type": "display_data"
    }
   ],
   "source": [
    "score, acc = model.evaluate(x_data_test, y_data_test)\n",
    "print('Test score:', score)\n",
    "print('Test accuracy:', acc)"
   ]
  },
  {
   "cell_type": "code",
   "execution_count": 0,
   "metadata": {
    "application/vnd.databricks.v1+cell": {
     "cellMetadata": {
      "byteLimit": 2048000,
      "rowLimit": 10000
     },
     "inputWidgets": {},
     "nuid": "523bf9d6-e1d7-44a7-b650-a6ea8c3d6a86",
     "showTitle": false,
     "title": ""
    }
   },
   "outputs": [
    {
     "output_type": "display_data",
     "data": {
      "text/html": [
       "<style scoped>\n",
       "  .ansiout {\n",
       "    display: block;\n",
       "    unicode-bidi: embed;\n",
       "    white-space: pre-wrap;\n",
       "    word-wrap: break-word;\n",
       "    word-break: break-all;\n",
       "    font-family: \"Source Code Pro\", \"Menlo\", monospace;;\n",
       "    font-size: 13px;\n",
       "    color: #555;\n",
       "    margin-left: 4px;\n",
       "    line-height: 19px;\n",
       "  }\n",
       "</style>\n",
       "<div class=\"ansiout\">&lt;command-556958884330262&gt;:2: SettingWithCopyWarning: \n",
       "A value is trying to be set on a copy of a slice from a DataFrame.\n",
       "Try using .loc[row_indexer,col_indexer] = value instead\n",
       "\n",
       "See the caveats in the documentation: https://pandas.pydata.org/pandas-docs/stable/user_guide/indexing.html#returning-a-view-versus-a-copy\n",
       "  df4[&#39;COST&#39;] = pd.to_numeric(df2[&#39;COST&#39;], errors=&#39;coerce&#39;)\n",
       "</div>"
      ]
     },
     "metadata": {
      "application/vnd.databricks.v1+output": {
       "addedWidgets": {},
       "arguments": {},
       "data": "<div class=\"ansiout\">&lt;command-556958884330262&gt;:2: SettingWithCopyWarning: \nA value is trying to be set on a copy of a slice from a DataFrame.\nTry using .loc[row_indexer,col_indexer] = value instead\n\nSee the caveats in the documentation: https://pandas.pydata.org/pandas-docs/stable/user_guide/indexing.html#returning-a-view-versus-a-copy\n  df4[&#39;COST&#39;] = pd.to_numeric(df2[&#39;COST&#39;], errors=&#39;coerce&#39;)\n</div>",
       "datasetInfos": [],
       "metadata": {},
       "removedWidgets": [],
       "type": "html"
      }
     },
     "output_type": "display_data"
    }
   ],
   "source": [
    "df4 = df2[['COST','PRICE','VENDOR','BRAND','PRD_CATEGORY','PRD_ORIGIN','PUBLISHER','QTY_SALES']]\n",
    "df4['COST'] = pd.to_numeric(df2['COST'], errors='coerce')\n",
    "df4 = df4.dropna(subset=['COST'])\n",
    "df4['COST'] = df4['COST'].astype(float)\n",
    "df4['PRICE'] = df4['PRICE'].astype(float)\n",
    "df4 = pd.get_dummies(df4, prefix=\"cat\", columns=[\"VENDOR\",\"BRAND\",\"PRD_CATEGORY\",\"PRD_ORIGIN\",\"PUBLISHER\"], drop_first=False)\n",
    "df4['QTY_SALES'] = minmax_scale(df4[\"QTY_SALES\"], feature_range=(0, 1), axis=0, copy=True)"
   ]
  },
  {
   "cell_type": "code",
   "execution_count": 0,
   "metadata": {
    "application/vnd.databricks.v1+cell": {
     "cellMetadata": {
      "byteLimit": 2048000,
      "rowLimit": 10000
     },
     "inputWidgets": {},
     "nuid": "10aeec1f-8a87-4998-b08c-2667d28601f3",
     "showTitle": false,
     "title": ""
    }
   },
   "outputs": [
    {
     "output_type": "display_data",
     "data": {
      "text/html": [
       "<style scoped>\n",
       "  .ansiout {\n",
       "    display: block;\n",
       "    unicode-bidi: embed;\n",
       "    white-space: pre-wrap;\n",
       "    word-wrap: break-word;\n",
       "    word-break: break-all;\n",
       "    font-family: \"Source Code Pro\", \"Menlo\", monospace;;\n",
       "    font-size: 13px;\n",
       "    color: #555;\n",
       "    margin-left: 4px;\n",
       "    line-height: 19px;\n",
       "  }\n",
       "</style>\n",
       "<div class=\"ansiout\"></div>"
      ]
     },
     "metadata": {
      "application/vnd.databricks.v1+output": {
       "addedWidgets": {},
       "arguments": {},
       "data": "<div class=\"ansiout\"></div>",
       "datasetInfos": [],
       "metadata": {},
       "removedWidgets": [],
       "type": "html"
      }
     },
     "output_type": "display_data"
    }
   ],
   "source": [
    "y = df4['QTY_SALES'].apply(lambda x: categorizeSales(threshold, x))\n",
    "x = df4.loc[:, ~df4.columns.isin(['QTY_SALES'])]"
   ]
  },
  {
   "cell_type": "code",
   "execution_count": 0,
   "metadata": {
    "application/vnd.databricks.v1+cell": {
     "cellMetadata": {
      "byteLimit": 2048000,
      "rowLimit": 10000
     },
     "inputWidgets": {},
     "nuid": "a754d3c9-bca1-41dd-ac37-7e1a62665109",
     "showTitle": false,
     "title": ""
    }
   },
   "outputs": [
    {
     "output_type": "display_data",
     "data": {
      "text/html": [
       "<style scoped>\n",
       "  .ansiout {\n",
       "    display: block;\n",
       "    unicode-bidi: embed;\n",
       "    white-space: pre-wrap;\n",
       "    word-wrap: break-word;\n",
       "    word-break: break-all;\n",
       "    font-family: \"Source Code Pro\", \"Menlo\", monospace;;\n",
       "    font-size: 13px;\n",
       "    color: #555;\n",
       "    margin-left: 4px;\n",
       "    line-height: 19px;\n",
       "  }\n",
       "</style>\n",
       "<div class=\"ansiout\">\r 1/36 [..............................] - ETA: 4s - loss: 0.0103 - accuracy: 1.0000\b\b\b\b\b\b\b\b\b\b\b\b\b\b\b\b\b\b\b\b\b\b\b\b\b\b\b\b\b\b\b\b\b\b\b\b\b\b\b\b\b\b\b\b\b\b\b\b\b\b\b\b\b\b\b\b\b\b\b\b\b\b\b\b\b\b\b\b\b\b\b\b\b\b\b\b\b\b\b\b\b\b\r20/36 [===============&gt;..............] - ETA: 0s - loss: 0.1239 - accuracy: 0.9922\b\b\b\b\b\b\b\b\b\b\b\b\b\b\b\b\b\b\b\b\b\b\b\b\b\b\b\b\b\b\b\b\b\b\b\b\b\b\b\b\b\b\b\b\b\b\b\b\b\b\b\b\b\b\b\b\b\b\b\b\b\b\b\b\b\b\b\b\b\b\b\b\b\b\b\b\b\b\b\b\b\b\r36/36 [==============================] - 0s 2ms/step - loss: 0.1438 - accuracy: 0.9894\n",
       "Test score: 0.14380420744419098\n",
       "Test accuracy: 0.989371120929718\n",
       "</div>"
      ]
     },
     "metadata": {
      "application/vnd.databricks.v1+output": {
       "addedWidgets": {},
       "arguments": {},
       "data": "<div class=\"ansiout\">\r 1/36 [..............................] - ETA: 4s - loss: 0.0103 - accuracy: 1.0000\b\b\b\b\b\b\b\b\b\b\b\b\b\b\b\b\b\b\b\b\b\b\b\b\b\b\b\b\b\b\b\b\b\b\b\b\b\b\b\b\b\b\b\b\b\b\b\b\b\b\b\b\b\b\b\b\b\b\b\b\b\b\b\b\b\b\b\b\b\b\b\b\b\b\b\b\b\b\b\b\b\b\r20/36 [===============&gt;..............] - ETA: 0s - loss: 0.1239 - accuracy: 0.9922\b\b\b\b\b\b\b\b\b\b\b\b\b\b\b\b\b\b\b\b\b\b\b\b\b\b\b\b\b\b\b\b\b\b\b\b\b\b\b\b\b\b\b\b\b\b\b\b\b\b\b\b\b\b\b\b\b\b\b\b\b\b\b\b\b\b\b\b\b\b\b\b\b\b\b\b\b\b\b\b\b\b\r36/36 [==============================] - 0s 2ms/step - loss: 0.1438 - accuracy: 0.9894\nTest score: 0.14380420744419098\nTest accuracy: 0.989371120929718\n</div>",
       "datasetInfos": [],
       "metadata": {},
       "removedWidgets": [],
       "type": "html"
      }
     },
     "output_type": "display_data"
    }
   ],
   "source": [
    "score, acc = model.evaluate(x, y)\n",
    "print('Test score:', score)\n",
    "print('Test accuracy:', acc)"
   ]
  },
  {
   "cell_type": "code",
   "execution_count": 0,
   "metadata": {
    "application/vnd.databricks.v1+cell": {
     "cellMetadata": {
      "byteLimit": 2048000,
      "rowLimit": 10000
     },
     "inputWidgets": {},
     "nuid": "38a6ac66-613b-4428-b60f-fc8e977a75c2",
     "showTitle": false,
     "title": ""
    }
   },
   "outputs": [
    {
     "output_type": "display_data",
     "data": {
      "text/html": [
       "<style scoped>\n",
       "  .ansiout {\n",
       "    display: block;\n",
       "    unicode-bidi: embed;\n",
       "    white-space: pre-wrap;\n",
       "    word-wrap: break-word;\n",
       "    word-break: break-all;\n",
       "    font-family: \"Source Code Pro\", \"Menlo\", monospace;;\n",
       "    font-size: 13px;\n",
       "    color: #555;\n",
       "    margin-left: 4px;\n",
       "    line-height: 19px;\n",
       "  }\n",
       "</style>\n",
       "<div class=\"ansiout\"></div>"
      ]
     },
     "metadata": {
      "application/vnd.databricks.v1+output": {
       "addedWidgets": {},
       "arguments": {},
       "data": "<div class=\"ansiout\"></div>",
       "datasetInfos": [],
       "metadata": {},
       "removedWidgets": [],
       "type": "html"
      }
     },
     "output_type": "display_data"
    }
   ],
   "source": [
    "y_pred = np.round(model.predict(x))\n",
    "y_pred = y_pred.astype(\"float64\")"
   ]
  },
  {
   "cell_type": "code",
   "execution_count": 0,
   "metadata": {
    "application/vnd.databricks.v1+cell": {
     "cellMetadata": {
      "byteLimit": 2048000,
      "rowLimit": 10000
     },
     "inputWidgets": {},
     "nuid": "e828730d-dd24-4a1c-b144-845d950ec04d",
     "showTitle": false,
     "title": ""
    }
   },
   "outputs": [
    {
     "output_type": "display_data",
     "data": {
      "text/html": [
       "<style scoped>\n",
       "  .ansiout {\n",
       "    display: block;\n",
       "    unicode-bidi: embed;\n",
       "    white-space: pre-wrap;\n",
       "    word-wrap: break-word;\n",
       "    word-break: break-all;\n",
       "    font-family: \"Source Code Pro\", \"Menlo\", monospace;;\n",
       "    font-size: 13px;\n",
       "    color: #555;\n",
       "    margin-left: 4px;\n",
       "    line-height: 19px;\n",
       "  }\n",
       "</style>\n",
       "<div class=\"ansiout\">Out[35]: 0.0</div>"
      ]
     },
     "metadata": {
      "application/vnd.databricks.v1+output": {
       "addedWidgets": {},
       "arguments": {},
       "data": "<div class=\"ansiout\">Out[35]: 0.0</div>",
       "datasetInfos": [],
       "metadata": {},
       "removedWidgets": [],
       "type": "html"
      }
     },
     "output_type": "display_data"
    }
   ],
   "source": [
    "np.nanmax(y_pred)"
   ]
  },
  {
   "cell_type": "code",
   "execution_count": 0,
   "metadata": {
    "application/vnd.databricks.v1+cell": {
     "cellMetadata": {
      "byteLimit": 2048000,
      "rowLimit": 10000
     },
     "inputWidgets": {},
     "nuid": "29669ee9-c92b-4bb5-bb0d-f5061dcf7cee",
     "showTitle": false,
     "title": ""
    }
   },
   "outputs": [
    {
     "output_type": "display_data",
     "data": {
      "text/html": [
       "<style scoped>\n",
       "  .ansiout {\n",
       "    display: block;\n",
       "    unicode-bidi: embed;\n",
       "    white-space: pre-wrap;\n",
       "    word-wrap: break-word;\n",
       "    word-break: break-all;\n",
       "    font-family: \"Source Code Pro\", \"Menlo\", monospace;;\n",
       "    font-size: 13px;\n",
       "    color: #555;\n",
       "    margin-left: 4px;\n",
       "    line-height: 19px;\n",
       "  }\n",
       "</style>\n",
       "<div class=\"ansiout\">Out[26]: 0       0.0\n",
       "10      0.0\n",
       "11      0.0\n",
       "12      0.0\n",
       "13      0.0\n",
       "       ... \n",
       "1520    0.0\n",
       "1521    0.0\n",
       "1522    0.0\n",
       "1523    0.0\n",
       "1524    0.0\n",
       "Name: QTY_SALES, Length: 1129, dtype: float64</div>"
      ]
     },
     "metadata": {
      "application/vnd.databricks.v1+output": {
       "addedWidgets": {},
       "arguments": {},
       "data": "<div class=\"ansiout\">Out[26]: 0       0.0\n10      0.0\n11      0.0\n12      0.0\n13      0.0\n       ... \n1520    0.0\n1521    0.0\n1522    0.0\n1523    0.0\n1524    0.0\nName: QTY_SALES, Length: 1129, dtype: float64</div>",
       "datasetInfos": [],
       "metadata": {},
       "removedWidgets": [],
       "type": "html"
      }
     },
     "output_type": "display_data"
    }
   ],
   "source": [
    "y"
   ]
  },
  {
   "cell_type": "code",
   "execution_count": 0,
   "metadata": {
    "application/vnd.databricks.v1+cell": {
     "cellMetadata": {
      "byteLimit": 2048000,
      "rowLimit": 10000
     },
     "inputWidgets": {},
     "nuid": "5befd39d-17b7-49b8-a36b-19dc925597da",
     "showTitle": false,
     "title": ""
    }
   },
   "outputs": [
    {
     "output_type": "display_data",
     "data": {
      "text/html": [
       "<style scoped>\n",
       "  .ansiout {\n",
       "    display: block;\n",
       "    unicode-bidi: embed;\n",
       "    white-space: pre-wrap;\n",
       "    word-wrap: break-word;\n",
       "    word-break: break-all;\n",
       "    font-family: \"Source Code Pro\", \"Menlo\", monospace;;\n",
       "    font-size: 13px;\n",
       "    color: #555;\n",
       "    margin-left: 4px;\n",
       "    line-height: 19px;\n",
       "  }\n",
       "</style>\n",
       "<div class=\"ansiout\">/databricks/python/lib/python3.8/site-packages/sklearn/metrics/_classification.py:1245: UndefinedMetricWarning: Precision and F-score are ill-defined and being set to 0.0 in labels with no predicted samples. Use `zero_division` parameter to control this behavior.\n",
       "  _warn_prf(average, modifier, msg_start, len(result))\n",
       "/databricks/python/lib/python3.8/site-packages/sklearn/metrics/_classification.py:1245: UndefinedMetricWarning: Precision and F-score are ill-defined and being set to 0.0 in labels with no predicted samples. Use `zero_division` parameter to control this behavior.\n",
       "  _warn_prf(average, modifier, msg_start, len(result))\n",
       "/databricks/python/lib/python3.8/site-packages/sklearn/metrics/_classification.py:1245: UndefinedMetricWarning: Precision and F-score are ill-defined and being set to 0.0 in labels with no predicted samples. Use `zero_division` parameter to control this behavior.\n",
       "  _warn_prf(average, modifier, msg_start, len(result))\n",
       "              precision    recall  f1-score   support\n",
       "\n",
       "     class 0       0.99      1.00      0.99      1117\n",
       "     class 1       0.00      0.00      0.00        12\n",
       "\n",
       "    accuracy                           0.99      1129\n",
       "   macro avg       0.49      0.50      0.50      1129\n",
       "weighted avg       0.98      0.99      0.98      1129\n",
       "\n",
       "</div>"
      ]
     },
     "metadata": {
      "application/vnd.databricks.v1+output": {
       "addedWidgets": {},
       "arguments": {},
       "data": "<div class=\"ansiout\">/databricks/python/lib/python3.8/site-packages/sklearn/metrics/_classification.py:1245: UndefinedMetricWarning: Precision and F-score are ill-defined and being set to 0.0 in labels with no predicted samples. Use `zero_division` parameter to control this behavior.\n  _warn_prf(average, modifier, msg_start, len(result))\n/databricks/python/lib/python3.8/site-packages/sklearn/metrics/_classification.py:1245: UndefinedMetricWarning: Precision and F-score are ill-defined and being set to 0.0 in labels with no predicted samples. Use `zero_division` parameter to control this behavior.\n  _warn_prf(average, modifier, msg_start, len(result))\n/databricks/python/lib/python3.8/site-packages/sklearn/metrics/_classification.py:1245: UndefinedMetricWarning: Precision and F-score are ill-defined and being set to 0.0 in labels with no predicted samples. Use `zero_division` parameter to control this behavior.\n  _warn_prf(average, modifier, msg_start, len(result))\n              precision    recall  f1-score   support\n\n     class 0       0.99      1.00      0.99      1117\n     class 1       0.00      0.00      0.00        12\n\n    accuracy                           0.99      1129\n   macro avg       0.49      0.50      0.50      1129\nweighted avg       0.98      0.99      0.98      1129\n\n</div>",
       "datasetInfos": [],
       "metadata": {},
       "removedWidgets": [],
       "type": "html"
      }
     },
     "output_type": "display_data"
    }
   ],
   "source": [
    "target_names = ['class 0', 'class 1']\n",
    "print(classification_report(y, y_pred, target_names=target_names))"
   ]
  },
  {
   "cell_type": "code",
   "execution_count": 0,
   "metadata": {
    "application/vnd.databricks.v1+cell": {
     "cellMetadata": {
      "byteLimit": 2048000,
      "rowLimit": 10000
     },
     "inputWidgets": {},
     "nuid": "6ec26e6e-d648-4efa-b099-d5cffd73c304",
     "showTitle": false,
     "title": ""
    }
   },
   "outputs": [
    {
     "output_type": "display_data",
     "data": {
      "text/html": [
       "<style scoped>\n",
       "  .ansiout {\n",
       "    display: block;\n",
       "    unicode-bidi: embed;\n",
       "    white-space: pre-wrap;\n",
       "    word-wrap: break-word;\n",
       "    word-break: break-all;\n",
       "    font-family: \"Source Code Pro\", \"Menlo\", monospace;;\n",
       "    font-size: 13px;\n",
       "    color: #555;\n",
       "    margin-left: 4px;\n",
       "    line-height: 19px;\n",
       "  }\n",
       "</style>\n",
       "<div class=\"ansiout\"></div>"
      ]
     },
     "metadata": {
      "application/vnd.databricks.v1+output": {
       "addedWidgets": {},
       "arguments": {},
       "data": "<div class=\"ansiout\"></div>",
       "datasetInfos": [],
       "metadata": {},
       "removedWidgets": [],
       "type": "html"
      }
     },
     "output_type": "display_data"
    }
   ],
   "source": [
    "def runModel(df_train, df_test, model ,threshold,accuracy):\n",
    "    x_train = df_train.drop(labels=['QTY_SALES'],axis=1)\n",
    "    y_train = df_train[\"QTY_SALES\"].apply(lambda x: categorizeSales(threshold, x))\n",
    "\n",
    "    x_test = df_test.drop(labels=['QTY_SALES'],axis=1)\n",
    "    y_test = df_test[\"QTY_SALES\"].apply(lambda x: categorizeSales(threshold, x))\n",
    "\n",
    "    model.fit(x=x_train, y=y_train, epochs=100,verbose=0)\n",
    "\n",
    "    score, acc = model.evaluate(x_test, y_test)\n",
    "    print(\"Threshold: {}\".format(str(threshold)))\n",
    "    print('Test score:', score)\n",
    "    print('Test accuracy:', acc)\n",
    "    target_names = ['class 0', 'class 1']\n",
    "\n",
    "    y_train_pred = np.round(model.predict(x_train))\n",
    "    y_train_pred = y_train_pred.astype(\"float64\")\n",
    "    print(classification_report(y_train, y_train_pred, target_names=target_names))\n",
    "\n",
    "    y_pred = np.round(model.predict(x_test))\n",
    "    y_pred = y_pred.astype(\"float64\")\n",
    "    print(classification_report(y_test, y_pred, target_names=target_names))\n",
    "\n",
    "    accuracy= accuracy.append(acc)"
   ]
  },
  {
   "cell_type": "code",
   "execution_count": 0,
   "metadata": {
    "application/vnd.databricks.v1+cell": {
     "cellMetadata": {
      "byteLimit": 2048000,
      "rowLimit": 10000
     },
     "inputWidgets": {},
     "nuid": "39608d8d-c32e-4cdd-9834-c367efa53f48",
     "showTitle": false,
     "title": ""
    }
   },
   "outputs": [
    {
     "output_type": "display_data",
     "data": {
      "text/html": [
       "<style scoped>\n",
       "  .ansiout {\n",
       "    display: block;\n",
       "    unicode-bidi: embed;\n",
       "    white-space: pre-wrap;\n",
       "    word-wrap: break-word;\n",
       "    word-break: break-all;\n",
       "    font-family: \"Source Code Pro\", \"Menlo\", monospace;;\n",
       "    font-size: 13px;\n",
       "    color: #555;\n",
       "    margin-left: 4px;\n",
       "    line-height: 19px;\n",
       "  }\n",
       "</style>\n",
       "<div class=\"ansiout\">INFO:tensorflow:Assets written to: /tmp/tmpao10tigx/model/data/model/assets\n",
       "\r 1/36 [..............................] - ETA: 0s - loss: 1.1107 - accuracy: 0.7188\b\b\b\b\b\b\b\b\b\b\b\b\b\b\b\b\b\b\b\b\b\b\b\b\b\b\b\b\b\b\b\b\b\b\b\b\b\b\b\b\b\b\b\b\b\b\b\b\b\b\b\b\b\b\b\b\b\b\b\b\b\b\b\b\b\b\b\b\b\b\b\b\b\b\b\b\b\b\b\b\b\b\r27/36 [=====================&gt;........] - ETA: 0s - loss: 0.4617 - accuracy: 0.8611\b\b\b\b\b\b\b\b\b\b\b\b\b\b\b\b\b\b\b\b\b\b\b\b\b\b\b\b\b\b\b\b\b\b\b\b\b\b\b\b\b\b\b\b\b\b\b\b\b\b\b\b\b\b\b\b\b\b\b\b\b\b\b\b\b\b\b\b\b\b\b\b\b\b\b\b\b\b\b\b\b\b\r36/36 [==============================] - 0s 2ms/step - loss: 0.4682 - accuracy: 0.8707\n",
       "Threshold: 0.01\n",
       "Test score: 0.46815359592437744\n",
       "Test accuracy: 0.8706820011138916\n",
       "              precision    recall  f1-score   support\n",
       "\n",
       "     class 0       0.75      0.41      0.53       111\n",
       "     class 1       0.93      0.98      0.95       845\n",
       "\n",
       "    accuracy                           0.92       956\n",
       "   macro avg       0.84      0.69      0.74       956\n",
       "weighted avg       0.91      0.92      0.90       956\n",
       "\n",
       "              precision    recall  f1-score   support\n",
       "\n",
       "     class 0       0.10      0.02      0.04       122\n",
       "     class 1       0.89      0.97      0.93      1007\n",
       "\n",
       "    accuracy                           0.87      1129\n",
       "   macro avg       0.50      0.50      0.49      1129\n",
       "weighted avg       0.81      0.87      0.83      1129\n",
       "\n",
       "INFO:tensorflow:Assets written to: /tmp/tmpytwd_ly0/model/data/model/assets\n",
       "\r 1/36 [..............................] - ETA: 0s - loss: 1.4723 - accuracy: 0.5000\b\b\b\b\b\b\b\b\b\b\b\b\b\b\b\b\b\b\b\b\b\b\b\b\b\b\b\b\b\b\b\b\b\b\b\b\b\b\b\b\b\b\b\b\b\b\b\b\b\b\b\b\b\b\b\b\b\b\b\b\b\b\b\b\b\b\b\b\b\b\b\b\b\b\b\b\b\b\b\b\b\b\r29/36 [=======================&gt;......] - ETA: 0s - loss: 0.9309 - accuracy: 0.6832\b\b\b\b\b\b\b\b\b\b\b\b\b\b\b\b\b\b\b\b\b\b\b\b\b\b\b\b\b\b\b\b\b\b\b\b\b\b\b\b\b\b\b\b\b\b\b\b\b\b\b\b\b\b\b\b\b\b\b\b\b\b\b\b\b\b\b\b\b\b\b\b\b\b\b\b\b\b\b\b\b\b\r36/36 [==============================] - 0s 2ms/step - loss: 0.8964 - accuracy: 0.6891\n",
       "Threshold: 0.02\n",
       "Test score: 0.8963572978973389\n",
       "Test accuracy: 0.6891053915023804\n",
       "              precision    recall  f1-score   support\n",
       "\n",
       "     class 0       0.85      0.70      0.77       302\n",
       "     class 1       0.87      0.94      0.91       654\n",
       "\n",
       "    accuracy                           0.87       956\n",
       "   macro avg       0.86      0.82      0.84       956\n",
       "weighted avg       0.86      0.87      0.86       956\n",
       "\n",
       "              precision    recall  f1-score   support\n",
       "\n",
       "     class 0       0.46      0.36      0.40       331\n",
       "     class 1       0.76      0.83      0.79       798\n",
       "\n",
       "    accuracy                           0.69      1129\n",
       "   macro avg       0.61      0.59      0.60      1129\n",
       "weighted avg       0.67      0.69      0.68      1129\n",
       "\n",
       "INFO:tensorflow:Assets written to: /tmp/tmp6xkqzeh8/model/data/model/assets\n",
       "\r 1/36 [..............................] - ETA: 0s - loss: 1.4203 - accuracy: 0.4375\b\b\b\b\b\b\b\b\b\b\b\b\b\b\b\b\b\b\b\b\b\b\b\b\b\b\b\b\b\b\b\b\b\b\b\b\b\b\b\b\b\b\b\b\b\b\b\b\b\b\b\b\b\b\b\b\b\b\b\b\b\b\b\b\b\b\b\b\b\b\b\b\b\b\b\b\b\b\b\b\b\b\r29/36 [=======================&gt;......] - ETA: 0s - loss: 0.9682 - accuracy: 0.6670\b\b\b\b\b\b\b\b\b\b\b\b\b\b\b\b\b\b\b\b\b\b\b\b\b\b\b\b\b\b\b\b\b\b\b\b\b\b\b\b\b\b\b\b\b\b\b\b\b\b\b\b\b\b\b\b\b\b\b\b\b\b\b\b\b\b\b\b\b\b\b\b\b\b\b\b\b\b\b\b\b\b\r36/36 [==============================] - 0s 2ms/step - loss: 1.0268 - accuracy: 0.6572\n",
       "Threshold: 0.03\n",
       "Test score: 1.0268242359161377\n",
       "Test accuracy: 0.6572187542915344\n",
       "              precision    recall  f1-score   support\n",
       "\n",
       "     class 0       0.88      0.72      0.79       492\n",
       "     class 1       0.75      0.90      0.82       464\n",
       "\n",
       "    accuracy                           0.81       956\n",
       "   macro avg       0.82      0.81      0.81       956\n",
       "weighted avg       0.82      0.81      0.81       956\n",
       "\n",
       "              precision    recall  f1-score   support\n",
       "\n",
       "     class 0       0.66      0.61      0.64       550\n",
       "     class 1       0.66      0.70      0.68       579\n",
       "\n",
       "    accuracy                           0.66      1129\n",
       "   macro avg       0.66      0.66      0.66      1129\n",
       "weighted avg       0.66      0.66      0.66      1129\n",
       "\n",
       "INFO:tensorflow:Assets written to: /tmp/tmp3lj52qm2/model/data/model/assets\n",
       "\r 1/36 [..............................] - ETA: 0s - loss: 0.6277 - accuracy: 0.6562\b\b\b\b\b\b\b\b\b\b\b\b\b\b\b\b\b\b\b\b\b\b\b\b\b\b\b\b\b\b\b\b\b\b\b\b\b\b\b\b\b\b\b\b\b\b\b\b\b\b\b\b\b\b\b\b\b\b\b\b\b\b\b\b\b\b\b\b\b\b\b\b\b\b\b\b\b\b\b\b\b\b\r29/36 [=======================&gt;......] - ETA: 0s - loss: 0.8847 - accuracy: 0.6552\b\b\b\b\b\b\b\b\b\b\b\b\b\b\b\b\b\b\b\b\b\b\b\b\b\b\b\b\b\b\b\b\b\b\b\b\b\b\b\b\b\b\b\b\b\b\b\b\b\b\b\b\b\b\b\b\b\b\b\b\b\b\b\b\b\b\b\b\b\b\b\b\b\b\b\b\b\b\b\b\b\b\r36/36 [==============================] - 0s 2ms/step - loss: 1.0085 - accuracy: 0.6377\n",
       "Threshold: 0.04\n",
       "Test score: 1.0085152387619019\n",
       "Test accuracy: 0.6377325057983398\n",
       "              precision    recall  f1-score   support\n",
       "\n",
       "     class 0       0.84      0.88      0.86       617\n",
       "     class 1       0.77      0.70      0.73       339\n",
       "\n",
       "    accuracy                           0.82       956\n",
       "   macro avg       0.81      0.79      0.80       956\n",
       "weighted avg       0.82      0.82      0.82       956\n",
       "\n",
       "              precision    recall  f1-score   support\n",
       "\n",
       "     class 0       0.67      0.79      0.72       684\n",
       "     class 1       0.55      0.41      0.47       445\n",
       "\n",
       "    accuracy                           0.64      1129\n",
       "   macro avg       0.61      0.60      0.60      1129\n",
       "weighted avg       0.63      0.64      0.62      1129\n",
       "\n",
       "INFO:tensorflow:Assets written to: /tmp/tmpaf0bzwo0/model/data/model/assets\n",
       "\r 1/36 [..............................] - ETA: 0s - loss: 0.6279 - accuracy: 0.8125\b\b\b\b\b\b\b\b\b\b\b\b\b\b\b\b\b\b\b\b\b\b\b\b\b\b\b\b\b\b\b\b\b\b\b\b\b\b\b\b\b\b\b\b\b\b\b\b\b\b\b\b\b\b\b\b\b\b\b\b\b\b\b\b\b\b\b\b\b\b\b\b\b\b\b\b\b\b\b\b\b\b\r29/36 [=======================&gt;......] - ETA: 0s - loss: 1.0589 - accuracy: 0.7123\b\b\b\b\b\b\b\b\b\b\b\b\b\b\b\b\b\b\b\b\b\b\b\b\b\b\b\b\b\b\b\b\b\b\b\b\b\b\b\b\b\b\b\b\b\b\b\b\b\b\b\b\b\b\b\b\b\b\b\b\b\b\b\b\b\b\b\b\b\b\b\b\b\b\b\b\b\b\b\b\b\b\r36/36 [==============================] - 0s 2ms/step - loss: 1.3637 - accuracy: 0.6891\n",
       "Threshold: 0.05\n",
       "Test score: 1.3637114763259888\n",
       "Test accuracy: 0.6891053915023804\n",
       "              precision    recall  f1-score   support\n",
       "\n",
       "     class 0       0.86      0.94      0.90       695\n",
       "     class 1       0.78      0.59      0.67       261\n",
       "\n",
       "    accuracy                           0.84       956\n",
       "   macro avg       0.82      0.76      0.78       956\n",
       "weighted avg       0.84      0.84      0.83       956\n",
       "\n",
       "              precision    recall  f1-score   support\n",
       "\n",
       "     class 0       0.76      0.81      0.79       798\n",
       "     class 1       0.46      0.40      0.43       331\n",
       "\n",
       "    accuracy                           0.69      1129\n",
       "   macro avg       0.61      0.60      0.61      1129\n",
       "weighted avg       0.68      0.69      0.68      1129\n",
       "\n",
       "INFO:tensorflow:Assets written to: /tmp/tmpxta1bt6e/model/data/model/assets\n",
       "\r 1/36 [..............................] - ETA: 0s - loss: 1.0877 - accuracy: 0.5938\b\b\b\b\b\b\b\b\b\b\b\b\b\b\b\b\b\b\b\b\b\b\b\b\b\b\b\b\b\b\b\b\b\b\b\b\b\b\b\b\b\b\b\b\b\b\b\b\b\b\b\b\b\b\b\b\b\b\b\b\b\b\b\b\b\b\b\b\b\b\b\b\b\b\b\b\b\b\b\b\b\b\r29/36 [=======================&gt;......] - ETA: 0s - loss: 1.4375 - accuracy: 0.7241\b\b\b\b\b\b\b\b\b\b\b\b\b\b\b\b\b\b\b\b\b\b\b\b\b\b\b\b\b\b\b\b\b\b\b\b\b\b\b\b\b\b\b\b\b\b\b\b\b\b\b\b\b\b\b\b\b\b\b\b\b\b\b\b\b\b\b\b\b\b\b\b\b\b\b\b\b\b\b\b\b\b\r36/36 [==============================] - 0s 2ms/step - loss: 1.7333 - accuracy: 0.6997\n",
       "Threshold: 0.06\n",
       "Test score: 1.7332606315612793\n",
       "Test accuracy: 0.6997342705726624\n",
       "              precision    recall  f1-score   support\n",
       "\n",
       "     class 0       0.87      0.97      0.92       753\n",
       "     class 1       0.79      0.47      0.59       203\n",
       "\n",
       "    accuracy                           0.86       956\n",
       "   macro avg       0.83      0.72      0.75       956\n",
       "weighted avg       0.85      0.86      0.85       956\n",
       "\n",
       "              precision    recall  f1-score   support\n",
       "\n",
       "     class 0       0.80      0.81      0.81       872\n",
       "     class 1       0.33      0.32      0.33       257\n",
       "\n",
       "    accuracy                           0.70      1129\n",
       "   macro avg       0.57      0.57      0.57      1129\n",
       "weighted avg       0.70      0.70      0.70      1129\n",
       "\n",
       "INFO:tensorflow:Assets written to: /tmp/tmp9h9u4oc7/model/data/model/assets\n",
       "\r 1/36 [..............................] - ETA: 0s - loss: 0.8458 - accuracy: 0.6875\b\b\b\b\b\b\b\b\b\b\b\b\b\b\b\b\b\b\b\b\b\b\b\b\b\b\b\b\b\b\b\b\b\b\b\b\b\b\b\b\b\b\b\b\b\b\b\b\b\b\b\b\b\b\b\b\b\b\b\b\b\b\b\b\b\b\b\b\b\b\b\b\b\b\b\b\b\b\b\b\b\b\r25/36 [===================&gt;..........] - ETA: 0s - loss: 1.9143 - accuracy: 0.7500\b\b\b\b\b\b\b\b\b\b\b\b\b\b\b\b\b\b\b\b\b\b\b\b\b\b\b\b\b\b\b\b\b\b\b\b\b\b\b\b\b\b\b\b\b\b\b\b\b\b\b\b\b\b\b\b\b\b\b\b\b\b\b\b\b\b\b\b\b\b\b\b\b\b\b\b\b\b\b\b\b\b\r36/36 [==============================] - 0s 2ms/step - loss: 2.0336 - accuracy: 0.7458\n",
       "Threshold: 0.07\n",
       "Test score: 2.033644914627075\n",
       "Test accuracy: 0.7457927465438843\n",
       "              precision    recall  f1-score   support\n",
       "\n",
       "     class 0       0.89      0.98      0.93       802\n",
       "     class 1       0.79      0.37      0.50       154\n",
       "\n",
       "    accuracy                           0.88       956\n",
       "   macro avg       0.84      0.68      0.72       956\n",
       "weighted avg       0.87      0.88      0.86       956\n",
       "\n",
       "              precision    recall  f1-score   support\n",
       "\n",
       "     class 0       0.85      0.84      0.85       935\n",
       "     class 1       0.27      0.27      0.27       194\n",
       "\n",
       "    accuracy                           0.75      1129\n",
       "   macro avg       0.56      0.56      0.56      1129\n",
       "weighted avg       0.75      0.75      0.75      1129\n",
       "\n",
       "INFO:tensorflow:Assets written to: /tmp/tmpuuxijc5k/model/data/model/assets\n",
       "\r 1/36 [..............................] - ETA: 0s - loss: 0.4702 - accuracy: 0.7188\b\b\b\b\b\b\b\b\b\b\b\b\b\b\b\b\b\b\b\b\b\b\b\b\b\b\b\b\b\b\b\b\b\b\b\b\b\b\b\b\b\b\b\b\b\b\b\b\b\b\b\b\b\b\b\b\b\b\b\b\b\b\b\b\b\b\b\b\b\b\b\b\b\b\b\b\b\b\b\b\b\b\r27/36 [=====================&gt;........] - ETA: 0s - loss: 1.1681 - accuracy: 0.8090\b\b\b\b\b\b\b\b\b\b\b\b\b\b\b\b\b\b\b\b\b\b\b\b\b\b\b\b\b\b\b\b\b\b\b\b\b\b\b\b\b\b\b\b\b\b\b\b\b\b\b\b\b\b\b\b\b\b\b\b\b\b\b\b\b\b\b\b\b\b\b\b\b\b\b\b\b\b\b\b\b\b\r36/36 [==============================] - 0s 2ms/step - loss: 1.3392 - accuracy: 0.7910\n",
       "Threshold: 0.08\n",
       "Test score: 1.339168906211853\n",
       "Test accuracy: 0.7909654378890991\n",
       "              precision    recall  f1-score   support\n",
       "\n",
       "     class 0       0.92      0.98      0.95       823\n",
       "     class 1       0.79      0.47      0.59       133\n",
       "\n",
       "    accuracy                           0.91       956\n",
       "   macro avg       0.86      0.72      0.77       956\n",
       "weighted avg       0.90      0.91      0.90       956\n",
       "\n",
       "              precision    recall  f1-score   support\n",
       "\n",
       "     class 0       0.90      0.86      0.88       982\n",
       "     class 1       0.26      0.33      0.29       147\n",
       "\n",
       "    accuracy                           0.79      1129\n",
       "   macro avg       0.58      0.60      0.59      1129\n",
       "weighted avg       0.81      0.79      0.80      1129\n",
       "\n",
       "INFO:tensorflow:Assets written to: /tmp/tmpb51rrlxu/model/data/model/assets\n",
       "\r 1/36 [..............................] - ETA: 0s - loss: 0.4690 - accuracy: 0.6250\b\b\b\b\b\b\b\b\b\b\b\b\b\b\b\b\b\b\b\b\b\b\b\b\b\b\b\b\b\b\b\b\b\b\b\b\b\b\b\b\b\b\b\b\b\b\b\b\b\b\b\b\b\b\b\b\b\b\b\b\b\b\b\b\b\b\b\b\b\b\b\b\b\b\b\b\b\b\b\b\b\b\r28/36 [======================&gt;.......] - ETA: 0s - loss: 1.4906 - accuracy: 0.8237\b\b\b\b\b\b\b\b\b\b\b\b\b\b\b\b\b\b\b\b\b\b\b\b\b\b\b\b\b\b\b\b\b\b\b\b\b\b\b\b\b\b\b\b\b\b\b\b\b\b\b\b\b\b\b\b\b\b\b\b\b\b\b\b\b\b\b\b\b\b\b\b\b\b\b\b\b\b\b\b\b\b\r36/36 [==============================] - 0s 2ms/step - loss: 1.7882 - accuracy: 0.7919\n",
       "Threshold: 0.09\n",
       "Test score: 1.7881759405136108\n",
       "Test accuracy: 0.7918512225151062\n",
       "              precision    recall  f1-score   support\n",
       "\n",
       "     class 0       0.93      1.00      0.96       844\n",
       "     class 1       0.98      0.42      0.59       112\n",
       "\n",
       "    accuracy                           0.93       956\n",
       "   macro avg       0.95      0.71      0.77       956\n",
       "weighted avg       0.93      0.93      0.92       956\n",
       "\n",
       "              precision    recall  f1-score   support\n",
       "\n",
       "     class 0       0.90      0.86      0.88      1009\n",
       "     class 1       0.16      0.23      0.19       120\n",
       "\n",
       "    accuracy                           0.79      1129\n",
       "   macro avg       0.53      0.54      0.53      1129\n",
       "weighted avg       0.82      0.79      0.81      1129\n",
       "\n",
       "INFO:tensorflow:Assets written to: /tmp/tmphgacwx_y/model/data/model/assets\n",
       "\r 1/36 [..............................] - ETA: 0s - loss: 0.8926 - accuracy: 0.6875\b\b\b\b\b\b\b\b\b\b\b\b\b\b\b\b\b\b\b\b\b\b\b\b\b\b\b\b\b\b\b\b\b\b\b\b\b\b\b\b\b\b\b\b\b\b\b\b\b\b\b\b\b\b\b\b\b\b\b\b\b\b\b\b\b\b\b\b\b\b\b\b\b\b\b\b\b\b\b\b\b\b\r30/36 [========================&gt;.....] - ETA: 0s - loss: 1.7153 - accuracy: 0.8250\b\b\b\b\b\b\b\b\b\b\b\b\b\b\b\b\b\b\b\b\b\b\b\b\b\b\b\b\b\b\b\b\b\b\b\b\b\b\b\b\b\b\b\b\b\b\b\b\b\b\b\b\b\b\b\b\b\b\b\b\b\b\b\b\b\b\b\b\b\b\b\b\b\b\b\b\b\b\b\b\b\b\r36/36 [==============================] - 0s 2ms/step - loss: 2.0387 - accuracy: 0.7945\n",
       "Threshold: 0.1\n",
       "Test score: 2.0386595726013184\n",
       "Test accuracy: 0.7945083975791931\n",
       "              precision    recall  f1-score   support\n",
       "\n",
       "     class 0       0.93      1.00      0.96       855\n",
       "     class 1       0.91      0.39      0.54       101\n",
       "\n",
       "    accuracy                           0.93       956\n",
       "   macro avg       0.92      0.69      0.75       956\n",
       "weighted avg       0.93      0.93      0.92       956\n",
       "\n",
       "              precision    recall  f1-score   support\n",
       "\n",
       "     class 0       0.91      0.86      0.88      1023\n",
       "     class 1       0.12      0.20      0.15       106\n",
       "\n",
       "    accuracy                           0.79      1129\n",
       "   macro avg       0.52      0.53      0.52      1129\n",
       "weighted avg       0.84      0.79      0.81      1129\n",
       "\n",
       "INFO:tensorflow:Assets written to: /tmp/tmpw8hm3nd4/model/data/model/assets\n",
       "\r 1/36 [..............................] - ETA: 0s - loss: 0.5202 - accuracy: 0.8750\b\b\b\b\b\b\b\b\b\b\b\b\b\b\b\b\b\b\b\b\b\b\b\b\b\b\b\b\b\b\b\b\b\b\b\b\b\b\b\b\b\b\b\b\b\b\b\b\b\b\b\b\b\b\b\b\b\b\b\b\b\b\b\b\b\b\b\b\b\b\b\b\b\b\b\b\b\b\b\b\b\b\r29/36 [=======================&gt;......] - ETA: 0s - loss: 1.6549 - accuracy: 0.8707\b\b\b\b\b\b\b\b\b\b\b\b\b\b\b\b\b\b\b\b\b\b\b\b\b\b\b\b\b\b\b\b\b\b\b\b\b\b\b\b\b\b\b\b\b\b\b\b\b\b\b\b\b\b\b\b\b\b\b\b\b\b\b\b\b\b\b\b\b\b\b\b\b\b\b\b\b\b\b\b\b\b\r36/36 [==============================] - 0s 2ms/step - loss: 2.0585 - accuracy: 0.8326\n",
       "Threshold: 0.11\n",
       "Test score: 2.058504104614258\n",
       "Test accuracy: 0.8325952291488647\n",
       "              precision    recall  f1-score   support\n",
       "\n",
       "     class 0       0.93      1.00      0.96       868\n",
       "     class 1       0.93      0.31      0.46        88\n",
       "\n",
       "    accuracy                           0.93       956\n",
       "   macro avg       0.93      0.65      0.71       956\n",
       "weighted avg       0.93      0.93      0.92       956\n",
       "\n",
       "              precision    recall  f1-score   support\n",
       "\n",
       "     class 0       0.93      0.89      0.91      1042\n",
       "     class 1       0.11      0.17      0.14        87\n",
       "\n",
       "    accuracy                           0.83      1129\n",
       "   macro avg       0.52      0.53      0.52      1129\n",
       "weighted avg       0.87      0.83      0.85      1129\n",
       "\n",
       "INFO:tensorflow:Assets written to: /tmp/tmpm66qhu30/model/data/model/assets\n",
       "\r 1/36 [..............................] - ETA: 0s - loss: 1.2306 - accuracy: 0.8750\b\b\b\b\b\b\b\b\b\b\b\b\b\b\b\b\b\b\b\b\b\b\b\b\b\b\b\b\b\b\b\b\b\b\b\b\b\b\b\b\b\b\b\b\b\b\b\b\b\b\b\b\b\b\b\b\b\b\b\b\b\b\b\b\b\b\b\b\b\b\b\b\b\b\b\b\b\b\b\b\b\b\r29/36 [=======================&gt;......] - ETA: 0s - loss: 1.9508 - accuracy: 0.8879\b\b\b\b\b\b\b\b\b\b\b\b\b\b\b\b\b\b\b\b\b\b\b\b\b\b\b\b\b\b\b\b\b\b\b\b\b\b\b\b\b\b\b\b\b\b\b\b\b\b\b\b\b\b\b\b\b\b\b\b\b\b\b\b\b\b\b\b\b\b\b\b\b\b\b\b\b\b\b\b\b\b\r36/36 [==============================] - 0s 2ms/step - loss: 2.5261 - accuracy: 0.8494\n",
       "Threshold: 0.12\n",
       "Test score: 2.5261335372924805\n",
       "Test accuracy: 0.8494242429733276\n",
       "              precision    recall  f1-score   support\n",
       "\n",
       "     class 0       0.94      1.00      0.97       877\n",
       "     class 1       0.97      0.35      0.52        79\n",
       "\n",
       "    accuracy                           0.95       956\n",
       "   macro avg       0.96      0.68      0.74       956\n",
       "weighted avg       0.95      0.95      0.93       956\n",
       "\n",
       "              precision    recall  f1-score   support\n",
       "\n",
       "     class 0       0.94      0.89      0.92      1055\n",
       "     class 1       0.12      0.20      0.15        74\n",
       "\n",
       "    accuracy                           0.85      1129\n",
       "   macro avg       0.53      0.55      0.53      1129\n",
       "weighted avg       0.89      0.85      0.87      1129\n",
       "\n",
       "INFO:tensorflow:Assets written to: /tmp/tmp3ag1bd63/model/data/model/assets\n",
       "\r 1/36 [..............................] - ETA: 0s - loss: 0.9279 - accuracy: 0.8750\b\b\b\b\b\b\b\b\b\b\b\b\b\b\b\b\b\b\b\b\b\b\b\b\b\b\b\b\b\b\b\b\b\b\b\b\b\b\b\b\b\b\b\b\b\b\b\b\b\b\b\b\b\b\b\b\b\b\b\b\b\b\b\b\b\b\b\b\b\b\b\b\b\b\b\b\b\b\b\b\b\b\r29/36 [=======================&gt;......] - ETA: 0s - loss: 2.0023 - accuracy: 0.8901\b\b\b\b\b\b\b\b\b\b\b\b\b\b\b\b\b\b\b\b\b\b\b\b\b\b\b\b\b\b\b\b\b\b\b\b\b\b\b\b\b\b\b\b\b\b\b\b\b\b\b\b\b\b\b\b\b\b\b\b\b\b\b\b\b\b\b\b\b\b\b\b\b\b\b\b\b\b\b\b\b\b\r36/36 [==============================] - 0s 2ms/step - loss: 2.6333 - accuracy: 0.8432\n",
       "Threshold: 0.13\n",
       "Test score: 2.6332578659057617\n",
       "Test accuracy: 0.8432241082191467\n",
       "              precision    recall  f1-score   support\n",
       "\n",
       "     class 0       0.96      1.00      0.98       886\n",
       "     class 1       1.00      0.50      0.67        70\n",
       "\n",
       "    accuracy                           0.96       956\n",
       "   macro avg       0.98      0.75      0.82       956\n",
       "weighted avg       0.96      0.96      0.96       956\n",
       "\n",
       "              precision    recall  f1-score   support\n",
       "\n",
       "     class 0       0.95      0.88      0.91      1064\n",
       "     class 1       0.08      0.17      0.11        65\n",
       "\n",
       "    accuracy                           0.84      1129\n",
       "   macro avg       0.51      0.53      0.51      1129\n",
       "weighted avg       0.90      0.84      0.87      1129\n",
       "\n",
       "INFO:tensorflow:Assets written to: /tmp/tmp0x_sxl9l/model/data/model/assets\n",
       "\r 1/36 [..............................] - ETA: 0s - loss: 0.7322 - accuracy: 0.9062\b\b\b\b\b\b\b\b\b\b\b\b\b\b\b\b\b\b\b\b\b\b\b\b\b\b\b\b\b\b\b\b\b\b\b\b\b\b\b\b\b\b\b\b\b\b\b\b\b\b\b\b\b\b\b\b\b\b\b\b\b\b\b\b\b\b\b\b\b\b\b\b\b\b\b\b\b\b\b\b\b\b\r26/36 [====================&gt;.........] - ETA: 0s - loss: 1.4263 - accuracy: 0.8810\b\b\b\b\b\b\b\b\b\b\b\b\b\b\b\b\b\b\b\b\b\b\b\b\b\b\b\b\b\b\b\b\b\b\b\b\b\b\b\b\b\b\b\b\b\b\b\b\b\b\b\b\b\b\b\b\b\b\b\b\b\b\b\b\b\b\b\b\b\b\b\b\b\b\b\b\b\b\b\b\b\b\r36/36 [==============================] - 0s 2ms/step - loss: 1.7612 - accuracy: 0.8539\n",
       "Threshold: 0.14\n",
       "Test score: 1.7612391710281372\n",
       "Test accuracy: 0.8538529872894287\n",
       "              precision    recall  f1-score   support\n",
       "\n",
       "     class 0       0.96      1.00      0.98       891\n",
       "     class 1       0.93      0.38      0.54        65\n",
       "\n",
       "    accuracy                           0.96       956\n",
       "   macro avg       0.94      0.69      0.76       956\n",
       "weighted avg       0.95      0.96      0.95       956\n",
       "\n",
       "              precision    recall  f1-score   support\n",
       "\n",
       "     class 0       0.95      0.90      0.92      1067\n",
       "     class 1       0.07      0.13      0.09        62\n",
       "\n",
       "    accuracy                           0.85      1129\n",
       "   macro avg       0.51      0.51      0.50      1129\n",
       "weighted avg       0.90      0.85      0.87      1129\n",
       "\n",
       "</div>"
      ]
     },
     "metadata": {
      "application/vnd.databricks.v1+output": {
       "addedWidgets": {},
       "arguments": {},
       "data": "<div class=\"ansiout\">INFO:tensorflow:Assets written to: /tmp/tmpao10tigx/model/data/model/assets\n\r 1/36 [..............................] - ETA: 0s - loss: 1.1107 - accuracy: 0.7188\b\b\b\b\b\b\b\b\b\b\b\b\b\b\b\b\b\b\b\b\b\b\b\b\b\b\b\b\b\b\b\b\b\b\b\b\b\b\b\b\b\b\b\b\b\b\b\b\b\b\b\b\b\b\b\b\b\b\b\b\b\b\b\b\b\b\b\b\b\b\b\b\b\b\b\b\b\b\b\b\b\b\r27/36 [=====================&gt;........] - ETA: 0s - loss: 0.4617 - accuracy: 0.8611\b\b\b\b\b\b\b\b\b\b\b\b\b\b\b\b\b\b\b\b\b\b\b\b\b\b\b\b\b\b\b\b\b\b\b\b\b\b\b\b\b\b\b\b\b\b\b\b\b\b\b\b\b\b\b\b\b\b\b\b\b\b\b\b\b\b\b\b\b\b\b\b\b\b\b\b\b\b\b\b\b\b\r36/36 [==============================] - 0s 2ms/step - loss: 0.4682 - accuracy: 0.8707\nThreshold: 0.01\nTest score: 0.46815359592437744\nTest accuracy: 0.8706820011138916\n              precision    recall  f1-score   support\n\n     class 0       0.75      0.41      0.53       111\n     class 1       0.93      0.98      0.95       845\n\n    accuracy                           0.92       956\n   macro avg       0.84      0.69      0.74       956\nweighted avg       0.91      0.92      0.90       956\n\n              precision    recall  f1-score   support\n\n     class 0       0.10      0.02      0.04       122\n     class 1       0.89      0.97      0.93      1007\n\n    accuracy                           0.87      1129\n   macro avg       0.50      0.50      0.49      1129\nweighted avg       0.81      0.87      0.83      1129\n\nINFO:tensorflow:Assets written to: /tmp/tmpytwd_ly0/model/data/model/assets\n\r 1/36 [..............................] - ETA: 0s - loss: 1.4723 - accuracy: 0.5000\b\b\b\b\b\b\b\b\b\b\b\b\b\b\b\b\b\b\b\b\b\b\b\b\b\b\b\b\b\b\b\b\b\b\b\b\b\b\b\b\b\b\b\b\b\b\b\b\b\b\b\b\b\b\b\b\b\b\b\b\b\b\b\b\b\b\b\b\b\b\b\b\b\b\b\b\b\b\b\b\b\b\r29/36 [=======================&gt;......] - ETA: 0s - loss: 0.9309 - accuracy: 0.6832\b\b\b\b\b\b\b\b\b\b\b\b\b\b\b\b\b\b\b\b\b\b\b\b\b\b\b\b\b\b\b\b\b\b\b\b\b\b\b\b\b\b\b\b\b\b\b\b\b\b\b\b\b\b\b\b\b\b\b\b\b\b\b\b\b\b\b\b\b\b\b\b\b\b\b\b\b\b\b\b\b\b\r36/36 [==============================] - 0s 2ms/step - loss: 0.8964 - accuracy: 0.6891\nThreshold: 0.02\nTest score: 0.8963572978973389\nTest accuracy: 0.6891053915023804\n              precision    recall  f1-score   support\n\n     class 0       0.85      0.70      0.77       302\n     class 1       0.87      0.94      0.91       654\n\n    accuracy                           0.87       956\n   macro avg       0.86      0.82      0.84       956\nweighted avg       0.86      0.87      0.86       956\n\n              precision    recall  f1-score   support\n\n     class 0       0.46      0.36      0.40       331\n     class 1       0.76      0.83      0.79       798\n\n    accuracy                           0.69      1129\n   macro avg       0.61      0.59      0.60      1129\nweighted avg       0.67      0.69      0.68      1129\n\nINFO:tensorflow:Assets written to: /tmp/tmp6xkqzeh8/model/data/model/assets\n\r 1/36 [..............................] - ETA: 0s - loss: 1.4203 - accuracy: 0.4375\b\b\b\b\b\b\b\b\b\b\b\b\b\b\b\b\b\b\b\b\b\b\b\b\b\b\b\b\b\b\b\b\b\b\b\b\b\b\b\b\b\b\b\b\b\b\b\b\b\b\b\b\b\b\b\b\b\b\b\b\b\b\b\b\b\b\b\b\b\b\b\b\b\b\b\b\b\b\b\b\b\b\r29/36 [=======================&gt;......] - ETA: 0s - loss: 0.9682 - accuracy: 0.6670\b\b\b\b\b\b\b\b\b\b\b\b\b\b\b\b\b\b\b\b\b\b\b\b\b\b\b\b\b\b\b\b\b\b\b\b\b\b\b\b\b\b\b\b\b\b\b\b\b\b\b\b\b\b\b\b\b\b\b\b\b\b\b\b\b\b\b\b\b\b\b\b\b\b\b\b\b\b\b\b\b\b\r36/36 [==============================] - 0s 2ms/step - loss: 1.0268 - accuracy: 0.6572\nThreshold: 0.03\nTest score: 1.0268242359161377\nTest accuracy: 0.6572187542915344\n              precision    recall  f1-score   support\n\n     class 0       0.88      0.72      0.79       492\n     class 1       0.75      0.90      0.82       464\n\n    accuracy                           0.81       956\n   macro avg       0.82      0.81      0.81       956\nweighted avg       0.82      0.81      0.81       956\n\n              precision    recall  f1-score   support\n\n     class 0       0.66      0.61      0.64       550\n     class 1       0.66      0.70      0.68       579\n\n    accuracy                           0.66      1129\n   macro avg       0.66      0.66      0.66      1129\nweighted avg       0.66      0.66      0.66      1129\n\nINFO:tensorflow:Assets written to: /tmp/tmp3lj52qm2/model/data/model/assets\n\r 1/36 [..............................] - ETA: 0s - loss: 0.6277 - accuracy: 0.6562\b\b\b\b\b\b\b\b\b\b\b\b\b\b\b\b\b\b\b\b\b\b\b\b\b\b\b\b\b\b\b\b\b\b\b\b\b\b\b\b\b\b\b\b\b\b\b\b\b\b\b\b\b\b\b\b\b\b\b\b\b\b\b\b\b\b\b\b\b\b\b\b\b\b\b\b\b\b\b\b\b\b\r29/36 [=======================&gt;......] - ETA: 0s - loss: 0.8847 - accuracy: 0.6552\b\b\b\b\b\b\b\b\b\b\b\b\b\b\b\b\b\b\b\b\b\b\b\b\b\b\b\b\b\b\b\b\b\b\b\b\b\b\b\b\b\b\b\b\b\b\b\b\b\b\b\b\b\b\b\b\b\b\b\b\b\b\b\b\b\b\b\b\b\b\b\b\b\b\b\b\b\b\b\b\b\b\r36/36 [==============================] - 0s 2ms/step - loss: 1.0085 - accuracy: 0.6377\nThreshold: 0.04\nTest score: 1.0085152387619019\nTest accuracy: 0.6377325057983398\n              precision    recall  f1-score   support\n\n     class 0       0.84      0.88      0.86       617\n     class 1       0.77      0.70      0.73       339\n\n    accuracy                           0.82       956\n   macro avg       0.81      0.79      0.80       956\nweighted avg       0.82      0.82      0.82       956\n\n              precision    recall  f1-score   support\n\n     class 0       0.67      0.79      0.72       684\n     class 1       0.55      0.41      0.47       445\n\n    accuracy                           0.64      1129\n   macro avg       0.61      0.60      0.60      1129\nweighted avg       0.63      0.64      0.62      1129\n\nINFO:tensorflow:Assets written to: /tmp/tmpaf0bzwo0/model/data/model/assets\n\r 1/36 [..............................] - ETA: 0s - loss: 0.6279 - accuracy: 0.8125\b\b\b\b\b\b\b\b\b\b\b\b\b\b\b\b\b\b\b\b\b\b\b\b\b\b\b\b\b\b\b\b\b\b\b\b\b\b\b\b\b\b\b\b\b\b\b\b\b\b\b\b\b\b\b\b\b\b\b\b\b\b\b\b\b\b\b\b\b\b\b\b\b\b\b\b\b\b\b\b\b\b\r29/36 [=======================&gt;......] - ETA: 0s - loss: 1.0589 - accuracy: 0.7123\b\b\b\b\b\b\b\b\b\b\b\b\b\b\b\b\b\b\b\b\b\b\b\b\b\b\b\b\b\b\b\b\b\b\b\b\b\b\b\b\b\b\b\b\b\b\b\b\b\b\b\b\b\b\b\b\b\b\b\b\b\b\b\b\b\b\b\b\b\b\b\b\b\b\b\b\b\b\b\b\b\b\r36/36 [==============================] - 0s 2ms/step - loss: 1.3637 - accuracy: 0.6891\nThreshold: 0.05\nTest score: 1.3637114763259888\nTest accuracy: 0.6891053915023804\n              precision    recall  f1-score   support\n\n     class 0       0.86      0.94      0.90       695\n     class 1       0.78      0.59      0.67       261\n\n    accuracy                           0.84       956\n   macro avg       0.82      0.76      0.78       956\nweighted avg       0.84      0.84      0.83       956\n\n              precision    recall  f1-score   support\n\n     class 0       0.76      0.81      0.79       798\n     class 1       0.46      0.40      0.43       331\n\n    accuracy                           0.69      1129\n   macro avg       0.61      0.60      0.61      1129\nweighted avg       0.68      0.69      0.68      1129\n\nINFO:tensorflow:Assets written to: /tmp/tmpxta1bt6e/model/data/model/assets\n\r 1/36 [..............................] - ETA: 0s - loss: 1.0877 - accuracy: 0.5938\b\b\b\b\b\b\b\b\b\b\b\b\b\b\b\b\b\b\b\b\b\b\b\b\b\b\b\b\b\b\b\b\b\b\b\b\b\b\b\b\b\b\b\b\b\b\b\b\b\b\b\b\b\b\b\b\b\b\b\b\b\b\b\b\b\b\b\b\b\b\b\b\b\b\b\b\b\b\b\b\b\b\r29/36 [=======================&gt;......] - ETA: 0s - loss: 1.4375 - accuracy: 0.7241\b\b\b\b\b\b\b\b\b\b\b\b\b\b\b\b\b\b\b\b\b\b\b\b\b\b\b\b\b\b\b\b\b\b\b\b\b\b\b\b\b\b\b\b\b\b\b\b\b\b\b\b\b\b\b\b\b\b\b\b\b\b\b\b\b\b\b\b\b\b\b\b\b\b\b\b\b\b\b\b\b\b\r36/36 [==============================] - 0s 2ms/step - loss: 1.7333 - accuracy: 0.6997\nThreshold: 0.06\nTest score: 1.7332606315612793\nTest accuracy: 0.6997342705726624\n              precision    recall  f1-score   support\n\n     class 0       0.87      0.97      0.92       753\n     class 1       0.79      0.47      0.59       203\n\n    accuracy                           0.86       956\n   macro avg       0.83      0.72      0.75       956\nweighted avg       0.85      0.86      0.85       956\n\n              precision    recall  f1-score   support\n\n     class 0       0.80      0.81      0.81       872\n     class 1       0.33      0.32      0.33       257\n\n    accuracy                           0.70      1129\n   macro avg       0.57      0.57      0.57      1129\nweighted avg       0.70      0.70      0.70      1129\n\nINFO:tensorflow:Assets written to: /tmp/tmp9h9u4oc7/model/data/model/assets\n\r 1/36 [..............................] - ETA: 0s - loss: 0.8458 - accuracy: 0.6875\b\b\b\b\b\b\b\b\b\b\b\b\b\b\b\b\b\b\b\b\b\b\b\b\b\b\b\b\b\b\b\b\b\b\b\b\b\b\b\b\b\b\b\b\b\b\b\b\b\b\b\b\b\b\b\b\b\b\b\b\b\b\b\b\b\b\b\b\b\b\b\b\b\b\b\b\b\b\b\b\b\b\r25/36 [===================&gt;..........] - ETA: 0s - loss: 1.9143 - accuracy: 0.7500\b\b\b\b\b\b\b\b\b\b\b\b\b\b\b\b\b\b\b\b\b\b\b\b\b\b\b\b\b\b\b\b\b\b\b\b\b\b\b\b\b\b\b\b\b\b\b\b\b\b\b\b\b\b\b\b\b\b\b\b\b\b\b\b\b\b\b\b\b\b\b\b\b\b\b\b\b\b\b\b\b\b\r36/36 [==============================] - 0s 2ms/step - loss: 2.0336 - accuracy: 0.7458\nThreshold: 0.07\nTest score: 2.033644914627075\nTest accuracy: 0.7457927465438843\n              precision    recall  f1-score   support\n\n     class 0       0.89      0.98      0.93       802\n     class 1       0.79      0.37      0.50       154\n\n    accuracy                           0.88       956\n   macro avg       0.84      0.68      0.72       956\nweighted avg       0.87      0.88      0.86       956\n\n              precision    recall  f1-score   support\n\n     class 0       0.85      0.84      0.85       935\n     class 1       0.27      0.27      0.27       194\n\n    accuracy                           0.75      1129\n   macro avg       0.56      0.56      0.56      1129\nweighted avg       0.75      0.75      0.75      1129\n\nINFO:tensorflow:Assets written to: /tmp/tmpuuxijc5k/model/data/model/assets\n\r 1/36 [..............................] - ETA: 0s - loss: 0.4702 - accuracy: 0.7188\b\b\b\b\b\b\b\b\b\b\b\b\b\b\b\b\b\b\b\b\b\b\b\b\b\b\b\b\b\b\b\b\b\b\b\b\b\b\b\b\b\b\b\b\b\b\b\b\b\b\b\b\b\b\b\b\b\b\b\b\b\b\b\b\b\b\b\b\b\b\b\b\b\b\b\b\b\b\b\b\b\b\r27/36 [=====================&gt;........] - ETA: 0s - loss: 1.1681 - accuracy: 0.8090\b\b\b\b\b\b\b\b\b\b\b\b\b\b\b\b\b\b\b\b\b\b\b\b\b\b\b\b\b\b\b\b\b\b\b\b\b\b\b\b\b\b\b\b\b\b\b\b\b\b\b\b\b\b\b\b\b\b\b\b\b\b\b\b\b\b\b\b\b\b\b\b\b\b\b\b\b\b\b\b\b\b\r36/36 [==============================] - 0s 2ms/step - loss: 1.3392 - accuracy: 0.7910\nThreshold: 0.08\nTest score: 1.339168906211853\nTest accuracy: 0.7909654378890991\n              precision    recall  f1-score   support\n\n     class 0       0.92      0.98      0.95       823\n     class 1       0.79      0.47      0.59       133\n\n    accuracy                           0.91       956\n   macro avg       0.86      0.72      0.77       956\nweighted avg       0.90      0.91      0.90       956\n\n              precision    recall  f1-score   support\n\n     class 0       0.90      0.86      0.88       982\n     class 1       0.26      0.33      0.29       147\n\n    accuracy                           0.79      1129\n   macro avg       0.58      0.60      0.59      1129\nweighted avg       0.81      0.79      0.80      1129\n\nINFO:tensorflow:Assets written to: /tmp/tmpb51rrlxu/model/data/model/assets\n\r 1/36 [..............................] - ETA: 0s - loss: 0.4690 - accuracy: 0.6250\b\b\b\b\b\b\b\b\b\b\b\b\b\b\b\b\b\b\b\b\b\b\b\b\b\b\b\b\b\b\b\b\b\b\b\b\b\b\b\b\b\b\b\b\b\b\b\b\b\b\b\b\b\b\b\b\b\b\b\b\b\b\b\b\b\b\b\b\b\b\b\b\b\b\b\b\b\b\b\b\b\b\r28/36 [======================&gt;.......] - ETA: 0s - loss: 1.4906 - accuracy: 0.8237\b\b\b\b\b\b\b\b\b\b\b\b\b\b\b\b\b\b\b\b\b\b\b\b\b\b\b\b\b\b\b\b\b\b\b\b\b\b\b\b\b\b\b\b\b\b\b\b\b\b\b\b\b\b\b\b\b\b\b\b\b\b\b\b\b\b\b\b\b\b\b\b\b\b\b\b\b\b\b\b\b\b\r36/36 [==============================] - 0s 2ms/step - loss: 1.7882 - accuracy: 0.7919\nThreshold: 0.09\nTest score: 1.7881759405136108\nTest accuracy: 0.7918512225151062\n              precision    recall  f1-score   support\n\n     class 0       0.93      1.00      0.96       844\n     class 1       0.98      0.42      0.59       112\n\n    accuracy                           0.93       956\n   macro avg       0.95      0.71      0.77       956\nweighted avg       0.93      0.93      0.92       956\n\n              precision    recall  f1-score   support\n\n     class 0       0.90      0.86      0.88      1009\n     class 1       0.16      0.23      0.19       120\n\n    accuracy                           0.79      1129\n   macro avg       0.53      0.54      0.53      1129\nweighted avg       0.82      0.79      0.81      1129\n\nINFO:tensorflow:Assets written to: /tmp/tmphgacwx_y/model/data/model/assets\n\r 1/36 [..............................] - ETA: 0s - loss: 0.8926 - accuracy: 0.6875\b\b\b\b\b\b\b\b\b\b\b\b\b\b\b\b\b\b\b\b\b\b\b\b\b\b\b\b\b\b\b\b\b\b\b\b\b\b\b\b\b\b\b\b\b\b\b\b\b\b\b\b\b\b\b\b\b\b\b\b\b\b\b\b\b\b\b\b\b\b\b\b\b\b\b\b\b\b\b\b\b\b\r30/36 [========================&gt;.....] - ETA: 0s - loss: 1.7153 - accuracy: 0.8250\b\b\b\b\b\b\b\b\b\b\b\b\b\b\b\b\b\b\b\b\b\b\b\b\b\b\b\b\b\b\b\b\b\b\b\b\b\b\b\b\b\b\b\b\b\b\b\b\b\b\b\b\b\b\b\b\b\b\b\b\b\b\b\b\b\b\b\b\b\b\b\b\b\b\b\b\b\b\b\b\b\b\r36/36 [==============================] - 0s 2ms/step - loss: 2.0387 - accuracy: 0.7945\nThreshold: 0.1\nTest score: 2.0386595726013184\nTest accuracy: 0.7945083975791931\n              precision    recall  f1-score   support\n\n     class 0       0.93      1.00      0.96       855\n     class 1       0.91      0.39      0.54       101\n\n    accuracy                           0.93       956\n   macro avg       0.92      0.69      0.75       956\nweighted avg       0.93      0.93      0.92       956\n\n              precision    recall  f1-score   support\n\n     class 0       0.91      0.86      0.88      1023\n     class 1       0.12      0.20      0.15       106\n\n    accuracy                           0.79      1129\n   macro avg       0.52      0.53      0.52      1129\nweighted avg       0.84      0.79      0.81      1129\n\nINFO:tensorflow:Assets written to: /tmp/tmpw8hm3nd4/model/data/model/assets\n\r 1/36 [..............................] - ETA: 0s - loss: 0.5202 - accuracy: 0.8750\b\b\b\b\b\b\b\b\b\b\b\b\b\b\b\b\b\b\b\b\b\b\b\b\b\b\b\b\b\b\b\b\b\b\b\b\b\b\b\b\b\b\b\b\b\b\b\b\b\b\b\b\b\b\b\b\b\b\b\b\b\b\b\b\b\b\b\b\b\b\b\b\b\b\b\b\b\b\b\b\b\b\r29/36 [=======================&gt;......] - ETA: 0s - loss: 1.6549 - accuracy: 0.8707\b\b\b\b\b\b\b\b\b\b\b\b\b\b\b\b\b\b\b\b\b\b\b\b\b\b\b\b\b\b\b\b\b\b\b\b\b\b\b\b\b\b\b\b\b\b\b\b\b\b\b\b\b\b\b\b\b\b\b\b\b\b\b\b\b\b\b\b\b\b\b\b\b\b\b\b\b\b\b\b\b\b\r36/36 [==============================] - 0s 2ms/step - loss: 2.0585 - accuracy: 0.8326\nThreshold: 0.11\nTest score: 2.058504104614258\nTest accuracy: 0.8325952291488647\n              precision    recall  f1-score   support\n\n     class 0       0.93      1.00      0.96       868\n     class 1       0.93      0.31      0.46        88\n\n    accuracy                           0.93       956\n   macro avg       0.93      0.65      0.71       956\nweighted avg       0.93      0.93      0.92       956\n\n              precision    recall  f1-score   support\n\n     class 0       0.93      0.89      0.91      1042\n     class 1       0.11      0.17      0.14        87\n\n    accuracy                           0.83      1129\n   macro avg       0.52      0.53      0.52      1129\nweighted avg       0.87      0.83      0.85      1129\n\nINFO:tensorflow:Assets written to: /tmp/tmpm66qhu30/model/data/model/assets\n\r 1/36 [..............................] - ETA: 0s - loss: 1.2306 - accuracy: 0.8750\b\b\b\b\b\b\b\b\b\b\b\b\b\b\b\b\b\b\b\b\b\b\b\b\b\b\b\b\b\b\b\b\b\b\b\b\b\b\b\b\b\b\b\b\b\b\b\b\b\b\b\b\b\b\b\b\b\b\b\b\b\b\b\b\b\b\b\b\b\b\b\b\b\b\b\b\b\b\b\b\b\b\r29/36 [=======================&gt;......] - ETA: 0s - loss: 1.9508 - accuracy: 0.8879\b\b\b\b\b\b\b\b\b\b\b\b\b\b\b\b\b\b\b\b\b\b\b\b\b\b\b\b\b\b\b\b\b\b\b\b\b\b\b\b\b\b\b\b\b\b\b\b\b\b\b\b\b\b\b\b\b\b\b\b\b\b\b\b\b\b\b\b\b\b\b\b\b\b\b\b\b\b\b\b\b\b\r36/36 [==============================] - 0s 2ms/step - loss: 2.5261 - accuracy: 0.8494\nThreshold: 0.12\nTest score: 2.5261335372924805\nTest accuracy: 0.8494242429733276\n              precision    recall  f1-score   support\n\n     class 0       0.94      1.00      0.97       877\n     class 1       0.97      0.35      0.52        79\n\n    accuracy                           0.95       956\n   macro avg       0.96      0.68      0.74       956\nweighted avg       0.95      0.95      0.93       956\n\n              precision    recall  f1-score   support\n\n     class 0       0.94      0.89      0.92      1055\n     class 1       0.12      0.20      0.15        74\n\n    accuracy                           0.85      1129\n   macro avg       0.53      0.55      0.53      1129\nweighted avg       0.89      0.85      0.87      1129\n\nINFO:tensorflow:Assets written to: /tmp/tmp3ag1bd63/model/data/model/assets\n\r 1/36 [..............................] - ETA: 0s - loss: 0.9279 - accuracy: 0.8750\b\b\b\b\b\b\b\b\b\b\b\b\b\b\b\b\b\b\b\b\b\b\b\b\b\b\b\b\b\b\b\b\b\b\b\b\b\b\b\b\b\b\b\b\b\b\b\b\b\b\b\b\b\b\b\b\b\b\b\b\b\b\b\b\b\b\b\b\b\b\b\b\b\b\b\b\b\b\b\b\b\b\r29/36 [=======================&gt;......] - ETA: 0s - loss: 2.0023 - accuracy: 0.8901\b\b\b\b\b\b\b\b\b\b\b\b\b\b\b\b\b\b\b\b\b\b\b\b\b\b\b\b\b\b\b\b\b\b\b\b\b\b\b\b\b\b\b\b\b\b\b\b\b\b\b\b\b\b\b\b\b\b\b\b\b\b\b\b\b\b\b\b\b\b\b\b\b\b\b\b\b\b\b\b\b\b\r36/36 [==============================] - 0s 2ms/step - loss: 2.6333 - accuracy: 0.8432\nThreshold: 0.13\nTest score: 2.6332578659057617\nTest accuracy: 0.8432241082191467\n              precision    recall  f1-score   support\n\n     class 0       0.96      1.00      0.98       886\n     class 1       1.00      0.50      0.67        70\n\n    accuracy                           0.96       956\n   macro avg       0.98      0.75      0.82       956\nweighted avg       0.96      0.96      0.96       956\n\n              precision    recall  f1-score   support\n\n     class 0       0.95      0.88      0.91      1064\n     class 1       0.08      0.17      0.11        65\n\n    accuracy                           0.84      1129\n   macro avg       0.51      0.53      0.51      1129\nweighted avg       0.90      0.84      0.87      1129\n\nINFO:tensorflow:Assets written to: /tmp/tmp0x_sxl9l/model/data/model/assets\n\r 1/36 [..............................] - ETA: 0s - loss: 0.7322 - accuracy: 0.9062\b\b\b\b\b\b\b\b\b\b\b\b\b\b\b\b\b\b\b\b\b\b\b\b\b\b\b\b\b\b\b\b\b\b\b\b\b\b\b\b\b\b\b\b\b\b\b\b\b\b\b\b\b\b\b\b\b\b\b\b\b\b\b\b\b\b\b\b\b\b\b\b\b\b\b\b\b\b\b\b\b\b\r26/36 [====================&gt;.........] - ETA: 0s - loss: 1.4263 - accuracy: 0.8810\b\b\b\b\b\b\b\b\b\b\b\b\b\b\b\b\b\b\b\b\b\b\b\b\b\b\b\b\b\b\b\b\b\b\b\b\b\b\b\b\b\b\b\b\b\b\b\b\b\b\b\b\b\b\b\b\b\b\b\b\b\b\b\b\b\b\b\b\b\b\b\b\b\b\b\b\b\b\b\b\b\b\r36/36 [==============================] - 0s 2ms/step - loss: 1.7612 - accuracy: 0.8539\nThreshold: 0.14\nTest score: 1.7612391710281372\nTest accuracy: 0.8538529872894287\n              precision    recall  f1-score   support\n\n     class 0       0.96      1.00      0.98       891\n     class 1       0.93      0.38      0.54        65\n\n    accuracy                           0.96       956\n   macro avg       0.94      0.69      0.76       956\nweighted avg       0.95      0.96      0.95       956\n\n              precision    recall  f1-score   support\n\n     class 0       0.95      0.90      0.92      1067\n     class 1       0.07      0.13      0.09        62\n\n    accuracy                           0.85      1129\n   macro avg       0.51      0.51      0.50      1129\nweighted avg       0.90      0.85      0.87      1129\n\n</div>",
       "datasetInfos": [],
       "metadata": {},
       "removedWidgets": [],
       "type": "html"
      }
     },
     "output_type": "display_data"
    }
   ],
   "source": [
    "accuracy = []\n",
    "for t in range(1, 15):\n",
    "    threshold = t/100\n",
    "    runModel(df3, df4,model,threshold,accuracy)"
   ]
  },
  {
   "cell_type": "code",
   "execution_count": 0,
   "metadata": {
    "application/vnd.databricks.v1+cell": {
     "cellMetadata": {
      "byteLimit": 2048000,
      "rowLimit": 10000
     },
     "inputWidgets": {},
     "nuid": "389320cd-3fe1-4fea-81c3-1642be24ed75",
     "showTitle": false,
     "title": ""
    }
   },
   "outputs": [
    {
     "output_type": "display_data",
     "data": {
      "text/html": [
       "<style scoped>\n",
       "  .ansiout {\n",
       "    display: block;\n",
       "    unicode-bidi: embed;\n",
       "    white-space: pre-wrap;\n",
       "    word-wrap: break-word;\n",
       "    word-break: break-all;\n",
       "    font-family: \"Source Code Pro\", \"Menlo\", monospace;;\n",
       "    font-size: 13px;\n",
       "    color: #555;\n",
       "    margin-left: 4px;\n",
       "    line-height: 19px;\n",
       "  }\n",
       "</style>\n",
       "<div class=\"ansiout\">Out[30]: 0       0.000929\n",
       "10      0.023213\n",
       "11      0.007428\n",
       "12      0.008357\n",
       "13      0.007428\n",
       "          ...   \n",
       "1520    0.014856\n",
       "1521    0.016713\n",
       "1522    0.015785\n",
       "1523    0.020427\n",
       "1524    0.027855\n",
       "Name: QTY_SALES, Length: 1129, dtype: float64</div>"
      ]
     },
     "metadata": {
      "application/vnd.databricks.v1+output": {
       "addedWidgets": {},
       "arguments": {},
       "data": "<div class=\"ansiout\">Out[30]: 0       0.000929\n10      0.023213\n11      0.007428\n12      0.008357\n13      0.007428\n          ...   \n1520    0.014856\n1521    0.016713\n1522    0.015785\n1523    0.020427\n1524    0.027855\nName: QTY_SALES, Length: 1129, dtype: float64</div>",
       "datasetInfos": [],
       "metadata": {},
       "removedWidgets": [],
       "type": "html"
      }
     },
     "output_type": "display_data"
    }
   ],
   "source": [
    "df4[\"QTY_SALES\"]"
   ]
  },
  {
   "cell_type": "code",
   "execution_count": 0,
   "metadata": {
    "application/vnd.databricks.v1+cell": {
     "cellMetadata": {
      "byteLimit": 2048000,
      "rowLimit": 10000
     },
     "inputWidgets": {},
     "nuid": "4f9ab878-63f9-4b91-befe-eb89f9e5a55b",
     "showTitle": false,
     "title": ""
    }
   },
   "outputs": [
    {
     "output_type": "display_data",
     "data": {
      "text/html": [
       "<style scoped>\n",
       "  .ansiout {\n",
       "    display: block;\n",
       "    unicode-bidi: embed;\n",
       "    white-space: pre-wrap;\n",
       "    word-wrap: break-word;\n",
       "    word-break: break-all;\n",
       "    font-family: \"Source Code Pro\", \"Menlo\", monospace;;\n",
       "    font-size: 13px;\n",
       "    color: #555;\n",
       "    margin-left: 4px;\n",
       "    line-height: 19px;\n",
       "  }\n",
       "</style>\n",
       "<div class=\"ansiout\">0.01\n",
       "Counter({1.0: 845, 0.0: 111})\n",
       "0.02\n",
       "Counter({1.0: 654, 0.0: 302})\n",
       "0.03\n",
       "Counter({0.0: 492, 1.0: 464})\n",
       "0.04\n",
       "Counter({0.0: 617, 1.0: 339})\n",
       "0.05\n",
       "Counter({0.0: 695, 1.0: 261})\n",
       "0.06\n",
       "Counter({0.0: 753, 1.0: 203})\n",
       "0.07\n",
       "Counter({0.0: 802, 1.0: 154})\n",
       "0.08\n",
       "Counter({0.0: 823, 1.0: 133})\n",
       "0.09\n",
       "Counter({0.0: 844, 1.0: 112})\n",
       "0.1\n",
       "Counter({0.0: 855, 1.0: 101})\n",
       "0.11\n",
       "Counter({0.0: 868, 1.0: 88})\n",
       "0.12\n",
       "Counter({0.0: 877, 1.0: 79})\n",
       "0.13\n",
       "Counter({0.0: 886, 1.0: 70})\n",
       "0.14\n",
       "Counter({0.0: 891, 1.0: 65})\n",
       "0.15\n",
       "Counter({0.0: 893, 1.0: 63})\n",
       "0.16\n",
       "Counter({0.0: 896, 1.0: 60})\n",
       "0.17\n",
       "Counter({0.0: 901, 1.0: 55})\n",
       "0.18\n",
       "Counter({0.0: 904, 1.0: 52})\n",
       "0.19\n",
       "Counter({0.0: 906, 1.0: 50})\n",
       "0.2\n",
       "Counter({0.0: 908, 1.0: 48})\n",
       "0.21\n",
       "Counter({0.0: 912, 1.0: 44})\n",
       "0.22\n",
       "Counter({0.0: 916, 1.0: 40})\n",
       "0.23\n",
       "Counter({0.0: 917, 1.0: 39})\n",
       "0.24\n",
       "Counter({0.0: 919, 1.0: 37})\n",
       "0.25\n",
       "Counter({0.0: 920, 1.0: 36})\n",
       "0.26\n",
       "Counter({0.0: 921, 1.0: 35})\n",
       "0.27\n",
       "Counter({0.0: 923, 1.0: 33})\n",
       "0.28\n",
       "Counter({0.0: 924, 1.0: 32})\n",
       "0.29\n",
       "Counter({0.0: 928, 1.0: 28})\n",
       "</div>"
      ]
     },
     "metadata": {
      "application/vnd.databricks.v1+output": {
       "addedWidgets": {},
       "arguments": {},
       "data": "<div class=\"ansiout\">0.01\nCounter({1.0: 845, 0.0: 111})\n0.02\nCounter({1.0: 654, 0.0: 302})\n0.03\nCounter({0.0: 492, 1.0: 464})\n0.04\nCounter({0.0: 617, 1.0: 339})\n0.05\nCounter({0.0: 695, 1.0: 261})\n0.06\nCounter({0.0: 753, 1.0: 203})\n0.07\nCounter({0.0: 802, 1.0: 154})\n0.08\nCounter({0.0: 823, 1.0: 133})\n0.09\nCounter({0.0: 844, 1.0: 112})\n0.1\nCounter({0.0: 855, 1.0: 101})\n0.11\nCounter({0.0: 868, 1.0: 88})\n0.12\nCounter({0.0: 877, 1.0: 79})\n0.13\nCounter({0.0: 886, 1.0: 70})\n0.14\nCounter({0.0: 891, 1.0: 65})\n0.15\nCounter({0.0: 893, 1.0: 63})\n0.16\nCounter({0.0: 896, 1.0: 60})\n0.17\nCounter({0.0: 901, 1.0: 55})\n0.18\nCounter({0.0: 904, 1.0: 52})\n0.19\nCounter({0.0: 906, 1.0: 50})\n0.2\nCounter({0.0: 908, 1.0: 48})\n0.21\nCounter({0.0: 912, 1.0: 44})\n0.22\nCounter({0.0: 916, 1.0: 40})\n0.23\nCounter({0.0: 917, 1.0: 39})\n0.24\nCounter({0.0: 919, 1.0: 37})\n0.25\nCounter({0.0: 920, 1.0: 36})\n0.26\nCounter({0.0: 921, 1.0: 35})\n0.27\nCounter({0.0: 923, 1.0: 33})\n0.28\nCounter({0.0: 924, 1.0: 32})\n0.29\nCounter({0.0: 928, 1.0: 28})\n</div>",
       "datasetInfos": [],
       "metadata": {},
       "removedWidgets": [],
       "type": "html"
      }
     },
     "output_type": "display_data"
    }
   ],
   "source": [
    "for t in range(1, 30):\n",
    "    threshold = t/100\n",
    "    temp = df3[\"QTY_SALES\"].apply(lambda x: categorizeSales(threshold, x))\n",
    "    print(threshold)\n",
    "    print(Counter(temp))"
   ]
  },
  {
   "cell_type": "code",
   "execution_count": 0,
   "metadata": {
    "application/vnd.databricks.v1+cell": {
     "cellMetadata": {
      "byteLimit": 2048000,
      "rowLimit": 10000
     },
     "inputWidgets": {},
     "nuid": "af2041e9-9b01-46a8-89b1-d374395ba86a",
     "showTitle": false,
     "title": ""
    }
   },
   "outputs": [
    {
     "output_type": "display_data",
     "data": {
      "text/html": [
       "<style scoped>\n",
       "  .ansiout {\n",
       "    display: block;\n",
       "    unicode-bidi: embed;\n",
       "    white-space: pre-wrap;\n",
       "    word-wrap: break-word;\n",
       "    word-break: break-all;\n",
       "    font-family: \"Source Code Pro\", \"Menlo\", monospace;;\n",
       "    font-size: 13px;\n",
       "    color: #555;\n",
       "    margin-left: 4px;\n",
       "    line-height: 19px;\n",
       "  }\n",
       "</style>\n",
       "<div class=\"ansiout\">Out[32]: 0       0.000929\n",
       "10      0.023213\n",
       "11      0.007428\n",
       "12      0.008357\n",
       "13      0.007428\n",
       "          ...   \n",
       "1520    0.014856\n",
       "1521    0.016713\n",
       "1522    0.015785\n",
       "1523    0.020427\n",
       "1524    0.027855\n",
       "Name: QTY_SALES, Length: 1129, dtype: float64</div>"
      ]
     },
     "metadata": {
      "application/vnd.databricks.v1+output": {
       "addedWidgets": {},
       "arguments": {},
       "data": "<div class=\"ansiout\">Out[32]: 0       0.000929\n10      0.023213\n11      0.007428\n12      0.008357\n13      0.007428\n          ...   \n1520    0.014856\n1521    0.016713\n1522    0.015785\n1523    0.020427\n1524    0.027855\nName: QTY_SALES, Length: 1129, dtype: float64</div>",
       "datasetInfos": [],
       "metadata": {},
       "removedWidgets": [],
       "type": "html"
      }
     },
     "output_type": "display_data"
    }
   ],
   "source": [
    "df4[\"QTY_SALES\"]"
   ]
  },
  {
   "cell_type": "code",
   "execution_count": 0,
   "metadata": {
    "application/vnd.databricks.v1+cell": {
     "cellMetadata": {
      "byteLimit": 2048000,
      "rowLimit": 10000
     },
     "inputWidgets": {},
     "nuid": "3278b337-2f8c-4223-99cb-79dd8a0f1a14",
     "showTitle": false,
     "title": ""
    }
   },
   "outputs": [
    {
     "output_type": "display_data",
     "data": {
      "text/html": [
       "<style scoped>\n",
       "  .ansiout {\n",
       "    display: block;\n",
       "    unicode-bidi: embed;\n",
       "    white-space: pre-wrap;\n",
       "    word-wrap: break-word;\n",
       "    word-break: break-all;\n",
       "    font-family: \"Source Code Pro\", \"Menlo\", monospace;;\n",
       "    font-size: 13px;\n",
       "    color: #555;\n",
       "    margin-left: 4px;\n",
       "    line-height: 19px;\n",
       "  }\n",
       "</style>\n",
       "<div class=\"ansiout\">Counter({0.0: 798, 1.0: 331})\n",
       "</div>"
      ]
     },
     "metadata": {
      "application/vnd.databricks.v1+output": {
       "addedWidgets": {},
       "arguments": {},
       "data": "<div class=\"ansiout\">Counter({0.0: 798, 1.0: 331})\n</div>",
       "datasetInfos": [],
       "metadata": {},
       "removedWidgets": [],
       "type": "html"
      }
     },
     "output_type": "display_data"
    }
   ],
   "source": [
    "    temp = df4[\"QTY_SALES\"].apply(lambda x: categorizeSales(0.05, x))\n",
    "    print(Counter(temp))"
   ]
  },
  {
   "cell_type": "code",
   "execution_count": 0,
   "metadata": {
    "application/vnd.databricks.v1+cell": {
     "cellMetadata": {
      "byteLimit": 2048000,
      "rowLimit": 10000
     },
     "inputWidgets": {},
     "nuid": "88ff699b-9734-4452-b3b3-faefe1ae37d5",
     "showTitle": false,
     "title": ""
    }
   },
   "outputs": [
    {
     "output_type": "display_data",
     "data": {
      "text/html": [
       "<style scoped>\n",
       "  .ansiout {\n",
       "    display: block;\n",
       "    unicode-bidi: embed;\n",
       "    white-space: pre-wrap;\n",
       "    word-wrap: break-word;\n",
       "    word-break: break-all;\n",
       "    font-family: \"Source Code Pro\", \"Menlo\", monospace;;\n",
       "    font-size: 13px;\n",
       "    color: #555;\n",
       "    margin-left: 4px;\n",
       "    line-height: 19px;\n",
       "  }\n",
       "</style>\n",
       "<div class=\"ansiout\">Out[34]: [0.8503100275993347,\n",
       " 0.6926483511924744,\n",
       " 0.6527900695800781,\n",
       " 0.6457041501998901,\n",
       " 0.6864481568336487,\n",
       " 0.71656334400177,\n",
       " 0.7316209077835083,\n",
       " 0.7643932700157166,\n",
       " 0.7971656322479248,\n",
       " 0.8201948404312134,\n",
       " 0.8299379944801331,\n",
       " 0.8396811485290527,\n",
       " 0.8449955582618713,\n",
       " 0.8467670679092407,\n",
       " 0.8467670679092407,\n",
       " 0.8529672026634216,\n",
       " 0.8609389066696167,\n",
       " 0.872453510761261,\n",
       " 0.8644818663597107,\n",
       " 0.8945969939231873,\n",
       " 0.9034543633460999,\n",
       " 0.883082389831543,\n",
       " 0.9069973230361938,\n",
       " 0.8857395648956299,\n",
       " 0.8839681148529053,\n",
       " 0.8892825245857239,\n",
       " 0.9025686383247375,\n",
       " 0.9583702683448792,\n",
       " 0.9486271142959595]</div>"
      ]
     },
     "metadata": {
      "application/vnd.databricks.v1+output": {
       "addedWidgets": {},
       "arguments": {},
       "data": "<div class=\"ansiout\">Out[34]: [0.8503100275993347,\n 0.6926483511924744,\n 0.6527900695800781,\n 0.6457041501998901,\n 0.6864481568336487,\n 0.71656334400177,\n 0.7316209077835083,\n 0.7643932700157166,\n 0.7971656322479248,\n 0.8201948404312134,\n 0.8299379944801331,\n 0.8396811485290527,\n 0.8449955582618713,\n 0.8467670679092407,\n 0.8467670679092407,\n 0.8529672026634216,\n 0.8609389066696167,\n 0.872453510761261,\n 0.8644818663597107,\n 0.8945969939231873,\n 0.9034543633460999,\n 0.883082389831543,\n 0.9069973230361938,\n 0.8857395648956299,\n 0.8839681148529053,\n 0.8892825245857239,\n 0.9025686383247375,\n 0.9583702683448792,\n 0.9486271142959595]</div>",
       "datasetInfos": [],
       "metadata": {},
       "removedWidgets": [],
       "type": "html"
      }
     },
     "output_type": "display_data"
    }
   ],
   "source": [
    "accuracy"
   ]
  }
 ],
 "metadata": {
  "application/vnd.databricks.v1+notebook": {
   "dashboards": [],
   "language": "python",
   "notebookMetadata": {
    "pythonIndentUnit": 4
   },
   "notebookName": "base_model_binary",
   "notebookOrigID": 556958884330243,
   "widgets": {}
  }
 },
 "nbformat": 4,
 "nbformat_minor": 0
}
