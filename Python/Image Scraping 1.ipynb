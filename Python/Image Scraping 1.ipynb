{
 "cells": [
  {
   "cell_type": "code",
   "execution_count": 0,
   "metadata": {
    "application/vnd.databricks.v1+cell": {
     "cellMetadata": {
      "byteLimit": 2048000,
      "rowLimit": 10000
     },
     "inputWidgets": {},
     "nuid": "1f5303b8-5674-4ec7-96f2-93c21924b9d4",
     "showTitle": false,
     "title": ""
    }
   },
   "outputs": [
    {
     "output_type": "display_data",
     "data": {
      "text/html": [
       "<style scoped>\n",
       "  .ansiout {\n",
       "    display: block;\n",
       "    unicode-bidi: embed;\n",
       "    white-space: pre-wrap;\n",
       "    word-wrap: break-word;\n",
       "    word-break: break-all;\n",
       "    font-family: \"Source Code Pro\", \"Menlo\", monospace;;\n",
       "    font-size: 13px;\n",
       "    color: #555;\n",
       "    margin-left: 4px;\n",
       "    line-height: 19px;\n",
       "  }\n",
       "</style>\n",
       "<div class=\"ansiout\">Python interpreter will be restarted.\n",
       "Collecting BeautifulSoup4\n",
       "  Using cached beautifulsoup4-4.12.0-py3-none-any.whl (132 kB)\n",
       "Collecting soupsieve&gt;1.2\n",
       "  Using cached soupsieve-2.4-py3-none-any.whl (37 kB)\n",
       "Installing collected packages: soupsieve, BeautifulSoup4\n",
       "Successfully installed BeautifulSoup4-4.12.0 soupsieve-2.4\n",
       "Python interpreter will be restarted.\n",
       "</div>"
      ]
     },
     "metadata": {
      "application/vnd.databricks.v1+output": {
       "addedWidgets": {},
       "arguments": {},
       "data": "<div class=\"ansiout\">Python interpreter will be restarted.\nCollecting BeautifulSoup4\n  Using cached beautifulsoup4-4.12.0-py3-none-any.whl (132 kB)\nCollecting soupsieve&gt;1.2\n  Using cached soupsieve-2.4-py3-none-any.whl (37 kB)\nInstalling collected packages: soupsieve, BeautifulSoup4\nSuccessfully installed BeautifulSoup4-4.12.0 soupsieve-2.4\nPython interpreter will be restarted.\n</div>",
       "datasetInfos": [],
       "metadata": {},
       "removedWidgets": [],
       "type": "html"
      }
     },
     "output_type": "display_data"
    }
   ],
   "source": [
    "pip install BeautifulSoup4"
   ]
  },
  {
   "cell_type": "code",
   "execution_count": 0,
   "metadata": {
    "application/vnd.databricks.v1+cell": {
     "cellMetadata": {
      "byteLimit": 2048000,
      "rowLimit": 10000
     },
     "inputWidgets": {},
     "nuid": "03f131be-55b5-43c9-86ce-fc315fd66cc6",
     "showTitle": false,
     "title": ""
    }
   },
   "outputs": [
    {
     "output_type": "display_data",
     "data": {
      "text/html": [
       "<style scoped>\n",
       "  .ansiout {\n",
       "    display: block;\n",
       "    unicode-bidi: embed;\n",
       "    white-space: pre-wrap;\n",
       "    word-wrap: break-word;\n",
       "    word-break: break-all;\n",
       "    font-family: \"Source Code Pro\", \"Menlo\", monospace;;\n",
       "    font-size: 13px;\n",
       "    color: #555;\n",
       "    margin-left: 4px;\n",
       "    line-height: 19px;\n",
       "  }\n",
       "</style>\n",
       "<div class=\"ansiout\">Python interpreter will be restarted.\n",
       "Collecting lxml\n",
       "  Using cached lxml-4.9.2-cp38-cp38-manylinux_2_17_x86_64.manylinux2014_x86_64.manylinux_2_24_x86_64.whl (7.1 MB)\n",
       "Installing collected packages: lxml\n",
       "Successfully installed lxml-4.9.2\n",
       "Python interpreter will be restarted.\n",
       "</div>"
      ]
     },
     "metadata": {
      "application/vnd.databricks.v1+output": {
       "addedWidgets": {},
       "arguments": {},
       "data": "<div class=\"ansiout\">Python interpreter will be restarted.\nCollecting lxml\n  Using cached lxml-4.9.2-cp38-cp38-manylinux_2_17_x86_64.manylinux2014_x86_64.manylinux_2_24_x86_64.whl (7.1 MB)\nInstalling collected packages: lxml\nSuccessfully installed lxml-4.9.2\nPython interpreter will be restarted.\n</div>",
       "datasetInfos": [],
       "metadata": {},
       "removedWidgets": [],
       "type": "html"
      }
     },
     "output_type": "display_data"
    }
   ],
   "source": [
    "pip install lxml"
   ]
  },
  {
   "cell_type": "code",
   "execution_count": 0,
   "metadata": {
    "application/vnd.databricks.v1+cell": {
     "cellMetadata": {
      "byteLimit": 2048000,
      "rowLimit": 10000
     },
     "inputWidgets": {},
     "nuid": "6f3a0c57-ba86-4449-ba76-cb68b7fbae65",
     "showTitle": false,
     "title": ""
    }
   },
   "outputs": [
    {
     "output_type": "display_data",
     "data": {
      "text/html": [
       "<style scoped>\n",
       "  .ansiout {\n",
       "    display: block;\n",
       "    unicode-bidi: embed;\n",
       "    white-space: pre-wrap;\n",
       "    word-wrap: break-word;\n",
       "    word-break: break-all;\n",
       "    font-family: \"Source Code Pro\", \"Menlo\", monospace;;\n",
       "    font-size: 13px;\n",
       "    color: #555;\n",
       "    margin-left: 4px;\n",
       "    line-height: 19px;\n",
       "  }\n",
       "</style>\n",
       "<div class=\"ansiout\"></div>"
      ]
     },
     "metadata": {
      "application/vnd.databricks.v1+output": {
       "addedWidgets": {},
       "arguments": {},
       "data": "<div class=\"ansiout\"></div>",
       "datasetInfos": [],
       "metadata": {},
       "removedWidgets": [],
       "type": "html"
      }
     },
     "output_type": "display_data"
    }
   ],
   "source": [
    "import os\n",
    "import pandas as pd\n",
    "import bs4\n",
    "import requests\n",
    "from bs4 import BeautifulSoup as bf\n",
    "import json\n",
    "from PIL import Image\n",
    "import requests\n",
    "from io import BytesIO\n",
    "from IPython.display import Image \n",
    "from IPython.core.display import HTML "
   ]
  },
  {
   "cell_type": "code",
   "execution_count": 0,
   "metadata": {
    "application/vnd.databricks.v1+cell": {
     "cellMetadata": {
      "byteLimit": 2048000,
      "rowLimit": 10000
     },
     "inputWidgets": {},
     "nuid": "cc688959-3066-473d-b0d2-1cef368bc635",
     "showTitle": false,
     "title": ""
    }
   },
   "outputs": [
    {
     "output_type": "display_data",
     "data": {
      "text/html": [
       "<style scoped>\n",
       "  .ansiout {\n",
       "    display: block;\n",
       "    unicode-bidi: embed;\n",
       "    white-space: pre-wrap;\n",
       "    word-wrap: break-word;\n",
       "    word-break: break-all;\n",
       "    font-family: \"Source Code Pro\", \"Menlo\", monospace;;\n",
       "    font-size: 13px;\n",
       "    color: #555;\n",
       "    margin-left: 4px;\n",
       "    line-height: 19px;\n",
       "  }\n",
       "</style>\n",
       "<div class=\"ansiout\"></div>"
      ]
     },
     "metadata": {
      "application/vnd.databricks.v1+output": {
       "addedWidgets": {},
       "arguments": {},
       "data": "<div class=\"ansiout\"></div>",
       "datasetInfos": [],
       "metadata": {},
       "removedWidgets": [],
       "type": "html"
      }
     },
     "output_type": "display_data"
    }
   ],
   "source": [
    "container =\"data1\"\n",
    "data_path = f\"abfss://{container}@capstone2023cuhk.dfs.core.windows.net/\"\n",
    "df = spark.read.csv(os.path.join(data_path, \"AML-data\", \"Actual_Data_2021-2022\", \"ITEM_MATCHING_2021_BOOKS.csv\"), header=True)\n",
    "#df = spark.read.csv(os.path.join(data_path, \"AML-data\", \"Actual_Data_2021-2022\", \"ITEM_MATCHING_2022_BOOKS.csv\"), header=True)\n",
    "df = df.toPandas()"
   ]
  },
  {
   "cell_type": "code",
   "execution_count": 0,
   "metadata": {
    "application/vnd.databricks.v1+cell": {
     "cellMetadata": {
      "byteLimit": 2048000,
      "rowLimit": 10000
     },
     "inputWidgets": {},
     "nuid": "7a405870-14f6-4b94-9492-9bd5bc1752ec",
     "showTitle": false,
     "title": ""
    }
   },
   "outputs": [
    {
     "output_type": "display_data",
     "data": {
      "text/html": [
       "<style scoped>\n",
       "  .ansiout {\n",
       "    display: block;\n",
       "    unicode-bidi: embed;\n",
       "    white-space: pre-wrap;\n",
       "    word-wrap: break-word;\n",
       "    word-break: break-all;\n",
       "    font-family: \"Source Code Pro\", \"Menlo\", monospace;;\n",
       "    font-size: 13px;\n",
       "    color: #555;\n",
       "    margin-left: 4px;\n",
       "    line-height: 19px;\n",
       "  }\n",
       "</style>\n",
       "<div class=\"ansiout\">Out[3]: </div>"
      ]
     },
     "metadata": {
      "application/vnd.databricks.v1+output": {
       "addedWidgets": {},
       "arguments": {},
       "data": "<div class=\"ansiout\">Out[3]: </div>",
       "datasetInfos": [],
       "metadata": {},
       "removedWidgets": [],
       "type": "html"
      }
     },
     "output_type": "display_data"
    },
    {
     "output_type": "display_data",
     "data": {
      "text/html": [
       "<div>\n",
       "<style scoped>\n",
       "    .dataframe tbody tr th:only-of-type {\n",
       "        vertical-align: middle;\n",
       "    }\n",
       "\n",
       "    .dataframe tbody tr th {\n",
       "        vertical-align: top;\n",
       "    }\n",
       "\n",
       "    .dataframe thead th {\n",
       "        text-align: right;\n",
       "    }\n",
       "</style>\n",
       "<table border=\"1\" class=\"dataframe\">\n",
       "  <thead>\n",
       "    <tr style=\"text-align: right;\">\n",
       "      <th></th>\n",
       "      <th>PRODUCT_ID</th>\n",
       "      <th>CREATE_DATE</th>\n",
       "      <th>TITLE</th>\n",
       "      <th>COST</th>\n",
       "      <th>PRICE</th>\n",
       "      <th>QTY_PURCHASE</th>\n",
       "      <th>QTY_SALES</th>\n",
       "      <th>QTY_STOCK</th>\n",
       "      <th>VENDOR</th>\n",
       "      <th>BRAND</th>\n",
       "      <th>PRD_CATEGORY</th>\n",
       "      <th>PRD_ORIGIN</th>\n",
       "      <th>ISBN13</th>\n",
       "      <th>PUBLISHER</th>\n",
       "      <th>AUTHOR</th>\n",
       "      <th>TRANSLATOR</th>\n",
       "      <th>BOOK_ORGPR</th>\n",
       "      <th>BOOK_DATE</th>\n",
       "      <th>BOOK_PAGES</th>\n",
       "      <th>BOOK_COVER</th>\n",
       "    </tr>\n",
       "  </thead>\n",
       "  <tbody>\n",
       "    <tr>\n",
       "      <th>0</th>\n",
       "      <td>9781783931835</td>\n",
       "      <td>2022-01-02 00:00:00.000</td>\n",
       "      <td>First 100: Pretty Pink Words</td>\n",
       "      <td>18.17</td>\n",
       "      <td>69.00</td>\n",
       "      <td>50</td>\n",
       "      <td>48</td>\n",
       "      <td>4</td>\n",
       "      <td>LBS</td>\n",
       "      <td>MBI</td>\n",
       "      <td>B.BK</td>\n",
       "      <td>UK</td>\n",
       "      <td>9781783931835</td>\n",
       "      <td>MBI</td>\n",
       "      <td></td>\n",
       "      <td></td>\n",
       "      <td>69.00</td>\n",
       "      <td>NULL</td>\n",
       "      <td>0</td>\n",
       "      <td>H</td>\n",
       "    </tr>\n",
       "    <tr>\n",
       "      <th>1</th>\n",
       "      <td>9781743638446</td>\n",
       "      <td>2022-01-03 00:00:00.000</td>\n",
       "      <td>1001 Cool Riddles and Tongue Twisters</td>\n",
       "      <td>13.74</td>\n",
       "      <td>59.00</td>\n",
       "      <td>142</td>\n",
       "      <td>137</td>\n",
       "      <td>0</td>\n",
       "      <td>HINKLER</td>\n",
       "      <td>HINKLER</td>\n",
       "      <td>J&amp;C</td>\n",
       "      <td>USA</td>\n",
       "      <td>9781743638446</td>\n",
       "      <td>HINKLER</td>\n",
       "      <td></td>\n",
       "      <td></td>\n",
       "      <td>59.00</td>\n",
       "      <td>NULL</td>\n",
       "      <td>208</td>\n",
       "      <td></td>\n",
       "    </tr>\n",
       "    <tr>\n",
       "      <th>2</th>\n",
       "      <td>9781743632918</td>\n",
       "      <td>2022-01-03 00:00:00.000</td>\n",
       "      <td>1001 Cool Gross Jokes</td>\n",
       "      <td>13.35</td>\n",
       "      <td>59.00</td>\n",
       "      <td>210</td>\n",
       "      <td>206</td>\n",
       "      <td>4</td>\n",
       "      <td>HINKLER</td>\n",
       "      <td>HINKLER</td>\n",
       "      <td>J&amp;C</td>\n",
       "      <td>USA</td>\n",
       "      <td>9781743632918</td>\n",
       "      <td>HINKLER</td>\n",
       "      <td></td>\n",
       "      <td></td>\n",
       "      <td>59.00</td>\n",
       "      <td>NULL</td>\n",
       "      <td>208</td>\n",
       "      <td></td>\n",
       "    </tr>\n",
       "    <tr>\n",
       "      <th>3</th>\n",
       "      <td>9781488902840</td>\n",
       "      <td>2022-01-03 00:00:00.000</td>\n",
       "      <td>Cool Kit!: Cool Gross Jokes</td>\n",
       "      <td>29.44</td>\n",
       "      <td>119.00</td>\n",
       "      <td>60</td>\n",
       "      <td>50</td>\n",
       "      <td>8</td>\n",
       "      <td>HINKLER</td>\n",
       "      <td>HINKLER</td>\n",
       "      <td>G/S</td>\n",
       "      <td>USA</td>\n",
       "      <td>9781488902840</td>\n",
       "      <td>HINKLER</td>\n",
       "      <td></td>\n",
       "      <td></td>\n",
       "      <td>119.00</td>\n",
       "      <td>NULL</td>\n",
       "      <td>0</td>\n",
       "      <td></td>\n",
       "    </tr>\n",
       "    <tr>\n",
       "      <th>4</th>\n",
       "      <td>9781742819860</td>\n",
       "      <td>2022-01-03 00:00:00.000</td>\n",
       "      <td>110% Fun Zap! Extra: Pom-Pom Pets</td>\n",
       "      <td>29.44</td>\n",
       "      <td>129.00</td>\n",
       "      <td>204</td>\n",
       "      <td>204</td>\n",
       "      <td>2</td>\n",
       "      <td>HINKLER</td>\n",
       "      <td>HINKLER</td>\n",
       "      <td>G/S</td>\n",
       "      <td>AUS</td>\n",
       "      <td>9781742819860</td>\n",
       "      <td>HINKLER</td>\n",
       "      <td></td>\n",
       "      <td></td>\n",
       "      <td>115.00</td>\n",
       "      <td>NULL</td>\n",
       "      <td>0</td>\n",
       "      <td></td>\n",
       "    </tr>\n",
       "  </tbody>\n",
       "</table>\n",
       "</div>"
      ]
     },
     "metadata": {
      "application/vnd.databricks.v1+output": {
       "addedWidgets": {},
       "arguments": {},
       "data": "<div>\n<style scoped>\n    .dataframe tbody tr th:only-of-type {\n        vertical-align: middle;\n    }\n\n    .dataframe tbody tr th {\n        vertical-align: top;\n    }\n\n    .dataframe thead th {\n        text-align: right;\n    }\n</style>\n<table border=\"1\" class=\"dataframe\">\n  <thead>\n    <tr style=\"text-align: right;\">\n      <th></th>\n      <th>PRODUCT_ID</th>\n      <th>CREATE_DATE</th>\n      <th>TITLE</th>\n      <th>COST</th>\n      <th>PRICE</th>\n      <th>QTY_PURCHASE</th>\n      <th>QTY_SALES</th>\n      <th>QTY_STOCK</th>\n      <th>VENDOR</th>\n      <th>BRAND</th>\n      <th>PRD_CATEGORY</th>\n      <th>PRD_ORIGIN</th>\n      <th>ISBN13</th>\n      <th>PUBLISHER</th>\n      <th>AUTHOR</th>\n      <th>TRANSLATOR</th>\n      <th>BOOK_ORGPR</th>\n      <th>BOOK_DATE</th>\n      <th>BOOK_PAGES</th>\n      <th>BOOK_COVER</th>\n    </tr>\n  </thead>\n  <tbody>\n    <tr>\n      <th>0</th>\n      <td>9781783931835</td>\n      <td>2022-01-02 00:00:00.000</td>\n      <td>First 100: Pretty Pink Words</td>\n      <td>18.17</td>\n      <td>69.00</td>\n      <td>50</td>\n      <td>48</td>\n      <td>4</td>\n      <td>LBS</td>\n      <td>MBI</td>\n      <td>B.BK</td>\n      <td>UK</td>\n      <td>9781783931835</td>\n      <td>MBI</td>\n      <td></td>\n      <td></td>\n      <td>69.00</td>\n      <td>NULL</td>\n      <td>0</td>\n      <td>H</td>\n    </tr>\n    <tr>\n      <th>1</th>\n      <td>9781743638446</td>\n      <td>2022-01-03 00:00:00.000</td>\n      <td>1001 Cool Riddles and Tongue Twisters</td>\n      <td>13.74</td>\n      <td>59.00</td>\n      <td>142</td>\n      <td>137</td>\n      <td>0</td>\n      <td>HINKLER</td>\n      <td>HINKLER</td>\n      <td>J&amp;C</td>\n      <td>USA</td>\n      <td>9781743638446</td>\n      <td>HINKLER</td>\n      <td></td>\n      <td></td>\n      <td>59.00</td>\n      <td>NULL</td>\n      <td>208</td>\n      <td></td>\n    </tr>\n    <tr>\n      <th>2</th>\n      <td>9781743632918</td>\n      <td>2022-01-03 00:00:00.000</td>\n      <td>1001 Cool Gross Jokes</td>\n      <td>13.35</td>\n      <td>59.00</td>\n      <td>210</td>\n      <td>206</td>\n      <td>4</td>\n      <td>HINKLER</td>\n      <td>HINKLER</td>\n      <td>J&amp;C</td>\n      <td>USA</td>\n      <td>9781743632918</td>\n      <td>HINKLER</td>\n      <td></td>\n      <td></td>\n      <td>59.00</td>\n      <td>NULL</td>\n      <td>208</td>\n      <td></td>\n    </tr>\n    <tr>\n      <th>3</th>\n      <td>9781488902840</td>\n      <td>2022-01-03 00:00:00.000</td>\n      <td>Cool Kit!: Cool Gross Jokes</td>\n      <td>29.44</td>\n      <td>119.00</td>\n      <td>60</td>\n      <td>50</td>\n      <td>8</td>\n      <td>HINKLER</td>\n      <td>HINKLER</td>\n      <td>G/S</td>\n      <td>USA</td>\n      <td>9781488902840</td>\n      <td>HINKLER</td>\n      <td></td>\n      <td></td>\n      <td>119.00</td>\n      <td>NULL</td>\n      <td>0</td>\n      <td></td>\n    </tr>\n    <tr>\n      <th>4</th>\n      <td>9781742819860</td>\n      <td>2022-01-03 00:00:00.000</td>\n      <td>110% Fun Zap! Extra: Pom-Pom Pets</td>\n      <td>29.44</td>\n      <td>129.00</td>\n      <td>204</td>\n      <td>204</td>\n      <td>2</td>\n      <td>HINKLER</td>\n      <td>HINKLER</td>\n      <td>G/S</td>\n      <td>AUS</td>\n      <td>9781742819860</td>\n      <td>HINKLER</td>\n      <td></td>\n      <td></td>\n      <td>115.00</td>\n      <td>NULL</td>\n      <td>0</td>\n      <td></td>\n    </tr>\n  </tbody>\n</table>\n</div>",
       "datasetInfos": [],
       "metadata": {},
       "removedWidgets": [],
       "textData": null,
       "type": "htmlSandbox"
      }
     },
     "output_type": "display_data"
    }
   ],
   "source": [
    "df.head()"
   ]
  },
  {
   "cell_type": "code",
   "execution_count": 0,
   "metadata": {
    "application/vnd.databricks.v1+cell": {
     "cellMetadata": {
      "byteLimit": 2048000,
      "rowLimit": 10000
     },
     "inputWidgets": {},
     "nuid": "f8dc1a9e-96ed-4665-9a52-27d714ffcd9a",
     "showTitle": false,
     "title": ""
    }
   },
   "outputs": [
    {
     "output_type": "display_data",
     "data": {
      "text/html": [
       "<style scoped>\n",
       "  .ansiout {\n",
       "    display: block;\n",
       "    unicode-bidi: embed;\n",
       "    white-space: pre-wrap;\n",
       "    word-wrap: break-word;\n",
       "    word-break: break-all;\n",
       "    font-family: \"Source Code Pro\", \"Menlo\", monospace;;\n",
       "    font-size: 13px;\n",
       "    color: #555;\n",
       "    margin-left: 4px;\n",
       "    line-height: 19px;\n",
       "  }\n",
       "</style>\n",
       "<div class=\"ansiout\"></div>"
      ]
     },
     "metadata": {
      "application/vnd.databricks.v1+output": {
       "addedWidgets": {},
       "arguments": {},
       "data": "<div class=\"ansiout\"></div>",
       "datasetInfos": [],
       "metadata": {},
       "removedWidgets": [],
       "type": "html"
      }
     },
     "output_type": "display_data"
    }
   ],
   "source": [
    "#https://www.amazon.com/First-100-Pretty-Pink-Words/dp/1783931833/ref=sr_1_1?Adv-Srch-Books-Submit.x=37&Adv-Srch-Books-Submit.y=9&qid=1680447679&refinements=p_66%3A9781783931835&s=books&sr=1-1&unfiltered=1"
   ]
  },
  {
   "cell_type": "code",
   "execution_count": 0,
   "metadata": {
    "application/vnd.databricks.v1+cell": {
     "cellMetadata": {
      "byteLimit": 2048000,
      "rowLimit": 10000
     },
     "inputWidgets": {},
     "nuid": "ed640b83-db85-4dd2-9790-1ea56f72b827",
     "showTitle": false,
     "title": ""
    }
   },
   "outputs": [
    {
     "output_type": "display_data",
     "data": {
      "text/html": [
       "<style scoped>\n",
       "  .ansiout {\n",
       "    display: block;\n",
       "    unicode-bidi: embed;\n",
       "    white-space: pre-wrap;\n",
       "    word-wrap: break-word;\n",
       "    word-break: break-all;\n",
       "    font-family: \"Source Code Pro\", \"Menlo\", monospace;;\n",
       "    font-size: 13px;\n",
       "    color: #555;\n",
       "    margin-left: 4px;\n",
       "    line-height: 19px;\n",
       "  }\n",
       "</style>\n",
       "<div class=\"ansiout\"></div>"
      ]
     },
     "metadata": {
      "application/vnd.databricks.v1+output": {
       "addedWidgets": {},
       "arguments": {},
       "data": "<div class=\"ansiout\"></div>",
       "datasetInfos": [],
       "metadata": {},
       "removedWidgets": [],
       "type": "html"
      }
     },
     "output_type": "display_data"
    }
   ],
   "source": [
    "HEADERS = ({'User-Agent':\n",
    "            'Mozilla/5.0 (X11; Linux x86_64) AppleWebKit/537.36 (KHTML, like Gecko) Chrome/44.0.2403.157 Safari/537.36',\n",
    "            'Accept-Language': 'en-US, en;q=0.5'})"
   ]
  },
  {
   "cell_type": "code",
   "execution_count": 0,
   "metadata": {
    "application/vnd.databricks.v1+cell": {
     "cellMetadata": {
      "byteLimit": 2048000,
      "rowLimit": 10000
     },
     "inputWidgets": {},
     "nuid": "bddac349-be1d-4c0e-8351-0b53d9c4af59",
     "showTitle": false,
     "title": ""
    }
   },
   "outputs": [
    {
     "output_type": "display_data",
     "data": {
      "text/html": [
       "<style scoped>\n",
       "  .ansiout {\n",
       "    display: block;\n",
       "    unicode-bidi: embed;\n",
       "    white-space: pre-wrap;\n",
       "    word-wrap: break-word;\n",
       "    word-break: break-all;\n",
       "    font-family: \"Source Code Pro\", \"Menlo\", monospace;;\n",
       "    font-size: 13px;\n",
       "    color: #555;\n",
       "    margin-left: 4px;\n",
       "    line-height: 19px;\n",
       "  }\n",
       "</style>\n",
       "<div class=\"ansiout\"></div>"
      ]
     },
     "metadata": {
      "application/vnd.databricks.v1+output": {
       "addedWidgets": {},
       "arguments": {},
       "data": "<div class=\"ansiout\"></div>",
       "datasetInfos": [],
       "metadata": {},
       "removedWidgets": [],
       "type": "html"
      }
     },
     "output_type": "display_data"
    }
   ],
   "source": [
    "headers = {'User-Agent': 'Mozilla/5.0 (X11; Ubuntu; Linux x86_64; rv:80.0) Gecko/20100101 Firefox/80.0'}"
   ]
  },
  {
   "cell_type": "code",
   "execution_count": 0,
   "metadata": {
    "application/vnd.databricks.v1+cell": {
     "cellMetadata": {
      "byteLimit": 2048000,
      "rowLimit": 10000
     },
     "inputWidgets": {},
     "nuid": "4168444d-1d49-443d-bd54-9f7089d652bb",
     "showTitle": false,
     "title": ""
    }
   },
   "outputs": [
    {
     "output_type": "display_data",
     "data": {
      "text/html": [
       "<style scoped>\n",
       "  .ansiout {\n",
       "    display: block;\n",
       "    unicode-bidi: embed;\n",
       "    white-space: pre-wrap;\n",
       "    word-wrap: break-word;\n",
       "    word-break: break-all;\n",
       "    font-family: \"Source Code Pro\", \"Menlo\", monospace;;\n",
       "    font-size: 13px;\n",
       "    color: #555;\n",
       "    margin-left: 4px;\n",
       "    line-height: 19px;\n",
       "  }\n",
       "</style>\n",
       "<div class=\"ansiout\"></div>"
      ]
     },
     "metadata": {
      "application/vnd.databricks.v1+output": {
       "addedWidgets": {},
       "arguments": {},
       "data": "<div class=\"ansiout\"></div>",
       "datasetInfos": [],
       "metadata": {},
       "removedWidgets": [],
       "type": "html"
      }
     },
     "output_type": "display_data"
    }
   ],
   "source": [
    "# URL = \"https://www.amazon.com/Cool-Gross-Jokes-Kit/dp/1488902844/ref=sr_1_1?Adv-Srch-Books-Submit.x=37&Adv-Srch-Books-Submit.y=9&qid=1680447746&refinements=p_66%3A9781488902840&s=books&sr=1-1&unfiltered=1\"\n",
    "URL = \"https://isbnsearch.org/isbn/9781783931835\"\n",
    "webpage = requests.get(URL, headers=headers)"
   ]
  },
  {
   "cell_type": "code",
   "execution_count": 0,
   "metadata": {
    "application/vnd.databricks.v1+cell": {
     "cellMetadata": {
      "byteLimit": 2048000,
      "rowLimit": 10000
     },
     "inputWidgets": {},
     "nuid": "eb963612-75f5-4ed0-8b57-aa39b665da3e",
     "showTitle": false,
     "title": ""
    }
   },
   "outputs": [
    {
     "output_type": "display_data",
     "data": {
      "text/html": [
       "<style scoped>\n",
       "  .ansiout {\n",
       "    display: block;\n",
       "    unicode-bidi: embed;\n",
       "    white-space: pre-wrap;\n",
       "    word-wrap: break-word;\n",
       "    word-break: break-all;\n",
       "    font-family: \"Source Code Pro\", \"Menlo\", monospace;;\n",
       "    font-size: 13px;\n",
       "    color: #555;\n",
       "    margin-left: 4px;\n",
       "    line-height: 19px;\n",
       "  }\n",
       "</style>\n",
       "<div class=\"ansiout\">Out[39]: b&#39;&lt;!DOCTYPE html&gt;\\r\\n&lt;html lang=&#34;en&#34;&gt;\\r\\n  &lt;head&gt;\\r\\n    &lt;!-- Google tag (gtag.js) --&gt;\\r\\n    &lt;script async src=&#34;https://www.googletagmanager.com/gtag/js?id=G-5CHMRHP5D2&#34;&gt;&lt;/script&gt;\\r\\n    &lt;script&gt;\\r\\n      window.dataLayer = window.dataLayer || [];\\r\\n      function gtag(){dataLayer.push(arguments);}\\r\\n      gtag(\\&#39;js\\&#39;, new Date());\\r\\n\\r\\n      gtag(\\&#39;config\\&#39;, \\&#39;G-5CHMRHP5D2\\&#39;);\\r\\n      gtag(\\&#39;config\\&#39;, \\&#39;UA-23560130-1\\&#39;);\\r\\n    &lt;/script&gt;\\r\\n    &lt;meta charset=&#34;utf-8&#34;&gt;\\r\\n    &lt;meta name=&#34;viewport&#34; content=&#34;width=device-width, initial-scale=1&#34;&gt;\\r\\n    &lt;title&gt;ISBN 9781783931835 - First 100 Pretty Pink Words&lt;/title&gt;\\r\\n    &lt;meta name=&#34;description&#34; content=&#34;First 100 Pretty Pink Words - Information and prices for ISBN 9781783931835, ISBN 1783931833&#34;&gt;\\r\\n    &lt;meta name=&#34;canonical&#34; content=&#34;https://isbnsearch.org/isbn/9781783931835&#34;&gt;\\r\\n    &lt;link rel=&#34;stylesheet&#34; type=&#34;text/css&#34; href=&#34;/css/style.min.css&#34;&gt;\\r\\n    &lt;link rel=&#34;icon&#34; type=&#34;image/x-icon&#34; href=&#34;/images/favicon.png&#34;&gt;\\r\\n    &lt;script src=&#34;https://www.google.com/recaptcha/api.js&#34; async defer&gt;&lt;/script&gt;\\r\\n  &lt;/head&gt;\\r\\n  &lt;body&gt;\\r\\n    &lt;div id=&#34;page&#34;&gt;\\r\\n      &lt;header&gt;\\r\\n        &lt;p&gt;&lt;a href=&#34;/&#34; title=&#34;ISBN Search&#34;&gt;ISBN Search&lt;/a&gt;&lt;/p&gt;\\r\\n      &lt;/header&gt;\\r\\n    &lt;form id=&#34;search&#34; action=&#34;/search&#34; method=&#34;post&#34;&gt;\\r\\n      &lt;div&gt;\\r\\n        &lt;label id=&#34;find&#34; for=&#34;searchQuery&#34;&gt;Find a book:&lt;/label&gt;\\r\\n        &lt;input id=&#34;searchQuery&#34; name=&#34;searchQuery&#34; type=&#34;text&#34; class=&#34;start&#34; onfocus=&#34;if(this.value==\\&#39;Enter the ISBN, Title, or Author\\&#39;) { this.value=\\&#39;\\&#39;; this.className=\\&#39;\\&#39;; }&#34; onblur=&#34;if(this.value==\\&#39;\\&#39;) { this.value=\\&#39;Enter the ISBN, Title, or Author\\&#39;; this.className=\\&#39;start\\&#39;; }&#34; value=&#34;Enter the ISBN, Title, or Author&#34;&gt;\\r\\n        &lt;/div&gt;\\r\\n      &lt;button type=&#34;submit&#34; id=&#34;searchSubmit&#34; name=&#34;searchSubmit&#34; class=&#34;btn&#34;&gt;Search&lt;/button&gt;\\r\\n    &lt;/form&gt;  &lt;div id=&#34;book&#34;&gt;\\r\\n      &lt;div class=&#34;image&#34;&gt;\\r\\n      &lt;img src=&#34;https://images.isbndb.com/covers/18/35/9781783931835.jpg&#34; alt=&#34;First 100 Pretty Pink Words&#34;&gt;\\r\\n    &lt;/div&gt;\\r\\n      &lt;div class=&#34;bookinfo&#34;&gt;\\r\\n      &lt;h1&gt;First 100 Pretty Pink Words&lt;/h1&gt;\\r\\n        &lt;p&gt;&lt;strong&gt;ISBN-13:&lt;/strong&gt; &lt;a href=&#34;/isbn/9781783931835&#34;&gt;9781783931835&lt;/a&gt;&lt;/p&gt;\\r\\n          &lt;p&gt;&lt;strong&gt;ISBN-10:&lt;/strong&gt; &lt;a href=&#34;/isbn/1783931833&#34;&gt;1783931833&lt;/a&gt;&lt;/p&gt;\\r\\n              &lt;p&gt;&lt;strong&gt;Binding:&lt;/strong&gt; Board book&lt;/p&gt;\\r\\n          &lt;p&gt;&lt;strong&gt;Publisher:&lt;/strong&gt; Make Believe Ideas&lt;/p&gt;\\r\\n          &lt;p&gt;&lt;strong&gt;Published:&lt;/strong&gt; 2023&lt;/p&gt;\\r\\n        &lt;/div&gt;\\r\\n    &lt;p class=&#34;clear&#34;&gt;&lt;/p&gt;\\r\\n  &lt;/div&gt;\\r\\n&lt;div class=&#34;prices&#34;&gt;\\r\\n  &lt;h2&gt;Best Used Prices&lt;/h2&gt;\\r\\n  &lt;ul&gt;\\r\\n        &lt;li&gt;\\r\\n      &lt;div class=&#34;merchant&#34;&gt;\\r\\n        &lt;a rel=&#34;nofollow&#34; target=&#34;_blank&#34; href=&#34;/book?loc=0_X1U9CDHNzLR_ILcDqW3Y1iP6jNNa6g8o86uR-6Quoz53nKSIep_MK1d6w3c568g-O9GymeW9G2fMcCDl_A91cqqGjo0k6XA9XCjuJ9NTluLuaUsytSx0XfN-VNe2Amq72miCs4A6yEMAJ9MQvxPHhKpAUY0vTHPIZdZzpxo6sNDDtcA-2dkqSYubCv5XQnyb-2b2RAGrn_-P8E_u9vTxfXMaze9Zlag6Z_3apAxSdPfnsNqsMYeIJxZOzm-Nz-&#34;&gt;&lt;img src=&#34;/images/merchants/24.png&#34; alt=&#34;Amazon Mkt Used&#34;&gt;&lt;/a&gt;\\r\\n      &lt;/div&gt;\\r\\n      &lt;div class=&#34;info&#34;&gt;\\r\\n        &lt;div class=&#34;price&#34;&gt;\\r\\n          &lt;p class=&#34;pricelink&#34;&gt;&lt;a rel=&#34;nofollow&#34; target=&#34;_blank&#34; href=&#34;/book?loc=0_X1U9CDHNzLR_ILcDqW3Y1iP6jNNa6g8o86uR-6Quoz53nKSIep_MK1d6w3c568g-O9GymeW9G2fMcCDl_A91cqqGjo0k6XA9XCjuJ9NTluLuaUsytSx0XfN-VNe2Amq72miCs4A6yEMAJ9MQvxPHhKpAUY0vTHPIZdZzpxo6sNDDtcA-2dkqSYubCv5XQnyb-2b2RAGrn_-P8E_u9vTxfXMaze9Zlag6Z_3apAxSdPfnsNqsMYeIJxZOzm-Nz-&#34;&gt;$3.56&lt;/a&gt;&lt;/p&gt;\\r\\n          &lt;p class=&#34;shipping&#34;&gt;+3.99 shipping&lt;/p&gt;\\r\\n          &lt;p class=&#34;status&#34;&gt;&lt;/p&gt;\\r\\n        &lt;/div&gt;\\r\\n        &lt;div class=&#34;notes&#34;&gt;\\r\\n          &lt;p class=&#34;tip&#34; title=&#34;None&#34; rel=&#34;tooltip&#34;&gt;Notes&lt;/p&gt;\\r\\n        &lt;/div&gt;\\r\\n        &lt;div class=&#34;buylink&#34;&gt;&lt;a class=&#34;btn view&#34; rel=&#34;nofollow&#34; target=&#34;_blank&#34; href=&#34;/book?loc=0_X1U9CDHNzLR_ILcDqW3Y1iP6jNNa6g8o86uR-6Quoz53nKSIep_MK1d6w3c568g-O9GymeW9G2fMcCDl_A91cqqGjo0k6XA9XCjuJ9NTluLuaUsytSx0XfN-VNe2Amq72miCs4A6yEMAJ9MQvxPHhKpAUY0vTHPIZdZzpxo6sNDDtcA-2dkqSYubCv5XQnyb-2b2RAGrn_-P8E_u9vTxfXMaze9Zlag6Z_3apAxSdPfnsNqsMYeIJxZOzm-Nz-&#34;&gt;Buy this book &amp;rsaquo;&lt;/a&gt;&lt;/div&gt;\\r\\n      &lt;/div&gt;\\r\\n    &lt;/li&gt;\\r\\n        &lt;li&gt;\\r\\n      &lt;div class=&#34;merchant&#34;&gt;\\r\\n        &lt;a rel=&#34;nofollow&#34; target=&#34;_blank&#34; href=&#34;/book?loc=-L3OyYvtIyMGcM_vUZd4ra4GxIveUvRc9QJwltPKG-5E4Wmpt0sMy2dhGcRr2c1Q5-eYac1eiBv04nUQqwxMSalLIEqvmti4Zd84VMjZWwc5GrtFTwAIth6dXtYSLGtMPycdsNH-uTSb7WTVarAIy_IPTvj4wDYbP09sPezCRkg-5AljpvFX0GveZULs0HMfNZVg8O7FXBeSZixwsYMmz3natmP2czZPvOV2zghqMEtcFwGPthLWVDMT8PiB0IP6yZBsToiAO439G7LJkyqfhBd7PWiW0eOinSdPHuZAaho-x55rXw941xhWgZVCuS2JXYjoKEDkn19oHBNN8OuFql120IuZuYj_Lle43svh0KSzUR4d-tpROMqo4xGcMEZi&#34;&gt;&lt;img src=&#34;/images/merchants/2023.png&#34; alt=&#34;AbeBooks.com Used&#34;&gt;&lt;/a&gt;\\r\\n      &lt;/div&gt;\\r\\n      &lt;div class=&#34;info&#34;&gt;\\r\\n        &lt;div class=&#34;price&#34;&gt;\\r\\n          &lt;p class=&#34;pricelink&#34;&gt;&lt;a rel=&#34;nofollow&#34; target=&#34;_blank&#34; href=&#34;/book?loc=-L3OyYvtIyMGcM_vUZd4ra4GxIveUvRc9QJwltPKG-5E4Wmpt0sMy2dhGcRr2c1Q5-eYac1eiBv04nUQqwxMSalLIEqvmti4Zd84VMjZWwc5GrtFTwAIth6dXtYSLGtMPycdsNH-uTSb7WTVarAIy_IPTvj4wDYbP09sPezCRkg-5AljpvFX0GveZULs0HMfNZVg8O7FXBeSZixwsYMmz3natmP2czZPvOV2zghqMEtcFwGPthLWVDMT8PiB0IP6yZBsToiAO439G7LJkyqfhBd7PWiW0eOinSdPHuZAaho-x55rXw941xhWgZVCuS2JXYjoKEDkn19oHBNN8OuFql120IuZuYj_Lle43svh0KSzUR4d-tpROMqo4xGcMEZi&#34;&gt;$3.56&lt;/a&gt;&lt;/p&gt;\\r\\n          &lt;p class=&#34;shipping&#34;&gt;+3.99 shipping&lt;/p&gt;\\r\\n          &lt;p class=&#34;status&#34;&gt;&lt;/p&gt;\\r\\n        &lt;/div&gt;\\r\\n        &lt;div class=&#34;notes&#34;&gt;\\r\\n          &lt;p class=&#34;tip&#34; title=&#34;. . All orders guaranteed and ship within 24 hours. Before placing your order for please contact us for confirmation on the book&amp;#039;s binding. Check out our other listings to add to your order for discounted shipping.&#34; rel=&#34;tooltip&#34;&gt;Notes&lt;/p&gt;\\r\\n        &lt;/div&gt;\\r\\n        &lt;div class=&#34;buylink&#34;&gt;&lt;a class=&#34;btn view&#34; rel=&#34;nofollow&#34; target=&#34;_blank&#34; href=&#34;/book?loc=-L3OyYvtIyMGcM_vUZd4ra4GxIveUvRc9QJwltPKG-5E4Wmpt0sMy2dhGcRr2c1Q5-eYac1eiBv04nUQqwxMSalLIEqvmti4Zd84VMjZWwc5GrtFTwAIth6dXtYSLGtMPycdsNH-uTSb7WTVarAIy_IPTvj4wDYbP09sPezCRkg-5AljpvFX0GveZULs0HMfNZVg8O7FXBeSZixwsYMmz3natmP2czZPvOV2zghqMEtcFwGPthLWVDMT8PiB0IP6yZBsToiAO439G7LJkyqfhBd7PWiW0eOinSdPHuZAaho-x55rXw941xhWgZVCuS2JXYjoKEDkn19oHBNN8OuFql120IuZuYj_Lle43svh0KSzUR4d-tpROMqo4xGcMEZi&#34;&gt;Buy this book &amp;rsaquo;&lt;/a&gt;&lt;/div&gt;\\r\\n      &lt;/div&gt;\\r\\n    &lt;/li&gt;\\r\\n        &lt;li&gt;\\r\\n      &lt;div class=&#34;merchant&#34;&gt;\\r\\n        &lt;a rel=&#34;nofollow&#34; target=&#34;_blank&#34; href=&#34;/book?loc=f_D6x1EDW0fdjG_bZKOJ2XfUEYskU9ukRQ-dJcaNfa9w6apIPkMnTWNJgvF7kb7YqhXeDayWCRTB5Qb9thS-fjcfAPMjviJoiD0lniYp0Ivl-68tytftrJEVSeZcYxqT_xjFTNZ_VKWS-XpLZr6zUloeJzNOffLjHpYRQLC37XwKzVvfIV6d0uM1O-QqvirRYYRK2HZeorYt3Y03ytMmVmVONSC_CqYn-BqH8u7EJw-pRCJjnePU7VZx7JcGmSlgrNWnsMGoZ1np6zL5tb59YfZghw7AUn4MjqEfpo1rTbgsVZD0vm3w1l4Hvi9637BBN827mML6uEf5ULuC_aLyxVqM0Vbwe-qRBZpGKG-DC1pIGkNkDi57vzy8BFfdvsUeR32zjfTdOOoBwvZfCUEOqcRxnk8uRAatOpguIc95cHb9EXole611axapBDpaQIvitVuuZnrUrVApIVtBtxfbzQ&#34;&gt;&lt;img src=&#34;/images/merchants/23.png&#34; alt=&#34;Alibris.com&#34;&gt;&lt;/a&gt;\\r\\n      &lt;/div&gt;\\r\\n      &lt;div class=&#34;info&#34;&gt;\\r\\n        &lt;div class=&#34;price&#34;&gt;\\r\\n          &lt;p class=&#34;pricelink&#34;&gt;&lt;a rel=&#34;nofollow&#34; target=&#34;_blank&#34; href=&#34;/book?loc=f_D6x1EDW0fdjG_bZKOJ2XfUEYskU9ukRQ-dJcaNfa9w6apIPkMnTWNJgvF7kb7YqhXeDayWCRTB5Qb9thS-fjcfAPMjviJoiD0lniYp0Ivl-68tytftrJEVSeZcYxqT_xjFTNZ_VKWS-XpLZr6zUloeJzNOffLjHpYRQLC37XwKzVvfIV6d0uM1O-QqvirRYYRK2HZeorYt3Y03ytMmVmVONSC_CqYn-BqH8u7EJw-pRCJjnePU7VZx7JcGmSlgrNWnsMGoZ1np6zL5tb59YfZghw7AUn4MjqEfpo1rTbgsVZD0vm3w1l4Hvi9637BBN827mML6uEf5ULuC_aLyxVqM0Vbwe-qRBZpGKG-DC1pIGkNkDi57vzy8BFfdvsUeR32zjfTdOOoBwvZfCUEOqcRxnk8uRAatOpguIc95cHb9EXole611axapBDpaQIvitVuuZnrUrVApIVtBtxfbzQ&#34;&gt;$3.56&lt;/a&gt;&lt;/p&gt;\\r\\n          &lt;p class=&#34;shipping&#34;&gt;+4.49 shipping&lt;/p&gt;\\r\\n          &lt;p class=&#34;status&#34;&gt;&lt;/p&gt;\\r\\n        &lt;/div&gt;\\r\\n        &lt;div class=&#34;notes&#34;&gt;\\r\\n          &lt;p class=&#34;tip&#34; title=&#34;. All orders guaranteed and ship within 24 hours. Your purchase supports More Than Words, a nonprofit job training program for youth, empowering youth to take charge of their lives by taking charge of a business. Good&#34; rel=&#34;tooltip&#34;&gt;Notes&lt;/p&gt;\\r\\n        &lt;/div&gt;\\r\\n        &lt;div class=&#34;buylink&#34;&gt;&lt;a class=&#34;btn view&#34; rel=&#34;nofollow&#34; target=&#34;_blank&#34; href=&#34;/book?loc=f_D6x1EDW0fdjG_bZKOJ2XfUEYskU9ukRQ-dJcaNfa9w6apIPkMnTWNJgvF7kb7YqhXeDayWCRTB5Qb9thS-fjcfAPMjviJoiD0lniYp0Ivl-68tytftrJEVSeZcYxqT_xjFTNZ_VKWS-XpLZr6zUloeJzNOffLjHpYRQLC37XwKzVvfIV6d0uM1O-QqvirRYYRK2HZeorYt3Y03ytMmVmVONSC_CqYn-BqH8u7EJw-pRCJjnePU7VZx7JcGmSlgrNWnsMGoZ1np6zL5tb59YfZghw7AUn4MjqEfpo1rTbgsVZD0vm3w1l4Hvi9637BBN827mML6uEf5ULuC_aLyxVqM0Vbwe-qRBZpGKG-DC1pIGkNkDi57vzy8BFfdvsUeR32zjfTdOOoBwvZfCUEOqcRxnk8uRAatOpguIc95cHb9EXole611axapBDpaQIvitVuuZnrUrVApIVtBtxfbzQ&#34;&gt;Buy this book &amp;rsaquo;&lt;/a&gt;&lt;/div&gt;\\r\\n      &lt;/div&gt;\\r\\n    &lt;/li&gt;\\r\\n      &lt;/ul&gt;\\r\\n&lt;/div&gt;\\r\\n    \\r\\n\\r\\n\\r\\n  \\r\\n\\r\\n\\r\\n\\r\\n\\r\\n\\r\\n\\r\\n\\r\\n    &lt;/div&gt;&lt;!--page--&gt;\\r\\n    &lt;footer&gt;\\r\\n      &lt;ul&gt;\\r\\n        &lt;li&gt;Copyright &amp;copy; 2008-2023 &lt;a href=&#34;/&#34;&gt;ISBNsearch.org&lt;/a&gt;&lt;/li&gt;\\r\\n        &lt;li&gt;&lt;a href=&#34;/privacy&#34;&gt;Privacy&lt;/a&gt;&lt;/li&gt;\\r\\n      &lt;/ul&gt;\\r\\n      &lt;p class=&#34;note&#34;&gt;This website is an independent service and is not affiliated with The International ISBN Agency Limited or any other national ISBN registration agency.&lt;/p&gt;\\r\\n    &lt;/footer&gt;\\r\\n    &lt;script src=&#34;https://ajax.googleapis.com/ajax/libs/jquery/3.2.1/jquery.min.js&#34;&gt;&lt;/script&gt;\\r\\n    &lt;script type=&#34;text/javascript&#34; src=&#34;/js/tips.js&#34;&gt;&lt;/script&gt;\\r\\n  &lt;/body&gt;\\r\\n&lt;/html&gt;&#39;</div>"
      ]
     },
     "metadata": {
      "application/vnd.databricks.v1+output": {
       "addedWidgets": {},
       "arguments": {},
       "data": "<div class=\"ansiout\">Out[39]: b&#39;&lt;!DOCTYPE html&gt;\\r\\n&lt;html lang=&#34;en&#34;&gt;\\r\\n  &lt;head&gt;\\r\\n    &lt;!-- Google tag (gtag.js) --&gt;\\r\\n    &lt;script async src=&#34;https://www.googletagmanager.com/gtag/js?id=G-5CHMRHP5D2&#34;&gt;&lt;/script&gt;\\r\\n    &lt;script&gt;\\r\\n      window.dataLayer = window.dataLayer || [];\\r\\n      function gtag(){dataLayer.push(arguments);}\\r\\n      gtag(\\&#39;js\\&#39;, new Date());\\r\\n\\r\\n      gtag(\\&#39;config\\&#39;, \\&#39;G-5CHMRHP5D2\\&#39;);\\r\\n      gtag(\\&#39;config\\&#39;, \\&#39;UA-23560130-1\\&#39;);\\r\\n    &lt;/script&gt;\\r\\n    &lt;meta charset=&#34;utf-8&#34;&gt;\\r\\n    &lt;meta name=&#34;viewport&#34; content=&#34;width=device-width, initial-scale=1&#34;&gt;\\r\\n    &lt;title&gt;ISBN 9781783931835 - First 100 Pretty Pink Words&lt;/title&gt;\\r\\n    &lt;meta name=&#34;description&#34; content=&#34;First 100 Pretty Pink Words - Information and prices for ISBN 9781783931835, ISBN 1783931833&#34;&gt;\\r\\n    &lt;meta name=&#34;canonical&#34; content=&#34;https://isbnsearch.org/isbn/9781783931835&#34;&gt;\\r\\n    &lt;link rel=&#34;stylesheet&#34; type=&#34;text/css&#34; href=&#34;/css/style.min.css&#34;&gt;\\r\\n    &lt;link rel=&#34;icon&#34; type=&#34;image/x-icon&#34; href=&#34;/images/favicon.png&#34;&gt;\\r\\n    &lt;script src=&#34;https://www.google.com/recaptcha/api.js&#34; async defer&gt;&lt;/script&gt;\\r\\n  &lt;/head&gt;\\r\\n  &lt;body&gt;\\r\\n    &lt;div id=&#34;page&#34;&gt;\\r\\n      &lt;header&gt;\\r\\n        &lt;p&gt;&lt;a href=&#34;/&#34; title=&#34;ISBN Search&#34;&gt;ISBN Search&lt;/a&gt;&lt;/p&gt;\\r\\n      &lt;/header&gt;\\r\\n    &lt;form id=&#34;search&#34; action=&#34;/search&#34; method=&#34;post&#34;&gt;\\r\\n      &lt;div&gt;\\r\\n        &lt;label id=&#34;find&#34; for=&#34;searchQuery&#34;&gt;Find a book:&lt;/label&gt;\\r\\n        &lt;input id=&#34;searchQuery&#34; name=&#34;searchQuery&#34; type=&#34;text&#34; class=&#34;start&#34; onfocus=&#34;if(this.value==\\&#39;Enter the ISBN, Title, or Author\\&#39;) { this.value=\\&#39;\\&#39;; this.className=\\&#39;\\&#39;; }&#34; onblur=&#34;if(this.value==\\&#39;\\&#39;) { this.value=\\&#39;Enter the ISBN, Title, or Author\\&#39;; this.className=\\&#39;start\\&#39;; }&#34; value=&#34;Enter the ISBN, Title, or Author&#34;&gt;\\r\\n        &lt;/div&gt;\\r\\n      &lt;button type=&#34;submit&#34; id=&#34;searchSubmit&#34; name=&#34;searchSubmit&#34; class=&#34;btn&#34;&gt;Search&lt;/button&gt;\\r\\n    &lt;/form&gt;  &lt;div id=&#34;book&#34;&gt;\\r\\n      &lt;div class=&#34;image&#34;&gt;\\r\\n      &lt;img src=&#34;https://images.isbndb.com/covers/18/35/9781783931835.jpg&#34; alt=&#34;First 100 Pretty Pink Words&#34;&gt;\\r\\n    &lt;/div&gt;\\r\\n      &lt;div class=&#34;bookinfo&#34;&gt;\\r\\n      &lt;h1&gt;First 100 Pretty Pink Words&lt;/h1&gt;\\r\\n        &lt;p&gt;&lt;strong&gt;ISBN-13:&lt;/strong&gt; &lt;a href=&#34;/isbn/9781783931835&#34;&gt;9781783931835&lt;/a&gt;&lt;/p&gt;\\r\\n          &lt;p&gt;&lt;strong&gt;ISBN-10:&lt;/strong&gt; &lt;a href=&#34;/isbn/1783931833&#34;&gt;1783931833&lt;/a&gt;&lt;/p&gt;\\r\\n              &lt;p&gt;&lt;strong&gt;Binding:&lt;/strong&gt; Board book&lt;/p&gt;\\r\\n          &lt;p&gt;&lt;strong&gt;Publisher:&lt;/strong&gt; Make Believe Ideas&lt;/p&gt;\\r\\n          &lt;p&gt;&lt;strong&gt;Published:&lt;/strong&gt; 2023&lt;/p&gt;\\r\\n        &lt;/div&gt;\\r\\n    &lt;p class=&#34;clear&#34;&gt;&lt;/p&gt;\\r\\n  &lt;/div&gt;\\r\\n&lt;div class=&#34;prices&#34;&gt;\\r\\n  &lt;h2&gt;Best Used Prices&lt;/h2&gt;\\r\\n  &lt;ul&gt;\\r\\n        &lt;li&gt;\\r\\n      &lt;div class=&#34;merchant&#34;&gt;\\r\\n        &lt;a rel=&#34;nofollow&#34; target=&#34;_blank&#34; href=&#34;/book?loc=0_X1U9CDHNzLR_ILcDqW3Y1iP6jNNa6g8o86uR-6Quoz53nKSIep_MK1d6w3c568g-O9GymeW9G2fMcCDl_A91cqqGjo0k6XA9XCjuJ9NTluLuaUsytSx0XfN-VNe2Amq72miCs4A6yEMAJ9MQvxPHhKpAUY0vTHPIZdZzpxo6sNDDtcA-2dkqSYubCv5XQnyb-2b2RAGrn_-P8E_u9vTxfXMaze9Zlag6Z_3apAxSdPfnsNqsMYeIJxZOzm-Nz-&#34;&gt;&lt;img src=&#34;/images/merchants/24.png&#34; alt=&#34;Amazon Mkt Used&#34;&gt;&lt;/a&gt;\\r\\n      &lt;/div&gt;\\r\\n      &lt;div class=&#34;info&#34;&gt;\\r\\n        &lt;div class=&#34;price&#34;&gt;\\r\\n          &lt;p class=&#34;pricelink&#34;&gt;&lt;a rel=&#34;nofollow&#34; target=&#34;_blank&#34; href=&#34;/book?loc=0_X1U9CDHNzLR_ILcDqW3Y1iP6jNNa6g8o86uR-6Quoz53nKSIep_MK1d6w3c568g-O9GymeW9G2fMcCDl_A91cqqGjo0k6XA9XCjuJ9NTluLuaUsytSx0XfN-VNe2Amq72miCs4A6yEMAJ9MQvxPHhKpAUY0vTHPIZdZzpxo6sNDDtcA-2dkqSYubCv5XQnyb-2b2RAGrn_-P8E_u9vTxfXMaze9Zlag6Z_3apAxSdPfnsNqsMYeIJxZOzm-Nz-&#34;&gt;$3.56&lt;/a&gt;&lt;/p&gt;\\r\\n          &lt;p class=&#34;shipping&#34;&gt;+3.99 shipping&lt;/p&gt;\\r\\n          &lt;p class=&#34;status&#34;&gt;&lt;/p&gt;\\r\\n        &lt;/div&gt;\\r\\n        &lt;div class=&#34;notes&#34;&gt;\\r\\n          &lt;p class=&#34;tip&#34; title=&#34;None&#34; rel=&#34;tooltip&#34;&gt;Notes&lt;/p&gt;\\r\\n        &lt;/div&gt;\\r\\n        &lt;div class=&#34;buylink&#34;&gt;&lt;a class=&#34;btn view&#34; rel=&#34;nofollow&#34; target=&#34;_blank&#34; href=&#34;/book?loc=0_X1U9CDHNzLR_ILcDqW3Y1iP6jNNa6g8o86uR-6Quoz53nKSIep_MK1d6w3c568g-O9GymeW9G2fMcCDl_A91cqqGjo0k6XA9XCjuJ9NTluLuaUsytSx0XfN-VNe2Amq72miCs4A6yEMAJ9MQvxPHhKpAUY0vTHPIZdZzpxo6sNDDtcA-2dkqSYubCv5XQnyb-2b2RAGrn_-P8E_u9vTxfXMaze9Zlag6Z_3apAxSdPfnsNqsMYeIJxZOzm-Nz-&#34;&gt;Buy this book &amp;rsaquo;&lt;/a&gt;&lt;/div&gt;\\r\\n      &lt;/div&gt;\\r\\n    &lt;/li&gt;\\r\\n        &lt;li&gt;\\r\\n      &lt;div class=&#34;merchant&#34;&gt;\\r\\n        &lt;a rel=&#34;nofollow&#34; target=&#34;_blank&#34; href=&#34;/book?loc=-L3OyYvtIyMGcM_vUZd4ra4GxIveUvRc9QJwltPKG-5E4Wmpt0sMy2dhGcRr2c1Q5-eYac1eiBv04nUQqwxMSalLIEqvmti4Zd84VMjZWwc5GrtFTwAIth6dXtYSLGtMPycdsNH-uTSb7WTVarAIy_IPTvj4wDYbP09sPezCRkg-5AljpvFX0GveZULs0HMfNZVg8O7FXBeSZixwsYMmz3natmP2czZPvOV2zghqMEtcFwGPthLWVDMT8PiB0IP6yZBsToiAO439G7LJkyqfhBd7PWiW0eOinSdPHuZAaho-x55rXw941xhWgZVCuS2JXYjoKEDkn19oHBNN8OuFql120IuZuYj_Lle43svh0KSzUR4d-tpROMqo4xGcMEZi&#34;&gt;&lt;img src=&#34;/images/merchants/2023.png&#34; alt=&#34;AbeBooks.com Used&#34;&gt;&lt;/a&gt;\\r\\n      &lt;/div&gt;\\r\\n      &lt;div class=&#34;info&#34;&gt;\\r\\n        &lt;div class=&#34;price&#34;&gt;\\r\\n          &lt;p class=&#34;pricelink&#34;&gt;&lt;a rel=&#34;nofollow&#34; target=&#34;_blank&#34; href=&#34;/book?loc=-L3OyYvtIyMGcM_vUZd4ra4GxIveUvRc9QJwltPKG-5E4Wmpt0sMy2dhGcRr2c1Q5-eYac1eiBv04nUQqwxMSalLIEqvmti4Zd84VMjZWwc5GrtFTwAIth6dXtYSLGtMPycdsNH-uTSb7WTVarAIy_IPTvj4wDYbP09sPezCRkg-5AljpvFX0GveZULs0HMfNZVg8O7FXBeSZixwsYMmz3natmP2czZPvOV2zghqMEtcFwGPthLWVDMT8PiB0IP6yZBsToiAO439G7LJkyqfhBd7PWiW0eOinSdPHuZAaho-x55rXw941xhWgZVCuS2JXYjoKEDkn19oHBNN8OuFql120IuZuYj_Lle43svh0KSzUR4d-tpROMqo4xGcMEZi&#34;&gt;$3.56&lt;/a&gt;&lt;/p&gt;\\r\\n          &lt;p class=&#34;shipping&#34;&gt;+3.99 shipping&lt;/p&gt;\\r\\n          &lt;p class=&#34;status&#34;&gt;&lt;/p&gt;\\r\\n        &lt;/div&gt;\\r\\n        &lt;div class=&#34;notes&#34;&gt;\\r\\n          &lt;p class=&#34;tip&#34; title=&#34;. . All orders guaranteed and ship within 24 hours. Before placing your order for please contact us for confirmation on the book&amp;#039;s binding. Check out our other listings to add to your order for discounted shipping.&#34; rel=&#34;tooltip&#34;&gt;Notes&lt;/p&gt;\\r\\n        &lt;/div&gt;\\r\\n        &lt;div class=&#34;buylink&#34;&gt;&lt;a class=&#34;btn view&#34; rel=&#34;nofollow&#34; target=&#34;_blank&#34; href=&#34;/book?loc=-L3OyYvtIyMGcM_vUZd4ra4GxIveUvRc9QJwltPKG-5E4Wmpt0sMy2dhGcRr2c1Q5-eYac1eiBv04nUQqwxMSalLIEqvmti4Zd84VMjZWwc5GrtFTwAIth6dXtYSLGtMPycdsNH-uTSb7WTVarAIy_IPTvj4wDYbP09sPezCRkg-5AljpvFX0GveZULs0HMfNZVg8O7FXBeSZixwsYMmz3natmP2czZPvOV2zghqMEtcFwGPthLWVDMT8PiB0IP6yZBsToiAO439G7LJkyqfhBd7PWiW0eOinSdPHuZAaho-x55rXw941xhWgZVCuS2JXYjoKEDkn19oHBNN8OuFql120IuZuYj_Lle43svh0KSzUR4d-tpROMqo4xGcMEZi&#34;&gt;Buy this book &amp;rsaquo;&lt;/a&gt;&lt;/div&gt;\\r\\n      &lt;/div&gt;\\r\\n    &lt;/li&gt;\\r\\n        &lt;li&gt;\\r\\n      &lt;div class=&#34;merchant&#34;&gt;\\r\\n        &lt;a rel=&#34;nofollow&#34; target=&#34;_blank&#34; href=&#34;/book?loc=f_D6x1EDW0fdjG_bZKOJ2XfUEYskU9ukRQ-dJcaNfa9w6apIPkMnTWNJgvF7kb7YqhXeDayWCRTB5Qb9thS-fjcfAPMjviJoiD0lniYp0Ivl-68tytftrJEVSeZcYxqT_xjFTNZ_VKWS-XpLZr6zUloeJzNOffLjHpYRQLC37XwKzVvfIV6d0uM1O-QqvirRYYRK2HZeorYt3Y03ytMmVmVONSC_CqYn-BqH8u7EJw-pRCJjnePU7VZx7JcGmSlgrNWnsMGoZ1np6zL5tb59YfZghw7AUn4MjqEfpo1rTbgsVZD0vm3w1l4Hvi9637BBN827mML6uEf5ULuC_aLyxVqM0Vbwe-qRBZpGKG-DC1pIGkNkDi57vzy8BFfdvsUeR32zjfTdOOoBwvZfCUEOqcRxnk8uRAatOpguIc95cHb9EXole611axapBDpaQIvitVuuZnrUrVApIVtBtxfbzQ&#34;&gt;&lt;img src=&#34;/images/merchants/23.png&#34; alt=&#34;Alibris.com&#34;&gt;&lt;/a&gt;\\r\\n      &lt;/div&gt;\\r\\n      &lt;div class=&#34;info&#34;&gt;\\r\\n        &lt;div class=&#34;price&#34;&gt;\\r\\n          &lt;p class=&#34;pricelink&#34;&gt;&lt;a rel=&#34;nofollow&#34; target=&#34;_blank&#34; href=&#34;/book?loc=f_D6x1EDW0fdjG_bZKOJ2XfUEYskU9ukRQ-dJcaNfa9w6apIPkMnTWNJgvF7kb7YqhXeDayWCRTB5Qb9thS-fjcfAPMjviJoiD0lniYp0Ivl-68tytftrJEVSeZcYxqT_xjFTNZ_VKWS-XpLZr6zUloeJzNOffLjHpYRQLC37XwKzVvfIV6d0uM1O-QqvirRYYRK2HZeorYt3Y03ytMmVmVONSC_CqYn-BqH8u7EJw-pRCJjnePU7VZx7JcGmSlgrNWnsMGoZ1np6zL5tb59YfZghw7AUn4MjqEfpo1rTbgsVZD0vm3w1l4Hvi9637BBN827mML6uEf5ULuC_aLyxVqM0Vbwe-qRBZpGKG-DC1pIGkNkDi57vzy8BFfdvsUeR32zjfTdOOoBwvZfCUEOqcRxnk8uRAatOpguIc95cHb9EXole611axapBDpaQIvitVuuZnrUrVApIVtBtxfbzQ&#34;&gt;$3.56&lt;/a&gt;&lt;/p&gt;\\r\\n          &lt;p class=&#34;shipping&#34;&gt;+4.49 shipping&lt;/p&gt;\\r\\n          &lt;p class=&#34;status&#34;&gt;&lt;/p&gt;\\r\\n        &lt;/div&gt;\\r\\n        &lt;div class=&#34;notes&#34;&gt;\\r\\n          &lt;p class=&#34;tip&#34; title=&#34;. All orders guaranteed and ship within 24 hours. Your purchase supports More Than Words, a nonprofit job training program for youth, empowering youth to take charge of their lives by taking charge of a business. Good&#34; rel=&#34;tooltip&#34;&gt;Notes&lt;/p&gt;\\r\\n        &lt;/div&gt;\\r\\n        &lt;div class=&#34;buylink&#34;&gt;&lt;a class=&#34;btn view&#34; rel=&#34;nofollow&#34; target=&#34;_blank&#34; href=&#34;/book?loc=f_D6x1EDW0fdjG_bZKOJ2XfUEYskU9ukRQ-dJcaNfa9w6apIPkMnTWNJgvF7kb7YqhXeDayWCRTB5Qb9thS-fjcfAPMjviJoiD0lniYp0Ivl-68tytftrJEVSeZcYxqT_xjFTNZ_VKWS-XpLZr6zUloeJzNOffLjHpYRQLC37XwKzVvfIV6d0uM1O-QqvirRYYRK2HZeorYt3Y03ytMmVmVONSC_CqYn-BqH8u7EJw-pRCJjnePU7VZx7JcGmSlgrNWnsMGoZ1np6zL5tb59YfZghw7AUn4MjqEfpo1rTbgsVZD0vm3w1l4Hvi9637BBN827mML6uEf5ULuC_aLyxVqM0Vbwe-qRBZpGKG-DC1pIGkNkDi57vzy8BFfdvsUeR32zjfTdOOoBwvZfCUEOqcRxnk8uRAatOpguIc95cHb9EXole611axapBDpaQIvitVuuZnrUrVApIVtBtxfbzQ&#34;&gt;Buy this book &amp;rsaquo;&lt;/a&gt;&lt;/div&gt;\\r\\n      &lt;/div&gt;\\r\\n    &lt;/li&gt;\\r\\n      &lt;/ul&gt;\\r\\n&lt;/div&gt;\\r\\n    \\r\\n\\r\\n\\r\\n  \\r\\n\\r\\n\\r\\n\\r\\n\\r\\n\\r\\n\\r\\n\\r\\n    &lt;/div&gt;&lt;!--page--&gt;\\r\\n    &lt;footer&gt;\\r\\n      &lt;ul&gt;\\r\\n        &lt;li&gt;Copyright &amp;copy; 2008-2023 &lt;a href=&#34;/&#34;&gt;ISBNsearch.org&lt;/a&gt;&lt;/li&gt;\\r\\n        &lt;li&gt;&lt;a href=&#34;/privacy&#34;&gt;Privacy&lt;/a&gt;&lt;/li&gt;\\r\\n      &lt;/ul&gt;\\r\\n      &lt;p class=&#34;note&#34;&gt;This website is an independent service and is not affiliated with The International ISBN Agency Limited or any other national ISBN registration agency.&lt;/p&gt;\\r\\n    &lt;/footer&gt;\\r\\n    &lt;script src=&#34;https://ajax.googleapis.com/ajax/libs/jquery/3.2.1/jquery.min.js&#34;&gt;&lt;/script&gt;\\r\\n    &lt;script type=&#34;text/javascript&#34; src=&#34;/js/tips.js&#34;&gt;&lt;/script&gt;\\r\\n  &lt;/body&gt;\\r\\n&lt;/html&gt;&#39;</div>",
       "datasetInfos": [],
       "metadata": {},
       "removedWidgets": [],
       "type": "html"
      }
     },
     "output_type": "display_data"
    }
   ],
   "source": [
    "webpage.content"
   ]
  },
  {
   "cell_type": "code",
   "execution_count": 0,
   "metadata": {
    "application/vnd.databricks.v1+cell": {
     "cellMetadata": {
      "byteLimit": 2048000,
      "rowLimit": 10000
     },
     "inputWidgets": {},
     "nuid": "8bfd414f-c92e-4eb1-b5d9-e27c84dd4254",
     "showTitle": false,
     "title": ""
    }
   },
   "outputs": [
    {
     "output_type": "display_data",
     "data": {
      "text/html": [
       "<style scoped>\n",
       "  .ansiout {\n",
       "    display: block;\n",
       "    unicode-bidi: embed;\n",
       "    white-space: pre-wrap;\n",
       "    word-wrap: break-word;\n",
       "    word-break: break-all;\n",
       "    font-family: \"Source Code Pro\", \"Menlo\", monospace;;\n",
       "    font-size: 13px;\n",
       "    color: #555;\n",
       "    margin-left: 4px;\n",
       "    line-height: 19px;\n",
       "  }\n",
       "</style>\n",
       "<div class=\"ansiout\"></div>"
      ]
     },
     "metadata": {
      "application/vnd.databricks.v1+output": {
       "addedWidgets": {},
       "arguments": {},
       "data": "<div class=\"ansiout\"></div>",
       "datasetInfos": [],
       "metadata": {},
       "removedWidgets": [],
       "type": "html"
      }
     },
     "output_type": "display_data"
    }
   ],
   "source": [
    "soup = bf(webpage.content, \"lxml\")\n",
    "# soup = bf(webpage.content, \"html.parser\")"
   ]
  },
  {
   "cell_type": "code",
   "execution_count": 0,
   "metadata": {
    "application/vnd.databricks.v1+cell": {
     "cellMetadata": {
      "byteLimit": 2048000,
      "rowLimit": 10000
     },
     "inputWidgets": {},
     "nuid": "25c61e0d-19f8-40f7-aac4-e9b166760e24",
     "showTitle": false,
     "title": ""
    }
   },
   "outputs": [
    {
     "output_type": "display_data",
     "data": {
      "text/html": [
       "<style scoped>\n",
       "  .ansiout {\n",
       "    display: block;\n",
       "    unicode-bidi: embed;\n",
       "    white-space: pre-wrap;\n",
       "    word-wrap: break-word;\n",
       "    word-break: break-all;\n",
       "    font-family: \"Source Code Pro\", \"Menlo\", monospace;;\n",
       "    font-size: 13px;\n",
       "    color: #555;\n",
       "    margin-left: 4px;\n",
       "    line-height: 19px;\n",
       "  }\n",
       "</style>\n",
       "<div class=\"ansiout\">Out[41]: &lt;!DOCTYPE html&gt;\n",
       "&lt;html lang=&#34;en&#34;&gt;\n",
       "&lt;head&gt;\n",
       "&lt;!-- Google tag (gtag.js) --&gt;\n",
       "&lt;script async=&#34;&#34; src=&#34;https://www.googletagmanager.com/gtag/js?id=G-5CHMRHP5D2&#34;&gt;&lt;/script&gt;\n",
       "&lt;script&gt;\n",
       "      window.dataLayer = window.dataLayer || [];\n",
       "      function gtag(){dataLayer.push(arguments);}\n",
       "      gtag(&#39;js&#39;, new Date());\n",
       "\n",
       "      gtag(&#39;config&#39;, &#39;G-5CHMRHP5D2&#39;);\n",
       "      gtag(&#39;config&#39;, &#39;UA-23560130-1&#39;);\n",
       "    &lt;/script&gt;\n",
       "&lt;meta charset=&#34;utf-8&#34;/&gt;\n",
       "&lt;meta content=&#34;width=device-width, initial-scale=1&#34; name=&#34;viewport&#34;/&gt;\n",
       "&lt;title&gt;ISBN 9781783931835 - First 100 Pretty Pink Words&lt;/title&gt;\n",
       "&lt;meta content=&#34;First 100 Pretty Pink Words - Information and prices for ISBN 9781783931835, ISBN 1783931833&#34; name=&#34;description&#34;/&gt;\n",
       "&lt;meta content=&#34;https://isbnsearch.org/isbn/9781783931835&#34; name=&#34;canonical&#34;/&gt;\n",
       "&lt;link href=&#34;/css/style.min.css&#34; rel=&#34;stylesheet&#34; type=&#34;text/css&#34;/&gt;\n",
       "&lt;link href=&#34;/images/favicon.png&#34; rel=&#34;icon&#34; type=&#34;image/x-icon&#34;/&gt;\n",
       "&lt;script async=&#34;&#34; defer=&#34;&#34; src=&#34;https://www.google.com/recaptcha/api.js&#34;&gt;&lt;/script&gt;\n",
       "&lt;/head&gt;\n",
       "&lt;body&gt;\n",
       "&lt;div id=&#34;page&#34;&gt;\n",
       "&lt;header&gt;\n",
       "&lt;p&gt;&lt;a href=&#34;/&#34; title=&#34;ISBN Search&#34;&gt;ISBN Search&lt;/a&gt;&lt;/p&gt;\n",
       "&lt;/header&gt;\n",
       "&lt;form action=&#34;/search&#34; id=&#34;search&#34; method=&#34;post&#34;&gt;\n",
       "&lt;div&gt;\n",
       "&lt;label for=&#34;searchQuery&#34; id=&#34;find&#34;&gt;Find a book:&lt;/label&gt;\n",
       "&lt;input class=&#34;start&#34; id=&#34;searchQuery&#34; name=&#34;searchQuery&#34; onblur=&#34;if(this.value==&#39;&#39;) { this.value=&#39;Enter the ISBN, Title, or Author&#39;; this.className=&#39;start&#39;; }&#34; onfocus=&#34;if(this.value==&#39;Enter the ISBN, Title, or Author&#39;) { this.value=&#39;&#39;; this.className=&#39;&#39;; }&#34; type=&#34;text&#34; value=&#34;Enter the ISBN, Title, or Author&#34;/&gt;\n",
       "&lt;/div&gt;\n",
       "&lt;button class=&#34;btn&#34; id=&#34;searchSubmit&#34; name=&#34;searchSubmit&#34; type=&#34;submit&#34;&gt;Search&lt;/button&gt;\n",
       "&lt;/form&gt; &lt;div id=&#34;book&#34;&gt;\n",
       "&lt;div class=&#34;image&#34;&gt;\n",
       "&lt;img alt=&#34;First 100 Pretty Pink Words&#34; src=&#34;https://images.isbndb.com/covers/18/35/9781783931835.jpg&#34;/&gt;\n",
       "&lt;/div&gt;\n",
       "&lt;div class=&#34;bookinfo&#34;&gt;\n",
       "&lt;h1&gt;First 100 Pretty Pink Words&lt;/h1&gt;\n",
       "&lt;p&gt;&lt;strong&gt;ISBN-13:&lt;/strong&gt; &lt;a href=&#34;/isbn/9781783931835&#34;&gt;9781783931835&lt;/a&gt;&lt;/p&gt;\n",
       "&lt;p&gt;&lt;strong&gt;ISBN-10:&lt;/strong&gt; &lt;a href=&#34;/isbn/1783931833&#34;&gt;1783931833&lt;/a&gt;&lt;/p&gt;\n",
       "&lt;p&gt;&lt;strong&gt;Binding:&lt;/strong&gt; Board book&lt;/p&gt;\n",
       "&lt;p&gt;&lt;strong&gt;Publisher:&lt;/strong&gt; Make Believe Ideas&lt;/p&gt;\n",
       "&lt;p&gt;&lt;strong&gt;Published:&lt;/strong&gt; 2023&lt;/p&gt;\n",
       "&lt;/div&gt;\n",
       "&lt;p class=&#34;clear&#34;&gt;&lt;/p&gt;\n",
       "&lt;/div&gt;\n",
       "&lt;div class=&#34;prices&#34;&gt;\n",
       "&lt;h2&gt;Best Used Prices&lt;/h2&gt;\n",
       "&lt;ul&gt;\n",
       "&lt;li&gt;\n",
       "&lt;div class=&#34;merchant&#34;&gt;\n",
       "&lt;a href=&#34;/book?loc=0_X1U9CDHNzLR_ILcDqW3Y1iP6jNNa6g8o86uR-6Quoz53nKSIep_MK1d6w3c568g-O9GymeW9G2fMcCDl_A91cqqGjo0k6XA9XCjuJ9NTluLuaUsytSx0XfN-VNe2Amq72miCs4A6yEMAJ9MQvxPHhKpAUY0vTHPIZdZzpxo6sNDDtcA-2dkqSYubCv5XQnyb-2b2RAGrn_-P8E_u9vTxfXMaze9Zlag6Z_3apAxSdPfnsNqsMYeIJxZOzm-Nz-&#34; rel=&#34;nofollow&#34; target=&#34;_blank&#34;&gt;&lt;img alt=&#34;Amazon Mkt Used&#34; src=&#34;/images/merchants/24.png&#34;/&gt;&lt;/a&gt;\n",
       "&lt;/div&gt;\n",
       "&lt;div class=&#34;info&#34;&gt;\n",
       "&lt;div class=&#34;price&#34;&gt;\n",
       "&lt;p class=&#34;pricelink&#34;&gt;&lt;a href=&#34;/book?loc=0_X1U9CDHNzLR_ILcDqW3Y1iP6jNNa6g8o86uR-6Quoz53nKSIep_MK1d6w3c568g-O9GymeW9G2fMcCDl_A91cqqGjo0k6XA9XCjuJ9NTluLuaUsytSx0XfN-VNe2Amq72miCs4A6yEMAJ9MQvxPHhKpAUY0vTHPIZdZzpxo6sNDDtcA-2dkqSYubCv5XQnyb-2b2RAGrn_-P8E_u9vTxfXMaze9Zlag6Z_3apAxSdPfnsNqsMYeIJxZOzm-Nz-&#34; rel=&#34;nofollow&#34; target=&#34;_blank&#34;&gt;$3.56&lt;/a&gt;&lt;/p&gt;\n",
       "&lt;p class=&#34;shipping&#34;&gt;+3.99 shipping&lt;/p&gt;\n",
       "&lt;p class=&#34;status&#34;&gt;&lt;/p&gt;\n",
       "&lt;/div&gt;\n",
       "&lt;div class=&#34;notes&#34;&gt;\n",
       "&lt;p class=&#34;tip&#34; rel=&#34;tooltip&#34; title=&#34;None&#34;&gt;Notes&lt;/p&gt;\n",
       "&lt;/div&gt;\n",
       "&lt;div class=&#34;buylink&#34;&gt;&lt;a class=&#34;btn view&#34; href=&#34;/book?loc=0_X1U9CDHNzLR_ILcDqW3Y1iP6jNNa6g8o86uR-6Quoz53nKSIep_MK1d6w3c568g-O9GymeW9G2fMcCDl_A91cqqGjo0k6XA9XCjuJ9NTluLuaUsytSx0XfN-VNe2Amq72miCs4A6yEMAJ9MQvxPHhKpAUY0vTHPIZdZzpxo6sNDDtcA-2dkqSYubCv5XQnyb-2b2RAGrn_-P8E_u9vTxfXMaze9Zlag6Z_3apAxSdPfnsNqsMYeIJxZOzm-Nz-&#34; rel=&#34;nofollow&#34; target=&#34;_blank&#34;&gt;Buy this book ›&lt;/a&gt;&lt;/div&gt;\n",
       "&lt;/div&gt;\n",
       "&lt;/li&gt;\n",
       "&lt;li&gt;\n",
       "&lt;div class=&#34;merchant&#34;&gt;\n",
       "&lt;a href=&#34;/book?loc=-L3OyYvtIyMGcM_vUZd4ra4GxIveUvRc9QJwltPKG-5E4Wmpt0sMy2dhGcRr2c1Q5-eYac1eiBv04nUQqwxMSalLIEqvmti4Zd84VMjZWwc5GrtFTwAIth6dXtYSLGtMPycdsNH-uTSb7WTVarAIy_IPTvj4wDYbP09sPezCRkg-5AljpvFX0GveZULs0HMfNZVg8O7FXBeSZixwsYMmz3natmP2czZPvOV2zghqMEtcFwGPthLWVDMT8PiB0IP6yZBsToiAO439G7LJkyqfhBd7PWiW0eOinSdPHuZAaho-x55rXw941xhWgZVCuS2JXYjoKEDkn19oHBNN8OuFql120IuZuYj_Lle43svh0KSzUR4d-tpROMqo4xGcMEZi&#34; rel=&#34;nofollow&#34; target=&#34;_blank&#34;&gt;&lt;img alt=&#34;AbeBooks.com Used&#34; src=&#34;/images/merchants/2023.png&#34;/&gt;&lt;/a&gt;\n",
       "&lt;/div&gt;\n",
       "&lt;div class=&#34;info&#34;&gt;\n",
       "&lt;div class=&#34;price&#34;&gt;\n",
       "&lt;p class=&#34;pricelink&#34;&gt;&lt;a href=&#34;/book?loc=-L3OyYvtIyMGcM_vUZd4ra4GxIveUvRc9QJwltPKG-5E4Wmpt0sMy2dhGcRr2c1Q5-eYac1eiBv04nUQqwxMSalLIEqvmti4Zd84VMjZWwc5GrtFTwAIth6dXtYSLGtMPycdsNH-uTSb7WTVarAIy_IPTvj4wDYbP09sPezCRkg-5AljpvFX0GveZULs0HMfNZVg8O7FXBeSZixwsYMmz3natmP2czZPvOV2zghqMEtcFwGPthLWVDMT8PiB0IP6yZBsToiAO439G7LJkyqfhBd7PWiW0eOinSdPHuZAaho-x55rXw941xhWgZVCuS2JXYjoKEDkn19oHBNN8OuFql120IuZuYj_Lle43svh0KSzUR4d-tpROMqo4xGcMEZi&#34; rel=&#34;nofollow&#34; target=&#34;_blank&#34;&gt;$3.56&lt;/a&gt;&lt;/p&gt;\n",
       "&lt;p class=&#34;shipping&#34;&gt;+3.99 shipping&lt;/p&gt;\n",
       "&lt;p class=&#34;status&#34;&gt;&lt;/p&gt;\n",
       "&lt;/div&gt;\n",
       "&lt;div class=&#34;notes&#34;&gt;\n",
       "&lt;p class=&#34;tip&#34; rel=&#34;tooltip&#34; title=&#34;. . All orders guaranteed and ship within 24 hours. Before placing your order for please contact us for confirmation on the book&#39;s binding. Check out our other listings to add to your order for discounted shipping.&#34;&gt;Notes&lt;/p&gt;\n",
       "&lt;/div&gt;\n",
       "&lt;div class=&#34;buylink&#34;&gt;&lt;a class=&#34;btn view&#34; href=&#34;/book?loc=-L3OyYvtIyMGcM_vUZd4ra4GxIveUvRc9QJwltPKG-5E4Wmpt0sMy2dhGcRr2c1Q5-eYac1eiBv04nUQqwxMSalLIEqvmti4Zd84VMjZWwc5GrtFTwAIth6dXtYSLGtMPycdsNH-uTSb7WTVarAIy_IPTvj4wDYbP09sPezCRkg-5AljpvFX0GveZULs0HMfNZVg8O7FXBeSZixwsYMmz3natmP2czZPvOV2zghqMEtcFwGPthLWVDMT8PiB0IP6yZBsToiAO439G7LJkyqfhBd7PWiW0eOinSdPHuZAaho-x55rXw941xhWgZVCuS2JXYjoKEDkn19oHBNN8OuFql120IuZuYj_Lle43svh0KSzUR4d-tpROMqo4xGcMEZi&#34; rel=&#34;nofollow&#34; target=&#34;_blank&#34;&gt;Buy this book ›&lt;/a&gt;&lt;/div&gt;\n",
       "&lt;/div&gt;\n",
       "&lt;/li&gt;\n",
       "&lt;li&gt;\n",
       "&lt;div class=&#34;merchant&#34;&gt;\n",
       "&lt;a href=&#34;/book?loc=f_D6x1EDW0fdjG_bZKOJ2XfUEYskU9ukRQ-dJcaNfa9w6apIPkMnTWNJgvF7kb7YqhXeDayWCRTB5Qb9thS-fjcfAPMjviJoiD0lniYp0Ivl-68tytftrJEVSeZcYxqT_xjFTNZ_VKWS-XpLZr6zUloeJzNOffLjHpYRQLC37XwKzVvfIV6d0uM1O-QqvirRYYRK2HZeorYt3Y03ytMmVmVONSC_CqYn-BqH8u7EJw-pRCJjnePU7VZx7JcGmSlgrNWnsMGoZ1np6zL5tb59YfZghw7AUn4MjqEfpo1rTbgsVZD0vm3w1l4Hvi9637BBN827mML6uEf5ULuC_aLyxVqM0Vbwe-qRBZpGKG-DC1pIGkNkDi57vzy8BFfdvsUeR32zjfTdOOoBwvZfCUEOqcRxnk8uRAatOpguIc95cHb9EXole611axapBDpaQIvitVuuZnrUrVApIVtBtxfbzQ&#34; rel=&#34;nofollow&#34; target=&#34;_blank&#34;&gt;&lt;img alt=&#34;Alibris.com&#34; src=&#34;/images/merchants/23.png&#34;/&gt;&lt;/a&gt;\n",
       "&lt;/div&gt;\n",
       "&lt;div class=&#34;info&#34;&gt;\n",
       "&lt;div class=&#34;price&#34;&gt;\n",
       "&lt;p class=&#34;pricelink&#34;&gt;&lt;a href=&#34;/book?loc=f_D6x1EDW0fdjG_bZKOJ2XfUEYskU9ukRQ-dJcaNfa9w6apIPkMnTWNJgvF7kb7YqhXeDayWCRTB5Qb9thS-fjcfAPMjviJoiD0lniYp0Ivl-68tytftrJEVSeZcYxqT_xjFTNZ_VKWS-XpLZr6zUloeJzNOffLjHpYRQLC37XwKzVvfIV6d0uM1O-QqvirRYYRK2HZeorYt3Y03ytMmVmVONSC_CqYn-BqH8u7EJw-pRCJjnePU7VZx7JcGmSlgrNWnsMGoZ1np6zL5tb59YfZghw7AUn4MjqEfpo1rTbgsVZD0vm3w1l4Hvi9637BBN827mML6uEf5ULuC_aLyxVqM0Vbwe-qRBZpGKG-DC1pIGkNkDi57vzy8BFfdvsUeR32zjfTdOOoBwvZfCUEOqcRxnk8uRAatOpguIc95cHb9EXole611axapBDpaQIvitVuuZnrUrVApIVtBtxfbzQ&#34; rel=&#34;nofollow&#34; target=&#34;_blank&#34;&gt;$3.56&lt;/a&gt;&lt;/p&gt;\n",
       "&lt;p class=&#34;shipping&#34;&gt;+4.49 shipping&lt;/p&gt;\n",
       "&lt;p class=&#34;status&#34;&gt;&lt;/p&gt;\n",
       "&lt;/div&gt;\n",
       "&lt;div class=&#34;notes&#34;&gt;\n",
       "&lt;p class=&#34;tip&#34; rel=&#34;tooltip&#34; title=&#34;. All orders guaranteed and ship within 24 hours. Your purchase supports More Than Words, a nonprofit job training program for youth, empowering youth to take charge of their lives by taking charge of a business. Good&#34;&gt;Notes&lt;/p&gt;\n",
       "&lt;/div&gt;\n",
       "&lt;div class=&#34;buylink&#34;&gt;&lt;a class=&#34;btn view&#34; href=&#34;/book?loc=f_D6x1EDW0fdjG_bZKOJ2XfUEYskU9ukRQ-dJcaNfa9w6apIPkMnTWNJgvF7kb7YqhXeDayWCRTB5Qb9thS-fjcfAPMjviJoiD0lniYp0Ivl-68tytftrJEVSeZcYxqT_xjFTNZ_VKWS-XpLZr6zUloeJzNOffLjHpYRQLC37XwKzVvfIV6d0uM1O-QqvirRYYRK2HZeorYt3Y03ytMmVmVONSC_CqYn-BqH8u7EJw-pRCJjnePU7VZx7JcGmSlgrNWnsMGoZ1np6zL5tb59YfZghw7AUn4MjqEfpo1rTbgsVZD0vm3w1l4Hvi9637BBN827mML6uEf5ULuC_aLyxVqM0Vbwe-qRBZpGKG-DC1pIGkNkDi57vzy8BFfdvsUeR32zjfTdOOoBwvZfCUEOqcRxnk8uRAatOpguIc95cHb9EXole611axapBDpaQIvitVuuZnrUrVApIVtBtxfbzQ&#34; rel=&#34;nofollow&#34; target=&#34;_blank&#34;&gt;Buy this book ›&lt;/a&gt;&lt;/div&gt;\n",
       "&lt;/div&gt;\n",
       "&lt;/li&gt;\n",
       "&lt;/ul&gt;\n",
       "&lt;/div&gt;\n",
       "&lt;/div&gt;&lt;!--page--&gt;\n",
       "&lt;footer&gt;\n",
       "&lt;ul&gt;\n",
       "&lt;li&gt;Copyright © 2008-2023 &lt;a href=&#34;/&#34;&gt;ISBNsearch.org&lt;/a&gt;&lt;/li&gt;\n",
       "&lt;li&gt;&lt;a href=&#34;/privacy&#34;&gt;Privacy&lt;/a&gt;&lt;/li&gt;\n",
       "&lt;/ul&gt;\n",
       "&lt;p class=&#34;note&#34;&gt;This website is an independent service and is not affiliated with The International ISBN Agency Limited or any other national ISBN registration agency.&lt;/p&gt;\n",
       "&lt;/footer&gt;\n",
       "&lt;script src=&#34;https://ajax.googleapis.com/ajax/libs/jquery/3.2.1/jquery.min.js&#34;&gt;&lt;/script&gt;\n",
       "&lt;script src=&#34;/js/tips.js&#34; type=&#34;text/javascript&#34;&gt;&lt;/script&gt;\n",
       "&lt;/body&gt;\n",
       "&lt;/html&gt;</div>"
      ]
     },
     "metadata": {
      "application/vnd.databricks.v1+output": {
       "addedWidgets": {},
       "arguments": {},
       "data": "<div class=\"ansiout\">Out[41]: &lt;!DOCTYPE html&gt;\n&lt;html lang=&#34;en&#34;&gt;\n&lt;head&gt;\n&lt;!-- Google tag (gtag.js) --&gt;\n&lt;script async=&#34;&#34; src=&#34;https://www.googletagmanager.com/gtag/js?id=G-5CHMRHP5D2&#34;&gt;&lt;/script&gt;\n&lt;script&gt;\n      window.dataLayer = window.dataLayer || [];\n      function gtag(){dataLayer.push(arguments);}\n      gtag(&#39;js&#39;, new Date());\n\n      gtag(&#39;config&#39;, &#39;G-5CHMRHP5D2&#39;);\n      gtag(&#39;config&#39;, &#39;UA-23560130-1&#39;);\n    &lt;/script&gt;\n&lt;meta charset=&#34;utf-8&#34;/&gt;\n&lt;meta content=&#34;width=device-width, initial-scale=1&#34; name=&#34;viewport&#34;/&gt;\n&lt;title&gt;ISBN 9781783931835 - First 100 Pretty Pink Words&lt;/title&gt;\n&lt;meta content=&#34;First 100 Pretty Pink Words - Information and prices for ISBN 9781783931835, ISBN 1783931833&#34; name=&#34;description&#34;/&gt;\n&lt;meta content=&#34;https://isbnsearch.org/isbn/9781783931835&#34; name=&#34;canonical&#34;/&gt;\n&lt;link href=&#34;/css/style.min.css&#34; rel=&#34;stylesheet&#34; type=&#34;text/css&#34;/&gt;\n&lt;link href=&#34;/images/favicon.png&#34; rel=&#34;icon&#34; type=&#34;image/x-icon&#34;/&gt;\n&lt;script async=&#34;&#34; defer=&#34;&#34; src=&#34;https://www.google.com/recaptcha/api.js&#34;&gt;&lt;/script&gt;\n&lt;/head&gt;\n&lt;body&gt;\n&lt;div id=&#34;page&#34;&gt;\n&lt;header&gt;\n&lt;p&gt;&lt;a href=&#34;/&#34; title=&#34;ISBN Search&#34;&gt;ISBN Search&lt;/a&gt;&lt;/p&gt;\n&lt;/header&gt;\n&lt;form action=&#34;/search&#34; id=&#34;search&#34; method=&#34;post&#34;&gt;\n&lt;div&gt;\n&lt;label for=&#34;searchQuery&#34; id=&#34;find&#34;&gt;Find a book:&lt;/label&gt;\n&lt;input class=&#34;start&#34; id=&#34;searchQuery&#34; name=&#34;searchQuery&#34; onblur=&#34;if(this.value==&#39;&#39;) { this.value=&#39;Enter the ISBN, Title, or Author&#39;; this.className=&#39;start&#39;; }&#34; onfocus=&#34;if(this.value==&#39;Enter the ISBN, Title, or Author&#39;) { this.value=&#39;&#39;; this.className=&#39;&#39;; }&#34; type=&#34;text&#34; value=&#34;Enter the ISBN, Title, or Author&#34;/&gt;\n&lt;/div&gt;\n&lt;button class=&#34;btn&#34; id=&#34;searchSubmit&#34; name=&#34;searchSubmit&#34; type=&#34;submit&#34;&gt;Search&lt;/button&gt;\n&lt;/form&gt; &lt;div id=&#34;book&#34;&gt;\n&lt;div class=&#34;image&#34;&gt;\n&lt;img alt=&#34;First 100 Pretty Pink Words&#34; src=&#34;https://images.isbndb.com/covers/18/35/9781783931835.jpg&#34;/&gt;\n&lt;/div&gt;\n&lt;div class=&#34;bookinfo&#34;&gt;\n&lt;h1&gt;First 100 Pretty Pink Words&lt;/h1&gt;\n&lt;p&gt;&lt;strong&gt;ISBN-13:&lt;/strong&gt; &lt;a href=&#34;/isbn/9781783931835&#34;&gt;9781783931835&lt;/a&gt;&lt;/p&gt;\n&lt;p&gt;&lt;strong&gt;ISBN-10:&lt;/strong&gt; &lt;a href=&#34;/isbn/1783931833&#34;&gt;1783931833&lt;/a&gt;&lt;/p&gt;\n&lt;p&gt;&lt;strong&gt;Binding:&lt;/strong&gt; Board book&lt;/p&gt;\n&lt;p&gt;&lt;strong&gt;Publisher:&lt;/strong&gt; Make Believe Ideas&lt;/p&gt;\n&lt;p&gt;&lt;strong&gt;Published:&lt;/strong&gt; 2023&lt;/p&gt;\n&lt;/div&gt;\n&lt;p class=&#34;clear&#34;&gt;&lt;/p&gt;\n&lt;/div&gt;\n&lt;div class=&#34;prices&#34;&gt;\n&lt;h2&gt;Best Used Prices&lt;/h2&gt;\n&lt;ul&gt;\n&lt;li&gt;\n&lt;div class=&#34;merchant&#34;&gt;\n&lt;a href=&#34;/book?loc=0_X1U9CDHNzLR_ILcDqW3Y1iP6jNNa6g8o86uR-6Quoz53nKSIep_MK1d6w3c568g-O9GymeW9G2fMcCDl_A91cqqGjo0k6XA9XCjuJ9NTluLuaUsytSx0XfN-VNe2Amq72miCs4A6yEMAJ9MQvxPHhKpAUY0vTHPIZdZzpxo6sNDDtcA-2dkqSYubCv5XQnyb-2b2RAGrn_-P8E_u9vTxfXMaze9Zlag6Z_3apAxSdPfnsNqsMYeIJxZOzm-Nz-&#34; rel=&#34;nofollow&#34; target=&#34;_blank&#34;&gt;&lt;img alt=&#34;Amazon Mkt Used&#34; src=&#34;/images/merchants/24.png&#34;/&gt;&lt;/a&gt;\n&lt;/div&gt;\n&lt;div class=&#34;info&#34;&gt;\n&lt;div class=&#34;price&#34;&gt;\n&lt;p class=&#34;pricelink&#34;&gt;&lt;a href=&#34;/book?loc=0_X1U9CDHNzLR_ILcDqW3Y1iP6jNNa6g8o86uR-6Quoz53nKSIep_MK1d6w3c568g-O9GymeW9G2fMcCDl_A91cqqGjo0k6XA9XCjuJ9NTluLuaUsytSx0XfN-VNe2Amq72miCs4A6yEMAJ9MQvxPHhKpAUY0vTHPIZdZzpxo6sNDDtcA-2dkqSYubCv5XQnyb-2b2RAGrn_-P8E_u9vTxfXMaze9Zlag6Z_3apAxSdPfnsNqsMYeIJxZOzm-Nz-&#34; rel=&#34;nofollow&#34; target=&#34;_blank&#34;&gt;$3.56&lt;/a&gt;&lt;/p&gt;\n&lt;p class=&#34;shipping&#34;&gt;+3.99 shipping&lt;/p&gt;\n&lt;p class=&#34;status&#34;&gt;&lt;/p&gt;\n&lt;/div&gt;\n&lt;div class=&#34;notes&#34;&gt;\n&lt;p class=&#34;tip&#34; rel=&#34;tooltip&#34; title=&#34;None&#34;&gt;Notes&lt;/p&gt;\n&lt;/div&gt;\n&lt;div class=&#34;buylink&#34;&gt;&lt;a class=&#34;btn view&#34; href=&#34;/book?loc=0_X1U9CDHNzLR_ILcDqW3Y1iP6jNNa6g8o86uR-6Quoz53nKSIep_MK1d6w3c568g-O9GymeW9G2fMcCDl_A91cqqGjo0k6XA9XCjuJ9NTluLuaUsytSx0XfN-VNe2Amq72miCs4A6yEMAJ9MQvxPHhKpAUY0vTHPIZdZzpxo6sNDDtcA-2dkqSYubCv5XQnyb-2b2RAGrn_-P8E_u9vTxfXMaze9Zlag6Z_3apAxSdPfnsNqsMYeIJxZOzm-Nz-&#34; rel=&#34;nofollow&#34; target=&#34;_blank&#34;&gt;Buy this book ›&lt;/a&gt;&lt;/div&gt;\n&lt;/div&gt;\n&lt;/li&gt;\n&lt;li&gt;\n&lt;div class=&#34;merchant&#34;&gt;\n&lt;a href=&#34;/book?loc=-L3OyYvtIyMGcM_vUZd4ra4GxIveUvRc9QJwltPKG-5E4Wmpt0sMy2dhGcRr2c1Q5-eYac1eiBv04nUQqwxMSalLIEqvmti4Zd84VMjZWwc5GrtFTwAIth6dXtYSLGtMPycdsNH-uTSb7WTVarAIy_IPTvj4wDYbP09sPezCRkg-5AljpvFX0GveZULs0HMfNZVg8O7FXBeSZixwsYMmz3natmP2czZPvOV2zghqMEtcFwGPthLWVDMT8PiB0IP6yZBsToiAO439G7LJkyqfhBd7PWiW0eOinSdPHuZAaho-x55rXw941xhWgZVCuS2JXYjoKEDkn19oHBNN8OuFql120IuZuYj_Lle43svh0KSzUR4d-tpROMqo4xGcMEZi&#34; rel=&#34;nofollow&#34; target=&#34;_blank&#34;&gt;&lt;img alt=&#34;AbeBooks.com Used&#34; src=&#34;/images/merchants/2023.png&#34;/&gt;&lt;/a&gt;\n&lt;/div&gt;\n&lt;div class=&#34;info&#34;&gt;\n&lt;div class=&#34;price&#34;&gt;\n&lt;p class=&#34;pricelink&#34;&gt;&lt;a href=&#34;/book?loc=-L3OyYvtIyMGcM_vUZd4ra4GxIveUvRc9QJwltPKG-5E4Wmpt0sMy2dhGcRr2c1Q5-eYac1eiBv04nUQqwxMSalLIEqvmti4Zd84VMjZWwc5GrtFTwAIth6dXtYSLGtMPycdsNH-uTSb7WTVarAIy_IPTvj4wDYbP09sPezCRkg-5AljpvFX0GveZULs0HMfNZVg8O7FXBeSZixwsYMmz3natmP2czZPvOV2zghqMEtcFwGPthLWVDMT8PiB0IP6yZBsToiAO439G7LJkyqfhBd7PWiW0eOinSdPHuZAaho-x55rXw941xhWgZVCuS2JXYjoKEDkn19oHBNN8OuFql120IuZuYj_Lle43svh0KSzUR4d-tpROMqo4xGcMEZi&#34; rel=&#34;nofollow&#34; target=&#34;_blank&#34;&gt;$3.56&lt;/a&gt;&lt;/p&gt;\n&lt;p class=&#34;shipping&#34;&gt;+3.99 shipping&lt;/p&gt;\n&lt;p class=&#34;status&#34;&gt;&lt;/p&gt;\n&lt;/div&gt;\n&lt;div class=&#34;notes&#34;&gt;\n&lt;p class=&#34;tip&#34; rel=&#34;tooltip&#34; title=&#34;. . All orders guaranteed and ship within 24 hours. Before placing your order for please contact us for confirmation on the book&#39;s binding. Check out our other listings to add to your order for discounted shipping.&#34;&gt;Notes&lt;/p&gt;\n&lt;/div&gt;\n&lt;div class=&#34;buylink&#34;&gt;&lt;a class=&#34;btn view&#34; href=&#34;/book?loc=-L3OyYvtIyMGcM_vUZd4ra4GxIveUvRc9QJwltPKG-5E4Wmpt0sMy2dhGcRr2c1Q5-eYac1eiBv04nUQqwxMSalLIEqvmti4Zd84VMjZWwc5GrtFTwAIth6dXtYSLGtMPycdsNH-uTSb7WTVarAIy_IPTvj4wDYbP09sPezCRkg-5AljpvFX0GveZULs0HMfNZVg8O7FXBeSZixwsYMmz3natmP2czZPvOV2zghqMEtcFwGPthLWVDMT8PiB0IP6yZBsToiAO439G7LJkyqfhBd7PWiW0eOinSdPHuZAaho-x55rXw941xhWgZVCuS2JXYjoKEDkn19oHBNN8OuFql120IuZuYj_Lle43svh0KSzUR4d-tpROMqo4xGcMEZi&#34; rel=&#34;nofollow&#34; target=&#34;_blank&#34;&gt;Buy this book ›&lt;/a&gt;&lt;/div&gt;\n&lt;/div&gt;\n&lt;/li&gt;\n&lt;li&gt;\n&lt;div class=&#34;merchant&#34;&gt;\n&lt;a href=&#34;/book?loc=f_D6x1EDW0fdjG_bZKOJ2XfUEYskU9ukRQ-dJcaNfa9w6apIPkMnTWNJgvF7kb7YqhXeDayWCRTB5Qb9thS-fjcfAPMjviJoiD0lniYp0Ivl-68tytftrJEVSeZcYxqT_xjFTNZ_VKWS-XpLZr6zUloeJzNOffLjHpYRQLC37XwKzVvfIV6d0uM1O-QqvirRYYRK2HZeorYt3Y03ytMmVmVONSC_CqYn-BqH8u7EJw-pRCJjnePU7VZx7JcGmSlgrNWnsMGoZ1np6zL5tb59YfZghw7AUn4MjqEfpo1rTbgsVZD0vm3w1l4Hvi9637BBN827mML6uEf5ULuC_aLyxVqM0Vbwe-qRBZpGKG-DC1pIGkNkDi57vzy8BFfdvsUeR32zjfTdOOoBwvZfCUEOqcRxnk8uRAatOpguIc95cHb9EXole611axapBDpaQIvitVuuZnrUrVApIVtBtxfbzQ&#34; rel=&#34;nofollow&#34; target=&#34;_blank&#34;&gt;&lt;img alt=&#34;Alibris.com&#34; src=&#34;/images/merchants/23.png&#34;/&gt;&lt;/a&gt;\n&lt;/div&gt;\n&lt;div class=&#34;info&#34;&gt;\n&lt;div class=&#34;price&#34;&gt;\n&lt;p class=&#34;pricelink&#34;&gt;&lt;a href=&#34;/book?loc=f_D6x1EDW0fdjG_bZKOJ2XfUEYskU9ukRQ-dJcaNfa9w6apIPkMnTWNJgvF7kb7YqhXeDayWCRTB5Qb9thS-fjcfAPMjviJoiD0lniYp0Ivl-68tytftrJEVSeZcYxqT_xjFTNZ_VKWS-XpLZr6zUloeJzNOffLjHpYRQLC37XwKzVvfIV6d0uM1O-QqvirRYYRK2HZeorYt3Y03ytMmVmVONSC_CqYn-BqH8u7EJw-pRCJjnePU7VZx7JcGmSlgrNWnsMGoZ1np6zL5tb59YfZghw7AUn4MjqEfpo1rTbgsVZD0vm3w1l4Hvi9637BBN827mML6uEf5ULuC_aLyxVqM0Vbwe-qRBZpGKG-DC1pIGkNkDi57vzy8BFfdvsUeR32zjfTdOOoBwvZfCUEOqcRxnk8uRAatOpguIc95cHb9EXole611axapBDpaQIvitVuuZnrUrVApIVtBtxfbzQ&#34; rel=&#34;nofollow&#34; target=&#34;_blank&#34;&gt;$3.56&lt;/a&gt;&lt;/p&gt;\n&lt;p class=&#34;shipping&#34;&gt;+4.49 shipping&lt;/p&gt;\n&lt;p class=&#34;status&#34;&gt;&lt;/p&gt;\n&lt;/div&gt;\n&lt;div class=&#34;notes&#34;&gt;\n&lt;p class=&#34;tip&#34; rel=&#34;tooltip&#34; title=&#34;. All orders guaranteed and ship within 24 hours. Your purchase supports More Than Words, a nonprofit job training program for youth, empowering youth to take charge of their lives by taking charge of a business. Good&#34;&gt;Notes&lt;/p&gt;\n&lt;/div&gt;\n&lt;div class=&#34;buylink&#34;&gt;&lt;a class=&#34;btn view&#34; href=&#34;/book?loc=f_D6x1EDW0fdjG_bZKOJ2XfUEYskU9ukRQ-dJcaNfa9w6apIPkMnTWNJgvF7kb7YqhXeDayWCRTB5Qb9thS-fjcfAPMjviJoiD0lniYp0Ivl-68tytftrJEVSeZcYxqT_xjFTNZ_VKWS-XpLZr6zUloeJzNOffLjHpYRQLC37XwKzVvfIV6d0uM1O-QqvirRYYRK2HZeorYt3Y03ytMmVmVONSC_CqYn-BqH8u7EJw-pRCJjnePU7VZx7JcGmSlgrNWnsMGoZ1np6zL5tb59YfZghw7AUn4MjqEfpo1rTbgsVZD0vm3w1l4Hvi9637BBN827mML6uEf5ULuC_aLyxVqM0Vbwe-qRBZpGKG-DC1pIGkNkDi57vzy8BFfdvsUeR32zjfTdOOoBwvZfCUEOqcRxnk8uRAatOpguIc95cHb9EXole611axapBDpaQIvitVuuZnrUrVApIVtBtxfbzQ&#34; rel=&#34;nofollow&#34; target=&#34;_blank&#34;&gt;Buy this book ›&lt;/a&gt;&lt;/div&gt;\n&lt;/div&gt;\n&lt;/li&gt;\n&lt;/ul&gt;\n&lt;/div&gt;\n&lt;/div&gt;&lt;!--page--&gt;\n&lt;footer&gt;\n&lt;ul&gt;\n&lt;li&gt;Copyright © 2008-2023 &lt;a href=&#34;/&#34;&gt;ISBNsearch.org&lt;/a&gt;&lt;/li&gt;\n&lt;li&gt;&lt;a href=&#34;/privacy&#34;&gt;Privacy&lt;/a&gt;&lt;/li&gt;\n&lt;/ul&gt;\n&lt;p class=&#34;note&#34;&gt;This website is an independent service and is not affiliated with The International ISBN Agency Limited or any other national ISBN registration agency.&lt;/p&gt;\n&lt;/footer&gt;\n&lt;script src=&#34;https://ajax.googleapis.com/ajax/libs/jquery/3.2.1/jquery.min.js&#34;&gt;&lt;/script&gt;\n&lt;script src=&#34;/js/tips.js&#34; type=&#34;text/javascript&#34;&gt;&lt;/script&gt;\n&lt;/body&gt;\n&lt;/html&gt;</div>",
       "datasetInfos": [],
       "metadata": {},
       "removedWidgets": [],
       "type": "html"
      }
     },
     "output_type": "display_data"
    }
   ],
   "source": [
    "soup"
   ]
  },
  {
   "cell_type": "code",
   "execution_count": 0,
   "metadata": {
    "application/vnd.databricks.v1+cell": {
     "cellMetadata": {
      "byteLimit": 2048000,
      "rowLimit": 10000
     },
     "inputWidgets": {},
     "nuid": "cb443034-3334-4dab-b947-49021b2cdc35",
     "showTitle": false,
     "title": ""
    }
   },
   "outputs": [
    {
     "output_type": "display_data",
     "data": {
      "text/html": [
       "<style scoped>\n",
       "  .ansiout {\n",
       "    display: block;\n",
       "    unicode-bidi: embed;\n",
       "    white-space: pre-wrap;\n",
       "    word-wrap: break-word;\n",
       "    word-break: break-all;\n",
       "    font-family: \"Source Code Pro\", \"Menlo\", monospace;;\n",
       "    font-size: 13px;\n",
       "    color: #555;\n",
       "    margin-left: 4px;\n",
       "    line-height: 19px;\n",
       "  }\n",
       "</style>\n",
       "<div class=\"ansiout\">Out[42]: &lt;div class=&#34;image&#34;&gt;\n",
       "&lt;img alt=&#34;First 100 Pretty Pink Words&#34; src=&#34;https://images.isbndb.com/covers/18/35/9781783931835.jpg&#34;/&gt;\n",
       "&lt;/div&gt;</div>"
      ]
     },
     "metadata": {
      "application/vnd.databricks.v1+output": {
       "addedWidgets": {},
       "arguments": {},
       "data": "<div class=\"ansiout\">Out[42]: &lt;div class=&#34;image&#34;&gt;\n&lt;img alt=&#34;First 100 Pretty Pink Words&#34; src=&#34;https://images.isbndb.com/covers/18/35/9781783931835.jpg&#34;/&gt;\n&lt;/div&gt;</div>",
       "datasetInfos": [],
       "metadata": {},
       "removedWidgets": [],
       "type": "html"
      }
     },
     "output_type": "display_data"
    }
   ],
   "source": [
    "pic = soup.find(\"div\", attrs={'class':'image'})\n",
    "pic"
   ]
  },
  {
   "cell_type": "code",
   "execution_count": 0,
   "metadata": {
    "application/vnd.databricks.v1+cell": {
     "cellMetadata": {
      "byteLimit": 2048000,
      "rowLimit": 10000
     },
     "inputWidgets": {},
     "nuid": "48aa9350-6ec0-4925-8657-caeb397f5f3e",
     "showTitle": false,
     "title": ""
    }
   },
   "outputs": [
    {
     "output_type": "display_data",
     "data": {
      "text/html": [
       "<style scoped>\n",
       "  .ansiout {\n",
       "    display: block;\n",
       "    unicode-bidi: embed;\n",
       "    white-space: pre-wrap;\n",
       "    word-wrap: break-word;\n",
       "    word-break: break-all;\n",
       "    font-family: \"Source Code Pro\", \"Menlo\", monospace;;\n",
       "    font-size: 13px;\n",
       "    color: #555;\n",
       "    margin-left: 4px;\n",
       "    line-height: 19px;\n",
       "  }\n",
       "</style>\n",
       "<div class=\"ansiout\">Out[35]: &#39;https://images.isbndb.com/covers/18/35/9781783931835.jpg&#39;</div>"
      ]
     },
     "metadata": {
      "application/vnd.databricks.v1+output": {
       "addedWidgets": {},
       "arguments": {},
       "data": "<div class=\"ansiout\">Out[35]: &#39;https://images.isbndb.com/covers/18/35/9781783931835.jpg&#39;</div>",
       "datasetInfos": [],
       "metadata": {},
       "removedWidgets": [],
       "type": "html"
      }
     },
     "output_type": "display_data"
    }
   ],
   "source": [
    "pic.img.get('src')"
   ]
  },
  {
   "cell_type": "code",
   "execution_count": 0,
   "metadata": {
    "application/vnd.databricks.v1+cell": {
     "cellMetadata": {
      "byteLimit": 2048000,
      "rowLimit": 10000
     },
     "inputWidgets": {},
     "nuid": "920bab1c-f807-4744-b880-9287eee7890d",
     "showTitle": false,
     "title": ""
    }
   },
   "outputs": [
    {
     "output_type": "display_data",
     "data": {
      "text/html": [
       "<style scoped>\n",
       "  .ansiout {\n",
       "    display: block;\n",
       "    unicode-bidi: embed;\n",
       "    white-space: pre-wrap;\n",
       "    word-wrap: break-word;\n",
       "    word-break: break-all;\n",
       "    font-family: \"Source Code Pro\", \"Menlo\", monospace;;\n",
       "    font-size: 13px;\n",
       "    color: #555;\n",
       "    margin-left: 4px;\n",
       "    line-height: 19px;\n",
       "  }\n",
       "</style>\n",
       "<div class=\"ansiout\"></div>"
      ]
     },
     "metadata": {
      "application/vnd.databricks.v1+output": {
       "addedWidgets": {},
       "arguments": {},
       "data": "<div class=\"ansiout\"></div>",
       "datasetInfos": [],
       "metadata": {},
       "removedWidgets": [],
       "type": "html"
      }
     },
     "output_type": "display_data"
    },
    {
     "output_type": "display_data",
     "data": {
      "text/html": [
       "<style scoped>\n",
       "  .ansiout {\n",
       "    display: block;\n",
       "    unicode-bidi: embed;\n",
       "    white-space: pre-wrap;\n",
       "    word-wrap: break-word;\n",
       "    word-break: break-all;\n",
       "    font-family: \"Source Code Pro\", \"Menlo\", monospace;;\n",
       "    font-size: 13px;\n",
       "    color: #555;\n",
       "    margin-left: 4px;\n",
       "    line-height: 19px;\n",
       "  }\n",
       "</style>\n",
       "<div class=\"ansiout\"><span class=\"ansi-red-fg\">---------------------------------------------------------------------------</span>\n",
       "<span class=\"ansi-red-fg\">JSONDecodeError</span>                           Traceback (most recent call last)\n",
       "<span class=\"ansi-green-fg\">&lt;command-2853797146886822&gt;</span> in <span class=\"ansi-cyan-fg\">&lt;module&gt;</span>\n",
       "<span class=\"ansi-green-intense-fg ansi-bold\">      1</span> imgs_str <span class=\"ansi-blue-fg\">=</span> pic<span class=\"ansi-blue-fg\">.</span>img<span class=\"ansi-blue-fg\">.</span>get<span class=\"ansi-blue-fg\">(</span><span class=\"ansi-blue-fg\">&#39;src&#39;</span><span class=\"ansi-blue-fg\">)</span>\n",
       "<span class=\"ansi-green-fg\">----&gt; 2</span><span class=\"ansi-red-fg\"> </span>imgs_dict <span class=\"ansi-blue-fg\">=</span> json<span class=\"ansi-blue-fg\">.</span>loads<span class=\"ansi-blue-fg\">(</span>imgs_str<span class=\"ansi-blue-fg\">)</span>\n",
       "<span class=\"ansi-green-intense-fg ansi-bold\">      3</span> num_element <span class=\"ansi-blue-fg\">=</span> <span class=\"ansi-cyan-fg\">0</span>\n",
       "<span class=\"ansi-green-intense-fg ansi-bold\">      4</span> first_link <span class=\"ansi-blue-fg\">=</span> list<span class=\"ansi-blue-fg\">(</span>imgs_dict<span class=\"ansi-blue-fg\">.</span>keys<span class=\"ansi-blue-fg\">(</span><span class=\"ansi-blue-fg\">)</span><span class=\"ansi-blue-fg\">)</span><span class=\"ansi-blue-fg\">[</span>num_element<span class=\"ansi-blue-fg\">]</span>\n",
       "\n",
       "<span class=\"ansi-green-fg\">/usr/lib/python3.8/json/__init__.py</span> in <span class=\"ansi-cyan-fg\">loads</span><span class=\"ansi-blue-fg\">(s, cls, object_hook, parse_float, parse_int, parse_constant, object_pairs_hook, **kw)</span>\n",
       "<span class=\"ansi-green-intense-fg ansi-bold\">    355</span>             parse_int <span class=\"ansi-green-fg\">is</span> <span class=\"ansi-green-fg\">None</span> <span class=\"ansi-green-fg\">and</span> parse_float <span class=\"ansi-green-fg\">is</span> <span class=\"ansi-green-fg\">None</span> <span class=\"ansi-green-fg\">and</span>\n",
       "<span class=\"ansi-green-intense-fg ansi-bold\">    356</span>             parse_constant is None and object_pairs_hook is None and not kw):\n",
       "<span class=\"ansi-green-fg\">--&gt; 357</span><span class=\"ansi-red-fg\">         </span><span class=\"ansi-green-fg\">return</span> _default_decoder<span class=\"ansi-blue-fg\">.</span>decode<span class=\"ansi-blue-fg\">(</span>s<span class=\"ansi-blue-fg\">)</span>\n",
       "<span class=\"ansi-green-intense-fg ansi-bold\">    358</span>     <span class=\"ansi-green-fg\">if</span> cls <span class=\"ansi-green-fg\">is</span> <span class=\"ansi-green-fg\">None</span><span class=\"ansi-blue-fg\">:</span>\n",
       "<span class=\"ansi-green-intense-fg ansi-bold\">    359</span>         cls <span class=\"ansi-blue-fg\">=</span> JSONDecoder\n",
       "\n",
       "<span class=\"ansi-green-fg\">/usr/lib/python3.8/json/decoder.py</span> in <span class=\"ansi-cyan-fg\">decode</span><span class=\"ansi-blue-fg\">(self, s, _w)</span>\n",
       "<span class=\"ansi-green-intense-fg ansi-bold\">    335</span> \n",
       "<span class=\"ansi-green-intense-fg ansi-bold\">    336</span>         &#34;&#34;&#34;\n",
       "<span class=\"ansi-green-fg\">--&gt; 337</span><span class=\"ansi-red-fg\">         </span>obj<span class=\"ansi-blue-fg\">,</span> end <span class=\"ansi-blue-fg\">=</span> self<span class=\"ansi-blue-fg\">.</span>raw_decode<span class=\"ansi-blue-fg\">(</span>s<span class=\"ansi-blue-fg\">,</span> idx<span class=\"ansi-blue-fg\">=</span>_w<span class=\"ansi-blue-fg\">(</span>s<span class=\"ansi-blue-fg\">,</span> <span class=\"ansi-cyan-fg\">0</span><span class=\"ansi-blue-fg\">)</span><span class=\"ansi-blue-fg\">.</span>end<span class=\"ansi-blue-fg\">(</span><span class=\"ansi-blue-fg\">)</span><span class=\"ansi-blue-fg\">)</span>\n",
       "<span class=\"ansi-green-intense-fg ansi-bold\">    338</span>         end <span class=\"ansi-blue-fg\">=</span> _w<span class=\"ansi-blue-fg\">(</span>s<span class=\"ansi-blue-fg\">,</span> end<span class=\"ansi-blue-fg\">)</span><span class=\"ansi-blue-fg\">.</span>end<span class=\"ansi-blue-fg\">(</span><span class=\"ansi-blue-fg\">)</span>\n",
       "<span class=\"ansi-green-intense-fg ansi-bold\">    339</span>         <span class=\"ansi-green-fg\">if</span> end <span class=\"ansi-blue-fg\">!=</span> len<span class=\"ansi-blue-fg\">(</span>s<span class=\"ansi-blue-fg\">)</span><span class=\"ansi-blue-fg\">:</span>\n",
       "\n",
       "<span class=\"ansi-green-fg\">/usr/lib/python3.8/json/decoder.py</span> in <span class=\"ansi-cyan-fg\">raw_decode</span><span class=\"ansi-blue-fg\">(self, s, idx)</span>\n",
       "<span class=\"ansi-green-intense-fg ansi-bold\">    353</span>             obj<span class=\"ansi-blue-fg\">,</span> end <span class=\"ansi-blue-fg\">=</span> self<span class=\"ansi-blue-fg\">.</span>scan_once<span class=\"ansi-blue-fg\">(</span>s<span class=\"ansi-blue-fg\">,</span> idx<span class=\"ansi-blue-fg\">)</span>\n",
       "<span class=\"ansi-green-intense-fg ansi-bold\">    354</span>         <span class=\"ansi-green-fg\">except</span> StopIteration <span class=\"ansi-green-fg\">as</span> err<span class=\"ansi-blue-fg\">:</span>\n",
       "<span class=\"ansi-green-fg\">--&gt; 355</span><span class=\"ansi-red-fg\">             </span><span class=\"ansi-green-fg\">raise</span> JSONDecodeError<span class=\"ansi-blue-fg\">(</span><span class=\"ansi-blue-fg\">&#34;Expecting value&#34;</span><span class=\"ansi-blue-fg\">,</span> s<span class=\"ansi-blue-fg\">,</span> err<span class=\"ansi-blue-fg\">.</span>value<span class=\"ansi-blue-fg\">)</span> <span class=\"ansi-green-fg\">from</span> <span class=\"ansi-green-fg\">None</span>\n",
       "<span class=\"ansi-green-intense-fg ansi-bold\">    356</span>         <span class=\"ansi-green-fg\">return</span> obj<span class=\"ansi-blue-fg\">,</span> end\n",
       "\n",
       "<span class=\"ansi-red-fg\">JSONDecodeError</span>: Expecting value: line 1 column 1 (char 0)</div>"
      ]
     },
     "metadata": {
      "application/vnd.databricks.v1+output": {
       "arguments": {},
       "data": "<div class=\"ansiout\"><span class=\"ansi-red-fg\">---------------------------------------------------------------------------</span>\n<span class=\"ansi-red-fg\">JSONDecodeError</span>                           Traceback (most recent call last)\n<span class=\"ansi-green-fg\">&lt;command-2853797146886822&gt;</span> in <span class=\"ansi-cyan-fg\">&lt;module&gt;</span>\n<span class=\"ansi-green-intense-fg ansi-bold\">      1</span> imgs_str <span class=\"ansi-blue-fg\">=</span> pic<span class=\"ansi-blue-fg\">.</span>img<span class=\"ansi-blue-fg\">.</span>get<span class=\"ansi-blue-fg\">(</span><span class=\"ansi-blue-fg\">&#39;src&#39;</span><span class=\"ansi-blue-fg\">)</span>\n<span class=\"ansi-green-fg\">----&gt; 2</span><span class=\"ansi-red-fg\"> </span>imgs_dict <span class=\"ansi-blue-fg\">=</span> json<span class=\"ansi-blue-fg\">.</span>loads<span class=\"ansi-blue-fg\">(</span>imgs_str<span class=\"ansi-blue-fg\">)</span>\n<span class=\"ansi-green-intense-fg ansi-bold\">      3</span> num_element <span class=\"ansi-blue-fg\">=</span> <span class=\"ansi-cyan-fg\">0</span>\n<span class=\"ansi-green-intense-fg ansi-bold\">      4</span> first_link <span class=\"ansi-blue-fg\">=</span> list<span class=\"ansi-blue-fg\">(</span>imgs_dict<span class=\"ansi-blue-fg\">.</span>keys<span class=\"ansi-blue-fg\">(</span><span class=\"ansi-blue-fg\">)</span><span class=\"ansi-blue-fg\">)</span><span class=\"ansi-blue-fg\">[</span>num_element<span class=\"ansi-blue-fg\">]</span>\n\n<span class=\"ansi-green-fg\">/usr/lib/python3.8/json/__init__.py</span> in <span class=\"ansi-cyan-fg\">loads</span><span class=\"ansi-blue-fg\">(s, cls, object_hook, parse_float, parse_int, parse_constant, object_pairs_hook, **kw)</span>\n<span class=\"ansi-green-intense-fg ansi-bold\">    355</span>             parse_int <span class=\"ansi-green-fg\">is</span> <span class=\"ansi-green-fg\">None</span> <span class=\"ansi-green-fg\">and</span> parse_float <span class=\"ansi-green-fg\">is</span> <span class=\"ansi-green-fg\">None</span> <span class=\"ansi-green-fg\">and</span>\n<span class=\"ansi-green-intense-fg ansi-bold\">    356</span>             parse_constant is None and object_pairs_hook is None and not kw):\n<span class=\"ansi-green-fg\">--&gt; 357</span><span class=\"ansi-red-fg\">         </span><span class=\"ansi-green-fg\">return</span> _default_decoder<span class=\"ansi-blue-fg\">.</span>decode<span class=\"ansi-blue-fg\">(</span>s<span class=\"ansi-blue-fg\">)</span>\n<span class=\"ansi-green-intense-fg ansi-bold\">    358</span>     <span class=\"ansi-green-fg\">if</span> cls <span class=\"ansi-green-fg\">is</span> <span class=\"ansi-green-fg\">None</span><span class=\"ansi-blue-fg\">:</span>\n<span class=\"ansi-green-intense-fg ansi-bold\">    359</span>         cls <span class=\"ansi-blue-fg\">=</span> JSONDecoder\n\n<span class=\"ansi-green-fg\">/usr/lib/python3.8/json/decoder.py</span> in <span class=\"ansi-cyan-fg\">decode</span><span class=\"ansi-blue-fg\">(self, s, _w)</span>\n<span class=\"ansi-green-intense-fg ansi-bold\">    335</span> \n<span class=\"ansi-green-intense-fg ansi-bold\">    336</span>         &#34;&#34;&#34;\n<span class=\"ansi-green-fg\">--&gt; 337</span><span class=\"ansi-red-fg\">         </span>obj<span class=\"ansi-blue-fg\">,</span> end <span class=\"ansi-blue-fg\">=</span> self<span class=\"ansi-blue-fg\">.</span>raw_decode<span class=\"ansi-blue-fg\">(</span>s<span class=\"ansi-blue-fg\">,</span> idx<span class=\"ansi-blue-fg\">=</span>_w<span class=\"ansi-blue-fg\">(</span>s<span class=\"ansi-blue-fg\">,</span> <span class=\"ansi-cyan-fg\">0</span><span class=\"ansi-blue-fg\">)</span><span class=\"ansi-blue-fg\">.</span>end<span class=\"ansi-blue-fg\">(</span><span class=\"ansi-blue-fg\">)</span><span class=\"ansi-blue-fg\">)</span>\n<span class=\"ansi-green-intense-fg ansi-bold\">    338</span>         end <span class=\"ansi-blue-fg\">=</span> _w<span class=\"ansi-blue-fg\">(</span>s<span class=\"ansi-blue-fg\">,</span> end<span class=\"ansi-blue-fg\">)</span><span class=\"ansi-blue-fg\">.</span>end<span class=\"ansi-blue-fg\">(</span><span class=\"ansi-blue-fg\">)</span>\n<span class=\"ansi-green-intense-fg ansi-bold\">    339</span>         <span class=\"ansi-green-fg\">if</span> end <span class=\"ansi-blue-fg\">!=</span> len<span class=\"ansi-blue-fg\">(</span>s<span class=\"ansi-blue-fg\">)</span><span class=\"ansi-blue-fg\">:</span>\n\n<span class=\"ansi-green-fg\">/usr/lib/python3.8/json/decoder.py</span> in <span class=\"ansi-cyan-fg\">raw_decode</span><span class=\"ansi-blue-fg\">(self, s, idx)</span>\n<span class=\"ansi-green-intense-fg ansi-bold\">    353</span>             obj<span class=\"ansi-blue-fg\">,</span> end <span class=\"ansi-blue-fg\">=</span> self<span class=\"ansi-blue-fg\">.</span>scan_once<span class=\"ansi-blue-fg\">(</span>s<span class=\"ansi-blue-fg\">,</span> idx<span class=\"ansi-blue-fg\">)</span>\n<span class=\"ansi-green-intense-fg ansi-bold\">    354</span>         <span class=\"ansi-green-fg\">except</span> StopIteration <span class=\"ansi-green-fg\">as</span> err<span class=\"ansi-blue-fg\">:</span>\n<span class=\"ansi-green-fg\">--&gt; 355</span><span class=\"ansi-red-fg\">             </span><span class=\"ansi-green-fg\">raise</span> JSONDecodeError<span class=\"ansi-blue-fg\">(</span><span class=\"ansi-blue-fg\">&#34;Expecting value&#34;</span><span class=\"ansi-blue-fg\">,</span> s<span class=\"ansi-blue-fg\">,</span> err<span class=\"ansi-blue-fg\">.</span>value<span class=\"ansi-blue-fg\">)</span> <span class=\"ansi-green-fg\">from</span> <span class=\"ansi-green-fg\">None</span>\n<span class=\"ansi-green-intense-fg ansi-bold\">    356</span>         <span class=\"ansi-green-fg\">return</span> obj<span class=\"ansi-blue-fg\">,</span> end\n\n<span class=\"ansi-red-fg\">JSONDecodeError</span>: Expecting value: line 1 column 1 (char 0)</div>",
       "errorSummary": "<span class=\"ansi-red-fg\">JSONDecodeError</span>: Expecting value: line 1 column 1 (char 0)",
       "errorTraceType": "html",
       "metadata": {},
       "type": "ipynbError"
      }
     },
     "output_type": "display_data"
    }
   ],
   "source": [
    "imgs_str = pic.img.get('src')\n",
    "# imgs_dict = json.loads(imgs_str)\n",
    "# num_element = 0 \n",
    "# first_link = list(imgs_dict.keys())[num_element]"
   ]
  },
  {
   "cell_type": "code",
   "execution_count": 0,
   "metadata": {
    "application/vnd.databricks.v1+cell": {
     "cellMetadata": {
      "byteLimit": 2048000,
      "rowLimit": 10000
     },
     "inputWidgets": {},
     "nuid": "de1a1a44-0c67-4d4d-b4d8-759ca18f1769",
     "showTitle": false,
     "title": ""
    }
   },
   "outputs": [
    {
     "output_type": "display_data",
     "data": {
      "text/html": [
       "<style scoped>\n",
       "  .ansiout {\n",
       "    display: block;\n",
       "    unicode-bidi: embed;\n",
       "    white-space: pre-wrap;\n",
       "    word-wrap: break-word;\n",
       "    word-break: break-all;\n",
       "    font-family: \"Source Code Pro\", \"Menlo\", monospace;;\n",
       "    font-size: 13px;\n",
       "    color: #555;\n",
       "    margin-left: 4px;\n",
       "    line-height: 19px;\n",
       "  }\n",
       "</style>\n",
       "<div class=\"ansiout\">Out[37]: </div>"
      ]
     },
     "metadata": {
      "application/vnd.databricks.v1+output": {
       "addedWidgets": {},
       "arguments": {},
       "data": "<div class=\"ansiout\">Out[37]: </div>",
       "datasetInfos": [],
       "metadata": {},
       "removedWidgets": [],
       "type": "html"
      }
     },
     "output_type": "display_data"
    },
    {
     "output_type": "display_data",
     "data": {
      "text/html": [
       "<img src=\"https://images.isbndb.com/covers/18/35/9781783931835.jpg\"/>"
      ]
     },
     "metadata": {
      "application/vnd.databricks.v1+output": {
       "addedWidgets": {},
       "arguments": {},
       "data": "<img src=\"https://images.isbndb.com/covers/18/35/9781783931835.jpg\"/>",
       "datasetInfos": [],
       "metadata": {},
       "removedWidgets": [],
       "textData": null,
       "type": "htmlSandbox"
      }
     },
     "output_type": "display_data"
    }
   ],
   "source": [
    "Image(url= imgs_str)"
   ]
  },
  {
   "cell_type": "code",
   "execution_count": 0,
   "metadata": {
    "application/vnd.databricks.v1+cell": {
     "cellMetadata": {
      "byteLimit": 2048000,
      "rowLimit": 10000
     },
     "inputWidgets": {},
     "nuid": "d9aaca73-53bd-44c8-b3d6-1cdf09805754",
     "showTitle": false,
     "title": ""
    }
   },
   "outputs": [
    {
     "output_type": "display_data",
     "data": {
      "text/html": [
       "<style scoped>\n",
       "  .ansiout {\n",
       "    display: block;\n",
       "    unicode-bidi: embed;\n",
       "    white-space: pre-wrap;\n",
       "    word-wrap: break-word;\n",
       "    word-break: break-all;\n",
       "    font-family: \"Source Code Pro\", \"Menlo\", monospace;;\n",
       "    font-size: 13px;\n",
       "    color: #555;\n",
       "    margin-left: 4px;\n",
       "    line-height: 19px;\n",
       "  }\n",
       "</style>"
      ]
     },
     "metadata": {
      "application/vnd.databricks.v1+output": {
       "arguments": {},
       "data": "",
       "errorSummary": "Command skipped",
       "errorTraceType": "html",
       "metadata": {},
       "type": "ipynbError"
      }
     },
     "output_type": "display_data"
    }
   ],
   "source": [
    "response = requests.get(first_link)\n",
    "img = Image.open(BytesIO(response.content))"
   ]
  },
  {
   "cell_type": "code",
   "execution_count": 0,
   "metadata": {
    "application/vnd.databricks.v1+cell": {
     "cellMetadata": {
      "byteLimit": 2048000,
      "rowLimit": 10000
     },
     "inputWidgets": {},
     "nuid": "c289ded2-a3ac-45d2-8e8b-123777a85f6d",
     "showTitle": false,
     "title": ""
    }
   },
   "outputs": [
    {
     "output_type": "display_data",
     "data": {
      "text/html": [
       "<style scoped>\n",
       "  .ansiout {\n",
       "    display: block;\n",
       "    unicode-bidi: embed;\n",
       "    white-space: pre-wrap;\n",
       "    word-wrap: break-word;\n",
       "    word-break: break-all;\n",
       "    font-family: \"Source Code Pro\", \"Menlo\", monospace;;\n",
       "    font-size: 13px;\n",
       "    color: #555;\n",
       "    margin-left: 4px;\n",
       "    line-height: 19px;\n",
       "  }\n",
       "</style>"
      ]
     },
     "metadata": {
      "application/vnd.databricks.v1+output": {
       "arguments": {},
       "data": "",
       "errorSummary": "Command skipped",
       "errorTraceType": "html",
       "metadata": {},
       "type": "ipynbError"
      }
     },
     "output_type": "display_data"
    }
   ],
   "source": [
    "productdetail = soup.find_all(\"div\", attrs={'id':'detailBulletsWrapper_feature_div'})\n",
    "productdetail"
   ]
  }
 ],
 "metadata": {
  "application/vnd.databricks.v1+notebook": {
   "dashboards": [],
   "language": "python",
   "notebookMetadata": {
    "pythonIndentUnit": 4
   },
   "notebookName": "web scraping for one image",
   "notebookOrigID": 2853797146886807,
   "widgets": {}
  }
 },
 "nbformat": 4,
 "nbformat_minor": 0
}
